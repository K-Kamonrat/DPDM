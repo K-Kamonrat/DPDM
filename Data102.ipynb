{
  "nbformat": 4,
  "nbformat_minor": 0,
  "metadata": {
    "colab": {
      "name": "Data102.ipynb",
      "provenance": [],
      "authorship_tag": "ABX9TyM0REZ0lCzTFGXaWkabY1tE",
      "include_colab_link": true
    },
    "kernelspec": {
      "name": "python3",
      "display_name": "Python 3"
    }
  },
  "cells": [
    {
      "cell_type": "markdown",
      "metadata": {
        "id": "view-in-github",
        "colab_type": "text"
      },
      "source": [
        "<a href=\"https://colab.research.google.com/github/K-Kamonrat/DPDM/blob/master/Data102.ipynb\" target=\"_parent\"><img src=\"https://colab.research.google.com/assets/colab-badge.svg\" alt=\"Open In Colab\"/></a>"
      ]
    },
    {
      "cell_type": "code",
      "metadata": {
        "id": "h54miSzccwvO",
        "colab_type": "code",
        "colab": {
          "base_uri": "https://localhost:8080/",
          "height": 122
        },
        "outputId": "cc656091-e989-4d81-eb30-92f2fd11bff2"
      },
      "source": [
        "from google.colab import drive\n",
        "drive.mount('/content/drive')"
      ],
      "execution_count": 1,
      "outputs": [
        {
          "output_type": "stream",
          "text": [
            "Go to this URL in a browser: https://accounts.google.com/o/oauth2/auth?client_id=947318989803-6bn6qk8qdgf4n4g3pfee6491hc0brc4i.apps.googleusercontent.com&redirect_uri=urn%3aietf%3awg%3aoauth%3a2.0%3aoob&scope=email%20https%3a%2f%2fwww.googleapis.com%2fauth%2fdocs.test%20https%3a%2f%2fwww.googleapis.com%2fauth%2fdrive%20https%3a%2f%2fwww.googleapis.com%2fauth%2fdrive.photos.readonly%20https%3a%2f%2fwww.googleapis.com%2fauth%2fpeopleapi.readonly&response_type=code\n",
            "\n",
            "Enter your authorization code:\n",
            "··········\n",
            "Mounted at /content/drive\n"
          ],
          "name": "stdout"
        }
      ]
    },
    {
      "cell_type": "code",
      "metadata": {
        "id": "PQ-dC_-8er4v",
        "colab_type": "code",
        "colab": {
          "base_uri": "https://localhost:8080/",
          "height": 204
        },
        "outputId": "4406124a-2654-4659-d208-8cf01f158be6"
      },
      "source": [
        "# import os for file manipulation\n",
        "import os \n",
        "# import pandas for tabular or dataframe managment\n",
        "import pandas as pd\n",
        "# create variable for path to the folder that stores our file\n",
        "base_path =  '/content/drive/My Drive/DWDM_material'\n",
        "# load data from test.csv to data\n",
        "data = pd.read_csv(os.path.join(base_path,'test.csv'))\n",
        "# show head of the data table which is dowloaded\n",
        "data.head()"
      ],
      "execution_count": 3,
      "outputs": [
        {
          "output_type": "execute_result",
          "data": {
            "text/html": [
              "<div>\n",
              "<style scoped>\n",
              "    .dataframe tbody tr th:only-of-type {\n",
              "        vertical-align: middle;\n",
              "    }\n",
              "\n",
              "    .dataframe tbody tr th {\n",
              "        vertical-align: top;\n",
              "    }\n",
              "\n",
              "    .dataframe thead th {\n",
              "        text-align: right;\n",
              "    }\n",
              "</style>\n",
              "<table border=\"1\" class=\"dataframe\">\n",
              "  <thead>\n",
              "    <tr style=\"text-align: right;\">\n",
              "      <th></th>\n",
              "      <th>Unnamed: 0</th>\n",
              "      <th>x</th>\n",
              "      <th>y</th>\n",
              "    </tr>\n",
              "  </thead>\n",
              "  <tbody>\n",
              "    <tr>\n",
              "      <th>0</th>\n",
              "      <td>0</td>\n",
              "      <td>55.3846</td>\n",
              "      <td>97.1795</td>\n",
              "    </tr>\n",
              "    <tr>\n",
              "      <th>1</th>\n",
              "      <td>1</td>\n",
              "      <td>51.5385</td>\n",
              "      <td>96.0256</td>\n",
              "    </tr>\n",
              "    <tr>\n",
              "      <th>2</th>\n",
              "      <td>2</td>\n",
              "      <td>46.1538</td>\n",
              "      <td>94.4872</td>\n",
              "    </tr>\n",
              "    <tr>\n",
              "      <th>3</th>\n",
              "      <td>3</td>\n",
              "      <td>42.8205</td>\n",
              "      <td>91.4103</td>\n",
              "    </tr>\n",
              "    <tr>\n",
              "      <th>4</th>\n",
              "      <td>4</td>\n",
              "      <td>40.7692</td>\n",
              "      <td>88.3333</td>\n",
              "    </tr>\n",
              "  </tbody>\n",
              "</table>\n",
              "</div>"
            ],
            "text/plain": [
              "   Unnamed: 0        x        y\n",
              "0           0  55.3846  97.1795\n",
              "1           1  51.5385  96.0256\n",
              "2           2  46.1538  94.4872\n",
              "3           3  42.8205  91.4103\n",
              "4           4  40.7692  88.3333"
            ]
          },
          "metadata": {
            "tags": []
          },
          "execution_count": 3
        }
      ]
    },
    {
      "cell_type": "markdown",
      "metadata": {
        "id": "8JnjkW3Lhu0a",
        "colab_type": "text"
      },
      "source": [
        "# Boxplot"
      ]
    },
    {
      "cell_type": "code",
      "metadata": {
        "id": "2BbyDJBehtNG",
        "colab_type": "code",
        "colab": {}
      },
      "source": [
        "# import libraly pyplot มาเพื่อวาดกราฟ\n",
        "from matplotlib import pyplot as plt"
      ],
      "execution_count": 4,
      "outputs": []
    },
    {
      "cell_type": "code",
      "metadata": {
        "id": "ryYtij1ulMY4",
        "colab_type": "code",
        "colab": {
          "base_uri": "https://localhost:8080/",
          "height": 401
        },
        "outputId": "9f98e99a-0513-46cb-e3bc-359f89f53b52"
      },
      "source": [
        "plt.boxplot(data['x'])"
      ],
      "execution_count": 5,
      "outputs": [
        {
          "output_type": "execute_result",
          "data": {
            "text/plain": [
              "{'boxes': [<matplotlib.lines.Line2D at 0x7f17fbeeda90>],\n",
              " 'caps': [<matplotlib.lines.Line2D at 0x7f17fbe864e0>,\n",
              "  <matplotlib.lines.Line2D at 0x7f17fbe86860>],\n",
              " 'fliers': [<matplotlib.lines.Line2D at 0x7f17fbe86f60>],\n",
              " 'means': [],\n",
              " 'medians': [<matplotlib.lines.Line2D at 0x7f17fbe86be0>],\n",
              " 'whiskers': [<matplotlib.lines.Line2D at 0x7f17fbeedda0>,\n",
              "  <matplotlib.lines.Line2D at 0x7f17fbe86160>]}"
            ]
          },
          "metadata": {
            "tags": []
          },
          "execution_count": 5
        },
        {
          "output_type": "display_data",
          "data": {
            "image/png": "[encoded data removed]",
            "text/plain": [
              "<Figure size 432x288 with 1 Axes>"
            ]
          },
          "metadata": {
            "tags": [],
            "needs_background": "light"
          }
        }
      ]
    },
    {
      "cell_type": "code",
      "metadata": {
        "id": "nClZTyUalTih",
        "colab_type": "code",
        "colab": {
          "base_uri": "https://localhost:8080/",
          "height": 401
        },
        "outputId": "1832bdbf-def3-4ed5-f361-73a5b43c656c"
      },
      "source": [
        "plt.boxplot(data['x'],showmeans=True)"
      ],
      "execution_count": 8,
      "outputs": [
        {
          "output_type": "execute_result",
          "data": {
            "text/plain": [
              "{'boxes': [<matplotlib.lines.Line2D at 0x7f17fb9e5fd0>],\n",
              " 'caps': [<matplotlib.lines.Line2D at 0x7f17fb975a20>,\n",
              "  <matplotlib.lines.Line2D at 0x7f17fb975da0>],\n",
              " 'fliers': [<matplotlib.lines.Line2D at 0x7f17fb97e828>],\n",
              " 'means': [<matplotlib.lines.Line2D at 0x7f17fb97e4e0>],\n",
              " 'medians': [<matplotlib.lines.Line2D at 0x7f17fb97e160>],\n",
              " 'whiskers': [<matplotlib.lines.Line2D at 0x7f17fb975320>,\n",
              "  <matplotlib.lines.Line2D at 0x7f17fb9756a0>]}"
            ]
          },
          "metadata": {
            "tags": []
          },
          "execution_count": 8
        },
        {
          "output_type": "display_data",
          "data": {
            "image/png": "[encoded data removed]",
            "text/plain": [
              "<Figure size 432x288 with 1 Axes>"
            ]
          },
          "metadata": {
            "tags": [],
            "needs_background": "light"
          }
        }
      ]
    },
    {
      "cell_type": "code",
      "metadata": {
        "id": "17wwtZmwmX3x",
        "colab_type": "code",
        "colab": {
          "base_uri": "https://localhost:8080/",
          "height": 401
        },
        "outputId": "f6e5f397-d80c-4251-a16c-39ec95d3db9f"
      },
      "source": [
        "#เปลี่ยน ความยาว wisker จาก default =1.5 ให้เป็นไปตามที่เราต้องการ ใช้คำสั่ง whis(inputเป็นfloat)\n",
        "plt.boxplot(data['x'],whis=0.8)"
      ],
      "execution_count": 9,
      "outputs": [
        {
          "output_type": "execute_result",
          "data": {
            "text/plain": [
              "{'boxes': [<matplotlib.lines.Line2D at 0x7f17fb95e2b0>],\n",
              " 'caps': [<matplotlib.lines.Line2D at 0x7f17fb95ecc0>,\n",
              "  <matplotlib.lines.Line2D at 0x7f17fb8e9080>],\n",
              " 'fliers': [<matplotlib.lines.Line2D at 0x7f17fb8e9780>],\n",
              " 'means': [],\n",
              " 'medians': [<matplotlib.lines.Line2D at 0x7f17fb8e9400>],\n",
              " 'whiskers': [<matplotlib.lines.Line2D at 0x7f17fb95e5c0>,\n",
              "  <matplotlib.lines.Line2D at 0x7f17fb95e940>]}"
            ]
          },
          "metadata": {
            "tags": []
          },
          "execution_count": 9
        },
        {
          "output_type": "display_data",
          "data": {
            "image/png": "[encoded data removed]",
            "text/plain": [
              "<Figure size 432x288 with 1 Axes>"
            ]
          },
          "metadata": {
            "tags": [],
            "needs_background": "light"
          }
        }
      ]
    },
    {
      "cell_type": "code",
      "metadata": {
        "id": "24FbVqJunloB",
        "colab_type": "code",
        "colab": {
          "base_uri": "https://localhost:8080/",
          "height": 401
        },
        "outputId": "851f7451-4690-41f9-8b44-079ac9158d5f"
      },
      "source": [
        "# ปกติ box จะอยู่ในแนวตั้งคือ defalut vert = True  ถ้าอยากให้เป็นแนวนอนก็ใส่ input เป็น false\n",
        "plt.boxplot(data['x'],whis=0.8,vert=False)"
      ],
      "execution_count": 11,
      "outputs": [
        {
          "output_type": "execute_result",
          "data": {
            "text/plain": [
              "{'boxes': [<matplotlib.lines.Line2D at 0x7f17fb8c5518>],\n",
              " 'caps': [<matplotlib.lines.Line2D at 0x7f17fb8c5f28>,\n",
              "  <matplotlib.lines.Line2D at 0x7f17fb8d52e8>],\n",
              " 'fliers': [<matplotlib.lines.Line2D at 0x7f17fb8d59e8>],\n",
              " 'means': [],\n",
              " 'medians': [<matplotlib.lines.Line2D at 0x7f17fb8d5668>],\n",
              " 'whiskers': [<matplotlib.lines.Line2D at 0x7f17fb8c5828>,\n",
              "  <matplotlib.lines.Line2D at 0x7f17fb8c5ba8>]}"
            ]
          },
          "metadata": {
            "tags": []
          },
          "execution_count": 11
        },
        {
          "output_type": "display_data",
          "data": {
            "image/png": "[encoded data removed]",
            "text/plain": [
              "<Figure size 432x288 with 1 Axes>"
            ]
          },
          "metadata": {
            "tags": [],
            "needs_background": "light"
          }
        }
      ]
    },
    {
      "cell_type": "code",
      "metadata": {
        "id": "VAr4vsJxoHUv",
        "colab_type": "code",
        "colab": {
          "base_uri": "https://localhost:8080/",
          "height": 265
        },
        "outputId": "1f39df68-3f8d-4da5-e7bf-4df88b336272"
      },
      "source": [
        "#เราสามารถ return ค่าจากการ plot อกกมาได้ ในตัวอย่างนี้เก็บไว้ในตัวแปร ret\n",
        "ret = plt.boxplot(data['x'],whis=0.8,vert=False)"
      ],
      "execution_count": 15,
      "outputs": [
        {
          "output_type": "display_data",
          "data": {
            "image/png": "[encoded data removed]",
            "text/plain": [
              "<Figure size 432x288 with 1 Axes>"
            ]
          },
          "metadata": {
            "tags": [],
            "needs_background": "light"
          }
        }
      ]
    },
    {
      "cell_type": "markdown",
      "metadata": {
        "id": "GHCJ3zRPrDn5",
        "colab_type": "text"
      },
      "source": [
        "* dictiomaryใช้เก็บข้อมูล(list แต่จะระบุindexด้วยชื่อแทนที่จะระบุด้วยตำแหน่งที่เป็นตัวเลข)โดยสมาชิกข้างในมีหน้าที่ของมันเองเช่นfliersคือoutlier"
      ]
    },
    {
      "cell_type": "code",
      "metadata": {
        "id": "8l4F286VrIXz",
        "colab_type": "code",
        "colab": {
          "base_uri": "https://localhost:8080/",
          "height": 153
        },
        "outputId": "44911ea0-c1b7-4ca0-d495-a1d0cd5206c1"
      },
      "source": [
        "ret"
      ],
      "execution_count": 22,
      "outputs": [
        {
          "output_type": "execute_result",
          "data": {
            "text/plain": [
              "{'boxes': [<matplotlib.lines.Line2D at 0x7f17fb85b198>],\n",
              " 'caps': [<matplotlib.lines.Line2D at 0x7f17fb85bba8>,\n",
              "  <matplotlib.lines.Line2D at 0x7f17fb85bf28>],\n",
              " 'fliers': [<matplotlib.lines.Line2D at 0x7f17fb7e8668>],\n",
              " 'means': [],\n",
              " 'medians': [<matplotlib.lines.Line2D at 0x7f17fb7e82e8>],\n",
              " 'whiskers': [<matplotlib.lines.Line2D at 0x7f17fb85b4a8>,\n",
              "  <matplotlib.lines.Line2D at 0x7f17fb85b828>]}"
            ]
          },
          "metadata": {
            "tags": []
          },
          "execution_count": 22
        }
      ]
    },
    {
      "cell_type": "code",
      "metadata": {
        "id": "Ab3uY88ZqqIv",
        "colab_type": "code",
        "colab": {
          "base_uri": "https://localhost:8080/",
          "height": 34
        },
        "outputId": "5ee13adf-0f72-43c6-88a3-af2deaf29d98"
      },
      "source": [
        "ret['fliers']"
      ],
      "execution_count": 21,
      "outputs": [
        {
          "output_type": "execute_result",
          "data": {
            "text/plain": [
              "[<matplotlib.lines.Line2D at 0x7f17fb7e8668>]"
            ]
          },
          "metadata": {
            "tags": []
          },
          "execution_count": 21
        }
      ]
    },
    {
      "cell_type": "code",
      "metadata": {
        "id": "PPIC_GpTrK7L",
        "colab_type": "code",
        "colab": {
          "base_uri": "https://localhost:8080/",
          "height": 34
        },
        "outputId": "48ab255e-8e01-4630-d609-f933c457f326"
      },
      "source": [
        "ret['fliers'][0]"
      ],
      "execution_count": 23,
      "outputs": [
        {
          "output_type": "execute_result",
          "data": {
            "text/plain": [
              "<matplotlib.lines.Line2D at 0x7f17fb7e8668>"
            ]
          },
          "metadata": {
            "tags": []
          },
          "execution_count": 23
        }
      ]
    },
    {
      "cell_type": "code",
      "metadata": {
        "id": "tMN6Gd1TrPbo",
        "colab_type": "code",
        "colab": {
          "base_uri": "https://localhost:8080/",
          "height": 68
        },
        "outputId": "54e07b44-950f-45a0-cfac-3d717ce7a5ec"
      },
      "source": [
        "ret['fliers'][0].get_xdata() #get_xdataมันจะปริ้นข้อมูลทั้งหมดมาให้เรา #ที่ต้องxdataเพราะ ตอนนี้กราฟเราอยู่ในแนวนอนแต่ถ้าเราใช้กราฟที่เป็นdefaultต้องgetydata"
      ],
      "execution_count": 25,
      "outputs": [
        {
          "output_type": "execute_result",
          "data": {
            "text/plain": [
              "array([26.1538, 23.0769, 22.3077, 22.3077, 23.3333, 25.8974, 81.7949,\n",
              "       83.3333, 85.1282, 86.4103, 87.9487, 89.4872, 93.3333, 95.3846,\n",
              "       98.2051, 91.2821])"
            ]
          },
          "metadata": {
            "tags": []
          },
          "execution_count": 25
        }
      ]
    },
    {
      "cell_type": "code",
      "metadata": {
        "id": "pkZlWuO3rUeP",
        "colab_type": "code",
        "colab": {
          "base_uri": "https://localhost:8080/",
          "height": 34
        },
        "outputId": "7dc15f1b-7bf5-4792-ad3f-0c5737c86041"
      },
      "source": [
        "ret['whiskers'][0].get_xdata() #get_xdataของwiskerมันจะปริ้นข้อมูลที่อยู่บนหนวดมาให้เรา"
      ],
      "execution_count": 31,
      "outputs": [
        {
          "output_type": "execute_result",
          "data": {
            "text/plain": [
              "array([44.1026, 28.9744])"
            ]
          },
          "metadata": {
            "tags": []
          },
          "execution_count": 31
        }
      ]
    },
    {
      "cell_type": "code",
      "metadata": {
        "id": "9QAA3_cErtoP",
        "colab_type": "code",
        "colab": {
          "base_uri": "https://localhost:8080/",
          "height": 34
        },
        "outputId": "435eb6f5-9906-4f4f-8186-a00a594a6610"
      },
      "source": [
        "#อยากได้ข้อมูลบนควอไทล์\n",
        "ret['boxes'][0].get_xdata()"
      ],
      "execution_count": 32,
      "outputs": [
        {
          "output_type": "execute_result",
          "data": {
            "text/plain": [
              "array([44.1026, 44.1026, 64.7436, 64.7436, 44.1026])"
            ]
          },
          "metadata": {
            "tags": []
          },
          "execution_count": 32
        }
      ]
    },
    {
      "cell_type": "markdown",
      "metadata": {
        "id": "Vd-_bQW2uF2L",
        "colab_type": "text"
      },
      "source": [
        "#scatter plot\n"
      ]
    },
    {
      "cell_type": "code",
      "metadata": {
        "id": "6Z4oL369s05G",
        "colab_type": "code",
        "colab": {
          "base_uri": "https://localhost:8080/",
          "height": 282
        },
        "outputId": "c0aa9533-6d3a-4b1a-adec-b566f5d8b856"
      },
      "source": [
        "plt.scatter(data['x'],data['y'])"
      ],
      "execution_count": 33,
      "outputs": [
        {
          "output_type": "execute_result",
          "data": {
            "text/plain": [
              "<matplotlib.collections.PathCollection at 0x7f17fb909a58>"
            ]
          },
          "metadata": {
            "tags": []
          },
          "execution_count": 33
        },
        {
          "output_type": "display_data",
          "data": {
            "image/png": "[encoded data removed]",
            "text/plain": [
              "<Figure size 432x288 with 1 Axes>"
            ]
          },
          "metadata": {
            "tags": [],
            "needs_background": "light"
          }
        }
      ]
    },
    {
      "cell_type": "code",
      "metadata": {
        "id": "qWuyBswpuRvn",
        "colab_type": "code",
        "colab": {
          "base_uri": "https://localhost:8080/",
          "height": 282
        },
        "outputId": "5a09ad06-782f-4879-86da-e8b694e9c623"
      },
      "source": [
        "plt.scatter(data['x'],data['y'],s=10) #ปรับขนาดจุด(input คือ float)"
      ],
      "execution_count": 35,
      "outputs": [
        {
          "output_type": "execute_result",
          "data": {
            "text/plain": [
              "<matplotlib.collections.PathCollection at 0x7f17fb6ff518>"
            ]
          },
          "metadata": {
            "tags": []
          },
          "execution_count": 35
        },
        {
          "output_type": "display_data",
          "data": {
            "image/png": "[encoded data removed]",
            "text/plain": [
              "<Figure size 432x288 with 1 Axes>"
            ]
          },
          "metadata": {
            "tags": [],
            "needs_background": "light"
          }
        }
      ]
    },
    {
      "cell_type": "code",
      "metadata": {
        "id": "KG1TV_CNu5id",
        "colab_type": "code",
        "colab": {
          "base_uri": "https://localhost:8080/",
          "height": 282
        },
        "outputId": "f1d1d9de-d3d3-4b6d-f40c-9baf7dd0f789"
      },
      "source": [
        "plt.scatter(data['x'],data['y'],s=10,c='r') #เปลี่ยนสีจุด(input คือ 'อีกษรแทนสี')"
      ],
      "execution_count": 36,
      "outputs": [
        {
          "output_type": "execute_result",
          "data": {
            "text/plain": [
              "<matplotlib.collections.PathCollection at 0x7f17fb6e2b38>"
            ]
          },
          "metadata": {
            "tags": []
          },
          "execution_count": 36
        },
        {
          "output_type": "display_data",
          "data": {
            "image/png": "[encoded data removed]",
            "text/plain": [
              "<Figure size 432x288 with 1 Axes>"
            ]
          },
          "metadata": {
            "tags": [],
            "needs_background": "light"
          }
        }
      ]
    },
    {
      "cell_type": "code",
      "metadata": {
        "id": "oAkKTLa-vdKe",
        "colab_type": "code",
        "colab": {
          "base_uri": "https://localhost:8080/",
          "height": 282
        },
        "outputId": "14db186d-7164-48db-b97a-2796639d37ca"
      },
      "source": [
        "plt.scatter(data['x'],data['y'],s=30,c='r',marker=\"4\") #marker เปลี่ยนรูปร่างจุด"
      ],
      "execution_count": 43,
      "outputs": [
        {
          "output_type": "execute_result",
          "data": {
            "text/plain": [
              "<matplotlib.collections.PathCollection at 0x7f17fb5a5c18>"
            ]
          },
          "metadata": {
            "tags": []
          },
          "execution_count": 43
        },
        {
          "output_type": "display_data",
          "data": {
            "image/png": "[encoded data removed]",
            "text/plain": [
              "<Figure size 432x288 with 1 Axes>"
            ]
          },
          "metadata": {
            "tags": [],
            "needs_background": "light"
          }
        }
      ]
    },
    {
      "cell_type": "code",
      "metadata": {
        "id": "yXmi14f9wrJK",
        "colab_type": "code",
        "colab": {
          "base_uri": "https://localhost:8080/",
          "height": 282
        },
        "outputId": "1a97739b-2afe-421c-8c70-e83a6264c64f"
      },
      "source": [
        "plt.scatter(data['x'],data['y'],c='r',alpha=0.4) #alpha ความโปร่งแสง"
      ],
      "execution_count": 47,
      "outputs": [
        {
          "output_type": "execute_result",
          "data": {
            "text/plain": [
              "<matplotlib.collections.PathCollection at 0x7f17fb372fd0>"
            ]
          },
          "metadata": {
            "tags": []
          },
          "execution_count": 47
        },
        {
          "output_type": "display_data",
          "data": {
            "image/png": "[encoded data removed]",
            "text/plain": [
              "<Figure size 432x288 with 1 Axes>"
            ]
          },
          "metadata": {
            "tags": [],
            "needs_background": "light"
          }
        }
      ]
    },
    {
      "cell_type": "code",
      "metadata": {
        "id": "WXJzsDN8xJxi",
        "colab_type": "code",
        "colab": {
          "base_uri": "https://localhost:8080/",
          "height": 282
        },
        "outputId": "e2b338c6-98e1-4205-a429-0f7be82259c7"
      },
      "source": [
        "plt.scatter(data['x'],data['y'],c='y',alpha=0.4) #alpha ความโปร่งแสง\n",
        "plt.scatter([30,40],[60,85],s=200,c='r',alpha=0.4)"
      ],
      "execution_count": 49,
      "outputs": [
        {
          "output_type": "execute_result",
          "data": {
            "text/plain": [
              "<matplotlib.collections.PathCollection at 0x7f17fb2d6358>"
            ]
          },
          "metadata": {
            "tags": []
          },
          "execution_count": 49
        },
        {
          "output_type": "display_data",
          "data": {
            "image/png": "[encoded data removed]",
            "text/plain": [
              "<Figure size 432x288 with 1 Axes>"
            ]
          },
          "metadata": {
            "tags": [],
            "needs_background": "light"
          }
        }
      ]
    },
    {
      "cell_type": "markdown",
      "metadata": {
        "id": "0MOhTWP6x1Wl",
        "colab_type": "text"
      },
      "source": [
        "#HW plot นอ ให้ไดโนเสาร์"
      ]
    },
    {
      "cell_type": "code",
      "metadata": {
        "id": "crx1hNwLxufd",
        "colab_type": "code",
        "colab": {}
      },
      "source": [
        ""
      ],
      "execution_count": null,
      "outputs": []
    }
  ]
}