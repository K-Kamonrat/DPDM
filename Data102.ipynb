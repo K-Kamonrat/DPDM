{
  "nbformat": 4,
  "nbformat_minor": 0,
  "metadata": {
    "colab": {
      "name": "Data102.ipynb",
      "provenance": [],
      "include_colab_link": true
    },
    "kernelspec": {
      "name": "python3",
      "display_name": "Python 3"
    }
  },
  "cells": [
    {
      "cell_type": "markdown",
      "metadata": {
        "id": "view-in-github",
        "colab_type": "text"
      },
      "source": [
        "<a href=\"https://colab.research.google.com/github/K-Kamonrat/DPDM/blob/master/Data102.ipynb\" target=\"_parent\"><img src=\"https://colab.research.google.com/assets/colab-badge.svg\" alt=\"Open In Colab\"/></a>"
      ]
    },
    {
      "cell_type": "code",
      "metadata": {
        "id": "h54miSzccwvO",
        "colab_type": "code",
        "colab": {
          "base_uri": "https://localhost:8080/",
          "height": 121
        },
        "outputId": "29e09c46-abc0-434b-a290-aa3cf80a8b6b"
      },
      "source": [
        "from google.colab import drive\n",
        "drive.mount('/content/drive')"
      ],
      "execution_count": 1,
      "outputs": [
        {
          "output_type": "stream",
          "text": [
            "Go to this URL in a browser: https://accounts.google.com/o/oauth2/auth?client_id=947318989803-6bn6qk8qdgf4n4g3pfee6491hc0brc4i.apps.googleusercontent.com&redirect_uri=urn%3aietf%3awg%3aoauth%3a2.0%3aoob&scope=email%20https%3a%2f%2fwww.googleapis.com%2fauth%2fdocs.test%20https%3a%2f%2fwww.googleapis.com%2fauth%2fdrive%20https%3a%2f%2fwww.googleapis.com%2fauth%2fdrive.photos.readonly%20https%3a%2f%2fwww.googleapis.com%2fauth%2fpeopleapi.readonly&response_type=code\n",
            "\n",
            "Enter your authorization code:\n",
            "··········\n",
            "Mounted at /content/drive\n"
          ],
          "name": "stdout"
        }
      ]
    },
    {
      "cell_type": "code",
      "metadata": {
        "id": "PQ-dC_-8er4v",
        "colab_type": "code",
        "colab": {
          "base_uri": "https://localhost:8080/",
          "height": 195
        },
        "outputId": "d7ea7730-28ef-4bcc-be9d-3db60bf6ec2f"
      },
      "source": [
        "# import os for file manipulation\n",
        "import os \n",
        "# import pandas for tabular or dataframe managment\n",
        "import pandas as pd\n",
        "# create variable for path to the folder that stores our file\n",
        "base_path =  '/content/drive/My Drive/DWDM_material'\n",
        "# load data from test.csv to data\n",
        "data = pd.read_csv(os.path.join(base_path,'test.csv'))\n",
        "# show head of the data table which is dowloaded\n",
        "data.head()"
      ],
      "execution_count": 2,
      "outputs": [
        {
          "output_type": "execute_result",
          "data": {
            "text/html": [
              "<div>\n",
              "<style scoped>\n",
              "    .dataframe tbody tr th:only-of-type {\n",
              "        vertical-align: middle;\n",
              "    }\n",
              "\n",
              "    .dataframe tbody tr th {\n",
              "        vertical-align: top;\n",
              "    }\n",
              "\n",
              "    .dataframe thead th {\n",
              "        text-align: right;\n",
              "    }\n",
              "</style>\n",
              "<table border=\"1\" class=\"dataframe\">\n",
              "  <thead>\n",
              "    <tr style=\"text-align: right;\">\n",
              "      <th></th>\n",
              "      <th>Unnamed: 0</th>\n",
              "      <th>x</th>\n",
              "      <th>y</th>\n",
              "    </tr>\n",
              "  </thead>\n",
              "  <tbody>\n",
              "    <tr>\n",
              "      <th>0</th>\n",
              "      <td>0</td>\n",
              "      <td>55.3846</td>\n",
              "      <td>97.1795</td>\n",
              "    </tr>\n",
              "    <tr>\n",
              "      <th>1</th>\n",
              "      <td>1</td>\n",
              "      <td>51.5385</td>\n",
              "      <td>96.0256</td>\n",
              "    </tr>\n",
              "    <tr>\n",
              "      <th>2</th>\n",
              "      <td>2</td>\n",
              "      <td>46.1538</td>\n",
              "      <td>94.4872</td>\n",
              "    </tr>\n",
              "    <tr>\n",
              "      <th>3</th>\n",
              "      <td>3</td>\n",
              "      <td>42.8205</td>\n",
              "      <td>91.4103</td>\n",
              "    </tr>\n",
              "    <tr>\n",
              "      <th>4</th>\n",
              "      <td>4</td>\n",
              "      <td>40.7692</td>\n",
              "      <td>88.3333</td>\n",
              "    </tr>\n",
              "  </tbody>\n",
              "</table>\n",
              "</div>"
            ],
            "text/plain": [
              "   Unnamed: 0        x        y\n",
              "0           0  55.3846  97.1795\n",
              "1           1  51.5385  96.0256\n",
              "2           2  46.1538  94.4872\n",
              "3           3  42.8205  91.4103\n",
              "4           4  40.7692  88.3333"
            ]
          },
          "metadata": {
            "tags": []
          },
          "execution_count": 2
        }
      ]
    },
    {
      "cell_type": "markdown",
      "metadata": {
        "id": "8JnjkW3Lhu0a",
        "colab_type": "text"
      },
      "source": [
        "# Boxplot"
      ]
    },
    {
      "cell_type": "code",
      "metadata": {
        "id": "2BbyDJBehtNG",
        "colab_type": "code",
        "colab": {}
      },
      "source": [
        "# import libraly pyplot มาเพื่อวาดกราฟ\n",
        "from matplotlib import pyplot as plt"
      ],
      "execution_count": 3,
      "outputs": []
    },
    {
      "cell_type": "code",
      "metadata": {
        "id": "ryYtij1ulMY4",
        "colab_type": "code",
        "colab": {
          "base_uri": "https://localhost:8080/",
          "height": 399
        },
        "outputId": "a7baecd3-7d7b-44c7-aec8-6f63075e6dba"
      },
      "source": [
        "plt.boxplot(data['x'])"
      ],
      "execution_count": 4,
      "outputs": [
        {
          "output_type": "execute_result",
          "data": {
            "text/plain": [
              "{'boxes': [<matplotlib.lines.Line2D at 0x7ff05a734748>],\n",
              " 'caps': [<matplotlib.lines.Line2D at 0x7ff05a74e198>,\n",
              "  <matplotlib.lines.Line2D at 0x7ff05a74e518>],\n",
              " 'fliers': [<matplotlib.lines.Line2D at 0x7ff05a74ec18>],\n",
              " 'means': [],\n",
              " 'medians': [<matplotlib.lines.Line2D at 0x7ff05a74e898>],\n",
              " 'whiskers': [<matplotlib.lines.Line2D at 0x7ff05a734a58>,\n",
              "  <matplotlib.lines.Line2D at 0x7ff05a734dd8>]}"
            ]
          },
          "metadata": {
            "tags": []
          },
          "execution_count": 4
        },
        {
          "output_type": "display_data",
          "data": {
            "image/png": "[encoded data removed]",
            "text/plain": [
              "<Figure size 432x288 with 1 Axes>"
            ]
          },
          "metadata": {
            "tags": [],
            "needs_background": "light"
          }
        }
      ]
    },
    {
      "cell_type": "code",
      "metadata": {
        "id": "nClZTyUalTih",
        "colab_type": "code",
        "colab": {
          "base_uri": "https://localhost:8080/",
          "height": 399
        },
        "outputId": "905ed1a7-036e-40d7-8d89-345a971956ed"
      },
      "source": [
        "plt.boxplot(data['x'],showmeans=True)"
      ],
      "execution_count": 5,
      "outputs": [
        {
          "output_type": "execute_result",
          "data": {
            "text/plain": [
              "{'boxes': [<matplotlib.lines.Line2D at 0x7ff05a6dbd68>],\n",
              " 'caps': [<matplotlib.lines.Line2D at 0x7ff05a21f7b8>,\n",
              "  <matplotlib.lines.Line2D at 0x7ff05a21fb38>],\n",
              " 'fliers': [<matplotlib.lines.Line2D at 0x7ff05a2275c0>],\n",
              " 'means': [<matplotlib.lines.Line2D at 0x7ff05a227278>],\n",
              " 'medians': [<matplotlib.lines.Line2D at 0x7ff05a21feb8>],\n",
              " 'whiskers': [<matplotlib.lines.Line2D at 0x7ff05a21f0b8>,\n",
              "  <matplotlib.lines.Line2D at 0x7ff05a21f438>]}"
            ]
          },
          "metadata": {
            "tags": []
          },
          "execution_count": 5
        },
        {
          "output_type": "display_data",
          "data": {
            "image/png": "[encoded data removed]",
            "text/plain": [
              "<Figure size 432x288 with 1 Axes>"
            ]
          },
          "metadata": {
            "tags": [],
            "needs_background": "light"
          }
        }
      ]
    },
    {
      "cell_type": "code",
      "metadata": {
        "id": "17wwtZmwmX3x",
        "colab_type": "code",
        "colab": {
          "base_uri": "https://localhost:8080/",
          "height": 399
        },
        "outputId": "6afd4f1e-5f1d-4cd0-f975-e9a1f3cf38fb"
      },
      "source": [
        "#เปลี่ยน ความยาว wisker จาก default =1.5 ให้เป็นไปตามที่เราต้องการ ใช้คำสั่ง whis(inputเป็นfloat)\n",
        "plt.boxplot(data['x'],whis=0.8)"
      ],
      "execution_count": 6,
      "outputs": [
        {
          "output_type": "execute_result",
          "data": {
            "text/plain": [
              "{'boxes': [<matplotlib.lines.Line2D at 0x7ff05a6ab780>],\n",
              " 'caps': [<matplotlib.lines.Line2D at 0x7ff05a24d470>,\n",
              "  <matplotlib.lines.Line2D at 0x7ff05a232080>],\n",
              " 'fliers': [<matplotlib.lines.Line2D at 0x7ff05a238be0>],\n",
              " 'means': [],\n",
              " 'medians': [<matplotlib.lines.Line2D at 0x7ff05a1e2d68>],\n",
              " 'whiskers': [<matplotlib.lines.Line2D at 0x7ff05a24d4e0>,\n",
              "  <matplotlib.lines.Line2D at 0x7ff05a24ddd8>]}"
            ]
          },
          "metadata": {
            "tags": []
          },
          "execution_count": 6
        },
        {
          "output_type": "display_data",
          "data": {
            "image/png": "[encoded data removed]",
            "text/plain": [
              "<Figure size 432x288 with 1 Axes>"
            ]
          },
          "metadata": {
            "tags": [],
            "needs_background": "light"
          }
        }
      ]
    },
    {
      "cell_type": "code",
      "metadata": {
        "id": "24FbVqJunloB",
        "colab_type": "code",
        "colab": {
          "base_uri": "https://localhost:8080/",
          "height": 399
        },
        "outputId": "acd006f6-be85-4b0d-c2f5-6b02ce8a9115"
      },
      "source": [
        "# ปกติ box จะอยู่ในแนวตั้งคือ defalut vert = True  ถ้าอยากให้เป็นแนวนอนก็ใส่ input เป็น false\n",
        "plt.boxplot(data['x'],whis=0.8,vert=False)"
      ],
      "execution_count": 7,
      "outputs": [
        {
          "output_type": "execute_result",
          "data": {
            "text/plain": [
              "{'boxes': [<matplotlib.lines.Line2D at 0x7ff05a170a20>],\n",
              " 'caps': [<matplotlib.lines.Line2D at 0x7ff05a17e470>,\n",
              "  <matplotlib.lines.Line2D at 0x7ff05a17e7f0>],\n",
              " 'fliers': [<matplotlib.lines.Line2D at 0x7ff05a17eef0>],\n",
              " 'means': [],\n",
              " 'medians': [<matplotlib.lines.Line2D at 0x7ff05a17eb70>],\n",
              " 'whiskers': [<matplotlib.lines.Line2D at 0x7ff05a170d30>,\n",
              "  <matplotlib.lines.Line2D at 0x7ff05a17e0f0>]}"
            ]
          },
          "metadata": {
            "tags": []
          },
          "execution_count": 7
        },
        {
          "output_type": "display_data",
          "data": {
            "image/png": "[encoded data removed]",
            "text/plain": [
              "<Figure size 432x288 with 1 Axes>"
            ]
          },
          "metadata": {
            "tags": [],
            "needs_background": "light"
          }
        }
      ]
    },
    {
      "cell_type": "code",
      "metadata": {
        "id": "VAr4vsJxoHUv",
        "colab_type": "code",
        "colab": {
          "base_uri": "https://localhost:8080/",
          "height": 265
        },
        "outputId": "6015804f-7e96-445b-f0ee-fb50bb7fb8e4"
      },
      "source": [
        "#เราสามารถ return ค่าจากการ plot อกกมาได้ ในตัวอย่างนี้เก็บไว้ในตัวแปร ret\n",
        "ret = plt.boxplot(data['x'],whis=0.8,vert=False)"
      ],
      "execution_count": 8,
      "outputs": [
        {
          "output_type": "display_data",
          "data": {
            "image/png": "[encoded data removed]",
            "text/plain": [
              "<Figure size 432x288 with 1 Axes>"
            ]
          },
          "metadata": {
            "tags": [],
            "needs_background": "light"
          }
        }
      ]
    },
    {
      "cell_type": "markdown",
      "metadata": {
        "id": "GHCJ3zRPrDn5",
        "colab_type": "text"
      },
      "source": [
        "* dictiomaryใช้เก็บข้อมูล(list แต่จะระบุindexด้วยชื่อแทนที่จะระบุด้วยตำแหน่งที่เป็นตัวเลข)โดยสมาชิกข้างในมีหน้าที่ของมันเองเช่นfliersคือoutlier"
      ]
    },
    {
      "cell_type": "code",
      "metadata": {
        "id": "8l4F286VrIXz",
        "colab_type": "code",
        "colab": {
          "base_uri": "https://localhost:8080/",
          "height": 151
        },
        "outputId": "8c460bb2-c91d-41ea-8df7-2a113031bded"
      },
      "source": [
        "ret"
      ],
      "execution_count": 9,
      "outputs": [
        {
          "output_type": "execute_result",
          "data": {
            "text/plain": [
              "{'boxes': [<matplotlib.lines.Line2D at 0x7ff05a0d9a58>],\n",
              " 'caps': [<matplotlib.lines.Line2D at 0x7ff05a0e84a8>,\n",
              "  <matplotlib.lines.Line2D at 0x7ff05a0e8828>],\n",
              " 'fliers': [<matplotlib.lines.Line2D at 0x7ff05a0e8f28>],\n",
              " 'means': [],\n",
              " 'medians': [<matplotlib.lines.Line2D at 0x7ff05a0e8ba8>],\n",
              " 'whiskers': [<matplotlib.lines.Line2D at 0x7ff05a0d9d68>,\n",
              "  <matplotlib.lines.Line2D at 0x7ff05a0e8128>]}"
            ]
          },
          "metadata": {
            "tags": []
          },
          "execution_count": 9
        }
      ]
    },
    {
      "cell_type": "code",
      "metadata": {
        "id": "Ab3uY88ZqqIv",
        "colab_type": "code",
        "colab": {
          "base_uri": "https://localhost:8080/",
          "height": 34
        },
        "outputId": "8d02ed62-fb61-453c-df06-4fc609c7f457"
      },
      "source": [
        "ret['fliers']"
      ],
      "execution_count": 10,
      "outputs": [
        {
          "output_type": "execute_result",
          "data": {
            "text/plain": [
              "[<matplotlib.lines.Line2D at 0x7ff05a0e8f28>]"
            ]
          },
          "metadata": {
            "tags": []
          },
          "execution_count": 10
        }
      ]
    },
    {
      "cell_type": "code",
      "metadata": {
        "id": "PPIC_GpTrK7L",
        "colab_type": "code",
        "colab": {
          "base_uri": "https://localhost:8080/",
          "height": 34
        },
        "outputId": "d1267aec-41bc-42b8-8361-eae10fe90fb6"
      },
      "source": [
        "ret['fliers'][0]"
      ],
      "execution_count": 11,
      "outputs": [
        {
          "output_type": "execute_result",
          "data": {
            "text/plain": [
              "<matplotlib.lines.Line2D at 0x7ff05a0e8f28>"
            ]
          },
          "metadata": {
            "tags": []
          },
          "execution_count": 11
        }
      ]
    },
    {
      "cell_type": "code",
      "metadata": {
        "id": "tMN6Gd1TrPbo",
        "colab_type": "code",
        "colab": {
          "base_uri": "https://localhost:8080/",
          "height": 67
        },
        "outputId": "96a4dc83-3f66-4fbf-8b95-cd594eb96a60"
      },
      "source": [
        "ret['fliers'][0].get_xdata() #get_xdataมันจะปริ้นข้อมูลทั้งหมดมาให้เรา #ที่ต้องxdataเพราะ ตอนนี้กราฟเราอยู่ในแนวนอนแต่ถ้าเราใช้กราฟที่เป็นdefaultต้องgetydata"
      ],
      "execution_count": 12,
      "outputs": [
        {
          "output_type": "execute_result",
          "data": {
            "text/plain": [
              "array([26.1538, 23.0769, 22.3077, 22.3077, 23.3333, 25.8974, 81.7949,\n",
              "       83.3333, 85.1282, 86.4103, 87.9487, 89.4872, 93.3333, 95.3846,\n",
              "       98.2051, 91.2821])"
            ]
          },
          "metadata": {
            "tags": []
          },
          "execution_count": 12
        }
      ]
    },
    {
      "cell_type": "code",
      "metadata": {
        "id": "pkZlWuO3rUeP",
        "colab_type": "code",
        "colab": {
          "base_uri": "https://localhost:8080/",
          "height": 34
        },
        "outputId": "2a3b509f-5079-4503-dd28-ea8c9067d6dc"
      },
      "source": [
        "ret['whiskers'][0].get_xdata() #get_xdataของwiskerมันจะปริ้นข้อมูลที่อยู่บนหนวดมาให้เรา"
      ],
      "execution_count": 13,
      "outputs": [
        {
          "output_type": "execute_result",
          "data": {
            "text/plain": [
              "array([44.1026, 28.9744])"
            ]
          },
          "metadata": {
            "tags": []
          },
          "execution_count": 13
        }
      ]
    },
    {
      "cell_type": "code",
      "metadata": {
        "id": "9QAA3_cErtoP",
        "colab_type": "code",
        "colab": {
          "base_uri": "https://localhost:8080/",
          "height": 34
        },
        "outputId": "e0679c22-8974-4b61-d7d5-d819e8a904a2"
      },
      "source": [
        "#อยากได้ข้อมูลบนควอไทล์\n",
        "ret['boxes'][0].get_xdata()"
      ],
      "execution_count": 14,
      "outputs": [
        {
          "output_type": "execute_result",
          "data": {
            "text/plain": [
              "array([44.1026, 44.1026, 64.7436, 64.7436, 44.1026])"
            ]
          },
          "metadata": {
            "tags": []
          },
          "execution_count": 14
        }
      ]
    },
    {
      "cell_type": "markdown",
      "metadata": {
        "id": "Vd-_bQW2uF2L",
        "colab_type": "text"
      },
      "source": [
        "#scatter plot\n"
      ]
    },
    {
      "cell_type": "code",
      "metadata": {
        "id": "6Z4oL369s05G",
        "colab_type": "code",
        "colab": {
          "base_uri": "https://localhost:8080/",
          "height": 282
        },
        "outputId": "6e5ee5de-7f2c-49ad-af16-f3955ac35bfa"
      },
      "source": [
        "plt.scatter(data['x'],data['y'])"
      ],
      "execution_count": 15,
      "outputs": [
        {
          "output_type": "execute_result",
          "data": {
            "text/plain": [
              "<matplotlib.collections.PathCollection at 0x7ff05a0c8d30>"
            ]
          },
          "metadata": {
            "tags": []
          },
          "execution_count": 15
        },
        {
          "output_type": "display_data",
          "data": {
            "image/png": "[encoded data removed]",
            "text/plain": [
              "<Figure size 432x288 with 1 Axes>"
            ]
          },
          "metadata": {
            "tags": [],
            "needs_background": "light"
          }
        }
      ]
    },
    {
      "cell_type": "code",
      "metadata": {
        "id": "qWuyBswpuRvn",
        "colab_type": "code",
        "colab": {
          "base_uri": "https://localhost:8080/",
          "height": 282
        },
        "outputId": "af64fb69-1c7f-43d1-a7f5-85154345d62a"
      },
      "source": [
        "plt.scatter(data['x'],data['y'],s=10) #ปรับขนาดจุด(input คือ float)"
      ],
      "execution_count": 16,
      "outputs": [
        {
          "output_type": "execute_result",
          "data": {
            "text/plain": [
              "<matplotlib.collections.PathCollection at 0x7ff05a040160>"
            ]
          },
          "metadata": {
            "tags": []
          },
          "execution_count": 16
        },
        {
          "output_type": "display_data",
          "data": {
            "image/png": "[encoded data removed]",
            "text/plain": [
              "<Figure size 432x288 with 1 Axes>"
            ]
          },
          "metadata": {
            "tags": [],
            "needs_background": "light"
          }
        }
      ]
    },
    {
      "cell_type": "code",
      "metadata": {
        "id": "KG1TV_CNu5id",
        "colab_type": "code",
        "colab": {
          "base_uri": "https://localhost:8080/",
          "height": 282
        },
        "outputId": "45a49d61-5188-41a0-9482-d47571bffefa"
      },
      "source": [
        "plt.scatter(data['x'],data['y'],s=10,c='r') #เปลี่ยนสีจุด(input คือ 'อีกษรแทนสี')"
      ],
      "execution_count": 17,
      "outputs": [
        {
          "output_type": "execute_result",
          "data": {
            "text/plain": [
              "<matplotlib.collections.PathCollection at 0x7ff059fa85f8>"
            ]
          },
          "metadata": {
            "tags": []
          },
          "execution_count": 17
        },
        {
          "output_type": "display_data",
          "data": {
            "image/png": "[encoded data removed]",
            "text/plain": [
              "<Figure size 432x288 with 1 Axes>"
            ]
          },
          "metadata": {
            "tags": [],
            "needs_background": "light"
          }
        }
      ]
    },
    {
      "cell_type": "code",
      "metadata": {
        "id": "oAkKTLa-vdKe",
        "colab_type": "code",
        "colab": {
          "base_uri": "https://localhost:8080/",
          "height": 282
        },
        "outputId": "cbd4afb7-6cb8-4f9b-cd14-2cd329bfaadb"
      },
      "source": [
        "plt.scatter(data['x'],data['y'],s=30,c='r',marker=\"4\") #marker เปลี่ยนรูปร่างจุด"
      ],
      "execution_count": 18,
      "outputs": [
        {
          "output_type": "execute_result",
          "data": {
            "text/plain": [
              "<matplotlib.collections.PathCollection at 0x7ff059f8dac8>"
            ]
          },
          "metadata": {
            "tags": []
          },
          "execution_count": 18
        },
        {
          "output_type": "display_data",
          "data": {
            "image/png": "[encoded data removed]",
            "text/plain": [
              "<Figure size 432x288 with 1 Axes>"
            ]
          },
          "metadata": {
            "tags": [],
            "needs_background": "light"
          }
        }
      ]
    },
    {
      "cell_type": "code",
      "metadata": {
        "id": "yXmi14f9wrJK",
        "colab_type": "code",
        "colab": {
          "base_uri": "https://localhost:8080/",
          "height": 282
        },
        "outputId": "68516522-f82a-4629-c17a-f83214eade7c"
      },
      "source": [
        "plt.scatter(data['x'],data['y'],c='r',alpha=0.4) #alpha ความโปร่งแสง"
      ],
      "execution_count": 19,
      "outputs": [
        {
          "output_type": "execute_result",
          "data": {
            "text/plain": [
              "<matplotlib.collections.PathCollection at 0x7ff059ef4e80>"
            ]
          },
          "metadata": {
            "tags": []
          },
          "execution_count": 19
        },
        {
          "output_type": "display_data",
          "data": {
            "image/png": "[encoded data removed]",
            "text/plain": [
              "<Figure size 432x288 with 1 Axes>"
            ]
          },
          "metadata": {
            "tags": [],
            "needs_background": "light"
          }
        }
      ]
    },
    {
      "cell_type": "code",
      "metadata": {
        "id": "WXJzsDN8xJxi",
        "colab_type": "code",
        "colab": {
          "base_uri": "https://localhost:8080/",
          "height": 282
        },
        "outputId": "51220d10-426f-4134-f5ad-5be3ca59af55"
      },
      "source": [
        "plt.scatter(data['x'],data['y'],c='y',alpha=0.4) #alpha ความโปร่งแสง\n",
        "plt.scatter([30,40],[60,85],s=200,c='r',alpha=0.4)"
      ],
      "execution_count": 20,
      "outputs": [
        {
          "output_type": "execute_result",
          "data": {
            "text/plain": [
              "<matplotlib.collections.PathCollection at 0x7ff059e639e8>"
            ]
          },
          "metadata": {
            "tags": []
          },
          "execution_count": 20
        },
        {
          "output_type": "display_data",
          "data": {
            "image/png": "[encoded data removed]",
            "text/plain": [
              "<Figure size 432x288 with 1 Axes>"
            ]
          },
          "metadata": {
            "tags": [],
            "needs_background": "light"
          }
        }
      ]
    },
    {
      "cell_type": "markdown",
      "metadata": {
        "id": "0MOhTWP6x1Wl",
        "colab_type": "text"
      },
      "source": [
        "#HW plot นอ ให้ไดโนเสาร์"
      ]
    },
    {
      "cell_type": "code",
      "metadata": {
        "id": "crx1hNwLxufd",
        "colab_type": "code",
        "colab": {
          "base_uri": "https://localhost:8080/",
          "height": 282
        },
        "outputId": "5cd1d88c-6d16-426c-94a5-a9e713242535"
      },
      "source": [
        "plt.scatter(data['x'],data['y'],c='g',alpha=0.5) #alpha ความโปร่งแสง\n",
        "plt.scatter([29.7436,29.7436,31.2821],[59.8718,62.1795,62.5641],c='k',marker=\"*\") #สีจมูก\n",
        "plt.plot([46.9231,48.2051,50,53.0769,55.3846,56.6667,56.1538,53.8462,51.2821,50,47.9487],[79.8718,84.1026,85.2564,85.2564,86.0256,86.0256,82.9487,80.641,78.718,78.718,77.5641]) #กรอบตา\n",
        "plt.scatter([51.5],[82],c='k',s=150,alpha=0.4) #สีตา\n",
        "plt.scatter([51.5],[82],c='k',s=50) #สีตา\n",
        "plt.scatter([range(30,38)],[range(75,83)],c='b',alpha=0.7,marker=\"4\") #ฐานนอ\n",
        "plt.scatter([range(30,37)],[range(78,85)],c='b',alpha=0.7,marker=\"4\") #ฐานนอ\n",
        "plt.scatter([range(30,35)],[range(81,86)],c='b',alpha=0.7,marker=\"4\") #ฐานนอ\n",
        "plt.scatter([range(30,34)],[range(84,88)],c='b',alpha=0.7,marker=\"4\") #ฐานนอ\n",
        "plt.scatter([range(30,33)],[range(87,90)],c='b',alpha=0.7,marker=\"4\") #ฐานนอ\n",
        "plt.scatter([range(30,32)],[range(90,92)],c='b',alpha=0.7,marker=\"4\") #ฐานนอ\n",
        "plt.scatter([30],[93],c='b',alpha=0.7,marker=\"4\") #ฐานนอ"
      ],
      "execution_count": 139,
      "outputs": [
        {
          "output_type": "execute_result",
          "data": {
            "text/plain": [
              "<matplotlib.collections.PathCollection at 0x7ff04f2b2b38>"
            ]
          },
          "metadata": {
            "tags": []
          },
          "execution_count": 139
        },
        {
          "output_type": "display_data",
          "data": {
            "image/png": "[encoded data removed]",
            "text/plain": [
              "<Figure size 432x288 with 1 Axes>"
            ]
          },
          "metadata": {
            "tags": [],
            "needs_background": "light"
          }
        }
      ]
    },
    {
      "cell_type": "code",
      "metadata": {
        "id": "HIShS_BfQSlb",
        "colab_type": "code",
        "colab": {}
      },
      "source": [
        ""
      ],
      "execution_count": null,
      "outputs": []
    }
  ]
}