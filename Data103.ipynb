{
  "nbformat": 4,
  "nbformat_minor": 0,
  "metadata": {
    "colab": {
      "name": "Data103.ipynb",
      "provenance": [],
      "include_colab_link": true
    },
    "kernelspec": {
      "name": "python3",
      "display_name": "Python 3"
    }
  },
  "cells": [
    {
      "cell_type": "markdown",
      "metadata": {
        "id": "view-in-github",
        "colab_type": "text"
      },
      "source": [
        "<a href=\"https://colab.research.google.com/github/K-Kamonrat/DPDM/blob/master/Data103.ipynb\" target=\"_parent\"><img src=\"https://colab.research.google.com/assets/colab-badge.svg\" alt=\"Open In Colab\"/></a>"
      ]
    },
    {
      "cell_type": "code",
      "metadata": {
        "id": "0oKDd2vlv4qt",
        "colab_type": "code",
        "colab": {}
      },
      "source": [
        "import numpy as np #จัดการตัวเลข มองเป็น matrix"
      ],
      "execution_count": null,
      "outputs": []
    },
    {
      "cell_type": "code",
      "metadata": {
        "id": "8aogGGu8v_an",
        "colab_type": "code",
        "colab": {
          "base_uri": "https://localhost:8080/",
          "height": 50
        },
        "outputId": "f544c80f-ecd8-4e6f-bc2c-6ff9d4f777be"
      },
      "source": [
        "A = np.array([[1,2,3],[4,5,6]]) #พิมพ์แถวเรียงต่อกัน\n",
        "A"
      ],
      "execution_count": null,
      "outputs": [
        {
          "output_type": "execute_result",
          "data": {
            "text/plain": [
              "array([[1, 2, 3],\n",
              "       [4, 5, 6]])"
            ]
          },
          "metadata": {
            "tags": []
          },
          "execution_count": 3
        }
      ]
    },
    {
      "cell_type": "code",
      "metadata": {
        "id": "FJZcYfuzwLjK",
        "colab_type": "code",
        "colab": {
          "base_uri": "https://localhost:8080/",
          "height": 67
        },
        "outputId": "783b7a0b-540d-4296-8e8d-b72788c10e88"
      },
      "source": [
        "A.T #transpost"
      ],
      "execution_count": null,
      "outputs": [
        {
          "output_type": "execute_result",
          "data": {
            "text/plain": [
              "array([[1, 4],\n",
              "       [2, 5],\n",
              "       [3, 6]])"
            ]
          },
          "metadata": {
            "tags": []
          },
          "execution_count": 4
        }
      ]
    },
    {
      "cell_type": "code",
      "metadata": {
        "id": "tHBb5sMRwZua",
        "colab_type": "code",
        "colab": {
          "base_uri": "https://localhost:8080/",
          "height": 50
        },
        "outputId": "b53690f3-a526-43e8-8fea-71fe4d9c4751"
      },
      "source": [
        "A.dot(A.T) #.dot()  การคูน matrix ต้องคำนึงถึง dimension นะ"
      ],
      "execution_count": null,
      "outputs": [
        {
          "output_type": "execute_result",
          "data": {
            "text/plain": [
              "array([[14, 32],\n",
              "       [32, 77]])"
            ]
          },
          "metadata": {
            "tags": []
          },
          "execution_count": 5
        }
      ]
    },
    {
      "cell_type": "code",
      "metadata": {
        "id": "SBnWIAAAwvts",
        "colab_type": "code",
        "colab": {
          "base_uri": "https://localhost:8080/",
          "height": 162
        },
        "outputId": "50cbd9c1-7945-4d4d-b211-07884c898b09"
      },
      "source": [
        "A.dot(A)"
      ],
      "execution_count": null,
      "outputs": [
        {
          "output_type": "error",
          "ename": "ValueError",
          "evalue": "ignored",
          "traceback": [
            "\u001b[0;31m---------------------------------------------------------------------------\u001b[0m",
            "\u001b[0;31mValueError\u001b[0m                                Traceback (most recent call last)",
            "\u001b[0;32m<ipython-input-6-ddb63a501b6b>\u001b[0m in \u001b[0;36m<module>\u001b[0;34m()\u001b[0m\n\u001b[0;32m----> 1\u001b[0;31m \u001b[0mA\u001b[0m\u001b[0;34m.\u001b[0m\u001b[0mdot\u001b[0m\u001b[0;34m(\u001b[0m\u001b[0mA\u001b[0m\u001b[0;34m)\u001b[0m\u001b[0;34m\u001b[0m\u001b[0;34m\u001b[0m\u001b[0m\n\u001b[0m",
            "\u001b[0;31mValueError\u001b[0m: shapes (2,3) and (2,3) not aligned: 3 (dim 1) != 2 (dim 0)"
          ]
        }
      ]
    },
    {
      "cell_type": "markdown",
      "metadata": {
        "id": "kH0PmuzGxToF",
        "colab_type": "text"
      },
      "source": [
        "#Array slicing"
      ]
    },
    {
      "cell_type": "code",
      "metadata": {
        "id": "ytSkNRvww4CL",
        "colab_type": "code",
        "colab": {
          "base_uri": "https://localhost:8080/",
          "height": 34
        },
        "outputId": "8c41d2f2-b11c-489d-dbe4-d27f90a2b913"
      },
      "source": [
        "A[0,1]  #ชี้ตำแหน่งของสมากชิก โดยแถวกับหลัก"
      ],
      "execution_count": null,
      "outputs": [
        {
          "output_type": "execute_result",
          "data": {
            "text/plain": [
              "2"
            ]
          },
          "metadata": {
            "tags": []
          },
          "execution_count": 7
        }
      ]
    },
    {
      "cell_type": "code",
      "metadata": {
        "id": "sU8f0yqNxgvC",
        "colab_type": "code",
        "colab": {
          "base_uri": "https://localhost:8080/",
          "height": 50
        },
        "outputId": "8a886da7-a134-4d1f-ca8b-bde06739b715"
      },
      "source": [
        "A[:,:2] # sclice แถวที่ : ถึงแถวที่ , หละหที่ : หลักที่"
      ],
      "execution_count": null,
      "outputs": [
        {
          "output_type": "execute_result",
          "data": {
            "text/plain": [
              "array([[1, 2],\n",
              "       [4, 5]])"
            ]
          },
          "metadata": {
            "tags": []
          },
          "execution_count": 8
        }
      ]
    },
    {
      "cell_type": "code",
      "metadata": {
        "id": "1Tak4_gaxvUk",
        "colab_type": "code",
        "colab": {
          "base_uri": "https://localhost:8080/",
          "height": 34
        },
        "outputId": "b17c5e73-6eab-43d5-942b-fbc9b1162a4e"
      },
      "source": [
        "A[1,1:]"
      ],
      "execution_count": null,
      "outputs": [
        {
          "output_type": "execute_result",
          "data": {
            "text/plain": [
              "array([5, 6])"
            ]
          },
          "metadata": {
            "tags": []
          },
          "execution_count": 9
        }
      ]
    },
    {
      "cell_type": "markdown",
      "metadata": {
        "id": "vyUtNLR3BOaT",
        "colab_type": "text"
      },
      "source": [
        "#HW 6 : สร้าง distance metrix (Euclidean) ของ data matrix ใน slides โดยโครงสร้าง function "
      ]
    },
    {
      "cell_type": "code",
      "metadata": {
        "id": "gqwCDLtrzcEh",
        "colab_type": "code",
        "colab": {}
      },
      "source": [
        "data_1 = np.array([[1,2],[3,5],[2,0],[4,5]])"
      ],
      "execution_count": null,
      "outputs": []
    },
    {
      "cell_type": "code",
      "metadata": {
        "id": "ThBS1Zu6zsE_",
        "colab_type": "code",
        "colab": {
          "base_uri": "https://localhost:8080/",
          "height": 84
        },
        "outputId": "5f771db2-7263-4590-9001-c083a8cbd97c"
      },
      "source": [
        "data_1"
      ],
      "execution_count": null,
      "outputs": [
        {
          "output_type": "execute_result",
          "data": {
            "text/plain": [
              "array([[1, 2],\n",
              "       [3, 5],\n",
              "       [2, 0],\n",
              "       [4, 5]])"
            ]
          },
          "metadata": {
            "tags": []
          },
          "execution_count": 12
        }
      ]
    },
    {
      "cell_type": "code",
      "metadata": {
        "id": "Z06nLqlaztpT",
        "colab_type": "code",
        "colab": {}
      },
      "source": [
        "def Manhattan_dist(dp1,dp2):\n",
        "    distX = abs(dp1[0]-dp2[0])\n",
        "    distY = abs(dp1[1]-dp2[1])\n",
        "    return distX+distY"
      ],
      "execution_count": null,
      "outputs": []
    },
    {
      "cell_type": "code",
      "metadata": {
        "id": "Pgfr30B006p7",
        "colab_type": "code",
        "colab": {
          "base_uri": "https://localhost:8080/",
          "height": 84
        },
        "outputId": "35f2327b-355d-4b4c-a14a-c68a189e2aa3"
      },
      "source": [
        "np.zeros((4,4)) #สร้าง array ว่างที่มีขนาด 4แถว * 4หลัก"
      ],
      "execution_count": null,
      "outputs": [
        {
          "output_type": "execute_result",
          "data": {
            "text/plain": [
              "array([[0., 0., 0., 0.],\n",
              "       [0., 0., 0., 0.],\n",
              "       [0., 0., 0., 0.],\n",
              "       [0., 0., 0., 0.]])"
            ]
          },
          "metadata": {
            "tags": []
          },
          "execution_count": 14
        }
      ]
    },
    {
      "cell_type": "code",
      "metadata": {
        "id": "CJacoBt_1t1T",
        "colab_type": "code",
        "colab": {
          "base_uri": "https://localhost:8080/",
          "height": 84
        },
        "outputId": "233058ad-55a4-489d-9ddc-892df1b92257"
      },
      "source": [
        "np.ones((4,4))  #identity metrix ใช้สร้าง matrix ค่าคงที่ โดยการเอา scalar มาคูณ"
      ],
      "execution_count": null,
      "outputs": [
        {
          "output_type": "execute_result",
          "data": {
            "text/plain": [
              "array([[1., 1., 1., 1.],\n",
              "       [1., 1., 1., 1.],\n",
              "       [1., 1., 1., 1.],\n",
              "       [1., 1., 1., 1.]])"
            ]
          },
          "metadata": {
            "tags": []
          },
          "execution_count": 15
        }
      ]
    },
    {
      "cell_type": "code",
      "metadata": {
        "id": "mRe_iy_Y27CV",
        "colab_type": "code",
        "colab": {
          "base_uri": "https://localhost:8080/",
          "height": 84
        },
        "outputId": "85727637-14a0-40b4-cfea-0273e8dc3837"
      },
      "source": [
        "7*np.ones((4,4)) "
      ],
      "execution_count": null,
      "outputs": [
        {
          "output_type": "execute_result",
          "data": {
            "text/plain": [
              "array([[7., 7., 7., 7.],\n",
              "       [7., 7., 7., 7.],\n",
              "       [7., 7., 7., 7.],\n",
              "       [7., 7., 7., 7.]])"
            ]
          },
          "metadata": {
            "tags": []
          },
          "execution_count": 16
        }
      ]
    },
    {
      "cell_type": "code",
      "metadata": {
        "id": "rbO67-u210fQ",
        "colab_type": "code",
        "colab": {
          "base_uri": "https://localhost:8080/",
          "height": 84
        },
        "outputId": "cda21dc2-997b-4dcd-b0a2-289632275deb"
      },
      "source": [
        "dist_mat_man = np.zeros((4,4))\n",
        "dist_mat_man"
      ],
      "execution_count": null,
      "outputs": [
        {
          "output_type": "execute_result",
          "data": {
            "text/plain": [
              "array([[0., 0., 0., 0.],\n",
              "       [0., 0., 0., 0.],\n",
              "       [0., 0., 0., 0.],\n",
              "       [0., 0., 0., 0.]])"
            ]
          },
          "metadata": {
            "tags": []
          },
          "execution_count": 17
        }
      ]
    },
    {
      "cell_type": "code",
      "metadata": {
        "id": "PfJsjmlA2YJh",
        "colab_type": "code",
        "colab": {
          "base_uri": "https://localhost:8080/",
          "height": 84
        },
        "outputId": "ccbe0b92-2d84-4a12-e942-6f3c5c25da81"
      },
      "source": [
        "for i in range(4):\n",
        "  for j in range(4):\n",
        "      dist_mat_man[i,j] = Manhattan_dist(data_1[i,:],data_1[j,:])\n",
        "dist_mat_man"
      ],
      "execution_count": null,
      "outputs": [
        {
          "output_type": "execute_result",
          "data": {
            "text/plain": [
              "array([[0., 5., 3., 6.],\n",
              "       [5., 0., 6., 1.],\n",
              "       [3., 6., 0., 7.],\n",
              "       [6., 1., 7., 0.]])"
            ]
          },
          "metadata": {
            "tags": []
          },
          "execution_count": 18
        }
      ]
    },
    {
      "cell_type": "markdown",
      "metadata": {
        "id": "bMAFvF7SGzjj",
        "colab_type": "text"
      },
      "source": [
        "##ส่งการบ้าน Euclidean distance"
      ]
    },
    {
      "cell_type": "code",
      "metadata": {
        "id": "CL4AjI5bJQWD",
        "colab_type": "code",
        "colab": {
          "base_uri": "https://localhost:8080/",
          "height": 34
        },
        "outputId": "bc127e1a-54d0-4a9c-a6a6-7388542debf6"
      },
      "source": [
        "# import the math module  \n",
        "import math  \n",
        "  \n",
        "# print the square root of  0  \n",
        "print(math.sqrt(4)) "
      ],
      "execution_count": null,
      "outputs": [
        {
          "output_type": "stream",
          "text": [
            "2.0\n"
          ],
          "name": "stdout"
        }
      ]
    },
    {
      "cell_type": "code",
      "metadata": {
        "id": "zdy6LRVm20rR",
        "colab_type": "code",
        "colab": {}
      },
      "source": [
        "A = np.array([[1,2],[3,5],[2,0],[4,5]])"
      ],
      "execution_count": null,
      "outputs": []
    },
    {
      "cell_type": "code",
      "metadata": {
        "id": "l1STUOmSHiuR",
        "colab_type": "code",
        "colab": {
          "base_uri": "https://localhost:8080/",
          "height": 84
        },
        "outputId": "bb9379b0-1a13-46de-92ae-bfc92e680f4e"
      },
      "source": [
        "A"
      ],
      "execution_count": null,
      "outputs": [
        {
          "output_type": "execute_result",
          "data": {
            "text/plain": [
              "array([[1, 2],\n",
              "       [3, 5],\n",
              "       [2, 0],\n",
              "       [4, 5]])"
            ]
          },
          "metadata": {
            "tags": []
          },
          "execution_count": 20
        }
      ]
    },
    {
      "cell_type": "code",
      "metadata": {
        "id": "QTclr-4wHkBI",
        "colab_type": "code",
        "colab": {}
      },
      "source": [
        "def Euclidean_dist(p1,p2):\n",
        "    dist_r = abs(p1[0]-p2[0])\n",
        "    dist_c = abs(p1[1]-p2[1])\n",
        "    return math.sqrt(dist_r**2 + dist_c**2)"
      ],
      "execution_count": null,
      "outputs": []
    },
    {
      "cell_type": "code",
      "metadata": {
        "id": "52ro_q2nJImK",
        "colab_type": "code",
        "colab": {
          "base_uri": "https://localhost:8080/",
          "height": 84
        },
        "outputId": "5a6d1610-ad9f-403f-d41b-08826f82a072"
      },
      "source": [
        "dist_mat_Euclidean = np.zeros((4,4))\n",
        "dist_mat_Euclidean"
      ],
      "execution_count": null,
      "outputs": [
        {
          "output_type": "execute_result",
          "data": {
            "text/plain": [
              "array([[0., 0., 0., 0.],\n",
              "       [0., 0., 0., 0.],\n",
              "       [0., 0., 0., 0.],\n",
              "       [0., 0., 0., 0.]])"
            ]
          },
          "metadata": {
            "tags": []
          },
          "execution_count": 27
        }
      ]
    },
    {
      "cell_type": "code",
      "metadata": {
        "id": "mp_r-fluKDH9",
        "colab_type": "code",
        "colab": {
          "base_uri": "https://localhost:8080/",
          "height": 84
        },
        "outputId": "f66477b8-ce82-45fb-aa7d-b857c2cb77d6"
      },
      "source": [
        "for i in range(4):\n",
        "  for j in range(4):\n",
        "      dist_mat_Euclidean[i,j] = Euclidean_dist(A[i,:],A[j,:])\n",
        "dist_mat_Euclidean"
      ],
      "execution_count": null,
      "outputs": [
        {
          "output_type": "execute_result",
          "data": {
            "text/plain": [
              "array([[0.        , 3.60555128, 2.23606798, 4.24264069],\n",
              "       [3.60555128, 0.        , 5.09901951, 1.        ],\n",
              "       [2.23606798, 5.09901951, 0.        , 5.38516481],\n",
              "       [4.24264069, 1.        , 5.38516481, 0.        ]])"
            ]
          },
          "metadata": {
            "tags": []
          },
          "execution_count": 28
        }
      ]
    },
    {
      "cell_type": "markdown",
      "metadata": {
        "id": "2mqxyd5ldZpt",
        "colab_type": "text"
      },
      "source": [
        "#Distance of nominal or categorical feature\n",
        "##(extra) Python data structure (Dictionary)\n",
        "* คล้ายๆ list แต่ไม่ได้ชี้ตำแหน่งด้วยตัวเลข อาจจะชี้ด้วยตัวอักษร หรืออะไรก็ได้ แต่ต้องไม่เป็นตัวแปร\n",
        "* ไม่สนใจลำดับ\n",
        "* เก็บข้อมูลได้ทั้ง string list"
      ]
    },
    {
      "cell_type": "code",
      "metadata": {
        "id": "aCKendjBKds1",
        "colab_type": "code",
        "colab": {}
      },
      "source": [
        "d_A = {'a':1,2:3,3:3,3:5,'cat':6}  #เริ่มด้วยตัวชี้index : ค่าที่เก็บมา"
      ],
      "execution_count": 1,
      "outputs": []
    },
    {
      "cell_type": "code",
      "metadata": {
        "id": "Ppou9ZGLdEyM",
        "colab_type": "code",
        "colab": {
          "base_uri": "https://localhost:8080/",
          "height": 34
        },
        "outputId": "e932068a-a022-4823-bcf0-78fd5401e43a"
      },
      "source": [
        "d_A"
      ],
      "execution_count": 2,
      "outputs": [
        {
          "output_type": "execute_result",
          "data": {
            "text/plain": [
              "{2: 3, 3: 5, 'a': 1, 'cat': 6}"
            ]
          },
          "metadata": {
            "tags": []
          },
          "execution_count": 2
        }
      ]
    },
    {
      "cell_type": "code",
      "metadata": {
        "id": "stn6D5SxecA3",
        "colab_type": "code",
        "colab": {
          "base_uri": "https://localhost:8080/",
          "height": 34
        },
        "outputId": "d991aa85-a1e3-4a76-86b5-65141944348e"
      },
      "source": [
        "d_A['cat']"
      ],
      "execution_count": 3,
      "outputs": [
        {
          "output_type": "execute_result",
          "data": {
            "text/plain": [
              "6"
            ]
          },
          "metadata": {
            "tags": []
          },
          "execution_count": 3
        }
      ]
    },
    {
      "cell_type": "code",
      "metadata": {
        "id": "GPJSf78FemsM",
        "colab_type": "code",
        "colab": {}
      },
      "source": [
        "d_A['dog'] = [1,2,3,4,5] #การเพิ่มสมาชิก ==> ชื่อdict[index] = [ค่าที่อยู่ในindexนั้น]"
      ],
      "execution_count": 4,
      "outputs": []
    },
    {
      "cell_type": "code",
      "metadata": {
        "id": "YzaNDHSMfElB",
        "colab_type": "code",
        "colab": {
          "base_uri": "https://localhost:8080/",
          "height": 34
        },
        "outputId": "cbf1f7fa-081f-4bdc-8a08-7d10734bb261"
      },
      "source": [
        "d_A"
      ],
      "execution_count": 5,
      "outputs": [
        {
          "output_type": "execute_result",
          "data": {
            "text/plain": [
              "{2: 3, 3: 5, 'a': 1, 'cat': 6, 'dog': [1, 2, 3, 4, 5]}"
            ]
          },
          "metadata": {
            "tags": []
          },
          "execution_count": 5
        }
      ]
    },
    {
      "cell_type": "code",
      "metadata": {
        "id": "YYbwQhCgfF1_",
        "colab_type": "code",
        "colab": {}
      },
      "source": [
        "del d_A[2] #ลบข้อมูลออกจาก dict แต่ปกติก็ไม่ควรลบ"
      ],
      "execution_count": 6,
      "outputs": []
    },
    {
      "cell_type": "code",
      "metadata": {
        "id": "W7XaTq5EfRMn",
        "colab_type": "code",
        "colab": {
          "base_uri": "https://localhost:8080/",
          "height": 34
        },
        "outputId": "12153984-81f2-4516-b9bb-8d55f38b1e40"
      },
      "source": [
        "d_A"
      ],
      "execution_count": 8,
      "outputs": [
        {
          "output_type": "execute_result",
          "data": {
            "text/plain": [
              "{3: 5, 'a': 1, 'cat': 6, 'dog': [1, 2, 3, 4, 5]}"
            ]
          },
          "metadata": {
            "tags": []
          },
          "execution_count": 8
        }
      ]
    },
    {
      "cell_type": "code",
      "metadata": {
        "id": "3ngechxOfVZy",
        "colab_type": "code",
        "colab": {}
      },
      "source": [
        "import pandas as pd"
      ],
      "execution_count": 9,
      "outputs": []
    },
    {
      "cell_type": "code",
      "metadata": {
        "id": "ZktHAe5mfdPU",
        "colab_type": "code",
        "colab": {
          "base_uri": "https://localhost:8080/",
          "height": 34
        },
        "outputId": "387b0c4e-a82e-404e-fb8c-b06499cff2dc"
      },
      "source": [
        "data_dict = {'color':['red','red','green'], #color = {'red','green',blue'}\n",
        "                    'status':['single','married','single']} #status = {'single','married','divorced'}\n",
        "data_dict"
      ],
      "execution_count": 11,
      "outputs": [
        {
          "output_type": "execute_result",
          "data": {
            "text/plain": [
              "{'color': ['red', 'red', 'green'], 'status': ['single', 'married', 'single']}"
            ]
          },
          "metadata": {
            "tags": []
          },
          "execution_count": 11
        }
      ]
    },
    {
      "cell_type": "code",
      "metadata": {
        "id": "MqUeHh1ugPn4",
        "colab_type": "code",
        "colab": {
          "base_uri": "https://localhost:8080/",
          "height": 142
        },
        "outputId": "e06ae73f-b7cd-4185-a7d5-e017e1beadcf"
      },
      "source": [
        "data_pd = pd.DataFrame.from_dict(data_dict)\n",
        "data_pd"
      ],
      "execution_count": 12,
      "outputs": [
        {
          "output_type": "execute_result",
          "data": {
            "text/html": [
              "<div>\n",
              "<style scoped>\n",
              "    .dataframe tbody tr th:only-of-type {\n",
              "        vertical-align: middle;\n",
              "    }\n",
              "\n",
              "    .dataframe tbody tr th {\n",
              "        vertical-align: top;\n",
              "    }\n",
              "\n",
              "    .dataframe thead th {\n",
              "        text-align: right;\n",
              "    }\n",
              "</style>\n",
              "<table border=\"1\" class=\"dataframe\">\n",
              "  <thead>\n",
              "    <tr style=\"text-align: right;\">\n",
              "      <th></th>\n",
              "      <th>color</th>\n",
              "      <th>status</th>\n",
              "    </tr>\n",
              "  </thead>\n",
              "  <tbody>\n",
              "    <tr>\n",
              "      <th>0</th>\n",
              "      <td>red</td>\n",
              "      <td>single</td>\n",
              "    </tr>\n",
              "    <tr>\n",
              "      <th>1</th>\n",
              "      <td>red</td>\n",
              "      <td>married</td>\n",
              "    </tr>\n",
              "    <tr>\n",
              "      <th>2</th>\n",
              "      <td>green</td>\n",
              "      <td>single</td>\n",
              "    </tr>\n",
              "  </tbody>\n",
              "</table>\n",
              "</div>"
            ],
            "text/plain": [
              "   color   status\n",
              "0    red   single\n",
              "1    red  married\n",
              "2  green   single"
            ]
          },
          "metadata": {
            "tags": []
          },
          "execution_count": 12
        }
      ]
    },
    {
      "cell_type": "markdown",
      "metadata": {
        "id": "jN1CDpOHhkGq",
        "colab_type": "text"
      },
      "source": [
        "##Categorical feature distance method#*1*"
      ]
    },
    {
      "cell_type": "code",
      "metadata": {
        "id": "RdgMopQXgpch",
        "colab_type": "code",
        "colab": {
          "base_uri": "https://localhost:8080/",
          "height": 33
        },
        "outputId": "4d87f5fb-4c11-4917-9154-62731832fa33"
      },
      "source": [
        "list(data_pd.iloc[1,:]) #iloc เปลี่ยนมุมมองของตารางของ pandas ให้เป็น numpy array"
      ],
      "execution_count": 13,
      "outputs": [
        {
          "output_type": "execute_result",
          "data": {
            "text/plain": [
              "['red', 'married']"
            ]
          },
          "metadata": {
            "tags": []
          },
          "execution_count": 13
        }
      ]
    },
    {
      "cell_type": "code",
      "metadata": {
        "id": "CU9MAofSh0WN",
        "colab_type": "code",
        "colab": {}
      },
      "source": [
        "def meth1_dist(data1,data2):\n",
        "  N = 0 #สร้างตัวแปรมาเก็บสิ่งที่จะนับ\n",
        "  print(f'data1 is{data1} and data2 is {data2}')\n",
        "  for i in range(len(data1)): #สร้างลูป ตามขนาดของ feature\n",
        "    print(f'feature{i} of data1 is {data1[i]},feature{i} of data2 is {data2[i]}')\n",
        "    if data1[i] != data2[i]:\n",
        "      N = N+1\n",
        "      print(f'     {data1[i]} is not equal {data2[i]} : updated ({N})')\n",
        "    else:\n",
        "      print(f'           {data1[i]}  is equal {data2[i]} ')\n",
        "  return N/len(data1)\n"
      ],
      "execution_count": 24,
      "outputs": []
    },
    {
      "cell_type": "code",
      "metadata": {
        "id": "RvR7jIy4jbwu",
        "colab_type": "code",
        "colab": {
          "base_uri": "https://localhost:8080/",
          "height": 116
        },
        "outputId": "60237142-8657-4f1f-a533-70b46ca45a7f"
      },
      "source": [
        "meth1_dist(list(data_pd.iloc[0,:]),list(data_pd.iloc[1,:]))"
      ],
      "execution_count": 25,
      "outputs": [
        {
          "output_type": "stream",
          "text": [
            "data1 is['red', 'single'] and data2 is ['red', 'married']\n",
            "feature0 of data1 is red,feature0 of data2 is red\n",
            "           red  is equal red \n",
            "feature1 of data1 is single,feature1 of data2 is married\n",
            "     single is not equal married : updated (1)\n"
          ],
          "name": "stdout"
        },
        {
          "output_type": "execute_result",
          "data": {
            "text/plain": [
              "0.5"
            ]
          },
          "metadata": {
            "tags": []
          },
          "execution_count": 25
        }
      ]
    },
    {
      "cell_type": "markdown",
      "metadata": {
        "id": "QL8LhuKhmbf_",
        "colab_type": "text"
      },
      "source": [
        "#HW Calculate distance matrix of data_pd using  meth1_dist()"
      ]
    },
    {
      "cell_type": "code",
      "metadata": {
        "id": "TTK6NFsLn7mC",
        "colab_type": "code",
        "colab": {}
      },
      "source": [
        "import numpy as np #จัดการตัวเลข มองเป็น matrix"
      ],
      "execution_count": 26,
      "outputs": []
    },
    {
      "cell_type": "code",
      "metadata": {
        "id": "dgzjP2tPnzoX",
        "colab_type": "code",
        "colab": {
          "base_uri": "https://localhost:8080/",
          "height": 66
        },
        "outputId": "c0243ddd-2ac4-460c-e399-59df041de410"
      },
      "source": [
        "dist_meth1_nominal = np.zeros((3,3))\n",
        "dist_meth1_nominal"
      ],
      "execution_count": 29,
      "outputs": [
        {
          "output_type": "execute_result",
          "data": {
            "text/plain": [
              "array([[0., 0., 0.],\n",
              "       [0., 0., 0.],\n",
              "       [0., 0., 0.]])"
            ]
          },
          "metadata": {
            "tags": []
          },
          "execution_count": 29
        }
      ]
    },
    {
      "cell_type": "code",
      "metadata": {
        "id": "Tn6TAsjHpg05",
        "colab_type": "code",
        "colab": {
          "base_uri": "https://localhost:8080/",
          "height": 137
        },
        "outputId": "a3895d16-e380-426c-f8d4-f7b622cc42f0"
      },
      "source": [
        "data_pd"
      ],
      "execution_count": 31,
      "outputs": [
        {
          "output_type": "execute_result",
          "data": {
            "text/html": [
              "<div>\n",
              "<style scoped>\n",
              "    .dataframe tbody tr th:only-of-type {\n",
              "        vertical-align: middle;\n",
              "    }\n",
              "\n",
              "    .dataframe tbody tr th {\n",
              "        vertical-align: top;\n",
              "    }\n",
              "\n",
              "    .dataframe thead th {\n",
              "        text-align: right;\n",
              "    }\n",
              "</style>\n",
              "<table border=\"1\" class=\"dataframe\">\n",
              "  <thead>\n",
              "    <tr style=\"text-align: right;\">\n",
              "      <th></th>\n",
              "      <th>color</th>\n",
              "      <th>status</th>\n",
              "    </tr>\n",
              "  </thead>\n",
              "  <tbody>\n",
              "    <tr>\n",
              "      <th>0</th>\n",
              "      <td>red</td>\n",
              "      <td>single</td>\n",
              "    </tr>\n",
              "    <tr>\n",
              "      <th>1</th>\n",
              "      <td>red</td>\n",
              "      <td>married</td>\n",
              "    </tr>\n",
              "    <tr>\n",
              "      <th>2</th>\n",
              "      <td>green</td>\n",
              "      <td>single</td>\n",
              "    </tr>\n",
              "  </tbody>\n",
              "</table>\n",
              "</div>"
            ],
            "text/plain": [
              "   color   status\n",
              "0    red   single\n",
              "1    red  married\n",
              "2  green   single"
            ]
          },
          "metadata": {
            "tags": []
          },
          "execution_count": 31
        }
      ]
    },
    {
      "cell_type": "code",
      "metadata": {
        "id": "WOZYNtMFj-6_",
        "colab_type": "code",
        "colab": {
          "base_uri": "https://localhost:8080/",
          "height": 816
        },
        "outputId": "fb7589cd-4285-4692-8696-497916b610d6"
      },
      "source": [
        "for i in range(3):\n",
        "  for j in range(3):\n",
        "      dist_meth1_nominal[i,j] = meth1_dist(list(data_pd.iloc[i,:]),list(data_pd.iloc[j,:]))\n",
        "dist_meth1_nominal"
      ],
      "execution_count": 32,
      "outputs": [
        {
          "output_type": "stream",
          "text": [
            "data1 is['red', 'single'] and data2 is ['red', 'single']\n",
            "feature0 of data1 is red,feature0 of data2 is red\n",
            "           red  is equal red \n",
            "feature1 of data1 is single,feature1 of data2 is single\n",
            "           single  is equal single \n",
            "data1 is['red', 'single'] and data2 is ['red', 'married']\n",
            "feature0 of data1 is red,feature0 of data2 is red\n",
            "           red  is equal red \n",
            "feature1 of data1 is single,feature1 of data2 is married\n",
            "     single is not equal married : updated (1)\n",
            "data1 is['red', 'single'] and data2 is ['green', 'single']\n",
            "feature0 of data1 is red,feature0 of data2 is green\n",
            "     red is not equal green : updated (1)\n",
            "feature1 of data1 is single,feature1 of data2 is single\n",
            "           single  is equal single \n",
            "data1 is['red', 'married'] and data2 is ['red', 'single']\n",
            "feature0 of data1 is red,feature0 of data2 is red\n",
            "           red  is equal red \n",
            "feature1 of data1 is married,feature1 of data2 is single\n",
            "     married is not equal single : updated (1)\n",
            "data1 is['red', 'married'] and data2 is ['red', 'married']\n",
            "feature0 of data1 is red,feature0 of data2 is red\n",
            "           red  is equal red \n",
            "feature1 of data1 is married,feature1 of data2 is married\n",
            "           married  is equal married \n",
            "data1 is['red', 'married'] and data2 is ['green', 'single']\n",
            "feature0 of data1 is red,feature0 of data2 is green\n",
            "     red is not equal green : updated (1)\n",
            "feature1 of data1 is married,feature1 of data2 is single\n",
            "     married is not equal single : updated (2)\n",
            "data1 is['green', 'single'] and data2 is ['red', 'single']\n",
            "feature0 of data1 is green,feature0 of data2 is red\n",
            "     green is not equal red : updated (1)\n",
            "feature1 of data1 is single,feature1 of data2 is single\n",
            "           single  is equal single \n",
            "data1 is['green', 'single'] and data2 is ['red', 'married']\n",
            "feature0 of data1 is green,feature0 of data2 is red\n",
            "     green is not equal red : updated (1)\n",
            "feature1 of data1 is single,feature1 of data2 is married\n",
            "     single is not equal married : updated (2)\n",
            "data1 is['green', 'single'] and data2 is ['green', 'single']\n",
            "feature0 of data1 is green,feature0 of data2 is green\n",
            "           green  is equal green \n",
            "feature1 of data1 is single,feature1 of data2 is single\n",
            "           single  is equal single \n"
          ],
          "name": "stdout"
        },
        {
          "output_type": "execute_result",
          "data": {
            "text/plain": [
              "array([[0. , 0.5, 0.5],\n",
              "       [0.5, 0. , 1. ],\n",
              "       [0.5, 1. , 0. ]])"
            ]
          },
          "metadata": {
            "tags": []
          },
          "execution_count": 32
        }
      ]
    },
    {
      "cell_type": "markdown",
      "metadata": {
        "id": "CM5FOaX7rsXL",
        "colab_type": "text"
      },
      "source": [
        "##Categorical feature distance method#*2*"
      ]
    },
    {
      "cell_type": "code",
      "metadata": {
        "id": "cBKQ20QNsKTO",
        "colab_type": "code",
        "colab": {
          "base_uri": "https://localhost:8080/",
          "height": 137
        },
        "outputId": "0f796742-07ef-490a-9fd5-c7b09d1bff74"
      },
      "source": [
        "data_pd #ตอนนี้ data เรามีแค่ featur ละ 2 ค่า แต่จริงๆแล้ว featur color มี 3 ค่าที่เป็นไปได้  >> red blue green // status ก็เหมือนกัน"
      ],
      "execution_count": 34,
      "outputs": [
        {
          "output_type": "execute_result",
          "data": {
            "text/html": [
              "<div>\n",
              "<style scoped>\n",
              "    .dataframe tbody tr th:only-of-type {\n",
              "        vertical-align: middle;\n",
              "    }\n",
              "\n",
              "    .dataframe tbody tr th {\n",
              "        vertical-align: top;\n",
              "    }\n",
              "\n",
              "    .dataframe thead th {\n",
              "        text-align: right;\n",
              "    }\n",
              "</style>\n",
              "<table border=\"1\" class=\"dataframe\">\n",
              "  <thead>\n",
              "    <tr style=\"text-align: right;\">\n",
              "      <th></th>\n",
              "      <th>color</th>\n",
              "      <th>status</th>\n",
              "    </tr>\n",
              "  </thead>\n",
              "  <tbody>\n",
              "    <tr>\n",
              "      <th>0</th>\n",
              "      <td>red</td>\n",
              "      <td>single</td>\n",
              "    </tr>\n",
              "    <tr>\n",
              "      <th>1</th>\n",
              "      <td>red</td>\n",
              "      <td>married</td>\n",
              "    </tr>\n",
              "    <tr>\n",
              "      <th>2</th>\n",
              "      <td>green</td>\n",
              "      <td>single</td>\n",
              "    </tr>\n",
              "  </tbody>\n",
              "</table>\n",
              "</div>"
            ],
            "text/plain": [
              "   color   status\n",
              "0    red   single\n",
              "1    red  married\n",
              "2  green   single"
            ]
          },
          "metadata": {
            "tags": []
          },
          "execution_count": 34
        }
      ]
    },
    {
      "cell_type": "code",
      "metadata": {
        "id": "iTT5WbVhsDCT",
        "colab_type": "code",
        "colab": {
          "base_uri": "https://localhost:8080/",
          "height": 167
        },
        "outputId": "1298648e-35e1-49a0-dee0-dd0a5f3a9d76"
      },
      "source": [
        "data_dict2 = {'color':['red','red','green','blue'], #color = {'red','green',blue'}\n",
        "                    'status':['single','married','single','divorced']} #status = {'single','married','divorced'}\n",
        "data_pd2 = pd.DataFrame.from_dict(data_dict2)\n",
        "data_pd2"
      ],
      "execution_count": 37,
      "outputs": [
        {
          "output_type": "execute_result",
          "data": {
            "text/html": [
              "<div>\n",
              "<style scoped>\n",
              "    .dataframe tbody tr th:only-of-type {\n",
              "        vertical-align: middle;\n",
              "    }\n",
              "\n",
              "    .dataframe tbody tr th {\n",
              "        vertical-align: top;\n",
              "    }\n",
              "\n",
              "    .dataframe thead th {\n",
              "        text-align: right;\n",
              "    }\n",
              "</style>\n",
              "<table border=\"1\" class=\"dataframe\">\n",
              "  <thead>\n",
              "    <tr style=\"text-align: right;\">\n",
              "      <th></th>\n",
              "      <th>color</th>\n",
              "      <th>status</th>\n",
              "    </tr>\n",
              "  </thead>\n",
              "  <tbody>\n",
              "    <tr>\n",
              "      <th>0</th>\n",
              "      <td>red</td>\n",
              "      <td>single</td>\n",
              "    </tr>\n",
              "    <tr>\n",
              "      <th>1</th>\n",
              "      <td>red</td>\n",
              "      <td>married</td>\n",
              "    </tr>\n",
              "    <tr>\n",
              "      <th>2</th>\n",
              "      <td>green</td>\n",
              "      <td>single</td>\n",
              "    </tr>\n",
              "    <tr>\n",
              "      <th>3</th>\n",
              "      <td>blue</td>\n",
              "      <td>divorced</td>\n",
              "    </tr>\n",
              "  </tbody>\n",
              "</table>\n",
              "</div>"
            ],
            "text/plain": [
              "   color    status\n",
              "0    red    single\n",
              "1    red   married\n",
              "2  green    single\n",
              "3   blue  divorced"
            ]
          },
          "metadata": {
            "tags": []
          },
          "execution_count": 37
        }
      ]
    },
    {
      "cell_type": "code",
      "metadata": {
        "id": "xBghTPPioyye",
        "colab_type": "code",
        "colab": {
          "base_uri": "https://localhost:8080/",
          "height": 137
        },
        "outputId": "9fa0acaa-f145-4bac-b6ea-9a6fcc3c0fcc"
      },
      "source": [
        "data_pd_binary = pd.get_dummies(data_pd2) #pd.get มันจะสร้างตาราง binary มาให้\n",
        "data_pd_binary = data_pd_binary.iloc[:3,:]\n",
        "data_pd_binary"
      ],
      "execution_count": 39,
      "outputs": [
        {
          "output_type": "execute_result",
          "data": {
            "text/html": [
              "<div>\n",
              "<style scoped>\n",
              "    .dataframe tbody tr th:only-of-type {\n",
              "        vertical-align: middle;\n",
              "    }\n",
              "\n",
              "    .dataframe tbody tr th {\n",
              "        vertical-align: top;\n",
              "    }\n",
              "\n",
              "    .dataframe thead th {\n",
              "        text-align: right;\n",
              "    }\n",
              "</style>\n",
              "<table border=\"1\" class=\"dataframe\">\n",
              "  <thead>\n",
              "    <tr style=\"text-align: right;\">\n",
              "      <th></th>\n",
              "      <th>color_blue</th>\n",
              "      <th>color_green</th>\n",
              "      <th>color_red</th>\n",
              "      <th>status_divorced</th>\n",
              "      <th>status_married</th>\n",
              "      <th>status_single</th>\n",
              "    </tr>\n",
              "  </thead>\n",
              "  <tbody>\n",
              "    <tr>\n",
              "      <th>0</th>\n",
              "      <td>0</td>\n",
              "      <td>0</td>\n",
              "      <td>1</td>\n",
              "      <td>0</td>\n",
              "      <td>0</td>\n",
              "      <td>1</td>\n",
              "    </tr>\n",
              "    <tr>\n",
              "      <th>1</th>\n",
              "      <td>0</td>\n",
              "      <td>0</td>\n",
              "      <td>1</td>\n",
              "      <td>0</td>\n",
              "      <td>1</td>\n",
              "      <td>0</td>\n",
              "    </tr>\n",
              "    <tr>\n",
              "      <th>2</th>\n",
              "      <td>0</td>\n",
              "      <td>1</td>\n",
              "      <td>0</td>\n",
              "      <td>0</td>\n",
              "      <td>0</td>\n",
              "      <td>1</td>\n",
              "    </tr>\n",
              "  </tbody>\n",
              "</table>\n",
              "</div>"
            ],
            "text/plain": [
              "   color_blue  color_green  ...  status_married  status_single\n",
              "0           0            0  ...               0              1\n",
              "1           0            0  ...               1              0\n",
              "2           0            1  ...               0              1\n",
              "\n",
              "[3 rows x 6 columns]"
            ]
          },
          "metadata": {
            "tags": []
          },
          "execution_count": 39
        }
      ]
    },
    {
      "cell_type": "code",
      "metadata": {
        "id": "0dWMYjrXs9oE",
        "colab_type": "code",
        "colab": {}
      },
      "source": [
        "#เนื่องจาก data ของเราไม่ใช่ข้อมูลทางการแพทย์ เราจะใช้สูตร symetry\n",
        "def binary_sym_dist(data1,data2):\n",
        "    r = 0\n",
        "    s = 0\n",
        "    t = 0\n",
        "    q = 0\n",
        "    for i in range(len(data1)): #วนลูปตามจำนวน feature จะใช้ len(data1 หรือ data2 ก็ได้) เพราะทั้งสองมีจำนวน feature เท่ากัน\n",
        "          if data1[i] != data2[i]: #case1 checkกรณีที่ไม่เท่ากัน #ตอนนี้เรารู้แล้วว่าตัวที่ i ของdata1ไม่เท่ากับdata2\n",
        "                if data1[i] == 0:  #ถ้าตัวแรกเป็น 0 เราจะ update s\n",
        "                      s = s+1\n",
        "                else:\n",
        "                      r = r+1\n",
        "          else:\n",
        "                if data1[i] == 0: #case2 checkกรณีที่เท่ากัน \n",
        "                      t = t+1\n",
        "                else:\n",
        "                      q = q+1\n",
        "    return (r+s) / (r+s+t+q)"
      ],
      "execution_count": 53,
      "outputs": []
    },
    {
      "cell_type": "code",
      "metadata": {
        "id": "4s_fQflCvVxs",
        "colab_type": "code",
        "colab": {
          "base_uri": "https://localhost:8080/",
          "height": 33
        },
        "outputId": "89478ad5-8891-45c3-8f1f-a36533118434"
      },
      "source": [
        "binary_sym_dist (list(data_pd_binary.iloc[0,:]),list(data_pd_binary.iloc[1,:]))"
      ],
      "execution_count": 55,
      "outputs": [
        {
          "output_type": "execute_result",
          "data": {
            "text/plain": [
              "0.3333333333333333"
            ]
          },
          "metadata": {
            "tags": []
          },
          "execution_count": 55
        }
      ]
    },
    {
      "cell_type": "markdown",
      "metadata": {
        "id": "xXbKGJ60zy4R",
        "colab_type": "text"
      },
      "source": [
        "#HW8 calculate distance matrix of data_pd_binary using binate_sym_dist()"
      ]
    },
    {
      "cell_type": "code",
      "metadata": {
        "id": "zQ9HdGzG0D7s",
        "colab_type": "code",
        "colab": {
          "base_uri": "https://localhost:8080/",
          "height": 137
        },
        "outputId": "3a3a55f8-2af3-4970-dabb-1984fb6a32f0"
      },
      "source": [
        "data_pd_binary"
      ],
      "execution_count": 56,
      "outputs": [
        {
          "output_type": "execute_result",
          "data": {
            "text/html": [
              "<div>\n",
              "<style scoped>\n",
              "    .dataframe tbody tr th:only-of-type {\n",
              "        vertical-align: middle;\n",
              "    }\n",
              "\n",
              "    .dataframe tbody tr th {\n",
              "        vertical-align: top;\n",
              "    }\n",
              "\n",
              "    .dataframe thead th {\n",
              "        text-align: right;\n",
              "    }\n",
              "</style>\n",
              "<table border=\"1\" class=\"dataframe\">\n",
              "  <thead>\n",
              "    <tr style=\"text-align: right;\">\n",
              "      <th></th>\n",
              "      <th>color_blue</th>\n",
              "      <th>color_green</th>\n",
              "      <th>color_red</th>\n",
              "      <th>status_divorced</th>\n",
              "      <th>status_married</th>\n",
              "      <th>status_single</th>\n",
              "    </tr>\n",
              "  </thead>\n",
              "  <tbody>\n",
              "    <tr>\n",
              "      <th>0</th>\n",
              "      <td>0</td>\n",
              "      <td>0</td>\n",
              "      <td>1</td>\n",
              "      <td>0</td>\n",
              "      <td>0</td>\n",
              "      <td>1</td>\n",
              "    </tr>\n",
              "    <tr>\n",
              "      <th>1</th>\n",
              "      <td>0</td>\n",
              "      <td>0</td>\n",
              "      <td>1</td>\n",
              "      <td>0</td>\n",
              "      <td>1</td>\n",
              "      <td>0</td>\n",
              "    </tr>\n",
              "    <tr>\n",
              "      <th>2</th>\n",
              "      <td>0</td>\n",
              "      <td>1</td>\n",
              "      <td>0</td>\n",
              "      <td>0</td>\n",
              "      <td>0</td>\n",
              "      <td>1</td>\n",
              "    </tr>\n",
              "  </tbody>\n",
              "</table>\n",
              "</div>"
            ],
            "text/plain": [
              "   color_blue  color_green  ...  status_married  status_single\n",
              "0           0            0  ...               0              1\n",
              "1           0            0  ...               1              0\n",
              "2           0            1  ...               0              1\n",
              "\n",
              "[3 rows x 6 columns]"
            ]
          },
          "metadata": {
            "tags": []
          },
          "execution_count": 56
        }
      ]
    },
    {
      "cell_type": "code",
      "metadata": {
        "id": "hVWwyDPn1uCE",
        "colab_type": "code",
        "colab": {}
      },
      "source": [
        "dist_binary"
      ],
      "execution_count": null,
      "outputs": []
    },
    {
      "cell_type": "code",
      "metadata": {
        "id": "VDJ8vDS51k2M",
        "colab_type": "code",
        "colab": {
          "base_uri": "https://localhost:8080/",
          "height": 66
        },
        "outputId": "79176dbb-0a04-4e35-e689-7621f09d1f7e"
      },
      "source": [
        "dist_binary = np.zeros((3,3))\n",
        "dist_binary"
      ],
      "execution_count": 60,
      "outputs": [
        {
          "output_type": "execute_result",
          "data": {
            "text/plain": [
              "array([[0., 0., 0.],\n",
              "       [0., 0., 0.],\n",
              "       [0., 0., 0.]])"
            ]
          },
          "metadata": {
            "tags": []
          },
          "execution_count": 60
        }
      ]
    },
    {
      "cell_type": "code",
      "metadata": {
        "id": "D5mvJlg8zT81",
        "colab_type": "code",
        "colab": {}
      },
      "source": [
        "for i in range(3):\n",
        "  for j in range(3):\n",
        "      dist_binary[i,j] = binary_sym_dist(list(data_pd_binary.iloc[0,:]),list(data_pd_binary.iloc[1,:]))\n"
      ],
      "execution_count": 62,
      "outputs": []
    },
    {
      "cell_type": "code",
      "metadata": {
        "id": "dnp2XnT20bOr",
        "colab_type": "code",
        "colab": {
          "base_uri": "https://localhost:8080/",
          "height": 66
        },
        "outputId": "eb5db378-f659-42b7-83a8-1db778c1a2ee"
      },
      "source": [
        "dist_binary"
      ],
      "execution_count": 63,
      "outputs": [
        {
          "output_type": "execute_result",
          "data": {
            "text/plain": [
              "array([[0.33333333, 0.33333333, 0.33333333],\n",
              "       [0.33333333, 0.33333333, 0.33333333],\n",
              "       [0.33333333, 0.33333333, 0.33333333]])"
            ]
          },
          "metadata": {
            "tags": []
          },
          "execution_count": 63
        }
      ]
    },
    {
      "cell_type": "code",
      "metadata": {
        "id": "26e2p_BT2AEv",
        "colab_type": "code",
        "colab": {}
      },
      "source": [
        ""
      ],
      "execution_count": null,
      "outputs": []
    }
  ]
}