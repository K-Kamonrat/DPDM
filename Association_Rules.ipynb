{
  "nbformat": 4,
  "nbformat_minor": 0,
  "metadata": {
    "colab": {
      "name": "Association Rules.ipynb",
      "provenance": [],
      "authorship_tag": "ABX9TyOGXmThqw9yzt/fjW4n0Con",
      "include_colab_link": true
    },
    "kernelspec": {
      "name": "python3",
      "display_name": "Python 3"
    }
  },
  "cells": [
    {
      "cell_type": "markdown",
      "metadata": {
        "id": "view-in-github",
        "colab_type": "text"
      },
      "source": [
        "<a href=\"https://colab.research.google.com/github/K-Kamonrat/DPDM/blob/master/Association_Rules.ipynb\" target=\"_parent\"><img src=\"https://colab.research.google.com/assets/colab-badge.svg\" alt=\"Open In Colab\"/></a>"
      ]
    },
    {
      "cell_type": "code",
      "metadata": {
        "id": "-bRqswoIchVu"
      },
      "source": [
        "import pandas as pd\n"
      ],
      "execution_count": 1,
      "outputs": []
    },
    {
      "cell_type": "code",
      "metadata": {
        "id": "VN5J09nxdcWg"
      },
      "source": [
        "from google.colab import drive"
      ],
      "execution_count": 2,
      "outputs": []
    },
    {
      "cell_type": "code",
      "metadata": {
        "id": "WS-dG8TGddNZ",
        "outputId": "08c484e8-ec29-4db3-bd10-6da7efd77844",
        "colab": {
          "base_uri": "https://localhost:8080/",
          "height": 34
        }
      },
      "source": [
        "drive.mount('/content/drive')"
      ],
      "execution_count": 3,
      "outputs": [
        {
          "output_type": "stream",
          "text": [
            "Mounted at /content/drive\n"
          ],
          "name": "stdout"
        }
      ]
    },
    {
      "cell_type": "code",
      "metadata": {
        "id": "dxRKMKhHdf2o"
      },
      "source": [
        "import os\n",
        "path =  '/content/drive/My Drive/DWDM_material'"
      ],
      "execution_count": 4,
      "outputs": []
    },
    {
      "cell_type": "code",
      "metadata": {
        "id": "T8newIe-dsBt"
      },
      "source": [
        "reduced_marketbasket = os.path.join(path, 'reduced_marketbasket.csv')"
      ],
      "execution_count": 5,
      "outputs": []
    },
    {
      "cell_type": "code",
      "metadata": {
        "id": "megsRqn5fDo9"
      },
      "source": [
        "reduced_marketbasket_df = pd.read_csv(reduced_marketbasket,encoding='latin1')"
      ],
      "execution_count": 6,
      "outputs": []
    },
    {
      "cell_type": "code",
      "metadata": {
        "id": "nw45OFJQfSjC",
        "outputId": "b0f5fceb-78f0-45e6-f67d-4dcbdd21e9ae",
        "colab": {
          "base_uri": "https://localhost:8080/",
          "height": 419
        }
      },
      "source": [
        "reduced_marketbasket_df"
      ],
      "execution_count": 7,
      "outputs": [
        {
          "output_type": "execute_result",
          "data": {
            "text/html": [
              "<div>\n",
              "<style scoped>\n",
              "    .dataframe tbody tr th:only-of-type {\n",
              "        vertical-align: middle;\n",
              "    }\n",
              "\n",
              "    .dataframe tbody tr th {\n",
              "        vertical-align: top;\n",
              "    }\n",
              "\n",
              "    .dataframe thead th {\n",
              "        text-align: right;\n",
              "    }\n",
              "</style>\n",
              "<table border=\"1\" class=\"dataframe\">\n",
              "  <thead>\n",
              "    <tr style=\"text-align: right;\">\n",
              "      <th></th>\n",
              "      <th>InvoiceNo</th>\n",
              "      <th>StockCode</th>\n",
              "      <th>Description</th>\n",
              "      <th>Quantity</th>\n",
              "      <th>InvoiceDate</th>\n",
              "      <th>UnitPrice</th>\n",
              "      <th>CustomerID</th>\n",
              "      <th>Country</th>\n",
              "    </tr>\n",
              "  </thead>\n",
              "  <tbody>\n",
              "    <tr>\n",
              "      <th>0</th>\n",
              "      <td>536365</td>\n",
              "      <td>85123A</td>\n",
              "      <td>WHITE HANGING HEART T-LIGHT HOLDER</td>\n",
              "      <td>6</td>\n",
              "      <td>12/01/2010 08:26</td>\n",
              "      <td>2.55</td>\n",
              "      <td>17850.0</td>\n",
              "      <td>United Kingdom</td>\n",
              "    </tr>\n",
              "    <tr>\n",
              "      <th>1</th>\n",
              "      <td>536365</td>\n",
              "      <td>71053</td>\n",
              "      <td>WHITE METAL LANTERN</td>\n",
              "      <td>6</td>\n",
              "      <td>12/01/2010 08:26</td>\n",
              "      <td>3.39</td>\n",
              "      <td>17850.0</td>\n",
              "      <td>United Kingdom</td>\n",
              "    </tr>\n",
              "    <tr>\n",
              "      <th>2</th>\n",
              "      <td>536365</td>\n",
              "      <td>84406B</td>\n",
              "      <td>CREAM CUPID HEARTS COAT HANGER</td>\n",
              "      <td>8</td>\n",
              "      <td>12/01/2010 08:26</td>\n",
              "      <td>2.75</td>\n",
              "      <td>17850.0</td>\n",
              "      <td>United Kingdom</td>\n",
              "    </tr>\n",
              "    <tr>\n",
              "      <th>3</th>\n",
              "      <td>536365</td>\n",
              "      <td>84029G</td>\n",
              "      <td>KNITTED UNION FLAG HOT WATER BOTTLE</td>\n",
              "      <td>6</td>\n",
              "      <td>12/01/2010 08:26</td>\n",
              "      <td>3.39</td>\n",
              "      <td>17850.0</td>\n",
              "      <td>United Kingdom</td>\n",
              "    </tr>\n",
              "    <tr>\n",
              "      <th>4</th>\n",
              "      <td>536365</td>\n",
              "      <td>84029E</td>\n",
              "      <td>RED WOOLLY HOTTIE WHITE HEART.</td>\n",
              "      <td>6</td>\n",
              "      <td>12/01/2010 08:26</td>\n",
              "      <td>3.39</td>\n",
              "      <td>17850.0</td>\n",
              "      <td>United Kingdom</td>\n",
              "    </tr>\n",
              "    <tr>\n",
              "      <th>...</th>\n",
              "      <td>...</td>\n",
              "      <td>...</td>\n",
              "      <td>...</td>\n",
              "      <td>...</td>\n",
              "      <td>...</td>\n",
              "      <td>...</td>\n",
              "      <td>...</td>\n",
              "      <td>...</td>\n",
              "    </tr>\n",
              "    <tr>\n",
              "      <th>541904</th>\n",
              "      <td>581587</td>\n",
              "      <td>22613</td>\n",
              "      <td>PACK OF 20 SPACEBOY NAPKINS</td>\n",
              "      <td>12</td>\n",
              "      <td>12/09/2011 12:50</td>\n",
              "      <td>0.85</td>\n",
              "      <td>12680.0</td>\n",
              "      <td>France</td>\n",
              "    </tr>\n",
              "    <tr>\n",
              "      <th>541905</th>\n",
              "      <td>581587</td>\n",
              "      <td>22899</td>\n",
              "      <td>CHILDREN'S APRON DOLLY GIRL</td>\n",
              "      <td>6</td>\n",
              "      <td>12/09/2011 12:50</td>\n",
              "      <td>2.10</td>\n",
              "      <td>12680.0</td>\n",
              "      <td>France</td>\n",
              "    </tr>\n",
              "    <tr>\n",
              "      <th>541906</th>\n",
              "      <td>581587</td>\n",
              "      <td>23254</td>\n",
              "      <td>CHILDRENS CUTLERY DOLLY GIRL</td>\n",
              "      <td>4</td>\n",
              "      <td>12/09/2011 12:50</td>\n",
              "      <td>4.15</td>\n",
              "      <td>12680.0</td>\n",
              "      <td>France</td>\n",
              "    </tr>\n",
              "    <tr>\n",
              "      <th>541907</th>\n",
              "      <td>581587</td>\n",
              "      <td>23255</td>\n",
              "      <td>CHILDRENS CUTLERY CIRCUS PARADE</td>\n",
              "      <td>4</td>\n",
              "      <td>12/09/2011 12:50</td>\n",
              "      <td>4.15</td>\n",
              "      <td>12680.0</td>\n",
              "      <td>France</td>\n",
              "    </tr>\n",
              "    <tr>\n",
              "      <th>541908</th>\n",
              "      <td>581587</td>\n",
              "      <td>22138</td>\n",
              "      <td>BAKING SET 9 PIECE RETROSPOT</td>\n",
              "      <td>3</td>\n",
              "      <td>12/09/2011 12:50</td>\n",
              "      <td>4.95</td>\n",
              "      <td>12680.0</td>\n",
              "      <td>France</td>\n",
              "    </tr>\n",
              "  </tbody>\n",
              "</table>\n",
              "<p>541909 rows × 8 columns</p>\n",
              "</div>"
            ],
            "text/plain": [
              "       InvoiceNo StockCode  ... CustomerID         Country\n",
              "0         536365    85123A  ...    17850.0  United Kingdom\n",
              "1         536365     71053  ...    17850.0  United Kingdom\n",
              "2         536365    84406B  ...    17850.0  United Kingdom\n",
              "3         536365    84029G  ...    17850.0  United Kingdom\n",
              "4         536365    84029E  ...    17850.0  United Kingdom\n",
              "...          ...       ...  ...        ...             ...\n",
              "541904    581587     22613  ...    12680.0          France\n",
              "541905    581587     22899  ...    12680.0          France\n",
              "541906    581587     23254  ...    12680.0          France\n",
              "541907    581587     23255  ...    12680.0          France\n",
              "541908    581587     22138  ...    12680.0          France\n",
              "\n",
              "[541909 rows x 8 columns]"
            ]
          },
          "metadata": {
            "tags": []
          },
          "execution_count": 7
        }
      ]
    },
    {
      "cell_type": "markdown",
      "metadata": {
        "id": "eB7Y_46PiVDi"
      },
      "source": [
        "#ดูว่าแต่ละใบเสร็จมีสินค้ากี่ชิ้น"
      ]
    },
    {
      "cell_type": "code",
      "metadata": {
        "id": "jBg71Gkvggy5",
        "outputId": "2e4f6d4a-7bb3-44f7-eccb-6ebba758907e",
        "colab": {
          "base_uri": "https://localhost:8080/",
          "height": 450
        }
      },
      "source": [
        "Inv = reduced_marketbasket_df.groupby('InvoiceNo').sum()\n",
        "Inv"
      ],
      "execution_count": 8,
      "outputs": [
        {
          "output_type": "execute_result",
          "data": {
            "text/html": [
              "<div>\n",
              "<style scoped>\n",
              "    .dataframe tbody tr th:only-of-type {\n",
              "        vertical-align: middle;\n",
              "    }\n",
              "\n",
              "    .dataframe tbody tr th {\n",
              "        vertical-align: top;\n",
              "    }\n",
              "\n",
              "    .dataframe thead th {\n",
              "        text-align: right;\n",
              "    }\n",
              "</style>\n",
              "<table border=\"1\" class=\"dataframe\">\n",
              "  <thead>\n",
              "    <tr style=\"text-align: right;\">\n",
              "      <th></th>\n",
              "      <th>Quantity</th>\n",
              "      <th>UnitPrice</th>\n",
              "      <th>CustomerID</th>\n",
              "    </tr>\n",
              "    <tr>\n",
              "      <th>InvoiceNo</th>\n",
              "      <th></th>\n",
              "      <th></th>\n",
              "      <th></th>\n",
              "    </tr>\n",
              "  </thead>\n",
              "  <tbody>\n",
              "    <tr>\n",
              "      <th>536365</th>\n",
              "      <td>40</td>\n",
              "      <td>27.37</td>\n",
              "      <td>124950.0</td>\n",
              "    </tr>\n",
              "    <tr>\n",
              "      <th>536366</th>\n",
              "      <td>12</td>\n",
              "      <td>3.70</td>\n",
              "      <td>35700.0</td>\n",
              "    </tr>\n",
              "    <tr>\n",
              "      <th>536367</th>\n",
              "      <td>83</td>\n",
              "      <td>58.24</td>\n",
              "      <td>156564.0</td>\n",
              "    </tr>\n",
              "    <tr>\n",
              "      <th>536368</th>\n",
              "      <td>15</td>\n",
              "      <td>19.10</td>\n",
              "      <td>52188.0</td>\n",
              "    </tr>\n",
              "    <tr>\n",
              "      <th>536369</th>\n",
              "      <td>3</td>\n",
              "      <td>5.95</td>\n",
              "      <td>13047.0</td>\n",
              "    </tr>\n",
              "    <tr>\n",
              "      <th>...</th>\n",
              "      <td>...</td>\n",
              "      <td>...</td>\n",
              "      <td>...</td>\n",
              "    </tr>\n",
              "    <tr>\n",
              "      <th>C581484</th>\n",
              "      <td>-80995</td>\n",
              "      <td>2.08</td>\n",
              "      <td>16446.0</td>\n",
              "    </tr>\n",
              "    <tr>\n",
              "      <th>C581490</th>\n",
              "      <td>-23</td>\n",
              "      <td>2.78</td>\n",
              "      <td>28794.0</td>\n",
              "    </tr>\n",
              "    <tr>\n",
              "      <th>C581499</th>\n",
              "      <td>-1</td>\n",
              "      <td>224.69</td>\n",
              "      <td>15498.0</td>\n",
              "    </tr>\n",
              "    <tr>\n",
              "      <th>C581568</th>\n",
              "      <td>-5</td>\n",
              "      <td>10.95</td>\n",
              "      <td>15311.0</td>\n",
              "    </tr>\n",
              "    <tr>\n",
              "      <th>C581569</th>\n",
              "      <td>-6</td>\n",
              "      <td>2.50</td>\n",
              "      <td>34630.0</td>\n",
              "    </tr>\n",
              "  </tbody>\n",
              "</table>\n",
              "<p>25900 rows × 3 columns</p>\n",
              "</div>"
            ],
            "text/plain": [
              "           Quantity  UnitPrice  CustomerID\n",
              "InvoiceNo                                 \n",
              "536365           40      27.37    124950.0\n",
              "536366           12       3.70     35700.0\n",
              "536367           83      58.24    156564.0\n",
              "536368           15      19.10     52188.0\n",
              "536369            3       5.95     13047.0\n",
              "...             ...        ...         ...\n",
              "C581484      -80995       2.08     16446.0\n",
              "C581490         -23       2.78     28794.0\n",
              "C581499          -1     224.69     15498.0\n",
              "C581568          -5      10.95     15311.0\n",
              "C581569          -6       2.50     34630.0\n",
              "\n",
              "[25900 rows x 3 columns]"
            ]
          },
          "metadata": {
            "tags": []
          },
          "execution_count": 8
        }
      ]
    },
    {
      "cell_type": "code",
      "metadata": {
        "id": "fAN_Xa7fimGR",
        "outputId": "15fe07bf-e09c-49d3-d6b8-6099a59bc9ec",
        "colab": {
          "base_uri": "https://localhost:8080/",
          "height": 238
        }
      },
      "source": [
        "transacs = reduced_marketbasket_df.groupby('InvoiceNo')['StockCode'].apply(list) #reduced_marketbasket_df = data\n",
        "transacs"
      ],
      "execution_count": 9,
      "outputs": [
        {
          "output_type": "execute_result",
          "data": {
            "text/plain": [
              "InvoiceNo\n",
              "536365     [85123A, 71053, 84406B, 84029G, 84029E, 22752,...\n",
              "536366                                        [22633, 22632]\n",
              "536367     [84879, 22745, 22748, 22749, 22310, 84969, 226...\n",
              "536368                          [22960, 22913, 22912, 22914]\n",
              "536369                                               [21756]\n",
              "                                 ...                        \n",
              "C581484                                              [23843]\n",
              "C581490                                       [22178, 23144]\n",
              "C581499                                                  [M]\n",
              "C581568                                              [21258]\n",
              "C581569                                       [84978, 20979]\n",
              "Name: StockCode, Length: 25900, dtype: object"
            ]
          },
          "metadata": {
            "tags": []
          },
          "execution_count": 9
        }
      ]
    },
    {
      "cell_type": "code",
      "metadata": {
        "id": "MzKsELbC1u_M",
        "outputId": "0a0b54dc-1557-4d11-8acd-8cfb9e3ed223",
        "colab": {
          "base_uri": "https://localhost:8080/",
          "height": 34
        }
      },
      "source": [
        "! pip install apyori #import libraly ที่ไม่มีใน colab ต้อง install ทุกครั้งที่ทำใหม่"
      ],
      "execution_count": 14,
      "outputs": [
        {
          "output_type": "stream",
          "text": [
            "Requirement already satisfied: apyori in /usr/local/lib/python3.6/dist-packages (1.1.2)\n"
          ],
          "name": "stdout"
        }
      ]
    },
    {
      "cell_type": "code",
      "metadata": {
        "id": "MOgiy6vmjxxP"
      },
      "source": [
        "from apyori import apriori"
      ],
      "execution_count": 15,
      "outputs": []
    },
    {
      "cell_type": "code",
      "metadata": {
        "id": "G9CSLPR919Lv",
        "outputId": "1b807ee5-8b8a-4a0e-d468-c78573da480c",
        "colab": {
          "base_uri": "https://localhost:8080/",
          "height": 71
        }
      },
      "source": [
        "out = list(apriori(transacs, min_support = 0.03, min_confidence = 0.1))\n",
        "out"
      ],
      "execution_count": 17,
      "outputs": [
        {
          "output_type": "execute_result",
          "data": {
            "text/plain": [
              "[RelationRecord(items=frozenset({'22386', '85099B'}), support=0.03216216216216216, ordered_statistics=[OrderedStatistic(items_base=frozenset({'22386'}), items_add=frozenset({'85099B'}), confidence=0.6766856214459789, lift=8.20897311262335), OrderedStatistic(items_base=frozenset({'85099B'}), items_add=frozenset({'22386'}), confidence=0.39016393442622943, lift=8.20897311262335)]),\n",
              " RelationRecord(items=frozenset({'22697', '22699'}), support=0.03027027027027027, ordered_statistics=[OrderedStatistic(items_base=frozenset({'22697'}), items_add=frozenset({'22699'}), confidence=0.7417218543046358, lift=17.1523178807947), OrderedStatistic(items_base=frozenset({'22699'}), items_add=frozenset({'22697'}), confidence=0.7, lift=17.1523178807947)])]"
            ]
          },
          "metadata": {
            "tags": []
          },
          "execution_count": 17
        }
      ]
    },
    {
      "cell_type": "code",
      "metadata": {
        "id": "LxuvYn_K2jKh",
        "outputId": "756bc8da-817d-4853-b91a-3669d34c87b9",
        "colab": {
          "base_uri": "https://localhost:8080/",
          "height": 54
        }
      },
      "source": [
        "out[0]"
      ],
      "execution_count": 18,
      "outputs": [
        {
          "output_type": "execute_result",
          "data": {
            "text/plain": [
              "RelationRecord(items=frozenset({'22386', '85099B'}), support=0.03216216216216216, ordered_statistics=[OrderedStatistic(items_base=frozenset({'22386'}), items_add=frozenset({'85099B'}), confidence=0.6766856214459789, lift=8.20897311262335), OrderedStatistic(items_base=frozenset({'85099B'}), items_add=frozenset({'22386'}), confidence=0.39016393442622943, lift=8.20897311262335)])"
            ]
          },
          "metadata": {
            "tags": []
          },
          "execution_count": 18
        }
      ]
    },
    {
      "cell_type": "code",
      "metadata": {
        "id": "P-bO9m4G_Zgn",
        "outputId": "a644564a-c974-47e1-c991-16550879f76d",
        "colab": {
          "base_uri": "https://localhost:8080/",
          "height": 71
        }
      },
      "source": [
        "out_1 = list(apriori(transacs, min_support = 0.02, min_confidence = 0.8))\n",
        "out_1"
      ],
      "execution_count": 32,
      "outputs": [
        {
          "output_type": "execute_result",
          "data": {
            "text/plain": [
              "[RelationRecord(items=frozenset({'22697', '22698'}), support=0.024864864864864864, ordered_statistics=[OrderedStatistic(items_base=frozenset({'22698'}), items_add=frozenset({'22697'}), confidence=0.8029925187032418, lift=19.67597562385427)]),\n",
              " RelationRecord(items=frozenset({'22697', '22699', '22698'}), support=0.021196911196911198, ordered_statistics=[OrderedStatistic(items_base=frozenset({'22697', '22698'}), items_add=frozenset({'22699'}), confidence=0.8524844720496895, lift=19.71370341614907), OrderedStatistic(items_base=frozenset({'22699', '22698'}), items_add=frozenset({'22697'}), confidence=0.8941368078175896, lift=21.909312509437626)])]"
            ]
          },
          "metadata": {
            "tags": []
          },
          "execution_count": 32
        }
      ]
    },
    {
      "cell_type": "markdown",
      "metadata": {
        "id": "l7uMLk9K9I2g"
      },
      "source": [
        "## Quiz หา k - itemset ที่มีความน่าสนใจ (โดยพิจารณาลูกค้าเป็นรายคน) พร้อมทั้งอธิบายว่าน่าสนใจยังไง"
      ]
    },
    {
      "cell_type": "code",
      "metadata": {
        "id": "Wlr_pjDI2o-x",
        "outputId": "27278ae8-82a8-4ace-f569-ce515f824cc8",
        "colab": {
          "base_uri": "https://localhost:8080/",
          "height": 238
        }
      },
      "source": [
        "Customer= reduced_marketbasket_df.groupby('CustomerID')['StockCode'].apply(list) #reduced_marketbasket_df = data\n",
        "Customer"
      ],
      "execution_count": 19,
      "outputs": [
        {
          "output_type": "execute_result",
          "data": {
            "text/plain": [
              "CustomerID\n",
              "12346.0                                       [23166, 23166]\n",
              "12347.0    [85116, 22375, 71477, 22492, 22771, 22772, 227...\n",
              "12348.0    [84992, 22951, 84991, 84991, 21213, 21213, 226...\n",
              "12349.0    [23112, 23460, 21564, 21411, 21563, 22131, 221...\n",
              "12350.0    [21908, 22412, 79066K, 79191C, 22348, 84086C, ...\n",
              "                                 ...                        \n",
              "18280.0    [82484, 22180, 22467, 22725, 22727, 22495, 223...\n",
              "18281.0    [22037, 22716, 22028, 23007, 23008, 23209, 22467]\n",
              "18282.0    [21270, 23187, 23295, 22089, 21108, 21109, 224...\n",
              "18283.0    [22356, 20726, 22384, 22386, 20717, 20718, 850...\n",
              "18287.0    [22755, 22754, 22753, 22756, 22758, 22757, 227...\n",
              "Name: StockCode, Length: 4372, dtype: object"
            ]
          },
          "metadata": {
            "tags": []
          },
          "execution_count": 19
        }
      ]
    },
    {
      "cell_type": "code",
      "metadata": {
        "id": "94yCNG80-Swb",
        "outputId": "e2552689-eb73-4dc7-ee05-2f09569c5f6b",
        "colab": {
          "base_uri": "https://localhost:8080/",
          "height": 377
        }
      },
      "source": [
        "out_Customer = list(apriori(Customer, min_support = 0.03, min_confidence = 0.95))\n",
        "out_Customer"
      ],
      "execution_count": 66,
      "outputs": [
        {
          "output_type": "execute_result",
          "data": {
            "text/plain": [
              "[RelationRecord(items=frozenset({'22697', '22699', '22698'}), support=0.060155535224153706, ordered_statistics=[OrderedStatistic(items_base=frozenset({'22699', '22698'}), items_add=frozenset({'22697'}), confidence=0.9633699633699634, lift=10.799624307316614)]),\n",
              " RelationRecord(items=frozenset({'22697', '23170', '22698'}), support=0.03133577310155535, ordered_statistics=[OrderedStatistic(items_base=frozenset({'23170', '22698'}), items_add=frozenset({'22697'}), confidence=0.9785714285714285, lift=10.97003663003663)]),\n",
              " RelationRecord(items=frozenset({'23171', '22697', '22698'}), support=0.03202195791399817, ordered_statistics=[OrderedStatistic(items_base=frozenset({'23171', '22698'}), items_add=frozenset({'22697'}), confidence=0.9859154929577466, lift=11.052365474900688)]),\n",
              " RelationRecord(items=frozenset({'22697', '23173', '22698'}), support=0.030649588289112534, ordered_statistics=[OrderedStatistic(items_base=frozenset({'23173', '22698'}), items_add=frozenset({'22697'}), confidence=0.9852941176470588, lift=11.045399698340873)]),\n",
              " RelationRecord(items=frozenset({'23245', '22697', '22698'}), support=0.030878316559926806, ordered_statistics=[OrderedStatistic(items_base=frozenset({'23245', '22698'}), items_add=frozenset({'22697'}), confidence=0.9782608695652174, lift=10.966555183946488)]),\n",
              " RelationRecord(items=frozenset({'22697', '22699', '23170'}), support=0.03545288197621226, ordered_statistics=[OrderedStatistic(items_base=frozenset({'22697', '23170'}), items_add=frozenset({'22699'}), confidence=0.9810126582278482, lift=10.044466842557734)]),\n",
              " RelationRecord(items=frozenset({'23171', '22697', '22699'}), support=0.03385178408051235, ordered_statistics=[OrderedStatistic(items_base=frozenset({'23171', '22699'}), items_add=frozenset({'22697'}), confidence=0.961038961038961, lift=10.773493173493172)]),\n",
              " RelationRecord(items=frozenset({'22697', '23173', '22699'}), support=0.03453796889295517, ordered_statistics=[OrderedStatistic(items_base=frozenset({'22697', '23173'}), items_add=frozenset({'22699'}), confidence=0.9617834394904459, lift=9.847581258670326)]),\n",
              " RelationRecord(items=frozenset({'22697', '23175', '22699'}), support=0.030878316559926806, ordered_statistics=[OrderedStatistic(items_base=frozenset({'22697', '23175'}), items_add=frozenset({'22699'}), confidence=0.9507042253521126, lift=9.734142560279711)]),\n",
              " RelationRecord(items=frozenset({'23171', '22697', '23172'}), support=0.03019213174748399, ordered_statistics=[OrderedStatistic(items_base=frozenset({'22697', '23172'}), items_add=frozenset({'23171'}), confidence=0.9635036496350365, lift=21.60224592925323)]),\n",
              " RelationRecord(items=frozenset({'23170', '22699', '22698'}), support=0.03156450137236962, ordered_statistics=[OrderedStatistic(items_base=frozenset({'23170', '22698'}), items_add=frozenset({'22699'}), confidence=0.9857142857142855, lift=10.092606222816995)]),\n",
              " RelationRecord(items=frozenset({'23173', '22699', '22698'}), support=0.030649588289112534, ordered_statistics=[OrderedStatistic(items_base=frozenset({'23173', '22698'}), items_add=frozenset({'22699'}), confidence=0.9852941176470588, lift=10.088304174128668)]),\n",
              " RelationRecord(items=frozenset({'23171', '23170', '22699'}), support=0.03385178408051235, ordered_statistics=[OrderedStatistic(items_base=frozenset({'23171', '22699'}), items_add=frozenset({'23170'}), confidence=0.961038961038961, lift=18.674054834054836)]),\n",
              " RelationRecord(items=frozenset({'23171', '23170', '23172'}), support=0.03133577310155535, ordered_statistics=[OrderedStatistic(items_base=frozenset({'23170', '23172'}), items_add=frozenset({'23171'}), confidence=0.9580419580419581, lift=21.479792002868926)]),\n",
              " RelationRecord(items=frozenset({'22697', '22698', '22699', '22423'}), support=0.05169258920402562, ordered_statistics=[OrderedStatistic(items_base=frozenset({'22698', '22699', '22423'}), items_add=frozenset({'22697'}), confidence=0.9658119658119659, lift=10.826999780845934)]),\n",
              " RelationRecord(items=frozenset({'22697', '22699', '23170', '22423'}), support=0.03110704483074108, ordered_statistics=[OrderedStatistic(items_base=frozenset({'22697', '23170', '22423'}), items_add=frozenset({'22699'}), confidence=0.9855072463768116, lift=10.09048637273869)]),\n",
              " RelationRecord(items=frozenset({'22697', '23173', '22699', '22423'}), support=0.03133577310155535, ordered_statistics=[OrderedStatistic(items_base=frozenset({'22697', '23173', '22423'}), items_add=frozenset({'22699'}), confidence=0.9580419580419581, lift=9.809272694518597)]),\n",
              " RelationRecord(items=frozenset({'22697', '22699', '23170', '22698'}), support=0.030878316559926806, ordered_statistics=[OrderedStatistic(items_base=frozenset({'23170', '22698'}), items_add=frozenset({'22697', '22699'}), confidence=0.9642857142857142, lift=13.011904761904761), OrderedStatistic(items_base=frozenset({'22697', '23170', '22698'}), items_add=frozenset({'22699'}), confidence=0.9854014598540146, lift=10.089403237662182), OrderedStatistic(items_base=frozenset({'23170', '22699', '22698'}), items_add=frozenset({'22697'}), confidence=0.9782608695652174, lift=10.966555183946488)]),\n",
              " RelationRecord(items=frozenset({'22697', '23173', '22699', '22698'}), support=0.030420860018298263, ordered_statistics=[OrderedStatistic(items_base=frozenset({'23173', '22698'}), items_add=frozenset({'22697', '22699'}), confidence=0.9779411764705882, lift=13.19616920842411), OrderedStatistic(items_base=frozenset({'22697', '23173', '22698'}), items_add=frozenset({'22699'}), confidence=0.9925373134328359, lift=10.162466356740888), OrderedStatistic(items_base=frozenset({'23173', '22699', '22698'}), items_add=frozenset({'22697'}), confidence=0.9925373134328359, lift=11.126597780329124)]),\n",
              " RelationRecord(items=frozenset({'23171', '22697', '22699', '23170'}), support=0.032708142726440986, ordered_statistics=[OrderedStatistic(items_base=frozenset({'23171', '22697', '22699'}), items_add=frozenset({'23170'}), confidence=0.9662162162162162, lift=18.774654654654658), OrderedStatistic(items_base=frozenset({'23171', '22697', '23170'}), items_add=frozenset({'22699'}), confidence=0.986206896551724, lift=10.097650004037792), OrderedStatistic(items_base=frozenset({'23171', '23170', '22699'}), items_add=frozenset({'22697'}), confidence=0.9662162162162162, lift=10.831531531531532)])]"
            ]
          },
          "metadata": {
            "tags": []
          },
          "execution_count": 66
        }
      ]
    },
    {
      "cell_type": "markdown",
      "metadata": {
        "id": "Is6d2B2qCRBA"
      },
      "source": [
        "# # กฎนี้น่าสนใจ เพราะ \n",
        "เมื่อลูกค้า ซื้อสินค้า 2 ชิ้น แล้วมักจะซื้ออีกชิ้นนึงตามมา ด้วย confidence ที่สูงมาก เอาไว้จัดโปรโมชั่นว่า ถ้าซื้อ2คู่แรก จะแถมคู่หลัง เพื่อเพิ่มยอดขาย และ lift > 1"
      ]
    },
    {
      "cell_type": "code",
      "metadata": {
        "id": "lz0S59Fc-qY5"
      },
      "source": [
        "เม"
      ],
      "execution_count": null,
      "outputs": []
    }
  ]
}