{
  "nbformat": 4,
  "nbformat_minor": 0,
  "metadata": {
    "colab": {
      "name": "pandas and data preprocessing101.ipynb",
      "provenance": [],
      "authorship_tag": "ABX9TyPQibH6BHJwitm5cPhi2ipl",
      "include_colab_link": true
    },
    "kernelspec": {
      "name": "python3",
      "display_name": "Python 3"
    }
  },
  "cells": [
    {
      "cell_type": "markdown",
      "metadata": {
        "id": "view-in-github",
        "colab_type": "text"
      },
      "source": [
        "<a href=\"https://colab.research.google.com/github/K-Kamonrat/DPDM/blob/master/pandas_and_data_preprocessing101.ipynb\" target=\"_parent\"><img src=\"https://colab.research.google.com/assets/colab-badge.svg\" alt=\"Open In Colab\"/></a>"
      ]
    },
    {
      "cell_type": "code",
      "metadata": {
        "id": "H6sC28UIcE9c",
        "colab_type": "code",
        "colab": {}
      },
      "source": [
        ""
      ],
      "execution_count": null,
      "outputs": []
    },
    {
      "cell_type": "markdown",
      "metadata": {
        "id": "EpPK5WHqdKYX",
        "colab_type": "text"
      },
      "source": [
        "![main.png](data:image/png;base64,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)"
      ]
    },
    {
      "cell_type": "code",
      "metadata": {
        "id": "ACyIVBqmdMRt",
        "colab_type": "code",
        "colab": {}
      },
      "source": [
        "import pandas"
      ],
      "execution_count": 1,
      "outputs": []
    },
    {
      "cell_type": "code",
      "metadata": {
        "id": "QIJYH1NYjLF4",
        "colab_type": "code",
        "colab": {}
      },
      "source": [
        "import pandas as pd"
      ],
      "execution_count": 2,
      "outputs": []
    },
    {
      "cell_type": "code",
      "metadata": {
        "id": "3Jw5oEAwjLlh",
        "colab_type": "code",
        "colab": {}
      },
      "source": [
        "\n",
        "from google.colab import drive"
      ],
      "execution_count": 3,
      "outputs": []
    },
    {
      "cell_type": "code",
      "metadata": {
        "id": "Wb_JHF9AjOJE",
        "colab_type": "code",
        "colab": {
          "base_uri": "https://localhost:8080/",
          "height": 122
        },
        "outputId": "7b3dbd4a-cc72-4716-ff1a-c5c12a878610"
      },
      "source": [
        "drive.mount('/content/drive')"
      ],
      "execution_count": 29,
      "outputs": [
        {
          "output_type": "stream",
          "text": [
            "Go to this URL in a browser: https://accounts.google.com/o/oauth2/auth?client_id=947318989803-6bn6qk8qdgf4n4g3pfee6491hc0brc4i.apps.googleusercontent.com&redirect_uri=urn%3aietf%3awg%3aoauth%3a2.0%3aoob&scope=email%20https%3a%2f%2fwww.googleapis.com%2fauth%2fdocs.test%20https%3a%2f%2fwww.googleapis.com%2fauth%2fdrive%20https%3a%2f%2fwww.googleapis.com%2fauth%2fdrive.photos.readonly%20https%3a%2f%2fwww.googleapis.com%2fauth%2fpeopleapi.readonly&response_type=code\n",
            "\n",
            "Enter your authorization code:\n",
            "··········\n",
            "Mounted at /content/drive\n"
          ],
          "name": "stdout"
        }
      ]
    },
    {
      "cell_type": "code",
      "metadata": {
        "id": "k2dSu6BzjQpx",
        "colab_type": "code",
        "colab": {}
      },
      "source": [
        "import os\n",
        "path =  '/content/drive/My Drive/DWDM_material'"
      ],
      "execution_count": 30,
      "outputs": []
    },
    {
      "cell_type": "code",
      "metadata": {
        "id": "kjY3ZXOkl9JO",
        "colab_type": "code",
        "colab": {}
      },
      "source": [
        "search_click = os.path.join(path, 'search_click.csv')\n",
        "w_restaurant = os.path.join(path, 'w_restaurant.csv')"
      ],
      "execution_count": 34,
      "outputs": []
    },
    {
      "cell_type": "code",
      "metadata": {
        "id": "6kTgXA6wl-Qi",
        "colab_type": "code",
        "colab": {}
      },
      "source": [
        "search_click_df = pd.read_csv(search_click)\n",
        "w_restaurant_df = pd.read_csv(w_restaurant)"
      ],
      "execution_count": 35,
      "outputs": []
    },
    {
      "cell_type": "code",
      "metadata": {
        "id": "eHnzEdhumQKZ",
        "colab_type": "code",
        "colab": {
          "base_uri": "https://localhost:8080/",
          "height": 204
        },
        "outputId": "ca6d6513-7e2d-4f3e-e068-ba402c1dc016"
      },
      "source": [
        "search_click_df.head()\n"
      ],
      "execution_count": 37,
      "outputs": [
        {
          "output_type": "execute_result",
          "data": {
            "text/html": [
              "<div>\n",
              "<style scoped>\n",
              "    .dataframe tbody tr th:only-of-type {\n",
              "        vertical-align: middle;\n",
              "    }\n",
              "\n",
              "    .dataframe tbody tr th {\n",
              "        vertical-align: top;\n",
              "    }\n",
              "\n",
              "    .dataframe thead th {\n",
              "        text-align: right;\n",
              "    }\n",
              "</style>\n",
              "<table border=\"1\" class=\"dataframe\">\n",
              "  <thead>\n",
              "    <tr style=\"text-align: right;\">\n",
              "      <th></th>\n",
              "      <th>click_timestamp</th>\n",
              "      <th>search_id</th>\n",
              "      <th>business_id</th>\n",
              "      <th>display_position</th>\n",
              "      <th>time_diff_nanos</th>\n",
              "      <th>ads</th>\n",
              "    </tr>\n",
              "  </thead>\n",
              "  <tbody>\n",
              "    <tr>\n",
              "      <th>0</th>\n",
              "      <td>11:38.9</td>\n",
              "      <td>5c004472-5ecc-4159-9698-9f329b8e26e1</td>\n",
              "      <td>298839.0</td>\n",
              "      <td>0</td>\n",
              "      <td>2.222400e+15</td>\n",
              "      <td>True</td>\n",
              "    </tr>\n",
              "    <tr>\n",
              "      <th>1</th>\n",
              "      <td>30:51.3</td>\n",
              "      <td>5f34eca0-c04e-4c10-b600-54aa447dbd8e</td>\n",
              "      <td>171372.0</td>\n",
              "      <td>0</td>\n",
              "      <td>4.608380e+14</td>\n",
              "      <td>True</td>\n",
              "    </tr>\n",
              "    <tr>\n",
              "      <th>2</th>\n",
              "      <td>32:09.6</td>\n",
              "      <td>8dc6d1f0-11f1-4239-9dd2-5c1674c81224</td>\n",
              "      <td>16157.0</td>\n",
              "      <td>0</td>\n",
              "      <td>2.581490e+15</td>\n",
              "      <td>True</td>\n",
              "    </tr>\n",
              "    <tr>\n",
              "      <th>3</th>\n",
              "      <td>00:59.8</td>\n",
              "      <td>1a5810e9-3d1f-44b9-9a2e-26ede21c524b</td>\n",
              "      <td>89741.0</td>\n",
              "      <td>1</td>\n",
              "      <td>1.404580e+15</td>\n",
              "      <td>True</td>\n",
              "    </tr>\n",
              "    <tr>\n",
              "      <th>4</th>\n",
              "      <td>23:36.8</td>\n",
              "      <td>6bc75e0d-fc65-471e-9926-ff6be6708639</td>\n",
              "      <td>189564.0</td>\n",
              "      <td>1</td>\n",
              "      <td>9.333590e+14</td>\n",
              "      <td>True</td>\n",
              "    </tr>\n",
              "  </tbody>\n",
              "</table>\n",
              "</div>"
            ],
            "text/plain": [
              "  click_timestamp                             search_id  ...  time_diff_nanos   ads\n",
              "0         11:38.9  5c004472-5ecc-4159-9698-9f329b8e26e1  ...     2.222400e+15  True\n",
              "1         30:51.3  5f34eca0-c04e-4c10-b600-54aa447dbd8e  ...     4.608380e+14  True\n",
              "2         32:09.6  8dc6d1f0-11f1-4239-9dd2-5c1674c81224  ...     2.581490e+15  True\n",
              "3         00:59.8  1a5810e9-3d1f-44b9-9a2e-26ede21c524b  ...     1.404580e+15  True\n",
              "4         23:36.8  6bc75e0d-fc65-471e-9926-ff6be6708639  ...     9.333590e+14  True\n",
              "\n",
              "[5 rows x 6 columns]"
            ]
          },
          "metadata": {
            "tags": []
          },
          "execution_count": 37
        }
      ]
    },
    {
      "cell_type": "code",
      "metadata": {
        "id": "Zyt3opi1nmsS",
        "colab_type": "code",
        "colab": {
          "base_uri": "https://localhost:8080/",
          "height": 377
        },
        "outputId": "36fcf7d9-8ddb-4f49-ef6f-b111ecd2f592"
      },
      "source": [
        "w_restaurant_df.head()"
      ],
      "execution_count": 38,
      "outputs": [
        {
          "output_type": "execute_result",
          "data": {
            "text/html": [
              "<div>\n",
              "<style scoped>\n",
              "    .dataframe tbody tr th:only-of-type {\n",
              "        vertical-align: middle;\n",
              "    }\n",
              "\n",
              "    .dataframe tbody tr th {\n",
              "        vertical-align: top;\n",
              "    }\n",
              "\n",
              "    .dataframe thead th {\n",
              "        text-align: right;\n",
              "    }\n",
              "</style>\n",
              "<table border=\"1\" class=\"dataframe\">\n",
              "  <thead>\n",
              "    <tr style=\"text-align: right;\">\n",
              "      <th></th>\n",
              "      <th>id</th>\n",
              "      <th>name</th>\n",
              "      <th>domain_id</th>\n",
              "      <th>closed</th>\n",
              "      <th>city_name</th>\n",
              "      <th>zipcode</th>\n",
              "      <th>geohash</th>\n",
              "      <th>new_open</th>\n",
              "      <th>weighted_average_rating</th>\n",
              "      <th>number_of_chains</th>\n",
              "      <th>number_of_bookmarks</th>\n",
              "      <th>number_of_reviews</th>\n",
              "      <th>number_of_product_tags</th>\n",
              "      <th>total_number_of_views</th>\n",
              "      <th>number_of_checkins</th>\n",
              "      <th>number_of_menu_groups</th>\n",
              "      <th>number_of_menu_photos</th>\n",
              "      <th>category_name</th>\n",
              "      <th>price_range</th>\n",
              "      <th>avg_price</th>\n",
              "      <th>parking</th>\n",
              "      <th>credit_card_accepted</th>\n",
              "      <th>good_for_groups</th>\n",
              "      <th>good_for_kids</th>\n",
              "      <th>bookable</th>\n",
              "      <th>best_of_wongnai</th>\n",
              "      <th>wifi</th>\n",
              "      <th>number_of_seats</th>\n",
              "      <th>music_venue</th>\n",
              "      <th>hotel_restaurant</th>\n",
              "      <th>pet_friendly</th>\n",
              "      <th>delivery</th>\n",
              "    </tr>\n",
              "  </thead>\n",
              "  <tbody>\n",
              "    <tr>\n",
              "      <th>0</th>\n",
              "      <td>2</td>\n",
              "      <td>นครินทร์ทันตกรรม</td>\n",
              "      <td>2</td>\n",
              "      <td>0</td>\n",
              "      <td>Samut Songkhram</td>\n",
              "      <td>75000</td>\n",
              "      <td>w4rh7g3</td>\n",
              "      <td>0</td>\n",
              "      <td>5.000000</td>\n",
              "      <td>NaN</td>\n",
              "      <td>NaN</td>\n",
              "      <td>1</td>\n",
              "      <td>0</td>\n",
              "      <td>3016</td>\n",
              "      <td>0</td>\n",
              "      <td>0</td>\n",
              "      <td>0</td>\n",
              "      <td>Orthodontic</td>\n",
              "      <td>NaN</td>\n",
              "      <td>NaN</td>\n",
              "      <td>3.0</td>\n",
              "      <td>0.0</td>\n",
              "      <td>NaN</td>\n",
              "      <td>NaN</td>\n",
              "      <td>NaN</td>\n",
              "      <td>NaN</td>\n",
              "      <td>NaN</td>\n",
              "      <td>13.0</td>\n",
              "      <td>NaN</td>\n",
              "      <td>NaN</td>\n",
              "      <td>NaN</td>\n",
              "      <td>NaN</td>\n",
              "    </tr>\n",
              "    <tr>\n",
              "      <th>1</th>\n",
              "      <td>4</td>\n",
              "      <td>Corner House</td>\n",
              "      <td>1</td>\n",
              "      <td>0</td>\n",
              "      <td>Bangkok Metropolitan Region</td>\n",
              "      <td>12150</td>\n",
              "      <td>w4rx73h</td>\n",
              "      <td>0</td>\n",
              "      <td>2.000000</td>\n",
              "      <td>NaN</td>\n",
              "      <td>NaN</td>\n",
              "      <td>1</td>\n",
              "      <td>0</td>\n",
              "      <td>321</td>\n",
              "      <td>0</td>\n",
              "      <td>0</td>\n",
              "      <td>1</td>\n",
              "      <td>Quick Meal</td>\n",
              "      <td>1.0</td>\n",
              "      <td>NaN</td>\n",
              "      <td>1.0</td>\n",
              "      <td>NaN</td>\n",
              "      <td>NaN</td>\n",
              "      <td>NaN</td>\n",
              "      <td>NaN</td>\n",
              "      <td>NaN</td>\n",
              "      <td>NaN</td>\n",
              "      <td>NaN</td>\n",
              "      <td>NaN</td>\n",
              "      <td>NaN</td>\n",
              "      <td>NaN</td>\n",
              "      <td>NaN</td>\n",
              "    </tr>\n",
              "    <tr>\n",
              "      <th>2</th>\n",
              "      <td>5</td>\n",
              "      <td>วัดโลกยสุธาราม</td>\n",
              "      <td>4</td>\n",
              "      <td>0</td>\n",
              "      <td>Phra Nakhon Si Ayutthaya</td>\n",
              "      <td>13000</td>\n",
              "      <td>w4x98jk</td>\n",
              "      <td>0</td>\n",
              "      <td>4.000000</td>\n",
              "      <td>NaN</td>\n",
              "      <td>1.0</td>\n",
              "      <td>0</td>\n",
              "      <td>0</td>\n",
              "      <td>167</td>\n",
              "      <td>0</td>\n",
              "      <td>0</td>\n",
              "      <td>0</td>\n",
              "      <td>Historical/Religion</td>\n",
              "      <td>NaN</td>\n",
              "      <td>NaN</td>\n",
              "      <td>1.0</td>\n",
              "      <td>NaN</td>\n",
              "      <td>NaN</td>\n",
              "      <td>NaN</td>\n",
              "      <td>NaN</td>\n",
              "      <td>NaN</td>\n",
              "      <td>NaN</td>\n",
              "      <td>NaN</td>\n",
              "      <td>NaN</td>\n",
              "      <td>NaN</td>\n",
              "      <td>NaN</td>\n",
              "      <td>NaN</td>\n",
              "    </tr>\n",
              "    <tr>\n",
              "      <th>3</th>\n",
              "      <td>6</td>\n",
              "      <td>นันท์คาราโอเกะ</td>\n",
              "      <td>1</td>\n",
              "      <td>0</td>\n",
              "      <td>Bangkok Metropolitan Region</td>\n",
              "      <td>10700</td>\n",
              "      <td>w4rqw9q</td>\n",
              "      <td>0</td>\n",
              "      <td>0.000000</td>\n",
              "      <td>NaN</td>\n",
              "      <td>NaN</td>\n",
              "      <td>0</td>\n",
              "      <td>0</td>\n",
              "      <td>901</td>\n",
              "      <td>0</td>\n",
              "      <td>0</td>\n",
              "      <td>0</td>\n",
              "      <td>Karaoke</td>\n",
              "      <td>NaN</td>\n",
              "      <td>NaN</td>\n",
              "      <td>NaN</td>\n",
              "      <td>NaN</td>\n",
              "      <td>NaN</td>\n",
              "      <td>NaN</td>\n",
              "      <td>NaN</td>\n",
              "      <td>NaN</td>\n",
              "      <td>NaN</td>\n",
              "      <td>NaN</td>\n",
              "      <td>NaN</td>\n",
              "      <td>NaN</td>\n",
              "      <td>NaN</td>\n",
              "      <td>NaN</td>\n",
              "    </tr>\n",
              "    <tr>\n",
              "      <th>4</th>\n",
              "      <td>7</td>\n",
              "      <td>Buono Caffe</td>\n",
              "      <td>1</td>\n",
              "      <td>0</td>\n",
              "      <td>Bangkok Metropolitan Region</td>\n",
              "      <td>10220</td>\n",
              "      <td>w4rx4gd</td>\n",
              "      <td>0</td>\n",
              "      <td>3.738462</td>\n",
              "      <td>NaN</td>\n",
              "      <td>15.0</td>\n",
              "      <td>3</td>\n",
              "      <td>0</td>\n",
              "      <td>2360</td>\n",
              "      <td>1</td>\n",
              "      <td>0</td>\n",
              "      <td>2</td>\n",
              "      <td>Café/Coffee Shop</td>\n",
              "      <td>1.0</td>\n",
              "      <td>NaN</td>\n",
              "      <td>1.0</td>\n",
              "      <td>0.0</td>\n",
              "      <td>NaN</td>\n",
              "      <td>NaN</td>\n",
              "      <td>NaN</td>\n",
              "      <td>NaN</td>\n",
              "      <td>1.0</td>\n",
              "      <td>2.0</td>\n",
              "      <td>NaN</td>\n",
              "      <td>NaN</td>\n",
              "      <td>NaN</td>\n",
              "      <td>NaN</td>\n",
              "    </tr>\n",
              "  </tbody>\n",
              "</table>\n",
              "</div>"
            ],
            "text/plain": [
              "   id              name  domain_id  ...  hotel_restaurant pet_friendly delivery\n",
              "0   2  นครินทร์ทันตกรรม          2  ...               NaN          NaN      NaN\n",
              "1   4      Corner House          1  ...               NaN          NaN      NaN\n",
              "2   5    วัดโลกยสุธาราม          4  ...               NaN          NaN      NaN\n",
              "3   6    นันท์คาราโอเกะ          1  ...               NaN          NaN      NaN\n",
              "4   7       Buono Caffe          1  ...               NaN          NaN      NaN\n",
              "\n",
              "[5 rows x 32 columns]"
            ]
          },
          "metadata": {
            "tags": []
          },
          "execution_count": 38
        }
      ]
    },
    {
      "cell_type": "code",
      "metadata": {
        "id": "etTFjh0_oHAh",
        "colab_type": "code",
        "colab": {
          "base_uri": "https://localhost:8080/",
          "height": 34
        },
        "outputId": "e753d55b-3d81-4316-d297-f971ebeceb01"
      },
      "source": [
        "search_click_df.shape #.shape เอาไว้เช็ครูปร่างของตาราง จะแสดงค่า (dataจำนวนแถว , featureจำนวนคอลัม)"
      ],
      "execution_count": 39,
      "outputs": [
        {
          "output_type": "execute_result",
          "data": {
            "text/plain": [
              "(1048575, 6)"
            ]
          },
          "metadata": {
            "tags": []
          },
          "execution_count": 39
        }
      ]
    },
    {
      "cell_type": "code",
      "metadata": {
        "id": "IHA4DInJpPRB",
        "colab_type": "code",
        "colab": {
          "base_uri": "https://localhost:8080/",
          "height": 34
        },
        "outputId": "a6342297-341d-4412-f5cb-fe726f9ad010"
      },
      "source": [
        "w_restaurant_df.shape"
      ],
      "execution_count": 40,
      "outputs": [
        {
          "output_type": "execute_result",
          "data": {
            "text/plain": [
              "(246847, 32)"
            ]
          },
          "metadata": {
            "tags": []
          },
          "execution_count": 40
        }
      ]
    },
    {
      "cell_type": "code",
      "metadata": {
        "id": "PjYdXx7dpSxg",
        "colab_type": "code",
        "colab": {
          "base_uri": "https://localhost:8080/",
          "height": 34
        },
        "outputId": "d48e1190-f0da-4043-b486-0fa43e34f502"
      },
      "source": [
        "search_click_df.shape[0]"
      ],
      "execution_count": 41,
      "outputs": [
        {
          "output_type": "execute_result",
          "data": {
            "text/plain": [
              "1048575"
            ]
          },
          "metadata": {
            "tags": []
          },
          "execution_count": 41
        }
      ]
    },
    {
      "cell_type": "markdown",
      "metadata": {
        "id": "ysk7h-xJp3Vi",
        "colab_type": "text"
      },
      "source": [
        "#0.Point to data in the table"
      ]
    },
    {
      "cell_type": "markdown",
      "metadata": {
        "id": "y7hrqtlIp-Fz",
        "colab_type": "text"
      },
      "source": [
        "##normal index"
      ]
    },
    {
      "cell_type": "code",
      "metadata": {
        "id": "Az7ucon0pvbp",
        "colab_type": "code",
        "colab": {
          "base_uri": "https://localhost:8080/",
          "height": 221
        },
        "outputId": "f64021bb-63dd-497e-cc7e-f9b9fcb47e04"
      },
      "source": [
        "search_click_df['search_id'] #ใส่ชื่อคอลัมม์เลย"
      ],
      "execution_count": 42,
      "outputs": [
        {
          "output_type": "execute_result",
          "data": {
            "text/plain": [
              "0          5c004472-5ecc-4159-9698-9f329b8e26e1\n",
              "1          5f34eca0-c04e-4c10-b600-54aa447dbd8e\n",
              "2          8dc6d1f0-11f1-4239-9dd2-5c1674c81224\n",
              "3          1a5810e9-3d1f-44b9-9a2e-26ede21c524b\n",
              "4          6bc75e0d-fc65-471e-9926-ff6be6708639\n",
              "                           ...                 \n",
              "1048570    99aab616-6fc5-4fbf-994b-4aebee7bb360\n",
              "1048571    d70a2c5d-ee94-4e4c-9f7c-c5faac6db12a\n",
              "1048572    4c1de7fe-300e-41aa-9d01-914344fc3753\n",
              "1048573    2ec0ddec-e450-4b98-9779-42b77aa7eda5\n",
              "1048574    5741d9cf-b9f1-441d-aa83-d2b0179bf874\n",
              "Name: search_id, Length: 1048575, dtype: object"
            ]
          },
          "metadata": {
            "tags": []
          },
          "execution_count": 42
        }
      ]
    },
    {
      "cell_type": "code",
      "metadata": {
        "id": "QfUz5uq4qIFi",
        "colab_type": "code",
        "colab": {
          "base_uri": "https://localhost:8080/",
          "height": 34
        },
        "outputId": "24482a3c-8230-4cba-d670-fee2703e97dd"
      },
      "source": [
        "search_click_df['search_id'][0]  #ด้านแนวตั้งใช้ชื่อตาราง ด้านแนวนอนใช้ตะเลขระบะตำแหน่งของdata"
      ],
      "execution_count": 44,
      "outputs": [
        {
          "output_type": "execute_result",
          "data": {
            "application/vnd.google.colaboratory.intrinsic+json": {
              "type": "string"
            },
            "text/plain": [
              "'5c004472-5ecc-4159-9698-9f329b8e26e1'"
            ]
          },
          "metadata": {
            "tags": []
          },
          "execution_count": 44
        }
      ]
    },
    {
      "cell_type": "code",
      "metadata": {
        "id": "avOmCYRBqQcI",
        "colab_type": "code",
        "colab": {
          "base_uri": "https://localhost:8080/",
          "height": 419
        },
        "outputId": "e2206758-e813-4326-a708-44d0525f067b"
      },
      "source": [
        "w_restaurant_df[['name','city_name','weighted_average_rating']]"
      ],
      "execution_count": 45,
      "outputs": [
        {
          "output_type": "execute_result",
          "data": {
            "text/html": [
              "<div>\n",
              "<style scoped>\n",
              "    .dataframe tbody tr th:only-of-type {\n",
              "        vertical-align: middle;\n",
              "    }\n",
              "\n",
              "    .dataframe tbody tr th {\n",
              "        vertical-align: top;\n",
              "    }\n",
              "\n",
              "    .dataframe thead th {\n",
              "        text-align: right;\n",
              "    }\n",
              "</style>\n",
              "<table border=\"1\" class=\"dataframe\">\n",
              "  <thead>\n",
              "    <tr style=\"text-align: right;\">\n",
              "      <th></th>\n",
              "      <th>name</th>\n",
              "      <th>city_name</th>\n",
              "      <th>weighted_average_rating</th>\n",
              "    </tr>\n",
              "  </thead>\n",
              "  <tbody>\n",
              "    <tr>\n",
              "      <th>0</th>\n",
              "      <td>นครินทร์ทันตกรรม</td>\n",
              "      <td>Samut Songkhram</td>\n",
              "      <td>5.000000</td>\n",
              "    </tr>\n",
              "    <tr>\n",
              "      <th>1</th>\n",
              "      <td>Corner House</td>\n",
              "      <td>Bangkok Metropolitan Region</td>\n",
              "      <td>2.000000</td>\n",
              "    </tr>\n",
              "    <tr>\n",
              "      <th>2</th>\n",
              "      <td>วัดโลกยสุธาราม</td>\n",
              "      <td>Phra Nakhon Si Ayutthaya</td>\n",
              "      <td>4.000000</td>\n",
              "    </tr>\n",
              "    <tr>\n",
              "      <th>3</th>\n",
              "      <td>นันท์คาราโอเกะ</td>\n",
              "      <td>Bangkok Metropolitan Region</td>\n",
              "      <td>0.000000</td>\n",
              "    </tr>\n",
              "    <tr>\n",
              "      <th>4</th>\n",
              "      <td>Buono Caffe</td>\n",
              "      <td>Bangkok Metropolitan Region</td>\n",
              "      <td>3.738462</td>\n",
              "    </tr>\n",
              "    <tr>\n",
              "      <th>...</th>\n",
              "      <td>...</td>\n",
              "      <td>...</td>\n",
              "      <td>...</td>\n",
              "    </tr>\n",
              "    <tr>\n",
              "      <th>246842</th>\n",
              "      <td>Sushi Tama</td>\n",
              "      <td>Bangkok Metropolitan Region</td>\n",
              "      <td>3.663522</td>\n",
              "    </tr>\n",
              "    <tr>\n",
              "      <th>246843</th>\n",
              "      <td>สะบายดี คาราโอเกะ</td>\n",
              "      <td>Bangkok Metropolitan Region</td>\n",
              "      <td>0.000000</td>\n",
              "    </tr>\n",
              "    <tr>\n",
              "      <th>246844</th>\n",
              "      <td>สเต็กแม่&amp;กาแฟลูก</td>\n",
              "      <td>Bangkok Metropolitan Region</td>\n",
              "      <td>4.000000</td>\n",
              "    </tr>\n",
              "    <tr>\n",
              "      <th>246845</th>\n",
              "      <td>Mom Made</td>\n",
              "      <td>Nakhon Si Thammarat</td>\n",
              "      <td>5.000000</td>\n",
              "    </tr>\n",
              "    <tr>\n",
              "      <th>246846</th>\n",
              "      <td>ก๋วยเตี๋ยวหมูน้ำตก ก๋วยเตี๋ยวเรือทอง</td>\n",
              "      <td>Suphan Buri</td>\n",
              "      <td>3.000000</td>\n",
              "    </tr>\n",
              "  </tbody>\n",
              "</table>\n",
              "<p>246847 rows × 3 columns</p>\n",
              "</div>"
            ],
            "text/plain": [
              "                                        name  ... weighted_average_rating\n",
              "0                           นครินทร์ทันตกรรม  ...                5.000000\n",
              "1                               Corner House  ...                2.000000\n",
              "2                             วัดโลกยสุธาราม  ...                4.000000\n",
              "3                             นันท์คาราโอเกะ  ...                0.000000\n",
              "4                                Buono Caffe  ...                3.738462\n",
              "...                                      ...  ...                     ...\n",
              "246842                            Sushi Tama  ...                3.663522\n",
              "246843                     สะบายดี คาราโอเกะ  ...                0.000000\n",
              "246844                      สเต็กแม่&กาแฟลูก  ...                4.000000\n",
              "246845                              Mom Made  ...                5.000000\n",
              "246846  ก๋วยเตี๋ยวหมูน้ำตก ก๋วยเตี๋ยวเรือทอง  ...                3.000000\n",
              "\n",
              "[246847 rows x 3 columns]"
            ]
          },
          "metadata": {
            "tags": []
          },
          "execution_count": 45
        }
      ]
    },
    {
      "cell_type": "markdown",
      "metadata": {
        "id": "6SocU1rCq_pj",
        "colab_type": "text"
      },
      "source": [
        "##.iloc\n",
        "* มอง data เป็น matrix"
      ]
    },
    {
      "cell_type": "code",
      "metadata": {
        "id": "iWcox58Pqok7",
        "colab_type": "code",
        "colab": {
          "base_uri": "https://localhost:8080/",
          "height": 34
        },
        "outputId": "f35b1894-abc2-4108-f7a7-54017aca8e0f"
      },
      "source": [
        "search_click_df.iloc[0,1]"
      ],
      "execution_count": 46,
      "outputs": [
        {
          "output_type": "execute_result",
          "data": {
            "application/vnd.google.colaboratory.intrinsic+json": {
              "type": "string"
            },
            "text/plain": [
              "'5c004472-5ecc-4159-9698-9f329b8e26e1'"
            ]
          },
          "metadata": {
            "tags": []
          },
          "execution_count": 46
        }
      ]
    },
    {
      "cell_type": "code",
      "metadata": {
        "id": "Yo2UjgtJrM5o",
        "colab_type": "code",
        "colab": {
          "base_uri": "https://localhost:8080/",
          "height": 359
        },
        "outputId": "6c9847ca-95b9-4d1c-fc32-108986bc482a"
      },
      "source": [
        "search_click_df.iloc[:10,:2] #matrix sclicing"
      ],
      "execution_count": 48,
      "outputs": [
        {
          "output_type": "execute_result",
          "data": {
            "text/html": [
              "<div>\n",
              "<style scoped>\n",
              "    .dataframe tbody tr th:only-of-type {\n",
              "        vertical-align: middle;\n",
              "    }\n",
              "\n",
              "    .dataframe tbody tr th {\n",
              "        vertical-align: top;\n",
              "    }\n",
              "\n",
              "    .dataframe thead th {\n",
              "        text-align: right;\n",
              "    }\n",
              "</style>\n",
              "<table border=\"1\" class=\"dataframe\">\n",
              "  <thead>\n",
              "    <tr style=\"text-align: right;\">\n",
              "      <th></th>\n",
              "      <th>click_timestamp</th>\n",
              "      <th>search_id</th>\n",
              "    </tr>\n",
              "  </thead>\n",
              "  <tbody>\n",
              "    <tr>\n",
              "      <th>0</th>\n",
              "      <td>11:38.9</td>\n",
              "      <td>5c004472-5ecc-4159-9698-9f329b8e26e1</td>\n",
              "    </tr>\n",
              "    <tr>\n",
              "      <th>1</th>\n",
              "      <td>30:51.3</td>\n",
              "      <td>5f34eca0-c04e-4c10-b600-54aa447dbd8e</td>\n",
              "    </tr>\n",
              "    <tr>\n",
              "      <th>2</th>\n",
              "      <td>32:09.6</td>\n",
              "      <td>8dc6d1f0-11f1-4239-9dd2-5c1674c81224</td>\n",
              "    </tr>\n",
              "    <tr>\n",
              "      <th>3</th>\n",
              "      <td>00:59.8</td>\n",
              "      <td>1a5810e9-3d1f-44b9-9a2e-26ede21c524b</td>\n",
              "    </tr>\n",
              "    <tr>\n",
              "      <th>4</th>\n",
              "      <td>23:36.8</td>\n",
              "      <td>6bc75e0d-fc65-471e-9926-ff6be6708639</td>\n",
              "    </tr>\n",
              "    <tr>\n",
              "      <th>5</th>\n",
              "      <td>48:16.7</td>\n",
              "      <td>92ea02ba-2c89-4efd-973c-e23526c531de</td>\n",
              "    </tr>\n",
              "    <tr>\n",
              "      <th>6</th>\n",
              "      <td>39:18.4</td>\n",
              "      <td>79d61918-fb3e-4181-99b6-7a7abddfcdb1</td>\n",
              "    </tr>\n",
              "    <tr>\n",
              "      <th>7</th>\n",
              "      <td>33:39.0</td>\n",
              "      <td>7f8b2b57-dea1-4fe1-84c8-5a7d63750e47</td>\n",
              "    </tr>\n",
              "    <tr>\n",
              "      <th>8</th>\n",
              "      <td>07:48.3</td>\n",
              "      <td>3d9217bb-3eae-42b5-8cf3-a756efae2cfa</td>\n",
              "    </tr>\n",
              "    <tr>\n",
              "      <th>9</th>\n",
              "      <td>41:25.4</td>\n",
              "      <td>a2cb0d41-6e1f-4169-9140-cb671fbb41dc</td>\n",
              "    </tr>\n",
              "  </tbody>\n",
              "</table>\n",
              "</div>"
            ],
            "text/plain": [
              "  click_timestamp                             search_id\n",
              "0         11:38.9  5c004472-5ecc-4159-9698-9f329b8e26e1\n",
              "1         30:51.3  5f34eca0-c04e-4c10-b600-54aa447dbd8e\n",
              "2         32:09.6  8dc6d1f0-11f1-4239-9dd2-5c1674c81224\n",
              "3         00:59.8  1a5810e9-3d1f-44b9-9a2e-26ede21c524b\n",
              "4         23:36.8  6bc75e0d-fc65-471e-9926-ff6be6708639\n",
              "5         48:16.7  92ea02ba-2c89-4efd-973c-e23526c531de\n",
              "6         39:18.4  79d61918-fb3e-4181-99b6-7a7abddfcdb1\n",
              "7         33:39.0  7f8b2b57-dea1-4fe1-84c8-5a7d63750e47\n",
              "8         07:48.3  3d9217bb-3eae-42b5-8cf3-a756efae2cfa\n",
              "9         41:25.4  a2cb0d41-6e1f-4169-9140-cb671fbb41dc"
            ]
          },
          "metadata": {
            "tags": []
          },
          "execution_count": 48
        }
      ]
    },
    {
      "cell_type": "markdown",
      "metadata": {
        "id": "bCfR0PCGrqan",
        "colab_type": "text"
      },
      "source": [
        "#Missing value"
      ]
    },
    {
      "cell_type": "code",
      "metadata": {
        "id": "SwrwsaA3rUwJ",
        "colab_type": "code",
        "colab": {
          "base_uri": "https://localhost:8080/",
          "height": 419
        },
        "outputId": "b4c5aac8-5784-4402-e930-5735aaccc399"
      },
      "source": [
        "search_click_df.isnull() #.isnull เอาไว้เช็คว่ามี missing value รึป่าว >> True หมายว่าว่า ช่องนั้นเป็น missing value ถ้าไม่ใช่ จะขึ้นว่า False"
      ],
      "execution_count": 50,
      "outputs": [
        {
          "output_type": "execute_result",
          "data": {
            "text/html": [
              "<div>\n",
              "<style scoped>\n",
              "    .dataframe tbody tr th:only-of-type {\n",
              "        vertical-align: middle;\n",
              "    }\n",
              "\n",
              "    .dataframe tbody tr th {\n",
              "        vertical-align: top;\n",
              "    }\n",
              "\n",
              "    .dataframe thead th {\n",
              "        text-align: right;\n",
              "    }\n",
              "</style>\n",
              "<table border=\"1\" class=\"dataframe\">\n",
              "  <thead>\n",
              "    <tr style=\"text-align: right;\">\n",
              "      <th></th>\n",
              "      <th>click_timestamp</th>\n",
              "      <th>search_id</th>\n",
              "      <th>business_id</th>\n",
              "      <th>display_position</th>\n",
              "      <th>time_diff_nanos</th>\n",
              "      <th>ads</th>\n",
              "    </tr>\n",
              "  </thead>\n",
              "  <tbody>\n",
              "    <tr>\n",
              "      <th>0</th>\n",
              "      <td>False</td>\n",
              "      <td>False</td>\n",
              "      <td>False</td>\n",
              "      <td>False</td>\n",
              "      <td>False</td>\n",
              "      <td>False</td>\n",
              "    </tr>\n",
              "    <tr>\n",
              "      <th>1</th>\n",
              "      <td>False</td>\n",
              "      <td>False</td>\n",
              "      <td>False</td>\n",
              "      <td>False</td>\n",
              "      <td>False</td>\n",
              "      <td>False</td>\n",
              "    </tr>\n",
              "    <tr>\n",
              "      <th>2</th>\n",
              "      <td>False</td>\n",
              "      <td>False</td>\n",
              "      <td>False</td>\n",
              "      <td>False</td>\n",
              "      <td>False</td>\n",
              "      <td>False</td>\n",
              "    </tr>\n",
              "    <tr>\n",
              "      <th>3</th>\n",
              "      <td>False</td>\n",
              "      <td>False</td>\n",
              "      <td>False</td>\n",
              "      <td>False</td>\n",
              "      <td>False</td>\n",
              "      <td>False</td>\n",
              "    </tr>\n",
              "    <tr>\n",
              "      <th>4</th>\n",
              "      <td>False</td>\n",
              "      <td>False</td>\n",
              "      <td>False</td>\n",
              "      <td>False</td>\n",
              "      <td>False</td>\n",
              "      <td>False</td>\n",
              "    </tr>\n",
              "    <tr>\n",
              "      <th>...</th>\n",
              "      <td>...</td>\n",
              "      <td>...</td>\n",
              "      <td>...</td>\n",
              "      <td>...</td>\n",
              "      <td>...</td>\n",
              "      <td>...</td>\n",
              "    </tr>\n",
              "    <tr>\n",
              "      <th>1048570</th>\n",
              "      <td>False</td>\n",
              "      <td>False</td>\n",
              "      <td>False</td>\n",
              "      <td>False</td>\n",
              "      <td>False</td>\n",
              "      <td>False</td>\n",
              "    </tr>\n",
              "    <tr>\n",
              "      <th>1048571</th>\n",
              "      <td>False</td>\n",
              "      <td>False</td>\n",
              "      <td>False</td>\n",
              "      <td>False</td>\n",
              "      <td>False</td>\n",
              "      <td>False</td>\n",
              "    </tr>\n",
              "    <tr>\n",
              "      <th>1048572</th>\n",
              "      <td>False</td>\n",
              "      <td>False</td>\n",
              "      <td>False</td>\n",
              "      <td>False</td>\n",
              "      <td>False</td>\n",
              "      <td>False</td>\n",
              "    </tr>\n",
              "    <tr>\n",
              "      <th>1048573</th>\n",
              "      <td>False</td>\n",
              "      <td>False</td>\n",
              "      <td>False</td>\n",
              "      <td>False</td>\n",
              "      <td>False</td>\n",
              "      <td>False</td>\n",
              "    </tr>\n",
              "    <tr>\n",
              "      <th>1048574</th>\n",
              "      <td>False</td>\n",
              "      <td>False</td>\n",
              "      <td>False</td>\n",
              "      <td>False</td>\n",
              "      <td>False</td>\n",
              "      <td>False</td>\n",
              "    </tr>\n",
              "  </tbody>\n",
              "</table>\n",
              "<p>1048575 rows × 6 columns</p>\n",
              "</div>"
            ],
            "text/plain": [
              "         click_timestamp  search_id  ...  time_diff_nanos    ads\n",
              "0                  False      False  ...            False  False\n",
              "1                  False      False  ...            False  False\n",
              "2                  False      False  ...            False  False\n",
              "3                  False      False  ...            False  False\n",
              "4                  False      False  ...            False  False\n",
              "...                  ...        ...  ...              ...    ...\n",
              "1048570            False      False  ...            False  False\n",
              "1048571            False      False  ...            False  False\n",
              "1048572            False      False  ...            False  False\n",
              "1048573            False      False  ...            False  False\n",
              "1048574            False      False  ...            False  False\n",
              "\n",
              "[1048575 rows x 6 columns]"
            ]
          },
          "metadata": {
            "tags": []
          },
          "execution_count": 50
        }
      ]
    },
    {
      "cell_type": "code",
      "metadata": {
        "id": "Fvzi0oIUrwVK",
        "colab_type": "code",
        "colab": {
          "base_uri": "https://localhost:8080/",
          "height": 136
        },
        "outputId": "e99bb0e6-cd22-46b8-c89d-7630b412137b"
      },
      "source": [
        "search_click_df.isnull().any()  #.any คือการสรุปรวมความจริงทั้งหมดในฝั่งคอลัมม์   เอาข้อมูลในแต่ละข้อลัมล์มา or(logic) กันทั้งหมด"
      ],
      "execution_count": 52,
      "outputs": [
        {
          "output_type": "execute_result",
          "data": {
            "text/plain": [
              "click_timestamp     False\n",
              "search_id            True\n",
              "business_id          True\n",
              "display_position    False\n",
              "time_diff_nanos     False\n",
              "ads                 False\n",
              "dtype: bool"
            ]
          },
          "metadata": {
            "tags": []
          },
          "execution_count": 52
        }
      ]
    },
    {
      "cell_type": "code",
      "metadata": {
        "id": "VPX6dvx-tO6v",
        "colab_type": "code",
        "colab": {
          "base_uri": "https://localhost:8080/",
          "height": 34
        },
        "outputId": "1c613cb3-8972-46da-ea83-af0c406c7570"
      },
      "source": [
        "search_click_df.isnull().any().any() #เอาความจริงที่เหลืออยู่คอลัมม์เดียวมา or กันทั้งหมด จะได้รู้ความจริงทั้งตาราง"
      ],
      "execution_count": 54,
      "outputs": [
        {
          "output_type": "execute_result",
          "data": {
            "text/plain": [
              "True"
            ]
          },
          "metadata": {
            "tags": []
          },
          "execution_count": 54
        }
      ]
    },
    {
      "cell_type": "code",
      "metadata": {
        "id": "GXBpUenxseeo",
        "colab_type": "code",
        "colab": {
          "base_uri": "https://localhost:8080/",
          "height": 136
        },
        "outputId": "81469b99-74e0-4eb7-8286-5c36c918cc11"
      },
      "source": [
        "search_click_df.isnull().all() #.all คือการสรุปรวมความจริงทั้งหมดในฝั่งคอลัมม์   เอาข้อมูลในแต่ละข้อลัมล์มา and(logic) กันทั้งหมด"
      ],
      "execution_count": 53,
      "outputs": [
        {
          "output_type": "execute_result",
          "data": {
            "text/plain": [
              "click_timestamp     False\n",
              "search_id           False\n",
              "business_id         False\n",
              "display_position    False\n",
              "time_diff_nanos     False\n",
              "ads                 False\n",
              "dtype: bool"
            ]
          },
          "metadata": {
            "tags": []
          },
          "execution_count": 53
        }
      ]
    },
    {
      "cell_type": "markdown",
      "metadata": {
        "id": "1HVXgtfjtfBQ",
        "colab_type": "text"
      },
      "source": [
        "#Handdle Missing value 1"
      ]
    },
    {
      "cell_type": "markdown",
      "metadata": {
        "id": "MExDgIpotjnw",
        "colab_type": "text"
      },
      "source": [
        "* delete ข้อมูลนั้นไปเลย"
      ]
    },
    {
      "cell_type": "code",
      "metadata": {
        "id": "9RAEw3TktIhL",
        "colab_type": "code",
        "colab": {}
      },
      "source": [
        "search_click_df_nm =search_click_df.dropna()"
      ],
      "execution_count": 55,
      "outputs": []
    },
    {
      "cell_type": "code",
      "metadata": {
        "id": "rKTJ07kit1Ji",
        "colab_type": "code",
        "colab": {
          "base_uri": "https://localhost:8080/",
          "height": 34
        },
        "outputId": "4b28f805-9ea2-4f38-cc4e-e4691248b9ec"
      },
      "source": [
        "search_click_df_nm.isnull().any().any()"
      ],
      "execution_count": 56,
      "outputs": [
        {
          "output_type": "execute_result",
          "data": {
            "text/plain": [
              "False"
            ]
          },
          "metadata": {
            "tags": []
          },
          "execution_count": 56
        }
      ]
    },
    {
      "cell_type": "code",
      "metadata": {
        "id": "cGJNnfFEt-tL",
        "colab_type": "code",
        "colab": {
          "base_uri": "https://localhost:8080/",
          "height": 51
        },
        "outputId": "d5a52065-e654-4354-d80e-78133f48ec47"
      },
      "source": [
        "print(search_click_df.shape)\n",
        "print(search_click_df_nm.shape)"
      ],
      "execution_count": 57,
      "outputs": [
        {
          "output_type": "stream",
          "text": [
            "(1048575, 6)\n",
            "(1048206, 6)\n"
          ],
          "name": "stdout"
        }
      ]
    },
    {
      "cell_type": "code",
      "metadata": {
        "id": "eAxrj18PuJ3v",
        "colab_type": "code",
        "colab": {
          "base_uri": "https://localhost:8080/",
          "height": 34
        },
        "outputId": "48d50193-68b3-4f42-b28c-53404c04c1de"
      },
      "source": [
        "print(search_click_df.shape[0]-search_click_df_nm.shape[0]) #หาว่าข้อมูลMissingที่ลบไปมีกี่ตัว"
      ],
      "execution_count": 58,
      "outputs": [
        {
          "output_type": "stream",
          "text": [
            "369\n"
          ],
          "name": "stdout"
        }
      ]
    },
    {
      "cell_type": "markdown",
      "metadata": {
        "id": "eVHeqAdWudyO",
        "colab_type": "text"
      },
      "source": [
        "#Exercise1 ตรวจสอบว่ากานรลบข้อมูล missing อกจากตาราง w_restarant จะทำให้ข้อมูลลดลงกี่ %"
      ]
    },
    {
      "cell_type": "code",
      "metadata": {
        "id": "DV05FaaeuS95",
        "colab_type": "code",
        "colab": {}
      },
      "source": [
        "w_restaurant_df_nm = w_restaurant_df.dropna()"
      ],
      "execution_count": 59,
      "outputs": []
    },
    {
      "cell_type": "code",
      "metadata": {
        "id": "W-EFUiteu4IY",
        "colab_type": "code",
        "colab": {
          "base_uri": "https://localhost:8080/",
          "height": 34
        },
        "outputId": "bf5c8ef4-f49d-4db0-a5c3-bd579bdb4213"
      },
      "source": [
        "w_restaurant_df_nm.isnull().any().any()"
      ],
      "execution_count": 60,
      "outputs": [
        {
          "output_type": "execute_result",
          "data": {
            "text/plain": [
              "False"
            ]
          },
          "metadata": {
            "tags": []
          },
          "execution_count": 60
        }
      ]
    },
    {
      "cell_type": "code",
      "metadata": {
        "id": "mnjFF9ASu_WI",
        "colab_type": "code",
        "colab": {
          "base_uri": "https://localhost:8080/",
          "height": 51
        },
        "outputId": "ef3eae76-7f06-41ec-8b9f-0edafea21a51"
      },
      "source": [
        "print(w_restaurant_df.shape)\n",
        "print(w_restaurant_df_nm.shape)"
      ],
      "execution_count": 61,
      "outputs": [
        {
          "output_type": "stream",
          "text": [
            "(246847, 32)\n",
            "(4, 32)\n"
          ],
          "name": "stdout"
        }
      ]
    },
    {
      "cell_type": "code",
      "metadata": {
        "id": "PK5kueYNvIGD",
        "colab_type": "code",
        "colab": {
          "base_uri": "https://localhost:8080/",
          "height": 34
        },
        "outputId": "a476975f-40a5-452c-b2af-407c97b8bc29"
      },
      "source": [
        " print(w_restaurant_df.shape[0]-w_restaurant_df_nm.shape[0]) #จำนวนข้อมูลที่หายไป"
      ],
      "execution_count": 65,
      "outputs": [
        {
          "output_type": "stream",
          "text": [
            "246843\n"
          ],
          "name": "stdout"
        }
      ]
    },
    {
      "cell_type": "code",
      "metadata": {
        "id": "RkMgju1gvSCw",
        "colab_type": "code",
        "colab": {
          "base_uri": "https://localhost:8080/",
          "height": 34
        },
        "outputId": "2d082a2f-c376-42c8-ecdf-a903ff97bf85"
      },
      "source": [
        "((w_restaurant_df.shape[0]-w_restaurant_df_nm.shape[0])/w_restaurant_df.shape[0])*100 #ของจำนวนข้อมูลที่หายไป"
      ],
      "execution_count": 68,
      "outputs": [
        {
          "output_type": "execute_result",
          "data": {
            "text/plain": [
              "99.99837956304918"
            ]
          },
          "metadata": {
            "tags": []
          },
          "execution_count": 68
        }
      ]
    },
    {
      "cell_type": "markdown",
      "metadata": {
        "id": "3WzqSY2xwkuf",
        "colab_type": "text"
      },
      "source": [
        "##Method 1.5 "
      ]
    },
    {
      "cell_type": "markdown",
      "metadata": {
        "id": "FhPfmJzUxC3l",
        "colab_type": "text"
      },
      "source": [
        "* dropna หรือ ลบ เฉพาะข้อมูลที่เราต้องการ เช่น อยากรู้ราคาเฉลี่ยของร้านค้าเป็นเท่าไหร่ ก็เลือกเฉพาะคอลัมม์ที่เกี่ยวข้อง"
      ]
    },
    {
      "cell_type": "code",
      "metadata": {
        "id": "fL4YubK5vniU",
        "colab_type": "code",
        "colab": {
          "base_uri": "https://localhost:8080/",
          "height": 578
        },
        "outputId": "fae61d7c-0a68-4602-a852-1c8db7314d93"
      },
      "source": [
        "w_restaurant_df_nm.isnull().any()"
      ],
      "execution_count": 69,
      "outputs": [
        {
          "output_type": "execute_result",
          "data": {
            "text/plain": [
              "id                         False\n",
              "name                       False\n",
              "domain_id                  False\n",
              "closed                     False\n",
              "city_name                  False\n",
              "zipcode                    False\n",
              "geohash                    False\n",
              "new_open                   False\n",
              "weighted_average_rating    False\n",
              "number_of_chains           False\n",
              "number_of_bookmarks        False\n",
              "number_of_reviews          False\n",
              "number_of_product_tags     False\n",
              "total_number_of_views      False\n",
              "number_of_checkins         False\n",
              "number_of_menu_groups      False\n",
              "number_of_menu_photos      False\n",
              "category_name              False\n",
              "price_range                False\n",
              "avg_price                  False\n",
              "parking                    False\n",
              "credit_card_accepted       False\n",
              "good_for_groups            False\n",
              "good_for_kids              False\n",
              "bookable                   False\n",
              "best_of_wongnai            False\n",
              "wifi                       False\n",
              "number_of_seats            False\n",
              "music_venue                False\n",
              "hotel_restaurant           False\n",
              "pet_friendly               False\n",
              "delivery                   False\n",
              "dtype: bool"
            ]
          },
          "metadata": {
            "tags": []
          },
          "execution_count": 69
        }
      ]
    },
    {
      "cell_type": "code",
      "metadata": {
        "id": "00eE1C4Gye0q",
        "colab_type": "code",
        "colab": {
          "base_uri": "https://localhost:8080/",
          "height": 34
        },
        "outputId": "252da74c-c92f-477f-feaf-549400d9baa0"
      },
      "source": [
        "w_restaurant_df.dropna(subset=['id','name','avg_price']).shape"
      ],
      "execution_count": 75,
      "outputs": [
        {
          "output_type": "execute_result",
          "data": {
            "text/plain": [
              "(4572, 32)"
            ]
          },
          "metadata": {
            "tags": []
          },
          "execution_count": 75
        }
      ]
    },
    {
      "cell_type": "code",
      "metadata": {
        "id": "--2GiETjw6RG",
        "colab_type": "code",
        "colab": {}
      },
      "source": [
        "w_rest_dropped_avgprice=w_restaurant_df.dropna(subset=['id','name','avg_price'])"
      ],
      "execution_count": 72,
      "outputs": []
    },
    {
      "cell_type": "code",
      "metadata": {
        "id": "k6EqouiEyB3s",
        "colab_type": "code",
        "colab": {
          "base_uri": "https://localhost:8080/",
          "height": 343
        },
        "outputId": "3d22fbc1-b08c-4dd1-8eac-0c4b492ee710"
      },
      "source": [
        "w_rest_dropped_avgprice.head()"
      ],
      "execution_count": 74,
      "outputs": [
        {
          "output_type": "execute_result",
          "data": {
            "text/html": [
              "<div>\n",
              "<style scoped>\n",
              "    .dataframe tbody tr th:only-of-type {\n",
              "        vertical-align: middle;\n",
              "    }\n",
              "\n",
              "    .dataframe tbody tr th {\n",
              "        vertical-align: top;\n",
              "    }\n",
              "\n",
              "    .dataframe thead th {\n",
              "        text-align: right;\n",
              "    }\n",
              "</style>\n",
              "<table border=\"1\" class=\"dataframe\">\n",
              "  <thead>\n",
              "    <tr style=\"text-align: right;\">\n",
              "      <th></th>\n",
              "      <th>id</th>\n",
              "      <th>name</th>\n",
              "      <th>domain_id</th>\n",
              "      <th>closed</th>\n",
              "      <th>city_name</th>\n",
              "      <th>zipcode</th>\n",
              "      <th>geohash</th>\n",
              "      <th>new_open</th>\n",
              "      <th>weighted_average_rating</th>\n",
              "      <th>number_of_chains</th>\n",
              "      <th>number_of_bookmarks</th>\n",
              "      <th>number_of_reviews</th>\n",
              "      <th>number_of_product_tags</th>\n",
              "      <th>total_number_of_views</th>\n",
              "      <th>number_of_checkins</th>\n",
              "      <th>number_of_menu_groups</th>\n",
              "      <th>number_of_menu_photos</th>\n",
              "      <th>category_name</th>\n",
              "      <th>price_range</th>\n",
              "      <th>avg_price</th>\n",
              "      <th>parking</th>\n",
              "      <th>credit_card_accepted</th>\n",
              "      <th>good_for_groups</th>\n",
              "      <th>good_for_kids</th>\n",
              "      <th>bookable</th>\n",
              "      <th>best_of_wongnai</th>\n",
              "      <th>wifi</th>\n",
              "      <th>number_of_seats</th>\n",
              "      <th>music_venue</th>\n",
              "      <th>hotel_restaurant</th>\n",
              "      <th>pet_friendly</th>\n",
              "      <th>delivery</th>\n",
              "    </tr>\n",
              "  </thead>\n",
              "  <tbody>\n",
              "    <tr>\n",
              "      <th>11</th>\n",
              "      <td>27</td>\n",
              "      <td>แพอาหารธาราบุรี</td>\n",
              "      <td>1</td>\n",
              "      <td>0</td>\n",
              "      <td>Kanchanaburi</td>\n",
              "      <td>71000</td>\n",
              "      <td>w4qzbb4</td>\n",
              "      <td>0</td>\n",
              "      <td>3.568245</td>\n",
              "      <td>NaN</td>\n",
              "      <td>107.0</td>\n",
              "      <td>34</td>\n",
              "      <td>3</td>\n",
              "      <td>22277</td>\n",
              "      <td>26</td>\n",
              "      <td>0</td>\n",
              "      <td>0</td>\n",
              "      <td>Thai</td>\n",
              "      <td>3.0</td>\n",
              "      <td>375.0</td>\n",
              "      <td>3.0</td>\n",
              "      <td>1.0</td>\n",
              "      <td>1.0</td>\n",
              "      <td>1.0</td>\n",
              "      <td>1.0</td>\n",
              "      <td>NaN</td>\n",
              "      <td>NaN</td>\n",
              "      <td>2.0</td>\n",
              "      <td>NaN</td>\n",
              "      <td>NaN</td>\n",
              "      <td>NaN</td>\n",
              "      <td>NaN</td>\n",
              "    </tr>\n",
              "    <tr>\n",
              "      <th>67</th>\n",
              "      <td>123</td>\n",
              "      <td>เล็กกุ้งเผา</td>\n",
              "      <td>1</td>\n",
              "      <td>0</td>\n",
              "      <td>Bangkok Metropolitan Region</td>\n",
              "      <td>10310</td>\n",
              "      <td>w4rw9mc</td>\n",
              "      <td>0</td>\n",
              "      <td>3.685552</td>\n",
              "      <td>NaN</td>\n",
              "      <td>272.0</td>\n",
              "      <td>29</td>\n",
              "      <td>7</td>\n",
              "      <td>28697</td>\n",
              "      <td>26</td>\n",
              "      <td>0</td>\n",
              "      <td>15</td>\n",
              "      <td>Thai</td>\n",
              "      <td>3.0</td>\n",
              "      <td>375.0</td>\n",
              "      <td>1.0</td>\n",
              "      <td>0.0</td>\n",
              "      <td>NaN</td>\n",
              "      <td>NaN</td>\n",
              "      <td>NaN</td>\n",
              "      <td>NaN</td>\n",
              "      <td>NaN</td>\n",
              "      <td>NaN</td>\n",
              "      <td>NaN</td>\n",
              "      <td>NaN</td>\n",
              "      <td>NaN</td>\n",
              "      <td>NaN</td>\n",
              "    </tr>\n",
              "    <tr>\n",
              "      <th>91</th>\n",
              "      <td>175</td>\n",
              "      <td>ใต้ต้นมะม่วง</td>\n",
              "      <td>1</td>\n",
              "      <td>0</td>\n",
              "      <td>Phuket</td>\n",
              "      <td>83000</td>\n",
              "      <td>w1muz5d</td>\n",
              "      <td>0</td>\n",
              "      <td>3.857143</td>\n",
              "      <td>NaN</td>\n",
              "      <td>17.0</td>\n",
              "      <td>15</td>\n",
              "      <td>2</td>\n",
              "      <td>3278</td>\n",
              "      <td>6</td>\n",
              "      <td>0</td>\n",
              "      <td>3</td>\n",
              "      <td>Thai</td>\n",
              "      <td>1.0</td>\n",
              "      <td>50.0</td>\n",
              "      <td>1.0</td>\n",
              "      <td>0.0</td>\n",
              "      <td>1.0</td>\n",
              "      <td>1.0</td>\n",
              "      <td>0.0</td>\n",
              "      <td>NaN</td>\n",
              "      <td>0.0</td>\n",
              "      <td>2.0</td>\n",
              "      <td>NaN</td>\n",
              "      <td>NaN</td>\n",
              "      <td>NaN</td>\n",
              "      <td>NaN</td>\n",
              "    </tr>\n",
              "    <tr>\n",
              "      <th>129</th>\n",
              "      <td>262</td>\n",
              "      <td>Oniku Shabushabu &amp; Yakiniku</td>\n",
              "      <td>1</td>\n",
              "      <td>0</td>\n",
              "      <td>Surat Thani</td>\n",
              "      <td>84000</td>\n",
              "      <td>w1weuxg</td>\n",
              "      <td>0</td>\n",
              "      <td>3.633588</td>\n",
              "      <td>NaN</td>\n",
              "      <td>40.0</td>\n",
              "      <td>19</td>\n",
              "      <td>2</td>\n",
              "      <td>10349</td>\n",
              "      <td>7</td>\n",
              "      <td>0</td>\n",
              "      <td>11</td>\n",
              "      <td>Sukiyaki/Shabu</td>\n",
              "      <td>3.0</td>\n",
              "      <td>375.0</td>\n",
              "      <td>3.0</td>\n",
              "      <td>1.0</td>\n",
              "      <td>1.0</td>\n",
              "      <td>1.0</td>\n",
              "      <td>1.0</td>\n",
              "      <td>NaN</td>\n",
              "      <td>1.0</td>\n",
              "      <td>5.0</td>\n",
              "      <td>NaN</td>\n",
              "      <td>0.0</td>\n",
              "      <td>NaN</td>\n",
              "      <td>1.0</td>\n",
              "    </tr>\n",
              "    <tr>\n",
              "      <th>134</th>\n",
              "      <td>271</td>\n",
              "      <td>Cafe Cha</td>\n",
              "      <td>1</td>\n",
              "      <td>0</td>\n",
              "      <td>Bangkok Metropolitan Region</td>\n",
              "      <td>10300</td>\n",
              "      <td>w4rqrhf</td>\n",
              "      <td>0</td>\n",
              "      <td>4.094527</td>\n",
              "      <td>NaN</td>\n",
              "      <td>251.0</td>\n",
              "      <td>12</td>\n",
              "      <td>0</td>\n",
              "      <td>17775</td>\n",
              "      <td>11</td>\n",
              "      <td>0</td>\n",
              "      <td>7</td>\n",
              "      <td>Café/Coffee Shop</td>\n",
              "      <td>4.0</td>\n",
              "      <td>175.0</td>\n",
              "      <td>3.0</td>\n",
              "      <td>1.0</td>\n",
              "      <td>NaN</td>\n",
              "      <td>NaN</td>\n",
              "      <td>NaN</td>\n",
              "      <td>NaN</td>\n",
              "      <td>1.0</td>\n",
              "      <td>NaN</td>\n",
              "      <td>NaN</td>\n",
              "      <td>NaN</td>\n",
              "      <td>NaN</td>\n",
              "      <td>NaN</td>\n",
              "    </tr>\n",
              "  </tbody>\n",
              "</table>\n",
              "</div>"
            ],
            "text/plain": [
              "      id                         name  ...  pet_friendly  delivery\n",
              "11    27              แพอาหารธาราบุรี  ...           NaN       NaN\n",
              "67   123                  เล็กกุ้งเผา  ...           NaN       NaN\n",
              "91   175                 ใต้ต้นมะม่วง  ...           NaN       NaN\n",
              "129  262  Oniku Shabushabu & Yakiniku  ...           NaN       1.0\n",
              "134  271                     Cafe Cha  ...           NaN       NaN\n",
              "\n",
              "[5 rows x 32 columns]"
            ]
          },
          "metadata": {
            "tags": []
          },
          "execution_count": 74
        }
      ]
    },
    {
      "cell_type": "code",
      "metadata": {
        "id": "sW3GfxFzxv1i",
        "colab_type": "code",
        "colab": {
          "base_uri": "https://localhost:8080/",
          "height": 34
        },
        "outputId": "8e1af5f0-84c9-4190-c5ec-af3d625ddb81"
      },
      "source": [
        "w_restaurant_df.dropna(subset=['id','name','avg_price'])['avg_price'].mean()"
      ],
      "execution_count": 76,
      "outputs": [
        {
          "output_type": "execute_result",
          "data": {
            "text/plain": [
              "327.44728783902013"
            ]
          },
          "metadata": {
            "tags": []
          },
          "execution_count": 76
        }
      ]
    },
    {
      "cell_type": "markdown",
      "metadata": {
        "id": "cA_ielxzy3ro",
        "colab_type": "text"
      },
      "source": [
        "##Method 2 (Replace with reasonalable value)"
      ]
    },
    {
      "cell_type": "markdown",
      "metadata": {
        "id": "mONo3kAqzOfm",
        "colab_type": "text"
      },
      "source": [
        "### we are replacing missing value in the number of chains with 0\n",
        "* number of chain คืออะไร ไปเปิดดูใน matadata == จำนวนสาขาของร้าน"
      ]
    },
    {
      "cell_type": "code",
      "metadata": {
        "id": "-vaFe-Vnyx5-",
        "colab_type": "code",
        "colab": {}
      },
      "source": [
        "w_restaurant_df[['number_of_chains']] = w_restaurant_df[['number_of_chains']].fillna(0)"
      ],
      "execution_count": 78,
      "outputs": []
    },
    {
      "cell_type": "code",
      "metadata": {
        "id": "MlCyrjzZ0Fuw",
        "colab_type": "code",
        "colab": {
          "base_uri": "https://localhost:8080/",
          "height": 578
        },
        "outputId": "e2eb9584-188b-4155-a509-948ae9ba4b7b"
      },
      "source": [
        "w_restaurant_df.isnull().any()"
      ],
      "execution_count": 79,
      "outputs": [
        {
          "output_type": "execute_result",
          "data": {
            "text/plain": [
              "id                         False\n",
              "name                       False\n",
              "domain_id                  False\n",
              "closed                     False\n",
              "city_name                  False\n",
              "zipcode                     True\n",
              "geohash                    False\n",
              "new_open                   False\n",
              "weighted_average_rating    False\n",
              "number_of_chains           False\n",
              "number_of_bookmarks         True\n",
              "number_of_reviews          False\n",
              "number_of_product_tags     False\n",
              "total_number_of_views      False\n",
              "number_of_checkins         False\n",
              "number_of_menu_groups      False\n",
              "number_of_menu_photos      False\n",
              "category_name              False\n",
              "price_range                 True\n",
              "avg_price                   True\n",
              "parking                     True\n",
              "credit_card_accepted        True\n",
              "good_for_groups             True\n",
              "good_for_kids               True\n",
              "bookable                    True\n",
              "best_of_wongnai             True\n",
              "wifi                        True\n",
              "number_of_seats             True\n",
              "music_venue                 True\n",
              "hotel_restaurant            True\n",
              "pet_friendly                True\n",
              "delivery                    True\n",
              "dtype: bool"
            ]
          },
          "metadata": {
            "tags": []
          },
          "execution_count": 79
        }
      ]
    },
    {
      "cell_type": "markdown",
      "metadata": {
        "id": "bO4Onl4f1flj",
        "colab_type": "text"
      },
      "source": [
        "## Method 2.1 (replace with unknown value) \n",
        "* ใส่ค่าที่คิดว่าคนไม่น่ากรอกสิ่งเหล่านี้ลงไป เพื่อไม่ให้มี missing แต่ไม่ทำให้ค่าทางสถิติของข้อมูลเปลี่ยนไป"
      ]
    },
    {
      "cell_type": "markdown",
      "metadata": {
        "id": "9xGl7mB_1-X5",
        "colab_type": "text"
      },
      "source": [
        "##Method 2.2 (replace with mean)"
      ]
    },
    {
      "cell_type": "markdown",
      "metadata": {
        "id": "9oqYO2CE1uUj",
        "colab_type": "text"
      },
      "source": [
        "## Method 3 (replace with mean)"
      ]
    },
    {
      "cell_type": "code",
      "metadata": {
        "id": "yo82O7Ol0MoP",
        "colab_type": "code",
        "colab": {
          "base_uri": "https://localhost:8080/",
          "height": 419
        },
        "outputId": "b5e06ebb-b34e-47c6-85de-aeed82934a04"
      },
      "source": [
        "new_table = w_restaurant_df[['name','city_name','avg_price']]\n",
        "new_table"
      ],
      "execution_count": 81,
      "outputs": [
        {
          "output_type": "execute_result",
          "data": {
            "text/html": [
              "<div>\n",
              "<style scoped>\n",
              "    .dataframe tbody tr th:only-of-type {\n",
              "        vertical-align: middle;\n",
              "    }\n",
              "\n",
              "    .dataframe tbody tr th {\n",
              "        vertical-align: top;\n",
              "    }\n",
              "\n",
              "    .dataframe thead th {\n",
              "        text-align: right;\n",
              "    }\n",
              "</style>\n",
              "<table border=\"1\" class=\"dataframe\">\n",
              "  <thead>\n",
              "    <tr style=\"text-align: right;\">\n",
              "      <th></th>\n",
              "      <th>name</th>\n",
              "      <th>city_name</th>\n",
              "      <th>avg_price</th>\n",
              "    </tr>\n",
              "  </thead>\n",
              "  <tbody>\n",
              "    <tr>\n",
              "      <th>0</th>\n",
              "      <td>นครินทร์ทันตกรรม</td>\n",
              "      <td>Samut Songkhram</td>\n",
              "      <td>NaN</td>\n",
              "    </tr>\n",
              "    <tr>\n",
              "      <th>1</th>\n",
              "      <td>Corner House</td>\n",
              "      <td>Bangkok Metropolitan Region</td>\n",
              "      <td>NaN</td>\n",
              "    </tr>\n",
              "    <tr>\n",
              "      <th>2</th>\n",
              "      <td>วัดโลกยสุธาราม</td>\n",
              "      <td>Phra Nakhon Si Ayutthaya</td>\n",
              "      <td>NaN</td>\n",
              "    </tr>\n",
              "    <tr>\n",
              "      <th>3</th>\n",
              "      <td>นันท์คาราโอเกะ</td>\n",
              "      <td>Bangkok Metropolitan Region</td>\n",
              "      <td>NaN</td>\n",
              "    </tr>\n",
              "    <tr>\n",
              "      <th>4</th>\n",
              "      <td>Buono Caffe</td>\n",
              "      <td>Bangkok Metropolitan Region</td>\n",
              "      <td>NaN</td>\n",
              "    </tr>\n",
              "    <tr>\n",
              "      <th>...</th>\n",
              "      <td>...</td>\n",
              "      <td>...</td>\n",
              "      <td>...</td>\n",
              "    </tr>\n",
              "    <tr>\n",
              "      <th>246842</th>\n",
              "      <td>Sushi Tama</td>\n",
              "      <td>Bangkok Metropolitan Region</td>\n",
              "      <td>NaN</td>\n",
              "    </tr>\n",
              "    <tr>\n",
              "      <th>246843</th>\n",
              "      <td>สะบายดี คาราโอเกะ</td>\n",
              "      <td>Bangkok Metropolitan Region</td>\n",
              "      <td>NaN</td>\n",
              "    </tr>\n",
              "    <tr>\n",
              "      <th>246844</th>\n",
              "      <td>สเต็กแม่&amp;กาแฟลูก</td>\n",
              "      <td>Bangkok Metropolitan Region</td>\n",
              "      <td>NaN</td>\n",
              "    </tr>\n",
              "    <tr>\n",
              "      <th>246845</th>\n",
              "      <td>Mom Made</td>\n",
              "      <td>Nakhon Si Thammarat</td>\n",
              "      <td>NaN</td>\n",
              "    </tr>\n",
              "    <tr>\n",
              "      <th>246846</th>\n",
              "      <td>ก๋วยเตี๋ยวหมูน้ำตก ก๋วยเตี๋ยวเรือทอง</td>\n",
              "      <td>Suphan Buri</td>\n",
              "      <td>NaN</td>\n",
              "    </tr>\n",
              "  </tbody>\n",
              "</table>\n",
              "<p>246847 rows × 3 columns</p>\n",
              "</div>"
            ],
            "text/plain": [
              "                                        name  ... avg_price\n",
              "0                           นครินทร์ทันตกรรม  ...       NaN\n",
              "1                               Corner House  ...       NaN\n",
              "2                             วัดโลกยสุธาราม  ...       NaN\n",
              "3                             นันท์คาราโอเกะ  ...       NaN\n",
              "4                                Buono Caffe  ...       NaN\n",
              "...                                      ...  ...       ...\n",
              "246842                            Sushi Tama  ...       NaN\n",
              "246843                     สะบายดี คาราโอเกะ  ...       NaN\n",
              "246844                      สเต็กแม่&กาแฟลูก  ...       NaN\n",
              "246845                              Mom Made  ...       NaN\n",
              "246846  ก๋วยเตี๋ยวหมูน้ำตก ก๋วยเตี๋ยวเรือทอง  ...       NaN\n",
              "\n",
              "[246847 rows x 3 columns]"
            ]
          },
          "metadata": {
            "tags": []
          },
          "execution_count": 81
        }
      ]
    },
    {
      "cell_type": "markdown",
      "metadata": {
        "id": "0XMIhzq03W2u",
        "colab_type": "text"
      },
      "source": [
        "#[PD] Select data"
      ]
    },
    {
      "cell_type": "code",
      "metadata": {
        "id": "fuq5cIAi2jeK",
        "colab_type": "code",
        "colab": {
          "base_uri": "https://localhost:8080/",
          "height": 221
        },
        "outputId": "ef26094d-4368-4143-c569-dbb9910f30af"
      },
      "source": [
        "selected_list = new_table['city_name']=='Bangkok Metropolitan Region'\n",
        "selected_list "
      ],
      "execution_count": 82,
      "outputs": [
        {
          "output_type": "execute_result",
          "data": {
            "text/plain": [
              "0         False\n",
              "1          True\n",
              "2         False\n",
              "3          True\n",
              "4          True\n",
              "          ...  \n",
              "246842     True\n",
              "246843     True\n",
              "246844     True\n",
              "246845    False\n",
              "246846    False\n",
              "Name: city_name, Length: 246847, dtype: bool"
            ]
          },
          "metadata": {
            "tags": []
          },
          "execution_count": 82
        }
      ]
    },
    {
      "cell_type": "code",
      "metadata": {
        "id": "47Ue64wd36LZ",
        "colab_type": "code",
        "colab": {
          "base_uri": "https://localhost:8080/",
          "height": 204
        },
        "outputId": "d05b5fc8-351d-47ef-b7aa-21c4834ebcea"
      },
      "source": [
        "new_table[selected_list].head()"
      ],
      "execution_count": 83,
      "outputs": [
        {
          "output_type": "execute_result",
          "data": {
            "text/html": [
              "<div>\n",
              "<style scoped>\n",
              "    .dataframe tbody tr th:only-of-type {\n",
              "        vertical-align: middle;\n",
              "    }\n",
              "\n",
              "    .dataframe tbody tr th {\n",
              "        vertical-align: top;\n",
              "    }\n",
              "\n",
              "    .dataframe thead th {\n",
              "        text-align: right;\n",
              "    }\n",
              "</style>\n",
              "<table border=\"1\" class=\"dataframe\">\n",
              "  <thead>\n",
              "    <tr style=\"text-align: right;\">\n",
              "      <th></th>\n",
              "      <th>name</th>\n",
              "      <th>city_name</th>\n",
              "      <th>avg_price</th>\n",
              "    </tr>\n",
              "  </thead>\n",
              "  <tbody>\n",
              "    <tr>\n",
              "      <th>1</th>\n",
              "      <td>Corner House</td>\n",
              "      <td>Bangkok Metropolitan Region</td>\n",
              "      <td>NaN</td>\n",
              "    </tr>\n",
              "    <tr>\n",
              "      <th>3</th>\n",
              "      <td>นันท์คาราโอเกะ</td>\n",
              "      <td>Bangkok Metropolitan Region</td>\n",
              "      <td>NaN</td>\n",
              "    </tr>\n",
              "    <tr>\n",
              "      <th>4</th>\n",
              "      <td>Buono Caffe</td>\n",
              "      <td>Bangkok Metropolitan Region</td>\n",
              "      <td>NaN</td>\n",
              "    </tr>\n",
              "    <tr>\n",
              "      <th>7</th>\n",
              "      <td>Sazanami</td>\n",
              "      <td>Bangkok Metropolitan Region</td>\n",
              "      <td>NaN</td>\n",
              "    </tr>\n",
              "    <tr>\n",
              "      <th>10</th>\n",
              "      <td>Rotee Me Chabu</td>\n",
              "      <td>Bangkok Metropolitan Region</td>\n",
              "      <td>NaN</td>\n",
              "    </tr>\n",
              "  </tbody>\n",
              "</table>\n",
              "</div>"
            ],
            "text/plain": [
              "              name                    city_name  avg_price\n",
              "1     Corner House  Bangkok Metropolitan Region        NaN\n",
              "3   นันท์คาราโอเกะ  Bangkok Metropolitan Region        NaN\n",
              "4      Buono Caffe  Bangkok Metropolitan Region        NaN\n",
              "7         Sazanami  Bangkok Metropolitan Region        NaN\n",
              "10  Rotee Me Chabu  Bangkok Metropolitan Region        NaN"
            ]
          },
          "metadata": {
            "tags": []
          },
          "execution_count": 83
        }
      ]
    },
    {
      "cell_type": "code",
      "metadata": {
        "id": "r7hjnArp4B49",
        "colab_type": "code",
        "colab": {
          "base_uri": "https://localhost:8080/",
          "height": 34
        },
        "outputId": "8e3eee7a-f651-40a0-b331-ebd6b0bcf1de"
      },
      "source": [
        "new_table[new_table['city_name']=='Bangkok Metropolitan Region'].dropna()['avg_price'].mean()"
      ],
      "execution_count": 84,
      "outputs": [
        {
          "output_type": "execute_result",
          "data": {
            "text/plain": [
              "392.5854715094968"
            ]
          },
          "metadata": {
            "tags": []
          },
          "execution_count": 84
        }
      ]
    },
    {
      "cell_type": "markdown",
      "metadata": {
        "id": "a3e7A8cR51xT",
        "colab_type": "text"
      },
      "source": [
        "1.สร้างตารางใหม่ที่เลือกมาเฉพาะใน กทม."
      ]
    },
    {
      "cell_type": "code",
      "metadata": {
        "id": "bvg0dK555w0U",
        "colab_type": "code",
        "colab": {}
      },
      "source": [
        "phuket_table = new_table['city_name']=='Phuket'"
      ],
      "execution_count": 85,
      "outputs": []
    },
    {
      "cell_type": "code",
      "metadata": {
        "id": "CSATZfEM7k-U",
        "colab_type": "code",
        "colab": {
          "base_uri": "https://localhost:8080/",
          "height": 221
        },
        "outputId": "15573012-e427-47fa-c01f-6d5550f5cd12"
      },
      "source": [
        "phuket_table.dropna()"
      ],
      "execution_count": 86,
      "outputs": [
        {
          "output_type": "execute_result",
          "data": {
            "text/plain": [
              "0         False\n",
              "1         False\n",
              "2         False\n",
              "3         False\n",
              "4         False\n",
              "          ...  \n",
              "246842    False\n",
              "246843    False\n",
              "246844    False\n",
              "246845    False\n",
              "246846    False\n",
              "Name: city_name, Length: 246847, dtype: bool"
            ]
          },
          "metadata": {
            "tags": []
          },
          "execution_count": 86
        }
      ]
    },
    {
      "cell_type": "code",
      "metadata": {
        "id": "rVMV9ckb7rKD",
        "colab_type": "code",
        "colab": {
          "base_uri": "https://localhost:8080/",
          "height": 34
        },
        "outputId": "f57516d7-b3e9-4c2b-82b2-044f14968208"
      },
      "source": [
        "phuket_table.dropna().any()"
      ],
      "execution_count": 87,
      "outputs": [
        {
          "output_type": "execute_result",
          "data": {
            "text/plain": [
              "True"
            ]
          },
          "metadata": {
            "tags": []
          },
          "execution_count": 87
        }
      ]
    },
    {
      "cell_type": "code",
      "metadata": {
        "id": "XQBQjhWf7ypk",
        "colab_type": "code",
        "colab": {
          "base_uri": "https://localhost:8080/",
          "height": 443
        },
        "outputId": "4f25e825-78ef-446e-fd55-4419b345cbf8"
      },
      "source": [
        "phuket_table.dropna()"
      ],
      "execution_count": 88,
      "outputs": [
        {
          "output_type": "error",
          "ename": "KeyError",
          "evalue": "ignored",
          "traceback": [
            "\u001b[0;31m---------------------------------------------------------------------------\u001b[0m",
            "\u001b[0;31mKeyError\u001b[0m                                  Traceback (most recent call last)",
            "\u001b[0;32m<ipython-input-88-3b6dadbc2405>\u001b[0m in \u001b[0;36m<module>\u001b[0;34m()\u001b[0m\n\u001b[0;32m----> 1\u001b[0;31m \u001b[0mphuket_table\u001b[0m\u001b[0;34m.\u001b[0m\u001b[0mdropna\u001b[0m\u001b[0;34m(\u001b[0m\u001b[0;34m)\u001b[0m\u001b[0;34m[\u001b[0m\u001b[0;34m'avg_price'\u001b[0m\u001b[0;34m]\u001b[0m\u001b[0;34m.\u001b[0m\u001b[0mmean\u001b[0m\u001b[0;34m(\u001b[0m\u001b[0;34m)\u001b[0m\u001b[0;34m\u001b[0m\u001b[0;34m\u001b[0m\u001b[0m\n\u001b[0m",
            "\u001b[0;32m/usr/local/lib/python3.6/dist-packages/pandas/core/series.py\u001b[0m in \u001b[0;36m__getitem__\u001b[0;34m(self, key)\u001b[0m\n\u001b[1;32m    869\u001b[0m         \u001b[0mkey\u001b[0m \u001b[0;34m=\u001b[0m \u001b[0mcom\u001b[0m\u001b[0;34m.\u001b[0m\u001b[0mapply_if_callable\u001b[0m\u001b[0;34m(\u001b[0m\u001b[0mkey\u001b[0m\u001b[0;34m,\u001b[0m \u001b[0mself\u001b[0m\u001b[0;34m)\u001b[0m\u001b[0;34m\u001b[0m\u001b[0;34m\u001b[0m\u001b[0m\n\u001b[1;32m    870\u001b[0m         \u001b[0;32mtry\u001b[0m\u001b[0;34m:\u001b[0m\u001b[0;34m\u001b[0m\u001b[0;34m\u001b[0m\u001b[0m\n\u001b[0;32m--> 871\u001b[0;31m             \u001b[0mresult\u001b[0m \u001b[0;34m=\u001b[0m \u001b[0mself\u001b[0m\u001b[0;34m.\u001b[0m\u001b[0mindex\u001b[0m\u001b[0;34m.\u001b[0m\u001b[0mget_value\u001b[0m\u001b[0;34m(\u001b[0m\u001b[0mself\u001b[0m\u001b[0;34m,\u001b[0m \u001b[0mkey\u001b[0m\u001b[0;34m)\u001b[0m\u001b[0;34m\u001b[0m\u001b[0;34m\u001b[0m\u001b[0m\n\u001b[0m\u001b[1;32m    872\u001b[0m \u001b[0;34m\u001b[0m\u001b[0m\n\u001b[1;32m    873\u001b[0m             \u001b[0;32mif\u001b[0m \u001b[0;32mnot\u001b[0m \u001b[0mis_scalar\u001b[0m\u001b[0;34m(\u001b[0m\u001b[0mresult\u001b[0m\u001b[0;34m)\u001b[0m\u001b[0;34m:\u001b[0m\u001b[0;34m\u001b[0m\u001b[0;34m\u001b[0m\u001b[0m\n",
            "\u001b[0;32m/usr/local/lib/python3.6/dist-packages/pandas/core/indexes/base.py\u001b[0m in \u001b[0;36mget_value\u001b[0;34m(self, series, key)\u001b[0m\n\u001b[1;32m   4403\u001b[0m         \u001b[0mk\u001b[0m \u001b[0;34m=\u001b[0m \u001b[0mself\u001b[0m\u001b[0;34m.\u001b[0m\u001b[0m_convert_scalar_indexer\u001b[0m\u001b[0;34m(\u001b[0m\u001b[0mk\u001b[0m\u001b[0;34m,\u001b[0m \u001b[0mkind\u001b[0m\u001b[0;34m=\u001b[0m\u001b[0;34m\"getitem\"\u001b[0m\u001b[0;34m)\u001b[0m\u001b[0;34m\u001b[0m\u001b[0;34m\u001b[0m\u001b[0m\n\u001b[1;32m   4404\u001b[0m         \u001b[0;32mtry\u001b[0m\u001b[0;34m:\u001b[0m\u001b[0;34m\u001b[0m\u001b[0;34m\u001b[0m\u001b[0m\n\u001b[0;32m-> 4405\u001b[0;31m             \u001b[0;32mreturn\u001b[0m \u001b[0mself\u001b[0m\u001b[0;34m.\u001b[0m\u001b[0m_engine\u001b[0m\u001b[0;34m.\u001b[0m\u001b[0mget_value\u001b[0m\u001b[0;34m(\u001b[0m\u001b[0ms\u001b[0m\u001b[0;34m,\u001b[0m \u001b[0mk\u001b[0m\u001b[0;34m,\u001b[0m \u001b[0mtz\u001b[0m\u001b[0;34m=\u001b[0m\u001b[0mgetattr\u001b[0m\u001b[0;34m(\u001b[0m\u001b[0mseries\u001b[0m\u001b[0;34m.\u001b[0m\u001b[0mdtype\u001b[0m\u001b[0;34m,\u001b[0m \u001b[0;34m\"tz\"\u001b[0m\u001b[0;34m,\u001b[0m \u001b[0;32mNone\u001b[0m\u001b[0;34m)\u001b[0m\u001b[0;34m)\u001b[0m\u001b[0;34m\u001b[0m\u001b[0;34m\u001b[0m\u001b[0m\n\u001b[0m\u001b[1;32m   4406\u001b[0m         \u001b[0;32mexcept\u001b[0m \u001b[0mKeyError\u001b[0m \u001b[0;32mas\u001b[0m \u001b[0me1\u001b[0m\u001b[0;34m:\u001b[0m\u001b[0;34m\u001b[0m\u001b[0;34m\u001b[0m\u001b[0m\n\u001b[1;32m   4407\u001b[0m             \u001b[0;32mif\u001b[0m \u001b[0mlen\u001b[0m\u001b[0;34m(\u001b[0m\u001b[0mself\u001b[0m\u001b[0;34m)\u001b[0m \u001b[0;34m>\u001b[0m \u001b[0;36m0\u001b[0m \u001b[0;32mand\u001b[0m \u001b[0;34m(\u001b[0m\u001b[0mself\u001b[0m\u001b[0;34m.\u001b[0m\u001b[0mholds_integer\u001b[0m\u001b[0;34m(\u001b[0m\u001b[0;34m)\u001b[0m \u001b[0;32mor\u001b[0m \u001b[0mself\u001b[0m\u001b[0;34m.\u001b[0m\u001b[0mis_boolean\u001b[0m\u001b[0;34m(\u001b[0m\u001b[0;34m)\u001b[0m\u001b[0;34m)\u001b[0m\u001b[0;34m:\u001b[0m\u001b[0;34m\u001b[0m\u001b[0;34m\u001b[0m\u001b[0m\n",
            "\u001b[0;32mpandas/_libs/index.pyx\u001b[0m in \u001b[0;36mpandas._libs.index.IndexEngine.get_value\u001b[0;34m()\u001b[0m\n",
            "\u001b[0;32mpandas/_libs/index.pyx\u001b[0m in \u001b[0;36mpandas._libs.index.IndexEngine.get_value\u001b[0;34m()\u001b[0m\n",
            "\u001b[0;32mpandas/_libs/index.pyx\u001b[0m in \u001b[0;36mpandas._libs.index.IndexEngine.get_loc\u001b[0;34m()\u001b[0m\n",
            "\u001b[0;32mpandas/_libs/index_class_helper.pxi\u001b[0m in \u001b[0;36mpandas._libs.index.Int64Engine._check_type\u001b[0;34m()\u001b[0m\n",
            "\u001b[0;31mKeyError\u001b[0m: 'avg_price'"
          ]
        }
      ]
    },
    {
      "cell_type": "code",
      "metadata": {
        "id": "EaOJy6e-75Qz",
        "colab_type": "code",
        "colab": {}
      },
      "source": [
        ""
      ],
      "execution_count": null,
      "outputs": []
    }
  ]
}