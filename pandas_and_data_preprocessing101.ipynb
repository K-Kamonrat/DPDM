{
  "nbformat": 4,
  "nbformat_minor": 0,
  "metadata": {
    "colab": {
      "name": "pandas and data preprocessing101.ipynb",
      "provenance": [],
      "include_colab_link": true
    },
    "kernelspec": {
      "name": "python3",
      "display_name": "Python 3"
    }
  },
  "cells": [
    {
      "cell_type": "markdown",
      "metadata": {
        "id": "view-in-github",
        "colab_type": "text"
      },
      "source": [
        "<a href=\"https://colab.research.google.com/github/K-Kamonrat/DPDM/blob/master/pandas_and_data_preprocessing101.ipynb\" target=\"_parent\"><img src=\"https://colab.research.google.com/assets/colab-badge.svg\" alt=\"Open In Colab\"/></a>"
      ]
    },
    {
      "cell_type": "code",
      "metadata": {
        "id": "H6sC28UIcE9c"
      },
      "source": [
        ""
      ],
      "execution_count": null,
      "outputs": []
    },
    {
      "cell_type": "markdown",
      "metadata": {
        "id": "EpPK5WHqdKYX"
      },
      "source": [
        "![main.png](data:image/png;base64,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)"
      ]
    },
    {
      "cell_type": "code",
      "metadata": {
        "id": "ACyIVBqmdMRt"
      },
      "source": [
        "import pandas"
      ],
      "execution_count": 1,
      "outputs": []
    },
    {
      "cell_type": "code",
      "metadata": {
        "id": "QIJYH1NYjLF4"
      },
      "source": [
        "import pandas as pd"
      ],
      "execution_count": 2,
      "outputs": []
    },
    {
      "cell_type": "code",
      "metadata": {
        "id": "3Jw5oEAwjLlh"
      },
      "source": [
        "\n",
        "from google.colab import drive"
      ],
      "execution_count": 3,
      "outputs": []
    },
    {
      "cell_type": "code",
      "metadata": {
        "id": "Wb_JHF9AjOJE",
        "outputId": "062ddde9-c9f5-47cb-af25-edb063d6cc41",
        "colab": {
          "base_uri": "https://localhost:8080/",
          "height": 34
        }
      },
      "source": [
        "drive.mount('/content/drive')"
      ],
      "execution_count": 4,
      "outputs": [
        {
          "output_type": "stream",
          "text": [
            "Mounted at /content/drive\n"
          ],
          "name": "stdout"
        }
      ]
    },
    {
      "cell_type": "code",
      "metadata": {
        "id": "k2dSu6BzjQpx"
      },
      "source": [
        "import os\n",
        "path =  '/content/drive/My Drive/DWDM_material'"
      ],
      "execution_count": 5,
      "outputs": []
    },
    {
      "cell_type": "code",
      "metadata": {
        "id": "kjY3ZXOkl9JO"
      },
      "source": [
        "search_click = os.path.join(path, 'search_click.csv')\n",
        "w_restaurant = os.path.join(path, 'w_restaurant.csv')"
      ],
      "execution_count": 6,
      "outputs": []
    },
    {
      "cell_type": "code",
      "metadata": {
        "id": "6kTgXA6wl-Qi"
      },
      "source": [
        "search_click_df = pd.read_csv(search_click)\n",
        "w_restaurant_df = pd.read_csv(w_restaurant)"
      ],
      "execution_count": 7,
      "outputs": []
    },
    {
      "cell_type": "code",
      "metadata": {
        "id": "eHnzEdhumQKZ",
        "outputId": "0f3c28a1-e689-4bd6-eb4e-5f0213273dfb",
        "colab": {
          "base_uri": "https://localhost:8080/",
          "height": 204
        }
      },
      "source": [
        "search_click_df.head()\n"
      ],
      "execution_count": 8,
      "outputs": [
        {
          "output_type": "execute_result",
          "data": {
            "text/html": [
              "<div>\n",
              "<style scoped>\n",
              "    .dataframe tbody tr th:only-of-type {\n",
              "        vertical-align: middle;\n",
              "    }\n",
              "\n",
              "    .dataframe tbody tr th {\n",
              "        vertical-align: top;\n",
              "    }\n",
              "\n",
              "    .dataframe thead th {\n",
              "        text-align: right;\n",
              "    }\n",
              "</style>\n",
              "<table border=\"1\" class=\"dataframe\">\n",
              "  <thead>\n",
              "    <tr style=\"text-align: right;\">\n",
              "      <th></th>\n",
              "      <th>click_timestamp</th>\n",
              "      <th>search_id</th>\n",
              "      <th>business_id</th>\n",
              "      <th>display_position</th>\n",
              "      <th>time_diff_nanos</th>\n",
              "      <th>ads</th>\n",
              "    </tr>\n",
              "  </thead>\n",
              "  <tbody>\n",
              "    <tr>\n",
              "      <th>0</th>\n",
              "      <td>11:38.9</td>\n",
              "      <td>5c004472-5ecc-4159-9698-9f329b8e26e1</td>\n",
              "      <td>298839.0</td>\n",
              "      <td>0</td>\n",
              "      <td>2.222400e+15</td>\n",
              "      <td>True</td>\n",
              "    </tr>\n",
              "    <tr>\n",
              "      <th>1</th>\n",
              "      <td>30:51.3</td>\n",
              "      <td>5f34eca0-c04e-4c10-b600-54aa447dbd8e</td>\n",
              "      <td>171372.0</td>\n",
              "      <td>0</td>\n",
              "      <td>4.608380e+14</td>\n",
              "      <td>True</td>\n",
              "    </tr>\n",
              "    <tr>\n",
              "      <th>2</th>\n",
              "      <td>32:09.6</td>\n",
              "      <td>8dc6d1f0-11f1-4239-9dd2-5c1674c81224</td>\n",
              "      <td>16157.0</td>\n",
              "      <td>0</td>\n",
              "      <td>2.581490e+15</td>\n",
              "      <td>True</td>\n",
              "    </tr>\n",
              "    <tr>\n",
              "      <th>3</th>\n",
              "      <td>00:59.8</td>\n",
              "      <td>1a5810e9-3d1f-44b9-9a2e-26ede21c524b</td>\n",
              "      <td>89741.0</td>\n",
              "      <td>1</td>\n",
              "      <td>1.404580e+15</td>\n",
              "      <td>True</td>\n",
              "    </tr>\n",
              "    <tr>\n",
              "      <th>4</th>\n",
              "      <td>23:36.8</td>\n",
              "      <td>6bc75e0d-fc65-471e-9926-ff6be6708639</td>\n",
              "      <td>189564.0</td>\n",
              "      <td>1</td>\n",
              "      <td>9.333590e+14</td>\n",
              "      <td>True</td>\n",
              "    </tr>\n",
              "  </tbody>\n",
              "</table>\n",
              "</div>"
            ],
            "text/plain": [
              "  click_timestamp                             search_id  ...  time_diff_nanos   ads\n",
              "0         11:38.9  5c004472-5ecc-4159-9698-9f329b8e26e1  ...     2.222400e+15  True\n",
              "1         30:51.3  5f34eca0-c04e-4c10-b600-54aa447dbd8e  ...     4.608380e+14  True\n",
              "2         32:09.6  8dc6d1f0-11f1-4239-9dd2-5c1674c81224  ...     2.581490e+15  True\n",
              "3         00:59.8  1a5810e9-3d1f-44b9-9a2e-26ede21c524b  ...     1.404580e+15  True\n",
              "4         23:36.8  6bc75e0d-fc65-471e-9926-ff6be6708639  ...     9.333590e+14  True\n",
              "\n",
              "[5 rows x 6 columns]"
            ]
          },
          "metadata": {
            "tags": []
          },
          "execution_count": 8
        }
      ]
    },
    {
      "cell_type": "code",
      "metadata": {
        "id": "Zyt3opi1nmsS",
        "outputId": "85050d35-d22e-41b5-8f07-ff66a46005a2",
        "colab": {
          "base_uri": "https://localhost:8080/",
          "height": 377
        }
      },
      "source": [
        "w_restaurant_df.head()"
      ],
      "execution_count": 9,
      "outputs": [
        {
          "output_type": "execute_result",
          "data": {
            "text/html": [
              "<div>\n",
              "<style scoped>\n",
              "    .dataframe tbody tr th:only-of-type {\n",
              "        vertical-align: middle;\n",
              "    }\n",
              "\n",
              "    .dataframe tbody tr th {\n",
              "        vertical-align: top;\n",
              "    }\n",
              "\n",
              "    .dataframe thead th {\n",
              "        text-align: right;\n",
              "    }\n",
              "</style>\n",
              "<table border=\"1\" class=\"dataframe\">\n",
              "  <thead>\n",
              "    <tr style=\"text-align: right;\">\n",
              "      <th></th>\n",
              "      <th>id</th>\n",
              "      <th>name</th>\n",
              "      <th>domain_id</th>\n",
              "      <th>closed</th>\n",
              "      <th>city_name</th>\n",
              "      <th>zipcode</th>\n",
              "      <th>geohash</th>\n",
              "      <th>new_open</th>\n",
              "      <th>weighted_average_rating</th>\n",
              "      <th>number_of_chains</th>\n",
              "      <th>number_of_bookmarks</th>\n",
              "      <th>number_of_reviews</th>\n",
              "      <th>number_of_product_tags</th>\n",
              "      <th>total_number_of_views</th>\n",
              "      <th>number_of_checkins</th>\n",
              "      <th>number_of_menu_groups</th>\n",
              "      <th>number_of_menu_photos</th>\n",
              "      <th>category_name</th>\n",
              "      <th>price_range</th>\n",
              "      <th>avg_price</th>\n",
              "      <th>parking</th>\n",
              "      <th>credit_card_accepted</th>\n",
              "      <th>good_for_groups</th>\n",
              "      <th>good_for_kids</th>\n",
              "      <th>bookable</th>\n",
              "      <th>best_of_wongnai</th>\n",
              "      <th>wifi</th>\n",
              "      <th>number_of_seats</th>\n",
              "      <th>music_venue</th>\n",
              "      <th>hotel_restaurant</th>\n",
              "      <th>pet_friendly</th>\n",
              "      <th>delivery</th>\n",
              "    </tr>\n",
              "  </thead>\n",
              "  <tbody>\n",
              "    <tr>\n",
              "      <th>0</th>\n",
              "      <td>2</td>\n",
              "      <td>นครินทร์ทันตกรรม</td>\n",
              "      <td>2</td>\n",
              "      <td>0</td>\n",
              "      <td>Samut Songkhram</td>\n",
              "      <td>75000</td>\n",
              "      <td>w4rh7g3</td>\n",
              "      <td>0</td>\n",
              "      <td>5.000000</td>\n",
              "      <td>NaN</td>\n",
              "      <td>NaN</td>\n",
              "      <td>1</td>\n",
              "      <td>0</td>\n",
              "      <td>3016</td>\n",
              "      <td>0</td>\n",
              "      <td>0</td>\n",
              "      <td>0</td>\n",
              "      <td>Orthodontic</td>\n",
              "      <td>NaN</td>\n",
              "      <td>NaN</td>\n",
              "      <td>3.0</td>\n",
              "      <td>0.0</td>\n",
              "      <td>NaN</td>\n",
              "      <td>NaN</td>\n",
              "      <td>NaN</td>\n",
              "      <td>NaN</td>\n",
              "      <td>NaN</td>\n",
              "      <td>13.0</td>\n",
              "      <td>NaN</td>\n",
              "      <td>NaN</td>\n",
              "      <td>NaN</td>\n",
              "      <td>NaN</td>\n",
              "    </tr>\n",
              "    <tr>\n",
              "      <th>1</th>\n",
              "      <td>4</td>\n",
              "      <td>Corner House</td>\n",
              "      <td>1</td>\n",
              "      <td>0</td>\n",
              "      <td>Bangkok Metropolitan Region</td>\n",
              "      <td>12150</td>\n",
              "      <td>w4rx73h</td>\n",
              "      <td>0</td>\n",
              "      <td>2.000000</td>\n",
              "      <td>NaN</td>\n",
              "      <td>NaN</td>\n",
              "      <td>1</td>\n",
              "      <td>0</td>\n",
              "      <td>321</td>\n",
              "      <td>0</td>\n",
              "      <td>0</td>\n",
              "      <td>1</td>\n",
              "      <td>Quick Meal</td>\n",
              "      <td>1.0</td>\n",
              "      <td>NaN</td>\n",
              "      <td>1.0</td>\n",
              "      <td>NaN</td>\n",
              "      <td>NaN</td>\n",
              "      <td>NaN</td>\n",
              "      <td>NaN</td>\n",
              "      <td>NaN</td>\n",
              "      <td>NaN</td>\n",
              "      <td>NaN</td>\n",
              "      <td>NaN</td>\n",
              "      <td>NaN</td>\n",
              "      <td>NaN</td>\n",
              "      <td>NaN</td>\n",
              "    </tr>\n",
              "    <tr>\n",
              "      <th>2</th>\n",
              "      <td>5</td>\n",
              "      <td>วัดโลกยสุธาราม</td>\n",
              "      <td>4</td>\n",
              "      <td>0</td>\n",
              "      <td>Phra Nakhon Si Ayutthaya</td>\n",
              "      <td>13000</td>\n",
              "      <td>w4x98jk</td>\n",
              "      <td>0</td>\n",
              "      <td>4.000000</td>\n",
              "      <td>NaN</td>\n",
              "      <td>1.0</td>\n",
              "      <td>0</td>\n",
              "      <td>0</td>\n",
              "      <td>167</td>\n",
              "      <td>0</td>\n",
              "      <td>0</td>\n",
              "      <td>0</td>\n",
              "      <td>Historical/Religion</td>\n",
              "      <td>NaN</td>\n",
              "      <td>NaN</td>\n",
              "      <td>1.0</td>\n",
              "      <td>NaN</td>\n",
              "      <td>NaN</td>\n",
              "      <td>NaN</td>\n",
              "      <td>NaN</td>\n",
              "      <td>NaN</td>\n",
              "      <td>NaN</td>\n",
              "      <td>NaN</td>\n",
              "      <td>NaN</td>\n",
              "      <td>NaN</td>\n",
              "      <td>NaN</td>\n",
              "      <td>NaN</td>\n",
              "    </tr>\n",
              "    <tr>\n",
              "      <th>3</th>\n",
              "      <td>6</td>\n",
              "      <td>นันท์คาราโอเกะ</td>\n",
              "      <td>1</td>\n",
              "      <td>0</td>\n",
              "      <td>Bangkok Metropolitan Region</td>\n",
              "      <td>10700</td>\n",
              "      <td>w4rqw9q</td>\n",
              "      <td>0</td>\n",
              "      <td>0.000000</td>\n",
              "      <td>NaN</td>\n",
              "      <td>NaN</td>\n",
              "      <td>0</td>\n",
              "      <td>0</td>\n",
              "      <td>901</td>\n",
              "      <td>0</td>\n",
              "      <td>0</td>\n",
              "      <td>0</td>\n",
              "      <td>Karaoke</td>\n",
              "      <td>NaN</td>\n",
              "      <td>NaN</td>\n",
              "      <td>NaN</td>\n",
              "      <td>NaN</td>\n",
              "      <td>NaN</td>\n",
              "      <td>NaN</td>\n",
              "      <td>NaN</td>\n",
              "      <td>NaN</td>\n",
              "      <td>NaN</td>\n",
              "      <td>NaN</td>\n",
              "      <td>NaN</td>\n",
              "      <td>NaN</td>\n",
              "      <td>NaN</td>\n",
              "      <td>NaN</td>\n",
              "    </tr>\n",
              "    <tr>\n",
              "      <th>4</th>\n",
              "      <td>7</td>\n",
              "      <td>Buono Caffe</td>\n",
              "      <td>1</td>\n",
              "      <td>0</td>\n",
              "      <td>Bangkok Metropolitan Region</td>\n",
              "      <td>10220</td>\n",
              "      <td>w4rx4gd</td>\n",
              "      <td>0</td>\n",
              "      <td>3.738462</td>\n",
              "      <td>NaN</td>\n",
              "      <td>15.0</td>\n",
              "      <td>3</td>\n",
              "      <td>0</td>\n",
              "      <td>2360</td>\n",
              "      <td>1</td>\n",
              "      <td>0</td>\n",
              "      <td>2</td>\n",
              "      <td>Café/Coffee Shop</td>\n",
              "      <td>1.0</td>\n",
              "      <td>NaN</td>\n",
              "      <td>1.0</td>\n",
              "      <td>0.0</td>\n",
              "      <td>NaN</td>\n",
              "      <td>NaN</td>\n",
              "      <td>NaN</td>\n",
              "      <td>NaN</td>\n",
              "      <td>1.0</td>\n",
              "      <td>2.0</td>\n",
              "      <td>NaN</td>\n",
              "      <td>NaN</td>\n",
              "      <td>NaN</td>\n",
              "      <td>NaN</td>\n",
              "    </tr>\n",
              "  </tbody>\n",
              "</table>\n",
              "</div>"
            ],
            "text/plain": [
              "   id              name  domain_id  ...  hotel_restaurant pet_friendly delivery\n",
              "0   2  นครินทร์ทันตกรรม          2  ...               NaN          NaN      NaN\n",
              "1   4      Corner House          1  ...               NaN          NaN      NaN\n",
              "2   5    วัดโลกยสุธาราม          4  ...               NaN          NaN      NaN\n",
              "3   6    นันท์คาราโอเกะ          1  ...               NaN          NaN      NaN\n",
              "4   7       Buono Caffe          1  ...               NaN          NaN      NaN\n",
              "\n",
              "[5 rows x 32 columns]"
            ]
          },
          "metadata": {
            "tags": []
          },
          "execution_count": 9
        }
      ]
    },
    {
      "cell_type": "code",
      "metadata": {
        "id": "etTFjh0_oHAh",
        "outputId": "888bcc1e-673f-4f39-9c11-9e69b057d233",
        "colab": {
          "base_uri": "https://localhost:8080/",
          "height": 34
        }
      },
      "source": [
        "search_click_df.shape #.shape เอาไว้เช็ครูปร่างของตาราง จะแสดงค่า (dataจำนวนแถว , featureจำนวนคอลัม)"
      ],
      "execution_count": 10,
      "outputs": [
        {
          "output_type": "execute_result",
          "data": {
            "text/plain": [
              "(1048575, 6)"
            ]
          },
          "metadata": {
            "tags": []
          },
          "execution_count": 10
        }
      ]
    },
    {
      "cell_type": "code",
      "metadata": {
        "id": "IHA4DInJpPRB",
        "outputId": "c0379538-bbe1-45b7-eec6-91f507ef5608",
        "colab": {
          "base_uri": "https://localhost:8080/",
          "height": 34
        }
      },
      "source": [
        "w_restaurant_df.shape"
      ],
      "execution_count": 11,
      "outputs": [
        {
          "output_type": "execute_result",
          "data": {
            "text/plain": [
              "(246847, 32)"
            ]
          },
          "metadata": {
            "tags": []
          },
          "execution_count": 11
        }
      ]
    },
    {
      "cell_type": "code",
      "metadata": {
        "id": "PjYdXx7dpSxg",
        "outputId": "3b60e518-dea6-488e-a1a6-dd6725cf5d5d",
        "colab": {
          "base_uri": "https://localhost:8080/",
          "height": 34
        }
      },
      "source": [
        "search_click_df.shape[0]"
      ],
      "execution_count": 12,
      "outputs": [
        {
          "output_type": "execute_result",
          "data": {
            "text/plain": [
              "1048575"
            ]
          },
          "metadata": {
            "tags": []
          },
          "execution_count": 12
        }
      ]
    },
    {
      "cell_type": "markdown",
      "metadata": {
        "id": "ysk7h-xJp3Vi"
      },
      "source": [
        "#0.Point to data in the table"
      ]
    },
    {
      "cell_type": "markdown",
      "metadata": {
        "id": "y7hrqtlIp-Fz"
      },
      "source": [
        "##normal index"
      ]
    },
    {
      "cell_type": "code",
      "metadata": {
        "id": "Az7ucon0pvbp",
        "outputId": "c8fea0f2-1b8d-48bd-a954-bf8f0efb069a",
        "colab": {
          "base_uri": "https://localhost:8080/",
          "height": 221
        }
      },
      "source": [
        "search_click_df['search_id'] #ใส่ชื่อคอลัมม์เลย"
      ],
      "execution_count": 13,
      "outputs": [
        {
          "output_type": "execute_result",
          "data": {
            "text/plain": [
              "0          5c004472-5ecc-4159-9698-9f329b8e26e1\n",
              "1          5f34eca0-c04e-4c10-b600-54aa447dbd8e\n",
              "2          8dc6d1f0-11f1-4239-9dd2-5c1674c81224\n",
              "3          1a5810e9-3d1f-44b9-9a2e-26ede21c524b\n",
              "4          6bc75e0d-fc65-471e-9926-ff6be6708639\n",
              "                           ...                 \n",
              "1048570    99aab616-6fc5-4fbf-994b-4aebee7bb360\n",
              "1048571    d70a2c5d-ee94-4e4c-9f7c-c5faac6db12a\n",
              "1048572    4c1de7fe-300e-41aa-9d01-914344fc3753\n",
              "1048573    2ec0ddec-e450-4b98-9779-42b77aa7eda5\n",
              "1048574    5741d9cf-b9f1-441d-aa83-d2b0179bf874\n",
              "Name: search_id, Length: 1048575, dtype: object"
            ]
          },
          "metadata": {
            "tags": []
          },
          "execution_count": 13
        }
      ]
    },
    {
      "cell_type": "code",
      "metadata": {
        "id": "QfUz5uq4qIFi",
        "outputId": "8759be99-6a33-41b9-a334-e51c6ade06e2",
        "colab": {
          "base_uri": "https://localhost:8080/",
          "height": 34
        }
      },
      "source": [
        "search_click_df['search_id'][0]  #ด้านแนวตั้งใช้ชื่อตาราง ด้านแนวนอนใช้ตะเลขระบะตำแหน่งของdata"
      ],
      "execution_count": 14,
      "outputs": [
        {
          "output_type": "execute_result",
          "data": {
            "application/vnd.google.colaboratory.intrinsic+json": {
              "type": "string"
            },
            "text/plain": [
              "'5c004472-5ecc-4159-9698-9f329b8e26e1'"
            ]
          },
          "metadata": {
            "tags": []
          },
          "execution_count": 14
        }
      ]
    },
    {
      "cell_type": "code",
      "metadata": {
        "id": "avOmCYRBqQcI",
        "outputId": "12b1702e-f1ce-4456-c2a1-bc79639e4598",
        "colab": {
          "base_uri": "https://localhost:8080/",
          "height": 419
        }
      },
      "source": [
        "w_restaurant_df[['name','city_name','weighted_average_rating']]"
      ],
      "execution_count": 15,
      "outputs": [
        {
          "output_type": "execute_result",
          "data": {
            "text/html": [
              "<div>\n",
              "<style scoped>\n",
              "    .dataframe tbody tr th:only-of-type {\n",
              "        vertical-align: middle;\n",
              "    }\n",
              "\n",
              "    .dataframe tbody tr th {\n",
              "        vertical-align: top;\n",
              "    }\n",
              "\n",
              "    .dataframe thead th {\n",
              "        text-align: right;\n",
              "    }\n",
              "</style>\n",
              "<table border=\"1\" class=\"dataframe\">\n",
              "  <thead>\n",
              "    <tr style=\"text-align: right;\">\n",
              "      <th></th>\n",
              "      <th>name</th>\n",
              "      <th>city_name</th>\n",
              "      <th>weighted_average_rating</th>\n",
              "    </tr>\n",
              "  </thead>\n",
              "  <tbody>\n",
              "    <tr>\n",
              "      <th>0</th>\n",
              "      <td>นครินทร์ทันตกรรม</td>\n",
              "      <td>Samut Songkhram</td>\n",
              "      <td>5.000000</td>\n",
              "    </tr>\n",
              "    <tr>\n",
              "      <th>1</th>\n",
              "      <td>Corner House</td>\n",
              "      <td>Bangkok Metropolitan Region</td>\n",
              "      <td>2.000000</td>\n",
              "    </tr>\n",
              "    <tr>\n",
              "      <th>2</th>\n",
              "      <td>วัดโลกยสุธาราม</td>\n",
              "      <td>Phra Nakhon Si Ayutthaya</td>\n",
              "      <td>4.000000</td>\n",
              "    </tr>\n",
              "    <tr>\n",
              "      <th>3</th>\n",
              "      <td>นันท์คาราโอเกะ</td>\n",
              "      <td>Bangkok Metropolitan Region</td>\n",
              "      <td>0.000000</td>\n",
              "    </tr>\n",
              "    <tr>\n",
              "      <th>4</th>\n",
              "      <td>Buono Caffe</td>\n",
              "      <td>Bangkok Metropolitan Region</td>\n",
              "      <td>3.738462</td>\n",
              "    </tr>\n",
              "    <tr>\n",
              "      <th>...</th>\n",
              "      <td>...</td>\n",
              "      <td>...</td>\n",
              "      <td>...</td>\n",
              "    </tr>\n",
              "    <tr>\n",
              "      <th>246842</th>\n",
              "      <td>Sushi Tama</td>\n",
              "      <td>Bangkok Metropolitan Region</td>\n",
              "      <td>3.663522</td>\n",
              "    </tr>\n",
              "    <tr>\n",
              "      <th>246843</th>\n",
              "      <td>สะบายดี คาราโอเกะ</td>\n",
              "      <td>Bangkok Metropolitan Region</td>\n",
              "      <td>0.000000</td>\n",
              "    </tr>\n",
              "    <tr>\n",
              "      <th>246844</th>\n",
              "      <td>สเต็กแม่&amp;กาแฟลูก</td>\n",
              "      <td>Bangkok Metropolitan Region</td>\n",
              "      <td>4.000000</td>\n",
              "    </tr>\n",
              "    <tr>\n",
              "      <th>246845</th>\n",
              "      <td>Mom Made</td>\n",
              "      <td>Nakhon Si Thammarat</td>\n",
              "      <td>5.000000</td>\n",
              "    </tr>\n",
              "    <tr>\n",
              "      <th>246846</th>\n",
              "      <td>ก๋วยเตี๋ยวหมูน้ำตก ก๋วยเตี๋ยวเรือทอง</td>\n",
              "      <td>Suphan Buri</td>\n",
              "      <td>3.000000</td>\n",
              "    </tr>\n",
              "  </tbody>\n",
              "</table>\n",
              "<p>246847 rows × 3 columns</p>\n",
              "</div>"
            ],
            "text/plain": [
              "                                        name  ... weighted_average_rating\n",
              "0                           นครินทร์ทันตกรรม  ...                5.000000\n",
              "1                               Corner House  ...                2.000000\n",
              "2                             วัดโลกยสุธาราม  ...                4.000000\n",
              "3                             นันท์คาราโอเกะ  ...                0.000000\n",
              "4                                Buono Caffe  ...                3.738462\n",
              "...                                      ...  ...                     ...\n",
              "246842                            Sushi Tama  ...                3.663522\n",
              "246843                     สะบายดี คาราโอเกะ  ...                0.000000\n",
              "246844                      สเต็กแม่&กาแฟลูก  ...                4.000000\n",
              "246845                              Mom Made  ...                5.000000\n",
              "246846  ก๋วยเตี๋ยวหมูน้ำตก ก๋วยเตี๋ยวเรือทอง  ...                3.000000\n",
              "\n",
              "[246847 rows x 3 columns]"
            ]
          },
          "metadata": {
            "tags": []
          },
          "execution_count": 15
        }
      ]
    },
    {
      "cell_type": "markdown",
      "metadata": {
        "id": "6SocU1rCq_pj"
      },
      "source": [
        "##.iloc\n",
        "* มอง data เป็น matrix"
      ]
    },
    {
      "cell_type": "code",
      "metadata": {
        "id": "iWcox58Pqok7",
        "outputId": "5fd8c23e-1957-4ffa-e151-388430127100",
        "colab": {
          "base_uri": "https://localhost:8080/",
          "height": 666
        }
      },
      "source": [
        "search_click_df.iloc[0,1]"
      ],
      "execution_count": 16,
      "outputs": [
        {
          "output_type": "execute_result",
          "data": {
            "application/vnd.google.colaboratory.intrinsic+json": {
              "type": "string"
            },
            "text/plain": [
              "'5c004472-5ecc-4159-9698-9f329b8e26e1'"
            ]
          },
          "metadata": {
            "tags": []
          },
          "execution_count": 16
        }
      ]
    },
    {
      "cell_type": "code",
      "metadata": {
        "id": "Yo2UjgtJrM5o",
        "outputId": "d8f5d54c-85df-44fa-e2fd-3f5b05a7cb8e",
        "colab": {
          "base_uri": "https://localhost:8080/",
          "height": 889
        }
      },
      "source": [
        "search_click_df.iloc[:10,:2] #matrix sclicing"
      ],
      "execution_count": 17,
      "outputs": [
        {
          "output_type": "execute_result",
          "data": {
            "text/html": [
              "<div>\n",
              "<style scoped>\n",
              "    .dataframe tbody tr th:only-of-type {\n",
              "        vertical-align: middle;\n",
              "    }\n",
              "\n",
              "    .dataframe tbody tr th {\n",
              "        vertical-align: top;\n",
              "    }\n",
              "\n",
              "    .dataframe thead th {\n",
              "        text-align: right;\n",
              "    }\n",
              "</style>\n",
              "<table border=\"1\" class=\"dataframe\">\n",
              "  <thead>\n",
              "    <tr style=\"text-align: right;\">\n",
              "      <th></th>\n",
              "      <th>click_timestamp</th>\n",
              "      <th>search_id</th>\n",
              "    </tr>\n",
              "  </thead>\n",
              "  <tbody>\n",
              "    <tr>\n",
              "      <th>0</th>\n",
              "      <td>11:38.9</td>\n",
              "      <td>5c004472-5ecc-4159-9698-9f329b8e26e1</td>\n",
              "    </tr>\n",
              "    <tr>\n",
              "      <th>1</th>\n",
              "      <td>30:51.3</td>\n",
              "      <td>5f34eca0-c04e-4c10-b600-54aa447dbd8e</td>\n",
              "    </tr>\n",
              "    <tr>\n",
              "      <th>2</th>\n",
              "      <td>32:09.6</td>\n",
              "      <td>8dc6d1f0-11f1-4239-9dd2-5c1674c81224</td>\n",
              "    </tr>\n",
              "    <tr>\n",
              "      <th>3</th>\n",
              "      <td>00:59.8</td>\n",
              "      <td>1a5810e9-3d1f-44b9-9a2e-26ede21c524b</td>\n",
              "    </tr>\n",
              "    <tr>\n",
              "      <th>4</th>\n",
              "      <td>23:36.8</td>\n",
              "      <td>6bc75e0d-fc65-471e-9926-ff6be6708639</td>\n",
              "    </tr>\n",
              "    <tr>\n",
              "      <th>5</th>\n",
              "      <td>48:16.7</td>\n",
              "      <td>92ea02ba-2c89-4efd-973c-e23526c531de</td>\n",
              "    </tr>\n",
              "    <tr>\n",
              "      <th>6</th>\n",
              "      <td>39:18.4</td>\n",
              "      <td>79d61918-fb3e-4181-99b6-7a7abddfcdb1</td>\n",
              "    </tr>\n",
              "    <tr>\n",
              "      <th>7</th>\n",
              "      <td>33:39.0</td>\n",
              "      <td>7f8b2b57-dea1-4fe1-84c8-5a7d63750e47</td>\n",
              "    </tr>\n",
              "    <tr>\n",
              "      <th>8</th>\n",
              "      <td>07:48.3</td>\n",
              "      <td>3d9217bb-3eae-42b5-8cf3-a756efae2cfa</td>\n",
              "    </tr>\n",
              "    <tr>\n",
              "      <th>9</th>\n",
              "      <td>41:25.4</td>\n",
              "      <td>a2cb0d41-6e1f-4169-9140-cb671fbb41dc</td>\n",
              "    </tr>\n",
              "  </tbody>\n",
              "</table>\n",
              "</div>"
            ],
            "text/plain": [
              "  click_timestamp                             search_id\n",
              "0         11:38.9  5c004472-5ecc-4159-9698-9f329b8e26e1\n",
              "1         30:51.3  5f34eca0-c04e-4c10-b600-54aa447dbd8e\n",
              "2         32:09.6  8dc6d1f0-11f1-4239-9dd2-5c1674c81224\n",
              "3         00:59.8  1a5810e9-3d1f-44b9-9a2e-26ede21c524b\n",
              "4         23:36.8  6bc75e0d-fc65-471e-9926-ff6be6708639\n",
              "5         48:16.7  92ea02ba-2c89-4efd-973c-e23526c531de\n",
              "6         39:18.4  79d61918-fb3e-4181-99b6-7a7abddfcdb1\n",
              "7         33:39.0  7f8b2b57-dea1-4fe1-84c8-5a7d63750e47\n",
              "8         07:48.3  3d9217bb-3eae-42b5-8cf3-a756efae2cfa\n",
              "9         41:25.4  a2cb0d41-6e1f-4169-9140-cb671fbb41dc"
            ]
          },
          "metadata": {
            "tags": []
          },
          "execution_count": 17
        }
      ]
    },
    {
      "cell_type": "markdown",
      "metadata": {
        "id": "bCfR0PCGrqan"
      },
      "source": [
        "#Missing value"
      ]
    },
    {
      "cell_type": "code",
      "metadata": {
        "id": "SwrwsaA3rUwJ",
        "outputId": "93bdae0f-7742-4882-a2cb-4c2e4d2123d7",
        "colab": {
          "base_uri": "https://localhost:8080/",
          "height": 507
        }
      },
      "source": [
        "search_click_df.isnull() #.isnull เอาไว้เช็คว่ามี missing value รึป่าว >> True หมายว่าว่า ช่องนั้นเป็น missing value ถ้าไม่ใช่ จะขึ้นว่า False"
      ],
      "execution_count": 18,
      "outputs": [
        {
          "output_type": "execute_result",
          "data": {
            "text/html": [
              "<div>\n",
              "<style scoped>\n",
              "    .dataframe tbody tr th:only-of-type {\n",
              "        vertical-align: middle;\n",
              "    }\n",
              "\n",
              "    .dataframe tbody tr th {\n",
              "        vertical-align: top;\n",
              "    }\n",
              "\n",
              "    .dataframe thead th {\n",
              "        text-align: right;\n",
              "    }\n",
              "</style>\n",
              "<table border=\"1\" class=\"dataframe\">\n",
              "  <thead>\n",
              "    <tr style=\"text-align: right;\">\n",
              "      <th></th>\n",
              "      <th>click_timestamp</th>\n",
              "      <th>search_id</th>\n",
              "      <th>business_id</th>\n",
              "      <th>display_position</th>\n",
              "      <th>time_diff_nanos</th>\n",
              "      <th>ads</th>\n",
              "    </tr>\n",
              "  </thead>\n",
              "  <tbody>\n",
              "    <tr>\n",
              "      <th>0</th>\n",
              "      <td>False</td>\n",
              "      <td>False</td>\n",
              "      <td>False</td>\n",
              "      <td>False</td>\n",
              "      <td>False</td>\n",
              "      <td>False</td>\n",
              "    </tr>\n",
              "    <tr>\n",
              "      <th>1</th>\n",
              "      <td>False</td>\n",
              "      <td>False</td>\n",
              "      <td>False</td>\n",
              "      <td>False</td>\n",
              "      <td>False</td>\n",
              "      <td>False</td>\n",
              "    </tr>\n",
              "    <tr>\n",
              "      <th>2</th>\n",
              "      <td>False</td>\n",
              "      <td>False</td>\n",
              "      <td>False</td>\n",
              "      <td>False</td>\n",
              "      <td>False</td>\n",
              "      <td>False</td>\n",
              "    </tr>\n",
              "    <tr>\n",
              "      <th>3</th>\n",
              "      <td>False</td>\n",
              "      <td>False</td>\n",
              "      <td>False</td>\n",
              "      <td>False</td>\n",
              "      <td>False</td>\n",
              "      <td>False</td>\n",
              "    </tr>\n",
              "    <tr>\n",
              "      <th>4</th>\n",
              "      <td>False</td>\n",
              "      <td>False</td>\n",
              "      <td>False</td>\n",
              "      <td>False</td>\n",
              "      <td>False</td>\n",
              "      <td>False</td>\n",
              "    </tr>\n",
              "    <tr>\n",
              "      <th>...</th>\n",
              "      <td>...</td>\n",
              "      <td>...</td>\n",
              "      <td>...</td>\n",
              "      <td>...</td>\n",
              "      <td>...</td>\n",
              "      <td>...</td>\n",
              "    </tr>\n",
              "    <tr>\n",
              "      <th>1048570</th>\n",
              "      <td>False</td>\n",
              "      <td>False</td>\n",
              "      <td>False</td>\n",
              "      <td>False</td>\n",
              "      <td>False</td>\n",
              "      <td>False</td>\n",
              "    </tr>\n",
              "    <tr>\n",
              "      <th>1048571</th>\n",
              "      <td>False</td>\n",
              "      <td>False</td>\n",
              "      <td>False</td>\n",
              "      <td>False</td>\n",
              "      <td>False</td>\n",
              "      <td>False</td>\n",
              "    </tr>\n",
              "    <tr>\n",
              "      <th>1048572</th>\n",
              "      <td>False</td>\n",
              "      <td>False</td>\n",
              "      <td>False</td>\n",
              "      <td>False</td>\n",
              "      <td>False</td>\n",
              "      <td>False</td>\n",
              "    </tr>\n",
              "    <tr>\n",
              "      <th>1048573</th>\n",
              "      <td>False</td>\n",
              "      <td>False</td>\n",
              "      <td>False</td>\n",
              "      <td>False</td>\n",
              "      <td>False</td>\n",
              "      <td>False</td>\n",
              "    </tr>\n",
              "    <tr>\n",
              "      <th>1048574</th>\n",
              "      <td>False</td>\n",
              "      <td>False</td>\n",
              "      <td>False</td>\n",
              "      <td>False</td>\n",
              "      <td>False</td>\n",
              "      <td>False</td>\n",
              "    </tr>\n",
              "  </tbody>\n",
              "</table>\n",
              "<p>1048575 rows × 6 columns</p>\n",
              "</div>"
            ],
            "text/plain": [
              "         click_timestamp  search_id  ...  time_diff_nanos    ads\n",
              "0                  False      False  ...            False  False\n",
              "1                  False      False  ...            False  False\n",
              "2                  False      False  ...            False  False\n",
              "3                  False      False  ...            False  False\n",
              "4                  False      False  ...            False  False\n",
              "...                  ...        ...  ...              ...    ...\n",
              "1048570            False      False  ...            False  False\n",
              "1048571            False      False  ...            False  False\n",
              "1048572            False      False  ...            False  False\n",
              "1048573            False      False  ...            False  False\n",
              "1048574            False      False  ...            False  False\n",
              "\n",
              "[1048575 rows x 6 columns]"
            ]
          },
          "metadata": {
            "tags": []
          },
          "execution_count": 18
        }
      ]
    },
    {
      "cell_type": "code",
      "metadata": {
        "id": "Fvzi0oIUrwVK",
        "outputId": "8d080bd0-0d0f-4714-e39c-b606a9a0afea",
        "colab": {
          "base_uri": "https://localhost:8080/",
          "height": 156
        }
      },
      "source": [
        "search_click_df.isnull().any()  #.any คือการสรุปรวมความจริงทั้งหมดในฝั่งคอลัมม์   เอาข้อมูลในแต่ละข้อลัมล์มา or(logic) กันทั้งหมด"
      ],
      "execution_count": 19,
      "outputs": [
        {
          "output_type": "execute_result",
          "data": {
            "text/plain": [
              "click_timestamp     False\n",
              "search_id            True\n",
              "business_id          True\n",
              "display_position    False\n",
              "time_diff_nanos     False\n",
              "ads                 False\n",
              "dtype: bool"
            ]
          },
          "metadata": {
            "tags": []
          },
          "execution_count": 19
        }
      ]
    },
    {
      "cell_type": "code",
      "metadata": {
        "id": "VPX6dvx-tO6v",
        "outputId": "af90cb39-7fa3-4dad-ee15-213c00c1fbe2",
        "colab": {
          "base_uri": "https://localhost:8080/",
          "height": 54
        }
      },
      "source": [
        "search_click_df.isnull().any().any() #เอาความจริงที่เหลืออยู่คอลัมม์เดียวมา or กันทั้งหมด จะได้รู้ความจริงทั้งตาราง"
      ],
      "execution_count": 20,
      "outputs": [
        {
          "output_type": "execute_result",
          "data": {
            "text/plain": [
              "True"
            ]
          },
          "metadata": {
            "tags": []
          },
          "execution_count": 20
        }
      ]
    },
    {
      "cell_type": "code",
      "metadata": {
        "id": "GXBpUenxseeo",
        "outputId": "86f04938-f7e8-49ac-ce0f-613c29472902",
        "colab": {
          "base_uri": "https://localhost:8080/",
          "height": 156
        }
      },
      "source": [
        "search_click_df.isnull().all() #.all คือการสรุปรวมความจริงทั้งหมดในฝั่งคอลัมม์   เอาข้อมูลในแต่ละข้อลัมล์มา and(logic) กันทั้งหมด"
      ],
      "execution_count": 21,
      "outputs": [
        {
          "output_type": "execute_result",
          "data": {
            "text/plain": [
              "click_timestamp     False\n",
              "search_id           False\n",
              "business_id         False\n",
              "display_position    False\n",
              "time_diff_nanos     False\n",
              "ads                 False\n",
              "dtype: bool"
            ]
          },
          "metadata": {
            "tags": []
          },
          "execution_count": 21
        }
      ]
    },
    {
      "cell_type": "markdown",
      "metadata": {
        "id": "1HVXgtfjtfBQ"
      },
      "source": [
        "#Handdle Missing value 1"
      ]
    },
    {
      "cell_type": "markdown",
      "metadata": {
        "id": "MExDgIpotjnw"
      },
      "source": [
        "* delete ข้อมูลนั้นไปเลย"
      ]
    },
    {
      "cell_type": "code",
      "metadata": {
        "id": "9RAEw3TktIhL"
      },
      "source": [
        "search_click_df_nm =search_click_df.dropna()"
      ],
      "execution_count": 22,
      "outputs": []
    },
    {
      "cell_type": "code",
      "metadata": {
        "id": "rKTJ07kit1Ji",
        "outputId": "20059e4f-c4b5-46a3-e3ec-4e7987f81c13",
        "colab": {
          "base_uri": "https://localhost:8080/",
          "height": 54
        }
      },
      "source": [
        "search_click_df_nm.isnull().any().any()"
      ],
      "execution_count": 23,
      "outputs": [
        {
          "output_type": "execute_result",
          "data": {
            "text/plain": [
              "False"
            ]
          },
          "metadata": {
            "tags": []
          },
          "execution_count": 23
        }
      ]
    },
    {
      "cell_type": "code",
      "metadata": {
        "id": "cGJNnfFEt-tL",
        "outputId": "e83c66f9-6187-4cfd-b657-8ff66fb70b4f",
        "colab": {
          "base_uri": "https://localhost:8080/",
          "height": 71
        }
      },
      "source": [
        "print(search_click_df.shape)\n",
        "print(search_click_df_nm.shape)"
      ],
      "execution_count": 24,
      "outputs": [
        {
          "output_type": "stream",
          "text": [
            "(1048575, 6)\n",
            "(1048206, 6)\n"
          ],
          "name": "stdout"
        }
      ]
    },
    {
      "cell_type": "code",
      "metadata": {
        "id": "eAxrj18PuJ3v",
        "outputId": "a1687ac1-964f-48ed-eef0-58ade6c2ad89",
        "colab": {
          "base_uri": "https://localhost:8080/",
          "height": 54
        }
      },
      "source": [
        "print(search_click_df.shape[0]-search_click_df_nm.shape[0]) #หาว่าข้อมูลMissingที่ลบไปมีกี่ตัว"
      ],
      "execution_count": 25,
      "outputs": [
        {
          "output_type": "stream",
          "text": [
            "369\n"
          ],
          "name": "stdout"
        }
      ]
    },
    {
      "cell_type": "markdown",
      "metadata": {
        "id": "eVHeqAdWudyO"
      },
      "source": [
        "#Exercise1 ตรวจสอบว่ากานรลบข้อมูล missing อกจากตาราง w_restarant จะทำให้ข้อมูลลดลงกี่ %"
      ]
    },
    {
      "cell_type": "code",
      "metadata": {
        "id": "DV05FaaeuS95"
      },
      "source": [
        "w_restaurant_df_nm = w_restaurant_df.dropna()"
      ],
      "execution_count": 26,
      "outputs": []
    },
    {
      "cell_type": "code",
      "metadata": {
        "id": "W-EFUiteu4IY",
        "outputId": "004a7bc0-a726-4d0a-b4d3-174f7bb2229a",
        "colab": {
          "base_uri": "https://localhost:8080/",
          "height": 54
        }
      },
      "source": [
        "w_restaurant_df_nm.isnull().any().any()"
      ],
      "execution_count": 27,
      "outputs": [
        {
          "output_type": "execute_result",
          "data": {
            "text/plain": [
              "False"
            ]
          },
          "metadata": {
            "tags": []
          },
          "execution_count": 27
        }
      ]
    },
    {
      "cell_type": "code",
      "metadata": {
        "id": "mnjFF9ASu_WI",
        "outputId": "94d7c9c2-b8df-45b1-8c38-aa1441385862",
        "colab": {
          "base_uri": "https://localhost:8080/",
          "height": 71
        }
      },
      "source": [
        "print(w_restaurant_df.shape)\n",
        "print(w_restaurant_df_nm.shape)"
      ],
      "execution_count": 28,
      "outputs": [
        {
          "output_type": "stream",
          "text": [
            "(246847, 32)\n",
            "(4, 32)\n"
          ],
          "name": "stdout"
        }
      ]
    },
    {
      "cell_type": "code",
      "metadata": {
        "id": "PK5kueYNvIGD",
        "outputId": "662676ec-5ca7-4460-c10e-2c5636af71b8",
        "colab": {
          "base_uri": "https://localhost:8080/",
          "height": 54
        }
      },
      "source": [
        " print(w_restaurant_df.shape[0]-w_restaurant_df_nm.shape[0]) #จำนวนข้อมูลที่หายไป"
      ],
      "execution_count": 29,
      "outputs": [
        {
          "output_type": "stream",
          "text": [
            "246843\n"
          ],
          "name": "stdout"
        }
      ]
    },
    {
      "cell_type": "code",
      "metadata": {
        "id": "RkMgju1gvSCw",
        "outputId": "611ef349-25f3-4154-df3f-a004ade5b2ab",
        "colab": {
          "base_uri": "https://localhost:8080/",
          "height": 54
        }
      },
      "source": [
        "((w_restaurant_df.shape[0]-w_restaurant_df_nm.shape[0])/w_restaurant_df.shape[0])*100 #ของจำนวนข้อมูลที่หายไป"
      ],
      "execution_count": 30,
      "outputs": [
        {
          "output_type": "execute_result",
          "data": {
            "text/plain": [
              "99.99837956304918"
            ]
          },
          "metadata": {
            "tags": []
          },
          "execution_count": 30
        }
      ]
    },
    {
      "cell_type": "markdown",
      "metadata": {
        "id": "3WzqSY2xwkuf"
      },
      "source": [
        "##Method 1.5 "
      ]
    },
    {
      "cell_type": "markdown",
      "metadata": {
        "id": "FhPfmJzUxC3l"
      },
      "source": [
        "* dropna หรือ ลบ เฉพาะข้อมูลที่เราต้องการ เช่น อยากรู้ราคาเฉลี่ยของร้านค้าเป็นเท่าไหร่ ก็เลือกเฉพาะคอลัมม์ที่เกี่ยวข้อง"
      ]
    },
    {
      "cell_type": "code",
      "metadata": {
        "id": "fL4YubK5vniU",
        "outputId": "e01c534c-446f-4e02-86f6-be9c8ba392d8",
        "colab": {
          "base_uri": "https://localhost:8080/",
          "height": 598
        }
      },
      "source": [
        "w_restaurant_df_nm.isnull().any()"
      ],
      "execution_count": 31,
      "outputs": [
        {
          "output_type": "execute_result",
          "data": {
            "text/plain": [
              "id                         False\n",
              "name                       False\n",
              "domain_id                  False\n",
              "closed                     False\n",
              "city_name                  False\n",
              "zipcode                    False\n",
              "geohash                    False\n",
              "new_open                   False\n",
              "weighted_average_rating    False\n",
              "number_of_chains           False\n",
              "number_of_bookmarks        False\n",
              "number_of_reviews          False\n",
              "number_of_product_tags     False\n",
              "total_number_of_views      False\n",
              "number_of_checkins         False\n",
              "number_of_menu_groups      False\n",
              "number_of_menu_photos      False\n",
              "category_name              False\n",
              "price_range                False\n",
              "avg_price                  False\n",
              "parking                    False\n",
              "credit_card_accepted       False\n",
              "good_for_groups            False\n",
              "good_for_kids              False\n",
              "bookable                   False\n",
              "best_of_wongnai            False\n",
              "wifi                       False\n",
              "number_of_seats            False\n",
              "music_venue                False\n",
              "hotel_restaurant           False\n",
              "pet_friendly               False\n",
              "delivery                   False\n",
              "dtype: bool"
            ]
          },
          "metadata": {
            "tags": []
          },
          "execution_count": 31
        }
      ]
    },
    {
      "cell_type": "code",
      "metadata": {
        "id": "00eE1C4Gye0q",
        "outputId": "926a415e-cea3-4e7a-8710-d747dd5fdace",
        "colab": {
          "base_uri": "https://localhost:8080/",
          "height": 54
        }
      },
      "source": [
        "w_restaurant_df.dropna(subset=['id','name','avg_price']).shape"
      ],
      "execution_count": 32,
      "outputs": [
        {
          "output_type": "execute_result",
          "data": {
            "text/plain": [
              "(4572, 32)"
            ]
          },
          "metadata": {
            "tags": []
          },
          "execution_count": 32
        }
      ]
    },
    {
      "cell_type": "code",
      "metadata": {
        "id": "--2GiETjw6RG"
      },
      "source": [
        "w_rest_dropped_avgprice=w_restaurant_df.dropna(subset=['id','name','avg_price'])"
      ],
      "execution_count": 33,
      "outputs": []
    },
    {
      "cell_type": "code",
      "metadata": {
        "id": "k6EqouiEyB3s",
        "outputId": "e9fd978d-9072-4040-eb75-cfc32046d3f3",
        "colab": {
          "base_uri": "https://localhost:8080/",
          "height": 343
        }
      },
      "source": [
        "w_rest_dropped_avgprice.head()"
      ],
      "execution_count": 34,
      "outputs": [
        {
          "output_type": "execute_result",
          "data": {
            "text/html": [
              "<div>\n",
              "<style scoped>\n",
              "    .dataframe tbody tr th:only-of-type {\n",
              "        vertical-align: middle;\n",
              "    }\n",
              "\n",
              "    .dataframe tbody tr th {\n",
              "        vertical-align: top;\n",
              "    }\n",
              "\n",
              "    .dataframe thead th {\n",
              "        text-align: right;\n",
              "    }\n",
              "</style>\n",
              "<table border=\"1\" class=\"dataframe\">\n",
              "  <thead>\n",
              "    <tr style=\"text-align: right;\">\n",
              "      <th></th>\n",
              "      <th>id</th>\n",
              "      <th>name</th>\n",
              "      <th>domain_id</th>\n",
              "      <th>closed</th>\n",
              "      <th>city_name</th>\n",
              "      <th>zipcode</th>\n",
              "      <th>geohash</th>\n",
              "      <th>new_open</th>\n",
              "      <th>weighted_average_rating</th>\n",
              "      <th>number_of_chains</th>\n",
              "      <th>number_of_bookmarks</th>\n",
              "      <th>number_of_reviews</th>\n",
              "      <th>number_of_product_tags</th>\n",
              "      <th>total_number_of_views</th>\n",
              "      <th>number_of_checkins</th>\n",
              "      <th>number_of_menu_groups</th>\n",
              "      <th>number_of_menu_photos</th>\n",
              "      <th>category_name</th>\n",
              "      <th>price_range</th>\n",
              "      <th>avg_price</th>\n",
              "      <th>parking</th>\n",
              "      <th>credit_card_accepted</th>\n",
              "      <th>good_for_groups</th>\n",
              "      <th>good_for_kids</th>\n",
              "      <th>bookable</th>\n",
              "      <th>best_of_wongnai</th>\n",
              "      <th>wifi</th>\n",
              "      <th>number_of_seats</th>\n",
              "      <th>music_venue</th>\n",
              "      <th>hotel_restaurant</th>\n",
              "      <th>pet_friendly</th>\n",
              "      <th>delivery</th>\n",
              "    </tr>\n",
              "  </thead>\n",
              "  <tbody>\n",
              "    <tr>\n",
              "      <th>11</th>\n",
              "      <td>27</td>\n",
              "      <td>แพอาหารธาราบุรี</td>\n",
              "      <td>1</td>\n",
              "      <td>0</td>\n",
              "      <td>Kanchanaburi</td>\n",
              "      <td>71000</td>\n",
              "      <td>w4qzbb4</td>\n",
              "      <td>0</td>\n",
              "      <td>3.568245</td>\n",
              "      <td>NaN</td>\n",
              "      <td>107.0</td>\n",
              "      <td>34</td>\n",
              "      <td>3</td>\n",
              "      <td>22277</td>\n",
              "      <td>26</td>\n",
              "      <td>0</td>\n",
              "      <td>0</td>\n",
              "      <td>Thai</td>\n",
              "      <td>3.0</td>\n",
              "      <td>375.0</td>\n",
              "      <td>3.0</td>\n",
              "      <td>1.0</td>\n",
              "      <td>1.0</td>\n",
              "      <td>1.0</td>\n",
              "      <td>1.0</td>\n",
              "      <td>NaN</td>\n",
              "      <td>NaN</td>\n",
              "      <td>2.0</td>\n",
              "      <td>NaN</td>\n",
              "      <td>NaN</td>\n",
              "      <td>NaN</td>\n",
              "      <td>NaN</td>\n",
              "    </tr>\n",
              "    <tr>\n",
              "      <th>67</th>\n",
              "      <td>123</td>\n",
              "      <td>เล็กกุ้งเผา</td>\n",
              "      <td>1</td>\n",
              "      <td>0</td>\n",
              "      <td>Bangkok Metropolitan Region</td>\n",
              "      <td>10310</td>\n",
              "      <td>w4rw9mc</td>\n",
              "      <td>0</td>\n",
              "      <td>3.685552</td>\n",
              "      <td>NaN</td>\n",
              "      <td>272.0</td>\n",
              "      <td>29</td>\n",
              "      <td>7</td>\n",
              "      <td>28697</td>\n",
              "      <td>26</td>\n",
              "      <td>0</td>\n",
              "      <td>15</td>\n",
              "      <td>Thai</td>\n",
              "      <td>3.0</td>\n",
              "      <td>375.0</td>\n",
              "      <td>1.0</td>\n",
              "      <td>0.0</td>\n",
              "      <td>NaN</td>\n",
              "      <td>NaN</td>\n",
              "      <td>NaN</td>\n",
              "      <td>NaN</td>\n",
              "      <td>NaN</td>\n",
              "      <td>NaN</td>\n",
              "      <td>NaN</td>\n",
              "      <td>NaN</td>\n",
              "      <td>NaN</td>\n",
              "      <td>NaN</td>\n",
              "    </tr>\n",
              "    <tr>\n",
              "      <th>91</th>\n",
              "      <td>175</td>\n",
              "      <td>ใต้ต้นมะม่วง</td>\n",
              "      <td>1</td>\n",
              "      <td>0</td>\n",
              "      <td>Phuket</td>\n",
              "      <td>83000</td>\n",
              "      <td>w1muz5d</td>\n",
              "      <td>0</td>\n",
              "      <td>3.857143</td>\n",
              "      <td>NaN</td>\n",
              "      <td>17.0</td>\n",
              "      <td>15</td>\n",
              "      <td>2</td>\n",
              "      <td>3278</td>\n",
              "      <td>6</td>\n",
              "      <td>0</td>\n",
              "      <td>3</td>\n",
              "      <td>Thai</td>\n",
              "      <td>1.0</td>\n",
              "      <td>50.0</td>\n",
              "      <td>1.0</td>\n",
              "      <td>0.0</td>\n",
              "      <td>1.0</td>\n",
              "      <td>1.0</td>\n",
              "      <td>0.0</td>\n",
              "      <td>NaN</td>\n",
              "      <td>0.0</td>\n",
              "      <td>2.0</td>\n",
              "      <td>NaN</td>\n",
              "      <td>NaN</td>\n",
              "      <td>NaN</td>\n",
              "      <td>NaN</td>\n",
              "    </tr>\n",
              "    <tr>\n",
              "      <th>129</th>\n",
              "      <td>262</td>\n",
              "      <td>Oniku Shabushabu &amp; Yakiniku</td>\n",
              "      <td>1</td>\n",
              "      <td>0</td>\n",
              "      <td>Surat Thani</td>\n",
              "      <td>84000</td>\n",
              "      <td>w1weuxg</td>\n",
              "      <td>0</td>\n",
              "      <td>3.633588</td>\n",
              "      <td>NaN</td>\n",
              "      <td>40.0</td>\n",
              "      <td>19</td>\n",
              "      <td>2</td>\n",
              "      <td>10349</td>\n",
              "      <td>7</td>\n",
              "      <td>0</td>\n",
              "      <td>11</td>\n",
              "      <td>Sukiyaki/Shabu</td>\n",
              "      <td>3.0</td>\n",
              "      <td>375.0</td>\n",
              "      <td>3.0</td>\n",
              "      <td>1.0</td>\n",
              "      <td>1.0</td>\n",
              "      <td>1.0</td>\n",
              "      <td>1.0</td>\n",
              "      <td>NaN</td>\n",
              "      <td>1.0</td>\n",
              "      <td>5.0</td>\n",
              "      <td>NaN</td>\n",
              "      <td>0.0</td>\n",
              "      <td>NaN</td>\n",
              "      <td>1.0</td>\n",
              "    </tr>\n",
              "    <tr>\n",
              "      <th>134</th>\n",
              "      <td>271</td>\n",
              "      <td>Cafe Cha</td>\n",
              "      <td>1</td>\n",
              "      <td>0</td>\n",
              "      <td>Bangkok Metropolitan Region</td>\n",
              "      <td>10300</td>\n",
              "      <td>w4rqrhf</td>\n",
              "      <td>0</td>\n",
              "      <td>4.094527</td>\n",
              "      <td>NaN</td>\n",
              "      <td>251.0</td>\n",
              "      <td>12</td>\n",
              "      <td>0</td>\n",
              "      <td>17775</td>\n",
              "      <td>11</td>\n",
              "      <td>0</td>\n",
              "      <td>7</td>\n",
              "      <td>Café/Coffee Shop</td>\n",
              "      <td>4.0</td>\n",
              "      <td>175.0</td>\n",
              "      <td>3.0</td>\n",
              "      <td>1.0</td>\n",
              "      <td>NaN</td>\n",
              "      <td>NaN</td>\n",
              "      <td>NaN</td>\n",
              "      <td>NaN</td>\n",
              "      <td>1.0</td>\n",
              "      <td>NaN</td>\n",
              "      <td>NaN</td>\n",
              "      <td>NaN</td>\n",
              "      <td>NaN</td>\n",
              "      <td>NaN</td>\n",
              "    </tr>\n",
              "  </tbody>\n",
              "</table>\n",
              "</div>"
            ],
            "text/plain": [
              "      id                         name  ...  pet_friendly  delivery\n",
              "11    27              แพอาหารธาราบุรี  ...           NaN       NaN\n",
              "67   123                  เล็กกุ้งเผา  ...           NaN       NaN\n",
              "91   175                 ใต้ต้นมะม่วง  ...           NaN       NaN\n",
              "129  262  Oniku Shabushabu & Yakiniku  ...           NaN       1.0\n",
              "134  271                     Cafe Cha  ...           NaN       NaN\n",
              "\n",
              "[5 rows x 32 columns]"
            ]
          },
          "metadata": {
            "tags": []
          },
          "execution_count": 34
        }
      ]
    },
    {
      "cell_type": "code",
      "metadata": {
        "id": "sW3GfxFzxv1i",
        "outputId": "078ce1b8-7a83-4bbc-cf27-335579d96923",
        "colab": {
          "base_uri": "https://localhost:8080/",
          "height": 54
        }
      },
      "source": [
        "w_restaurant_df.dropna(subset=['id','name','avg_price'])['avg_price'].mean()"
      ],
      "execution_count": 35,
      "outputs": [
        {
          "output_type": "execute_result",
          "data": {
            "text/plain": [
              "327.44728783902013"
            ]
          },
          "metadata": {
            "tags": []
          },
          "execution_count": 35
        }
      ]
    },
    {
      "cell_type": "markdown",
      "metadata": {
        "id": "cA_ielxzy3ro"
      },
      "source": [
        "##Method 2 (Replace with reasonalable value)"
      ]
    },
    {
      "cell_type": "markdown",
      "metadata": {
        "id": "mONo3kAqzOfm"
      },
      "source": [
        "### we are replacing missing value in the number of chains with 0\n",
        "* number of chain คืออะไร ไปเปิดดูใน matadata == จำนวนสาขาของร้าน"
      ]
    },
    {
      "cell_type": "code",
      "metadata": {
        "id": "-vaFe-Vnyx5-"
      },
      "source": [
        "w_restaurant_df[['number_of_chains']] = w_restaurant_df[['number_of_chains']].fillna(0)"
      ],
      "execution_count": 36,
      "outputs": []
    },
    {
      "cell_type": "code",
      "metadata": {
        "id": "MlCyrjzZ0Fuw",
        "outputId": "86c6e557-7f67-4caa-adf9-2a798c7afb9c",
        "colab": {
          "base_uri": "https://localhost:8080/",
          "height": 598
        }
      },
      "source": [
        "w_restaurant_df.isnull().any()"
      ],
      "execution_count": 37,
      "outputs": [
        {
          "output_type": "execute_result",
          "data": {
            "text/plain": [
              "id                         False\n",
              "name                       False\n",
              "domain_id                  False\n",
              "closed                     False\n",
              "city_name                  False\n",
              "zipcode                     True\n",
              "geohash                    False\n",
              "new_open                   False\n",
              "weighted_average_rating    False\n",
              "number_of_chains           False\n",
              "number_of_bookmarks         True\n",
              "number_of_reviews          False\n",
              "number_of_product_tags     False\n",
              "total_number_of_views      False\n",
              "number_of_checkins         False\n",
              "number_of_menu_groups      False\n",
              "number_of_menu_photos      False\n",
              "category_name              False\n",
              "price_range                 True\n",
              "avg_price                   True\n",
              "parking                     True\n",
              "credit_card_accepted        True\n",
              "good_for_groups             True\n",
              "good_for_kids               True\n",
              "bookable                    True\n",
              "best_of_wongnai             True\n",
              "wifi                        True\n",
              "number_of_seats             True\n",
              "music_venue                 True\n",
              "hotel_restaurant            True\n",
              "pet_friendly                True\n",
              "delivery                    True\n",
              "dtype: bool"
            ]
          },
          "metadata": {
            "tags": []
          },
          "execution_count": 37
        }
      ]
    },
    {
      "cell_type": "markdown",
      "metadata": {
        "id": "bO4Onl4f1flj"
      },
      "source": [
        "## Method 2.1 (replace with unknown value) \n",
        "* ใส่ค่าที่คิดว่าคนไม่น่ากรอกสิ่งเหล่านี้ลงไป เพื่อไม่ให้มี missing แต่ไม่ทำให้ค่าทางสถิติของข้อมูลเปลี่ยนไป"
      ]
    },
    {
      "cell_type": "markdown",
      "metadata": {
        "id": "9xGl7mB_1-X5"
      },
      "source": [
        "##Method 2.2 (replace with mean)"
      ]
    },
    {
      "cell_type": "markdown",
      "metadata": {
        "id": "9oqYO2CE1uUj"
      },
      "source": [
        "## Method 3 (replace with mean)"
      ]
    },
    {
      "cell_type": "code",
      "metadata": {
        "id": "yo82O7Ol0MoP",
        "outputId": "4e25f690-2d20-47cb-cd4a-078961a52db8",
        "colab": {
          "base_uri": "https://localhost:8080/",
          "height": 830
        }
      },
      "source": [
        "new_table = w_restaurant_df[['name','city_name','avg_price']]\n",
        "new_table"
      ],
      "execution_count": 38,
      "outputs": [
        {
          "output_type": "execute_result",
          "data": {
            "text/html": [
              "<div>\n",
              "<style scoped>\n",
              "    .dataframe tbody tr th:only-of-type {\n",
              "        vertical-align: middle;\n",
              "    }\n",
              "\n",
              "    .dataframe tbody tr th {\n",
              "        vertical-align: top;\n",
              "    }\n",
              "\n",
              "    .dataframe thead th {\n",
              "        text-align: right;\n",
              "    }\n",
              "</style>\n",
              "<table border=\"1\" class=\"dataframe\">\n",
              "  <thead>\n",
              "    <tr style=\"text-align: right;\">\n",
              "      <th></th>\n",
              "      <th>name</th>\n",
              "      <th>city_name</th>\n",
              "      <th>avg_price</th>\n",
              "    </tr>\n",
              "  </thead>\n",
              "  <tbody>\n",
              "    <tr>\n",
              "      <th>0</th>\n",
              "      <td>นครินทร์ทันตกรรม</td>\n",
              "      <td>Samut Songkhram</td>\n",
              "      <td>NaN</td>\n",
              "    </tr>\n",
              "    <tr>\n",
              "      <th>1</th>\n",
              "      <td>Corner House</td>\n",
              "      <td>Bangkok Metropolitan Region</td>\n",
              "      <td>NaN</td>\n",
              "    </tr>\n",
              "    <tr>\n",
              "      <th>2</th>\n",
              "      <td>วัดโลกยสุธาราม</td>\n",
              "      <td>Phra Nakhon Si Ayutthaya</td>\n",
              "      <td>NaN</td>\n",
              "    </tr>\n",
              "    <tr>\n",
              "      <th>3</th>\n",
              "      <td>นันท์คาราโอเกะ</td>\n",
              "      <td>Bangkok Metropolitan Region</td>\n",
              "      <td>NaN</td>\n",
              "    </tr>\n",
              "    <tr>\n",
              "      <th>4</th>\n",
              "      <td>Buono Caffe</td>\n",
              "      <td>Bangkok Metropolitan Region</td>\n",
              "      <td>NaN</td>\n",
              "    </tr>\n",
              "    <tr>\n",
              "      <th>...</th>\n",
              "      <td>...</td>\n",
              "      <td>...</td>\n",
              "      <td>...</td>\n",
              "    </tr>\n",
              "    <tr>\n",
              "      <th>246842</th>\n",
              "      <td>Sushi Tama</td>\n",
              "      <td>Bangkok Metropolitan Region</td>\n",
              "      <td>NaN</td>\n",
              "    </tr>\n",
              "    <tr>\n",
              "      <th>246843</th>\n",
              "      <td>สะบายดี คาราโอเกะ</td>\n",
              "      <td>Bangkok Metropolitan Region</td>\n",
              "      <td>NaN</td>\n",
              "    </tr>\n",
              "    <tr>\n",
              "      <th>246844</th>\n",
              "      <td>สเต็กแม่&amp;กาแฟลูก</td>\n",
              "      <td>Bangkok Metropolitan Region</td>\n",
              "      <td>NaN</td>\n",
              "    </tr>\n",
              "    <tr>\n",
              "      <th>246845</th>\n",
              "      <td>Mom Made</td>\n",
              "      <td>Nakhon Si Thammarat</td>\n",
              "      <td>NaN</td>\n",
              "    </tr>\n",
              "    <tr>\n",
              "      <th>246846</th>\n",
              "      <td>ก๋วยเตี๋ยวหมูน้ำตก ก๋วยเตี๋ยวเรือทอง</td>\n",
              "      <td>Suphan Buri</td>\n",
              "      <td>NaN</td>\n",
              "    </tr>\n",
              "  </tbody>\n",
              "</table>\n",
              "<p>246847 rows × 3 columns</p>\n",
              "</div>"
            ],
            "text/plain": [
              "                                        name  ... avg_price\n",
              "0                           นครินทร์ทันตกรรม  ...       NaN\n",
              "1                               Corner House  ...       NaN\n",
              "2                             วัดโลกยสุธาราม  ...       NaN\n",
              "3                             นันท์คาราโอเกะ  ...       NaN\n",
              "4                                Buono Caffe  ...       NaN\n",
              "...                                      ...  ...       ...\n",
              "246842                            Sushi Tama  ...       NaN\n",
              "246843                     สะบายดี คาราโอเกะ  ...       NaN\n",
              "246844                      สเต็กแม่&กาแฟลูก  ...       NaN\n",
              "246845                              Mom Made  ...       NaN\n",
              "246846  ก๋วยเตี๋ยวหมูน้ำตก ก๋วยเตี๋ยวเรือทอง  ...       NaN\n",
              "\n",
              "[246847 rows x 3 columns]"
            ]
          },
          "metadata": {
            "tags": []
          },
          "execution_count": 38
        }
      ]
    },
    {
      "cell_type": "markdown",
      "metadata": {
        "id": "0XMIhzq03W2u"
      },
      "source": [
        "#[PD] Select data"
      ]
    },
    {
      "cell_type": "code",
      "metadata": {
        "id": "fuq5cIAi2jeK",
        "outputId": "6248faa5-f7fa-449b-9fae-1bfe6d13becb",
        "colab": {
          "base_uri": "https://localhost:8080/",
          "height": 241
        }
      },
      "source": [
        "selected_list = new_table['city_name']=='Bangkok Metropolitan Region'\n",
        "selected_list "
      ],
      "execution_count": 39,
      "outputs": [
        {
          "output_type": "execute_result",
          "data": {
            "text/plain": [
              "0         False\n",
              "1          True\n",
              "2         False\n",
              "3          True\n",
              "4          True\n",
              "          ...  \n",
              "246842     True\n",
              "246843     True\n",
              "246844     True\n",
              "246845    False\n",
              "246846    False\n",
              "Name: city_name, Length: 246847, dtype: bool"
            ]
          },
          "metadata": {
            "tags": []
          },
          "execution_count": 39
        }
      ]
    },
    {
      "cell_type": "code",
      "metadata": {
        "id": "47Ue64wd36LZ",
        "outputId": "9e7905fa-35e7-40e6-f159-a596aabf4c6d",
        "colab": {
          "base_uri": "https://localhost:8080/",
          "height": 394
        }
      },
      "source": [
        "new_table[selected_list].head()"
      ],
      "execution_count": 40,
      "outputs": [
        {
          "output_type": "execute_result",
          "data": {
            "text/html": [
              "<div>\n",
              "<style scoped>\n",
              "    .dataframe tbody tr th:only-of-type {\n",
              "        vertical-align: middle;\n",
              "    }\n",
              "\n",
              "    .dataframe tbody tr th {\n",
              "        vertical-align: top;\n",
              "    }\n",
              "\n",
              "    .dataframe thead th {\n",
              "        text-align: right;\n",
              "    }\n",
              "</style>\n",
              "<table border=\"1\" class=\"dataframe\">\n",
              "  <thead>\n",
              "    <tr style=\"text-align: right;\">\n",
              "      <th></th>\n",
              "      <th>name</th>\n",
              "      <th>city_name</th>\n",
              "      <th>avg_price</th>\n",
              "    </tr>\n",
              "  </thead>\n",
              "  <tbody>\n",
              "    <tr>\n",
              "      <th>1</th>\n",
              "      <td>Corner House</td>\n",
              "      <td>Bangkok Metropolitan Region</td>\n",
              "      <td>NaN</td>\n",
              "    </tr>\n",
              "    <tr>\n",
              "      <th>3</th>\n",
              "      <td>นันท์คาราโอเกะ</td>\n",
              "      <td>Bangkok Metropolitan Region</td>\n",
              "      <td>NaN</td>\n",
              "    </tr>\n",
              "    <tr>\n",
              "      <th>4</th>\n",
              "      <td>Buono Caffe</td>\n",
              "      <td>Bangkok Metropolitan Region</td>\n",
              "      <td>NaN</td>\n",
              "    </tr>\n",
              "    <tr>\n",
              "      <th>7</th>\n",
              "      <td>Sazanami</td>\n",
              "      <td>Bangkok Metropolitan Region</td>\n",
              "      <td>NaN</td>\n",
              "    </tr>\n",
              "    <tr>\n",
              "      <th>10</th>\n",
              "      <td>Rotee Me Chabu</td>\n",
              "      <td>Bangkok Metropolitan Region</td>\n",
              "      <td>NaN</td>\n",
              "    </tr>\n",
              "  </tbody>\n",
              "</table>\n",
              "</div>"
            ],
            "text/plain": [
              "              name                    city_name  avg_price\n",
              "1     Corner House  Bangkok Metropolitan Region        NaN\n",
              "3   นันท์คาราโอเกะ  Bangkok Metropolitan Region        NaN\n",
              "4      Buono Caffe  Bangkok Metropolitan Region        NaN\n",
              "7         Sazanami  Bangkok Metropolitan Region        NaN\n",
              "10  Rotee Me Chabu  Bangkok Metropolitan Region        NaN"
            ]
          },
          "metadata": {
            "tags": []
          },
          "execution_count": 40
        }
      ]
    },
    {
      "cell_type": "markdown",
      "metadata": {
        "id": "ZjmHd7ICKA3p"
      },
      "source": [
        "หาราคาเฉลี่ยของร้านในจังหวัดกรุงเทพ"
      ]
    },
    {
      "cell_type": "code",
      "metadata": {
        "id": "r7hjnArp4B49",
        "outputId": "c3b88c1e-823b-47df-c620-f207089fd774",
        "colab": {
          "base_uri": "https://localhost:8080/",
          "height": 54
        }
      },
      "source": [
        "new_table[new_table['city_name']=='Bangkok Metropolitan Region'].dropna()['avg_price'].mean()"
      ],
      "execution_count": 41,
      "outputs": [
        {
          "output_type": "execute_result",
          "data": {
            "text/plain": [
              "392.5854715094968"
            ]
          },
          "metadata": {
            "tags": []
          },
          "execution_count": 41
        }
      ]
    },
    {
      "cell_type": "markdown",
      "metadata": {
        "id": "a3e7A8cR51xT"
      },
      "source": [
        "1.สร้างตารางใหม่ที่เลือกมาเฉพาะใน กทม."
      ]
    },
    {
      "cell_type": "code",
      "metadata": {
        "id": "WjytRrumKlpP",
        "outputId": "6e01c205-14fb-4e7f-fd9e-7ff5ca6abe80",
        "colab": {
          "base_uri": "https://localhost:8080/",
          "height": 394
        }
      },
      "source": [
        "bkk_table = new_table[new_table['city_name']=='Bangkok Metropolitan Region']\n",
        "bkk_table.head()"
      ],
      "execution_count": 42,
      "outputs": [
        {
          "output_type": "execute_result",
          "data": {
            "text/html": [
              "<div>\n",
              "<style scoped>\n",
              "    .dataframe tbody tr th:only-of-type {\n",
              "        vertical-align: middle;\n",
              "    }\n",
              "\n",
              "    .dataframe tbody tr th {\n",
              "        vertical-align: top;\n",
              "    }\n",
              "\n",
              "    .dataframe thead th {\n",
              "        text-align: right;\n",
              "    }\n",
              "</style>\n",
              "<table border=\"1\" class=\"dataframe\">\n",
              "  <thead>\n",
              "    <tr style=\"text-align: right;\">\n",
              "      <th></th>\n",
              "      <th>name</th>\n",
              "      <th>city_name</th>\n",
              "      <th>avg_price</th>\n",
              "    </tr>\n",
              "  </thead>\n",
              "  <tbody>\n",
              "    <tr>\n",
              "      <th>1</th>\n",
              "      <td>Corner House</td>\n",
              "      <td>Bangkok Metropolitan Region</td>\n",
              "      <td>NaN</td>\n",
              "    </tr>\n",
              "    <tr>\n",
              "      <th>3</th>\n",
              "      <td>นันท์คาราโอเกะ</td>\n",
              "      <td>Bangkok Metropolitan Region</td>\n",
              "      <td>NaN</td>\n",
              "    </tr>\n",
              "    <tr>\n",
              "      <th>4</th>\n",
              "      <td>Buono Caffe</td>\n",
              "      <td>Bangkok Metropolitan Region</td>\n",
              "      <td>NaN</td>\n",
              "    </tr>\n",
              "    <tr>\n",
              "      <th>7</th>\n",
              "      <td>Sazanami</td>\n",
              "      <td>Bangkok Metropolitan Region</td>\n",
              "      <td>NaN</td>\n",
              "    </tr>\n",
              "    <tr>\n",
              "      <th>10</th>\n",
              "      <td>Rotee Me Chabu</td>\n",
              "      <td>Bangkok Metropolitan Region</td>\n",
              "      <td>NaN</td>\n",
              "    </tr>\n",
              "  </tbody>\n",
              "</table>\n",
              "</div>"
            ],
            "text/plain": [
              "              name                    city_name  avg_price\n",
              "1     Corner House  Bangkok Metropolitan Region        NaN\n",
              "3   นันท์คาราโอเกะ  Bangkok Metropolitan Region        NaN\n",
              "4      Buono Caffe  Bangkok Metropolitan Region        NaN\n",
              "7         Sazanami  Bangkok Metropolitan Region        NaN\n",
              "10  Rotee Me Chabu  Bangkok Metropolitan Region        NaN"
            ]
          },
          "metadata": {
            "tags": []
          },
          "execution_count": 42
        }
      ]
    },
    {
      "cell_type": "markdown",
      "metadata": {
        "id": "uovFWngKKK3Q"
      },
      "source": [
        "\n",
        "ลบ missing"
      ]
    },
    {
      "cell_type": "code",
      "metadata": {
        "id": "Tq6LtvyTLSND",
        "outputId": "fdd49a3a-4547-4a5e-bfbb-cec5e820ca9c",
        "colab": {
          "base_uri": "https://localhost:8080/",
          "height": 411
        }
      },
      "source": [
        "bkk_table_dp = bkk_table.dropna()\n",
        "bkk_table_dp.head()"
      ],
      "execution_count": 43,
      "outputs": [
        {
          "output_type": "execute_result",
          "data": {
            "text/html": [
              "<div>\n",
              "<style scoped>\n",
              "    .dataframe tbody tr th:only-of-type {\n",
              "        vertical-align: middle;\n",
              "    }\n",
              "\n",
              "    .dataframe tbody tr th {\n",
              "        vertical-align: top;\n",
              "    }\n",
              "\n",
              "    .dataframe thead th {\n",
              "        text-align: right;\n",
              "    }\n",
              "</style>\n",
              "<table border=\"1\" class=\"dataframe\">\n",
              "  <thead>\n",
              "    <tr style=\"text-align: right;\">\n",
              "      <th></th>\n",
              "      <th>name</th>\n",
              "      <th>city_name</th>\n",
              "      <th>avg_price</th>\n",
              "    </tr>\n",
              "  </thead>\n",
              "  <tbody>\n",
              "    <tr>\n",
              "      <th>67</th>\n",
              "      <td>เล็กกุ้งเผา</td>\n",
              "      <td>Bangkok Metropolitan Region</td>\n",
              "      <td>375.0</td>\n",
              "    </tr>\n",
              "    <tr>\n",
              "      <th>134</th>\n",
              "      <td>Cafe Cha</td>\n",
              "      <td>Bangkok Metropolitan Region</td>\n",
              "      <td>175.0</td>\n",
              "    </tr>\n",
              "    <tr>\n",
              "      <th>247</th>\n",
              "      <td>Masterpiece clinic</td>\n",
              "      <td>Bangkok Metropolitan Region</td>\n",
              "      <td>1500.0</td>\n",
              "    </tr>\n",
              "    <tr>\n",
              "      <th>319</th>\n",
              "      <td>Chaba Nails &amp; Eyelashes Pro</td>\n",
              "      <td>Bangkok Metropolitan Region</td>\n",
              "      <td>375.0</td>\n",
              "    </tr>\n",
              "    <tr>\n",
              "      <th>382</th>\n",
              "      <td>Panlee Bakery</td>\n",
              "      <td>Bangkok Metropolitan Region</td>\n",
              "      <td>175.0</td>\n",
              "    </tr>\n",
              "  </tbody>\n",
              "</table>\n",
              "</div>"
            ],
            "text/plain": [
              "                            name                    city_name  avg_price\n",
              "67                   เล็กกุ้งเผา  Bangkok Metropolitan Region      375.0\n",
              "134                     Cafe Cha  Bangkok Metropolitan Region      175.0\n",
              "247           Masterpiece clinic  Bangkok Metropolitan Region     1500.0\n",
              "319  Chaba Nails & Eyelashes Pro  Bangkok Metropolitan Region      375.0\n",
              "382                Panlee Bakery  Bangkok Metropolitan Region      175.0"
            ]
          },
          "metadata": {
            "tags": []
          },
          "execution_count": 43
        }
      ]
    },
    {
      "cell_type": "markdown",
      "metadata": {
        "id": "Mmo65NfgLb5Y"
      },
      "source": [
        " เลือกเฉพาะ column 'avg_price'"
      ]
    },
    {
      "cell_type": "code",
      "metadata": {
        "id": "0vNrHxqVLY-v",
        "outputId": "c2edd56e-7c88-48f4-f227-e4c96029d5ee",
        "colab": {
          "base_uri": "https://localhost:8080/",
          "height": 241
        }
      },
      "source": [
        "bkk_table_dp_avg_price = bkk_table_dp['avg_price']\n",
        "bkk_table_dp_avg_price"
      ],
      "execution_count": 44,
      "outputs": [
        {
          "output_type": "execute_result",
          "data": {
            "text/plain": [
              "67         375.0\n",
              "134        175.0\n",
              "247       1500.0\n",
              "319        375.0\n",
              "382        175.0\n",
              "           ...  \n",
              "246458      50.0\n",
              "246472    1500.0\n",
              "246508     375.0\n",
              "246666     375.0\n",
              "246721     375.0\n",
              "Name: avg_price, Length: 3001, dtype: float64"
            ]
          },
          "metadata": {
            "tags": []
          },
          "execution_count": 44
        }
      ]
    },
    {
      "cell_type": "markdown",
      "metadata": {
        "id": "GNMzapUWLh9B"
      },
      "source": [
        "หาค่าเฉลี่ย"
      ]
    },
    {
      "cell_type": "code",
      "metadata": {
        "id": "-pOFEUekLmSY",
        "outputId": "bae3e991-3c1c-4359-8619-8b798e0a263b",
        "colab": {
          "base_uri": "https://localhost:8080/",
          "height": 54
        }
      },
      "source": [
        "bkk_table_dp_avg_price.mean()"
      ],
      "execution_count": 45,
      "outputs": [
        {
          "output_type": "execute_result",
          "data": {
            "text/plain": [
              "392.5854715094968"
            ]
          },
          "metadata": {
            "tags": []
          },
          "execution_count": 45
        }
      ]
    },
    {
      "cell_type": "code",
      "metadata": {
        "id": "bvg0dK555w0U"
      },
      "source": [
        "phuket_table = new_table['city_name']=='Phuket'"
      ],
      "execution_count": 46,
      "outputs": []
    },
    {
      "cell_type": "markdown",
      "metadata": {
        "id": "gB0qA5LLLrfn"
      },
      "source": [
        "แก้ missing method 3 เติมค่าที่เหมาะสมตามกลุ่มของมัน"
      ]
    },
    {
      "cell_type": "code",
      "metadata": {
        "id": "hyMl_egGL13H",
        "outputId": "1f7c0858-6729-4edf-92c3-7ff2a0f61119",
        "colab": {
          "base_uri": "https://localhost:8080/",
          "height": 496
        }
      },
      "source": [
        "\n",
        "bkk_table[['avg_price']] = bkk_table[['avg_price']].fillna(bkk_table_dp_avg_price.mean())\n",
        "bkk_table.head()"
      ],
      "execution_count": 47,
      "outputs": [
        {
          "output_type": "stream",
          "text": [
            "/usr/local/lib/python3.6/dist-packages/pandas/core/frame.py:2963: SettingWithCopyWarning: \n",
            "A value is trying to be set on a copy of a slice from a DataFrame.\n",
            "Try using .loc[row_indexer,col_indexer] = value instead\n",
            "\n",
            "See the caveats in the documentation: https://pandas.pydata.org/pandas-docs/stable/user_guide/indexing.html#returning-a-view-versus-a-copy\n",
            "  self[k1] = value[k2]\n"
          ],
          "name": "stderr"
        },
        {
          "output_type": "execute_result",
          "data": {
            "text/html": [
              "<div>\n",
              "<style scoped>\n",
              "    .dataframe tbody tr th:only-of-type {\n",
              "        vertical-align: middle;\n",
              "    }\n",
              "\n",
              "    .dataframe tbody tr th {\n",
              "        vertical-align: top;\n",
              "    }\n",
              "\n",
              "    .dataframe thead th {\n",
              "        text-align: right;\n",
              "    }\n",
              "</style>\n",
              "<table border=\"1\" class=\"dataframe\">\n",
              "  <thead>\n",
              "    <tr style=\"text-align: right;\">\n",
              "      <th></th>\n",
              "      <th>name</th>\n",
              "      <th>city_name</th>\n",
              "      <th>avg_price</th>\n",
              "    </tr>\n",
              "  </thead>\n",
              "  <tbody>\n",
              "    <tr>\n",
              "      <th>1</th>\n",
              "      <td>Corner House</td>\n",
              "      <td>Bangkok Metropolitan Region</td>\n",
              "      <td>392.585472</td>\n",
              "    </tr>\n",
              "    <tr>\n",
              "      <th>3</th>\n",
              "      <td>นันท์คาราโอเกะ</td>\n",
              "      <td>Bangkok Metropolitan Region</td>\n",
              "      <td>392.585472</td>\n",
              "    </tr>\n",
              "    <tr>\n",
              "      <th>4</th>\n",
              "      <td>Buono Caffe</td>\n",
              "      <td>Bangkok Metropolitan Region</td>\n",
              "      <td>392.585472</td>\n",
              "    </tr>\n",
              "    <tr>\n",
              "      <th>7</th>\n",
              "      <td>Sazanami</td>\n",
              "      <td>Bangkok Metropolitan Region</td>\n",
              "      <td>392.585472</td>\n",
              "    </tr>\n",
              "    <tr>\n",
              "      <th>10</th>\n",
              "      <td>Rotee Me Chabu</td>\n",
              "      <td>Bangkok Metropolitan Region</td>\n",
              "      <td>392.585472</td>\n",
              "    </tr>\n",
              "  </tbody>\n",
              "</table>\n",
              "</div>"
            ],
            "text/plain": [
              "              name                    city_name   avg_price\n",
              "1     Corner House  Bangkok Metropolitan Region  392.585472\n",
              "3   นันท์คาราโอเกะ  Bangkok Metropolitan Region  392.585472\n",
              "4      Buono Caffe  Bangkok Metropolitan Region  392.585472\n",
              "7         Sazanami  Bangkok Metropolitan Region  392.585472\n",
              "10  Rotee Me Chabu  Bangkok Metropolitan Region  392.585472"
            ]
          },
          "metadata": {
            "tags": []
          },
          "execution_count": 47
        }
      ]
    },
    {
      "cell_type": "markdown",
      "metadata": {
        "id": "tzaCiI9UL5_Y"
      },
      "source": [
        "#Ex 9 หาราคาเฉลี่ยของร้านในจังหวัดภูเก็ตและเติมแทนค่า missing ของจังหวัดภูเก็ต"
      ]
    },
    {
      "cell_type": "code",
      "metadata": {
        "id": "Lra8pdF6L9s0",
        "outputId": "78a3fe36-775f-4829-8dc7-49b79de4f424",
        "colab": {
          "base_uri": "https://localhost:8080/",
          "height": 513
        }
      },
      "source": [
        "pk_table = new_table[new_table['city_name']=='Phuket']\n",
        "pk_table[['avg_price']] = pk_table[['avg_price']].fillna(new_table[new_table['city_name']=='Phuket'].dropna()['avg_price'].mean())\n",
        "pk_table.head()"
      ],
      "execution_count": 48,
      "outputs": [
        {
          "output_type": "stream",
          "text": [
            "/usr/local/lib/python3.6/dist-packages/pandas/core/frame.py:2963: SettingWithCopyWarning: \n",
            "A value is trying to be set on a copy of a slice from a DataFrame.\n",
            "Try using .loc[row_indexer,col_indexer] = value instead\n",
            "\n",
            "See the caveats in the documentation: https://pandas.pydata.org/pandas-docs/stable/user_guide/indexing.html#returning-a-view-versus-a-copy\n",
            "  self[k1] = value[k2]\n"
          ],
          "name": "stderr"
        },
        {
          "output_type": "execute_result",
          "data": {
            "text/html": [
              "<div>\n",
              "<style scoped>\n",
              "    .dataframe tbody tr th:only-of-type {\n",
              "        vertical-align: middle;\n",
              "    }\n",
              "\n",
              "    .dataframe tbody tr th {\n",
              "        vertical-align: top;\n",
              "    }\n",
              "\n",
              "    .dataframe thead th {\n",
              "        text-align: right;\n",
              "    }\n",
              "</style>\n",
              "<table border=\"1\" class=\"dataframe\">\n",
              "  <thead>\n",
              "    <tr style=\"text-align: right;\">\n",
              "      <th></th>\n",
              "      <th>name</th>\n",
              "      <th>city_name</th>\n",
              "      <th>avg_price</th>\n",
              "    </tr>\n",
              "  </thead>\n",
              "  <tbody>\n",
              "    <tr>\n",
              "      <th>53</th>\n",
              "      <td>เดอะฟอร์เต้ไอซ์แลนด์</td>\n",
              "      <td>Phuket</td>\n",
              "      <td>181.481481</td>\n",
              "    </tr>\n",
              "    <tr>\n",
              "      <th>74</th>\n",
              "      <td>ร้านอาหารในยางปาร์ค</td>\n",
              "      <td>Phuket</td>\n",
              "      <td>181.481481</td>\n",
              "    </tr>\n",
              "    <tr>\n",
              "      <th>91</th>\n",
              "      <td>ใต้ต้นมะม่วง</td>\n",
              "      <td>Phuket</td>\n",
              "      <td>50.000000</td>\n",
              "    </tr>\n",
              "    <tr>\n",
              "      <th>96</th>\n",
              "      <td>อาหารเกาหลีชินจอง</td>\n",
              "      <td>Phuket</td>\n",
              "      <td>181.481481</td>\n",
              "    </tr>\n",
              "    <tr>\n",
              "      <th>190</th>\n",
              "      <td>ไชน่าอินน์</td>\n",
              "      <td>Phuket</td>\n",
              "      <td>181.481481</td>\n",
              "    </tr>\n",
              "  </tbody>\n",
              "</table>\n",
              "</div>"
            ],
            "text/plain": [
              "                     name city_name   avg_price\n",
              "53   เดอะฟอร์เต้ไอซ์แลนด์    Phuket  181.481481\n",
              "74    ร้านอาหารในยางปาร์ค    Phuket  181.481481\n",
              "91           ใต้ต้นมะม่วง    Phuket   50.000000\n",
              "96      อาหารเกาหลีชินจอง    Phuket  181.481481\n",
              "190            ไชน่าอินน์    Phuket  181.481481"
            ]
          },
          "metadata": {
            "tags": []
          },
          "execution_count": 48
        }
      ]
    },
    {
      "cell_type": "code",
      "metadata": {
        "id": "EaOJy6e-75Qz",
        "outputId": "6db958c1-8a1c-4c9f-f12d-f52565103553",
        "colab": {
          "base_uri": "https://localhost:8080/",
          "height": 530
        }
      },
      "source": [
        "ch_table = new_table[new_table['city_name']=='Chon Buri']\n",
        "ch_table[['avg_price']] = ch_table[['avg_price']].fillna(new_table[new_table['city_name']=='Chon Buri'].dropna()['avg_price'].mean())\n",
        "ch_table.head()"
      ],
      "execution_count": 49,
      "outputs": [
        {
          "output_type": "stream",
          "text": [
            "/usr/local/lib/python3.6/dist-packages/pandas/core/frame.py:2963: SettingWithCopyWarning: \n",
            "A value is trying to be set on a copy of a slice from a DataFrame.\n",
            "Try using .loc[row_indexer,col_indexer] = value instead\n",
            "\n",
            "See the caveats in the documentation: https://pandas.pydata.org/pandas-docs/stable/user_guide/indexing.html#returning-a-view-versus-a-copy\n",
            "  self[k1] = value[k2]\n"
          ],
          "name": "stderr"
        },
        {
          "output_type": "execute_result",
          "data": {
            "text/html": [
              "<div>\n",
              "<style scoped>\n",
              "    .dataframe tbody tr th:only-of-type {\n",
              "        vertical-align: middle;\n",
              "    }\n",
              "\n",
              "    .dataframe tbody tr th {\n",
              "        vertical-align: top;\n",
              "    }\n",
              "\n",
              "    .dataframe thead th {\n",
              "        text-align: right;\n",
              "    }\n",
              "</style>\n",
              "<table border=\"1\" class=\"dataframe\">\n",
              "  <thead>\n",
              "    <tr style=\"text-align: right;\">\n",
              "      <th></th>\n",
              "      <th>name</th>\n",
              "      <th>city_name</th>\n",
              "      <th>avg_price</th>\n",
              "    </tr>\n",
              "  </thead>\n",
              "  <tbody>\n",
              "    <tr>\n",
              "      <th>5</th>\n",
              "      <td>บ้านมุมสบาย</td>\n",
              "      <td>Chon Buri</td>\n",
              "      <td>283.547619</td>\n",
              "    </tr>\n",
              "    <tr>\n",
              "      <th>15</th>\n",
              "      <td>The Rabbit หมูกระทะนานาชาติ</td>\n",
              "      <td>Chon Buri</td>\n",
              "      <td>283.547619</td>\n",
              "    </tr>\n",
              "    <tr>\n",
              "      <th>42</th>\n",
              "      <td>ก๋วยเตี๋ยวเป็ด ณ.พัทยา</td>\n",
              "      <td>Chon Buri</td>\n",
              "      <td>283.547619</td>\n",
              "    </tr>\n",
              "    <tr>\n",
              "      <th>45</th>\n",
              "      <td>ซันเซ็ทพาร์ครีสอร์ตแอนด์สปา</td>\n",
              "      <td>Chon Buri</td>\n",
              "      <td>283.547619</td>\n",
              "    </tr>\n",
              "    <tr>\n",
              "      <th>68</th>\n",
              "      <td>Oldies Bar &amp; Bistro</td>\n",
              "      <td>Chon Buri</td>\n",
              "      <td>283.547619</td>\n",
              "    </tr>\n",
              "  </tbody>\n",
              "</table>\n",
              "</div>"
            ],
            "text/plain": [
              "                           name  city_name   avg_price\n",
              "5                   บ้านมุมสบาย  Chon Buri  283.547619\n",
              "15  The Rabbit หมูกระทะนานาชาติ  Chon Buri  283.547619\n",
              "42       ก๋วยเตี๋ยวเป็ด ณ.พัทยา  Chon Buri  283.547619\n",
              "45  ซันเซ็ทพาร์ครีสอร์ตแอนด์สปา  Chon Buri  283.547619\n",
              "68          Oldies Bar & Bistro  Chon Buri  283.547619"
            ]
          },
          "metadata": {
            "tags": []
          },
          "execution_count": 49
        }
      ]
    },
    {
      "cell_type": "markdown",
      "metadata": {
        "id": "mFGWpCnDMPI3"
      },
      "source": [
        "[PD] ต่อตารางในแนวแกน Y (เพิ่มจำนวน data) pd.concat"
      ]
    },
    {
      "cell_type": "code",
      "metadata": {
        "id": "Ttiicvc9MSib",
        "outputId": "dfe58f92-87e2-45df-cbd1-97dc7e311c30",
        "colab": {
          "base_uri": "https://localhost:8080/",
          "height": 105
        }
      },
      "source": [
        "pandas.concat([bkk_table,pk_table,ch_table]).isnull().any()"
      ],
      "execution_count": 50,
      "outputs": [
        {
          "output_type": "execute_result",
          "data": {
            "text/plain": [
              "name         False\n",
              "city_name    False\n",
              "avg_price    False\n",
              "dtype: bool"
            ]
          },
          "metadata": {
            "tags": []
          },
          "execution_count": 50
        }
      ]
    },
    {
      "cell_type": "markdown",
      "metadata": {
        "id": "xiBBUOhhDm45"
      },
      "source": [
        "#Looping(concat)"
      ]
    },
    {
      "cell_type": "markdown",
      "metadata": {
        "id": "UnL3VuWiDDLl"
      },
      "source": [
        "###step 1 ดึงจังหวัดทั้งหมด"
      ]
    },
    {
      "cell_type": "code",
      "metadata": {
        "id": "SE0x6e36DFty",
        "outputId": "2a4515c8-d96a-4d3a-86bf-fccb7911691e",
        "colab": {
          "base_uri": "https://localhost:8080/",
          "height": 1000
        }
      },
      "source": [
        "all_cities = set(new_table['city_name'])\n",
        "print(len(all_cities))\n",
        "all_cities"
      ],
      "execution_count": 51,
      "outputs": [
        {
          "output_type": "stream",
          "text": [
            "479\n"
          ],
          "name": "stdout"
        },
        {
          "output_type": "execute_result",
          "data": {
            "text/plain": [
              "{'Abu Dhabi',\n",
              " 'Aichi-ken',\n",
              " 'Akershus',\n",
              " 'Akita-ken',\n",
              " 'Al Farwaniyah Governorate',\n",
              " 'Alabama',\n",
              " 'Alaska',\n",
              " 'Alberta',\n",
              " 'Amnat Charoen',\n",
              " 'Andalucía',\n",
              " 'Ang Thong',\n",
              " 'Aomori-ken',\n",
              " 'Appenzell Ausserrhoden',\n",
              " 'Appenzell Innerrhoden',\n",
              " 'Aragón',\n",
              " 'Argyll and Bute',\n",
              " 'Arizona',\n",
              " 'Attica',\n",
              " 'Auckland',\n",
              " 'Australia',\n",
              " 'Auvergne-Rhône-Alpes',\n",
              " 'Aydın',\n",
              " 'Ba Ria - Vung Tau',\n",
              " 'Baden-Wurttemberg',\n",
              " 'Bago Region',\n",
              " 'Bahia',\n",
              " 'Bali',\n",
              " 'Balochistan',\n",
              " 'Bangkok Metropolitan Region',\n",
              " 'Banteay Meanchey Province',\n",
              " 'Banten',\n",
              " 'Basel-Stadt',\n",
              " 'Basilicata',\n",
              " 'Basrah',\n",
              " 'Battambang',\n",
              " 'Bay Of Plenty',\n",
              " 'Bayern',\n",
              " 'Berlin',\n",
              " 'Bern',\n",
              " 'Bihar',\n",
              " 'Binh Thuan',\n",
              " 'Binh Thuan province',\n",
              " 'Borno',\n",
              " 'Bratislava',\n",
              " 'Bremen',\n",
              " 'Bretagne',\n",
              " 'British Columbia',\n",
              " 'Brussels Hoofdstedelijk Gewest',\n",
              " 'Buckinghamshire',\n",
              " 'Budapest',\n",
              " 'Bueng Kan',\n",
              " 'Buri Ram',\n",
              " 'Busan',\n",
              " 'Buskerud',\n",
              " 'C2 MALL',\n",
              " 'CALABARZON',\n",
              " 'Cairo Governorate',\n",
              " 'California',\n",
              " 'Cambodia',\n",
              " 'Canterbury',\n",
              " 'Capital Governorate',\n",
              " 'Capital Region',\n",
              " 'Capital Region of Denmark',\n",
              " 'Castilla-La Mancha',\n",
              " 'Catalonia',\n",
              " 'Central Development Region',\n",
              " 'Central Visayas',\n",
              " 'Centre-Val de Loire',\n",
              " 'Chachoengsao',\n",
              " 'Chai Nat',\n",
              " 'Chaiyaphum',\n",
              " 'Champasak Province',\n",
              " 'Changhua County',\n",
              " 'Chanthaburi',\n",
              " 'Chiang Mai',\n",
              " 'Chiang Rai',\n",
              " 'Chiayi City',\n",
              " 'Chiayi County',\n",
              " 'Chiba-ken',\n",
              " 'China',\n",
              " 'Chon Buri',\n",
              " 'Chongqing Shi',\n",
              " 'Chumphon',\n",
              " 'Chungcheongnam-do',\n",
              " 'City of Zagreb',\n",
              " 'Colorado',\n",
              " 'Comunidad de Madrid',\n",
              " 'County Cork',\n",
              " 'County Dublin',\n",
              " 'County Galway',\n",
              " 'County Kerry',\n",
              " 'Cusco',\n",
              " 'Daegu',\n",
              " 'Daejeon',\n",
              " 'Daerah Brunei-Muara',\n",
              " 'Daerah Istimewa Yogyakarta',\n",
              " 'Dar es Salaam',\n",
              " 'Delhi',\n",
              " 'Denizli',\n",
              " 'Departamento de La Paz',\n",
              " 'Departamento de Potosí',\n",
              " 'District of Columbia',\n",
              " 'Dubai',\n",
              " 'Dubrovačko-neretvanska županija',\n",
              " 'Ehime-ken',\n",
              " 'England',\n",
              " 'Espoo',\n",
              " 'Federal',\n",
              " 'Finland',\n",
              " 'Finnmark',\n",
              " 'Florida',\n",
              " 'Fribourg',\n",
              " 'Fujian Sheng',\n",
              " 'Fukui-ken',\n",
              " 'Fukuoka-ken',\n",
              " 'Fukushima-ken',\n",
              " 'Gangwon-do',\n",
              " 'Gelderland',\n",
              " 'Geneva',\n",
              " 'George Town',\n",
              " 'Georgia',\n",
              " 'Gifu-ken',\n",
              " 'Gloucestershire',\n",
              " 'Gombe',\n",
              " 'Grand Est',\n",
              " 'Graubünden',\n",
              " 'Greater London',\n",
              " 'Greater Manchester',\n",
              " 'Guangdong Sheng',\n",
              " 'Guangxi Zhuangzuzizhiqu',\n",
              " 'Guinea',\n",
              " 'Gunma-ken',\n",
              " 'Gyeonggi-do',\n",
              " 'Gyeongsangbuk-do',\n",
              " 'Hainan Sheng',\n",
              " 'Hampshire',\n",
              " 'Harju maakond',\n",
              " 'Hauts-de-France',\n",
              " 'Hawaii',\n",
              " 'Hessen',\n",
              " 'Hiiraan',\n",
              " 'Hiroshima-ken',\n",
              " 'Hokkaido',\n",
              " 'Hordaland',\n",
              " 'Hsinchu City',\n",
              " 'Hsinchu County',\n",
              " 'Hua Hin',\n",
              " 'Hunan',\n",
              " 'Hyogo-ken',\n",
              " 'Hà Nội',\n",
              " 'Höfn í Hornafirði',\n",
              " 'Hồ Chí Minh',\n",
              " 'Ibaraki-ken',\n",
              " 'Iceland',\n",
              " 'Illinois',\n",
              " 'Incheon',\n",
              " 'India',\n",
              " 'Inner Mongolia',\n",
              " 'Ireland',\n",
              " 'Ishikawa-ken',\n",
              " 'Istanbul',\n",
              " 'Iwate-ken',\n",
              " 'Jakarta Capital Region',\n",
              " 'Jawa Barat',\n",
              " 'Jawa Timur',\n",
              " 'Jeju-do',\n",
              " 'Jeollabuk-do',\n",
              " 'Jharkhand',\n",
              " 'Jiangsu Sheng',\n",
              " 'Jiangxi Sheng',\n",
              " 'Jihočeský kraj',\n",
              " 'Johor',\n",
              " 'Județul Constanța',\n",
              " 'Kagoshima',\n",
              " 'Kalasin',\n",
              " 'Kamphaeng Phet',\n",
              " 'Kanagawa-ken',\n",
              " 'Kanchanaburi',\n",
              " 'Kaohsiung City',\n",
              " 'Karlovy Vary Region',\n",
              " 'Karnataka',\n",
              " 'Kayes',\n",
              " 'Kedah',\n",
              " 'Keelung City',\n",
              " 'Kelantan',\n",
              " 'Kepulauan Riau',\n",
              " 'Khammouane Province',\n",
              " 'Khartoum',\n",
              " 'Khon Kaen',\n",
              " 'Khánh Hoà',\n",
              " 'Kinshasa',\n",
              " 'Koh Kong Province',\n",
              " 'Kowloon',\n",
              " 'Krabi',\n",
              " 'Kumamoto-ken',\n",
              " 'Kyoto-fu',\n",
              " 'København',\n",
              " 'Lac',\n",
              " 'Lampang',\n",
              " 'Lamphun',\n",
              " 'Lancashire',\n",
              " 'Lao Cai',\n",
              " 'Lazio',\n",
              " \"Leningradskaya oblast'\",\n",
              " 'Liaoning',\n",
              " 'Liguria',\n",
              " 'Lima',\n",
              " 'Limerick',\n",
              " 'Lisboa',\n",
              " 'Lithuania',\n",
              " 'Ličko-senjska županija',\n",
              " 'Loei',\n",
              " 'Lombardia',\n",
              " 'Lopburi',\n",
              " 'Louisiana',\n",
              " 'Luang Prabang Province',\n",
              " 'Luxembourg',\n",
              " 'Luxor Governorate',\n",
              " 'Luzern',\n",
              " 'Lâm Đồng',\n",
              " 'Macau',\n",
              " 'Madrid',\n",
              " 'Magway Region',\n",
              " 'Maha Sarakham',\n",
              " 'Maharashtra',\n",
              " 'Malacca',\n",
              " 'Maldives',\n",
              " 'Mandalay Region',\n",
              " 'Marlborough',\n",
              " 'Maryland',\n",
              " 'Masovian Voivodeship',\n",
              " 'Massachusetts',\n",
              " 'Mayo',\n",
              " 'Metro Manila',\n",
              " 'Michigan',\n",
              " 'Mid-Western Development Region',\n",
              " 'Mie-ken',\n",
              " 'Minnesota',\n",
              " 'Miyagi-ken',\n",
              " 'Mon State',\n",
              " 'Moscow',\n",
              " \"Moskovskaya oblast'\",\n",
              " 'Mukdahan',\n",
              " 'Munxar',\n",
              " \"Murmanskaya oblast'\",\n",
              " 'Nagano-ken',\n",
              " 'Nagasaki-ken',\n",
              " 'Nakhon Nayok',\n",
              " 'Nakhon Phanom',\n",
              " 'Nakhon Ratchasima',\n",
              " 'Nakhon Sawan',\n",
              " 'Nakhon Si Thammarat',\n",
              " 'Nan',\n",
              " 'Nantou County',\n",
              " 'Nara-ken',\n",
              " 'Narathiwat',\n",
              " 'Naxos',\n",
              " 'Negeri Sembilan',\n",
              " 'Nevada',\n",
              " 'Nevsehir',\n",
              " 'New Hampshire',\n",
              " 'New Jersey',\n",
              " 'New South Wales',\n",
              " 'New Taipei City',\n",
              " 'New Territories',\n",
              " 'New York',\n",
              " 'New Zealand',\n",
              " 'Newfoundland and Labrador',\n",
              " 'Nghệ An',\n",
              " 'Niedersachsen',\n",
              " 'Niederösterreich',\n",
              " 'Niigata-ken',\n",
              " 'Nong Bua Lam Phu',\n",
              " 'Nong Khai',\n",
              " 'Noord-Holland',\n",
              " 'Nordrhein-Westfalen',\n",
              " 'Normandie',\n",
              " 'North Central Province',\n",
              " 'Northern Ireland',\n",
              " 'Northern Territory',\n",
              " 'Nouvelle-Aquitaine',\n",
              " \"Novosibirskaya oblast'\",\n",
              " 'Nusa Tenggara Barat',\n",
              " 'Oaxaca',\n",
              " 'Oberösterreich',\n",
              " 'Obwalden',\n",
              " 'Ohio',\n",
              " 'Okayama-ken',\n",
              " 'Okinawa-ken',\n",
              " 'Oklahoma',\n",
              " 'Ontario',\n",
              " 'Oregon',\n",
              " 'Oslo',\n",
              " 'Otago',\n",
              " 'Pahang',\n",
              " 'Pakistan',\n",
              " 'Palau',\n",
              " 'Pardubice Region',\n",
              " 'Pattani',\n",
              " 'Penang',\n",
              " 'Pennsylvania',\n",
              " 'Perak',\n",
              " 'Phang-nga',\n",
              " 'Phatthalung',\n",
              " 'Phayao',\n",
              " 'Phetchabun',\n",
              " 'Phetchaburi',\n",
              " 'Phichit',\n",
              " 'Phitsanulok',\n",
              " 'Phnom Penh',\n",
              " 'Phra Nakhon Si Ayutthaya',\n",
              " 'Phrae',\n",
              " 'Phuket',\n",
              " 'Piemonte',\n",
              " 'Plzeň Region',\n",
              " 'Porto',\n",
              " 'Postojna',\n",
              " 'Prachin Buri',\n",
              " 'Prachuap Khiri Khan',\n",
              " 'Prague',\n",
              " 'Preah Sihanouk',\n",
              " 'Primorskiy kray',\n",
              " 'Primorsko-goranska županija',\n",
              " \"Provence-Alpes-Côte d'Azur\",\n",
              " 'Pulau Pinang',\n",
              " 'Punjab',\n",
              " 'Qatar',\n",
              " 'Qinghai Sheng',\n",
              " 'Quebec',\n",
              " 'Queensland',\n",
              " 'Quảng Nam',\n",
              " 'Quảng Ninh',\n",
              " 'Ranong',\n",
              " 'Ratchaburi',\n",
              " 'Rayong',\n",
              " 'Region Zealand',\n",
              " 'Rheinland-Pfalz',\n",
              " 'Riau',\n",
              " 'Roi Et',\n",
              " 'Région de Kidal',\n",
              " 'Rīgas pilsēta',\n",
              " 'Sa Kaeo',\n",
              " 'Sabah',\n",
              " 'Sachsen-Anhalt',\n",
              " 'Saga-ken',\n",
              " 'Saint Petersburg',\n",
              " 'Sainyabuli Province',\n",
              " 'Saitama-ken',\n",
              " 'Sakon Nakhon',\n",
              " 'Salzburg',\n",
              " 'Samut Songkhram',\n",
              " 'Sankt Gallen',\n",
              " 'Saraburi',\n",
              " 'Satun',\n",
              " 'Savannakhet Province',\n",
              " 'Saxony',\n",
              " 'Schaffhausen',\n",
              " 'Scotland',\n",
              " 'Selangor',\n",
              " 'Seoul',\n",
              " 'Setúbal',\n",
              " 'Shaanxi Sheng',\n",
              " 'Shan',\n",
              " 'Shandong Sheng',\n",
              " 'Shanghai',\n",
              " 'Shanxi Sheng',\n",
              " 'Shiga-ken',\n",
              " 'Shizuoka-ken',\n",
              " 'Si Sa Ket',\n",
              " 'Sichuan Sheng',\n",
              " 'Siem Reap',\n",
              " 'Sing Buri',\n",
              " 'Singapore',\n",
              " 'Slough',\n",
              " 'South Carolina',\n",
              " 'Southern Islands',\n",
              " 'Southland',\n",
              " 'Splitsko-dalmatinska županija',\n",
              " 'Stavropolskiy kray',\n",
              " 'Stockholms län',\n",
              " 'Sukhothai',\n",
              " 'Sumatera Utara',\n",
              " 'Suphan Buri',\n",
              " 'Surat Thani',\n",
              " 'Surin',\n",
              " 'Svay Rieng',\n",
              " 'Taichung City',\n",
              " 'Tainan City',\n",
              " 'Taipei City',\n",
              " 'Tak',\n",
              " 'Tamil Nadu',\n",
              " 'Tanintharyi Region',\n",
              " 'Taoyuan City',\n",
              " 'Tasmania',\n",
              " 'Tehran',\n",
              " 'Telangana',\n",
              " 'Texas',\n",
              " 'Thailand',\n",
              " 'Thimphu',\n",
              " 'Thua Thien Hue',\n",
              " 'Tianjin',\n",
              " 'Ticino',\n",
              " 'Tirol',\n",
              " 'Tochigi-ken',\n",
              " 'Tokyo-to',\n",
              " 'Tottori-ken',\n",
              " 'Toyama-ken',\n",
              " 'Trabzon',\n",
              " 'Trang',\n",
              " 'Trat',\n",
              " 'Troms',\n",
              " 'Tuscany',\n",
              " 'Ubon Ratchathani',\n",
              " 'Udon Thani',\n",
              " 'Uri',\n",
              " 'Utah',\n",
              " 'Uthai Thani',\n",
              " 'Utrecht',\n",
              " 'Uttar Pradesh',\n",
              " 'Uttaradit',\n",
              " 'Vaduz',\n",
              " 'Valais',\n",
              " 'Valletta',\n",
              " 'Vantaa',\n",
              " 'Vaud',\n",
              " 'Veneto',\n",
              " 'Victoria',\n",
              " 'Vientiane Prefecture',\n",
              " 'Vientiane Province',\n",
              " 'Virginia',\n",
              " 'Vlaanderen',\n",
              " \"Vladimirskaya oblast'\",\n",
              " 'Vorarlberg',\n",
              " 'Waikato',\n",
              " 'Wakayama-ken',\n",
              " 'Wales',\n",
              " 'Wallonie',\n",
              " 'Washington',\n",
              " 'Waterford',\n",
              " 'West Bengal',\n",
              " 'West Midlands',\n",
              " 'West Sussex',\n",
              " 'Western Australia',\n",
              " 'Western Cape',\n",
              " 'Wien',\n",
              " 'Wilayah Persekutuan Putrajaya',\n",
              " 'Wisconsin',\n",
              " 'Województwo podkarpackie',\n",
              " 'Xinjiang Weiwuerzizhiqu',\n",
              " 'Xizang (Tibet)',\n",
              " 'Yala',\n",
              " 'Yamagata-ken',\n",
              " 'Yamaguchi-ken',\n",
              " 'Yamanashi-ken',\n",
              " 'Yangon',\n",
              " 'Yasothon',\n",
              " 'Yilan County',\n",
              " 'Yunlin County',\n",
              " 'Yunnan Sheng',\n",
              " 'Zhejiang',\n",
              " 'Zuid-Holland',\n",
              " 'Zurich',\n",
              " 'kujawsko-pomorskie',\n",
              " 'lubelskie',\n",
              " 'małopolskie',\n",
              " 'pomorskie',\n",
              " 'tỉnh Kiên Giang',\n",
              " 'wielkopolskie',\n",
              " 'Çanakkale',\n",
              " 'Île-de-France',\n",
              " 'Điện Biên',\n",
              " 'Đà Nẵng',\n",
              " 'İstanbul',\n",
              " 'İzmir',\n",
              " 'Ōita-ken',\n",
              " 'Ōsaka-fu',\n",
              " 'محافظة المحرق',\n",
              " 'สงขลา',\n",
              " 'เขาใหญ่'}"
            ]
          },
          "metadata": {
            "tags": []
          },
          "execution_count": 51
        }
      ]
    },
    {
      "cell_type": "markdown",
      "metadata": {
        "id": "pq0M326OD0Ia"
      },
      "source": [
        "###step 2 คำนวณ mean ของ column 'city_name' เพื่อเก็บไว้เติมใส่เมืองที่เป็น missing ทุกร้าน\n"
      ]
    },
    {
      "cell_type": "code",
      "metadata": {
        "id": "2G9emOVpDWIj",
        "outputId": "718eaf35-de5e-4f6f-9782-25c8a27aa137",
        "colab": {
          "base_uri": "https://localhost:8080/",
          "height": 54
        }
      },
      "source": [
        "all_mean = new_table.dropna(subset=['avg_price'])['avg_price'].mean()\n",
        "all_mean\n"
      ],
      "execution_count": 52,
      "outputs": [
        {
          "output_type": "execute_result",
          "data": {
            "text/plain": [
              "327.44728783902013"
            ]
          },
          "metadata": {
            "tags": []
          },
          "execution_count": 52
        }
      ]
    },
    {
      "cell_type": "markdown",
      "metadata": {
        "id": "gvazAEtQFQsk"
      },
      "source": [
        "###สร้าง list ของตารรางของทุกๆจังหวัด"
      ]
    },
    {
      "cell_type": "code",
      "metadata": {
        "id": "m4W8CwEdE_lJ",
        "outputId": "d47f2a6f-25e9-4ee2-9fd7-9170c8cc41d2",
        "colab": {
          "base_uri": "https://localhost:8080/",
          "height": 139
        }
      },
      "source": [
        "all_cities_list = []\n",
        "for each_city in all_cities:\n",
        "  temp_table = new_table[new_table['city_name']==each_city]\n",
        "  temp_table[['avg_price']] = temp_table[['avg_price']].fillna(new_table[new_table['city_name']==each_city].dropna()['avg_price'].mean())\n",
        "  all_cities_list.append(temp_table)"
      ],
      "execution_count": 53,
      "outputs": [
        {
          "output_type": "stream",
          "text": [
            "/usr/local/lib/python3.6/dist-packages/pandas/core/frame.py:2963: SettingWithCopyWarning: \n",
            "A value is trying to be set on a copy of a slice from a DataFrame.\n",
            "Try using .loc[row_indexer,col_indexer] = value instead\n",
            "\n",
            "See the caveats in the documentation: https://pandas.pydata.org/pandas-docs/stable/user_guide/indexing.html#returning-a-view-versus-a-copy\n",
            "  self[k1] = value[k2]\n"
          ],
          "name": "stderr"
        }
      ]
    },
    {
      "cell_type": "code",
      "metadata": {
        "id": "ihxNa4x7LPSh",
        "outputId": "6478164b-12ee-42ab-b8df-b20094b38315",
        "colab": {
          "base_uri": "https://localhost:8080/",
          "height": 139
        }
      },
      "source": [
        "all_cities_list = []\n",
        "for each_city in sorted(list(all_cities)): #เปลี่ยนsetเป็นlistเพื่อให้เรียงลำดับ\n",
        "  temp_table = new_table[new_table['city_name']==each_city]\n",
        "  temp_table[['avg_price']] = temp_table[['avg_price']].fillna(new_table[new_table['city_name']==each_city].dropna()['avg_price'].mean())\n",
        "  all_cities_list.append(temp_table)"
      ],
      "execution_count": 54,
      "outputs": [
        {
          "output_type": "stream",
          "text": [
            "/usr/local/lib/python3.6/dist-packages/pandas/core/frame.py:2963: SettingWithCopyWarning: \n",
            "A value is trying to be set on a copy of a slice from a DataFrame.\n",
            "Try using .loc[row_indexer,col_indexer] = value instead\n",
            "\n",
            "See the caveats in the documentation: https://pandas.pydata.org/pandas-docs/stable/user_guide/indexing.html#returning-a-view-versus-a-copy\n",
            "  self[k1] = value[k2]\n"
          ],
          "name": "stderr"
        }
      ]
    },
    {
      "cell_type": "code",
      "metadata": {
        "id": "NORiplYGFtIM",
        "outputId": "ac45ba7f-9c65-4d9a-a787-fad8ec2378b3",
        "colab": {
          "base_uri": "https://localhost:8080/",
          "height": 745
        }
      },
      "source": [
        "pandas.concat(all_cities_list).fillna(all_mean) #ตอนนี้เป็นแค่ตัวโชว์เฉยๆ ไม่ใช่ตาราง"
      ],
      "execution_count": 55,
      "outputs": [
        {
          "output_type": "execute_result",
          "data": {
            "text/html": [
              "<div>\n",
              "<style scoped>\n",
              "    .dataframe tbody tr th:only-of-type {\n",
              "        vertical-align: middle;\n",
              "    }\n",
              "\n",
              "    .dataframe tbody tr th {\n",
              "        vertical-align: top;\n",
              "    }\n",
              "\n",
              "    .dataframe thead th {\n",
              "        text-align: right;\n",
              "    }\n",
              "</style>\n",
              "<table border=\"1\" class=\"dataframe\">\n",
              "  <thead>\n",
              "    <tr style=\"text-align: right;\">\n",
              "      <th></th>\n",
              "      <th>name</th>\n",
              "      <th>city_name</th>\n",
              "      <th>avg_price</th>\n",
              "    </tr>\n",
              "  </thead>\n",
              "  <tbody>\n",
              "    <tr>\n",
              "      <th>56391</th>\n",
              "      <td>Smoking Doll Nation Galleria</td>\n",
              "      <td>Abu Dhabi</td>\n",
              "      <td>327.447288</td>\n",
              "    </tr>\n",
              "    <tr>\n",
              "      <th>67914</th>\n",
              "      <td>PRET TO GO (Terminal 1)</td>\n",
              "      <td>Abu Dhabi</td>\n",
              "      <td>327.447288</td>\n",
              "    </tr>\n",
              "    <tr>\n",
              "      <th>123536</th>\n",
              "      <td>Keway Mai</td>\n",
              "      <td>Abu Dhabi</td>\n",
              "      <td>327.447288</td>\n",
              "    </tr>\n",
              "    <tr>\n",
              "      <th>142972</th>\n",
              "      <td>La Brioche</td>\n",
              "      <td>Abu Dhabi</td>\n",
              "      <td>327.447288</td>\n",
              "    </tr>\n",
              "    <tr>\n",
              "      <th>223144</th>\n",
              "      <td>White Dot Table</td>\n",
              "      <td>Abu Dhabi</td>\n",
              "      <td>327.447288</td>\n",
              "    </tr>\n",
              "    <tr>\n",
              "      <th>...</th>\n",
              "      <td>...</td>\n",
              "      <td>...</td>\n",
              "      <td>...</td>\n",
              "    </tr>\n",
              "    <tr>\n",
              "      <th>246412</th>\n",
              "      <td>ครัวข้าวสวย</td>\n",
              "      <td>เขาใหญ่</td>\n",
              "      <td>327.447288</td>\n",
              "    </tr>\n",
              "    <tr>\n",
              "      <th>246418</th>\n",
              "      <td>ร้านอาหารดาวเดือน</td>\n",
              "      <td>เขาใหญ่</td>\n",
              "      <td>327.447288</td>\n",
              "    </tr>\n",
              "    <tr>\n",
              "      <th>246780</th>\n",
              "      <td>กาแฟสด</td>\n",
              "      <td>เขาใหญ่</td>\n",
              "      <td>327.447288</td>\n",
              "    </tr>\n",
              "    <tr>\n",
              "      <th>246791</th>\n",
              "      <td>ยู้ ลูกชิ้นปลาเยาวราช</td>\n",
              "      <td>เขาใหญ่</td>\n",
              "      <td>327.447288</td>\n",
              "    </tr>\n",
              "    <tr>\n",
              "      <th>246832</th>\n",
              "      <td>โชคดีกาแฟ</td>\n",
              "      <td>เขาใหญ่</td>\n",
              "      <td>327.447288</td>\n",
              "    </tr>\n",
              "  </tbody>\n",
              "</table>\n",
              "<p>246847 rows × 3 columns</p>\n",
              "</div>"
            ],
            "text/plain": [
              "                                name  city_name   avg_price\n",
              "56391   Smoking Doll Nation Galleria  Abu Dhabi  327.447288\n",
              "67914        PRET TO GO (Terminal 1)  Abu Dhabi  327.447288\n",
              "123536                     Keway Mai  Abu Dhabi  327.447288\n",
              "142972                    La Brioche  Abu Dhabi  327.447288\n",
              "223144               White Dot Table  Abu Dhabi  327.447288\n",
              "...                              ...        ...         ...\n",
              "246412                   ครัวข้าวสวย    เขาใหญ่  327.447288\n",
              "246418             ร้านอาหารดาวเดือน    เขาใหญ่  327.447288\n",
              "246780                        กาแฟสด    เขาใหญ่  327.447288\n",
              "246791         ยู้ ลูกชิ้นปลาเยาวราช    เขาใหญ่  327.447288\n",
              "246832                     โชคดีกาแฟ    เขาใหญ่  327.447288\n",
              "\n",
              "[246847 rows x 3 columns]"
            ]
          },
          "metadata": {
            "tags": []
          },
          "execution_count": 55
        }
      ]
    },
    {
      "cell_type": "code",
      "metadata": {
        "id": "OzmfcYoUJerH",
        "outputId": "f66f1c85-d59a-4224-a6d8-2a7a80227685",
        "colab": {
          "base_uri": "https://localhost:8080/",
          "height": 377
        }
      },
      "source": [
        "no_missing = pandas.concat(all_cities_list).fillna(all_mean) \n",
        "no_missing.head()"
      ],
      "execution_count": 56,
      "outputs": [
        {
          "output_type": "execute_result",
          "data": {
            "text/html": [
              "<div>\n",
              "<style scoped>\n",
              "    .dataframe tbody tr th:only-of-type {\n",
              "        vertical-align: middle;\n",
              "    }\n",
              "\n",
              "    .dataframe tbody tr th {\n",
              "        vertical-align: top;\n",
              "    }\n",
              "\n",
              "    .dataframe thead th {\n",
              "        text-align: right;\n",
              "    }\n",
              "</style>\n",
              "<table border=\"1\" class=\"dataframe\">\n",
              "  <thead>\n",
              "    <tr style=\"text-align: right;\">\n",
              "      <th></th>\n",
              "      <th>name</th>\n",
              "      <th>city_name</th>\n",
              "      <th>avg_price</th>\n",
              "    </tr>\n",
              "  </thead>\n",
              "  <tbody>\n",
              "    <tr>\n",
              "      <th>56391</th>\n",
              "      <td>Smoking Doll Nation Galleria</td>\n",
              "      <td>Abu Dhabi</td>\n",
              "      <td>327.447288</td>\n",
              "    </tr>\n",
              "    <tr>\n",
              "      <th>67914</th>\n",
              "      <td>PRET TO GO (Terminal 1)</td>\n",
              "      <td>Abu Dhabi</td>\n",
              "      <td>327.447288</td>\n",
              "    </tr>\n",
              "    <tr>\n",
              "      <th>123536</th>\n",
              "      <td>Keway Mai</td>\n",
              "      <td>Abu Dhabi</td>\n",
              "      <td>327.447288</td>\n",
              "    </tr>\n",
              "    <tr>\n",
              "      <th>142972</th>\n",
              "      <td>La Brioche</td>\n",
              "      <td>Abu Dhabi</td>\n",
              "      <td>327.447288</td>\n",
              "    </tr>\n",
              "    <tr>\n",
              "      <th>223144</th>\n",
              "      <td>White Dot Table</td>\n",
              "      <td>Abu Dhabi</td>\n",
              "      <td>327.447288</td>\n",
              "    </tr>\n",
              "  </tbody>\n",
              "</table>\n",
              "</div>"
            ],
            "text/plain": [
              "                                name  city_name   avg_price\n",
              "56391   Smoking Doll Nation Galleria  Abu Dhabi  327.447288\n",
              "67914        PRET TO GO (Terminal 1)  Abu Dhabi  327.447288\n",
              "123536                     Keway Mai  Abu Dhabi  327.447288\n",
              "142972                    La Brioche  Abu Dhabi  327.447288\n",
              "223144               White Dot Table  Abu Dhabi  327.447288"
            ]
          },
          "metadata": {
            "tags": []
          },
          "execution_count": 56
        }
      ]
    },
    {
      "cell_type": "code",
      "metadata": {
        "id": "7_Hvc8lwNDQC",
        "outputId": "8ba2ba20-4108-4050-9406-19679a36f6b3",
        "colab": {
          "base_uri": "https://localhost:8080/",
          "height": 711
        }
      },
      "source": [
        "london_index_list = no_missing['city_name']=='Greater London' #เรียกมาเฉพาะ london จากตาราง no_missing\n",
        "no_missing[london_index_list]"
      ],
      "execution_count": 57,
      "outputs": [
        {
          "output_type": "execute_result",
          "data": {
            "text/html": [
              "<div>\n",
              "<style scoped>\n",
              "    .dataframe tbody tr th:only-of-type {\n",
              "        vertical-align: middle;\n",
              "    }\n",
              "\n",
              "    .dataframe tbody tr th {\n",
              "        vertical-align: top;\n",
              "    }\n",
              "\n",
              "    .dataframe thead th {\n",
              "        text-align: right;\n",
              "    }\n",
              "</style>\n",
              "<table border=\"1\" class=\"dataframe\">\n",
              "  <thead>\n",
              "    <tr style=\"text-align: right;\">\n",
              "      <th></th>\n",
              "      <th>name</th>\n",
              "      <th>city_name</th>\n",
              "      <th>avg_price</th>\n",
              "    </tr>\n",
              "  </thead>\n",
              "  <tbody>\n",
              "    <tr>\n",
              "      <th>3580</th>\n",
              "      <td>Greene King</td>\n",
              "      <td>Greater London</td>\n",
              "      <td>327.447288</td>\n",
              "    </tr>\n",
              "    <tr>\n",
              "      <th>5402</th>\n",
              "      <td>Miyama</td>\n",
              "      <td>Greater London</td>\n",
              "      <td>327.447288</td>\n",
              "    </tr>\n",
              "    <tr>\n",
              "      <th>6375</th>\n",
              "      <td>Misato</td>\n",
              "      <td>Greater London</td>\n",
              "      <td>327.447288</td>\n",
              "    </tr>\n",
              "    <tr>\n",
              "      <th>7644</th>\n",
              "      <td>Duck And Waffle</td>\n",
              "      <td>Greater London</td>\n",
              "      <td>327.447288</td>\n",
              "    </tr>\n",
              "    <tr>\n",
              "      <th>8343</th>\n",
              "      <td>L'Atelier De Joel Robuchon</td>\n",
              "      <td>Greater London</td>\n",
              "      <td>327.447288</td>\n",
              "    </tr>\n",
              "    <tr>\n",
              "      <th>...</th>\n",
              "      <td>...</td>\n",
              "      <td>...</td>\n",
              "      <td>...</td>\n",
              "    </tr>\n",
              "    <tr>\n",
              "      <th>238648</th>\n",
              "      <td>CnR</td>\n",
              "      <td>Greater London</td>\n",
              "      <td>327.447288</td>\n",
              "    </tr>\n",
              "    <tr>\n",
              "      <th>241688</th>\n",
              "      <td>nando's</td>\n",
              "      <td>Greater London</td>\n",
              "      <td>327.447288</td>\n",
              "    </tr>\n",
              "    <tr>\n",
              "      <th>243077</th>\n",
              "      <td>Cakehole</td>\n",
              "      <td>Greater London</td>\n",
              "      <td>327.447288</td>\n",
              "    </tr>\n",
              "    <tr>\n",
              "      <th>243749</th>\n",
              "      <td>The Refinery</td>\n",
              "      <td>Greater London</td>\n",
              "      <td>327.447288</td>\n",
              "    </tr>\n",
              "    <tr>\n",
              "      <th>246443</th>\n",
              "      <td>Park Grand London Kensington</td>\n",
              "      <td>Greater London</td>\n",
              "      <td>327.447288</td>\n",
              "    </tr>\n",
              "  </tbody>\n",
              "</table>\n",
              "<p>166 rows × 3 columns</p>\n",
              "</div>"
            ],
            "text/plain": [
              "                                name       city_name   avg_price\n",
              "3580                     Greene King  Greater London  327.447288\n",
              "5402                          Miyama  Greater London  327.447288\n",
              "6375                          Misato  Greater London  327.447288\n",
              "7644                 Duck And Waffle  Greater London  327.447288\n",
              "8343      L'Atelier De Joel Robuchon  Greater London  327.447288\n",
              "...                              ...             ...         ...\n",
              "238648                           CnR  Greater London  327.447288\n",
              "241688                       nando's  Greater London  327.447288\n",
              "243077                      Cakehole  Greater London  327.447288\n",
              "243749                  The Refinery  Greater London  327.447288\n",
              "246443  Park Grand London Kensington  Greater London  327.447288\n",
              "\n",
              "[166 rows x 3 columns]"
            ]
          },
          "metadata": {
            "tags": []
          },
          "execution_count": 57
        }
      ]
    },
    {
      "cell_type": "code",
      "metadata": {
        "id": "LvYWMiWSNXeK",
        "outputId": "fe758014-b4ad-4390-ef63-ec98b8dd9c9e",
        "colab": {
          "base_uri": "https://localhost:8080/",
          "height": 411
        }
      },
      "source": [
        "london_index_list = no_missing['avg_price']<15 #เช็คว่ามีร้านไหนที่ราคาอาหารเฉลี่ยต่ำกว่า 15 เราจะ assume ว่าเขาใส่หน่วยราคามาเป็นหน่วยอื่นที่ไม่ใช่บาท\n",
        "no_missing[london_index_list]"
      ],
      "execution_count": 58,
      "outputs": [
        {
          "output_type": "execute_result",
          "data": {
            "text/html": [
              "<div>\n",
              "<style scoped>\n",
              "    .dataframe tbody tr th:only-of-type {\n",
              "        vertical-align: middle;\n",
              "    }\n",
              "\n",
              "    .dataframe tbody tr th {\n",
              "        vertical-align: top;\n",
              "    }\n",
              "\n",
              "    .dataframe thead th {\n",
              "        text-align: right;\n",
              "    }\n",
              "</style>\n",
              "<table border=\"1\" class=\"dataframe\">\n",
              "  <thead>\n",
              "    <tr style=\"text-align: right;\">\n",
              "      <th></th>\n",
              "      <th>name</th>\n",
              "      <th>city_name</th>\n",
              "      <th>avg_price</th>\n",
              "    </tr>\n",
              "  </thead>\n",
              "  <tbody>\n",
              "    <tr>\n",
              "      <th>18161</th>\n",
              "      <td>ดรีมเวิลด์</td>\n",
              "      <td>Bangkok Metropolitan Region</td>\n",
              "      <td>0.0</td>\n",
              "    </tr>\n",
              "    <tr>\n",
              "      <th>58579</th>\n",
              "      <td>รามคลินิกแพทย์</td>\n",
              "      <td>Bangkok Metropolitan Region</td>\n",
              "      <td>0.0</td>\n",
              "    </tr>\n",
              "    <tr>\n",
              "      <th>139618</th>\n",
              "      <td>Klong Lat Mayom floating market</td>\n",
              "      <td>Bangkok Metropolitan Region</td>\n",
              "      <td>0.0</td>\n",
              "    </tr>\n",
              "    <tr>\n",
              "      <th>204196</th>\n",
              "      <td>โภชนากร หนองมน</td>\n",
              "      <td>Chon Buri</td>\n",
              "      <td>11.0</td>\n",
              "    </tr>\n",
              "    <tr>\n",
              "      <th>167551</th>\n",
              "      <td>ทรีท็อปแอดเวนเจอร์พาร์ค กาญจนบุรี</td>\n",
              "      <td>Kanchanaburi</td>\n",
              "      <td>4.0</td>\n",
              "    </tr>\n",
              "  </tbody>\n",
              "</table>\n",
              "</div>"
            ],
            "text/plain": [
              "                                     name  ... avg_price\n",
              "18161                          ดรีมเวิลด์  ...       0.0\n",
              "58579                      รามคลินิกแพทย์  ...       0.0\n",
              "139618    Klong Lat Mayom floating market  ...       0.0\n",
              "204196                     โภชนากร หนองมน  ...      11.0\n",
              "167551  ทรีท็อปแอดเวนเจอร์พาร์ค กาญจนบุรี  ...       4.0\n",
              "\n",
              "[5 rows x 3 columns]"
            ]
          },
          "metadata": {
            "tags": []
          },
          "execution_count": 58
        }
      ]
    },
    {
      "cell_type": "markdown",
      "metadata": {
        "id": "T8PfMFxxUFQG"
      },
      "source": [
        "#Homework 10 ทำ Binnig smooth by mean ค่า 'avg_price' ในตาราง no_missing (bin = 50)"
      ]
    },
    {
      "cell_type": "code",
      "metadata": {
        "id": "1hqZj4fkObmS",
        "outputId": "0f6b8b6a-af2f-482b-ffc5-fb0a223b77a6",
        "colab": {
          "base_uri": "https://localhost:8080/",
          "height": 419
        }
      },
      "source": [
        "no_missing"
      ],
      "execution_count": 59,
      "outputs": [
        {
          "output_type": "execute_result",
          "data": {
            "text/html": [
              "<div>\n",
              "<style scoped>\n",
              "    .dataframe tbody tr th:only-of-type {\n",
              "        vertical-align: middle;\n",
              "    }\n",
              "\n",
              "    .dataframe tbody tr th {\n",
              "        vertical-align: top;\n",
              "    }\n",
              "\n",
              "    .dataframe thead th {\n",
              "        text-align: right;\n",
              "    }\n",
              "</style>\n",
              "<table border=\"1\" class=\"dataframe\">\n",
              "  <thead>\n",
              "    <tr style=\"text-align: right;\">\n",
              "      <th></th>\n",
              "      <th>name</th>\n",
              "      <th>city_name</th>\n",
              "      <th>avg_price</th>\n",
              "    </tr>\n",
              "  </thead>\n",
              "  <tbody>\n",
              "    <tr>\n",
              "      <th>56391</th>\n",
              "      <td>Smoking Doll Nation Galleria</td>\n",
              "      <td>Abu Dhabi</td>\n",
              "      <td>327.447288</td>\n",
              "    </tr>\n",
              "    <tr>\n",
              "      <th>67914</th>\n",
              "      <td>PRET TO GO (Terminal 1)</td>\n",
              "      <td>Abu Dhabi</td>\n",
              "      <td>327.447288</td>\n",
              "    </tr>\n",
              "    <tr>\n",
              "      <th>123536</th>\n",
              "      <td>Keway Mai</td>\n",
              "      <td>Abu Dhabi</td>\n",
              "      <td>327.447288</td>\n",
              "    </tr>\n",
              "    <tr>\n",
              "      <th>142972</th>\n",
              "      <td>La Brioche</td>\n",
              "      <td>Abu Dhabi</td>\n",
              "      <td>327.447288</td>\n",
              "    </tr>\n",
              "    <tr>\n",
              "      <th>223144</th>\n",
              "      <td>White Dot Table</td>\n",
              "      <td>Abu Dhabi</td>\n",
              "      <td>327.447288</td>\n",
              "    </tr>\n",
              "    <tr>\n",
              "      <th>...</th>\n",
              "      <td>...</td>\n",
              "      <td>...</td>\n",
              "      <td>...</td>\n",
              "    </tr>\n",
              "    <tr>\n",
              "      <th>246412</th>\n",
              "      <td>ครัวข้าวสวย</td>\n",
              "      <td>เขาใหญ่</td>\n",
              "      <td>327.447288</td>\n",
              "    </tr>\n",
              "    <tr>\n",
              "      <th>246418</th>\n",
              "      <td>ร้านอาหารดาวเดือน</td>\n",
              "      <td>เขาใหญ่</td>\n",
              "      <td>327.447288</td>\n",
              "    </tr>\n",
              "    <tr>\n",
              "      <th>246780</th>\n",
              "      <td>กาแฟสด</td>\n",
              "      <td>เขาใหญ่</td>\n",
              "      <td>327.447288</td>\n",
              "    </tr>\n",
              "    <tr>\n",
              "      <th>246791</th>\n",
              "      <td>ยู้ ลูกชิ้นปลาเยาวราช</td>\n",
              "      <td>เขาใหญ่</td>\n",
              "      <td>327.447288</td>\n",
              "    </tr>\n",
              "    <tr>\n",
              "      <th>246832</th>\n",
              "      <td>โชคดีกาแฟ</td>\n",
              "      <td>เขาใหญ่</td>\n",
              "      <td>327.447288</td>\n",
              "    </tr>\n",
              "  </tbody>\n",
              "</table>\n",
              "<p>246847 rows × 3 columns</p>\n",
              "</div>"
            ],
            "text/plain": [
              "                                name  city_name   avg_price\n",
              "56391   Smoking Doll Nation Galleria  Abu Dhabi  327.447288\n",
              "67914        PRET TO GO (Terminal 1)  Abu Dhabi  327.447288\n",
              "123536                     Keway Mai  Abu Dhabi  327.447288\n",
              "142972                    La Brioche  Abu Dhabi  327.447288\n",
              "223144               White Dot Table  Abu Dhabi  327.447288\n",
              "...                              ...        ...         ...\n",
              "246412                   ครัวข้าวสวย    เขาใหญ่  327.447288\n",
              "246418             ร้านอาหารดาวเดือน    เขาใหญ่  327.447288\n",
              "246780                        กาแฟสด    เขาใหญ่  327.447288\n",
              "246791         ยู้ ลูกชิ้นปลาเยาวราช    เขาใหญ่  327.447288\n",
              "246832                     โชคดีกาแฟ    เขาใหญ่  327.447288\n",
              "\n",
              "[246847 rows x 3 columns]"
            ]
          },
          "metadata": {
            "tags": []
          },
          "execution_count": 59
        }
      ]
    },
    {
      "cell_type": "code",
      "metadata": {
        "id": "F5o5RDyOOc3U",
        "outputId": "dad8a9ed-9d97-4f48-ea47-549f62f15868",
        "colab": {
          "base_uri": "https://localhost:8080/",
          "height": 419
        }
      },
      "source": [
        "#step 1 : sort\n",
        "Nomissing_sorted = no_missing.sort_values('avg_price')\n",
        "Nomissing_sorted"
      ],
      "execution_count": 60,
      "outputs": [
        {
          "output_type": "execute_result",
          "data": {
            "text/html": [
              "<div>\n",
              "<style scoped>\n",
              "    .dataframe tbody tr th:only-of-type {\n",
              "        vertical-align: middle;\n",
              "    }\n",
              "\n",
              "    .dataframe tbody tr th {\n",
              "        vertical-align: top;\n",
              "    }\n",
              "\n",
              "    .dataframe thead th {\n",
              "        text-align: right;\n",
              "    }\n",
              "</style>\n",
              "<table border=\"1\" class=\"dataframe\">\n",
              "  <thead>\n",
              "    <tr style=\"text-align: right;\">\n",
              "      <th></th>\n",
              "      <th>name</th>\n",
              "      <th>city_name</th>\n",
              "      <th>avg_price</th>\n",
              "    </tr>\n",
              "  </thead>\n",
              "  <tbody>\n",
              "    <tr>\n",
              "      <th>58579</th>\n",
              "      <td>รามคลินิกแพทย์</td>\n",
              "      <td>Bangkok Metropolitan Region</td>\n",
              "      <td>0.0</td>\n",
              "    </tr>\n",
              "    <tr>\n",
              "      <th>139618</th>\n",
              "      <td>Klong Lat Mayom floating market</td>\n",
              "      <td>Bangkok Metropolitan Region</td>\n",
              "      <td>0.0</td>\n",
              "    </tr>\n",
              "    <tr>\n",
              "      <th>18161</th>\n",
              "      <td>ดรีมเวิลด์</td>\n",
              "      <td>Bangkok Metropolitan Region</td>\n",
              "      <td>0.0</td>\n",
              "    </tr>\n",
              "    <tr>\n",
              "      <th>167551</th>\n",
              "      <td>ทรีท็อปแอดเวนเจอร์พาร์ค กาญจนบุรี</td>\n",
              "      <td>Kanchanaburi</td>\n",
              "      <td>4.0</td>\n",
              "    </tr>\n",
              "    <tr>\n",
              "      <th>204196</th>\n",
              "      <td>โภชนากร หนองมน</td>\n",
              "      <td>Chon Buri</td>\n",
              "      <td>11.0</td>\n",
              "    </tr>\n",
              "    <tr>\n",
              "      <th>...</th>\n",
              "      <td>...</td>\n",
              "      <td>...</td>\n",
              "      <td>...</td>\n",
              "    </tr>\n",
              "    <tr>\n",
              "      <th>8130</th>\n",
              "      <td>Dine In The Dark</td>\n",
              "      <td>Bangkok Metropolitan Region</td>\n",
              "      <td>1500.0</td>\n",
              "    </tr>\n",
              "    <tr>\n",
              "      <th>22942</th>\n",
              "      <td>BMC CLINIC</td>\n",
              "      <td>Bangkok Metropolitan Region</td>\n",
              "      <td>1500.0</td>\n",
              "    </tr>\n",
              "    <tr>\n",
              "      <th>168720</th>\n",
              "      <td>Bo.lan</td>\n",
              "      <td>Bangkok Metropolitan Region</td>\n",
              "      <td>1500.0</td>\n",
              "    </tr>\n",
              "    <tr>\n",
              "      <th>8598</th>\n",
              "      <td>หมอศรัณย์ (คลินิกศัลยกรรมนายแพทย์ศรัณย์)</td>\n",
              "      <td>Bangkok Metropolitan Region</td>\n",
              "      <td>1500.0</td>\n",
              "    </tr>\n",
              "    <tr>\n",
              "      <th>100459</th>\n",
              "      <td>Paichaoclinic ไป๋เฉ่าสหคลินิก</td>\n",
              "      <td>Bangkok Metropolitan Region</td>\n",
              "      <td>1500.0</td>\n",
              "    </tr>\n",
              "  </tbody>\n",
              "</table>\n",
              "<p>246847 rows × 3 columns</p>\n",
              "</div>"
            ],
            "text/plain": [
              "                                            name  ... avg_price\n",
              "58579                             รามคลินิกแพทย์  ...       0.0\n",
              "139618           Klong Lat Mayom floating market  ...       0.0\n",
              "18161                                 ดรีมเวิลด์  ...       0.0\n",
              "167551         ทรีท็อปแอดเวนเจอร์พาร์ค กาญจนบุรี  ...       4.0\n",
              "204196                            โภชนากร หนองมน  ...      11.0\n",
              "...                                          ...  ...       ...\n",
              "8130                            Dine In The Dark  ...    1500.0\n",
              "22942                                 BMC CLINIC  ...    1500.0\n",
              "168720                                    Bo.lan  ...    1500.0\n",
              "8598    หมอศรัณย์ (คลินิกศัลยกรรมนายแพทย์ศรัณย์)  ...    1500.0\n",
              "100459             Paichaoclinic ไป๋เฉ่าสหคลินิก  ...    1500.0\n",
              "\n",
              "[246847 rows x 3 columns]"
            ]
          },
          "metadata": {
            "tags": []
          },
          "execution_count": 60
        }
      ]
    },
    {
      "cell_type": "code",
      "metadata": {
        "id": "YO2e9tnfRocG",
        "outputId": "c9b80ddc-5920-4af6-f81c-eba67a1f2eb1",
        "colab": {
          "base_uri": "https://localhost:8080/",
          "height": 419
        }
      },
      "source": [
        "#step 2 :แบ่งเป็น 50 ส่วน\n",
        "Nomissing_sorted.iloc[::50]"
      ],
      "execution_count": 61,
      "outputs": [
        {
          "output_type": "execute_result",
          "data": {
            "text/html": [
              "<div>\n",
              "<style scoped>\n",
              "    .dataframe tbody tr th:only-of-type {\n",
              "        vertical-align: middle;\n",
              "    }\n",
              "\n",
              "    .dataframe tbody tr th {\n",
              "        vertical-align: top;\n",
              "    }\n",
              "\n",
              "    .dataframe thead th {\n",
              "        text-align: right;\n",
              "    }\n",
              "</style>\n",
              "<table border=\"1\" class=\"dataframe\">\n",
              "  <thead>\n",
              "    <tr style=\"text-align: right;\">\n",
              "      <th></th>\n",
              "      <th>name</th>\n",
              "      <th>city_name</th>\n",
              "      <th>avg_price</th>\n",
              "    </tr>\n",
              "  </thead>\n",
              "  <tbody>\n",
              "    <tr>\n",
              "      <th>58579</th>\n",
              "      <td>รามคลินิกแพทย์</td>\n",
              "      <td>Bangkok Metropolitan Region</td>\n",
              "      <td>0.0</td>\n",
              "    </tr>\n",
              "    <tr>\n",
              "      <th>117977</th>\n",
              "      <td>นายหมงหอยทอด</td>\n",
              "      <td>Bangkok Metropolitan Region</td>\n",
              "      <td>50.0</td>\n",
              "    </tr>\n",
              "    <tr>\n",
              "      <th>85598</th>\n",
              "      <td>ครัวแดนใต้</td>\n",
              "      <td>Krabi</td>\n",
              "      <td>50.0</td>\n",
              "    </tr>\n",
              "    <tr>\n",
              "      <th>243699</th>\n",
              "      <td>หอยทอดชาวเล</td>\n",
              "      <td>Bangkok Metropolitan Region</td>\n",
              "      <td>50.0</td>\n",
              "    </tr>\n",
              "    <tr>\n",
              "      <th>79116</th>\n",
              "      <td>Roengjit Phuket</td>\n",
              "      <td>Phuket</td>\n",
              "      <td>50.0</td>\n",
              "    </tr>\n",
              "    <tr>\n",
              "      <th>...</th>\n",
              "      <td>...</td>\n",
              "      <td>...</td>\n",
              "      <td>...</td>\n",
              "    </tr>\n",
              "    <tr>\n",
              "      <th>119230</th>\n",
              "      <td>Bulgogi Brothers</td>\n",
              "      <td>Bangkok Metropolitan Region</td>\n",
              "      <td>750.0</td>\n",
              "    </tr>\n",
              "    <tr>\n",
              "      <th>179198</th>\n",
              "      <td>พรเกษมคลินิก</td>\n",
              "      <td>Chon Buri</td>\n",
              "      <td>750.0</td>\n",
              "    </tr>\n",
              "    <tr>\n",
              "      <th>20927</th>\n",
              "      <td>Utage</td>\n",
              "      <td>Bangkok Metropolitan Region</td>\n",
              "      <td>1500.0</td>\n",
              "    </tr>\n",
              "    <tr>\n",
              "      <th>202349</th>\n",
              "      <td>Atrium at The Landmark Bangkok</td>\n",
              "      <td>Bangkok Metropolitan Region</td>\n",
              "      <td>1500.0</td>\n",
              "    </tr>\n",
              "    <tr>\n",
              "      <th>43590</th>\n",
              "      <td>The Olympic Club</td>\n",
              "      <td>Bangkok Metropolitan Region</td>\n",
              "      <td>1500.0</td>\n",
              "    </tr>\n",
              "  </tbody>\n",
              "</table>\n",
              "<p>4937 rows × 3 columns</p>\n",
              "</div>"
            ],
            "text/plain": [
              "                                  name                    city_name  avg_price\n",
              "58579                   รามคลินิกแพทย์  Bangkok Metropolitan Region        0.0\n",
              "117977                    นายหมงหอยทอด  Bangkok Metropolitan Region       50.0\n",
              "85598                       ครัวแดนใต้                        Krabi       50.0\n",
              "243699                     หอยทอดชาวเล  Bangkok Metropolitan Region       50.0\n",
              "79116                  Roengjit Phuket                       Phuket       50.0\n",
              "...                                ...                          ...        ...\n",
              "119230                Bulgogi Brothers  Bangkok Metropolitan Region      750.0\n",
              "179198                    พรเกษมคลินิก                    Chon Buri      750.0\n",
              "20927                            Utage  Bangkok Metropolitan Region     1500.0\n",
              "202349  Atrium at The Landmark Bangkok  Bangkok Metropolitan Region     1500.0\n",
              "43590                 The Olympic Club  Bangkok Metropolitan Region     1500.0\n",
              "\n",
              "[4937 rows x 3 columns]"
            ]
          },
          "metadata": {
            "tags": []
          },
          "execution_count": 61
        }
      ]
    },
    {
      "cell_type": "code",
      "metadata": {
        "id": "TLf3z_4MiyDn",
        "outputId": "162a25a0-ebb8-42e7-8415-84ef51261cc0",
        "colab": {
          "base_uri": "https://localhost:8080/",
          "height": 34
        }
      },
      "source": [
        "2937/50"
      ],
      "execution_count": 62,
      "outputs": [
        {
          "output_type": "execute_result",
          "data": {
            "text/plain": [
              "58.74"
            ]
          },
          "metadata": {
            "tags": []
          },
          "execution_count": 62
        }
      ]
    },
    {
      "cell_type": "markdown",
      "metadata": {
        "id": "si5cYk9xsy3o"
      },
      "source": [
        "#เฉลยการบ้าน Binning"
      ]
    },
    {
      "cell_type": "markdown",
      "metadata": {
        "id": "BgbghFMSs656"
      },
      "source": [
        "step 1 : เรียงข้อมูล"
      ]
    },
    {
      "cell_type": "code",
      "metadata": {
        "id": "NmUrEMI5s2Mp",
        "outputId": "9971c972-2c74-4eca-c1f0-35ab11b40457",
        "colab": {
          "base_uri": "https://localhost:8080/",
          "height": 419
        }
      },
      "source": [
        "sorted_no_missing =  no_missing.sort_values('avg_price')\n",
        "sorted_no_missing"
      ],
      "execution_count": 65,
      "outputs": [
        {
          "output_type": "execute_result",
          "data": {
            "text/html": [
              "<div>\n",
              "<style scoped>\n",
              "    .dataframe tbody tr th:only-of-type {\n",
              "        vertical-align: middle;\n",
              "    }\n",
              "\n",
              "    .dataframe tbody tr th {\n",
              "        vertical-align: top;\n",
              "    }\n",
              "\n",
              "    .dataframe thead th {\n",
              "        text-align: right;\n",
              "    }\n",
              "</style>\n",
              "<table border=\"1\" class=\"dataframe\">\n",
              "  <thead>\n",
              "    <tr style=\"text-align: right;\">\n",
              "      <th></th>\n",
              "      <th>name</th>\n",
              "      <th>city_name</th>\n",
              "      <th>avg_price</th>\n",
              "    </tr>\n",
              "  </thead>\n",
              "  <tbody>\n",
              "    <tr>\n",
              "      <th>58579</th>\n",
              "      <td>รามคลินิกแพทย์</td>\n",
              "      <td>Bangkok Metropolitan Region</td>\n",
              "      <td>0.0</td>\n",
              "    </tr>\n",
              "    <tr>\n",
              "      <th>139618</th>\n",
              "      <td>Klong Lat Mayom floating market</td>\n",
              "      <td>Bangkok Metropolitan Region</td>\n",
              "      <td>0.0</td>\n",
              "    </tr>\n",
              "    <tr>\n",
              "      <th>18161</th>\n",
              "      <td>ดรีมเวิลด์</td>\n",
              "      <td>Bangkok Metropolitan Region</td>\n",
              "      <td>0.0</td>\n",
              "    </tr>\n",
              "    <tr>\n",
              "      <th>167551</th>\n",
              "      <td>ทรีท็อปแอดเวนเจอร์พาร์ค กาญจนบุรี</td>\n",
              "      <td>Kanchanaburi</td>\n",
              "      <td>4.0</td>\n",
              "    </tr>\n",
              "    <tr>\n",
              "      <th>204196</th>\n",
              "      <td>โภชนากร หนองมน</td>\n",
              "      <td>Chon Buri</td>\n",
              "      <td>11.0</td>\n",
              "    </tr>\n",
              "    <tr>\n",
              "      <th>...</th>\n",
              "      <td>...</td>\n",
              "      <td>...</td>\n",
              "      <td>...</td>\n",
              "    </tr>\n",
              "    <tr>\n",
              "      <th>8130</th>\n",
              "      <td>Dine In The Dark</td>\n",
              "      <td>Bangkok Metropolitan Region</td>\n",
              "      <td>1500.0</td>\n",
              "    </tr>\n",
              "    <tr>\n",
              "      <th>22942</th>\n",
              "      <td>BMC CLINIC</td>\n",
              "      <td>Bangkok Metropolitan Region</td>\n",
              "      <td>1500.0</td>\n",
              "    </tr>\n",
              "    <tr>\n",
              "      <th>168720</th>\n",
              "      <td>Bo.lan</td>\n",
              "      <td>Bangkok Metropolitan Region</td>\n",
              "      <td>1500.0</td>\n",
              "    </tr>\n",
              "    <tr>\n",
              "      <th>8598</th>\n",
              "      <td>หมอศรัณย์ (คลินิกศัลยกรรมนายแพทย์ศรัณย์)</td>\n",
              "      <td>Bangkok Metropolitan Region</td>\n",
              "      <td>1500.0</td>\n",
              "    </tr>\n",
              "    <tr>\n",
              "      <th>100459</th>\n",
              "      <td>Paichaoclinic ไป๋เฉ่าสหคลินิก</td>\n",
              "      <td>Bangkok Metropolitan Region</td>\n",
              "      <td>1500.0</td>\n",
              "    </tr>\n",
              "  </tbody>\n",
              "</table>\n",
              "<p>246847 rows × 3 columns</p>\n",
              "</div>"
            ],
            "text/plain": [
              "                                            name  ... avg_price\n",
              "58579                             รามคลินิกแพทย์  ...       0.0\n",
              "139618           Klong Lat Mayom floating market  ...       0.0\n",
              "18161                                 ดรีมเวิลด์  ...       0.0\n",
              "167551         ทรีท็อปแอดเวนเจอร์พาร์ค กาญจนบุรี  ...       4.0\n",
              "204196                            โภชนากร หนองมน  ...      11.0\n",
              "...                                          ...  ...       ...\n",
              "8130                            Dine In The Dark  ...    1500.0\n",
              "22942                                 BMC CLINIC  ...    1500.0\n",
              "168720                                    Bo.lan  ...    1500.0\n",
              "8598    หมอศรัณย์ (คลินิกศัลยกรรมนายแพทย์ศรัณย์)  ...    1500.0\n",
              "100459             Paichaoclinic ไป๋เฉ่าสหคลินิก  ...    1500.0\n",
              "\n",
              "[246847 rows x 3 columns]"
            ]
          },
          "metadata": {
            "tags": []
          },
          "execution_count": 65
        }
      ]
    },
    {
      "cell_type": "markdown",
      "metadata": {
        "id": "6E-7nORYthvd"
      },
      "source": [
        "step 2 : binning"
      ]
    },
    {
      "cell_type": "code",
      "metadata": {
        "id": "3nJd0PrruT5h"
      },
      "source": [
        "import math"
      ],
      "execution_count": 67,
      "outputs": []
    },
    {
      "cell_type": "code",
      "metadata": {
        "id": "v3p8fqzItXTo",
        "outputId": "e6018cac-0509-4e76-f9a4-0cefc455adc1",
        "colab": {
          "base_uri": "https://localhost:8080/",
          "height": 34
        }
      },
      "source": [
        "each_bin = sorted_no_missing.shape[0]/50\n",
        "print(math.ceil(each_bin))"
      ],
      "execution_count": 68,
      "outputs": [
        {
          "output_type": "stream",
          "text": [
            "4937\n"
          ],
          "name": "stdout"
        }
      ]
    },
    {
      "cell_type": "code",
      "metadata": {
        "id": "04hXFl_At2Jo",
        "outputId": "257d799b-0c93-410e-e73e-de3bd3685fb4",
        "colab": {
          "base_uri": "https://localhost:8080/",
          "height": 521
        }
      },
      "source": [
        "for i in range(50):\n",
        "    sorted_no_missing.iloc[i*math.ceil(each_bin) : i*math.ceil(each_bin)+math.ceil(each_bin),:] #แบ่งbin\n",
        "    this_mean = sorted_no_missing.iloc[i*math.ceil(each_bin) : i*math.ceil(each_bin)+math.ceil(each_bin),:]['avg_price'].mean() #หา  mean ของแต่ละ bin\n",
        "    sorted_no_missing.iloc[i*math.ceil(each_bin) : i*math.ceil(each_bin)+math.ceil(each_bin),:] ['avg_price']=this_mean #เติมค่า mean ลงไปในแต่ละ bin\n",
        "sorted_no_missing\n"
      ],
      "execution_count": 79,
      "outputs": [
        {
          "output_type": "stream",
          "text": [
            "/usr/local/lib/python3.6/dist-packages/ipykernel_launcher.py:4: SettingWithCopyWarning: \n",
            "A value is trying to be set on a copy of a slice from a DataFrame.\n",
            "Try using .loc[row_indexer,col_indexer] = value instead\n",
            "\n",
            "See the caveats in the documentation: https://pandas.pydata.org/pandas-docs/stable/user_guide/indexing.html#returning-a-view-versus-a-copy\n",
            "  after removing the cwd from sys.path.\n"
          ],
          "name": "stderr"
        },
        {
          "output_type": "execute_result",
          "data": {
            "text/html": [
              "<div>\n",
              "<style scoped>\n",
              "    .dataframe tbody tr th:only-of-type {\n",
              "        vertical-align: middle;\n",
              "    }\n",
              "\n",
              "    .dataframe tbody tr th {\n",
              "        vertical-align: top;\n",
              "    }\n",
              "\n",
              "    .dataframe thead th {\n",
              "        text-align: right;\n",
              "    }\n",
              "</style>\n",
              "<table border=\"1\" class=\"dataframe\">\n",
              "  <thead>\n",
              "    <tr style=\"text-align: right;\">\n",
              "      <th></th>\n",
              "      <th>name</th>\n",
              "      <th>city_name</th>\n",
              "      <th>avg_price</th>\n",
              "    </tr>\n",
              "  </thead>\n",
              "  <tbody>\n",
              "    <tr>\n",
              "      <th>58579</th>\n",
              "      <td>รามคลินิกแพทย์</td>\n",
              "      <td>Bangkok Metropolitan Region</td>\n",
              "      <td>110.607177</td>\n",
              "    </tr>\n",
              "    <tr>\n",
              "      <th>139618</th>\n",
              "      <td>Klong Lat Mayom floating market</td>\n",
              "      <td>Bangkok Metropolitan Region</td>\n",
              "      <td>110.607177</td>\n",
              "    </tr>\n",
              "    <tr>\n",
              "      <th>18161</th>\n",
              "      <td>ดรีมเวิลด์</td>\n",
              "      <td>Bangkok Metropolitan Region</td>\n",
              "      <td>110.607177</td>\n",
              "    </tr>\n",
              "    <tr>\n",
              "      <th>167551</th>\n",
              "      <td>ทรีท็อปแอดเวนเจอร์พาร์ค กาญจนบุรี</td>\n",
              "      <td>Kanchanaburi</td>\n",
              "      <td>110.607177</td>\n",
              "    </tr>\n",
              "    <tr>\n",
              "      <th>204196</th>\n",
              "      <td>โภชนากร หนองมน</td>\n",
              "      <td>Chon Buri</td>\n",
              "      <td>110.607177</td>\n",
              "    </tr>\n",
              "    <tr>\n",
              "      <th>...</th>\n",
              "      <td>...</td>\n",
              "      <td>...</td>\n",
              "      <td>...</td>\n",
              "    </tr>\n",
              "    <tr>\n",
              "      <th>8130</th>\n",
              "      <td>Dine In The Dark</td>\n",
              "      <td>Bangkok Metropolitan Region</td>\n",
              "      <td>476.661359</td>\n",
              "    </tr>\n",
              "    <tr>\n",
              "      <th>22942</th>\n",
              "      <td>BMC CLINIC</td>\n",
              "      <td>Bangkok Metropolitan Region</td>\n",
              "      <td>476.661359</td>\n",
              "    </tr>\n",
              "    <tr>\n",
              "      <th>168720</th>\n",
              "      <td>Bo.lan</td>\n",
              "      <td>Bangkok Metropolitan Region</td>\n",
              "      <td>476.661359</td>\n",
              "    </tr>\n",
              "    <tr>\n",
              "      <th>8598</th>\n",
              "      <td>หมอศรัณย์ (คลินิกศัลยกรรมนายแพทย์ศรัณย์)</td>\n",
              "      <td>Bangkok Metropolitan Region</td>\n",
              "      <td>476.661359</td>\n",
              "    </tr>\n",
              "    <tr>\n",
              "      <th>100459</th>\n",
              "      <td>Paichaoclinic ไป๋เฉ่าสหคลินิก</td>\n",
              "      <td>Bangkok Metropolitan Region</td>\n",
              "      <td>476.661359</td>\n",
              "    </tr>\n",
              "  </tbody>\n",
              "</table>\n",
              "<p>246847 rows × 3 columns</p>\n",
              "</div>"
            ],
            "text/plain": [
              "                                            name  ...   avg_price\n",
              "58579                             รามคลินิกแพทย์  ...  110.607177\n",
              "139618           Klong Lat Mayom floating market  ...  110.607177\n",
              "18161                                 ดรีมเวิลด์  ...  110.607177\n",
              "167551         ทรีท็อปแอดเวนเจอร์พาร์ค กาญจนบุรี  ...  110.607177\n",
              "204196                            โภชนากร หนองมน  ...  110.607177\n",
              "...                                          ...  ...         ...\n",
              "8130                            Dine In The Dark  ...  476.661359\n",
              "22942                                 BMC CLINIC  ...  476.661359\n",
              "168720                                    Bo.lan  ...  476.661359\n",
              "8598    หมอศรัณย์ (คลินิกศัลยกรรมนายแพทย์ศรัณย์)  ...  476.661359\n",
              "100459             Paichaoclinic ไป๋เฉ่าสหคลินิก  ...  476.661359\n",
              "\n",
              "[246847 rows x 3 columns]"
            ]
          },
          "metadata": {
            "tags": []
          },
          "execution_count": 79
        }
      ]
    },
    {
      "cell_type": "markdown",
      "metadata": {
        "id": "9si_oewyypuf"
      },
      "source": [
        "#เช็ค error"
      ]
    },
    {
      "cell_type": "code",
      "metadata": {
        "id": "7MrZkOXZyGfa"
      },
      "source": [
        "#เช็คว่าทำไมไม่ error"
      ],
      "execution_count": 76,
      "outputs": []
    },
    {
      "cell_type": "code",
      "metadata": {
        "id": "Yx7AxaL5wQJ2",
        "outputId": "717fec53-7c91-42d0-ccfc-4eaf421c9160",
        "colab": {
          "base_uri": "https://localhost:8080/",
          "height": 111
        }
      },
      "source": [
        "sorted_no_missing.iloc[246845:246850,:]"
      ],
      "execution_count": 74,
      "outputs": [
        {
          "output_type": "execute_result",
          "data": {
            "text/html": [
              "<div>\n",
              "<style scoped>\n",
              "    .dataframe tbody tr th:only-of-type {\n",
              "        vertical-align: middle;\n",
              "    }\n",
              "\n",
              "    .dataframe tbody tr th {\n",
              "        vertical-align: top;\n",
              "    }\n",
              "\n",
              "    .dataframe thead th {\n",
              "        text-align: right;\n",
              "    }\n",
              "</style>\n",
              "<table border=\"1\" class=\"dataframe\">\n",
              "  <thead>\n",
              "    <tr style=\"text-align: right;\">\n",
              "      <th></th>\n",
              "      <th>name</th>\n",
              "      <th>city_name</th>\n",
              "      <th>avg_price</th>\n",
              "    </tr>\n",
              "  </thead>\n",
              "  <tbody>\n",
              "    <tr>\n",
              "      <th>8598</th>\n",
              "      <td>หมอศรัณย์ (คลินิกศัลยกรรมนายแพทย์ศรัณย์)</td>\n",
              "      <td>Bangkok Metropolitan Region</td>\n",
              "      <td>1500.0</td>\n",
              "    </tr>\n",
              "    <tr>\n",
              "      <th>100459</th>\n",
              "      <td>Paichaoclinic ไป๋เฉ่าสหคลินิก</td>\n",
              "      <td>Bangkok Metropolitan Region</td>\n",
              "      <td>1500.0</td>\n",
              "    </tr>\n",
              "  </tbody>\n",
              "</table>\n",
              "</div>"
            ],
            "text/plain": [
              "                                            name  ... avg_price\n",
              "8598    หมอศรัณย์ (คลินิกศัลยกรรมนายแพทย์ศรัณย์)  ...    1500.0\n",
              "100459             Paichaoclinic ไป๋เฉ่าสหคลินิก  ...    1500.0\n",
              "\n",
              "[2 rows x 3 columns]"
            ]
          },
          "metadata": {
            "tags": []
          },
          "execution_count": 74
        }
      ]
    },
    {
      "cell_type": "code",
      "metadata": {
        "id": "WKq53FQAxvCA",
        "outputId": "36fd4373-d155-4c42-e911-66f1a5060c6b",
        "colab": {
          "base_uri": "https://localhost:8080/",
          "height": 51
        }
      },
      "source": [
        "sorted_no_missing.iloc[246845:246850,:].mean()"
      ],
      "execution_count": 75,
      "outputs": [
        {
          "output_type": "execute_result",
          "data": {
            "text/plain": [
              "avg_price    1500.0\n",
              "dtype: float64"
            ]
          },
          "metadata": {
            "tags": []
          },
          "execution_count": 75
        }
      ]
    },
    {
      "cell_type": "code",
      "metadata": {
        "id": "pCLYeHVYxyvv"
      },
      "source": [
        "#ที่มันไม่ error ทั้งๆ ที่มี missing เพราะโปรแกรมมันตัดค่าที่ไม่มีออกเลย"
      ],
      "execution_count": null,
      "outputs": []
    },
    {
      "cell_type": "markdown",
      "metadata": {
        "id": "hw1fGRkCyzm6"
      },
      "source": [
        "#Remove Outlier (boxplot)"
      ]
    },
    {
      "cell_type": "markdown",
      "metadata": {
        "id": "eDBFyZu4y7cx"
      },
      "source": [
        "* step 1 : สร้าง box plot ของค่า avg price จากตาราง nomissing ในชื่อ ret"
      ]
    },
    {
      "cell_type": "code",
      "metadata": {
        "id": "TYBfzke1y5s_"
      },
      "source": [
        "# import libraly pyplot มาเพื่อวาดกราฟ\n",
        "from matplotlib import pyplot as plt"
      ],
      "execution_count": 80,
      "outputs": []
    },
    {
      "cell_type": "code",
      "metadata": {
        "id": "2X99B9vbzVxL",
        "outputId": "464d7401-524a-4162-9f7e-b7b3c2d27fe6",
        "colab": {
          "base_uri": "https://localhost:8080/",
          "height": 265
        }
      },
      "source": [
        "ret = plt.boxplot(no_missing['avg_price'],vert=False)"
      ],
      "execution_count": 84,
      "outputs": [
        {
          "output_type": "display_data",
          "data": {
            "image/png": "[encoded data removed]",
            "text/plain": [
              "<Figure size 432x288 with 1 Axes>"
            ]
          },
          "metadata": {
            "tags": [],
            "needs_background": "light"
          }
        }
      ]
    },
    {
      "cell_type": "code",
      "metadata": {
        "id": "smqb2WcxzlFR",
        "outputId": "eea8ca77-21b5-4805-d93d-a476735ac1d9",
        "colab": {
          "base_uri": "https://localhost:8080/",
          "height": 51
        }
      },
      "source": [
        "ret['boxes'][0].get_xdata() #เรียกค่าจาก boxplot ของเรามาดู"
      ],
      "execution_count": 86,
      "outputs": [
        {
          "output_type": "execute_result",
          "data": {
            "text/plain": [
              "array([283.54761905, 283.54761905, 392.58547151, 392.58547151,\n",
              "       283.54761905])"
            ]
          },
          "metadata": {
            "tags": []
          },
          "execution_count": 86
        }
      ]
    },
    {
      "cell_type": "code",
      "metadata": {
        "id": "XUG0RvQj2uey"
      },
      "source": [
        "#flier => outlier ของแต่ละตัว\n",
        "#wisker => ขอบเขตของ data "
      ],
      "execution_count": 90,
      "outputs": []
    },
    {
      "cell_type": "code",
      "metadata": {
        "id": "OGUFgc043Pea",
        "outputId": "5fa5895e-12f1-42f8-d3c9-e59b36c36e7c",
        "colab": {
          "base_uri": "https://localhost:8080/",
          "height": 51
        }
      },
      "source": [
        "ret['whiskers']"
      ],
      "execution_count": 91,
      "outputs": [
        {
          "output_type": "execute_result",
          "data": {
            "text/plain": [
              "[<matplotlib.lines.Line2D at 0x7f6f4e81f780>,\n",
              " <matplotlib.lines.Line2D at 0x7f6f4e81fb00>]"
            ]
          },
          "metadata": {
            "tags": []
          },
          "execution_count": 91
        }
      ]
    },
    {
      "cell_type": "code",
      "metadata": {
        "id": "-bE565Gr3vNI",
        "outputId": "89bce76b-66c4-41d5-c819-9eb3240f347f",
        "colab": {
          "base_uri": "https://localhost:8080/",
          "height": 51
        }
      },
      "source": [
        "print(ret['whiskers'][0].get_xdata()) #wisker ฝั่งซ้าย\n",
        "print(ret['whiskers'][1].get_xdata()) #wisker ฝั่งขวา"
      ],
      "execution_count": 93,
      "outputs": [
        {
          "output_type": "stream",
          "text": [
            "[283.54761905 138.15789474]\n",
            "[392.58547151 549.        ]\n"
          ],
          "name": "stdout"
        }
      ]
    },
    {
      "cell_type": "markdown",
      "metadata": {
        "id": "vp9nQnL678tL"
      },
      "source": [
        "ค่า wisker จะreturn ออกมา ฝั่งละ 2 ค่า\n",
        "* เราต้องใช้ค่าต่ำสุดของฝั่งซ้าย และ มากสุดของ wisker ด้านขวา  เป็นค่าอ้างอิง\n",
        "* ค่าที่อยู่นอกขอบเขตนี้ เป็น outlier ต้องลบออก"
      ]
    },
    {
      "cell_type": "code",
      "metadata": {
        "id": "MA_pUqTb34vN",
        "outputId": "87a9dc1c-8eeb-4965-b0e5-708ec1522970",
        "colab": {
          "base_uri": "https://localhost:8080/",
          "height": 419
        }
      },
      "source": [
        "no_outlier_no_missing = no_missing[(no_missing['avg_price']>=ret['whiskers'][0].get_xdata()[1])] #ตัดค่าด้านซ้าย\n",
        "no_outlier_no_missing = no_outlier_no_missing[(no_outlier_no_missing['avg_price']<=ret['whiskers'][1].get_xdata()[1])] #เอาอันที่ตัดค่าด้านซ้ายมาตัดค่าด้านขวาต่อ\n",
        "no_outlier_no_missing"
      ],
      "execution_count": 102,
      "outputs": [
        {
          "output_type": "execute_result",
          "data": {
            "text/html": [
              "<div>\n",
              "<style scoped>\n",
              "    .dataframe tbody tr th:only-of-type {\n",
              "        vertical-align: middle;\n",
              "    }\n",
              "\n",
              "    .dataframe tbody tr th {\n",
              "        vertical-align: top;\n",
              "    }\n",
              "\n",
              "    .dataframe thead th {\n",
              "        text-align: right;\n",
              "    }\n",
              "</style>\n",
              "<table border=\"1\" class=\"dataframe\">\n",
              "  <thead>\n",
              "    <tr style=\"text-align: right;\">\n",
              "      <th></th>\n",
              "      <th>name</th>\n",
              "      <th>city_name</th>\n",
              "      <th>avg_price</th>\n",
              "    </tr>\n",
              "  </thead>\n",
              "  <tbody>\n",
              "    <tr>\n",
              "      <th>56391</th>\n",
              "      <td>Smoking Doll Nation Galleria</td>\n",
              "      <td>Abu Dhabi</td>\n",
              "      <td>327.447288</td>\n",
              "    </tr>\n",
              "    <tr>\n",
              "      <th>67914</th>\n",
              "      <td>PRET TO GO (Terminal 1)</td>\n",
              "      <td>Abu Dhabi</td>\n",
              "      <td>327.447288</td>\n",
              "    </tr>\n",
              "    <tr>\n",
              "      <th>123536</th>\n",
              "      <td>Keway Mai</td>\n",
              "      <td>Abu Dhabi</td>\n",
              "      <td>327.447288</td>\n",
              "    </tr>\n",
              "    <tr>\n",
              "      <th>142972</th>\n",
              "      <td>La Brioche</td>\n",
              "      <td>Abu Dhabi</td>\n",
              "      <td>327.447288</td>\n",
              "    </tr>\n",
              "    <tr>\n",
              "      <th>223144</th>\n",
              "      <td>White Dot Table</td>\n",
              "      <td>Abu Dhabi</td>\n",
              "      <td>327.447288</td>\n",
              "    </tr>\n",
              "    <tr>\n",
              "      <th>...</th>\n",
              "      <td>...</td>\n",
              "      <td>...</td>\n",
              "      <td>...</td>\n",
              "    </tr>\n",
              "    <tr>\n",
              "      <th>246412</th>\n",
              "      <td>ครัวข้าวสวย</td>\n",
              "      <td>เขาใหญ่</td>\n",
              "      <td>327.447288</td>\n",
              "    </tr>\n",
              "    <tr>\n",
              "      <th>246418</th>\n",
              "      <td>ร้านอาหารดาวเดือน</td>\n",
              "      <td>เขาใหญ่</td>\n",
              "      <td>327.447288</td>\n",
              "    </tr>\n",
              "    <tr>\n",
              "      <th>246780</th>\n",
              "      <td>กาแฟสด</td>\n",
              "      <td>เขาใหญ่</td>\n",
              "      <td>327.447288</td>\n",
              "    </tr>\n",
              "    <tr>\n",
              "      <th>246791</th>\n",
              "      <td>ยู้ ลูกชิ้นปลาเยาวราช</td>\n",
              "      <td>เขาใหญ่</td>\n",
              "      <td>327.447288</td>\n",
              "    </tr>\n",
              "    <tr>\n",
              "      <th>246832</th>\n",
              "      <td>โชคดีกาแฟ</td>\n",
              "      <td>เขาใหญ่</td>\n",
              "      <td>327.447288</td>\n",
              "    </tr>\n",
              "  </tbody>\n",
              "</table>\n",
              "<p>243843 rows × 3 columns</p>\n",
              "</div>"
            ],
            "text/plain": [
              "                                name  city_name   avg_price\n",
              "56391   Smoking Doll Nation Galleria  Abu Dhabi  327.447288\n",
              "67914        PRET TO GO (Terminal 1)  Abu Dhabi  327.447288\n",
              "123536                     Keway Mai  Abu Dhabi  327.447288\n",
              "142972                    La Brioche  Abu Dhabi  327.447288\n",
              "223144               White Dot Table  Abu Dhabi  327.447288\n",
              "...                              ...        ...         ...\n",
              "246412                   ครัวข้าวสวย    เขาใหญ่  327.447288\n",
              "246418             ร้านอาหารดาวเดือน    เขาใหญ่  327.447288\n",
              "246780                        กาแฟสด    เขาใหญ่  327.447288\n",
              "246791         ยู้ ลูกชิ้นปลาเยาวราช    เขาใหญ่  327.447288\n",
              "246832                     โชคดีกาแฟ    เขาใหญ่  327.447288\n",
              "\n",
              "[243843 rows x 3 columns]"
            ]
          },
          "metadata": {
            "tags": []
          },
          "execution_count": 102
        }
      ]
    },
    {
      "cell_type": "code",
      "metadata": {
        "id": "IOTqAWdV4NmJ",
        "outputId": "1a5bc40b-c476-4fbb-fdc0-4a5bf15b3716",
        "colab": {
          "base_uri": "https://localhost:8080/",
          "height": 34
        }
      },
      "source": [
        "#หาจำนวน outlier\n",
        "number_of_outlier = len(no_missing)-len(no_outlier_no_missing)\n",
        "number_of_outlier"
      ],
      "execution_count": 103,
      "outputs": [
        {
          "output_type": "execute_result",
          "data": {
            "text/plain": [
              "3004"
            ]
          },
          "metadata": {
            "tags": []
          },
          "execution_count": 103
        }
      ]
    },
    {
      "cell_type": "markdown",
      "metadata": {
        "id": "RgR-bRKF8Z83"
      },
      "source": [
        "#Deduplication(remove duplication) , sampling (randomly selected data) vs PCA (reduce dimension sata)"
      ]
    },
    {
      "cell_type": "markdown",
      "metadata": {
        "id": "xb6lboaY84Um"
      },
      "source": [
        "* Deduplication(remove duplication) ลบตัวที่ซ้ำ =>  ไม่ต้องการข้อมูลตัวที่ซ้ำกัน\n",
        "* sampling (randomly selected data) เลือกข้อมูลมาบางตัว (แนวตั้ง)\n",
        "* PCA  ไม่ได้ลดจำนวน data แต่ลด feature (จะเลือกมาใช้เฉพาะ feature ที่สำคัญ)\n"
      ]
    },
    {
      "cell_type": "markdown",
      "metadata": {
        "id": "UXRrYoDE9aM7"
      },
      "source": [
        "##drop duplication"
      ]
    },
    {
      "cell_type": "code",
      "metadata": {
        "id": "ZETdj9xM6QLg",
        "outputId": "18c7fcc8-4f51-4ee6-da31-d858a2003763",
        "colab": {
          "base_uri": "https://localhost:8080/",
          "height": 34
        }
      },
      "source": [
        "w_restaurant_df.shape"
      ],
      "execution_count": 105,
      "outputs": [
        {
          "output_type": "execute_result",
          "data": {
            "text/plain": [
              "(246847, 32)"
            ]
          },
          "metadata": {
            "tags": []
          },
          "execution_count": 105
        }
      ]
    },
    {
      "cell_type": "code",
      "metadata": {
        "id": "houknFo29fVy",
        "outputId": "3ebcb5ca-52a4-4314-d880-20df57dcd063",
        "colab": {
          "base_uri": "https://localhost:8080/",
          "height": 34
        }
      },
      "source": [
        "w_restaurant_df.drop_duplicates().shape #drop_duplicates() เช็คทุกคอลัมที่ซ้ำกัน (ต่างจาก drop.na ที่ ตัดเฉพาะ missing)"
      ],
      "execution_count": 107,
      "outputs": [
        {
          "output_type": "execute_result",
          "data": {
            "text/plain": [
              "(246847, 32)"
            ]
          },
          "metadata": {
            "tags": []
          },
          "execution_count": 107
        }
      ]
    },
    {
      "cell_type": "code",
      "metadata": {
        "id": "W7gyy17c9qw2",
        "outputId": "a7a97555-69ff-48e2-e6d6-08a9e1c4fc3a",
        "colab": {
          "base_uri": "https://localhost:8080/",
          "height": 34
        }
      },
      "source": [
        "w_restaurant_df.drop_duplicates(subset=['name']).shape #เลือก subset เฉพาะคอลัมม์ที่เราสนใจ เช่น อยากรู้ว่ามีอันไหนที่ชื่อซ้ำกันบ้าง เลยใส่ subset เป็น 'name'"
      ],
      "execution_count": 109,
      "outputs": [
        {
          "output_type": "execute_result",
          "data": {
            "text/plain": [
              "(203707, 32)"
            ]
          },
          "metadata": {
            "tags": []
          },
          "execution_count": 109
        }
      ]
    },
    {
      "cell_type": "markdown",
      "metadata": {
        "id": "sQJlIhCz-RAd"
      },
      "source": [
        "#Ex.11 sample 1 restaurant from each city using drop_duplicates"
      ]
    },
    {
      "cell_type": "code",
      "metadata": {
        "id": "RcZDc7mJ-BKV",
        "outputId": "dd04637b-03d9-4812-ed98-c210693d50fb",
        "colab": {
          "base_uri": "https://localhost:8080/",
          "height": 762
        }
      },
      "source": [
        "w_restaurant_df #ตารางข้อมูลทั้งหมด"
      ],
      "execution_count": 115,
      "outputs": [
        {
          "output_type": "execute_result",
          "data": {
            "text/html": [
              "<div>\n",
              "<style scoped>\n",
              "    .dataframe tbody tr th:only-of-type {\n",
              "        vertical-align: middle;\n",
              "    }\n",
              "\n",
              "    .dataframe tbody tr th {\n",
              "        vertical-align: top;\n",
              "    }\n",
              "\n",
              "    .dataframe thead th {\n",
              "        text-align: right;\n",
              "    }\n",
              "</style>\n",
              "<table border=\"1\" class=\"dataframe\">\n",
              "  <thead>\n",
              "    <tr style=\"text-align: right;\">\n",
              "      <th></th>\n",
              "      <th>id</th>\n",
              "      <th>name</th>\n",
              "      <th>domain_id</th>\n",
              "      <th>closed</th>\n",
              "      <th>city_name</th>\n",
              "      <th>zipcode</th>\n",
              "      <th>geohash</th>\n",
              "      <th>new_open</th>\n",
              "      <th>weighted_average_rating</th>\n",
              "      <th>number_of_chains</th>\n",
              "      <th>number_of_bookmarks</th>\n",
              "      <th>number_of_reviews</th>\n",
              "      <th>number_of_product_tags</th>\n",
              "      <th>total_number_of_views</th>\n",
              "      <th>number_of_checkins</th>\n",
              "      <th>number_of_menu_groups</th>\n",
              "      <th>number_of_menu_photos</th>\n",
              "      <th>category_name</th>\n",
              "      <th>price_range</th>\n",
              "      <th>avg_price</th>\n",
              "      <th>parking</th>\n",
              "      <th>credit_card_accepted</th>\n",
              "      <th>good_for_groups</th>\n",
              "      <th>good_for_kids</th>\n",
              "      <th>bookable</th>\n",
              "      <th>best_of_wongnai</th>\n",
              "      <th>wifi</th>\n",
              "      <th>number_of_seats</th>\n",
              "      <th>music_venue</th>\n",
              "      <th>hotel_restaurant</th>\n",
              "      <th>pet_friendly</th>\n",
              "      <th>delivery</th>\n",
              "    </tr>\n",
              "  </thead>\n",
              "  <tbody>\n",
              "    <tr>\n",
              "      <th>0</th>\n",
              "      <td>2</td>\n",
              "      <td>นครินทร์ทันตกรรม</td>\n",
              "      <td>2</td>\n",
              "      <td>0</td>\n",
              "      <td>Samut Songkhram</td>\n",
              "      <td>75000</td>\n",
              "      <td>w4rh7g3</td>\n",
              "      <td>0</td>\n",
              "      <td>5.000000</td>\n",
              "      <td>0.0</td>\n",
              "      <td>NaN</td>\n",
              "      <td>1</td>\n",
              "      <td>0</td>\n",
              "      <td>3016</td>\n",
              "      <td>0</td>\n",
              "      <td>0</td>\n",
              "      <td>0</td>\n",
              "      <td>Orthodontic</td>\n",
              "      <td>NaN</td>\n",
              "      <td>NaN</td>\n",
              "      <td>3.0</td>\n",
              "      <td>0.0</td>\n",
              "      <td>NaN</td>\n",
              "      <td>NaN</td>\n",
              "      <td>NaN</td>\n",
              "      <td>NaN</td>\n",
              "      <td>NaN</td>\n",
              "      <td>13.0</td>\n",
              "      <td>NaN</td>\n",
              "      <td>NaN</td>\n",
              "      <td>NaN</td>\n",
              "      <td>NaN</td>\n",
              "    </tr>\n",
              "    <tr>\n",
              "      <th>1</th>\n",
              "      <td>4</td>\n",
              "      <td>Corner House</td>\n",
              "      <td>1</td>\n",
              "      <td>0</td>\n",
              "      <td>Bangkok Metropolitan Region</td>\n",
              "      <td>12150</td>\n",
              "      <td>w4rx73h</td>\n",
              "      <td>0</td>\n",
              "      <td>2.000000</td>\n",
              "      <td>0.0</td>\n",
              "      <td>NaN</td>\n",
              "      <td>1</td>\n",
              "      <td>0</td>\n",
              "      <td>321</td>\n",
              "      <td>0</td>\n",
              "      <td>0</td>\n",
              "      <td>1</td>\n",
              "      <td>Quick Meal</td>\n",
              "      <td>1.0</td>\n",
              "      <td>NaN</td>\n",
              "      <td>1.0</td>\n",
              "      <td>NaN</td>\n",
              "      <td>NaN</td>\n",
              "      <td>NaN</td>\n",
              "      <td>NaN</td>\n",
              "      <td>NaN</td>\n",
              "      <td>NaN</td>\n",
              "      <td>NaN</td>\n",
              "      <td>NaN</td>\n",
              "      <td>NaN</td>\n",
              "      <td>NaN</td>\n",
              "      <td>NaN</td>\n",
              "    </tr>\n",
              "    <tr>\n",
              "      <th>2</th>\n",
              "      <td>5</td>\n",
              "      <td>วัดโลกยสุธาราม</td>\n",
              "      <td>4</td>\n",
              "      <td>0</td>\n",
              "      <td>Phra Nakhon Si Ayutthaya</td>\n",
              "      <td>13000</td>\n",
              "      <td>w4x98jk</td>\n",
              "      <td>0</td>\n",
              "      <td>4.000000</td>\n",
              "      <td>0.0</td>\n",
              "      <td>1.0</td>\n",
              "      <td>0</td>\n",
              "      <td>0</td>\n",
              "      <td>167</td>\n",
              "      <td>0</td>\n",
              "      <td>0</td>\n",
              "      <td>0</td>\n",
              "      <td>Historical/Religion</td>\n",
              "      <td>NaN</td>\n",
              "      <td>NaN</td>\n",
              "      <td>1.0</td>\n",
              "      <td>NaN</td>\n",
              "      <td>NaN</td>\n",
              "      <td>NaN</td>\n",
              "      <td>NaN</td>\n",
              "      <td>NaN</td>\n",
              "      <td>NaN</td>\n",
              "      <td>NaN</td>\n",
              "      <td>NaN</td>\n",
              "      <td>NaN</td>\n",
              "      <td>NaN</td>\n",
              "      <td>NaN</td>\n",
              "    </tr>\n",
              "    <tr>\n",
              "      <th>3</th>\n",
              "      <td>6</td>\n",
              "      <td>นันท์คาราโอเกะ</td>\n",
              "      <td>1</td>\n",
              "      <td>0</td>\n",
              "      <td>Bangkok Metropolitan Region</td>\n",
              "      <td>10700</td>\n",
              "      <td>w4rqw9q</td>\n",
              "      <td>0</td>\n",
              "      <td>0.000000</td>\n",
              "      <td>0.0</td>\n",
              "      <td>NaN</td>\n",
              "      <td>0</td>\n",
              "      <td>0</td>\n",
              "      <td>901</td>\n",
              "      <td>0</td>\n",
              "      <td>0</td>\n",
              "      <td>0</td>\n",
              "      <td>Karaoke</td>\n",
              "      <td>NaN</td>\n",
              "      <td>NaN</td>\n",
              "      <td>NaN</td>\n",
              "      <td>NaN</td>\n",
              "      <td>NaN</td>\n",
              "      <td>NaN</td>\n",
              "      <td>NaN</td>\n",
              "      <td>NaN</td>\n",
              "      <td>NaN</td>\n",
              "      <td>NaN</td>\n",
              "      <td>NaN</td>\n",
              "      <td>NaN</td>\n",
              "      <td>NaN</td>\n",
              "      <td>NaN</td>\n",
              "    </tr>\n",
              "    <tr>\n",
              "      <th>4</th>\n",
              "      <td>7</td>\n",
              "      <td>Buono Caffe</td>\n",
              "      <td>1</td>\n",
              "      <td>0</td>\n",
              "      <td>Bangkok Metropolitan Region</td>\n",
              "      <td>10220</td>\n",
              "      <td>w4rx4gd</td>\n",
              "      <td>0</td>\n",
              "      <td>3.738462</td>\n",
              "      <td>0.0</td>\n",
              "      <td>15.0</td>\n",
              "      <td>3</td>\n",
              "      <td>0</td>\n",
              "      <td>2360</td>\n",
              "      <td>1</td>\n",
              "      <td>0</td>\n",
              "      <td>2</td>\n",
              "      <td>Café/Coffee Shop</td>\n",
              "      <td>1.0</td>\n",
              "      <td>NaN</td>\n",
              "      <td>1.0</td>\n",
              "      <td>0.0</td>\n",
              "      <td>NaN</td>\n",
              "      <td>NaN</td>\n",
              "      <td>NaN</td>\n",
              "      <td>NaN</td>\n",
              "      <td>1.0</td>\n",
              "      <td>2.0</td>\n",
              "      <td>NaN</td>\n",
              "      <td>NaN</td>\n",
              "      <td>NaN</td>\n",
              "      <td>NaN</td>\n",
              "    </tr>\n",
              "    <tr>\n",
              "      <th>...</th>\n",
              "      <td>...</td>\n",
              "      <td>...</td>\n",
              "      <td>...</td>\n",
              "      <td>...</td>\n",
              "      <td>...</td>\n",
              "      <td>...</td>\n",
              "      <td>...</td>\n",
              "      <td>...</td>\n",
              "      <td>...</td>\n",
              "      <td>...</td>\n",
              "      <td>...</td>\n",
              "      <td>...</td>\n",
              "      <td>...</td>\n",
              "      <td>...</td>\n",
              "      <td>...</td>\n",
              "      <td>...</td>\n",
              "      <td>...</td>\n",
              "      <td>...</td>\n",
              "      <td>...</td>\n",
              "      <td>...</td>\n",
              "      <td>...</td>\n",
              "      <td>...</td>\n",
              "      <td>...</td>\n",
              "      <td>...</td>\n",
              "      <td>...</td>\n",
              "      <td>...</td>\n",
              "      <td>...</td>\n",
              "      <td>...</td>\n",
              "      <td>...</td>\n",
              "      <td>...</td>\n",
              "      <td>...</td>\n",
              "      <td>...</td>\n",
              "    </tr>\n",
              "    <tr>\n",
              "      <th>246842</th>\n",
              "      <td>340068</td>\n",
              "      <td>Sushi Tama</td>\n",
              "      <td>1</td>\n",
              "      <td>0</td>\n",
              "      <td>Bangkok Metropolitan Region</td>\n",
              "      <td>11130</td>\n",
              "      <td>w4rqtcb</td>\n",
              "      <td>0</td>\n",
              "      <td>3.663522</td>\n",
              "      <td>3.0</td>\n",
              "      <td>40.0</td>\n",
              "      <td>27</td>\n",
              "      <td>1</td>\n",
              "      <td>10118</td>\n",
              "      <td>18</td>\n",
              "      <td>0</td>\n",
              "      <td>21</td>\n",
              "      <td>Sushi</td>\n",
              "      <td>2.0</td>\n",
              "      <td>NaN</td>\n",
              "      <td>3.0</td>\n",
              "      <td>1.0</td>\n",
              "      <td>0.0</td>\n",
              "      <td>1.0</td>\n",
              "      <td>0.0</td>\n",
              "      <td>NaN</td>\n",
              "      <td>0.0</td>\n",
              "      <td>NaN</td>\n",
              "      <td>NaN</td>\n",
              "      <td>NaN</td>\n",
              "      <td>NaN</td>\n",
              "      <td>NaN</td>\n",
              "    </tr>\n",
              "    <tr>\n",
              "      <th>246843</th>\n",
              "      <td>340070</td>\n",
              "      <td>สะบายดี คาราโอเกะ</td>\n",
              "      <td>1</td>\n",
              "      <td>0</td>\n",
              "      <td>Bangkok Metropolitan Region</td>\n",
              "      <td>NaN</td>\n",
              "      <td>w4rwjcg</td>\n",
              "      <td>0</td>\n",
              "      <td>0.000000</td>\n",
              "      <td>0.0</td>\n",
              "      <td>1.0</td>\n",
              "      <td>0</td>\n",
              "      <td>0</td>\n",
              "      <td>537</td>\n",
              "      <td>1</td>\n",
              "      <td>0</td>\n",
              "      <td>0</td>\n",
              "      <td>Karaoke</td>\n",
              "      <td>1.0</td>\n",
              "      <td>NaN</td>\n",
              "      <td>3.0</td>\n",
              "      <td>0.0</td>\n",
              "      <td>1.0</td>\n",
              "      <td>NaN</td>\n",
              "      <td>1.0</td>\n",
              "      <td>NaN</td>\n",
              "      <td>NaN</td>\n",
              "      <td>2.0</td>\n",
              "      <td>NaN</td>\n",
              "      <td>NaN</td>\n",
              "      <td>NaN</td>\n",
              "      <td>NaN</td>\n",
              "    </tr>\n",
              "    <tr>\n",
              "      <th>246844</th>\n",
              "      <td>340074</td>\n",
              "      <td>สเต็กแม่&amp;กาแฟลูก</td>\n",
              "      <td>1</td>\n",
              "      <td>0</td>\n",
              "      <td>Bangkok Metropolitan Region</td>\n",
              "      <td>10160</td>\n",
              "      <td>w4rmvxf</td>\n",
              "      <td>0</td>\n",
              "      <td>4.000000</td>\n",
              "      <td>0.0</td>\n",
              "      <td>11.0</td>\n",
              "      <td>1</td>\n",
              "      <td>0</td>\n",
              "      <td>1268</td>\n",
              "      <td>3</td>\n",
              "      <td>0</td>\n",
              "      <td>6</td>\n",
              "      <td>Steak House/Barbeque</td>\n",
              "      <td>2.0</td>\n",
              "      <td>NaN</td>\n",
              "      <td>1.0</td>\n",
              "      <td>0.0</td>\n",
              "      <td>1.0</td>\n",
              "      <td>1.0</td>\n",
              "      <td>1.0</td>\n",
              "      <td>NaN</td>\n",
              "      <td>NaN</td>\n",
              "      <td>NaN</td>\n",
              "      <td>NaN</td>\n",
              "      <td>NaN</td>\n",
              "      <td>NaN</td>\n",
              "      <td>NaN</td>\n",
              "    </tr>\n",
              "    <tr>\n",
              "      <th>246845</th>\n",
              "      <td>340079</td>\n",
              "      <td>Mom Made</td>\n",
              "      <td>1</td>\n",
              "      <td>0</td>\n",
              "      <td>Nakhon Si Thammarat</td>\n",
              "      <td>80000</td>\n",
              "      <td>w1x04g6</td>\n",
              "      <td>0</td>\n",
              "      <td>5.000000</td>\n",
              "      <td>0.0</td>\n",
              "      <td>6.0</td>\n",
              "      <td>1</td>\n",
              "      <td>2</td>\n",
              "      <td>4031</td>\n",
              "      <td>0</td>\n",
              "      <td>0</td>\n",
              "      <td>2</td>\n",
              "      <td>Café/Coffee Shop</td>\n",
              "      <td>1.0</td>\n",
              "      <td>NaN</td>\n",
              "      <td>3.0</td>\n",
              "      <td>0.0</td>\n",
              "      <td>1.0</td>\n",
              "      <td>1.0</td>\n",
              "      <td>1.0</td>\n",
              "      <td>NaN</td>\n",
              "      <td>NaN</td>\n",
              "      <td>NaN</td>\n",
              "      <td>NaN</td>\n",
              "      <td>NaN</td>\n",
              "      <td>NaN</td>\n",
              "      <td>NaN</td>\n",
              "    </tr>\n",
              "    <tr>\n",
              "      <th>246846</th>\n",
              "      <td>340091</td>\n",
              "      <td>ก๋วยเตี๋ยวหมูน้ำตก ก๋วยเตี๋ยวเรือทอง</td>\n",
              "      <td>1</td>\n",
              "      <td>0</td>\n",
              "      <td>Suphan Buri</td>\n",
              "      <td>72000</td>\n",
              "      <td>w4x4q7s</td>\n",
              "      <td>0</td>\n",
              "      <td>3.000000</td>\n",
              "      <td>0.0</td>\n",
              "      <td>NaN</td>\n",
              "      <td>1</td>\n",
              "      <td>1</td>\n",
              "      <td>191</td>\n",
              "      <td>0</td>\n",
              "      <td>0</td>\n",
              "      <td>0</td>\n",
              "      <td>Noodles</td>\n",
              "      <td>1.0</td>\n",
              "      <td>NaN</td>\n",
              "      <td>NaN</td>\n",
              "      <td>NaN</td>\n",
              "      <td>NaN</td>\n",
              "      <td>NaN</td>\n",
              "      <td>NaN</td>\n",
              "      <td>NaN</td>\n",
              "      <td>NaN</td>\n",
              "      <td>NaN</td>\n",
              "      <td>NaN</td>\n",
              "      <td>NaN</td>\n",
              "      <td>NaN</td>\n",
              "      <td>NaN</td>\n",
              "    </tr>\n",
              "  </tbody>\n",
              "</table>\n",
              "<p>246847 rows × 32 columns</p>\n",
              "</div>"
            ],
            "text/plain": [
              "            id                                  name  ...  pet_friendly  delivery\n",
              "0            2                      นครินทร์ทันตกรรม  ...           NaN       NaN\n",
              "1            4                          Corner House  ...           NaN       NaN\n",
              "2            5                        วัดโลกยสุธาราม  ...           NaN       NaN\n",
              "3            6                        นันท์คาราโอเกะ  ...           NaN       NaN\n",
              "4            7                           Buono Caffe  ...           NaN       NaN\n",
              "...        ...                                   ...  ...           ...       ...\n",
              "246842  340068                            Sushi Tama  ...           NaN       NaN\n",
              "246843  340070                     สะบายดี คาราโอเกะ  ...           NaN       NaN\n",
              "246844  340074                      สเต็กแม่&กาแฟลูก  ...           NaN       NaN\n",
              "246845  340079                              Mom Made  ...           NaN       NaN\n",
              "246846  340091  ก๋วยเตี๋ยวหมูน้ำตก ก๋วยเตี๋ยวเรือทอง  ...           NaN       NaN\n",
              "\n",
              "[246847 rows x 32 columns]"
            ]
          },
          "metadata": {
            "tags": []
          },
          "execution_count": 115
        }
      ]
    },
    {
      "cell_type": "code",
      "metadata": {
        "id": "a1fJQt7R-nWp",
        "outputId": "cff22074-c472-49b0-e2f7-97302d5e8e00",
        "colab": {
          "base_uri": "https://localhost:8080/",
          "height": 643
        }
      },
      "source": [
        "w_restaurant_df.drop_duplicates(subset=['city_name']) #ห้ามให้city_name ซ้ำกัน"
      ],
      "execution_count": 116,
      "outputs": [
        {
          "output_type": "execute_result",
          "data": {
            "text/html": [
              "<div>\n",
              "<style scoped>\n",
              "    .dataframe tbody tr th:only-of-type {\n",
              "        vertical-align: middle;\n",
              "    }\n",
              "\n",
              "    .dataframe tbody tr th {\n",
              "        vertical-align: top;\n",
              "    }\n",
              "\n",
              "    .dataframe thead th {\n",
              "        text-align: right;\n",
              "    }\n",
              "</style>\n",
              "<table border=\"1\" class=\"dataframe\">\n",
              "  <thead>\n",
              "    <tr style=\"text-align: right;\">\n",
              "      <th></th>\n",
              "      <th>id</th>\n",
              "      <th>name</th>\n",
              "      <th>domain_id</th>\n",
              "      <th>closed</th>\n",
              "      <th>city_name</th>\n",
              "      <th>zipcode</th>\n",
              "      <th>geohash</th>\n",
              "      <th>new_open</th>\n",
              "      <th>weighted_average_rating</th>\n",
              "      <th>number_of_chains</th>\n",
              "      <th>number_of_bookmarks</th>\n",
              "      <th>number_of_reviews</th>\n",
              "      <th>number_of_product_tags</th>\n",
              "      <th>total_number_of_views</th>\n",
              "      <th>number_of_checkins</th>\n",
              "      <th>number_of_menu_groups</th>\n",
              "      <th>number_of_menu_photos</th>\n",
              "      <th>category_name</th>\n",
              "      <th>price_range</th>\n",
              "      <th>avg_price</th>\n",
              "      <th>parking</th>\n",
              "      <th>credit_card_accepted</th>\n",
              "      <th>good_for_groups</th>\n",
              "      <th>good_for_kids</th>\n",
              "      <th>bookable</th>\n",
              "      <th>best_of_wongnai</th>\n",
              "      <th>wifi</th>\n",
              "      <th>number_of_seats</th>\n",
              "      <th>music_venue</th>\n",
              "      <th>hotel_restaurant</th>\n",
              "      <th>pet_friendly</th>\n",
              "      <th>delivery</th>\n",
              "    </tr>\n",
              "  </thead>\n",
              "  <tbody>\n",
              "    <tr>\n",
              "      <th>0</th>\n",
              "      <td>2</td>\n",
              "      <td>นครินทร์ทันตกรรม</td>\n",
              "      <td>2</td>\n",
              "      <td>0</td>\n",
              "      <td>Samut Songkhram</td>\n",
              "      <td>75000</td>\n",
              "      <td>w4rh7g3</td>\n",
              "      <td>0</td>\n",
              "      <td>5.0</td>\n",
              "      <td>0.0</td>\n",
              "      <td>NaN</td>\n",
              "      <td>1</td>\n",
              "      <td>0</td>\n",
              "      <td>3016</td>\n",
              "      <td>0</td>\n",
              "      <td>0</td>\n",
              "      <td>0</td>\n",
              "      <td>Orthodontic</td>\n",
              "      <td>NaN</td>\n",
              "      <td>NaN</td>\n",
              "      <td>3.0</td>\n",
              "      <td>0.0</td>\n",
              "      <td>NaN</td>\n",
              "      <td>NaN</td>\n",
              "      <td>NaN</td>\n",
              "      <td>NaN</td>\n",
              "      <td>NaN</td>\n",
              "      <td>13.0</td>\n",
              "      <td>NaN</td>\n",
              "      <td>NaN</td>\n",
              "      <td>NaN</td>\n",
              "      <td>NaN</td>\n",
              "    </tr>\n",
              "    <tr>\n",
              "      <th>1</th>\n",
              "      <td>4</td>\n",
              "      <td>Corner House</td>\n",
              "      <td>1</td>\n",
              "      <td>0</td>\n",
              "      <td>Bangkok Metropolitan Region</td>\n",
              "      <td>12150</td>\n",
              "      <td>w4rx73h</td>\n",
              "      <td>0</td>\n",
              "      <td>2.0</td>\n",
              "      <td>0.0</td>\n",
              "      <td>NaN</td>\n",
              "      <td>1</td>\n",
              "      <td>0</td>\n",
              "      <td>321</td>\n",
              "      <td>0</td>\n",
              "      <td>0</td>\n",
              "      <td>1</td>\n",
              "      <td>Quick Meal</td>\n",
              "      <td>1.0</td>\n",
              "      <td>NaN</td>\n",
              "      <td>1.0</td>\n",
              "      <td>NaN</td>\n",
              "      <td>NaN</td>\n",
              "      <td>NaN</td>\n",
              "      <td>NaN</td>\n",
              "      <td>NaN</td>\n",
              "      <td>NaN</td>\n",
              "      <td>NaN</td>\n",
              "      <td>NaN</td>\n",
              "      <td>NaN</td>\n",
              "      <td>NaN</td>\n",
              "      <td>NaN</td>\n",
              "    </tr>\n",
              "    <tr>\n",
              "      <th>2</th>\n",
              "      <td>5</td>\n",
              "      <td>วัดโลกยสุธาราม</td>\n",
              "      <td>4</td>\n",
              "      <td>0</td>\n",
              "      <td>Phra Nakhon Si Ayutthaya</td>\n",
              "      <td>13000</td>\n",
              "      <td>w4x98jk</td>\n",
              "      <td>0</td>\n",
              "      <td>4.0</td>\n",
              "      <td>0.0</td>\n",
              "      <td>1.0</td>\n",
              "      <td>0</td>\n",
              "      <td>0</td>\n",
              "      <td>167</td>\n",
              "      <td>0</td>\n",
              "      <td>0</td>\n",
              "      <td>0</td>\n",
              "      <td>Historical/Religion</td>\n",
              "      <td>NaN</td>\n",
              "      <td>NaN</td>\n",
              "      <td>1.0</td>\n",
              "      <td>NaN</td>\n",
              "      <td>NaN</td>\n",
              "      <td>NaN</td>\n",
              "      <td>NaN</td>\n",
              "      <td>NaN</td>\n",
              "      <td>NaN</td>\n",
              "      <td>NaN</td>\n",
              "      <td>NaN</td>\n",
              "      <td>NaN</td>\n",
              "      <td>NaN</td>\n",
              "      <td>NaN</td>\n",
              "    </tr>\n",
              "    <tr>\n",
              "      <th>5</th>\n",
              "      <td>14</td>\n",
              "      <td>บ้านมุมสบาย</td>\n",
              "      <td>1</td>\n",
              "      <td>0</td>\n",
              "      <td>Chon Buri</td>\n",
              "      <td>NaN</td>\n",
              "      <td>w4rgsyz</td>\n",
              "      <td>0</td>\n",
              "      <td>5.0</td>\n",
              "      <td>0.0</td>\n",
              "      <td>2.0</td>\n",
              "      <td>0</td>\n",
              "      <td>0</td>\n",
              "      <td>930</td>\n",
              "      <td>0</td>\n",
              "      <td>0</td>\n",
              "      <td>0</td>\n",
              "      <td>Thai</td>\n",
              "      <td>3.0</td>\n",
              "      <td>NaN</td>\n",
              "      <td>1.0</td>\n",
              "      <td>1.0</td>\n",
              "      <td>1.0</td>\n",
              "      <td>1.0</td>\n",
              "      <td>1.0</td>\n",
              "      <td>NaN</td>\n",
              "      <td>1.0</td>\n",
              "      <td>5.0</td>\n",
              "      <td>1.0</td>\n",
              "      <td>0.0</td>\n",
              "      <td>0.0</td>\n",
              "      <td>0.0</td>\n",
              "    </tr>\n",
              "    <tr>\n",
              "      <th>6</th>\n",
              "      <td>15</td>\n",
              "      <td>Hing Fat Resteurant</td>\n",
              "      <td>1</td>\n",
              "      <td>0</td>\n",
              "      <td>New Territories</td>\n",
              "      <td>NaN</td>\n",
              "      <td>wecny4b</td>\n",
              "      <td>0</td>\n",
              "      <td>3.0</td>\n",
              "      <td>0.0</td>\n",
              "      <td>1.0</td>\n",
              "      <td>3</td>\n",
              "      <td>1</td>\n",
              "      <td>859</td>\n",
              "      <td>1</td>\n",
              "      <td>0</td>\n",
              "      <td>2</td>\n",
              "      <td>Noodles</td>\n",
              "      <td>4.0</td>\n",
              "      <td>NaN</td>\n",
              "      <td>0.0</td>\n",
              "      <td>NaN</td>\n",
              "      <td>NaN</td>\n",
              "      <td>NaN</td>\n",
              "      <td>NaN</td>\n",
              "      <td>NaN</td>\n",
              "      <td>NaN</td>\n",
              "      <td>NaN</td>\n",
              "      <td>NaN</td>\n",
              "      <td>NaN</td>\n",
              "      <td>NaN</td>\n",
              "      <td>NaN</td>\n",
              "    </tr>\n",
              "    <tr>\n",
              "      <th>...</th>\n",
              "      <td>...</td>\n",
              "      <td>...</td>\n",
              "      <td>...</td>\n",
              "      <td>...</td>\n",
              "      <td>...</td>\n",
              "      <td>...</td>\n",
              "      <td>...</td>\n",
              "      <td>...</td>\n",
              "      <td>...</td>\n",
              "      <td>...</td>\n",
              "      <td>...</td>\n",
              "      <td>...</td>\n",
              "      <td>...</td>\n",
              "      <td>...</td>\n",
              "      <td>...</td>\n",
              "      <td>...</td>\n",
              "      <td>...</td>\n",
              "      <td>...</td>\n",
              "      <td>...</td>\n",
              "      <td>...</td>\n",
              "      <td>...</td>\n",
              "      <td>...</td>\n",
              "      <td>...</td>\n",
              "      <td>...</td>\n",
              "      <td>...</td>\n",
              "      <td>...</td>\n",
              "      <td>...</td>\n",
              "      <td>...</td>\n",
              "      <td>...</td>\n",
              "      <td>...</td>\n",
              "      <td>...</td>\n",
              "      <td>...</td>\n",
              "    </tr>\n",
              "    <tr>\n",
              "      <th>230650</th>\n",
              "      <td>321282</td>\n",
              "      <td>Tuong Cafe</td>\n",
              "      <td>1</td>\n",
              "      <td>0</td>\n",
              "      <td>tỉnh Kiên Giang</td>\n",
              "      <td>NaN</td>\n",
              "      <td>w3cfjsh</td>\n",
              "      <td>0</td>\n",
              "      <td>0.0</td>\n",
              "      <td>0.0</td>\n",
              "      <td>NaN</td>\n",
              "      <td>0</td>\n",
              "      <td>0</td>\n",
              "      <td>48</td>\n",
              "      <td>1</td>\n",
              "      <td>0</td>\n",
              "      <td>0</td>\n",
              "      <td>Vietnam</td>\n",
              "      <td>1.0</td>\n",
              "      <td>NaN</td>\n",
              "      <td>NaN</td>\n",
              "      <td>NaN</td>\n",
              "      <td>NaN</td>\n",
              "      <td>NaN</td>\n",
              "      <td>NaN</td>\n",
              "      <td>NaN</td>\n",
              "      <td>NaN</td>\n",
              "      <td>NaN</td>\n",
              "      <td>NaN</td>\n",
              "      <td>NaN</td>\n",
              "      <td>NaN</td>\n",
              "      <td>NaN</td>\n",
              "    </tr>\n",
              "    <tr>\n",
              "      <th>239005</th>\n",
              "      <td>331078</td>\n",
              "      <td>Matahari</td>\n",
              "      <td>1</td>\n",
              "      <td>0</td>\n",
              "      <td>Nusa Tenggara Barat</td>\n",
              "      <td>NaN</td>\n",
              "      <td>qw6x8ub</td>\n",
              "      <td>0</td>\n",
              "      <td>3.0</td>\n",
              "      <td>0.0</td>\n",
              "      <td>NaN</td>\n",
              "      <td>1</td>\n",
              "      <td>0</td>\n",
              "      <td>120</td>\n",
              "      <td>1</td>\n",
              "      <td>0</td>\n",
              "      <td>0</td>\n",
              "      <td>International</td>\n",
              "      <td>2.0</td>\n",
              "      <td>NaN</td>\n",
              "      <td>1.0</td>\n",
              "      <td>NaN</td>\n",
              "      <td>NaN</td>\n",
              "      <td>NaN</td>\n",
              "      <td>NaN</td>\n",
              "      <td>NaN</td>\n",
              "      <td>NaN</td>\n",
              "      <td>NaN</td>\n",
              "      <td>NaN</td>\n",
              "      <td>NaN</td>\n",
              "      <td>NaN</td>\n",
              "      <td>NaN</td>\n",
              "    </tr>\n",
              "    <tr>\n",
              "      <th>241165</th>\n",
              "      <td>333510</td>\n",
              "      <td>Seed cafe</td>\n",
              "      <td>1</td>\n",
              "      <td>0</td>\n",
              "      <td>Louisiana</td>\n",
              "      <td>10900</td>\n",
              "      <td>9vrkknk</td>\n",
              "      <td>0</td>\n",
              "      <td>0.0</td>\n",
              "      <td>0.0</td>\n",
              "      <td>NaN</td>\n",
              "      <td>0</td>\n",
              "      <td>0</td>\n",
              "      <td>99</td>\n",
              "      <td>0</td>\n",
              "      <td>0</td>\n",
              "      <td>0</td>\n",
              "      <td>Thai</td>\n",
              "      <td>1.0</td>\n",
              "      <td>NaN</td>\n",
              "      <td>NaN</td>\n",
              "      <td>1.0</td>\n",
              "      <td>NaN</td>\n",
              "      <td>NaN</td>\n",
              "      <td>NaN</td>\n",
              "      <td>NaN</td>\n",
              "      <td>NaN</td>\n",
              "      <td>NaN</td>\n",
              "      <td>NaN</td>\n",
              "      <td>NaN</td>\n",
              "      <td>NaN</td>\n",
              "      <td>NaN</td>\n",
              "    </tr>\n",
              "    <tr>\n",
              "      <th>243902</th>\n",
              "      <td>336548</td>\n",
              "      <td>北門口肉圓</td>\n",
              "      <td>1</td>\n",
              "      <td>0</td>\n",
              "      <td>Changhua County</td>\n",
              "      <td>NaN</td>\n",
              "      <td>wsm9nbp</td>\n",
              "      <td>0</td>\n",
              "      <td>3.0</td>\n",
              "      <td>0.0</td>\n",
              "      <td>1.0</td>\n",
              "      <td>1</td>\n",
              "      <td>0</td>\n",
              "      <td>129</td>\n",
              "      <td>1</td>\n",
              "      <td>0</td>\n",
              "      <td>0</td>\n",
              "      <td>Fastfood</td>\n",
              "      <td>1.0</td>\n",
              "      <td>NaN</td>\n",
              "      <td>0.0</td>\n",
              "      <td>0.0</td>\n",
              "      <td>1.0</td>\n",
              "      <td>1.0</td>\n",
              "      <td>0.0</td>\n",
              "      <td>NaN</td>\n",
              "      <td>0.0</td>\n",
              "      <td>2.0</td>\n",
              "      <td>NaN</td>\n",
              "      <td>NaN</td>\n",
              "      <td>NaN</td>\n",
              "      <td>NaN</td>\n",
              "    </tr>\n",
              "    <tr>\n",
              "      <th>245832</th>\n",
              "      <td>338765</td>\n",
              "      <td>Clocktower Cafe</td>\n",
              "      <td>1</td>\n",
              "      <td>0</td>\n",
              "      <td>New Zealand</td>\n",
              "      <td>NaN</td>\n",
              "      <td>rb3sfrk</td>\n",
              "      <td>0</td>\n",
              "      <td>4.0</td>\n",
              "      <td>0.0</td>\n",
              "      <td>NaN</td>\n",
              "      <td>1</td>\n",
              "      <td>0</td>\n",
              "      <td>62</td>\n",
              "      <td>1</td>\n",
              "      <td>0</td>\n",
              "      <td>0</td>\n",
              "      <td>Cafe</td>\n",
              "      <td>3.0</td>\n",
              "      <td>NaN</td>\n",
              "      <td>1.0</td>\n",
              "      <td>1.0</td>\n",
              "      <td>1.0</td>\n",
              "      <td>1.0</td>\n",
              "      <td>1.0</td>\n",
              "      <td>NaN</td>\n",
              "      <td>0.0</td>\n",
              "      <td>2.0</td>\n",
              "      <td>NaN</td>\n",
              "      <td>NaN</td>\n",
              "      <td>NaN</td>\n",
              "      <td>NaN</td>\n",
              "    </tr>\n",
              "  </tbody>\n",
              "</table>\n",
              "<p>479 rows × 32 columns</p>\n",
              "</div>"
            ],
            "text/plain": [
              "            id                 name  ...  pet_friendly  delivery\n",
              "0            2     นครินทร์ทันตกรรม  ...           NaN       NaN\n",
              "1            4         Corner House  ...           NaN       NaN\n",
              "2            5       วัดโลกยสุธาราม  ...           NaN       NaN\n",
              "5           14          บ้านมุมสบาย  ...           0.0       0.0\n",
              "6           15  Hing Fat Resteurant  ...           NaN       NaN\n",
              "...        ...                  ...  ...           ...       ...\n",
              "230650  321282           Tuong Cafe  ...           NaN       NaN\n",
              "239005  331078             Matahari  ...           NaN       NaN\n",
              "241165  333510            Seed cafe  ...           NaN       NaN\n",
              "243902  336548                北門口肉圓  ...           NaN       NaN\n",
              "245832  338765      Clocktower Cafe  ...           NaN       NaN\n",
              "\n",
              "[479 rows x 32 columns]"
            ]
          },
          "metadata": {
            "tags": []
          },
          "execution_count": 116
        }
      ]
    },
    {
      "cell_type": "markdown",
      "metadata": {
        "id": "YCuyoxCXBW3z"
      },
      "source": [
        "## sampling\n",
        "* ในสมัยใหม่ จะใช้ sampling ไม่ได้ใช้เพื่อลดข้อมูลจากการเอาแค่ตัวแทนมาใช้ แต่จะใช้ sampling เพื่อมาเพิ่มข้อมูลแทน เช่น ถ้าเรามีข้อมูล 2 กลุ่ม มีกลุ่มนึงที่จำนวนข้อมูลน้อยกว่า เราจะทำการ sampling หยิบข้อมูลในชุดนั้นตัวเดิมมาเพิ่ม เพื่อให้มีข้อมูลมากขึ้นจนเท่ากับอีกชุดนึง "
      ]
    },
    {
      "cell_type": "markdown",
      "metadata": {
        "id": "CUqVM4XiCCNW"
      },
      "source": [
        "* n คือ จำนวนข้อมูลที่เราจะสุ่มมา\n",
        "* frac คือ สัดส่วนของ data เช่น เราต้องการข้อมูล 20% ของจำนวนdata เราก็จะ input frac = 0.2"
      ]
    },
    {
      "cell_type": "code",
      "metadata": {
        "id": "uOFFNApy_Q2I",
        "outputId": "5a183a1f-d5b3-424c-cf9d-d6480d4d259f",
        "colab": {
          "base_uri": "https://localhost:8080/",
          "height": 719
        }
      },
      "source": [
        "w_restaurant_df.sample(10)"
      ],
      "execution_count": 117,
      "outputs": [
        {
          "output_type": "execute_result",
          "data": {
            "text/html": [
              "<div>\n",
              "<style scoped>\n",
              "    .dataframe tbody tr th:only-of-type {\n",
              "        vertical-align: middle;\n",
              "    }\n",
              "\n",
              "    .dataframe tbody tr th {\n",
              "        vertical-align: top;\n",
              "    }\n",
              "\n",
              "    .dataframe thead th {\n",
              "        text-align: right;\n",
              "    }\n",
              "</style>\n",
              "<table border=\"1\" class=\"dataframe\">\n",
              "  <thead>\n",
              "    <tr style=\"text-align: right;\">\n",
              "      <th></th>\n",
              "      <th>id</th>\n",
              "      <th>name</th>\n",
              "      <th>domain_id</th>\n",
              "      <th>closed</th>\n",
              "      <th>city_name</th>\n",
              "      <th>zipcode</th>\n",
              "      <th>geohash</th>\n",
              "      <th>new_open</th>\n",
              "      <th>weighted_average_rating</th>\n",
              "      <th>number_of_chains</th>\n",
              "      <th>number_of_bookmarks</th>\n",
              "      <th>number_of_reviews</th>\n",
              "      <th>number_of_product_tags</th>\n",
              "      <th>total_number_of_views</th>\n",
              "      <th>number_of_checkins</th>\n",
              "      <th>number_of_menu_groups</th>\n",
              "      <th>number_of_menu_photos</th>\n",
              "      <th>category_name</th>\n",
              "      <th>price_range</th>\n",
              "      <th>avg_price</th>\n",
              "      <th>parking</th>\n",
              "      <th>credit_card_accepted</th>\n",
              "      <th>good_for_groups</th>\n",
              "      <th>good_for_kids</th>\n",
              "      <th>bookable</th>\n",
              "      <th>best_of_wongnai</th>\n",
              "      <th>wifi</th>\n",
              "      <th>number_of_seats</th>\n",
              "      <th>music_venue</th>\n",
              "      <th>hotel_restaurant</th>\n",
              "      <th>pet_friendly</th>\n",
              "      <th>delivery</th>\n",
              "    </tr>\n",
              "  </thead>\n",
              "  <tbody>\n",
              "    <tr>\n",
              "      <th>76679</th>\n",
              "      <td>120196</td>\n",
              "      <td>ไก่ย่าง-เป็ดพะโล้ เจ๊นางเจ้าเก่า</td>\n",
              "      <td>1</td>\n",
              "      <td>0</td>\n",
              "      <td>Phitsanulok</td>\n",
              "      <td>65000</td>\n",
              "      <td>w4zr9t6</td>\n",
              "      <td>0</td>\n",
              "      <td>4.032258</td>\n",
              "      <td>0.0</td>\n",
              "      <td>5.0</td>\n",
              "      <td>2</td>\n",
              "      <td>2</td>\n",
              "      <td>993</td>\n",
              "      <td>2</td>\n",
              "      <td>0</td>\n",
              "      <td>0</td>\n",
              "      <td>Chinese</td>\n",
              "      <td>1.0</td>\n",
              "      <td>NaN</td>\n",
              "      <td>1.0</td>\n",
              "      <td>0.0</td>\n",
              "      <td>NaN</td>\n",
              "      <td>NaN</td>\n",
              "      <td>NaN</td>\n",
              "      <td>NaN</td>\n",
              "      <td>NaN</td>\n",
              "      <td>NaN</td>\n",
              "      <td>NaN</td>\n",
              "      <td>NaN</td>\n",
              "      <td>NaN</td>\n",
              "      <td>NaN</td>\n",
              "    </tr>\n",
              "    <tr>\n",
              "      <th>138002</th>\n",
              "      <td>200979</td>\n",
              "      <td>เจ้กบ เขาน้ำเพชร</td>\n",
              "      <td>1</td>\n",
              "      <td>0</td>\n",
              "      <td>Kamphaeng Phet</td>\n",
              "      <td>NaN</td>\n",
              "      <td>w4ytnd9</td>\n",
              "      <td>0</td>\n",
              "      <td>0.000000</td>\n",
              "      <td>0.0</td>\n",
              "      <td>NaN</td>\n",
              "      <td>0</td>\n",
              "      <td>0</td>\n",
              "      <td>117</td>\n",
              "      <td>0</td>\n",
              "      <td>0</td>\n",
              "      <td>0</td>\n",
              "      <td>Thai</td>\n",
              "      <td>1.0</td>\n",
              "      <td>NaN</td>\n",
              "      <td>NaN</td>\n",
              "      <td>NaN</td>\n",
              "      <td>NaN</td>\n",
              "      <td>NaN</td>\n",
              "      <td>NaN</td>\n",
              "      <td>NaN</td>\n",
              "      <td>NaN</td>\n",
              "      <td>NaN</td>\n",
              "      <td>NaN</td>\n",
              "      <td>NaN</td>\n",
              "      <td>NaN</td>\n",
              "      <td>NaN</td>\n",
              "    </tr>\n",
              "    <tr>\n",
              "      <th>198995</th>\n",
              "      <td>278488</td>\n",
              "      <td>น้ำเต้าหู้ไฮโซ</td>\n",
              "      <td>1</td>\n",
              "      <td>0</td>\n",
              "      <td>Prachin Buri</td>\n",
              "      <td>25140</td>\n",
              "      <td>w62pmzq</td>\n",
              "      <td>0</td>\n",
              "      <td>0.000000</td>\n",
              "      <td>0.0</td>\n",
              "      <td>2.0</td>\n",
              "      <td>0</td>\n",
              "      <td>0</td>\n",
              "      <td>1536</td>\n",
              "      <td>3</td>\n",
              "      <td>0</td>\n",
              "      <td>0</td>\n",
              "      <td>Street Food/Food Stands</td>\n",
              "      <td>1.0</td>\n",
              "      <td>NaN</td>\n",
              "      <td>1.0</td>\n",
              "      <td>NaN</td>\n",
              "      <td>1.0</td>\n",
              "      <td>1.0</td>\n",
              "      <td>NaN</td>\n",
              "      <td>NaN</td>\n",
              "      <td>NaN</td>\n",
              "      <td>NaN</td>\n",
              "      <td>NaN</td>\n",
              "      <td>NaN</td>\n",
              "      <td>NaN</td>\n",
              "      <td>NaN</td>\n",
              "    </tr>\n",
              "    <tr>\n",
              "      <th>142538</th>\n",
              "      <td>206837</td>\n",
              "      <td>Muna Shabu Buffet Halal</td>\n",
              "      <td>1</td>\n",
              "      <td>0</td>\n",
              "      <td>Bangkok Metropolitan Region</td>\n",
              "      <td>10240</td>\n",
              "      <td>w4rw7wb</td>\n",
              "      <td>0</td>\n",
              "      <td>4.666667</td>\n",
              "      <td>0.0</td>\n",
              "      <td>1.0</td>\n",
              "      <td>3</td>\n",
              "      <td>0</td>\n",
              "      <td>1526</td>\n",
              "      <td>0</td>\n",
              "      <td>0</td>\n",
              "      <td>1</td>\n",
              "      <td>Sukiyaki/Shabu</td>\n",
              "      <td>3.0</td>\n",
              "      <td>NaN</td>\n",
              "      <td>3.0</td>\n",
              "      <td>NaN</td>\n",
              "      <td>1.0</td>\n",
              "      <td>1.0</td>\n",
              "      <td>0.0</td>\n",
              "      <td>NaN</td>\n",
              "      <td>NaN</td>\n",
              "      <td>2.0</td>\n",
              "      <td>NaN</td>\n",
              "      <td>NaN</td>\n",
              "      <td>NaN</td>\n",
              "      <td>NaN</td>\n",
              "    </tr>\n",
              "    <tr>\n",
              "      <th>203490</th>\n",
              "      <td>284040</td>\n",
              "      <td>กินหนมกัล</td>\n",
              "      <td>1</td>\n",
              "      <td>0</td>\n",
              "      <td>Bangkok Metropolitan Region</td>\n",
              "      <td>10520</td>\n",
              "      <td>w4rwj50</td>\n",
              "      <td>0</td>\n",
              "      <td>0.000000</td>\n",
              "      <td>0.0</td>\n",
              "      <td>2.0</td>\n",
              "      <td>0</td>\n",
              "      <td>0</td>\n",
              "      <td>1330</td>\n",
              "      <td>2</td>\n",
              "      <td>0</td>\n",
              "      <td>9</td>\n",
              "      <td>Dessert</td>\n",
              "      <td>1.0</td>\n",
              "      <td>NaN</td>\n",
              "      <td>3.0</td>\n",
              "      <td>0.0</td>\n",
              "      <td>1.0</td>\n",
              "      <td>1.0</td>\n",
              "      <td>1.0</td>\n",
              "      <td>NaN</td>\n",
              "      <td>2.0</td>\n",
              "      <td>2.0</td>\n",
              "      <td>NaN</td>\n",
              "      <td>NaN</td>\n",
              "      <td>NaN</td>\n",
              "      <td>NaN</td>\n",
              "    </tr>\n",
              "    <tr>\n",
              "      <th>134142</th>\n",
              "      <td>195914</td>\n",
              "      <td>Hanuman Bar</td>\n",
              "      <td>1</td>\n",
              "      <td>0</td>\n",
              "      <td>Bangkok Metropolitan Region</td>\n",
              "      <td>10330</td>\n",
              "      <td>w4rqpwz</td>\n",
              "      <td>0</td>\n",
              "      <td>3.757282</td>\n",
              "      <td>0.0</td>\n",
              "      <td>14.0</td>\n",
              "      <td>7</td>\n",
              "      <td>0</td>\n",
              "      <td>4239</td>\n",
              "      <td>3</td>\n",
              "      <td>0</td>\n",
              "      <td>24</td>\n",
              "      <td>Café/Coffee Shop</td>\n",
              "      <td>3.0</td>\n",
              "      <td>NaN</td>\n",
              "      <td>3.0</td>\n",
              "      <td>NaN</td>\n",
              "      <td>NaN</td>\n",
              "      <td>NaN</td>\n",
              "      <td>NaN</td>\n",
              "      <td>NaN</td>\n",
              "      <td>NaN</td>\n",
              "      <td>NaN</td>\n",
              "      <td>1.0</td>\n",
              "      <td>NaN</td>\n",
              "      <td>NaN</td>\n",
              "      <td>NaN</td>\n",
              "    </tr>\n",
              "    <tr>\n",
              "      <th>161913</th>\n",
              "      <td>231896</td>\n",
              "      <td>เฮือนอัมพรรีสอร์ท</td>\n",
              "      <td>3</td>\n",
              "      <td>0</td>\n",
              "      <td>Phrae</td>\n",
              "      <td>54130</td>\n",
              "      <td>w5pnykm</td>\n",
              "      <td>0</td>\n",
              "      <td>0.000000</td>\n",
              "      <td>0.0</td>\n",
              "      <td>NaN</td>\n",
              "      <td>0</td>\n",
              "      <td>0</td>\n",
              "      <td>122</td>\n",
              "      <td>1</td>\n",
              "      <td>0</td>\n",
              "      <td>0</td>\n",
              "      <td>Hotel/Resort</td>\n",
              "      <td>NaN</td>\n",
              "      <td>NaN</td>\n",
              "      <td>3.0</td>\n",
              "      <td>NaN</td>\n",
              "      <td>NaN</td>\n",
              "      <td>NaN</td>\n",
              "      <td>NaN</td>\n",
              "      <td>NaN</td>\n",
              "      <td>1.0</td>\n",
              "      <td>NaN</td>\n",
              "      <td>NaN</td>\n",
              "      <td>NaN</td>\n",
              "      <td>0.0</td>\n",
              "      <td>NaN</td>\n",
              "    </tr>\n",
              "    <tr>\n",
              "      <th>161357</th>\n",
              "      <td>231184</td>\n",
              "      <td>เกาเหลาเบตง</td>\n",
              "      <td>1</td>\n",
              "      <td>0</td>\n",
              "      <td>Bangkok Metropolitan Region</td>\n",
              "      <td>10110</td>\n",
              "      <td>w4rw1yj</td>\n",
              "      <td>0</td>\n",
              "      <td>3.794643</td>\n",
              "      <td>0.0</td>\n",
              "      <td>17.0</td>\n",
              "      <td>6</td>\n",
              "      <td>3</td>\n",
              "      <td>2464</td>\n",
              "      <td>8</td>\n",
              "      <td>0</td>\n",
              "      <td>2</td>\n",
              "      <td>Noodles</td>\n",
              "      <td>1.0</td>\n",
              "      <td>NaN</td>\n",
              "      <td>1.0</td>\n",
              "      <td>0.0</td>\n",
              "      <td>NaN</td>\n",
              "      <td>NaN</td>\n",
              "      <td>NaN</td>\n",
              "      <td>NaN</td>\n",
              "      <td>0.0</td>\n",
              "      <td>2.0</td>\n",
              "      <td>NaN</td>\n",
              "      <td>NaN</td>\n",
              "      <td>NaN</td>\n",
              "      <td>NaN</td>\n",
              "    </tr>\n",
              "    <tr>\n",
              "      <th>106790</th>\n",
              "      <td>160425</td>\n",
              "      <td>ร้านโคตรอร่อย</td>\n",
              "      <td>1</td>\n",
              "      <td>0</td>\n",
              "      <td>Phra Nakhon Si Ayutthaya</td>\n",
              "      <td>NaN</td>\n",
              "      <td>w4x98uu</td>\n",
              "      <td>0</td>\n",
              "      <td>0.000000</td>\n",
              "      <td>0.0</td>\n",
              "      <td>NaN</td>\n",
              "      <td>0</td>\n",
              "      <td>0</td>\n",
              "      <td>104</td>\n",
              "      <td>1</td>\n",
              "      <td>0</td>\n",
              "      <td>0</td>\n",
              "      <td>Thai</td>\n",
              "      <td>1.0</td>\n",
              "      <td>NaN</td>\n",
              "      <td>NaN</td>\n",
              "      <td>NaN</td>\n",
              "      <td>NaN</td>\n",
              "      <td>NaN</td>\n",
              "      <td>NaN</td>\n",
              "      <td>NaN</td>\n",
              "      <td>NaN</td>\n",
              "      <td>NaN</td>\n",
              "      <td>NaN</td>\n",
              "      <td>NaN</td>\n",
              "      <td>NaN</td>\n",
              "      <td>NaN</td>\n",
              "    </tr>\n",
              "    <tr>\n",
              "      <th>170039</th>\n",
              "      <td>242353</td>\n",
              "      <td>วิงค์</td>\n",
              "      <td>1</td>\n",
              "      <td>0</td>\n",
              "      <td>Bangkok Metropolitan Region</td>\n",
              "      <td>12110</td>\n",
              "      <td>w4rxu7d</td>\n",
              "      <td>0</td>\n",
              "      <td>0.000000</td>\n",
              "      <td>0.0</td>\n",
              "      <td>NaN</td>\n",
              "      <td>0</td>\n",
              "      <td>0</td>\n",
              "      <td>163</td>\n",
              "      <td>0</td>\n",
              "      <td>0</td>\n",
              "      <td>0</td>\n",
              "      <td>Other</td>\n",
              "      <td>NaN</td>\n",
              "      <td>NaN</td>\n",
              "      <td>NaN</td>\n",
              "      <td>NaN</td>\n",
              "      <td>NaN</td>\n",
              "      <td>NaN</td>\n",
              "      <td>NaN</td>\n",
              "      <td>NaN</td>\n",
              "      <td>NaN</td>\n",
              "      <td>NaN</td>\n",
              "      <td>NaN</td>\n",
              "      <td>NaN</td>\n",
              "      <td>NaN</td>\n",
              "      <td>NaN</td>\n",
              "    </tr>\n",
              "  </tbody>\n",
              "</table>\n",
              "</div>"
            ],
            "text/plain": [
              "            id                              name  ...  pet_friendly  delivery\n",
              "76679   120196  ไก่ย่าง-เป็ดพะโล้ เจ๊นางเจ้าเก่า  ...           NaN       NaN\n",
              "138002  200979                  เจ้กบ เขาน้ำเพชร  ...           NaN       NaN\n",
              "198995  278488                    น้ำเต้าหู้ไฮโซ  ...           NaN       NaN\n",
              "142538  206837           Muna Shabu Buffet Halal  ...           NaN       NaN\n",
              "203490  284040                         กินหนมกัล  ...           NaN       NaN\n",
              "134142  195914                       Hanuman Bar  ...           NaN       NaN\n",
              "161913  231896                 เฮือนอัมพรรีสอร์ท  ...           0.0       NaN\n",
              "161357  231184                       เกาเหลาเบตง  ...           NaN       NaN\n",
              "106790  160425                     ร้านโคตรอร่อย  ...           NaN       NaN\n",
              "170039  242353                             วิงค์  ...           NaN       NaN\n",
              "\n",
              "[10 rows x 32 columns]"
            ]
          },
          "metadata": {
            "tags": []
          },
          "execution_count": 117
        }
      ]
    },
    {
      "cell_type": "code",
      "metadata": {
        "id": "zN7sb-rCChUl",
        "outputId": "006e802b-9f9f-4304-8a77-345100719c20",
        "colab": {
          "base_uri": "https://localhost:8080/",
          "height": 728
        }
      },
      "source": [
        "w_restaurant_df.sample(frac=0.1)"
      ],
      "execution_count": 118,
      "outputs": [
        {
          "output_type": "execute_result",
          "data": {
            "text/html": [
              "<div>\n",
              "<style scoped>\n",
              "    .dataframe tbody tr th:only-of-type {\n",
              "        vertical-align: middle;\n",
              "    }\n",
              "\n",
              "    .dataframe tbody tr th {\n",
              "        vertical-align: top;\n",
              "    }\n",
              "\n",
              "    .dataframe thead th {\n",
              "        text-align: right;\n",
              "    }\n",
              "</style>\n",
              "<table border=\"1\" class=\"dataframe\">\n",
              "  <thead>\n",
              "    <tr style=\"text-align: right;\">\n",
              "      <th></th>\n",
              "      <th>id</th>\n",
              "      <th>name</th>\n",
              "      <th>domain_id</th>\n",
              "      <th>closed</th>\n",
              "      <th>city_name</th>\n",
              "      <th>zipcode</th>\n",
              "      <th>geohash</th>\n",
              "      <th>new_open</th>\n",
              "      <th>weighted_average_rating</th>\n",
              "      <th>number_of_chains</th>\n",
              "      <th>number_of_bookmarks</th>\n",
              "      <th>number_of_reviews</th>\n",
              "      <th>number_of_product_tags</th>\n",
              "      <th>total_number_of_views</th>\n",
              "      <th>number_of_checkins</th>\n",
              "      <th>number_of_menu_groups</th>\n",
              "      <th>number_of_menu_photos</th>\n",
              "      <th>category_name</th>\n",
              "      <th>price_range</th>\n",
              "      <th>avg_price</th>\n",
              "      <th>parking</th>\n",
              "      <th>credit_card_accepted</th>\n",
              "      <th>good_for_groups</th>\n",
              "      <th>good_for_kids</th>\n",
              "      <th>bookable</th>\n",
              "      <th>best_of_wongnai</th>\n",
              "      <th>wifi</th>\n",
              "      <th>number_of_seats</th>\n",
              "      <th>music_venue</th>\n",
              "      <th>hotel_restaurant</th>\n",
              "      <th>pet_friendly</th>\n",
              "      <th>delivery</th>\n",
              "    </tr>\n",
              "  </thead>\n",
              "  <tbody>\n",
              "    <tr>\n",
              "      <th>149192</th>\n",
              "      <td>215641</td>\n",
              "      <td>Shabushi</td>\n",
              "      <td>1</td>\n",
              "      <td>0</td>\n",
              "      <td>Suphan Buri</td>\n",
              "      <td>72000</td>\n",
              "      <td>w4x4mgn</td>\n",
              "      <td>0</td>\n",
              "      <td>4.297297</td>\n",
              "      <td>128.0</td>\n",
              "      <td>5.0</td>\n",
              "      <td>3</td>\n",
              "      <td>5</td>\n",
              "      <td>4033</td>\n",
              "      <td>2</td>\n",
              "      <td>0</td>\n",
              "      <td>0</td>\n",
              "      <td>Sukiyaki/Shabu</td>\n",
              "      <td>3.0</td>\n",
              "      <td>NaN</td>\n",
              "      <td>NaN</td>\n",
              "      <td>1.0</td>\n",
              "      <td>NaN</td>\n",
              "      <td>NaN</td>\n",
              "      <td>NaN</td>\n",
              "      <td>NaN</td>\n",
              "      <td>NaN</td>\n",
              "      <td>NaN</td>\n",
              "      <td>NaN</td>\n",
              "      <td>NaN</td>\n",
              "      <td>NaN</td>\n",
              "      <td>NaN</td>\n",
              "    </tr>\n",
              "    <tr>\n",
              "      <th>30034</th>\n",
              "      <td>56009</td>\n",
              "      <td>The Pause Wine Bar &amp; Restaurant</td>\n",
              "      <td>1</td>\n",
              "      <td>0</td>\n",
              "      <td>Chaiyaphum</td>\n",
              "      <td>36000</td>\n",
              "      <td>w6b9c77</td>\n",
              "      <td>0</td>\n",
              "      <td>0.000000</td>\n",
              "      <td>0.0</td>\n",
              "      <td>NaN</td>\n",
              "      <td>0</td>\n",
              "      <td>0</td>\n",
              "      <td>541</td>\n",
              "      <td>1</td>\n",
              "      <td>0</td>\n",
              "      <td>0</td>\n",
              "      <td>International</td>\n",
              "      <td>NaN</td>\n",
              "      <td>NaN</td>\n",
              "      <td>NaN</td>\n",
              "      <td>NaN</td>\n",
              "      <td>NaN</td>\n",
              "      <td>NaN</td>\n",
              "      <td>NaN</td>\n",
              "      <td>NaN</td>\n",
              "      <td>NaN</td>\n",
              "      <td>NaN</td>\n",
              "      <td>NaN</td>\n",
              "      <td>NaN</td>\n",
              "      <td>NaN</td>\n",
              "      <td>NaN</td>\n",
              "    </tr>\n",
              "    <tr>\n",
              "      <th>199584</th>\n",
              "      <td>279231</td>\n",
              "      <td>Black Canyon</td>\n",
              "      <td>1</td>\n",
              "      <td>0</td>\n",
              "      <td>Bangkok Metropolitan Region</td>\n",
              "      <td>10230</td>\n",
              "      <td>w4rw9yw</td>\n",
              "      <td>0</td>\n",
              "      <td>4.000000</td>\n",
              "      <td>351.0</td>\n",
              "      <td>7.0</td>\n",
              "      <td>2</td>\n",
              "      <td>35</td>\n",
              "      <td>7384</td>\n",
              "      <td>1</td>\n",
              "      <td>0</td>\n",
              "      <td>0</td>\n",
              "      <td>Café/Coffee Shop</td>\n",
              "      <td>1.0</td>\n",
              "      <td>NaN</td>\n",
              "      <td>3.0</td>\n",
              "      <td>1.0</td>\n",
              "      <td>NaN</td>\n",
              "      <td>NaN</td>\n",
              "      <td>NaN</td>\n",
              "      <td>NaN</td>\n",
              "      <td>NaN</td>\n",
              "      <td>NaN</td>\n",
              "      <td>NaN</td>\n",
              "      <td>NaN</td>\n",
              "      <td>NaN</td>\n",
              "      <td>NaN</td>\n",
              "    </tr>\n",
              "    <tr>\n",
              "      <th>160287</th>\n",
              "      <td>229783</td>\n",
              "      <td>เกสท์เฮ้าส์ราชบุรี</td>\n",
              "      <td>1</td>\n",
              "      <td>0</td>\n",
              "      <td>Ratchaburi</td>\n",
              "      <td>70000</td>\n",
              "      <td>w4quyg6</td>\n",
              "      <td>0</td>\n",
              "      <td>0.000000</td>\n",
              "      <td>0.0</td>\n",
              "      <td>NaN</td>\n",
              "      <td>0</td>\n",
              "      <td>0</td>\n",
              "      <td>205</td>\n",
              "      <td>0</td>\n",
              "      <td>0</td>\n",
              "      <td>0</td>\n",
              "      <td>Other</td>\n",
              "      <td>NaN</td>\n",
              "      <td>NaN</td>\n",
              "      <td>NaN</td>\n",
              "      <td>NaN</td>\n",
              "      <td>NaN</td>\n",
              "      <td>NaN</td>\n",
              "      <td>NaN</td>\n",
              "      <td>NaN</td>\n",
              "      <td>NaN</td>\n",
              "      <td>NaN</td>\n",
              "      <td>NaN</td>\n",
              "      <td>1.0</td>\n",
              "      <td>NaN</td>\n",
              "      <td>NaN</td>\n",
              "    </tr>\n",
              "    <tr>\n",
              "      <th>163974</th>\n",
              "      <td>234503</td>\n",
              "      <td>เคยจีกะดีปลีสด</td>\n",
              "      <td>1</td>\n",
              "      <td>0</td>\n",
              "      <td>Bangkok Metropolitan Region</td>\n",
              "      <td>11000</td>\n",
              "      <td>w4rqvgf</td>\n",
              "      <td>0</td>\n",
              "      <td>0.000000</td>\n",
              "      <td>0.0</td>\n",
              "      <td>NaN</td>\n",
              "      <td>0</td>\n",
              "      <td>0</td>\n",
              "      <td>225</td>\n",
              "      <td>0</td>\n",
              "      <td>0</td>\n",
              "      <td>0</td>\n",
              "      <td>Other</td>\n",
              "      <td>NaN</td>\n",
              "      <td>NaN</td>\n",
              "      <td>NaN</td>\n",
              "      <td>NaN</td>\n",
              "      <td>NaN</td>\n",
              "      <td>NaN</td>\n",
              "      <td>NaN</td>\n",
              "      <td>NaN</td>\n",
              "      <td>NaN</td>\n",
              "      <td>NaN</td>\n",
              "      <td>NaN</td>\n",
              "      <td>NaN</td>\n",
              "      <td>NaN</td>\n",
              "      <td>NaN</td>\n",
              "    </tr>\n",
              "    <tr>\n",
              "      <th>...</th>\n",
              "      <td>...</td>\n",
              "      <td>...</td>\n",
              "      <td>...</td>\n",
              "      <td>...</td>\n",
              "      <td>...</td>\n",
              "      <td>...</td>\n",
              "      <td>...</td>\n",
              "      <td>...</td>\n",
              "      <td>...</td>\n",
              "      <td>...</td>\n",
              "      <td>...</td>\n",
              "      <td>...</td>\n",
              "      <td>...</td>\n",
              "      <td>...</td>\n",
              "      <td>...</td>\n",
              "      <td>...</td>\n",
              "      <td>...</td>\n",
              "      <td>...</td>\n",
              "      <td>...</td>\n",
              "      <td>...</td>\n",
              "      <td>...</td>\n",
              "      <td>...</td>\n",
              "      <td>...</td>\n",
              "      <td>...</td>\n",
              "      <td>...</td>\n",
              "      <td>...</td>\n",
              "      <td>...</td>\n",
              "      <td>...</td>\n",
              "      <td>...</td>\n",
              "      <td>...</td>\n",
              "      <td>...</td>\n",
              "      <td>...</td>\n",
              "    </tr>\n",
              "    <tr>\n",
              "      <th>174816</th>\n",
              "      <td>248262</td>\n",
              "      <td>Farmbox</td>\n",
              "      <td>1</td>\n",
              "      <td>0</td>\n",
              "      <td>Bangkok Metropolitan Region</td>\n",
              "      <td>10250</td>\n",
              "      <td>w4rw4bc</td>\n",
              "      <td>0</td>\n",
              "      <td>0.000000</td>\n",
              "      <td>0.0</td>\n",
              "      <td>NaN</td>\n",
              "      <td>0</td>\n",
              "      <td>0</td>\n",
              "      <td>753</td>\n",
              "      <td>0</td>\n",
              "      <td>0</td>\n",
              "      <td>0</td>\n",
              "      <td>Delivery Only</td>\n",
              "      <td>2.0</td>\n",
              "      <td>NaN</td>\n",
              "      <td>NaN</td>\n",
              "      <td>NaN</td>\n",
              "      <td>NaN</td>\n",
              "      <td>NaN</td>\n",
              "      <td>NaN</td>\n",
              "      <td>NaN</td>\n",
              "      <td>NaN</td>\n",
              "      <td>NaN</td>\n",
              "      <td>NaN</td>\n",
              "      <td>NaN</td>\n",
              "      <td>NaN</td>\n",
              "      <td>NaN</td>\n",
              "    </tr>\n",
              "    <tr>\n",
              "      <th>28755</th>\n",
              "      <td>51280</td>\n",
              "      <td>ข้าวขาหมูเฮียจุ่ง</td>\n",
              "      <td>1</td>\n",
              "      <td>0</td>\n",
              "      <td>สงขลา</td>\n",
              "      <td>NaN</td>\n",
              "      <td>w1prytu</td>\n",
              "      <td>0</td>\n",
              "      <td>4.000000</td>\n",
              "      <td>0.0</td>\n",
              "      <td>2.0</td>\n",
              "      <td>2</td>\n",
              "      <td>1</td>\n",
              "      <td>271</td>\n",
              "      <td>1</td>\n",
              "      <td>0</td>\n",
              "      <td>0</td>\n",
              "      <td>Quick Meal</td>\n",
              "      <td>1.0</td>\n",
              "      <td>NaN</td>\n",
              "      <td>1.0</td>\n",
              "      <td>0.0</td>\n",
              "      <td>NaN</td>\n",
              "      <td>NaN</td>\n",
              "      <td>NaN</td>\n",
              "      <td>NaN</td>\n",
              "      <td>NaN</td>\n",
              "      <td>NaN</td>\n",
              "      <td>NaN</td>\n",
              "      <td>NaN</td>\n",
              "      <td>NaN</td>\n",
              "      <td>NaN</td>\n",
              "    </tr>\n",
              "    <tr>\n",
              "      <th>46554</th>\n",
              "      <td>82416</td>\n",
              "      <td>at TASTE</td>\n",
              "      <td>1</td>\n",
              "      <td>0</td>\n",
              "      <td>Bangkok Metropolitan Region</td>\n",
              "      <td>NaN</td>\n",
              "      <td>w4rqyu7</td>\n",
              "      <td>0</td>\n",
              "      <td>2.000000</td>\n",
              "      <td>0.0</td>\n",
              "      <td>NaN</td>\n",
              "      <td>1</td>\n",
              "      <td>0</td>\n",
              "      <td>396</td>\n",
              "      <td>1</td>\n",
              "      <td>0</td>\n",
              "      <td>0</td>\n",
              "      <td>Quick Meal</td>\n",
              "      <td>1.0</td>\n",
              "      <td>NaN</td>\n",
              "      <td>3.0</td>\n",
              "      <td>1.0</td>\n",
              "      <td>NaN</td>\n",
              "      <td>NaN</td>\n",
              "      <td>NaN</td>\n",
              "      <td>NaN</td>\n",
              "      <td>2.0</td>\n",
              "      <td>2.0</td>\n",
              "      <td>NaN</td>\n",
              "      <td>NaN</td>\n",
              "      <td>NaN</td>\n",
              "      <td>NaN</td>\n",
              "    </tr>\n",
              "    <tr>\n",
              "      <th>34798</th>\n",
              "      <td>63865</td>\n",
              "      <td>ขจรวิทย์ซีฟู๊ด</td>\n",
              "      <td>1</td>\n",
              "      <td>0</td>\n",
              "      <td>Bangkok Metropolitan Region</td>\n",
              "      <td>10540</td>\n",
              "      <td>w4rt6uv</td>\n",
              "      <td>0</td>\n",
              "      <td>2.764706</td>\n",
              "      <td>0.0</td>\n",
              "      <td>10.0</td>\n",
              "      <td>5</td>\n",
              "      <td>2</td>\n",
              "      <td>2364</td>\n",
              "      <td>0</td>\n",
              "      <td>0</td>\n",
              "      <td>0</td>\n",
              "      <td>Seafood</td>\n",
              "      <td>3.0</td>\n",
              "      <td>NaN</td>\n",
              "      <td>NaN</td>\n",
              "      <td>0.0</td>\n",
              "      <td>1.0</td>\n",
              "      <td>NaN</td>\n",
              "      <td>NaN</td>\n",
              "      <td>NaN</td>\n",
              "      <td>NaN</td>\n",
              "      <td>NaN</td>\n",
              "      <td>NaN</td>\n",
              "      <td>NaN</td>\n",
              "      <td>NaN</td>\n",
              "      <td>1.0</td>\n",
              "    </tr>\n",
              "    <tr>\n",
              "      <th>153339</th>\n",
              "      <td>220850</td>\n",
              "      <td>ข้าวต้มมิดไนท์. นายพยงค์</td>\n",
              "      <td>1</td>\n",
              "      <td>0</td>\n",
              "      <td>Bangkok Metropolitan Region</td>\n",
              "      <td>10540</td>\n",
              "      <td>w4rtq9k</td>\n",
              "      <td>0</td>\n",
              "      <td>4.285714</td>\n",
              "      <td>0.0</td>\n",
              "      <td>NaN</td>\n",
              "      <td>3</td>\n",
              "      <td>1</td>\n",
              "      <td>731</td>\n",
              "      <td>1</td>\n",
              "      <td>0</td>\n",
              "      <td>0</td>\n",
              "      <td>Thai</td>\n",
              "      <td>1.0</td>\n",
              "      <td>NaN</td>\n",
              "      <td>NaN</td>\n",
              "      <td>NaN</td>\n",
              "      <td>NaN</td>\n",
              "      <td>NaN</td>\n",
              "      <td>NaN</td>\n",
              "      <td>NaN</td>\n",
              "      <td>NaN</td>\n",
              "      <td>NaN</td>\n",
              "      <td>NaN</td>\n",
              "      <td>NaN</td>\n",
              "      <td>NaN</td>\n",
              "      <td>NaN</td>\n",
              "    </tr>\n",
              "  </tbody>\n",
              "</table>\n",
              "<p>24685 rows × 32 columns</p>\n",
              "</div>"
            ],
            "text/plain": [
              "            id                             name  ...  pet_friendly  delivery\n",
              "149192  215641                         Shabushi  ...           NaN       NaN\n",
              "30034    56009  The Pause Wine Bar & Restaurant  ...           NaN       NaN\n",
              "199584  279231                     Black Canyon  ...           NaN       NaN\n",
              "160287  229783               เกสท์เฮ้าส์ราชบุรี  ...           NaN       NaN\n",
              "163974  234503                   เคยจีกะดีปลีสด  ...           NaN       NaN\n",
              "...        ...                              ...  ...           ...       ...\n",
              "174816  248262                          Farmbox  ...           NaN       NaN\n",
              "28755    51280                ข้าวขาหมูเฮียจุ่ง  ...           NaN       NaN\n",
              "46554    82416                        at TASTE   ...           NaN       NaN\n",
              "34798    63865                   ขจรวิทย์ซีฟู๊ด  ...           NaN       1.0\n",
              "153339  220850         ข้าวต้มมิดไนท์. นายพยงค์  ...           NaN       NaN\n",
              "\n",
              "[24685 rows x 32 columns]"
            ]
          },
          "metadata": {
            "tags": []
          },
          "execution_count": 118
        }
      ]
    },
    {
      "cell_type": "code",
      "metadata": {
        "id": "mgztAbFACn3n"
      },
      "source": [
        "# note ค่า default ของ .sample คือ การสุ่มแบบไม่ใส่คืน\n",
        "# แต่ถ้าอยากสุ่มแบบใส่คืน ต้องเพิ่ม ,replace=True"
      ],
      "execution_count": 121,
      "outputs": []
    },
    {
      "cell_type": "code",
      "metadata": {
        "id": "o1F6E_cxDhSn",
        "outputId": "38dc2a69-c1ba-4ca0-fe05-e68e0c1a15ca",
        "colab": {
          "base_uri": "https://localhost:8080/",
          "height": 600
        }
      },
      "source": [
        "w_restaurant_df.sample(n=10,replace=True)"
      ],
      "execution_count": 120,
      "outputs": [
        {
          "output_type": "execute_result",
          "data": {
            "text/html": [
              "<div>\n",
              "<style scoped>\n",
              "    .dataframe tbody tr th:only-of-type {\n",
              "        vertical-align: middle;\n",
              "    }\n",
              "\n",
              "    .dataframe tbody tr th {\n",
              "        vertical-align: top;\n",
              "    }\n",
              "\n",
              "    .dataframe thead th {\n",
              "        text-align: right;\n",
              "    }\n",
              "</style>\n",
              "<table border=\"1\" class=\"dataframe\">\n",
              "  <thead>\n",
              "    <tr style=\"text-align: right;\">\n",
              "      <th></th>\n",
              "      <th>id</th>\n",
              "      <th>name</th>\n",
              "      <th>domain_id</th>\n",
              "      <th>closed</th>\n",
              "      <th>city_name</th>\n",
              "      <th>zipcode</th>\n",
              "      <th>geohash</th>\n",
              "      <th>new_open</th>\n",
              "      <th>weighted_average_rating</th>\n",
              "      <th>number_of_chains</th>\n",
              "      <th>number_of_bookmarks</th>\n",
              "      <th>number_of_reviews</th>\n",
              "      <th>number_of_product_tags</th>\n",
              "      <th>total_number_of_views</th>\n",
              "      <th>number_of_checkins</th>\n",
              "      <th>number_of_menu_groups</th>\n",
              "      <th>number_of_menu_photos</th>\n",
              "      <th>category_name</th>\n",
              "      <th>price_range</th>\n",
              "      <th>avg_price</th>\n",
              "      <th>parking</th>\n",
              "      <th>credit_card_accepted</th>\n",
              "      <th>good_for_groups</th>\n",
              "      <th>good_for_kids</th>\n",
              "      <th>bookable</th>\n",
              "      <th>best_of_wongnai</th>\n",
              "      <th>wifi</th>\n",
              "      <th>number_of_seats</th>\n",
              "      <th>music_venue</th>\n",
              "      <th>hotel_restaurant</th>\n",
              "      <th>pet_friendly</th>\n",
              "      <th>delivery</th>\n",
              "    </tr>\n",
              "  </thead>\n",
              "  <tbody>\n",
              "    <tr>\n",
              "      <th>229208</th>\n",
              "      <td>319215</td>\n",
              "      <td>Jann Bistro</td>\n",
              "      <td>1</td>\n",
              "      <td>0</td>\n",
              "      <td>Bangkok Metropolitan Region</td>\n",
              "      <td>NaN</td>\n",
              "      <td>w4rw0m6</td>\n",
              "      <td>0</td>\n",
              "      <td>4.735537</td>\n",
              "      <td>0.0</td>\n",
              "      <td>21.0</td>\n",
              "      <td>6</td>\n",
              "      <td>0</td>\n",
              "      <td>1909</td>\n",
              "      <td>4</td>\n",
              "      <td>0</td>\n",
              "      <td>2</td>\n",
              "      <td>International</td>\n",
              "      <td>4.0</td>\n",
              "      <td>NaN</td>\n",
              "      <td>3.0</td>\n",
              "      <td>1.0</td>\n",
              "      <td>1.0</td>\n",
              "      <td>1.0</td>\n",
              "      <td>1.0</td>\n",
              "      <td>NaN</td>\n",
              "      <td>NaN</td>\n",
              "      <td>2.0</td>\n",
              "      <td>NaN</td>\n",
              "      <td>NaN</td>\n",
              "      <td>0.0</td>\n",
              "      <td>NaN</td>\n",
              "    </tr>\n",
              "    <tr>\n",
              "      <th>142996</th>\n",
              "      <td>207423</td>\n",
              "      <td>ครัวโกไข่</td>\n",
              "      <td>1</td>\n",
              "      <td>0</td>\n",
              "      <td>Surat Thani</td>\n",
              "      <td>NaN</td>\n",
              "      <td>w1wspsc</td>\n",
              "      <td>0</td>\n",
              "      <td>4.000000</td>\n",
              "      <td>0.0</td>\n",
              "      <td>3.0</td>\n",
              "      <td>1</td>\n",
              "      <td>0</td>\n",
              "      <td>1177</td>\n",
              "      <td>0</td>\n",
              "      <td>0</td>\n",
              "      <td>1</td>\n",
              "      <td>Seafood</td>\n",
              "      <td>3.0</td>\n",
              "      <td>NaN</td>\n",
              "      <td>NaN</td>\n",
              "      <td>NaN</td>\n",
              "      <td>1.0</td>\n",
              "      <td>1.0</td>\n",
              "      <td>1.0</td>\n",
              "      <td>NaN</td>\n",
              "      <td>NaN</td>\n",
              "      <td>NaN</td>\n",
              "      <td>NaN</td>\n",
              "      <td>NaN</td>\n",
              "      <td>NaN</td>\n",
              "      <td>NaN</td>\n",
              "    </tr>\n",
              "    <tr>\n",
              "      <th>151953</th>\n",
              "      <td>219117</td>\n",
              "      <td>ก๋วยเตี๋ยวเรือ โกเฮง 2498</td>\n",
              "      <td>1</td>\n",
              "      <td>0</td>\n",
              "      <td>Krabi</td>\n",
              "      <td>NaN</td>\n",
              "      <td>w1qmfuj</td>\n",
              "      <td>1</td>\n",
              "      <td>3.941176</td>\n",
              "      <td>0.0</td>\n",
              "      <td>4.0</td>\n",
              "      <td>1</td>\n",
              "      <td>0</td>\n",
              "      <td>442</td>\n",
              "      <td>0</td>\n",
              "      <td>0</td>\n",
              "      <td>1</td>\n",
              "      <td>Noodles</td>\n",
              "      <td>1.0</td>\n",
              "      <td>NaN</td>\n",
              "      <td>3.0</td>\n",
              "      <td>NaN</td>\n",
              "      <td>NaN</td>\n",
              "      <td>NaN</td>\n",
              "      <td>NaN</td>\n",
              "      <td>NaN</td>\n",
              "      <td>NaN</td>\n",
              "      <td>NaN</td>\n",
              "      <td>NaN</td>\n",
              "      <td>NaN</td>\n",
              "      <td>NaN</td>\n",
              "      <td>NaN</td>\n",
              "    </tr>\n",
              "    <tr>\n",
              "      <th>169986</th>\n",
              "      <td>242286</td>\n",
              "      <td>ครกทอง แซ่บเวอร์</td>\n",
              "      <td>1</td>\n",
              "      <td>0</td>\n",
              "      <td>เขาใหญ่</td>\n",
              "      <td>25240</td>\n",
              "      <td>w62re9x</td>\n",
              "      <td>0</td>\n",
              "      <td>0.000000</td>\n",
              "      <td>0.0</td>\n",
              "      <td>NaN</td>\n",
              "      <td>0</td>\n",
              "      <td>0</td>\n",
              "      <td>339</td>\n",
              "      <td>0</td>\n",
              "      <td>0</td>\n",
              "      <td>0</td>\n",
              "      <td>North East</td>\n",
              "      <td>1.0</td>\n",
              "      <td>NaN</td>\n",
              "      <td>NaN</td>\n",
              "      <td>NaN</td>\n",
              "      <td>NaN</td>\n",
              "      <td>NaN</td>\n",
              "      <td>NaN</td>\n",
              "      <td>NaN</td>\n",
              "      <td>NaN</td>\n",
              "      <td>NaN</td>\n",
              "      <td>NaN</td>\n",
              "      <td>NaN</td>\n",
              "      <td>NaN</td>\n",
              "      <td>NaN</td>\n",
              "    </tr>\n",
              "    <tr>\n",
              "      <th>150857</th>\n",
              "      <td>217745</td>\n",
              "      <td>ก๋วยเตี๋ยวลูกชิ้นปลาฮีโร่</td>\n",
              "      <td>1</td>\n",
              "      <td>0</td>\n",
              "      <td>Bangkok Metropolitan Region</td>\n",
              "      <td>10120</td>\n",
              "      <td>w4rmzdk</td>\n",
              "      <td>0</td>\n",
              "      <td>3.000000</td>\n",
              "      <td>0.0</td>\n",
              "      <td>NaN</td>\n",
              "      <td>1</td>\n",
              "      <td>0</td>\n",
              "      <td>617</td>\n",
              "      <td>0</td>\n",
              "      <td>0</td>\n",
              "      <td>0</td>\n",
              "      <td>Noodles</td>\n",
              "      <td>1.0</td>\n",
              "      <td>NaN</td>\n",
              "      <td>1.0</td>\n",
              "      <td>0.0</td>\n",
              "      <td>NaN</td>\n",
              "      <td>NaN</td>\n",
              "      <td>NaN</td>\n",
              "      <td>NaN</td>\n",
              "      <td>NaN</td>\n",
              "      <td>2.0</td>\n",
              "      <td>NaN</td>\n",
              "      <td>NaN</td>\n",
              "      <td>NaN</td>\n",
              "      <td>NaN</td>\n",
              "    </tr>\n",
              "    <tr>\n",
              "      <th>219197</th>\n",
              "      <td>303116</td>\n",
              "      <td>Brazil Blue Coffee</td>\n",
              "      <td>1</td>\n",
              "      <td>0</td>\n",
              "      <td>Bangkok Metropolitan Region</td>\n",
              "      <td>NaN</td>\n",
              "      <td>w4rqqs7</td>\n",
              "      <td>0</td>\n",
              "      <td>3.032258</td>\n",
              "      <td>0.0</td>\n",
              "      <td>1.0</td>\n",
              "      <td>1</td>\n",
              "      <td>0</td>\n",
              "      <td>354</td>\n",
              "      <td>3</td>\n",
              "      <td>0</td>\n",
              "      <td>0</td>\n",
              "      <td>Café/Coffee Shop</td>\n",
              "      <td>1.0</td>\n",
              "      <td>NaN</td>\n",
              "      <td>1.0</td>\n",
              "      <td>NaN</td>\n",
              "      <td>NaN</td>\n",
              "      <td>NaN</td>\n",
              "      <td>NaN</td>\n",
              "      <td>NaN</td>\n",
              "      <td>1.0</td>\n",
              "      <td>NaN</td>\n",
              "      <td>NaN</td>\n",
              "      <td>NaN</td>\n",
              "      <td>NaN</td>\n",
              "      <td>NaN</td>\n",
              "    </tr>\n",
              "    <tr>\n",
              "      <th>187186</th>\n",
              "      <td>263872</td>\n",
              "      <td>Be Rich</td>\n",
              "      <td>1</td>\n",
              "      <td>0</td>\n",
              "      <td>Ratchaburi</td>\n",
              "      <td>NaN</td>\n",
              "      <td>w4rjd6k</td>\n",
              "      <td>0</td>\n",
              "      <td>4.000000</td>\n",
              "      <td>0.0</td>\n",
              "      <td>NaN</td>\n",
              "      <td>1</td>\n",
              "      <td>0</td>\n",
              "      <td>461</td>\n",
              "      <td>0</td>\n",
              "      <td>0</td>\n",
              "      <td>2</td>\n",
              "      <td>International</td>\n",
              "      <td>2.0</td>\n",
              "      <td>NaN</td>\n",
              "      <td>3.0</td>\n",
              "      <td>0.0</td>\n",
              "      <td>1.0</td>\n",
              "      <td>1.0</td>\n",
              "      <td>NaN</td>\n",
              "      <td>NaN</td>\n",
              "      <td>NaN</td>\n",
              "      <td>NaN</td>\n",
              "      <td>0.0</td>\n",
              "      <td>NaN</td>\n",
              "      <td>NaN</td>\n",
              "      <td>NaN</td>\n",
              "    </tr>\n",
              "    <tr>\n",
              "      <th>182370</th>\n",
              "      <td>257863</td>\n",
              "      <td>แอ็บโซลูทโยคะ</td>\n",
              "      <td>2</td>\n",
              "      <td>0</td>\n",
              "      <td>Bangkok Metropolitan Region</td>\n",
              "      <td>10900</td>\n",
              "      <td>w4rw874</td>\n",
              "      <td>0</td>\n",
              "      <td>4.000000</td>\n",
              "      <td>0.0</td>\n",
              "      <td>6.0</td>\n",
              "      <td>1</td>\n",
              "      <td>0</td>\n",
              "      <td>4485</td>\n",
              "      <td>1</td>\n",
              "      <td>0</td>\n",
              "      <td>5</td>\n",
              "      <td>Yoga</td>\n",
              "      <td>NaN</td>\n",
              "      <td>NaN</td>\n",
              "      <td>3.0</td>\n",
              "      <td>1.0</td>\n",
              "      <td>NaN</td>\n",
              "      <td>NaN</td>\n",
              "      <td>NaN</td>\n",
              "      <td>NaN</td>\n",
              "      <td>NaN</td>\n",
              "      <td>NaN</td>\n",
              "      <td>NaN</td>\n",
              "      <td>NaN</td>\n",
              "      <td>NaN</td>\n",
              "      <td>NaN</td>\n",
              "    </tr>\n",
              "    <tr>\n",
              "      <th>139511</th>\n",
              "      <td>202975</td>\n",
              "      <td>ร่มไทรคาราโอเกะ</td>\n",
              "      <td>1</td>\n",
              "      <td>0</td>\n",
              "      <td>Surat Thani</td>\n",
              "      <td>84140</td>\n",
              "      <td>w1xjfew</td>\n",
              "      <td>0</td>\n",
              "      <td>0.000000</td>\n",
              "      <td>0.0</td>\n",
              "      <td>NaN</td>\n",
              "      <td>0</td>\n",
              "      <td>0</td>\n",
              "      <td>282</td>\n",
              "      <td>0</td>\n",
              "      <td>0</td>\n",
              "      <td>0</td>\n",
              "      <td>Karaoke</td>\n",
              "      <td>NaN</td>\n",
              "      <td>NaN</td>\n",
              "      <td>NaN</td>\n",
              "      <td>NaN</td>\n",
              "      <td>NaN</td>\n",
              "      <td>NaN</td>\n",
              "      <td>NaN</td>\n",
              "      <td>NaN</td>\n",
              "      <td>NaN</td>\n",
              "      <td>NaN</td>\n",
              "      <td>NaN</td>\n",
              "      <td>NaN</td>\n",
              "      <td>NaN</td>\n",
              "      <td>NaN</td>\n",
              "    </tr>\n",
              "    <tr>\n",
              "      <th>201870</th>\n",
              "      <td>282055</td>\n",
              "      <td>สวนอาหารมิเกะ</td>\n",
              "      <td>1</td>\n",
              "      <td>0</td>\n",
              "      <td>Nakhon Sawan</td>\n",
              "      <td>60150</td>\n",
              "      <td>w4ycx5u</td>\n",
              "      <td>0</td>\n",
              "      <td>0.000000</td>\n",
              "      <td>0.0</td>\n",
              "      <td>NaN</td>\n",
              "      <td>0</td>\n",
              "      <td>0</td>\n",
              "      <td>119</td>\n",
              "      <td>0</td>\n",
              "      <td>0</td>\n",
              "      <td>0</td>\n",
              "      <td>Thai</td>\n",
              "      <td>NaN</td>\n",
              "      <td>NaN</td>\n",
              "      <td>NaN</td>\n",
              "      <td>NaN</td>\n",
              "      <td>NaN</td>\n",
              "      <td>NaN</td>\n",
              "      <td>NaN</td>\n",
              "      <td>NaN</td>\n",
              "      <td>NaN</td>\n",
              "      <td>NaN</td>\n",
              "      <td>NaN</td>\n",
              "      <td>NaN</td>\n",
              "      <td>NaN</td>\n",
              "      <td>NaN</td>\n",
              "    </tr>\n",
              "  </tbody>\n",
              "</table>\n",
              "</div>"
            ],
            "text/plain": [
              "            id                       name  ...  pet_friendly  delivery\n",
              "229208  319215               Jann Bistro   ...           0.0       NaN\n",
              "142996  207423                  ครัวโกไข่  ...           NaN       NaN\n",
              "151953  219117  ก๋วยเตี๋ยวเรือ โกเฮง 2498  ...           NaN       NaN\n",
              "169986  242286           ครกทอง แซ่บเวอร์  ...           NaN       NaN\n",
              "150857  217745  ก๋วยเตี๋ยวลูกชิ้นปลาฮีโร่  ...           NaN       NaN\n",
              "219197  303116         Brazil Blue Coffee  ...           NaN       NaN\n",
              "187186  263872                    Be Rich  ...           NaN       NaN\n",
              "182370  257863              แอ็บโซลูทโยคะ  ...           NaN       NaN\n",
              "139511  202975            ร่มไทรคาราโอเกะ  ...           NaN       NaN\n",
              "201870  282055              สวนอาหารมิเกะ  ...           NaN       NaN\n",
              "\n",
              "[10 rows x 32 columns]"
            ]
          },
          "metadata": {
            "tags": []
          },
          "execution_count": 120
        }
      ]
    },
    {
      "cell_type": "code",
      "metadata": {
        "id": "q-sVZNs-DrPV"
      },
      "source": [
        "##PCA"
      ],
      "execution_count": 122,
      "outputs": []
    },
    {
      "cell_type": "markdown",
      "metadata": {
        "id": "G52KU0y7FcCz"
      },
      "source": [
        "ดาวน์โหลด iris data มาใช้"
      ]
    },
    {
      "cell_type": "code",
      "metadata": {
        "id": "jSNYRA8CFPgE"
      },
      "source": [
        "from sklearn import datasets"
      ],
      "execution_count": 123,
      "outputs": []
    },
    {
      "cell_type": "code",
      "metadata": {
        "id": "qXkaDHh_Fkgj"
      },
      "source": [
        "iris_data = datasets.load_iris()"
      ],
      "execution_count": 129,
      "outputs": []
    },
    {
      "cell_type": "code",
      "metadata": {
        "id": "0f8pmwOwFsch",
        "outputId": "47b12846-ef97-463a-cb36-cf4d89ec93d9",
        "colab": {
          "base_uri": "https://localhost:8080/",
          "height": 1000
        }
      },
      "source": [
        "iris_data"
      ],
      "execution_count": 130,
      "outputs": [
        {
          "output_type": "execute_result",
          "data": {
            "text/plain": [
              "{'DESCR': '.. _iris_dataset:\\n\\nIris plants dataset\\n--------------------\\n\\n**Data Set Characteristics:**\\n\\n    :Number of Instances: 150 (50 in each of three classes)\\n    :Number of Attributes: 4 numeric, predictive attributes and the class\\n    :Attribute Information:\\n        - sepal length in cm\\n        - sepal width in cm\\n        - petal length in cm\\n        - petal width in cm\\n        - class:\\n                - Iris-Setosa\\n                - Iris-Versicolour\\n                - Iris-Virginica\\n                \\n    :Summary Statistics:\\n\\n    ============== ==== ==== ======= ===== ====================\\n                    Min  Max   Mean    SD   Class Correlation\\n    ============== ==== ==== ======= ===== ====================\\n    sepal length:   4.3  7.9   5.84   0.83    0.7826\\n    sepal width:    2.0  4.4   3.05   0.43   -0.4194\\n    petal length:   1.0  6.9   3.76   1.76    0.9490  (high!)\\n    petal width:    0.1  2.5   1.20   0.76    0.9565  (high!)\\n    ============== ==== ==== ======= ===== ====================\\n\\n    :Missing Attribute Values: None\\n    :Class Distribution: 33.3% for each of 3 classes.\\n    :Creator: R.A. Fisher\\n    :Donor: Michael Marshall (MARSHALL%PLU@io.arc.nasa.gov)\\n    :Date: July, 1988\\n\\nThe famous Iris database, first used by Sir R.A. Fisher. The dataset is taken\\nfrom Fisher\\'s paper. Note that it\\'s the same as in R, but not as in the UCI\\nMachine Learning Repository, which has two wrong data points.\\n\\nThis is perhaps the best known database to be found in the\\npattern recognition literature.  Fisher\\'s paper is a classic in the field and\\nis referenced frequently to this day.  (See Duda & Hart, for example.)  The\\ndata set contains 3 classes of 50 instances each, where each class refers to a\\ntype of iris plant.  One class is linearly separable from the other 2; the\\nlatter are NOT linearly separable from each other.\\n\\n.. topic:: References\\n\\n   - Fisher, R.A. \"The use of multiple measurements in taxonomic problems\"\\n     Annual Eugenics, 7, Part II, 179-188 (1936); also in \"Contributions to\\n     Mathematical Statistics\" (John Wiley, NY, 1950).\\n   - Duda, R.O., & Hart, P.E. (1973) Pattern Classification and Scene Analysis.\\n     (Q327.D83) John Wiley & Sons.  ISBN 0-471-22361-1.  See page 218.\\n   - Dasarathy, B.V. (1980) \"Nosing Around the Neighborhood: A New System\\n     Structure and Classification Rule for Recognition in Partially Exposed\\n     Environments\".  IEEE Transactions on Pattern Analysis and Machine\\n     Intelligence, Vol. PAMI-2, No. 1, 67-71.\\n   - Gates, G.W. (1972) \"The Reduced Nearest Neighbor Rule\".  IEEE Transactions\\n     on Information Theory, May 1972, 431-433.\\n   - See also: 1988 MLC Proceedings, 54-64.  Cheeseman et al\"s AUTOCLASS II\\n     conceptual clustering system finds 3 classes in the data.\\n   - Many, many more ...',\n",
              " 'data': array([[5.1, 3.5, 1.4, 0.2],\n",
              "        [4.9, 3. , 1.4, 0.2],\n",
              "        [4.7, 3.2, 1.3, 0.2],\n",
              "        [4.6, 3.1, 1.5, 0.2],\n",
              "        [5. , 3.6, 1.4, 0.2],\n",
              "        [5.4, 3.9, 1.7, 0.4],\n",
              "        [4.6, 3.4, 1.4, 0.3],\n",
              "        [5. , 3.4, 1.5, 0.2],\n",
              "        [4.4, 2.9, 1.4, 0.2],\n",
              "        [4.9, 3.1, 1.5, 0.1],\n",
              "        [5.4, 3.7, 1.5, 0.2],\n",
              "        [4.8, 3.4, 1.6, 0.2],\n",
              "        [4.8, 3. , 1.4, 0.1],\n",
              "        [4.3, 3. , 1.1, 0.1],\n",
              "        [5.8, 4. , 1.2, 0.2],\n",
              "        [5.7, 4.4, 1.5, 0.4],\n",
              "        [5.4, 3.9, 1.3, 0.4],\n",
              "        [5.1, 3.5, 1.4, 0.3],\n",
              "        [5.7, 3.8, 1.7, 0.3],\n",
              "        [5.1, 3.8, 1.5, 0.3],\n",
              "        [5.4, 3.4, 1.7, 0.2],\n",
              "        [5.1, 3.7, 1.5, 0.4],\n",
              "        [4.6, 3.6, 1. , 0.2],\n",
              "        [5.1, 3.3, 1.7, 0.5],\n",
              "        [4.8, 3.4, 1.9, 0.2],\n",
              "        [5. , 3. , 1.6, 0.2],\n",
              "        [5. , 3.4, 1.6, 0.4],\n",
              "        [5.2, 3.5, 1.5, 0.2],\n",
              "        [5.2, 3.4, 1.4, 0.2],\n",
              "        [4.7, 3.2, 1.6, 0.2],\n",
              "        [4.8, 3.1, 1.6, 0.2],\n",
              "        [5.4, 3.4, 1.5, 0.4],\n",
              "        [5.2, 4.1, 1.5, 0.1],\n",
              "        [5.5, 4.2, 1.4, 0.2],\n",
              "        [4.9, 3.1, 1.5, 0.2],\n",
              "        [5. , 3.2, 1.2, 0.2],\n",
              "        [5.5, 3.5, 1.3, 0.2],\n",
              "        [4.9, 3.6, 1.4, 0.1],\n",
              "        [4.4, 3. , 1.3, 0.2],\n",
              "        [5.1, 3.4, 1.5, 0.2],\n",
              "        [5. , 3.5, 1.3, 0.3],\n",
              "        [4.5, 2.3, 1.3, 0.3],\n",
              "        [4.4, 3.2, 1.3, 0.2],\n",
              "        [5. , 3.5, 1.6, 0.6],\n",
              "        [5.1, 3.8, 1.9, 0.4],\n",
              "        [4.8, 3. , 1.4, 0.3],\n",
              "        [5.1, 3.8, 1.6, 0.2],\n",
              "        [4.6, 3.2, 1.4, 0.2],\n",
              "        [5.3, 3.7, 1.5, 0.2],\n",
              "        [5. , 3.3, 1.4, 0.2],\n",
              "        [7. , 3.2, 4.7, 1.4],\n",
              "        [6.4, 3.2, 4.5, 1.5],\n",
              "        [6.9, 3.1, 4.9, 1.5],\n",
              "        [5.5, 2.3, 4. , 1.3],\n",
              "        [6.5, 2.8, 4.6, 1.5],\n",
              "        [5.7, 2.8, 4.5, 1.3],\n",
              "        [6.3, 3.3, 4.7, 1.6],\n",
              "        [4.9, 2.4, 3.3, 1. ],\n",
              "        [6.6, 2.9, 4.6, 1.3],\n",
              "        [5.2, 2.7, 3.9, 1.4],\n",
              "        [5. , 2. , 3.5, 1. ],\n",
              "        [5.9, 3. , 4.2, 1.5],\n",
              "        [6. , 2.2, 4. , 1. ],\n",
              "        [6.1, 2.9, 4.7, 1.4],\n",
              "        [5.6, 2.9, 3.6, 1.3],\n",
              "        [6.7, 3.1, 4.4, 1.4],\n",
              "        [5.6, 3. , 4.5, 1.5],\n",
              "        [5.8, 2.7, 4.1, 1. ],\n",
              "        [6.2, 2.2, 4.5, 1.5],\n",
              "        [5.6, 2.5, 3.9, 1.1],\n",
              "        [5.9, 3.2, 4.8, 1.8],\n",
              "        [6.1, 2.8, 4. , 1.3],\n",
              "        [6.3, 2.5, 4.9, 1.5],\n",
              "        [6.1, 2.8, 4.7, 1.2],\n",
              "        [6.4, 2.9, 4.3, 1.3],\n",
              "        [6.6, 3. , 4.4, 1.4],\n",
              "        [6.8, 2.8, 4.8, 1.4],\n",
              "        [6.7, 3. , 5. , 1.7],\n",
              "        [6. , 2.9, 4.5, 1.5],\n",
              "        [5.7, 2.6, 3.5, 1. ],\n",
              "        [5.5, 2.4, 3.8, 1.1],\n",
              "        [5.5, 2.4, 3.7, 1. ],\n",
              "        [5.8, 2.7, 3.9, 1.2],\n",
              "        [6. , 2.7, 5.1, 1.6],\n",
              "        [5.4, 3. , 4.5, 1.5],\n",
              "        [6. , 3.4, 4.5, 1.6],\n",
              "        [6.7, 3.1, 4.7, 1.5],\n",
              "        [6.3, 2.3, 4.4, 1.3],\n",
              "        [5.6, 3. , 4.1, 1.3],\n",
              "        [5.5, 2.5, 4. , 1.3],\n",
              "        [5.5, 2.6, 4.4, 1.2],\n",
              "        [6.1, 3. , 4.6, 1.4],\n",
              "        [5.8, 2.6, 4. , 1.2],\n",
              "        [5. , 2.3, 3.3, 1. ],\n",
              "        [5.6, 2.7, 4.2, 1.3],\n",
              "        [5.7, 3. , 4.2, 1.2],\n",
              "        [5.7, 2.9, 4.2, 1.3],\n",
              "        [6.2, 2.9, 4.3, 1.3],\n",
              "        [5.1, 2.5, 3. , 1.1],\n",
              "        [5.7, 2.8, 4.1, 1.3],\n",
              "        [6.3, 3.3, 6. , 2.5],\n",
              "        [5.8, 2.7, 5.1, 1.9],\n",
              "        [7.1, 3. , 5.9, 2.1],\n",
              "        [6.3, 2.9, 5.6, 1.8],\n",
              "        [6.5, 3. , 5.8, 2.2],\n",
              "        [7.6, 3. , 6.6, 2.1],\n",
              "        [4.9, 2.5, 4.5, 1.7],\n",
              "        [7.3, 2.9, 6.3, 1.8],\n",
              "        [6.7, 2.5, 5.8, 1.8],\n",
              "        [7.2, 3.6, 6.1, 2.5],\n",
              "        [6.5, 3.2, 5.1, 2. ],\n",
              "        [6.4, 2.7, 5.3, 1.9],\n",
              "        [6.8, 3. , 5.5, 2.1],\n",
              "        [5.7, 2.5, 5. , 2. ],\n",
              "        [5.8, 2.8, 5.1, 2.4],\n",
              "        [6.4, 3.2, 5.3, 2.3],\n",
              "        [6.5, 3. , 5.5, 1.8],\n",
              "        [7.7, 3.8, 6.7, 2.2],\n",
              "        [7.7, 2.6, 6.9, 2.3],\n",
              "        [6. , 2.2, 5. , 1.5],\n",
              "        [6.9, 3.2, 5.7, 2.3],\n",
              "        [5.6, 2.8, 4.9, 2. ],\n",
              "        [7.7, 2.8, 6.7, 2. ],\n",
              "        [6.3, 2.7, 4.9, 1.8],\n",
              "        [6.7, 3.3, 5.7, 2.1],\n",
              "        [7.2, 3.2, 6. , 1.8],\n",
              "        [6.2, 2.8, 4.8, 1.8],\n",
              "        [6.1, 3. , 4.9, 1.8],\n",
              "        [6.4, 2.8, 5.6, 2.1],\n",
              "        [7.2, 3. , 5.8, 1.6],\n",
              "        [7.4, 2.8, 6.1, 1.9],\n",
              "        [7.9, 3.8, 6.4, 2. ],\n",
              "        [6.4, 2.8, 5.6, 2.2],\n",
              "        [6.3, 2.8, 5.1, 1.5],\n",
              "        [6.1, 2.6, 5.6, 1.4],\n",
              "        [7.7, 3. , 6.1, 2.3],\n",
              "        [6.3, 3.4, 5.6, 2.4],\n",
              "        [6.4, 3.1, 5.5, 1.8],\n",
              "        [6. , 3. , 4.8, 1.8],\n",
              "        [6.9, 3.1, 5.4, 2.1],\n",
              "        [6.7, 3.1, 5.6, 2.4],\n",
              "        [6.9, 3.1, 5.1, 2.3],\n",
              "        [5.8, 2.7, 5.1, 1.9],\n",
              "        [6.8, 3.2, 5.9, 2.3],\n",
              "        [6.7, 3.3, 5.7, 2.5],\n",
              "        [6.7, 3. , 5.2, 2.3],\n",
              "        [6.3, 2.5, 5. , 1.9],\n",
              "        [6.5, 3. , 5.2, 2. ],\n",
              "        [6.2, 3.4, 5.4, 2.3],\n",
              "        [5.9, 3. , 5.1, 1.8]]),\n",
              " 'feature_names': ['sepal length (cm)',\n",
              "  'sepal width (cm)',\n",
              "  'petal length (cm)',\n",
              "  'petal width (cm)'],\n",
              " 'filename': '/usr/local/lib/python3.6/dist-packages/sklearn/datasets/data/iris.csv',\n",
              " 'target': array([0, 0, 0, 0, 0, 0, 0, 0, 0, 0, 0, 0, 0, 0, 0, 0, 0, 0, 0, 0, 0, 0,\n",
              "        0, 0, 0, 0, 0, 0, 0, 0, 0, 0, 0, 0, 0, 0, 0, 0, 0, 0, 0, 0, 0, 0,\n",
              "        0, 0, 0, 0, 0, 0, 1, 1, 1, 1, 1, 1, 1, 1, 1, 1, 1, 1, 1, 1, 1, 1,\n",
              "        1, 1, 1, 1, 1, 1, 1, 1, 1, 1, 1, 1, 1, 1, 1, 1, 1, 1, 1, 1, 1, 1,\n",
              "        1, 1, 1, 1, 1, 1, 1, 1, 1, 1, 1, 1, 2, 2, 2, 2, 2, 2, 2, 2, 2, 2,\n",
              "        2, 2, 2, 2, 2, 2, 2, 2, 2, 2, 2, 2, 2, 2, 2, 2, 2, 2, 2, 2, 2, 2,\n",
              "        2, 2, 2, 2, 2, 2, 2, 2, 2, 2, 2, 2, 2, 2, 2, 2, 2, 2]),\n",
              " 'target_names': array(['setosa', 'versicolor', 'virginica'], dtype='<U10')}"
            ]
          },
          "metadata": {
            "tags": []
          },
          "execution_count": 130
        }
      ]
    },
    {
      "cell_type": "code",
      "metadata": {
        "id": "DpyracVjFt7I",
        "outputId": "3cf0dbf4-b274-4a40-d345-faa422ba5b0e",
        "colab": {
          "base_uri": "https://localhost:8080/",
          "height": 136
        }
      },
      "source": [
        "iris_data['target'] #target คือ class ข้อมูลนั้นๆ เช่น ข้อมูล 1 ตัว มี 4 feature ซึ่งทั้ง 4 feature นั้นจะสามารถแบ่งประเภทของ data ได้ ex data9y;muj 1 = [6.5,3.5,1.5,2.1] =>> เป็นดอกไม้ประเภทที่ 0"
      ],
      "execution_count": 133,
      "outputs": [
        {
          "output_type": "execute_result",
          "data": {
            "text/plain": [
              "array([0, 0, 0, 0, 0, 0, 0, 0, 0, 0, 0, 0, 0, 0, 0, 0, 0, 0, 0, 0, 0, 0,\n",
              "       0, 0, 0, 0, 0, 0, 0, 0, 0, 0, 0, 0, 0, 0, 0, 0, 0, 0, 0, 0, 0, 0,\n",
              "       0, 0, 0, 0, 0, 0, 1, 1, 1, 1, 1, 1, 1, 1, 1, 1, 1, 1, 1, 1, 1, 1,\n",
              "       1, 1, 1, 1, 1, 1, 1, 1, 1, 1, 1, 1, 1, 1, 1, 1, 1, 1, 1, 1, 1, 1,\n",
              "       1, 1, 1, 1, 1, 1, 1, 1, 1, 1, 1, 1, 2, 2, 2, 2, 2, 2, 2, 2, 2, 2,\n",
              "       2, 2, 2, 2, 2, 2, 2, 2, 2, 2, 2, 2, 2, 2, 2, 2, 2, 2, 2, 2, 2, 2,\n",
              "       2, 2, 2, 2, 2, 2, 2, 2, 2, 2, 2, 2, 2, 2, 2, 2, 2, 2])"
            ]
          },
          "metadata": {
            "tags": []
          },
          "execution_count": 133
        }
      ]
    },
    {
      "cell_type": "code",
      "metadata": {
        "id": "rrGE3oWiGMzZ",
        "outputId": "46fad5ca-fc7b-406f-bde5-5b342bfdefdd",
        "colab": {
          "base_uri": "https://localhost:8080/",
          "height": 285
        }
      },
      "source": [
        "plt.scatter(iris_data['data'][:50,0],iris_data['data'][:50,1],s=100,c='c',alpha=0.5)\n",
        "plt.scatter(iris_data['data'][:50,0],iris_data['data'][50:100,1],s=100,c='m',alpha=0.5)\n",
        "plt.scatter(iris_data['data'][:50,0],iris_data['data'][100:150,1],s=100,c='y',alpha=0.5)"
      ],
      "execution_count": 136,
      "outputs": [
        {
          "output_type": "execute_result",
          "data": {
            "text/plain": [
              "<matplotlib.collections.PathCollection at 0x7f6f41f92160>"
            ]
          },
          "metadata": {
            "tags": []
          },
          "execution_count": 136
        },
        {
          "output_type": "display_data",
          "data": {
            "image/png": "[encoded data removed]",
            "text/plain": [
              "<Figure size 432x288 with 1 Axes>"
            ]
          },
          "metadata": {
            "tags": [],
            "needs_background": "light"
          }
        }
      ]
    },
    {
      "cell_type": "markdown",
      "metadata": {
        "id": "PNvxCbd0H4QY"
      },
      "source": [
        "#HW 12 : plot scatter 2d ของ iris data โดยทดลองทุกๆ combination เช่น\n",
        "* dimension1 x dimension2\n",
        "* dimension2 x dimension1\n",
        "* ...\n",
        "* แล้วดูว่า combination ไหนดีที่สุด"
      ]
    },
    {
      "cell_type": "code",
      "metadata": {
        "id": "rkDMLEWJHLa6"
      },
      "source": [
        ""
      ],
      "execution_count": null,
      "outputs": []
    }
  ]
}