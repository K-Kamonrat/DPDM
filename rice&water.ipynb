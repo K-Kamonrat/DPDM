{
  "nbformat": 4,
  "nbformat_minor": 0,
  "metadata": {
    "colab": {
      "name": "rice&water.ipynb",
      "provenance": [],
      "authorship_tag": "ABX9TyP8RKTcgygubhyZv7vkhu0s",
      "include_colab_link": true
    },
    "kernelspec": {
      "name": "python3",
      "display_name": "Python 3"
    }
  },
  "cells": [
    {
      "cell_type": "markdown",
      "metadata": {
        "id": "view-in-github",
        "colab_type": "text"
      },
      "source": [
        "<a href=\"https://colab.research.google.com/github/K-Kamonrat/DPDM/blob/master/rice%26water.ipynb\" target=\"_parent\"><img src=\"https://colab.research.google.com/assets/colab-badge.svg\" alt=\"Open In Colab\"/></a>"
      ]
    },
    {
      "cell_type": "code",
      "metadata": {
        "id": "Qws7_DeuJd2G"
      },
      "source": [
        "import pandas as pd"
      ],
      "execution_count": 1,
      "outputs": []
    },
    {
      "cell_type": "code",
      "metadata": {
        "id": "Vpcyte86nvGi"
      },
      "source": [
        "from matplotlib import pyplot as plt"
      ],
      "execution_count": 2,
      "outputs": []
    },
    {
      "cell_type": "code",
      "metadata": {
        "id": "JHlDWda3JlN7"
      },
      "source": [
        "from google.colab import drive"
      ],
      "execution_count": 3,
      "outputs": []
    },
    {
      "cell_type": "code",
      "metadata": {
        "id": "94vLrEf5J6zF",
        "outputId": "73095389-7ea0-433a-c412-648eb75c2a2f",
        "colab": {
          "base_uri": "https://localhost:8080/"
        }
      },
      "source": [
        "drive.mount('/content/drive')"
      ],
      "execution_count": 4,
      "outputs": [
        {
          "output_type": "stream",
          "text": [
            "Mounted at /content/drive\n"
          ],
          "name": "stdout"
        }
      ]
    },
    {
      "cell_type": "code",
      "metadata": {
        "id": "hbrMt6byJ-lE"
      },
      "source": [
        "import os\n",
        "path =  '/content/drive/My Drive/DPDM_Project'"
      ],
      "execution_count": 5,
      "outputs": []
    },
    {
      "cell_type": "code",
      "metadata": {
        "id": "TnF4mABsKK1Z"
      },
      "source": [
        "water = os.path.join(path, 'water.csv')"
      ],
      "execution_count": 6,
      "outputs": []
    },
    {
      "cell_type": "code",
      "metadata": {
        "id": "sdsNRWtPKS6x",
        "outputId": "8bcc1bde-e7f9-4b11-cdd9-df2704179a2a",
        "colab": {
          "base_uri": "https://localhost:8080/",
          "height": 402
        }
      },
      "source": [
        "water_df = pd.read_csv(water)\n",
        "water_df"
      ],
      "execution_count": 7,
      "outputs": [
        {
          "output_type": "execute_result",
          "data": {
            "text/html": [
              "<div>\n",
              "<style scoped>\n",
              "    .dataframe tbody tr th:only-of-type {\n",
              "        vertical-align: middle;\n",
              "    }\n",
              "\n",
              "    .dataframe tbody tr th {\n",
              "        vertical-align: top;\n",
              "    }\n",
              "\n",
              "    .dataframe thead th {\n",
              "        text-align: right;\n",
              "    }\n",
              "</style>\n",
              "<table border=\"1\" class=\"dataframe\">\n",
              "  <thead>\n",
              "    <tr style=\"text-align: right;\">\n",
              "      <th></th>\n",
              "      <th>ID</th>\n",
              "      <th>ตำบล</th>\n",
              "      <th>อำเภอ</th>\n",
              "      <th>จังหวัด</th>\n",
              "      <th>พิกัด (X) E</th>\n",
              "      <th>พิกัด (Y) N</th>\n",
              "      <th>ปีงบประมาณ</th>\n",
              "    </tr>\n",
              "  </thead>\n",
              "  <tbody>\n",
              "    <tr>\n",
              "      <th>0</th>\n",
              "      <td>1</td>\n",
              "      <td>เกาะกลาง</td>\n",
              "      <td>เกาะลันตา</td>\n",
              "      <td>กระบี่</td>\n",
              "      <td>505670</td>\n",
              "      <td>858758</td>\n",
              "      <td>2559</td>\n",
              "    </tr>\n",
              "    <tr>\n",
              "      <th>1</th>\n",
              "      <td>2</td>\n",
              "      <td>เกาะกลาง</td>\n",
              "      <td>เกาะลันตา</td>\n",
              "      <td>กระบี่</td>\n",
              "      <td>506333</td>\n",
              "      <td>861539</td>\n",
              "      <td>2559</td>\n",
              "    </tr>\n",
              "    <tr>\n",
              "      <th>2</th>\n",
              "      <td>3</td>\n",
              "      <td>เกาะลันตาน้อย</td>\n",
              "      <td>เกาะลันตา</td>\n",
              "      <td>กระบี่</td>\n",
              "      <td>513081</td>\n",
              "      <td>840391</td>\n",
              "      <td>2559</td>\n",
              "    </tr>\n",
              "    <tr>\n",
              "      <th>3</th>\n",
              "      <td>4</td>\n",
              "      <td>เกาะลันตาน้อย</td>\n",
              "      <td>เกาะลันตา</td>\n",
              "      <td>กระบี่</td>\n",
              "      <td>512434</td>\n",
              "      <td>842817</td>\n",
              "      <td>2559</td>\n",
              "    </tr>\n",
              "    <tr>\n",
              "      <th>4</th>\n",
              "      <td>5</td>\n",
              "      <td>เกาะลันตาน้อย</td>\n",
              "      <td>เกาะลันตา</td>\n",
              "      <td>กระบี่</td>\n",
              "      <td>512451</td>\n",
              "      <td>842706</td>\n",
              "      <td>2559</td>\n",
              "    </tr>\n",
              "    <tr>\n",
              "      <th>...</th>\n",
              "      <td>...</td>\n",
              "      <td>...</td>\n",
              "      <td>...</td>\n",
              "      <td>...</td>\n",
              "      <td>...</td>\n",
              "      <td>...</td>\n",
              "      <td>...</td>\n",
              "    </tr>\n",
              "    <tr>\n",
              "      <th>14426</th>\n",
              "      <td>14427</td>\n",
              "      <td>เหล่าเสือโก้ก</td>\n",
              "      <td>เหล่าเสือโก้ก</td>\n",
              "      <td>อุบลราชธานี</td>\n",
              "      <td>1134830</td>\n",
              "      <td>1709650</td>\n",
              "      <td>2559</td>\n",
              "    </tr>\n",
              "    <tr>\n",
              "      <th>14427</th>\n",
              "      <td>14428</td>\n",
              "      <td>เหล่าเสือโก้ก</td>\n",
              "      <td>เหล่าเสือโก้ก</td>\n",
              "      <td>อุบลราชธานี</td>\n",
              "      <td>1135160</td>\n",
              "      <td>1709614</td>\n",
              "      <td>2559</td>\n",
              "    </tr>\n",
              "    <tr>\n",
              "      <th>14428</th>\n",
              "      <td>14429</td>\n",
              "      <td>เหล่าเสือโก้ก</td>\n",
              "      <td>เหล่าเสือโก้ก</td>\n",
              "      <td>อุบลราชธานี</td>\n",
              "      <td>1134023</td>\n",
              "      <td>1708384</td>\n",
              "      <td>2559</td>\n",
              "    </tr>\n",
              "    <tr>\n",
              "      <th>14429</th>\n",
              "      <td>14430</td>\n",
              "      <td>เหล่าเสือโก้ก</td>\n",
              "      <td>เหล่าเสือโก้ก</td>\n",
              "      <td>อุบลราชธานี</td>\n",
              "      <td>1133663</td>\n",
              "      <td>1710891</td>\n",
              "      <td>2559</td>\n",
              "    </tr>\n",
              "    <tr>\n",
              "      <th>14430</th>\n",
              "      <td>14431</td>\n",
              "      <td>เหล่าเสือโก้ก</td>\n",
              "      <td>เหล่าเสือโก้ก</td>\n",
              "      <td>อุบลราชธานี</td>\n",
              "      <td>1128373</td>\n",
              "      <td>1706009</td>\n",
              "      <td>2559</td>\n",
              "    </tr>\n",
              "  </tbody>\n",
              "</table>\n",
              "<p>14431 rows × 7 columns</p>\n",
              "</div>"
            ],
            "text/plain": [
              "          ID           ตำบล  ... พิกัด (Y) N ปีงบประมาณ\n",
              "0          1       เกาะกลาง  ...      858758       2559\n",
              "1          2       เกาะกลาง  ...      861539       2559\n",
              "2          3  เกาะลันตาน้อย  ...      840391       2559\n",
              "3          4  เกาะลันตาน้อย  ...      842817       2559\n",
              "4          5  เกาะลันตาน้อย  ...      842706       2559\n",
              "...      ...            ...  ...         ...        ...\n",
              "14426  14427  เหล่าเสือโก้ก  ...     1709650       2559\n",
              "14427  14428  เหล่าเสือโก้ก  ...     1709614       2559\n",
              "14428  14429  เหล่าเสือโก้ก  ...     1708384       2559\n",
              "14429  14430  เหล่าเสือโก้ก  ...     1710891       2559\n",
              "14430  14431  เหล่าเสือโก้ก  ...     1706009       2559\n",
              "\n",
              "[14431 rows x 7 columns]"
            ]
          },
          "metadata": {
            "tags": []
          },
          "execution_count": 7
        }
      ]
    },
    {
      "cell_type": "code",
      "metadata": {
        "id": "yEu0YGuIPHMn",
        "outputId": "75736c13-478c-4b6f-f347-6edaf4fa837b",
        "colab": {
          "base_uri": "https://localhost:8080/",
          "height": 1000
        }
      },
      "source": [
        "water_number_province =  water_df.groupby('จังหวัด').count()\n",
        "water_number_province"
      ],
      "execution_count": 8,
      "outputs": [
        {
          "output_type": "execute_result",
          "data": {
            "text/html": [
              "<div>\n",
              "<style scoped>\n",
              "    .dataframe tbody tr th:only-of-type {\n",
              "        vertical-align: middle;\n",
              "    }\n",
              "\n",
              "    .dataframe tbody tr th {\n",
              "        vertical-align: top;\n",
              "    }\n",
              "\n",
              "    .dataframe thead th {\n",
              "        text-align: right;\n",
              "    }\n",
              "</style>\n",
              "<table border=\"1\" class=\"dataframe\">\n",
              "  <thead>\n",
              "    <tr style=\"text-align: right;\">\n",
              "      <th></th>\n",
              "      <th>ID</th>\n",
              "      <th>ตำบล</th>\n",
              "      <th>อำเภอ</th>\n",
              "      <th>พิกัด (X) E</th>\n",
              "      <th>พิกัด (Y) N</th>\n",
              "      <th>ปีงบประมาณ</th>\n",
              "    </tr>\n",
              "    <tr>\n",
              "      <th>จังหวัด</th>\n",
              "      <th></th>\n",
              "      <th></th>\n",
              "      <th></th>\n",
              "      <th></th>\n",
              "      <th></th>\n",
              "      <th></th>\n",
              "    </tr>\n",
              "  </thead>\n",
              "  <tbody>\n",
              "    <tr>\n",
              "      <th>กระบี่</th>\n",
              "      <td>28</td>\n",
              "      <td>28</td>\n",
              "      <td>28</td>\n",
              "      <td>28</td>\n",
              "      <td>28</td>\n",
              "      <td>28</td>\n",
              "    </tr>\n",
              "    <tr>\n",
              "      <th>กาญจนบุรี</th>\n",
              "      <td>48</td>\n",
              "      <td>48</td>\n",
              "      <td>48</td>\n",
              "      <td>48</td>\n",
              "      <td>48</td>\n",
              "      <td>48</td>\n",
              "    </tr>\n",
              "    <tr>\n",
              "      <th>กาฬสินธุ์</th>\n",
              "      <td>864</td>\n",
              "      <td>864</td>\n",
              "      <td>864</td>\n",
              "      <td>864</td>\n",
              "      <td>864</td>\n",
              "      <td>864</td>\n",
              "    </tr>\n",
              "    <tr>\n",
              "      <th>กำแพงเพชร</th>\n",
              "      <td>298</td>\n",
              "      <td>298</td>\n",
              "      <td>298</td>\n",
              "      <td>298</td>\n",
              "      <td>298</td>\n",
              "      <td>298</td>\n",
              "    </tr>\n",
              "    <tr>\n",
              "      <th>ขอนแก่น</th>\n",
              "      <td>735</td>\n",
              "      <td>735</td>\n",
              "      <td>735</td>\n",
              "      <td>735</td>\n",
              "      <td>735</td>\n",
              "      <td>735</td>\n",
              "    </tr>\n",
              "    <tr>\n",
              "      <th>จันทบุรี</th>\n",
              "      <td>69</td>\n",
              "      <td>69</td>\n",
              "      <td>69</td>\n",
              "      <td>69</td>\n",
              "      <td>69</td>\n",
              "      <td>69</td>\n",
              "    </tr>\n",
              "    <tr>\n",
              "      <th>ฉะเชิงเทรา</th>\n",
              "      <td>97</td>\n",
              "      <td>97</td>\n",
              "      <td>97</td>\n",
              "      <td>97</td>\n",
              "      <td>97</td>\n",
              "      <td>97</td>\n",
              "    </tr>\n",
              "    <tr>\n",
              "      <th>ชลบุรี</th>\n",
              "      <td>47</td>\n",
              "      <td>47</td>\n",
              "      <td>47</td>\n",
              "      <td>47</td>\n",
              "      <td>47</td>\n",
              "      <td>47</td>\n",
              "    </tr>\n",
              "    <tr>\n",
              "      <th>ชัยนาท</th>\n",
              "      <td>39</td>\n",
              "      <td>39</td>\n",
              "      <td>39</td>\n",
              "      <td>39</td>\n",
              "      <td>39</td>\n",
              "      <td>39</td>\n",
              "    </tr>\n",
              "    <tr>\n",
              "      <th>ชัยภูมิ</th>\n",
              "      <td>979</td>\n",
              "      <td>979</td>\n",
              "      <td>979</td>\n",
              "      <td>979</td>\n",
              "      <td>979</td>\n",
              "      <td>979</td>\n",
              "    </tr>\n",
              "    <tr>\n",
              "      <th>ชุมพร</th>\n",
              "      <td>20</td>\n",
              "      <td>20</td>\n",
              "      <td>20</td>\n",
              "      <td>20</td>\n",
              "      <td>20</td>\n",
              "      <td>20</td>\n",
              "    </tr>\n",
              "    <tr>\n",
              "      <th>ตรัง</th>\n",
              "      <td>20</td>\n",
              "      <td>20</td>\n",
              "      <td>20</td>\n",
              "      <td>20</td>\n",
              "      <td>20</td>\n",
              "      <td>20</td>\n",
              "    </tr>\n",
              "    <tr>\n",
              "      <th>ตราด</th>\n",
              "      <td>13</td>\n",
              "      <td>13</td>\n",
              "      <td>13</td>\n",
              "      <td>13</td>\n",
              "      <td>13</td>\n",
              "      <td>13</td>\n",
              "    </tr>\n",
              "    <tr>\n",
              "      <th>ตาก</th>\n",
              "      <td>123</td>\n",
              "      <td>123</td>\n",
              "      <td>123</td>\n",
              "      <td>123</td>\n",
              "      <td>123</td>\n",
              "      <td>123</td>\n",
              "    </tr>\n",
              "    <tr>\n",
              "      <th>นครพนม</th>\n",
              "      <td>2</td>\n",
              "      <td>2</td>\n",
              "      <td>2</td>\n",
              "      <td>2</td>\n",
              "      <td>2</td>\n",
              "      <td>2</td>\n",
              "    </tr>\n",
              "    <tr>\n",
              "      <th>นครราชสีมา</th>\n",
              "      <td>674</td>\n",
              "      <td>674</td>\n",
              "      <td>674</td>\n",
              "      <td>674</td>\n",
              "      <td>674</td>\n",
              "      <td>674</td>\n",
              "    </tr>\n",
              "    <tr>\n",
              "      <th>นครสวรรค์</th>\n",
              "      <td>249</td>\n",
              "      <td>249</td>\n",
              "      <td>249</td>\n",
              "      <td>249</td>\n",
              "      <td>249</td>\n",
              "      <td>249</td>\n",
              "    </tr>\n",
              "    <tr>\n",
              "      <th>นราธิวาส</th>\n",
              "      <td>19</td>\n",
              "      <td>19</td>\n",
              "      <td>19</td>\n",
              "      <td>19</td>\n",
              "      <td>19</td>\n",
              "      <td>19</td>\n",
              "    </tr>\n",
              "    <tr>\n",
              "      <th>น่าน</th>\n",
              "      <td>50</td>\n",
              "      <td>50</td>\n",
              "      <td>50</td>\n",
              "      <td>50</td>\n",
              "      <td>50</td>\n",
              "      <td>50</td>\n",
              "    </tr>\n",
              "    <tr>\n",
              "      <th>บึงกาฬ</th>\n",
              "      <td>633</td>\n",
              "      <td>633</td>\n",
              "      <td>633</td>\n",
              "      <td>633</td>\n",
              "      <td>633</td>\n",
              "      <td>633</td>\n",
              "    </tr>\n",
              "    <tr>\n",
              "      <th>บุรีรัมย์</th>\n",
              "      <td>476</td>\n",
              "      <td>476</td>\n",
              "      <td>476</td>\n",
              "      <td>476</td>\n",
              "      <td>476</td>\n",
              "      <td>476</td>\n",
              "    </tr>\n",
              "    <tr>\n",
              "      <th>ประจวบคีรีขันธ์</th>\n",
              "      <td>50</td>\n",
              "      <td>50</td>\n",
              "      <td>50</td>\n",
              "      <td>50</td>\n",
              "      <td>50</td>\n",
              "      <td>50</td>\n",
              "    </tr>\n",
              "    <tr>\n",
              "      <th>ปัตตานี</th>\n",
              "      <td>20</td>\n",
              "      <td>20</td>\n",
              "      <td>20</td>\n",
              "      <td>20</td>\n",
              "      <td>20</td>\n",
              "      <td>20</td>\n",
              "    </tr>\n",
              "    <tr>\n",
              "      <th>พะเยา</th>\n",
              "      <td>395</td>\n",
              "      <td>395</td>\n",
              "      <td>395</td>\n",
              "      <td>395</td>\n",
              "      <td>395</td>\n",
              "      <td>395</td>\n",
              "    </tr>\n",
              "    <tr>\n",
              "      <th>พังงา</th>\n",
              "      <td>20</td>\n",
              "      <td>20</td>\n",
              "      <td>20</td>\n",
              "      <td>20</td>\n",
              "      <td>20</td>\n",
              "      <td>20</td>\n",
              "    </tr>\n",
              "    <tr>\n",
              "      <th>พิจิตร</th>\n",
              "      <td>195</td>\n",
              "      <td>195</td>\n",
              "      <td>195</td>\n",
              "      <td>195</td>\n",
              "      <td>195</td>\n",
              "      <td>195</td>\n",
              "    </tr>\n",
              "    <tr>\n",
              "      <th>พิษณุโลก</th>\n",
              "      <td>504</td>\n",
              "      <td>504</td>\n",
              "      <td>504</td>\n",
              "      <td>504</td>\n",
              "      <td>504</td>\n",
              "      <td>504</td>\n",
              "    </tr>\n",
              "    <tr>\n",
              "      <th>มหาสารคาม</th>\n",
              "      <td>115</td>\n",
              "      <td>115</td>\n",
              "      <td>115</td>\n",
              "      <td>115</td>\n",
              "      <td>115</td>\n",
              "      <td>115</td>\n",
              "    </tr>\n",
              "    <tr>\n",
              "      <th>มุกดาหาร</th>\n",
              "      <td>475</td>\n",
              "      <td>475</td>\n",
              "      <td>475</td>\n",
              "      <td>475</td>\n",
              "      <td>475</td>\n",
              "      <td>475</td>\n",
              "    </tr>\n",
              "    <tr>\n",
              "      <th>ยะลา</th>\n",
              "      <td>18</td>\n",
              "      <td>18</td>\n",
              "      <td>18</td>\n",
              "      <td>18</td>\n",
              "      <td>18</td>\n",
              "      <td>18</td>\n",
              "    </tr>\n",
              "    <tr>\n",
              "      <th>ยโสธร</th>\n",
              "      <td>701</td>\n",
              "      <td>701</td>\n",
              "      <td>701</td>\n",
              "      <td>701</td>\n",
              "      <td>701</td>\n",
              "      <td>701</td>\n",
              "    </tr>\n",
              "    <tr>\n",
              "      <th>ระยอง</th>\n",
              "      <td>20</td>\n",
              "      <td>20</td>\n",
              "      <td>20</td>\n",
              "      <td>20</td>\n",
              "      <td>20</td>\n",
              "      <td>20</td>\n",
              "    </tr>\n",
              "    <tr>\n",
              "      <th>ราชบุรี</th>\n",
              "      <td>50</td>\n",
              "      <td>50</td>\n",
              "      <td>50</td>\n",
              "      <td>50</td>\n",
              "      <td>50</td>\n",
              "      <td>50</td>\n",
              "    </tr>\n",
              "    <tr>\n",
              "      <th>ลพบุรี</th>\n",
              "      <td>57</td>\n",
              "      <td>57</td>\n",
              "      <td>57</td>\n",
              "      <td>57</td>\n",
              "      <td>57</td>\n",
              "      <td>57</td>\n",
              "    </tr>\n",
              "    <tr>\n",
              "      <th>ลำปาง</th>\n",
              "      <td>30</td>\n",
              "      <td>30</td>\n",
              "      <td>30</td>\n",
              "      <td>30</td>\n",
              "      <td>30</td>\n",
              "      <td>30</td>\n",
              "    </tr>\n",
              "    <tr>\n",
              "      <th>ลำพูน</th>\n",
              "      <td>51</td>\n",
              "      <td>51</td>\n",
              "      <td>51</td>\n",
              "      <td>51</td>\n",
              "      <td>51</td>\n",
              "      <td>51</td>\n",
              "    </tr>\n",
              "    <tr>\n",
              "      <th>ศรีสะเกษ</th>\n",
              "      <td>123</td>\n",
              "      <td>123</td>\n",
              "      <td>123</td>\n",
              "      <td>123</td>\n",
              "      <td>123</td>\n",
              "      <td>123</td>\n",
              "    </tr>\n",
              "    <tr>\n",
              "      <th>สกลนคร</th>\n",
              "      <td>1148</td>\n",
              "      <td>1148</td>\n",
              "      <td>1148</td>\n",
              "      <td>1148</td>\n",
              "      <td>1148</td>\n",
              "      <td>1148</td>\n",
              "    </tr>\n",
              "    <tr>\n",
              "      <th>สงขลา</th>\n",
              "      <td>20</td>\n",
              "      <td>20</td>\n",
              "      <td>20</td>\n",
              "      <td>20</td>\n",
              "      <td>20</td>\n",
              "      <td>20</td>\n",
              "    </tr>\n",
              "    <tr>\n",
              "      <th>สระบุรี</th>\n",
              "      <td>34</td>\n",
              "      <td>34</td>\n",
              "      <td>34</td>\n",
              "      <td>34</td>\n",
              "      <td>34</td>\n",
              "      <td>34</td>\n",
              "    </tr>\n",
              "    <tr>\n",
              "      <th>สระแก้ว</th>\n",
              "      <td>177</td>\n",
              "      <td>177</td>\n",
              "      <td>177</td>\n",
              "      <td>177</td>\n",
              "      <td>177</td>\n",
              "      <td>177</td>\n",
              "    </tr>\n",
              "    <tr>\n",
              "      <th>สุพรรณบุรี</th>\n",
              "      <td>40</td>\n",
              "      <td>40</td>\n",
              "      <td>40</td>\n",
              "      <td>40</td>\n",
              "      <td>40</td>\n",
              "      <td>40</td>\n",
              "    </tr>\n",
              "    <tr>\n",
              "      <th>สุโขทัย</th>\n",
              "      <td>200</td>\n",
              "      <td>200</td>\n",
              "      <td>200</td>\n",
              "      <td>200</td>\n",
              "      <td>200</td>\n",
              "      <td>200</td>\n",
              "    </tr>\n",
              "    <tr>\n",
              "      <th>หนองคาย</th>\n",
              "      <td>440</td>\n",
              "      <td>440</td>\n",
              "      <td>440</td>\n",
              "      <td>440</td>\n",
              "      <td>440</td>\n",
              "      <td>440</td>\n",
              "    </tr>\n",
              "    <tr>\n",
              "      <th>หนองบัวลำภู</th>\n",
              "      <td>775</td>\n",
              "      <td>775</td>\n",
              "      <td>775</td>\n",
              "      <td>775</td>\n",
              "      <td>775</td>\n",
              "      <td>775</td>\n",
              "    </tr>\n",
              "    <tr>\n",
              "      <th>อำนาจเจริญ</th>\n",
              "      <td>717</td>\n",
              "      <td>717</td>\n",
              "      <td>717</td>\n",
              "      <td>717</td>\n",
              "      <td>717</td>\n",
              "      <td>717</td>\n",
              "    </tr>\n",
              "    <tr>\n",
              "      <th>อุดรธานี</th>\n",
              "      <td>837</td>\n",
              "      <td>837</td>\n",
              "      <td>837</td>\n",
              "      <td>837</td>\n",
              "      <td>837</td>\n",
              "      <td>837</td>\n",
              "    </tr>\n",
              "    <tr>\n",
              "      <th>อุทัยธานี</th>\n",
              "      <td>50</td>\n",
              "      <td>50</td>\n",
              "      <td>50</td>\n",
              "      <td>50</td>\n",
              "      <td>50</td>\n",
              "      <td>50</td>\n",
              "    </tr>\n",
              "    <tr>\n",
              "      <th>อุบลราชธานี</th>\n",
              "      <td>651</td>\n",
              "      <td>651</td>\n",
              "      <td>651</td>\n",
              "      <td>651</td>\n",
              "      <td>651</td>\n",
              "      <td>651</td>\n",
              "    </tr>\n",
              "    <tr>\n",
              "      <th>เชียงราย</th>\n",
              "      <td>150</td>\n",
              "      <td>150</td>\n",
              "      <td>150</td>\n",
              "      <td>150</td>\n",
              "      <td>150</td>\n",
              "      <td>150</td>\n",
              "    </tr>\n",
              "    <tr>\n",
              "      <th>เชียงใหม่</th>\n",
              "      <td>148</td>\n",
              "      <td>148</td>\n",
              "      <td>148</td>\n",
              "      <td>148</td>\n",
              "      <td>148</td>\n",
              "      <td>148</td>\n",
              "    </tr>\n",
              "    <tr>\n",
              "      <th>เพชรบุรี</th>\n",
              "      <td>50</td>\n",
              "      <td>50</td>\n",
              "      <td>50</td>\n",
              "      <td>50</td>\n",
              "      <td>50</td>\n",
              "      <td>50</td>\n",
              "    </tr>\n",
              "    <tr>\n",
              "      <th>เพชรบูรณ์</th>\n",
              "      <td>293</td>\n",
              "      <td>293</td>\n",
              "      <td>293</td>\n",
              "      <td>293</td>\n",
              "      <td>293</td>\n",
              "      <td>293</td>\n",
              "    </tr>\n",
              "    <tr>\n",
              "      <th>เลย</th>\n",
              "      <td>294</td>\n",
              "      <td>294</td>\n",
              "      <td>294</td>\n",
              "      <td>294</td>\n",
              "      <td>294</td>\n",
              "      <td>294</td>\n",
              "    </tr>\n",
              "    <tr>\n",
              "      <th>แพร่</th>\n",
              "      <td>100</td>\n",
              "      <td>100</td>\n",
              "      <td>100</td>\n",
              "      <td>100</td>\n",
              "      <td>100</td>\n",
              "      <td>100</td>\n",
              "    </tr>\n",
              "  </tbody>\n",
              "</table>\n",
              "</div>"
            ],
            "text/plain": [
              "                   ID  ตำบล  อำเภอ  พิกัด (X) E  พิกัด (Y) N  ปีงบประมาณ\n",
              "จังหวัด                                                                 \n",
              "กระบี่             28    28     28           28           28          28\n",
              "กาญจนบุรี          48    48     48           48           48          48\n",
              "กาฬสินธุ์         864   864    864          864          864         864\n",
              "กำแพงเพชร         298   298    298          298          298         298\n",
              "ขอนแก่น           735   735    735          735          735         735\n",
              "จันทบุรี           69    69     69           69           69          69\n",
              "ฉะเชิงเทรา         97    97     97           97           97          97\n",
              "ชลบุรี             47    47     47           47           47          47\n",
              "ชัยนาท             39    39     39           39           39          39\n",
              "ชัยภูมิ           979   979    979          979          979         979\n",
              "ชุมพร              20    20     20           20           20          20\n",
              "ตรัง               20    20     20           20           20          20\n",
              "ตราด               13    13     13           13           13          13\n",
              "ตาก               123   123    123          123          123         123\n",
              "นครพนม              2     2      2            2            2           2\n",
              "นครราชสีมา        674   674    674          674          674         674\n",
              "นครสวรรค์         249   249    249          249          249         249\n",
              "นราธิวาส           19    19     19           19           19          19\n",
              "น่าน               50    50     50           50           50          50\n",
              "บึงกาฬ            633   633    633          633          633         633\n",
              "บุรีรัมย์         476   476    476          476          476         476\n",
              "ประจวบคีรีขันธ์    50    50     50           50           50          50\n",
              "ปัตตานี            20    20     20           20           20          20\n",
              "พะเยา             395   395    395          395          395         395\n",
              "พังงา              20    20     20           20           20          20\n",
              "พิจิตร            195   195    195          195          195         195\n",
              "พิษณุโลก          504   504    504          504          504         504\n",
              "มหาสารคาม         115   115    115          115          115         115\n",
              "มุกดาหาร          475   475    475          475          475         475\n",
              "ยะลา               18    18     18           18           18          18\n",
              "ยโสธร             701   701    701          701          701         701\n",
              "ระยอง              20    20     20           20           20          20\n",
              "ราชบุรี            50    50     50           50           50          50\n",
              "ลพบุรี             57    57     57           57           57          57\n",
              "ลำปาง              30    30     30           30           30          30\n",
              "ลำพูน              51    51     51           51           51          51\n",
              "ศรีสะเกษ          123   123    123          123          123         123\n",
              "สกลนคร           1148  1148   1148         1148         1148        1148\n",
              "สงขลา              20    20     20           20           20          20\n",
              "สระบุรี            34    34     34           34           34          34\n",
              "สระแก้ว           177   177    177          177          177         177\n",
              "สุพรรณบุรี         40    40     40           40           40          40\n",
              "สุโขทัย           200   200    200          200          200         200\n",
              "หนองคาย           440   440    440          440          440         440\n",
              "หนองบัวลำภู       775   775    775          775          775         775\n",
              "อำนาจเจริญ        717   717    717          717          717         717\n",
              "อุดรธานี          837   837    837          837          837         837\n",
              "อุทัยธานี          50    50     50           50           50          50\n",
              "อุบลราชธานี       651   651    651          651          651         651\n",
              "เชียงราย          150   150    150          150          150         150\n",
              "เชียงใหม่         148   148    148          148          148         148\n",
              "เพชรบุรี           50    50     50           50           50          50\n",
              "เพชรบูรณ์         293   293    293          293          293         293\n",
              "เลย               294   294    294          294          294         294\n",
              "แพร่              100   100    100          100          100         100"
            ]
          },
          "metadata": {
            "tags": []
          },
          "execution_count": 8
        }
      ]
    },
    {
      "cell_type": "code",
      "metadata": {
        "id": "AdbIfqP_pu3N",
        "outputId": "04ca50f2-86ab-4426-ab5c-8984613b281f",
        "colab": {
          "base_uri": "https://localhost:8080/"
        }
      },
      "source": [
        "water_number_province.shape"
      ],
      "execution_count": 22,
      "outputs": [
        {
          "output_type": "execute_result",
          "data": {
            "text/plain": [
              "(55, 6)"
            ]
          },
          "metadata": {
            "tags": []
          },
          "execution_count": 22
        }
      ]
    },
    {
      "cell_type": "code",
      "metadata": {
        "id": "DfquDKv4wVVo",
        "outputId": "ee8a25f8-118e-471d-e17e-a5cf78df81a8",
        "colab": {
          "base_uri": "https://localhost:8080/"
        }
      },
      "source": [
        "water_number_province.sum()"
      ],
      "execution_count": 9,
      "outputs": [
        {
          "output_type": "execute_result",
          "data": {
            "text/plain": [
              "ID             14431\n",
              "ตำบล           14431\n",
              "อำเภอ          14431\n",
              "พิกัด (X) E    14431\n",
              "พิกัด (Y) N    14431\n",
              "ปีงบประมาณ     14431\n",
              "dtype: int64"
            ]
          },
          "metadata": {
            "tags": []
          },
          "execution_count": 9
        }
      ]
    },
    {
      "cell_type": "code",
      "metadata": {
        "id": "N8OMi_tVorm5",
        "outputId": "b34af941-0c9a-41eb-8dc1-1ee2ba9d6c7b",
        "colab": {
          "base_uri": "https://localhost:8080/",
          "height": 399
        }
      },
      "source": [
        "ret_water = plt.boxplot(water_number_province['ID'],vert=False)\n",
        "ret_water"
      ],
      "execution_count": 10,
      "outputs": [
        {
          "output_type": "execute_result",
          "data": {
            "text/plain": [
              "{'boxes': [<matplotlib.lines.Line2D at 0x7f32582fff98>],\n",
              " 'caps': [<matplotlib.lines.Line2D at 0x7f32582939e8>,\n",
              "  <matplotlib.lines.Line2D at 0x7f3258293d68>],\n",
              " 'fliers': [<matplotlib.lines.Line2D at 0x7f32582a04a8>],\n",
              " 'means': [],\n",
              " 'medians': [<matplotlib.lines.Line2D at 0x7f32582a0128>],\n",
              " 'whiskers': [<matplotlib.lines.Line2D at 0x7f32582932e8>,\n",
              "  <matplotlib.lines.Line2D at 0x7f3258293668>]}"
            ]
          },
          "metadata": {
            "tags": []
          },
          "execution_count": 10
        },
        {
          "output_type": "display_data",
          "data": {
            "image/png": "[encoded data removed]",
            "text/plain": [
              "<Figure size 432x288 with 1 Axes>"
            ]
          },
          "metadata": {
            "tags": [],
            "needs_background": "light"
          }
        }
      ]
    },
    {
      "cell_type": "code",
      "metadata": {
        "id": "Ed_LXBittf0W",
        "outputId": "b67ab05f-65ef-4fb9-cd27-ce9b6ebd9794",
        "colab": {
          "base_uri": "https://localhost:8080/"
        }
      },
      "source": [
        "ret_water['whiskers'][0].get_xdata()"
      ],
      "execution_count": 11,
      "outputs": [
        {
          "output_type": "execute_result",
          "data": {
            "text/plain": [
              "array([39.5,  2. ])"
            ]
          },
          "metadata": {
            "tags": []
          },
          "execution_count": 11
        }
      ]
    },
    {
      "cell_type": "code",
      "metadata": {
        "id": "pLVPfHRxuWx4",
        "outputId": "d9a1bf7c-218a-4a46-c4bf-dfec692b67b6",
        "colab": {
          "base_uri": "https://localhost:8080/"
        }
      },
      "source": [
        "ret_water['whiskers'][1].get_xdata()"
      ],
      "execution_count": 12,
      "outputs": [
        {
          "output_type": "execute_result",
          "data": {
            "text/plain": [
              "array([457.5, 979. ])"
            ]
          },
          "metadata": {
            "tags": []
          },
          "execution_count": 12
        }
      ]
    },
    {
      "cell_type": "code",
      "metadata": {
        "id": "DoJaqnHhupRW",
        "outputId": "ee66b3fb-e47a-4e3a-a3c3-c631fc40b34b",
        "colab": {
          "base_uri": "https://localhost:8080/"
        }
      },
      "source": [
        "water_number_province.min()"
      ],
      "execution_count": 13,
      "outputs": [
        {
          "output_type": "execute_result",
          "data": {
            "text/plain": [
              "ID             2\n",
              "ตำบล           2\n",
              "อำเภอ          2\n",
              "พิกัด (X) E    2\n",
              "พิกัด (Y) N    2\n",
              "ปีงบประมาณ     2\n",
              "dtype: int64"
            ]
          },
          "metadata": {
            "tags": []
          },
          "execution_count": 13
        }
      ]
    },
    {
      "cell_type": "code",
      "metadata": {
        "id": "146n1uSSuwRe",
        "outputId": "02da7537-f9e8-4a51-e1ba-a32da1d4ca62",
        "colab": {
          "base_uri": "https://localhost:8080/"
        }
      },
      "source": [
        "water_number_province.max()"
      ],
      "execution_count": 14,
      "outputs": [
        {
          "output_type": "execute_result",
          "data": {
            "text/plain": [
              "ID             1148\n",
              "ตำบล           1148\n",
              "อำเภอ          1148\n",
              "พิกัด (X) E    1148\n",
              "พิกัด (Y) N    1148\n",
              "ปีงบประมาณ     1148\n",
              "dtype: int64"
            ]
          },
          "metadata": {
            "tags": []
          },
          "execution_count": 14
        }
      ]
    },
    {
      "cell_type": "code",
      "metadata": {
        "id": "anpDUFS3u0Jt",
        "outputId": "c77b0b98-f0b8-42ef-8a27-8d3c2cb574d9",
        "colab": {
          "base_uri": "https://localhost:8080/"
        }
      },
      "source": [
        "water_number_province.median()"
      ],
      "execution_count": 15,
      "outputs": [
        {
          "output_type": "execute_result",
          "data": {
            "text/plain": [
              "ID             115.0\n",
              "ตำบล           115.0\n",
              "อำเภอ          115.0\n",
              "พิกัด (X) E    115.0\n",
              "พิกัด (Y) N    115.0\n",
              "ปีงบประมาณ     115.0\n",
              "dtype: float64"
            ]
          },
          "metadata": {
            "tags": []
          },
          "execution_count": 15
        }
      ]
    },
    {
      "cell_type": "markdown",
      "metadata": {
        "id": "qUvAI7p6u5sR"
      },
      "source": [
        "#Water Group\n",
        "* A = 2 -39\n",
        "* B = 40 - 115\n",
        "* C = 116 - 457\n",
        "* D = 458 -1148"
      ]
    },
    {
      "cell_type": "code",
      "metadata": {
        "id": "2IXZz9xVKvjO",
        "outputId": "c3efd333-212b-4272-83da-86de6cc74387",
        "colab": {
          "base_uri": "https://localhost:8080/"
        }
      },
      "source": [
        "water_province = water_df.groupby('จังหวัด')['พิกัด (X) E'].apply(list) #reduced_marketbasket_df = data\n",
        "water_province"
      ],
      "execution_count": 16,
      "outputs": [
        {
          "output_type": "execute_result",
          "data": {
            "text/plain": [
              "จังหวัด\n",
              "กระบี่             [505670, 506333, 513081, 512434, 512451, 50900...\n",
              "กาญจนบุรี          [576560, 576436, 577200, 576421, 577564, 57541...\n",
              "กาฬสินธุ์          [994781, 994743, 998744, 999044, 994711, 99454...\n",
              "กำแพงเพชร          [584110, 583974, 580442, 578640, 580537, 58403...\n",
              "ขอนแก่น            [941894, 944689, 942653, 943287, 943763, 94465...\n",
              "จันทบุรี           [806772, 806053, 806806, 803810, 840014, 85796...\n",
              "ฉะเชิงเทรา         [732420, 731641, 731635, 731008, 730164, 73205...\n",
              "ชลบุรี             [757246, 773766, 758937, 770962, 758795, 76725...\n",
              "ชัยนาท             [596232, 598104, 597668, 598408, 597619, 59754...\n",
              "ชัยภูมิ            [811697, 813512, 809210, 814292, 810713, 80676...\n",
              "ชุมพร              [517313, 523269, 523801, 515842, 512929, 51484...\n",
              "ตรัง               [553590, 557012, 553673, 553768, 546026, 56398...\n",
              "ตราด               [876270, 876358, 864518, 867496, 876428, 87927...\n",
              "ตาก                [501128, 502008, 501438, 502763, 502713, 50166...\n",
              "นครพนม                                            [1055081, 1056396]\n",
              "นครราชสีมา         [817498, 810369, 816244, 811983, 814521, 81312...\n",
              "นครสวรรค์          [643801, 634122, 631827, 632447, 633220, 63354...\n",
              "นราธิวาส           [834269, 834715, 840571, 795100, 794910, 79540...\n",
              "น่าน               [680816, 684863, 683985, 683821, 683578, 69308...\n",
              "บึงกาฬ             [1026967, 1026147, 1027284, 1026834, 1024400, ...\n",
              "บุรีรัมย์          [959697, 959918, 965400, 954022, 951218, 95438...\n",
              "ประจวบคีรีขันธ์    [594634, 594634, 594634, 561874, 570945, 57106...\n",
              "ปัตตานี            [731574, 731602, 772487, 772390, 772041, 77311...\n",
              "พะเยา              [624593, 625195, 621308, 621042, 626618, 62608...\n",
              "พังงา              [440171, 436587, 430506, 430251, 424923, 42964...\n",
              "พิจิตร             [668083, 666972, 665843, 666963, 669201, 67134...\n",
              "พิษณุโลก           [703045, 676392, 678215, 678653, 679948, 67341...\n",
              "มหาสารคาม          [947300, 945759, 945619, 944035, 947790, 94336...\n",
              "มุกดาหาร           [1081006, 1075334, 1067134, 1068098, 1076460, ...\n",
              "ยะลา               [752436, 749715, 752966, 752267, 747634, 74750...\n",
              "ยโสธร              [1072850, 1076871, 1073169, 1077793, 1074008, ...\n",
              "ระยอง              [786579, 781625, 781585, 799739, 799747, 73890...\n",
              "ราชบุรี            [548441, 549517, 554418, 548460, 554304, 54857...\n",
              "ลพบุรี             [681178, 681936, 678850, 683110, 684664, 68452...\n",
              "ลำปาง              [519055, 519318, 519236, 519339, 520175, 51818...\n",
              "ลำพูน              [469540, 470311, 470035, 469945, 470732, 46672...\n",
              "ศรีสะเกษ           [1119661, 1119597, 1119592, 1119765, 1118598, ...\n",
              "สกลนคร             [1013679, 1015055, 1076747, 1069000, 1069343, ...\n",
              "สงขลา              [660331, 660113, 658276, 658332, 658229, 66171...\n",
              "สระบุรี            [717143, 721083, 717120, 720493, 720804, 72046...\n",
              "สระแก้ว            [824510, 820805, 815463, 823008, 818283, 81947...\n",
              "สุพรรณบุรี         [606202, 606034, 606135, 605967, 625457, 62567...\n",
              "สุโขทัย            [548423, 546391, 552846, 540530, 551841, 55295...\n",
              "หนองคาย            [872342, 874588, 874518, 873910, 875897, 87586...\n",
              "หนองบัวลำภู        [845119, 844197, 851903, 848046, 845649, 84767...\n",
              "อำนาจเจริญ         [1108696, 1101395, 1083768, 1109041, 1108028, ...\n",
              "อุดรธานี           [865085, 869633, 866474, 866563, 868554, 86907...\n",
              "อุทัยธานี          [579495, 599406, 583004, 583036, 584610, 58791...\n",
              "อุบลราชธานี        [1145767, 1129279, 1128239, 1150540, 1141908, ...\n",
              "เชียงราย           [623109, 623111, 624386, 622620, 622266, 61898...\n",
              "เชียงใหม่          [487927, 498333, 496928, 496721, 495460, 49615...\n",
              "เพชรบุรี           [577024, 586713, 585160, 583800, 585169, 58506...\n",
              "เพชรบูรณ์          [683437, 684148, 684247, 682635, 681634, 68338...\n",
              "เลย                [795212, 793422, 791834, 794884, 794037, 79491...\n",
              "แพร่               [638140, 637008, 639302, 637010, 637629, 63771...\n",
              "Name: พิกัด (X) E, dtype: object"
            ]
          },
          "metadata": {
            "tags": []
          },
          "execution_count": 16
        }
      ]
    },
    {
      "cell_type": "code",
      "metadata": {
        "id": "T8XNJb4RO8zW",
        "outputId": "1b612c8d-49f3-4983-89c4-a83e3fce1422",
        "colab": {
          "base_uri": "https://localhost:8080/"
        }
      },
      "source": [
        "len(water_province)"
      ],
      "execution_count": 17,
      "outputs": [
        {
          "output_type": "execute_result",
          "data": {
            "text/plain": [
              "55"
            ]
          },
          "metadata": {
            "tags": []
          },
          "execution_count": 17
        }
      ]
    },
    {
      "cell_type": "markdown",
      "metadata": {
        "id": "GK1I_o4eKZ-7"
      },
      "source": [
        "#ตารางข้าวนาปี"
      ]
    },
    {
      "cell_type": "code",
      "metadata": {
        "id": "_Zh47286mtS_"
      },
      "source": [
        "pee = os.path.join(path,'pee.xlsx')\n",
        "pee_1 = pd.read_excel(pee)\n",
        "prang = os.path.join(path,'prang.xlsx')\n",
        "prang_1 = pd.read_excel(prang)"
      ],
      "execution_count": 51,
      "outputs": []
    },
    {
      "cell_type": "code",
      "metadata": {
        "id": "-Id15bPom-gB",
        "outputId": "bb4126f4-7028-4f49-f2c4-0f1306ad9b61",
        "colab": {
          "base_uri": "https://localhost:8080/",
          "height": 402
        }
      },
      "source": [
        "pee_1"
      ],
      "execution_count": 52,
      "outputs": [
        {
          "output_type": "execute_result",
          "data": {
            "text/html": [
              "<div>\n",
              "<style scoped>\n",
              "    .dataframe tbody tr th:only-of-type {\n",
              "        vertical-align: middle;\n",
              "    }\n",
              "\n",
              "    .dataframe tbody tr th {\n",
              "        vertical-align: top;\n",
              "    }\n",
              "\n",
              "    .dataframe thead th {\n",
              "        text-align: right;\n",
              "    }\n",
              "</style>\n",
              "<table border=\"1\" class=\"dataframe\">\n",
              "  <thead>\n",
              "    <tr style=\"text-align: right;\">\n",
              "      <th></th>\n",
              "      <th>สำนักงานเศรษฐกิจการเกษตร | สินค้าเกษตรข้าวนาปี</th>\n",
              "      <th>Unnamed: 1</th>\n",
              "      <th>Unnamed: 2</th>\n",
              "      <th>Unnamed: 3</th>\n",
              "      <th>Unnamed: 4</th>\n",
              "    </tr>\n",
              "  </thead>\n",
              "  <tbody>\n",
              "    <tr>\n",
              "      <th>0</th>\n",
              "      <td>ผลผลิตข้าวนาปีแยกตามจังหวัด ปี 2562</td>\n",
              "      <td>NaN</td>\n",
              "      <td>NaN</td>\n",
              "      <td>NaN</td>\n",
              "      <td>NaN</td>\n",
              "    </tr>\n",
              "    <tr>\n",
              "      <th>1</th>\n",
              "      <td>จังหวัด</td>\n",
              "      <td>ผลผลิต(ตัน)</td>\n",
              "      <td>สัดส่วน</td>\n",
              "      <td>เนื้อที่เก็บเกี่ยว(ไร่)</td>\n",
              "      <td>ผลผลิตต่อเนื้อที่เก็บเกี่ยว(กก.)</td>\n",
              "    </tr>\n",
              "    <tr>\n",
              "      <th>2</th>\n",
              "      <td>อุบลราชธานี</td>\n",
              "      <td>1406996</td>\n",
              "      <td>0.0545</td>\n",
              "      <td>3879360</td>\n",
              "      <td>362.69</td>\n",
              "    </tr>\n",
              "    <tr>\n",
              "      <th>3</th>\n",
              "      <td>นครสวรรค์</td>\n",
              "      <td>1359065</td>\n",
              "      <td>0.0527</td>\n",
              "      <td>2273197</td>\n",
              "      <td>597.87</td>\n",
              "    </tr>\n",
              "    <tr>\n",
              "      <th>4</th>\n",
              "      <td>นครราชสีมา</td>\n",
              "      <td>1101661</td>\n",
              "      <td>0.0427</td>\n",
              "      <td>3035540</td>\n",
              "      <td>362.92</td>\n",
              "    </tr>\n",
              "    <tr>\n",
              "      <th>...</th>\n",
              "      <td>...</td>\n",
              "      <td>...</td>\n",
              "      <td>...</td>\n",
              "      <td>...</td>\n",
              "      <td>...</td>\n",
              "    </tr>\n",
              "    <tr>\n",
              "      <th>74</th>\n",
              "      <td>ชุมพร</td>\n",
              "      <td>1499</td>\n",
              "      <td>0.0001</td>\n",
              "      <td>3374</td>\n",
              "      <td>444.28</td>\n",
              "    </tr>\n",
              "    <tr>\n",
              "      <th>75</th>\n",
              "      <td>สมุทรสงคราม</td>\n",
              "      <td>1493</td>\n",
              "      <td>0.0001</td>\n",
              "      <td>2094</td>\n",
              "      <td>712.99</td>\n",
              "    </tr>\n",
              "    <tr>\n",
              "      <th>76</th>\n",
              "      <td>พังงา</td>\n",
              "      <td>964</td>\n",
              "      <td>0</td>\n",
              "      <td>2976</td>\n",
              "      <td>323.92</td>\n",
              "    </tr>\n",
              "    <tr>\n",
              "      <th>77</th>\n",
              "      <td>ระนอง</td>\n",
              "      <td>259</td>\n",
              "      <td>0</td>\n",
              "      <td>750</td>\n",
              "      <td>345.33</td>\n",
              "    </tr>\n",
              "    <tr>\n",
              "      <th>78</th>\n",
              "      <td>ภูเก็ต</td>\n",
              "      <td>32</td>\n",
              "      <td>0</td>\n",
              "      <td>62</td>\n",
              "      <td>516.13</td>\n",
              "    </tr>\n",
              "  </tbody>\n",
              "</table>\n",
              "<p>79 rows × 5 columns</p>\n",
              "</div>"
            ],
            "text/plain": [
              "   สำนักงานเศรษฐกิจการเกษตร | สินค้าเกษตรข้าวนาปี  ...                        Unnamed: 4\n",
              "0             ผลผลิตข้าวนาปีแยกตามจังหวัด ปี 2562  ...                               NaN\n",
              "1                                         จังหวัด  ...  ผลผลิตต่อเนื้อที่เก็บเกี่ยว(กก.)\n",
              "2                                     อุบลราชธานี  ...                            362.69\n",
              "3                                       นครสวรรค์  ...                            597.87\n",
              "4                                      นครราชสีมา  ...                            362.92\n",
              "..                                            ...  ...                               ...\n",
              "74                                          ชุมพร  ...                            444.28\n",
              "75                                    สมุทรสงคราม  ...                            712.99\n",
              "76                                          พังงา  ...                            323.92\n",
              "77                                          ระนอง  ...                            345.33\n",
              "78                                         ภูเก็ต  ...                            516.13\n",
              "\n",
              "[79 rows x 5 columns]"
            ]
          },
          "metadata": {
            "tags": []
          },
          "execution_count": 52
        }
      ]
    },
    {
      "cell_type": "code",
      "metadata": {
        "id": "eyPdIK_PQhsy",
        "outputId": "0a37f92d-f08b-4575-a92d-852a8e6b6914",
        "colab": {
          "base_uri": "https://localhost:8080/"
        }
      },
      "source": [
        "pee_1.index"
      ],
      "execution_count": 54,
      "outputs": [
        {
          "output_type": "execute_result",
          "data": {
            "text/plain": [
              "RangeIndex(start=0, stop=79, step=1)"
            ]
          },
          "metadata": {
            "tags": []
          },
          "execution_count": 54
        }
      ]
    },
    {
      "cell_type": "code",
      "metadata": {
        "id": "FRQPGOIMQ19C"
      },
      "source": [
        "pee_1.drop(1, inplace=True)"
      ],
      "execution_count": 61,
      "outputs": []
    },
    {
      "cell_type": "code",
      "metadata": {
        "id": "_VnRsphtGtR0",
        "outputId": "1ef33259-a678-4ad6-b56d-861667ce0088",
        "colab": {
          "base_uri": "https://localhost:8080/",
          "height": 431
        }
      },
      "source": [
        "pee_1.rename(columns={'สำนักงานเศรษฐกิจการเกษตร | สินค้าเกษตรข้าวนาปี':'จังหวัด','Unnamed: 1':'ผลผลิต(ตัน)','Unnamed: 2':'สัดส่วน','Unnamed: 3':'เนื้อที่เก็บเกี่ยว','Unnamed: 4':'ผลผลิตต่อเนื้อที่เก็บเกี่ยว(กก)'}, inplace=True)\n",
        "pee_1"
      ],
      "execution_count": 44,
      "outputs": [
        {
          "output_type": "execute_result",
          "data": {
            "text/html": [
              "<div>\n",
              "<style scoped>\n",
              "    .dataframe tbody tr th:only-of-type {\n",
              "        vertical-align: middle;\n",
              "    }\n",
              "\n",
              "    .dataframe tbody tr th {\n",
              "        vertical-align: top;\n",
              "    }\n",
              "\n",
              "    .dataframe thead th {\n",
              "        text-align: right;\n",
              "    }\n",
              "</style>\n",
              "<table border=\"1\" class=\"dataframe\">\n",
              "  <thead>\n",
              "    <tr style=\"text-align: right;\">\n",
              "      <th></th>\n",
              "      <th>ผลผลิต(ตัน)</th>\n",
              "      <th>สัดส่วน</th>\n",
              "      <th>เนื้อที่เก็บเกี่ยว</th>\n",
              "      <th>ผลผลิตต่อเนื้อที่เก็บเกี่ยว</th>\n",
              "    </tr>\n",
              "    <tr>\n",
              "      <th>จังหวัด</th>\n",
              "      <th></th>\n",
              "      <th></th>\n",
              "      <th></th>\n",
              "      <th></th>\n",
              "    </tr>\n",
              "  </thead>\n",
              "  <tbody>\n",
              "    <tr>\n",
              "      <th>จังหวัด</th>\n",
              "      <td>ผลผลิต(ตัน)</td>\n",
              "      <td>สัดส่วน</td>\n",
              "      <td>เนื้อที่เก็บเกี่ยว(ไร่)</td>\n",
              "      <td>ผลผลิตต่อเนื้อที่เก็บเกี่ยว(กก.)</td>\n",
              "    </tr>\n",
              "    <tr>\n",
              "      <th>อุบลราชธานี</th>\n",
              "      <td>1406996</td>\n",
              "      <td>0.0545</td>\n",
              "      <td>3879360</td>\n",
              "      <td>362.69</td>\n",
              "    </tr>\n",
              "    <tr>\n",
              "      <th>นครสวรรค์</th>\n",
              "      <td>1359065</td>\n",
              "      <td>0.0527</td>\n",
              "      <td>2273197</td>\n",
              "      <td>597.87</td>\n",
              "    </tr>\n",
              "    <tr>\n",
              "      <th>นครราชสีมา</th>\n",
              "      <td>1101661</td>\n",
              "      <td>0.0427</td>\n",
              "      <td>3035540</td>\n",
              "      <td>362.92</td>\n",
              "    </tr>\n",
              "    <tr>\n",
              "      <th>สุรินทร์</th>\n",
              "      <td>1070221</td>\n",
              "      <td>0.0415</td>\n",
              "      <td>2862831</td>\n",
              "      <td>373.83</td>\n",
              "    </tr>\n",
              "    <tr>\n",
              "      <th>...</th>\n",
              "      <td>...</td>\n",
              "      <td>...</td>\n",
              "      <td>...</td>\n",
              "      <td>...</td>\n",
              "    </tr>\n",
              "    <tr>\n",
              "      <th>ชุมพร</th>\n",
              "      <td>1499</td>\n",
              "      <td>0.0001</td>\n",
              "      <td>3374</td>\n",
              "      <td>444.28</td>\n",
              "    </tr>\n",
              "    <tr>\n",
              "      <th>สมุทรสงคราม</th>\n",
              "      <td>1493</td>\n",
              "      <td>0.0001</td>\n",
              "      <td>2094</td>\n",
              "      <td>712.99</td>\n",
              "    </tr>\n",
              "    <tr>\n",
              "      <th>พังงา</th>\n",
              "      <td>964</td>\n",
              "      <td>0</td>\n",
              "      <td>2976</td>\n",
              "      <td>323.92</td>\n",
              "    </tr>\n",
              "    <tr>\n",
              "      <th>ระนอง</th>\n",
              "      <td>259</td>\n",
              "      <td>0</td>\n",
              "      <td>750</td>\n",
              "      <td>345.33</td>\n",
              "    </tr>\n",
              "    <tr>\n",
              "      <th>ภูเก็ต</th>\n",
              "      <td>32</td>\n",
              "      <td>0</td>\n",
              "      <td>62</td>\n",
              "      <td>516.13</td>\n",
              "    </tr>\n",
              "  </tbody>\n",
              "</table>\n",
              "<p>78 rows × 4 columns</p>\n",
              "</div>"
            ],
            "text/plain": [
              "             ผลผลิต(ตัน)  ...       ผลผลิตต่อเนื้อที่เก็บเกี่ยว\n",
              "จังหวัด                   ...                                  \n",
              "จังหวัด      ผลผลิต(ตัน)  ...  ผลผลิตต่อเนื้อที่เก็บเกี่ยว(กก.)\n",
              "อุบลราชธานี      1406996  ...                            362.69\n",
              "นครสวรรค์        1359065  ...                            597.87\n",
              "นครราชสีมา       1101661  ...                            362.92\n",
              "สุรินทร์         1070221  ...                            373.83\n",
              "...                  ...  ...                               ...\n",
              "ชุมพร               1499  ...                            444.28\n",
              "สมุทรสงคราม         1493  ...                            712.99\n",
              "พังงา                964  ...                            323.92\n",
              "ระนอง                259  ...                            345.33\n",
              "ภูเก็ต                32  ...                            516.13\n",
              "\n",
              "[78 rows x 4 columns]"
            ]
          },
          "metadata": {
            "tags": []
          },
          "execution_count": 44
        }
      ]
    },
    {
      "cell_type": "markdown",
      "metadata": {
        "id": "p32h1N4vKfKa"
      },
      "source": [
        "#ตารางข้าวนาปรัง"
      ]
    },
    {
      "cell_type": "code",
      "metadata": {
        "id": "O7Gtop21nkSa",
        "outputId": "b21824da-c4ff-4393-c735-200b50675ad5",
        "colab": {
          "base_uri": "https://localhost:8080/",
          "height": 402
        }
      },
      "source": [
        "prang_1"
      ],
      "execution_count": 20,
      "outputs": [
        {
          "output_type": "execute_result",
          "data": {
            "text/html": [
              "<div>\n",
              "<style scoped>\n",
              "    .dataframe tbody tr th:only-of-type {\n",
              "        vertical-align: middle;\n",
              "    }\n",
              "\n",
              "    .dataframe tbody tr th {\n",
              "        vertical-align: top;\n",
              "    }\n",
              "\n",
              "    .dataframe thead th {\n",
              "        text-align: right;\n",
              "    }\n",
              "</style>\n",
              "<table border=\"1\" class=\"dataframe\">\n",
              "  <thead>\n",
              "    <tr style=\"text-align: right;\">\n",
              "      <th></th>\n",
              "      <th>สำนักงานเศรษฐกิจการเกษตร | สินค้าเกษตรข้าวนาปรัง</th>\n",
              "      <th>Unnamed: 1</th>\n",
              "      <th>Unnamed: 2</th>\n",
              "      <th>Unnamed: 3</th>\n",
              "      <th>Unnamed: 4</th>\n",
              "    </tr>\n",
              "  </thead>\n",
              "  <tbody>\n",
              "    <tr>\n",
              "      <th>0</th>\n",
              "      <td>ผลผลิตข้าวนาปรังแยกตามจังหวัด ปี 2562</td>\n",
              "      <td>NaN</td>\n",
              "      <td>NaN</td>\n",
              "      <td>NaN</td>\n",
              "      <td>NaN</td>\n",
              "    </tr>\n",
              "    <tr>\n",
              "      <th>1</th>\n",
              "      <td>จังหวัด</td>\n",
              "      <td>ผลผลิต(ตัน)</td>\n",
              "      <td>สัดส่วน</td>\n",
              "      <td>เนื้อที่เก็บเกี่ยว(ไร่)</td>\n",
              "      <td>ผลผลิตต่อเนื้อที่เก็บเกี่ยว(กก.)</td>\n",
              "    </tr>\n",
              "    <tr>\n",
              "      <th>2</th>\n",
              "      <td>สุพรรณบุรี</td>\n",
              "      <td>599010</td>\n",
              "      <td>0.0835</td>\n",
              "      <td>830766</td>\n",
              "      <td>721.03</td>\n",
              "    </tr>\n",
              "    <tr>\n",
              "      <th>3</th>\n",
              "      <td>นครสวรรค์</td>\n",
              "      <td>525622</td>\n",
              "      <td>0.0733</td>\n",
              "      <td>782660</td>\n",
              "      <td>671.58</td>\n",
              "    </tr>\n",
              "    <tr>\n",
              "      <th>4</th>\n",
              "      <td>อยุธยา</td>\n",
              "      <td>504311</td>\n",
              "      <td>0.0703</td>\n",
              "      <td>716664</td>\n",
              "      <td>703.69</td>\n",
              "    </tr>\n",
              "    <tr>\n",
              "      <th>...</th>\n",
              "      <td>...</td>\n",
              "      <td>...</td>\n",
              "      <td>...</td>\n",
              "      <td>...</td>\n",
              "      <td>...</td>\n",
              "    </tr>\n",
              "    <tr>\n",
              "      <th>67</th>\n",
              "      <td>มุกดาหาร</td>\n",
              "      <td>202</td>\n",
              "      <td>0</td>\n",
              "      <td>423</td>\n",
              "      <td>477.54</td>\n",
              "    </tr>\n",
              "    <tr>\n",
              "      <th>68</th>\n",
              "      <td>เลย</td>\n",
              "      <td>167</td>\n",
              "      <td>0</td>\n",
              "      <td>387</td>\n",
              "      <td>431.52</td>\n",
              "    </tr>\n",
              "    <tr>\n",
              "      <th>69</th>\n",
              "      <td>ยะลา</td>\n",
              "      <td>81</td>\n",
              "      <td>0</td>\n",
              "      <td>180</td>\n",
              "      <td>450</td>\n",
              "    </tr>\n",
              "    <tr>\n",
              "      <th>70</th>\n",
              "      <td>ตรัง</td>\n",
              "      <td>70</td>\n",
              "      <td>0</td>\n",
              "      <td>147</td>\n",
              "      <td>476.19</td>\n",
              "    </tr>\n",
              "    <tr>\n",
              "      <th>71</th>\n",
              "      <td>แม่ฮ่องสอน</td>\n",
              "      <td>70</td>\n",
              "      <td>0</td>\n",
              "      <td>120</td>\n",
              "      <td>583.33</td>\n",
              "    </tr>\n",
              "  </tbody>\n",
              "</table>\n",
              "<p>72 rows × 5 columns</p>\n",
              "</div>"
            ],
            "text/plain": [
              "   สำนักงานเศรษฐกิจการเกษตร | สินค้าเกษตรข้าวนาปรัง  ...                        Unnamed: 4\n",
              "0             ผลผลิตข้าวนาปรังแยกตามจังหวัด ปี 2562  ...                               NaN\n",
              "1                                           จังหวัด  ...  ผลผลิตต่อเนื้อที่เก็บเกี่ยว(กก.)\n",
              "2                                        สุพรรณบุรี  ...                            721.03\n",
              "3                                         นครสวรรค์  ...                            671.58\n",
              "4                                            อยุธยา  ...                            703.69\n",
              "..                                              ...  ...                               ...\n",
              "67                                         มุกดาหาร  ...                            477.54\n",
              "68                                              เลย  ...                            431.52\n",
              "69                                             ยะลา  ...                               450\n",
              "70                                             ตรัง  ...                            476.19\n",
              "71                                       แม่ฮ่องสอน  ...                            583.33\n",
              "\n",
              "[72 rows x 5 columns]"
            ]
          },
          "metadata": {
            "tags": []
          },
          "execution_count": 20
        }
      ]
    },
    {
      "cell_type": "code",
      "metadata": {
        "id": "sOUXBIZeo0Dy",
        "outputId": "5dfb731c-7df9-42c2-b1f9-52196f21c64c",
        "colab": {
          "base_uri": "https://localhost:8080/",
          "height": 402
        }
      },
      "source": [
        "prang_1 = prang_1.dropna()\n",
        "prang_1"
      ],
      "execution_count": 27,
      "outputs": [
        {
          "output_type": "execute_result",
          "data": {
            "text/html": [
              "<div>\n",
              "<style scoped>\n",
              "    .dataframe tbody tr th:only-of-type {\n",
              "        vertical-align: middle;\n",
              "    }\n",
              "\n",
              "    .dataframe tbody tr th {\n",
              "        vertical-align: top;\n",
              "    }\n",
              "\n",
              "    .dataframe thead th {\n",
              "        text-align: right;\n",
              "    }\n",
              "</style>\n",
              "<table border=\"1\" class=\"dataframe\">\n",
              "  <thead>\n",
              "    <tr style=\"text-align: right;\">\n",
              "      <th></th>\n",
              "      <th>สำนักงานเศรษฐกิจการเกษตร | สินค้าเกษตรข้าวนาปรัง</th>\n",
              "      <th>Unnamed: 1</th>\n",
              "      <th>Unnamed: 2</th>\n",
              "      <th>Unnamed: 3</th>\n",
              "      <th>Unnamed: 4</th>\n",
              "    </tr>\n",
              "  </thead>\n",
              "  <tbody>\n",
              "    <tr>\n",
              "      <th>1</th>\n",
              "      <td>จังหวัด</td>\n",
              "      <td>ผลผลิต(ตัน)</td>\n",
              "      <td>สัดส่วน</td>\n",
              "      <td>เนื้อที่เก็บเกี่ยว(ไร่)</td>\n",
              "      <td>ผลผลิตต่อเนื้อที่เก็บเกี่ยว(กก.)</td>\n",
              "    </tr>\n",
              "    <tr>\n",
              "      <th>2</th>\n",
              "      <td>สุพรรณบุรี</td>\n",
              "      <td>599010</td>\n",
              "      <td>0.0835</td>\n",
              "      <td>830766</td>\n",
              "      <td>721.03</td>\n",
              "    </tr>\n",
              "    <tr>\n",
              "      <th>3</th>\n",
              "      <td>นครสวรรค์</td>\n",
              "      <td>525622</td>\n",
              "      <td>0.0733</td>\n",
              "      <td>782660</td>\n",
              "      <td>671.58</td>\n",
              "    </tr>\n",
              "    <tr>\n",
              "      <th>4</th>\n",
              "      <td>อยุธยา</td>\n",
              "      <td>504311</td>\n",
              "      <td>0.0703</td>\n",
              "      <td>716664</td>\n",
              "      <td>703.69</td>\n",
              "    </tr>\n",
              "    <tr>\n",
              "      <th>5</th>\n",
              "      <td>พิษณุโลก</td>\n",
              "      <td>497596</td>\n",
              "      <td>0.0694</td>\n",
              "      <td>763706</td>\n",
              "      <td>651.55</td>\n",
              "    </tr>\n",
              "    <tr>\n",
              "      <th>...</th>\n",
              "      <td>...</td>\n",
              "      <td>...</td>\n",
              "      <td>...</td>\n",
              "      <td>...</td>\n",
              "      <td>...</td>\n",
              "    </tr>\n",
              "    <tr>\n",
              "      <th>67</th>\n",
              "      <td>มุกดาหาร</td>\n",
              "      <td>202</td>\n",
              "      <td>0</td>\n",
              "      <td>423</td>\n",
              "      <td>477.54</td>\n",
              "    </tr>\n",
              "    <tr>\n",
              "      <th>68</th>\n",
              "      <td>เลย</td>\n",
              "      <td>167</td>\n",
              "      <td>0</td>\n",
              "      <td>387</td>\n",
              "      <td>431.52</td>\n",
              "    </tr>\n",
              "    <tr>\n",
              "      <th>69</th>\n",
              "      <td>ยะลา</td>\n",
              "      <td>81</td>\n",
              "      <td>0</td>\n",
              "      <td>180</td>\n",
              "      <td>450</td>\n",
              "    </tr>\n",
              "    <tr>\n",
              "      <th>70</th>\n",
              "      <td>ตรัง</td>\n",
              "      <td>70</td>\n",
              "      <td>0</td>\n",
              "      <td>147</td>\n",
              "      <td>476.19</td>\n",
              "    </tr>\n",
              "    <tr>\n",
              "      <th>71</th>\n",
              "      <td>แม่ฮ่องสอน</td>\n",
              "      <td>70</td>\n",
              "      <td>0</td>\n",
              "      <td>120</td>\n",
              "      <td>583.33</td>\n",
              "    </tr>\n",
              "  </tbody>\n",
              "</table>\n",
              "<p>71 rows × 5 columns</p>\n",
              "</div>"
            ],
            "text/plain": [
              "   สำนักงานเศรษฐกิจการเกษตร | สินค้าเกษตรข้าวนาปรัง  ...                        Unnamed: 4\n",
              "1                                           จังหวัด  ...  ผลผลิตต่อเนื้อที่เก็บเกี่ยว(กก.)\n",
              "2                                        สุพรรณบุรี  ...                            721.03\n",
              "3                                         นครสวรรค์  ...                            671.58\n",
              "4                                            อยุธยา  ...                            703.69\n",
              "5                                          พิษณุโลก  ...                            651.55\n",
              "..                                              ...  ...                               ...\n",
              "67                                         มุกดาหาร  ...                            477.54\n",
              "68                                              เลย  ...                            431.52\n",
              "69                                             ยะลา  ...                               450\n",
              "70                                             ตรัง  ...                            476.19\n",
              "71                                       แม่ฮ่องสอน  ...                            583.33\n",
              "\n",
              "[71 rows x 5 columns]"
            ]
          },
          "metadata": {
            "tags": []
          },
          "execution_count": 27
        }
      ]
    },
    {
      "cell_type": "code",
      "metadata": {
        "id": "aiQfEE_MAQLc"
      },
      "source": [
        ""
      ],
      "execution_count": null,
      "outputs": []
    }
  ]
}