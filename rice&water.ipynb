{
  "nbformat": 4,
  "nbformat_minor": 0,
  "metadata": {
    "colab": {
      "name": "rice&water.ipynb",
      "provenance": [],
      "include_colab_link": true
    },
    "kernelspec": {
      "name": "python3",
      "display_name": "Python 3"
    }
  },
  "cells": [
    {
      "cell_type": "markdown",
      "metadata": {
        "id": "view-in-github",
        "colab_type": "text"
      },
      "source": [
        "<a href=\"https://colab.research.google.com/github/K-Kamonrat/DPDM/blob/master/rice%26water.ipynb\" target=\"_parent\"><img src=\"https://colab.research.google.com/assets/colab-badge.svg\" alt=\"Open In Colab\"/></a>"
      ]
    },
    {
      "cell_type": "code",
      "metadata": {
        "id": "Qws7_DeuJd2G"
      },
      "source": [
        "import pandas as pd"
      ],
      "execution_count": 126,
      "outputs": []
    },
    {
      "cell_type": "code",
      "metadata": {
        "id": "Vpcyte86nvGi"
      },
      "source": [
        "from matplotlib import pyplot as plt"
      ],
      "execution_count": 127,
      "outputs": []
    },
    {
      "cell_type": "code",
      "metadata": {
        "id": "JHlDWda3JlN7"
      },
      "source": [
        "from google.colab import drive"
      ],
      "execution_count": 128,
      "outputs": []
    },
    {
      "cell_type": "code",
      "metadata": {
        "id": "94vLrEf5J6zF",
        "colab": {
          "base_uri": "https://localhost:8080/"
        },
        "outputId": "e95715b7-5d0d-422a-9702-33e827290690"
      },
      "source": [
        "drive.mount('/content/drive')"
      ],
      "execution_count": 129,
      "outputs": [
        {
          "output_type": "stream",
          "text": [
            "Drive already mounted at /content/drive; to attempt to forcibly remount, call drive.mount(\"/content/drive\", force_remount=True).\n"
          ],
          "name": "stdout"
        }
      ]
    },
    {
      "cell_type": "code",
      "metadata": {
        "id": "hbrMt6byJ-lE"
      },
      "source": [
        "import os\n",
        "path =  '/content/drive/My Drive/DPDM_Project'"
      ],
      "execution_count": 130,
      "outputs": []
    },
    {
      "cell_type": "code",
      "metadata": {
        "id": "TnF4mABsKK1Z"
      },
      "source": [
        "water = os.path.join(path, 'water.csv')"
      ],
      "execution_count": 131,
      "outputs": []
    },
    {
      "cell_type": "markdown",
      "metadata": {
        "id": "E5_-7JDAbp9S"
      },
      "source": [
        "#น้ำนอกเขตชลประทาน"
      ]
    },
    {
      "cell_type": "code",
      "metadata": {
        "id": "sdsNRWtPKS6x",
        "colab": {
          "base_uri": "https://localhost:8080/",
          "height": 402
        },
        "outputId": "1bde7764-791b-4327-bb4b-60996a3e5772"
      },
      "source": [
        "water_df = pd.read_csv(water)\n",
        "water_df"
      ],
      "execution_count": 132,
      "outputs": [
        {
          "output_type": "execute_result",
          "data": {
            "text/html": [
              "<div>\n",
              "<style scoped>\n",
              "    .dataframe tbody tr th:only-of-type {\n",
              "        vertical-align: middle;\n",
              "    }\n",
              "\n",
              "    .dataframe tbody tr th {\n",
              "        vertical-align: top;\n",
              "    }\n",
              "\n",
              "    .dataframe thead th {\n",
              "        text-align: right;\n",
              "    }\n",
              "</style>\n",
              "<table border=\"1\" class=\"dataframe\">\n",
              "  <thead>\n",
              "    <tr style=\"text-align: right;\">\n",
              "      <th></th>\n",
              "      <th>ID</th>\n",
              "      <th>ตำบล</th>\n",
              "      <th>อำเภอ</th>\n",
              "      <th>จังหวัด</th>\n",
              "      <th>พิกัด (X) E</th>\n",
              "      <th>พิกัด (Y) N</th>\n",
              "      <th>ปีงบประมาณ</th>\n",
              "    </tr>\n",
              "  </thead>\n",
              "  <tbody>\n",
              "    <tr>\n",
              "      <th>0</th>\n",
              "      <td>1</td>\n",
              "      <td>เกาะกลาง</td>\n",
              "      <td>เกาะลันตา</td>\n",
              "      <td>กระบี่</td>\n",
              "      <td>505670</td>\n",
              "      <td>858758</td>\n",
              "      <td>2559</td>\n",
              "    </tr>\n",
              "    <tr>\n",
              "      <th>1</th>\n",
              "      <td>2</td>\n",
              "      <td>เกาะกลาง</td>\n",
              "      <td>เกาะลันตา</td>\n",
              "      <td>กระบี่</td>\n",
              "      <td>506333</td>\n",
              "      <td>861539</td>\n",
              "      <td>2559</td>\n",
              "    </tr>\n",
              "    <tr>\n",
              "      <th>2</th>\n",
              "      <td>3</td>\n",
              "      <td>เกาะลันตาน้อย</td>\n",
              "      <td>เกาะลันตา</td>\n",
              "      <td>กระบี่</td>\n",
              "      <td>513081</td>\n",
              "      <td>840391</td>\n",
              "      <td>2559</td>\n",
              "    </tr>\n",
              "    <tr>\n",
              "      <th>3</th>\n",
              "      <td>4</td>\n",
              "      <td>เกาะลันตาน้อย</td>\n",
              "      <td>เกาะลันตา</td>\n",
              "      <td>กระบี่</td>\n",
              "      <td>512434</td>\n",
              "      <td>842817</td>\n",
              "      <td>2559</td>\n",
              "    </tr>\n",
              "    <tr>\n",
              "      <th>4</th>\n",
              "      <td>5</td>\n",
              "      <td>เกาะลันตาน้อย</td>\n",
              "      <td>เกาะลันตา</td>\n",
              "      <td>กระบี่</td>\n",
              "      <td>512451</td>\n",
              "      <td>842706</td>\n",
              "      <td>2559</td>\n",
              "    </tr>\n",
              "    <tr>\n",
              "      <th>...</th>\n",
              "      <td>...</td>\n",
              "      <td>...</td>\n",
              "      <td>...</td>\n",
              "      <td>...</td>\n",
              "      <td>...</td>\n",
              "      <td>...</td>\n",
              "      <td>...</td>\n",
              "    </tr>\n",
              "    <tr>\n",
              "      <th>14426</th>\n",
              "      <td>14427</td>\n",
              "      <td>เหล่าเสือโก้ก</td>\n",
              "      <td>เหล่าเสือโก้ก</td>\n",
              "      <td>อุบลราชธานี</td>\n",
              "      <td>1134830</td>\n",
              "      <td>1709650</td>\n",
              "      <td>2559</td>\n",
              "    </tr>\n",
              "    <tr>\n",
              "      <th>14427</th>\n",
              "      <td>14428</td>\n",
              "      <td>เหล่าเสือโก้ก</td>\n",
              "      <td>เหล่าเสือโก้ก</td>\n",
              "      <td>อุบลราชธานี</td>\n",
              "      <td>1135160</td>\n",
              "      <td>1709614</td>\n",
              "      <td>2559</td>\n",
              "    </tr>\n",
              "    <tr>\n",
              "      <th>14428</th>\n",
              "      <td>14429</td>\n",
              "      <td>เหล่าเสือโก้ก</td>\n",
              "      <td>เหล่าเสือโก้ก</td>\n",
              "      <td>อุบลราชธานี</td>\n",
              "      <td>1134023</td>\n",
              "      <td>1708384</td>\n",
              "      <td>2559</td>\n",
              "    </tr>\n",
              "    <tr>\n",
              "      <th>14429</th>\n",
              "      <td>14430</td>\n",
              "      <td>เหล่าเสือโก้ก</td>\n",
              "      <td>เหล่าเสือโก้ก</td>\n",
              "      <td>อุบลราชธานี</td>\n",
              "      <td>1133663</td>\n",
              "      <td>1710891</td>\n",
              "      <td>2559</td>\n",
              "    </tr>\n",
              "    <tr>\n",
              "      <th>14430</th>\n",
              "      <td>14431</td>\n",
              "      <td>เหล่าเสือโก้ก</td>\n",
              "      <td>เหล่าเสือโก้ก</td>\n",
              "      <td>อุบลราชธานี</td>\n",
              "      <td>1128373</td>\n",
              "      <td>1706009</td>\n",
              "      <td>2559</td>\n",
              "    </tr>\n",
              "  </tbody>\n",
              "</table>\n",
              "<p>14431 rows × 7 columns</p>\n",
              "</div>"
            ],
            "text/plain": [
              "          ID           ตำบล  ... พิกัด (Y) N ปีงบประมาณ\n",
              "0          1       เกาะกลาง  ...      858758       2559\n",
              "1          2       เกาะกลาง  ...      861539       2559\n",
              "2          3  เกาะลันตาน้อย  ...      840391       2559\n",
              "3          4  เกาะลันตาน้อย  ...      842817       2559\n",
              "4          5  เกาะลันตาน้อย  ...      842706       2559\n",
              "...      ...            ...  ...         ...        ...\n",
              "14426  14427  เหล่าเสือโก้ก  ...     1709650       2559\n",
              "14427  14428  เหล่าเสือโก้ก  ...     1709614       2559\n",
              "14428  14429  เหล่าเสือโก้ก  ...     1708384       2559\n",
              "14429  14430  เหล่าเสือโก้ก  ...     1710891       2559\n",
              "14430  14431  เหล่าเสือโก้ก  ...     1706009       2559\n",
              "\n",
              "[14431 rows x 7 columns]"
            ]
          },
          "metadata": {
            "tags": []
          },
          "execution_count": 132
        }
      ]
    },
    {
      "cell_type": "code",
      "metadata": {
        "id": "yEu0YGuIPHMn",
        "colab": {
          "base_uri": "https://localhost:8080/",
          "height": 1000
        },
        "outputId": "388e73c5-b221-4ccb-f76a-534ad5f85ff8"
      },
      "source": [
        "water_number_province =  water_df.groupby('จังหวัด').count()\n",
        "water_number_province"
      ],
      "execution_count": 133,
      "outputs": [
        {
          "output_type": "execute_result",
          "data": {
            "text/html": [
              "<div>\n",
              "<style scoped>\n",
              "    .dataframe tbody tr th:only-of-type {\n",
              "        vertical-align: middle;\n",
              "    }\n",
              "\n",
              "    .dataframe tbody tr th {\n",
              "        vertical-align: top;\n",
              "    }\n",
              "\n",
              "    .dataframe thead th {\n",
              "        text-align: right;\n",
              "    }\n",
              "</style>\n",
              "<table border=\"1\" class=\"dataframe\">\n",
              "  <thead>\n",
              "    <tr style=\"text-align: right;\">\n",
              "      <th></th>\n",
              "      <th>ID</th>\n",
              "      <th>ตำบล</th>\n",
              "      <th>อำเภอ</th>\n",
              "      <th>พิกัด (X) E</th>\n",
              "      <th>พิกัด (Y) N</th>\n",
              "      <th>ปีงบประมาณ</th>\n",
              "    </tr>\n",
              "    <tr>\n",
              "      <th>จังหวัด</th>\n",
              "      <th></th>\n",
              "      <th></th>\n",
              "      <th></th>\n",
              "      <th></th>\n",
              "      <th></th>\n",
              "      <th></th>\n",
              "    </tr>\n",
              "  </thead>\n",
              "  <tbody>\n",
              "    <tr>\n",
              "      <th>กระบี่</th>\n",
              "      <td>28</td>\n",
              "      <td>28</td>\n",
              "      <td>28</td>\n",
              "      <td>28</td>\n",
              "      <td>28</td>\n",
              "      <td>28</td>\n",
              "    </tr>\n",
              "    <tr>\n",
              "      <th>กาญจนบุรี</th>\n",
              "      <td>48</td>\n",
              "      <td>48</td>\n",
              "      <td>48</td>\n",
              "      <td>48</td>\n",
              "      <td>48</td>\n",
              "      <td>48</td>\n",
              "    </tr>\n",
              "    <tr>\n",
              "      <th>กาฬสินธุ์</th>\n",
              "      <td>864</td>\n",
              "      <td>864</td>\n",
              "      <td>864</td>\n",
              "      <td>864</td>\n",
              "      <td>864</td>\n",
              "      <td>864</td>\n",
              "    </tr>\n",
              "    <tr>\n",
              "      <th>กำแพงเพชร</th>\n",
              "      <td>298</td>\n",
              "      <td>298</td>\n",
              "      <td>298</td>\n",
              "      <td>298</td>\n",
              "      <td>298</td>\n",
              "      <td>298</td>\n",
              "    </tr>\n",
              "    <tr>\n",
              "      <th>ขอนแก่น</th>\n",
              "      <td>735</td>\n",
              "      <td>735</td>\n",
              "      <td>735</td>\n",
              "      <td>735</td>\n",
              "      <td>735</td>\n",
              "      <td>735</td>\n",
              "    </tr>\n",
              "    <tr>\n",
              "      <th>จันทบุรี</th>\n",
              "      <td>69</td>\n",
              "      <td>69</td>\n",
              "      <td>69</td>\n",
              "      <td>69</td>\n",
              "      <td>69</td>\n",
              "      <td>69</td>\n",
              "    </tr>\n",
              "    <tr>\n",
              "      <th>ฉะเชิงเทรา</th>\n",
              "      <td>97</td>\n",
              "      <td>97</td>\n",
              "      <td>97</td>\n",
              "      <td>97</td>\n",
              "      <td>97</td>\n",
              "      <td>97</td>\n",
              "    </tr>\n",
              "    <tr>\n",
              "      <th>ชลบุรี</th>\n",
              "      <td>47</td>\n",
              "      <td>47</td>\n",
              "      <td>47</td>\n",
              "      <td>47</td>\n",
              "      <td>47</td>\n",
              "      <td>47</td>\n",
              "    </tr>\n",
              "    <tr>\n",
              "      <th>ชัยนาท</th>\n",
              "      <td>39</td>\n",
              "      <td>39</td>\n",
              "      <td>39</td>\n",
              "      <td>39</td>\n",
              "      <td>39</td>\n",
              "      <td>39</td>\n",
              "    </tr>\n",
              "    <tr>\n",
              "      <th>ชัยภูมิ</th>\n",
              "      <td>979</td>\n",
              "      <td>979</td>\n",
              "      <td>979</td>\n",
              "      <td>979</td>\n",
              "      <td>979</td>\n",
              "      <td>979</td>\n",
              "    </tr>\n",
              "    <tr>\n",
              "      <th>ชุมพร</th>\n",
              "      <td>20</td>\n",
              "      <td>20</td>\n",
              "      <td>20</td>\n",
              "      <td>20</td>\n",
              "      <td>20</td>\n",
              "      <td>20</td>\n",
              "    </tr>\n",
              "    <tr>\n",
              "      <th>ตรัง</th>\n",
              "      <td>20</td>\n",
              "      <td>20</td>\n",
              "      <td>20</td>\n",
              "      <td>20</td>\n",
              "      <td>20</td>\n",
              "      <td>20</td>\n",
              "    </tr>\n",
              "    <tr>\n",
              "      <th>ตราด</th>\n",
              "      <td>13</td>\n",
              "      <td>13</td>\n",
              "      <td>13</td>\n",
              "      <td>13</td>\n",
              "      <td>13</td>\n",
              "      <td>13</td>\n",
              "    </tr>\n",
              "    <tr>\n",
              "      <th>ตาก</th>\n",
              "      <td>123</td>\n",
              "      <td>123</td>\n",
              "      <td>123</td>\n",
              "      <td>123</td>\n",
              "      <td>123</td>\n",
              "      <td>123</td>\n",
              "    </tr>\n",
              "    <tr>\n",
              "      <th>นครพนม</th>\n",
              "      <td>2</td>\n",
              "      <td>2</td>\n",
              "      <td>2</td>\n",
              "      <td>2</td>\n",
              "      <td>2</td>\n",
              "      <td>2</td>\n",
              "    </tr>\n",
              "    <tr>\n",
              "      <th>นครราชสีมา</th>\n",
              "      <td>674</td>\n",
              "      <td>674</td>\n",
              "      <td>674</td>\n",
              "      <td>674</td>\n",
              "      <td>674</td>\n",
              "      <td>674</td>\n",
              "    </tr>\n",
              "    <tr>\n",
              "      <th>นครสวรรค์</th>\n",
              "      <td>249</td>\n",
              "      <td>249</td>\n",
              "      <td>249</td>\n",
              "      <td>249</td>\n",
              "      <td>249</td>\n",
              "      <td>249</td>\n",
              "    </tr>\n",
              "    <tr>\n",
              "      <th>นราธิวาส</th>\n",
              "      <td>19</td>\n",
              "      <td>19</td>\n",
              "      <td>19</td>\n",
              "      <td>19</td>\n",
              "      <td>19</td>\n",
              "      <td>19</td>\n",
              "    </tr>\n",
              "    <tr>\n",
              "      <th>น่าน</th>\n",
              "      <td>50</td>\n",
              "      <td>50</td>\n",
              "      <td>50</td>\n",
              "      <td>50</td>\n",
              "      <td>50</td>\n",
              "      <td>50</td>\n",
              "    </tr>\n",
              "    <tr>\n",
              "      <th>บึงกาฬ</th>\n",
              "      <td>633</td>\n",
              "      <td>633</td>\n",
              "      <td>633</td>\n",
              "      <td>633</td>\n",
              "      <td>633</td>\n",
              "      <td>633</td>\n",
              "    </tr>\n",
              "    <tr>\n",
              "      <th>บุรีรัมย์</th>\n",
              "      <td>476</td>\n",
              "      <td>476</td>\n",
              "      <td>476</td>\n",
              "      <td>476</td>\n",
              "      <td>476</td>\n",
              "      <td>476</td>\n",
              "    </tr>\n",
              "    <tr>\n",
              "      <th>ประจวบคีรีขันธ์</th>\n",
              "      <td>50</td>\n",
              "      <td>50</td>\n",
              "      <td>50</td>\n",
              "      <td>50</td>\n",
              "      <td>50</td>\n",
              "      <td>50</td>\n",
              "    </tr>\n",
              "    <tr>\n",
              "      <th>ปัตตานี</th>\n",
              "      <td>20</td>\n",
              "      <td>20</td>\n",
              "      <td>20</td>\n",
              "      <td>20</td>\n",
              "      <td>20</td>\n",
              "      <td>20</td>\n",
              "    </tr>\n",
              "    <tr>\n",
              "      <th>พะเยา</th>\n",
              "      <td>395</td>\n",
              "      <td>395</td>\n",
              "      <td>395</td>\n",
              "      <td>395</td>\n",
              "      <td>395</td>\n",
              "      <td>395</td>\n",
              "    </tr>\n",
              "    <tr>\n",
              "      <th>พังงา</th>\n",
              "      <td>20</td>\n",
              "      <td>20</td>\n",
              "      <td>20</td>\n",
              "      <td>20</td>\n",
              "      <td>20</td>\n",
              "      <td>20</td>\n",
              "    </tr>\n",
              "    <tr>\n",
              "      <th>พิจิตร</th>\n",
              "      <td>195</td>\n",
              "      <td>195</td>\n",
              "      <td>195</td>\n",
              "      <td>195</td>\n",
              "      <td>195</td>\n",
              "      <td>195</td>\n",
              "    </tr>\n",
              "    <tr>\n",
              "      <th>พิษณุโลก</th>\n",
              "      <td>504</td>\n",
              "      <td>504</td>\n",
              "      <td>504</td>\n",
              "      <td>504</td>\n",
              "      <td>504</td>\n",
              "      <td>504</td>\n",
              "    </tr>\n",
              "    <tr>\n",
              "      <th>มหาสารคาม</th>\n",
              "      <td>115</td>\n",
              "      <td>115</td>\n",
              "      <td>115</td>\n",
              "      <td>115</td>\n",
              "      <td>115</td>\n",
              "      <td>115</td>\n",
              "    </tr>\n",
              "    <tr>\n",
              "      <th>มุกดาหาร</th>\n",
              "      <td>475</td>\n",
              "      <td>475</td>\n",
              "      <td>475</td>\n",
              "      <td>475</td>\n",
              "      <td>475</td>\n",
              "      <td>475</td>\n",
              "    </tr>\n",
              "    <tr>\n",
              "      <th>ยะลา</th>\n",
              "      <td>18</td>\n",
              "      <td>18</td>\n",
              "      <td>18</td>\n",
              "      <td>18</td>\n",
              "      <td>18</td>\n",
              "      <td>18</td>\n",
              "    </tr>\n",
              "    <tr>\n",
              "      <th>ยโสธร</th>\n",
              "      <td>701</td>\n",
              "      <td>701</td>\n",
              "      <td>701</td>\n",
              "      <td>701</td>\n",
              "      <td>701</td>\n",
              "      <td>701</td>\n",
              "    </tr>\n",
              "    <tr>\n",
              "      <th>ระยอง</th>\n",
              "      <td>20</td>\n",
              "      <td>20</td>\n",
              "      <td>20</td>\n",
              "      <td>20</td>\n",
              "      <td>20</td>\n",
              "      <td>20</td>\n",
              "    </tr>\n",
              "    <tr>\n",
              "      <th>ราชบุรี</th>\n",
              "      <td>50</td>\n",
              "      <td>50</td>\n",
              "      <td>50</td>\n",
              "      <td>50</td>\n",
              "      <td>50</td>\n",
              "      <td>50</td>\n",
              "    </tr>\n",
              "    <tr>\n",
              "      <th>ลพบุรี</th>\n",
              "      <td>57</td>\n",
              "      <td>57</td>\n",
              "      <td>57</td>\n",
              "      <td>57</td>\n",
              "      <td>57</td>\n",
              "      <td>57</td>\n",
              "    </tr>\n",
              "    <tr>\n",
              "      <th>ลำปาง</th>\n",
              "      <td>30</td>\n",
              "      <td>30</td>\n",
              "      <td>30</td>\n",
              "      <td>30</td>\n",
              "      <td>30</td>\n",
              "      <td>30</td>\n",
              "    </tr>\n",
              "    <tr>\n",
              "      <th>ลำพูน</th>\n",
              "      <td>51</td>\n",
              "      <td>51</td>\n",
              "      <td>51</td>\n",
              "      <td>51</td>\n",
              "      <td>51</td>\n",
              "      <td>51</td>\n",
              "    </tr>\n",
              "    <tr>\n",
              "      <th>ศรีสะเกษ</th>\n",
              "      <td>123</td>\n",
              "      <td>123</td>\n",
              "      <td>123</td>\n",
              "      <td>123</td>\n",
              "      <td>123</td>\n",
              "      <td>123</td>\n",
              "    </tr>\n",
              "    <tr>\n",
              "      <th>สกลนคร</th>\n",
              "      <td>1148</td>\n",
              "      <td>1148</td>\n",
              "      <td>1148</td>\n",
              "      <td>1148</td>\n",
              "      <td>1148</td>\n",
              "      <td>1148</td>\n",
              "    </tr>\n",
              "    <tr>\n",
              "      <th>สงขลา</th>\n",
              "      <td>20</td>\n",
              "      <td>20</td>\n",
              "      <td>20</td>\n",
              "      <td>20</td>\n",
              "      <td>20</td>\n",
              "      <td>20</td>\n",
              "    </tr>\n",
              "    <tr>\n",
              "      <th>สระบุรี</th>\n",
              "      <td>34</td>\n",
              "      <td>34</td>\n",
              "      <td>34</td>\n",
              "      <td>34</td>\n",
              "      <td>34</td>\n",
              "      <td>34</td>\n",
              "    </tr>\n",
              "    <tr>\n",
              "      <th>สระแก้ว</th>\n",
              "      <td>177</td>\n",
              "      <td>177</td>\n",
              "      <td>177</td>\n",
              "      <td>177</td>\n",
              "      <td>177</td>\n",
              "      <td>177</td>\n",
              "    </tr>\n",
              "    <tr>\n",
              "      <th>สุพรรณบุรี</th>\n",
              "      <td>40</td>\n",
              "      <td>40</td>\n",
              "      <td>40</td>\n",
              "      <td>40</td>\n",
              "      <td>40</td>\n",
              "      <td>40</td>\n",
              "    </tr>\n",
              "    <tr>\n",
              "      <th>สุโขทัย</th>\n",
              "      <td>200</td>\n",
              "      <td>200</td>\n",
              "      <td>200</td>\n",
              "      <td>200</td>\n",
              "      <td>200</td>\n",
              "      <td>200</td>\n",
              "    </tr>\n",
              "    <tr>\n",
              "      <th>หนองคาย</th>\n",
              "      <td>440</td>\n",
              "      <td>440</td>\n",
              "      <td>440</td>\n",
              "      <td>440</td>\n",
              "      <td>440</td>\n",
              "      <td>440</td>\n",
              "    </tr>\n",
              "    <tr>\n",
              "      <th>หนองบัวลำภู</th>\n",
              "      <td>775</td>\n",
              "      <td>775</td>\n",
              "      <td>775</td>\n",
              "      <td>775</td>\n",
              "      <td>775</td>\n",
              "      <td>775</td>\n",
              "    </tr>\n",
              "    <tr>\n",
              "      <th>อำนาจเจริญ</th>\n",
              "      <td>717</td>\n",
              "      <td>717</td>\n",
              "      <td>717</td>\n",
              "      <td>717</td>\n",
              "      <td>717</td>\n",
              "      <td>717</td>\n",
              "    </tr>\n",
              "    <tr>\n",
              "      <th>อุดรธานี</th>\n",
              "      <td>837</td>\n",
              "      <td>837</td>\n",
              "      <td>837</td>\n",
              "      <td>837</td>\n",
              "      <td>837</td>\n",
              "      <td>837</td>\n",
              "    </tr>\n",
              "    <tr>\n",
              "      <th>อุทัยธานี</th>\n",
              "      <td>50</td>\n",
              "      <td>50</td>\n",
              "      <td>50</td>\n",
              "      <td>50</td>\n",
              "      <td>50</td>\n",
              "      <td>50</td>\n",
              "    </tr>\n",
              "    <tr>\n",
              "      <th>อุบลราชธานี</th>\n",
              "      <td>651</td>\n",
              "      <td>651</td>\n",
              "      <td>651</td>\n",
              "      <td>651</td>\n",
              "      <td>651</td>\n",
              "      <td>651</td>\n",
              "    </tr>\n",
              "    <tr>\n",
              "      <th>เชียงราย</th>\n",
              "      <td>150</td>\n",
              "      <td>150</td>\n",
              "      <td>150</td>\n",
              "      <td>150</td>\n",
              "      <td>150</td>\n",
              "      <td>150</td>\n",
              "    </tr>\n",
              "    <tr>\n",
              "      <th>เชียงใหม่</th>\n",
              "      <td>148</td>\n",
              "      <td>148</td>\n",
              "      <td>148</td>\n",
              "      <td>148</td>\n",
              "      <td>148</td>\n",
              "      <td>148</td>\n",
              "    </tr>\n",
              "    <tr>\n",
              "      <th>เพชรบุรี</th>\n",
              "      <td>50</td>\n",
              "      <td>50</td>\n",
              "      <td>50</td>\n",
              "      <td>50</td>\n",
              "      <td>50</td>\n",
              "      <td>50</td>\n",
              "    </tr>\n",
              "    <tr>\n",
              "      <th>เพชรบูรณ์</th>\n",
              "      <td>293</td>\n",
              "      <td>293</td>\n",
              "      <td>293</td>\n",
              "      <td>293</td>\n",
              "      <td>293</td>\n",
              "      <td>293</td>\n",
              "    </tr>\n",
              "    <tr>\n",
              "      <th>เลย</th>\n",
              "      <td>294</td>\n",
              "      <td>294</td>\n",
              "      <td>294</td>\n",
              "      <td>294</td>\n",
              "      <td>294</td>\n",
              "      <td>294</td>\n",
              "    </tr>\n",
              "    <tr>\n",
              "      <th>แพร่</th>\n",
              "      <td>100</td>\n",
              "      <td>100</td>\n",
              "      <td>100</td>\n",
              "      <td>100</td>\n",
              "      <td>100</td>\n",
              "      <td>100</td>\n",
              "    </tr>\n",
              "  </tbody>\n",
              "</table>\n",
              "</div>"
            ],
            "text/plain": [
              "                   ID  ตำบล  อำเภอ  พิกัด (X) E  พิกัด (Y) N  ปีงบประมาณ\n",
              "จังหวัด                                                                 \n",
              "กระบี่             28    28     28           28           28          28\n",
              "กาญจนบุรี          48    48     48           48           48          48\n",
              "กาฬสินธุ์         864   864    864          864          864         864\n",
              "กำแพงเพชร         298   298    298          298          298         298\n",
              "ขอนแก่น           735   735    735          735          735         735\n",
              "จันทบุรี           69    69     69           69           69          69\n",
              "ฉะเชิงเทรา         97    97     97           97           97          97\n",
              "ชลบุรี             47    47     47           47           47          47\n",
              "ชัยนาท             39    39     39           39           39          39\n",
              "ชัยภูมิ           979   979    979          979          979         979\n",
              "ชุมพร              20    20     20           20           20          20\n",
              "ตรัง               20    20     20           20           20          20\n",
              "ตราด               13    13     13           13           13          13\n",
              "ตาก               123   123    123          123          123         123\n",
              "นครพนม              2     2      2            2            2           2\n",
              "นครราชสีมา        674   674    674          674          674         674\n",
              "นครสวรรค์         249   249    249          249          249         249\n",
              "นราธิวาส           19    19     19           19           19          19\n",
              "น่าน               50    50     50           50           50          50\n",
              "บึงกาฬ            633   633    633          633          633         633\n",
              "บุรีรัมย์         476   476    476          476          476         476\n",
              "ประจวบคีรีขันธ์    50    50     50           50           50          50\n",
              "ปัตตานี            20    20     20           20           20          20\n",
              "พะเยา             395   395    395          395          395         395\n",
              "พังงา              20    20     20           20           20          20\n",
              "พิจิตร            195   195    195          195          195         195\n",
              "พิษณุโลก          504   504    504          504          504         504\n",
              "มหาสารคาม         115   115    115          115          115         115\n",
              "มุกดาหาร          475   475    475          475          475         475\n",
              "ยะลา               18    18     18           18           18          18\n",
              "ยโสธร             701   701    701          701          701         701\n",
              "ระยอง              20    20     20           20           20          20\n",
              "ราชบุรี            50    50     50           50           50          50\n",
              "ลพบุรี             57    57     57           57           57          57\n",
              "ลำปาง              30    30     30           30           30          30\n",
              "ลำพูน              51    51     51           51           51          51\n",
              "ศรีสะเกษ          123   123    123          123          123         123\n",
              "สกลนคร           1148  1148   1148         1148         1148        1148\n",
              "สงขลา              20    20     20           20           20          20\n",
              "สระบุรี            34    34     34           34           34          34\n",
              "สระแก้ว           177   177    177          177          177         177\n",
              "สุพรรณบุรี         40    40     40           40           40          40\n",
              "สุโขทัย           200   200    200          200          200         200\n",
              "หนองคาย           440   440    440          440          440         440\n",
              "หนองบัวลำภู       775   775    775          775          775         775\n",
              "อำนาจเจริญ        717   717    717          717          717         717\n",
              "อุดรธานี          837   837    837          837          837         837\n",
              "อุทัยธานี          50    50     50           50           50          50\n",
              "อุบลราชธานี       651   651    651          651          651         651\n",
              "เชียงราย          150   150    150          150          150         150\n",
              "เชียงใหม่         148   148    148          148          148         148\n",
              "เพชรบุรี           50    50     50           50           50          50\n",
              "เพชรบูรณ์         293   293    293          293          293         293\n",
              "เลย               294   294    294          294          294         294\n",
              "แพร่              100   100    100          100          100         100"
            ]
          },
          "metadata": {
            "tags": []
          },
          "execution_count": 133
        }
      ]
    },
    {
      "cell_type": "code",
      "metadata": {
        "id": "AdbIfqP_pu3N",
        "colab": {
          "base_uri": "https://localhost:8080/"
        },
        "outputId": "9bb768d5-33e3-4ef0-bace-3ae17e1ccc28"
      },
      "source": [
        "water_number_province.shape"
      ],
      "execution_count": 134,
      "outputs": [
        {
          "output_type": "execute_result",
          "data": {
            "text/plain": [
              "(55, 6)"
            ]
          },
          "metadata": {
            "tags": []
          },
          "execution_count": 134
        }
      ]
    },
    {
      "cell_type": "code",
      "metadata": {
        "id": "DfquDKv4wVVo",
        "colab": {
          "base_uri": "https://localhost:8080/"
        },
        "outputId": "34936e44-ae3e-4a1a-b4ae-a3fcd2b3963d"
      },
      "source": [
        "water_number_province.sum()"
      ],
      "execution_count": 135,
      "outputs": [
        {
          "output_type": "execute_result",
          "data": {
            "text/plain": [
              "ID             14431\n",
              "ตำบล           14431\n",
              "อำเภอ          14431\n",
              "พิกัด (X) E    14431\n",
              "พิกัด (Y) N    14431\n",
              "ปีงบประมาณ     14431\n",
              "dtype: int64"
            ]
          },
          "metadata": {
            "tags": []
          },
          "execution_count": 135
        }
      ]
    },
    {
      "cell_type": "code",
      "metadata": {
        "id": "N8OMi_tVorm5",
        "colab": {
          "base_uri": "https://localhost:8080/",
          "height": 399
        },
        "outputId": "82697492-a914-4514-fd24-8a59f2d8fc40"
      },
      "source": [
        "ret_water = plt.boxplot(water_number_province['ID'],vert=False)\n",
        "ret_water"
      ],
      "execution_count": 136,
      "outputs": [
        {
          "output_type": "execute_result",
          "data": {
            "text/plain": [
              "{'boxes': [<matplotlib.lines.Line2D at 0x7fbb73f50b70>],\n",
              " 'caps': [<matplotlib.lines.Line2D at 0x7fbb73f5f5c0>,\n",
              "  <matplotlib.lines.Line2D at 0x7fbb73f5f940>],\n",
              " 'fliers': [<matplotlib.lines.Line2D at 0x7fbb73f6a080>],\n",
              " 'means': [],\n",
              " 'medians': [<matplotlib.lines.Line2D at 0x7fbb73f5fcc0>],\n",
              " 'whiskers': [<matplotlib.lines.Line2D at 0x7fbb73f50e80>,\n",
              "  <matplotlib.lines.Line2D at 0x7fbb73f5f240>]}"
            ]
          },
          "metadata": {
            "tags": []
          },
          "execution_count": 136
        },
        {
          "output_type": "display_data",
          "data": {
            "image/png": "[encoded data removed]",
            "text/plain": [
              "<Figure size 432x288 with 1 Axes>"
            ]
          },
          "metadata": {
            "tags": [],
            "needs_background": "light"
          }
        }
      ]
    },
    {
      "cell_type": "code",
      "metadata": {
        "id": "Ed_LXBittf0W",
        "colab": {
          "base_uri": "https://localhost:8080/"
        },
        "outputId": "180f2b3b-e9a5-4a2c-98ed-19c4ec50a398"
      },
      "source": [
        "ret_water['whiskers'][0].get_xdata()"
      ],
      "execution_count": 137,
      "outputs": [
        {
          "output_type": "execute_result",
          "data": {
            "text/plain": [
              "array([39.5,  2. ])"
            ]
          },
          "metadata": {
            "tags": []
          },
          "execution_count": 137
        }
      ]
    },
    {
      "cell_type": "code",
      "metadata": {
        "id": "pLVPfHRxuWx4",
        "colab": {
          "base_uri": "https://localhost:8080/"
        },
        "outputId": "b298e00f-5585-42de-e6c8-949e3bc4de30"
      },
      "source": [
        "ret_water['whiskers'][1].get_xdata()"
      ],
      "execution_count": 138,
      "outputs": [
        {
          "output_type": "execute_result",
          "data": {
            "text/plain": [
              "array([457.5, 979. ])"
            ]
          },
          "metadata": {
            "tags": []
          },
          "execution_count": 138
        }
      ]
    },
    {
      "cell_type": "code",
      "metadata": {
        "id": "DoJaqnHhupRW",
        "colab": {
          "base_uri": "https://localhost:8080/"
        },
        "outputId": "c943a5fc-7839-4b06-c6e0-92380bd33000"
      },
      "source": [
        "water_number_province.min()"
      ],
      "execution_count": 139,
      "outputs": [
        {
          "output_type": "execute_result",
          "data": {
            "text/plain": [
              "ID             2\n",
              "ตำบล           2\n",
              "อำเภอ          2\n",
              "พิกัด (X) E    2\n",
              "พิกัด (Y) N    2\n",
              "ปีงบประมาณ     2\n",
              "dtype: int64"
            ]
          },
          "metadata": {
            "tags": []
          },
          "execution_count": 139
        }
      ]
    },
    {
      "cell_type": "code",
      "metadata": {
        "id": "146n1uSSuwRe",
        "colab": {
          "base_uri": "https://localhost:8080/"
        },
        "outputId": "c819f1fa-3553-4653-8157-5c1b21394cc1"
      },
      "source": [
        "water_number_province.max()"
      ],
      "execution_count": 140,
      "outputs": [
        {
          "output_type": "execute_result",
          "data": {
            "text/plain": [
              "ID             1148\n",
              "ตำบล           1148\n",
              "อำเภอ          1148\n",
              "พิกัด (X) E    1148\n",
              "พิกัด (Y) N    1148\n",
              "ปีงบประมาณ     1148\n",
              "dtype: int64"
            ]
          },
          "metadata": {
            "tags": []
          },
          "execution_count": 140
        }
      ]
    },
    {
      "cell_type": "code",
      "metadata": {
        "id": "anpDUFS3u0Jt",
        "colab": {
          "base_uri": "https://localhost:8080/"
        },
        "outputId": "849d3f3c-9de2-4d85-b618-f396bfdffcf3"
      },
      "source": [
        "water_number_province.median()"
      ],
      "execution_count": 141,
      "outputs": [
        {
          "output_type": "execute_result",
          "data": {
            "text/plain": [
              "ID             115.0\n",
              "ตำบล           115.0\n",
              "อำเภอ          115.0\n",
              "พิกัด (X) E    115.0\n",
              "พิกัด (Y) N    115.0\n",
              "ปีงบประมาณ     115.0\n",
              "dtype: float64"
            ]
          },
          "metadata": {
            "tags": []
          },
          "execution_count": 141
        }
      ]
    },
    {
      "cell_type": "markdown",
      "metadata": {
        "id": "qUvAI7p6u5sR"
      },
      "source": [
        "#Water Group\n",
        "* A = 2 -39\n",
        "* B = 40 - 115\n",
        "* C = 116 - 457\n",
        "* D = 458 -1148"
      ]
    },
    {
      "cell_type": "code",
      "metadata": {
        "id": "4V_V3BrTsy-O"
      },
      "source": [
        "#select only column \"จังหวัด\" and \"ID\"\n",
        "water1 = water_number_province.iloc[:,0:1]"
      ],
      "execution_count": 142,
      "outputs": []
    },
    {
      "cell_type": "code",
      "metadata": {
        "id": "Yl2RVbPaupLG",
        "colab": {
          "base_uri": "https://localhost:8080/",
          "height": 0
        },
        "outputId": "0e81731a-18fd-41d3-a1b3-46defb11ceb9"
      },
      "source": [
        "water1"
      ],
      "execution_count": 143,
      "outputs": [
        {
          "output_type": "execute_result",
          "data": {
            "text/html": [
              "<div>\n",
              "<style scoped>\n",
              "    .dataframe tbody tr th:only-of-type {\n",
              "        vertical-align: middle;\n",
              "    }\n",
              "\n",
              "    .dataframe tbody tr th {\n",
              "        vertical-align: top;\n",
              "    }\n",
              "\n",
              "    .dataframe thead th {\n",
              "        text-align: right;\n",
              "    }\n",
              "</style>\n",
              "<table border=\"1\" class=\"dataframe\">\n",
              "  <thead>\n",
              "    <tr style=\"text-align: right;\">\n",
              "      <th></th>\n",
              "      <th>ID</th>\n",
              "    </tr>\n",
              "    <tr>\n",
              "      <th>จังหวัด</th>\n",
              "      <th></th>\n",
              "    </tr>\n",
              "  </thead>\n",
              "  <tbody>\n",
              "    <tr>\n",
              "      <th>กระบี่</th>\n",
              "      <td>28</td>\n",
              "    </tr>\n",
              "    <tr>\n",
              "      <th>กาญจนบุรี</th>\n",
              "      <td>48</td>\n",
              "    </tr>\n",
              "    <tr>\n",
              "      <th>กาฬสินธุ์</th>\n",
              "      <td>864</td>\n",
              "    </tr>\n",
              "    <tr>\n",
              "      <th>กำแพงเพชร</th>\n",
              "      <td>298</td>\n",
              "    </tr>\n",
              "    <tr>\n",
              "      <th>ขอนแก่น</th>\n",
              "      <td>735</td>\n",
              "    </tr>\n",
              "    <tr>\n",
              "      <th>จันทบุรี</th>\n",
              "      <td>69</td>\n",
              "    </tr>\n",
              "    <tr>\n",
              "      <th>ฉะเชิงเทรา</th>\n",
              "      <td>97</td>\n",
              "    </tr>\n",
              "    <tr>\n",
              "      <th>ชลบุรี</th>\n",
              "      <td>47</td>\n",
              "    </tr>\n",
              "    <tr>\n",
              "      <th>ชัยนาท</th>\n",
              "      <td>39</td>\n",
              "    </tr>\n",
              "    <tr>\n",
              "      <th>ชัยภูมิ</th>\n",
              "      <td>979</td>\n",
              "    </tr>\n",
              "    <tr>\n",
              "      <th>ชุมพร</th>\n",
              "      <td>20</td>\n",
              "    </tr>\n",
              "    <tr>\n",
              "      <th>ตรัง</th>\n",
              "      <td>20</td>\n",
              "    </tr>\n",
              "    <tr>\n",
              "      <th>ตราด</th>\n",
              "      <td>13</td>\n",
              "    </tr>\n",
              "    <tr>\n",
              "      <th>ตาก</th>\n",
              "      <td>123</td>\n",
              "    </tr>\n",
              "    <tr>\n",
              "      <th>นครพนม</th>\n",
              "      <td>2</td>\n",
              "    </tr>\n",
              "    <tr>\n",
              "      <th>นครราชสีมา</th>\n",
              "      <td>674</td>\n",
              "    </tr>\n",
              "    <tr>\n",
              "      <th>นครสวรรค์</th>\n",
              "      <td>249</td>\n",
              "    </tr>\n",
              "    <tr>\n",
              "      <th>นราธิวาส</th>\n",
              "      <td>19</td>\n",
              "    </tr>\n",
              "    <tr>\n",
              "      <th>น่าน</th>\n",
              "      <td>50</td>\n",
              "    </tr>\n",
              "    <tr>\n",
              "      <th>บึงกาฬ</th>\n",
              "      <td>633</td>\n",
              "    </tr>\n",
              "    <tr>\n",
              "      <th>บุรีรัมย์</th>\n",
              "      <td>476</td>\n",
              "    </tr>\n",
              "    <tr>\n",
              "      <th>ประจวบคีรีขันธ์</th>\n",
              "      <td>50</td>\n",
              "    </tr>\n",
              "    <tr>\n",
              "      <th>ปัตตานี</th>\n",
              "      <td>20</td>\n",
              "    </tr>\n",
              "    <tr>\n",
              "      <th>พะเยา</th>\n",
              "      <td>395</td>\n",
              "    </tr>\n",
              "    <tr>\n",
              "      <th>พังงา</th>\n",
              "      <td>20</td>\n",
              "    </tr>\n",
              "    <tr>\n",
              "      <th>พิจิตร</th>\n",
              "      <td>195</td>\n",
              "    </tr>\n",
              "    <tr>\n",
              "      <th>พิษณุโลก</th>\n",
              "      <td>504</td>\n",
              "    </tr>\n",
              "    <tr>\n",
              "      <th>มหาสารคาม</th>\n",
              "      <td>115</td>\n",
              "    </tr>\n",
              "    <tr>\n",
              "      <th>มุกดาหาร</th>\n",
              "      <td>475</td>\n",
              "    </tr>\n",
              "    <tr>\n",
              "      <th>ยะลา</th>\n",
              "      <td>18</td>\n",
              "    </tr>\n",
              "    <tr>\n",
              "      <th>ยโสธร</th>\n",
              "      <td>701</td>\n",
              "    </tr>\n",
              "    <tr>\n",
              "      <th>ระยอง</th>\n",
              "      <td>20</td>\n",
              "    </tr>\n",
              "    <tr>\n",
              "      <th>ราชบุรี</th>\n",
              "      <td>50</td>\n",
              "    </tr>\n",
              "    <tr>\n",
              "      <th>ลพบุรี</th>\n",
              "      <td>57</td>\n",
              "    </tr>\n",
              "    <tr>\n",
              "      <th>ลำปาง</th>\n",
              "      <td>30</td>\n",
              "    </tr>\n",
              "    <tr>\n",
              "      <th>ลำพูน</th>\n",
              "      <td>51</td>\n",
              "    </tr>\n",
              "    <tr>\n",
              "      <th>ศรีสะเกษ</th>\n",
              "      <td>123</td>\n",
              "    </tr>\n",
              "    <tr>\n",
              "      <th>สกลนคร</th>\n",
              "      <td>1148</td>\n",
              "    </tr>\n",
              "    <tr>\n",
              "      <th>สงขลา</th>\n",
              "      <td>20</td>\n",
              "    </tr>\n",
              "    <tr>\n",
              "      <th>สระบุรี</th>\n",
              "      <td>34</td>\n",
              "    </tr>\n",
              "    <tr>\n",
              "      <th>สระแก้ว</th>\n",
              "      <td>177</td>\n",
              "    </tr>\n",
              "    <tr>\n",
              "      <th>สุพรรณบุรี</th>\n",
              "      <td>40</td>\n",
              "    </tr>\n",
              "    <tr>\n",
              "      <th>สุโขทัย</th>\n",
              "      <td>200</td>\n",
              "    </tr>\n",
              "    <tr>\n",
              "      <th>หนองคาย</th>\n",
              "      <td>440</td>\n",
              "    </tr>\n",
              "    <tr>\n",
              "      <th>หนองบัวลำภู</th>\n",
              "      <td>775</td>\n",
              "    </tr>\n",
              "    <tr>\n",
              "      <th>อำนาจเจริญ</th>\n",
              "      <td>717</td>\n",
              "    </tr>\n",
              "    <tr>\n",
              "      <th>อุดรธานี</th>\n",
              "      <td>837</td>\n",
              "    </tr>\n",
              "    <tr>\n",
              "      <th>อุทัยธานี</th>\n",
              "      <td>50</td>\n",
              "    </tr>\n",
              "    <tr>\n",
              "      <th>อุบลราชธานี</th>\n",
              "      <td>651</td>\n",
              "    </tr>\n",
              "    <tr>\n",
              "      <th>เชียงราย</th>\n",
              "      <td>150</td>\n",
              "    </tr>\n",
              "    <tr>\n",
              "      <th>เชียงใหม่</th>\n",
              "      <td>148</td>\n",
              "    </tr>\n",
              "    <tr>\n",
              "      <th>เพชรบุรี</th>\n",
              "      <td>50</td>\n",
              "    </tr>\n",
              "    <tr>\n",
              "      <th>เพชรบูรณ์</th>\n",
              "      <td>293</td>\n",
              "    </tr>\n",
              "    <tr>\n",
              "      <th>เลย</th>\n",
              "      <td>294</td>\n",
              "    </tr>\n",
              "    <tr>\n",
              "      <th>แพร่</th>\n",
              "      <td>100</td>\n",
              "    </tr>\n",
              "  </tbody>\n",
              "</table>\n",
              "</div>"
            ],
            "text/plain": [
              "                   ID\n",
              "จังหวัด              \n",
              "กระบี่             28\n",
              "กาญจนบุรี          48\n",
              "กาฬสินธุ์         864\n",
              "กำแพงเพชร         298\n",
              "ขอนแก่น           735\n",
              "จันทบุรี           69\n",
              "ฉะเชิงเทรา         97\n",
              "ชลบุรี             47\n",
              "ชัยนาท             39\n",
              "ชัยภูมิ           979\n",
              "ชุมพร              20\n",
              "ตรัง               20\n",
              "ตราด               13\n",
              "ตาก               123\n",
              "นครพนม              2\n",
              "นครราชสีมา        674\n",
              "นครสวรรค์         249\n",
              "นราธิวาส           19\n",
              "น่าน               50\n",
              "บึงกาฬ            633\n",
              "บุรีรัมย์         476\n",
              "ประจวบคีรีขันธ์    50\n",
              "ปัตตานี            20\n",
              "พะเยา             395\n",
              "พังงา              20\n",
              "พิจิตร            195\n",
              "พิษณุโลก          504\n",
              "มหาสารคาม         115\n",
              "มุกดาหาร          475\n",
              "ยะลา               18\n",
              "ยโสธร             701\n",
              "ระยอง              20\n",
              "ราชบุรี            50\n",
              "ลพบุรี             57\n",
              "ลำปาง              30\n",
              "ลำพูน              51\n",
              "ศรีสะเกษ          123\n",
              "สกลนคร           1148\n",
              "สงขลา              20\n",
              "สระบุรี            34\n",
              "สระแก้ว           177\n",
              "สุพรรณบุรี         40\n",
              "สุโขทัย           200\n",
              "หนองคาย           440\n",
              "หนองบัวลำภู       775\n",
              "อำนาจเจริญ        717\n",
              "อุดรธานี          837\n",
              "อุทัยธานี          50\n",
              "อุบลราชธานี       651\n",
              "เชียงราย          150\n",
              "เชียงใหม่         148\n",
              "เพชรบุรี           50\n",
              "เพชรบูรณ์         293\n",
              "เลย               294\n",
              "แพร่              100"
            ]
          },
          "metadata": {
            "tags": []
          },
          "execution_count": 143
        }
      ]
    },
    {
      "cell_type": "code",
      "metadata": {
        "id": "2IXZz9xVKvjO",
        "colab": {
          "base_uri": "https://localhost:8080/"
        },
        "outputId": "a7742361-d5f4-43b1-8059-600def542608"
      },
      "source": [
        "water_province = water_df.groupby('จังหวัด')['พิกัด (X) E'].apply(list) #reduced_marketbasket_df = data\n",
        "water_province"
      ],
      "execution_count": 144,
      "outputs": [
        {
          "output_type": "execute_result",
          "data": {
            "text/plain": [
              "จังหวัด\n",
              "กระบี่             [505670, 506333, 513081, 512434, 512451, 50900...\n",
              "กาญจนบุรี          [576560, 576436, 577200, 576421, 577564, 57541...\n",
              "กาฬสินธุ์          [994781, 994743, 998744, 999044, 994711, 99454...\n",
              "กำแพงเพชร          [584110, 583974, 580442, 578640, 580537, 58403...\n",
              "ขอนแก่น            [941894, 944689, 942653, 943287, 943763, 94465...\n",
              "จันทบุรี           [806772, 806053, 806806, 803810, 840014, 85796...\n",
              "ฉะเชิงเทรา         [732420, 731641, 731635, 731008, 730164, 73205...\n",
              "ชลบุรี             [757246, 773766, 758937, 770962, 758795, 76725...\n",
              "ชัยนาท             [596232, 598104, 597668, 598408, 597619, 59754...\n",
              "ชัยภูมิ            [811697, 813512, 809210, 814292, 810713, 80676...\n",
              "ชุมพร              [517313, 523269, 523801, 515842, 512929, 51484...\n",
              "ตรัง               [553590, 557012, 553673, 553768, 546026, 56398...\n",
              "ตราด               [876270, 876358, 864518, 867496, 876428, 87927...\n",
              "ตาก                [501128, 502008, 501438, 502763, 502713, 50166...\n",
              "นครพนม                                            [1055081, 1056396]\n",
              "นครราชสีมา         [817498, 810369, 816244, 811983, 814521, 81312...\n",
              "นครสวรรค์          [643801, 634122, 631827, 632447, 633220, 63354...\n",
              "นราธิวาส           [834269, 834715, 840571, 795100, 794910, 79540...\n",
              "น่าน               [680816, 684863, 683985, 683821, 683578, 69308...\n",
              "บึงกาฬ             [1026967, 1026147, 1027284, 1026834, 1024400, ...\n",
              "บุรีรัมย์          [959697, 959918, 965400, 954022, 951218, 95438...\n",
              "ประจวบคีรีขันธ์    [594634, 594634, 594634, 561874, 570945, 57106...\n",
              "ปัตตานี            [731574, 731602, 772487, 772390, 772041, 77311...\n",
              "พะเยา              [624593, 625195, 621308, 621042, 626618, 62608...\n",
              "พังงา              [440171, 436587, 430506, 430251, 424923, 42964...\n",
              "พิจิตร             [668083, 666972, 665843, 666963, 669201, 67134...\n",
              "พิษณุโลก           [703045, 676392, 678215, 678653, 679948, 67341...\n",
              "มหาสารคาม          [947300, 945759, 945619, 944035, 947790, 94336...\n",
              "มุกดาหาร           [1081006, 1075334, 1067134, 1068098, 1076460, ...\n",
              "ยะลา               [752436, 749715, 752966, 752267, 747634, 74750...\n",
              "ยโสธร              [1072850, 1076871, 1073169, 1077793, 1074008, ...\n",
              "ระยอง              [786579, 781625, 781585, 799739, 799747, 73890...\n",
              "ราชบุรี            [548441, 549517, 554418, 548460, 554304, 54857...\n",
              "ลพบุรี             [681178, 681936, 678850, 683110, 684664, 68452...\n",
              "ลำปาง              [519055, 519318, 519236, 519339, 520175, 51818...\n",
              "ลำพูน              [469540, 470311, 470035, 469945, 470732, 46672...\n",
              "ศรีสะเกษ           [1119661, 1119597, 1119592, 1119765, 1118598, ...\n",
              "สกลนคร             [1013679, 1015055, 1076747, 1069000, 1069343, ...\n",
              "สงขลา              [660331, 660113, 658276, 658332, 658229, 66171...\n",
              "สระบุรี            [717143, 721083, 717120, 720493, 720804, 72046...\n",
              "สระแก้ว            [824510, 820805, 815463, 823008, 818283, 81947...\n",
              "สุพรรณบุรี         [606202, 606034, 606135, 605967, 625457, 62567...\n",
              "สุโขทัย            [548423, 546391, 552846, 540530, 551841, 55295...\n",
              "หนองคาย            [872342, 874588, 874518, 873910, 875897, 87586...\n",
              "หนองบัวลำภู        [845119, 844197, 851903, 848046, 845649, 84767...\n",
              "อำนาจเจริญ         [1108696, 1101395, 1083768, 1109041, 1108028, ...\n",
              "อุดรธานี           [865085, 869633, 866474, 866563, 868554, 86907...\n",
              "อุทัยธานี          [579495, 599406, 583004, 583036, 584610, 58791...\n",
              "อุบลราชธานี        [1145767, 1129279, 1128239, 1150540, 1141908, ...\n",
              "เชียงราย           [623109, 623111, 624386, 622620, 622266, 61898...\n",
              "เชียงใหม่          [487927, 498333, 496928, 496721, 495460, 49615...\n",
              "เพชรบุรี           [577024, 586713, 585160, 583800, 585169, 58506...\n",
              "เพชรบูรณ์          [683437, 684148, 684247, 682635, 681634, 68338...\n",
              "เลย                [795212, 793422, 791834, 794884, 794037, 79491...\n",
              "แพร่               [638140, 637008, 639302, 637010, 637629, 63771...\n",
              "Name: พิกัด (X) E, dtype: object"
            ]
          },
          "metadata": {
            "tags": []
          },
          "execution_count": 144
        }
      ]
    },
    {
      "cell_type": "code",
      "metadata": {
        "id": "T8XNJb4RO8zW",
        "colab": {
          "base_uri": "https://localhost:8080/"
        },
        "outputId": "5445693a-0f90-402c-8a62-b66ae5e5907b"
      },
      "source": [
        "len(water_province)"
      ],
      "execution_count": 145,
      "outputs": [
        {
          "output_type": "execute_result",
          "data": {
            "text/plain": [
              "55"
            ]
          },
          "metadata": {
            "tags": []
          },
          "execution_count": 145
        }
      ]
    },
    {
      "cell_type": "code",
      "metadata": {
        "id": "ojsajKIKsvw_"
      },
      "source": [
        ""
      ],
      "execution_count": 145,
      "outputs": []
    },
    {
      "cell_type": "markdown",
      "metadata": {
        "id": "GK1I_o4eKZ-7"
      },
      "source": [
        "#ตารางข้าวนาปี"
      ]
    },
    {
      "cell_type": "code",
      "metadata": {
        "id": "_Zh47286mtS_"
      },
      "source": [
        "pee = os.path.join(path,'pee.xlsx')\n",
        "pee_1 = pd.read_excel(pee)\n",
        "prang = os.path.join(path,'prang.xlsx')\n",
        "prang_1 = pd.read_excel(prang)"
      ],
      "execution_count": 146,
      "outputs": []
    },
    {
      "cell_type": "code",
      "metadata": {
        "id": "-Id15bPom-gB",
        "colab": {
          "base_uri": "https://localhost:8080/",
          "height": 402
        },
        "outputId": "a5d63ef7-9be4-4d85-9553-d8cac058fb08"
      },
      "source": [
        "pee_1"
      ],
      "execution_count": 147,
      "outputs": [
        {
          "output_type": "execute_result",
          "data": {
            "text/html": [
              "<div>\n",
              "<style scoped>\n",
              "    .dataframe tbody tr th:only-of-type {\n",
              "        vertical-align: middle;\n",
              "    }\n",
              "\n",
              "    .dataframe tbody tr th {\n",
              "        vertical-align: top;\n",
              "    }\n",
              "\n",
              "    .dataframe thead th {\n",
              "        text-align: right;\n",
              "    }\n",
              "</style>\n",
              "<table border=\"1\" class=\"dataframe\">\n",
              "  <thead>\n",
              "    <tr style=\"text-align: right;\">\n",
              "      <th></th>\n",
              "      <th>สำนักงานเศรษฐกิจการเกษตร | สินค้าเกษตรข้าวนาปี</th>\n",
              "      <th>Unnamed: 1</th>\n",
              "      <th>Unnamed: 2</th>\n",
              "      <th>Unnamed: 3</th>\n",
              "      <th>Unnamed: 4</th>\n",
              "    </tr>\n",
              "  </thead>\n",
              "  <tbody>\n",
              "    <tr>\n",
              "      <th>0</th>\n",
              "      <td>ผลผลิตข้าวนาปีแยกตามจังหวัด ปี 2562</td>\n",
              "      <td>NaN</td>\n",
              "      <td>NaN</td>\n",
              "      <td>NaN</td>\n",
              "      <td>NaN</td>\n",
              "    </tr>\n",
              "    <tr>\n",
              "      <th>1</th>\n",
              "      <td>จังหวัด</td>\n",
              "      <td>ผลผลิต(ตัน)</td>\n",
              "      <td>สัดส่วน</td>\n",
              "      <td>เนื้อที่เก็บเกี่ยว(ไร่)</td>\n",
              "      <td>ผลผลิตต่อเนื้อที่เก็บเกี่ยว(กก.)</td>\n",
              "    </tr>\n",
              "    <tr>\n",
              "      <th>2</th>\n",
              "      <td>อุบลราชธานี</td>\n",
              "      <td>1406996</td>\n",
              "      <td>0.0545</td>\n",
              "      <td>3879360</td>\n",
              "      <td>362.69</td>\n",
              "    </tr>\n",
              "    <tr>\n",
              "      <th>3</th>\n",
              "      <td>นครสวรรค์</td>\n",
              "      <td>1359065</td>\n",
              "      <td>0.0527</td>\n",
              "      <td>2273197</td>\n",
              "      <td>597.87</td>\n",
              "    </tr>\n",
              "    <tr>\n",
              "      <th>4</th>\n",
              "      <td>นครราชสีมา</td>\n",
              "      <td>1101661</td>\n",
              "      <td>0.0427</td>\n",
              "      <td>3035540</td>\n",
              "      <td>362.92</td>\n",
              "    </tr>\n",
              "    <tr>\n",
              "      <th>...</th>\n",
              "      <td>...</td>\n",
              "      <td>...</td>\n",
              "      <td>...</td>\n",
              "      <td>...</td>\n",
              "      <td>...</td>\n",
              "    </tr>\n",
              "    <tr>\n",
              "      <th>74</th>\n",
              "      <td>ชุมพร</td>\n",
              "      <td>1499</td>\n",
              "      <td>0.0001</td>\n",
              "      <td>3374</td>\n",
              "      <td>444.28</td>\n",
              "    </tr>\n",
              "    <tr>\n",
              "      <th>75</th>\n",
              "      <td>สมุทรสงคราม</td>\n",
              "      <td>1493</td>\n",
              "      <td>0.0001</td>\n",
              "      <td>2094</td>\n",
              "      <td>712.99</td>\n",
              "    </tr>\n",
              "    <tr>\n",
              "      <th>76</th>\n",
              "      <td>พังงา</td>\n",
              "      <td>964</td>\n",
              "      <td>0</td>\n",
              "      <td>2976</td>\n",
              "      <td>323.92</td>\n",
              "    </tr>\n",
              "    <tr>\n",
              "      <th>77</th>\n",
              "      <td>ระนอง</td>\n",
              "      <td>259</td>\n",
              "      <td>0</td>\n",
              "      <td>750</td>\n",
              "      <td>345.33</td>\n",
              "    </tr>\n",
              "    <tr>\n",
              "      <th>78</th>\n",
              "      <td>ภูเก็ต</td>\n",
              "      <td>32</td>\n",
              "      <td>0</td>\n",
              "      <td>62</td>\n",
              "      <td>516.13</td>\n",
              "    </tr>\n",
              "  </tbody>\n",
              "</table>\n",
              "<p>79 rows × 5 columns</p>\n",
              "</div>"
            ],
            "text/plain": [
              "   สำนักงานเศรษฐกิจการเกษตร | สินค้าเกษตรข้าวนาปี  ...                        Unnamed: 4\n",
              "0             ผลผลิตข้าวนาปีแยกตามจังหวัด ปี 2562  ...                               NaN\n",
              "1                                         จังหวัด  ...  ผลผลิตต่อเนื้อที่เก็บเกี่ยว(กก.)\n",
              "2                                     อุบลราชธานี  ...                            362.69\n",
              "3                                       นครสวรรค์  ...                            597.87\n",
              "4                                      นครราชสีมา  ...                            362.92\n",
              "..                                            ...  ...                               ...\n",
              "74                                          ชุมพร  ...                            444.28\n",
              "75                                    สมุทรสงคราม  ...                            712.99\n",
              "76                                          พังงา  ...                            323.92\n",
              "77                                          ระนอง  ...                            345.33\n",
              "78                                         ภูเก็ต  ...                            516.13\n",
              "\n",
              "[79 rows x 5 columns]"
            ]
          },
          "metadata": {
            "tags": []
          },
          "execution_count": 147
        }
      ]
    },
    {
      "cell_type": "code",
      "metadata": {
        "id": "eyPdIK_PQhsy",
        "colab": {
          "base_uri": "https://localhost:8080/"
        },
        "outputId": "865c21be-c0da-4228-a77d-55e92d330a22"
      },
      "source": [
        "pee_1.index"
      ],
      "execution_count": 148,
      "outputs": [
        {
          "output_type": "execute_result",
          "data": {
            "text/plain": [
              "RangeIndex(start=0, stop=79, step=1)"
            ]
          },
          "metadata": {
            "tags": []
          },
          "execution_count": 148
        }
      ]
    },
    {
      "cell_type": "code",
      "metadata": {
        "id": "uN_0ZyYADFt9"
      },
      "source": [
        "#ตัด 2 แถวแรกออก\n",
        "pee_2 = pee_1.iloc[2:,:]"
      ],
      "execution_count": 149,
      "outputs": []
    },
    {
      "cell_type": "code",
      "metadata": {
        "id": "NO2fyxoHEIQp",
        "colab": {
          "base_uri": "https://localhost:8080/",
          "height": 402
        },
        "outputId": "7bd2c2c7-944f-4a3f-c918-53b8bfce95aa"
      },
      "source": [
        "pee_2"
      ],
      "execution_count": 150,
      "outputs": [
        {
          "output_type": "execute_result",
          "data": {
            "text/html": [
              "<div>\n",
              "<style scoped>\n",
              "    .dataframe tbody tr th:only-of-type {\n",
              "        vertical-align: middle;\n",
              "    }\n",
              "\n",
              "    .dataframe tbody tr th {\n",
              "        vertical-align: top;\n",
              "    }\n",
              "\n",
              "    .dataframe thead th {\n",
              "        text-align: right;\n",
              "    }\n",
              "</style>\n",
              "<table border=\"1\" class=\"dataframe\">\n",
              "  <thead>\n",
              "    <tr style=\"text-align: right;\">\n",
              "      <th></th>\n",
              "      <th>สำนักงานเศรษฐกิจการเกษตร | สินค้าเกษตรข้าวนาปี</th>\n",
              "      <th>Unnamed: 1</th>\n",
              "      <th>Unnamed: 2</th>\n",
              "      <th>Unnamed: 3</th>\n",
              "      <th>Unnamed: 4</th>\n",
              "    </tr>\n",
              "  </thead>\n",
              "  <tbody>\n",
              "    <tr>\n",
              "      <th>2</th>\n",
              "      <td>อุบลราชธานี</td>\n",
              "      <td>1406996</td>\n",
              "      <td>0.0545</td>\n",
              "      <td>3879360</td>\n",
              "      <td>362.69</td>\n",
              "    </tr>\n",
              "    <tr>\n",
              "      <th>3</th>\n",
              "      <td>นครสวรรค์</td>\n",
              "      <td>1359065</td>\n",
              "      <td>0.0527</td>\n",
              "      <td>2273197</td>\n",
              "      <td>597.87</td>\n",
              "    </tr>\n",
              "    <tr>\n",
              "      <th>4</th>\n",
              "      <td>นครราชสีมา</td>\n",
              "      <td>1101661</td>\n",
              "      <td>0.0427</td>\n",
              "      <td>3035540</td>\n",
              "      <td>362.92</td>\n",
              "    </tr>\n",
              "    <tr>\n",
              "      <th>5</th>\n",
              "      <td>สุรินทร์</td>\n",
              "      <td>1070221</td>\n",
              "      <td>0.0415</td>\n",
              "      <td>2862831</td>\n",
              "      <td>373.83</td>\n",
              "    </tr>\n",
              "    <tr>\n",
              "      <th>6</th>\n",
              "      <td>ร้อยเอ็ด</td>\n",
              "      <td>1058807</td>\n",
              "      <td>0.041</td>\n",
              "      <td>2882337</td>\n",
              "      <td>367.34</td>\n",
              "    </tr>\n",
              "    <tr>\n",
              "      <th>...</th>\n",
              "      <td>...</td>\n",
              "      <td>...</td>\n",
              "      <td>...</td>\n",
              "      <td>...</td>\n",
              "      <td>...</td>\n",
              "    </tr>\n",
              "    <tr>\n",
              "      <th>74</th>\n",
              "      <td>ชุมพร</td>\n",
              "      <td>1499</td>\n",
              "      <td>0.0001</td>\n",
              "      <td>3374</td>\n",
              "      <td>444.28</td>\n",
              "    </tr>\n",
              "    <tr>\n",
              "      <th>75</th>\n",
              "      <td>สมุทรสงคราม</td>\n",
              "      <td>1493</td>\n",
              "      <td>0.0001</td>\n",
              "      <td>2094</td>\n",
              "      <td>712.99</td>\n",
              "    </tr>\n",
              "    <tr>\n",
              "      <th>76</th>\n",
              "      <td>พังงา</td>\n",
              "      <td>964</td>\n",
              "      <td>0</td>\n",
              "      <td>2976</td>\n",
              "      <td>323.92</td>\n",
              "    </tr>\n",
              "    <tr>\n",
              "      <th>77</th>\n",
              "      <td>ระนอง</td>\n",
              "      <td>259</td>\n",
              "      <td>0</td>\n",
              "      <td>750</td>\n",
              "      <td>345.33</td>\n",
              "    </tr>\n",
              "    <tr>\n",
              "      <th>78</th>\n",
              "      <td>ภูเก็ต</td>\n",
              "      <td>32</td>\n",
              "      <td>0</td>\n",
              "      <td>62</td>\n",
              "      <td>516.13</td>\n",
              "    </tr>\n",
              "  </tbody>\n",
              "</table>\n",
              "<p>77 rows × 5 columns</p>\n",
              "</div>"
            ],
            "text/plain": [
              "   สำนักงานเศรษฐกิจการเกษตร | สินค้าเกษตรข้าวนาปี  ... Unnamed: 4\n",
              "2                                     อุบลราชธานี  ...     362.69\n",
              "3                                       นครสวรรค์  ...     597.87\n",
              "4                                      นครราชสีมา  ...     362.92\n",
              "5                                        สุรินทร์  ...     373.83\n",
              "6                                        ร้อยเอ็ด  ...     367.34\n",
              "..                                            ...  ...        ...\n",
              "74                                          ชุมพร  ...     444.28\n",
              "75                                    สมุทรสงคราม  ...     712.99\n",
              "76                                          พังงา  ...     323.92\n",
              "77                                          ระนอง  ...     345.33\n",
              "78                                         ภูเก็ต  ...     516.13\n",
              "\n",
              "[77 rows x 5 columns]"
            ]
          },
          "metadata": {
            "tags": []
          },
          "execution_count": 150
        }
      ]
    },
    {
      "cell_type": "code",
      "metadata": {
        "id": "0Bvv1_gwEPqe",
        "colab": {
          "base_uri": "https://localhost:8080/"
        },
        "outputId": "48409a5f-91e1-499e-c52e-88fba40fc84e"
      },
      "source": [
        "pee_2.index"
      ],
      "execution_count": 151,
      "outputs": [
        {
          "output_type": "execute_result",
          "data": {
            "text/plain": [
              "RangeIndex(start=2, stop=79, step=1)"
            ]
          },
          "metadata": {
            "tags": []
          },
          "execution_count": 151
        }
      ]
    },
    {
      "cell_type": "code",
      "metadata": {
        "id": "If40oUzhFcOq",
        "colab": {
          "base_uri": "https://localhost:8080/",
          "height": 486
        },
        "outputId": "e8275065-272a-4888-8af9-5c9ae378afe0"
      },
      "source": [
        "pee_2.rename(columns={'สำนักงานเศรษฐกิจการเกษตร | สินค้าเกษตรข้าวนาปี':'จังหวัด','Unnamed: 1':'ผลผลิต(ตัน)','Unnamed: 2':'สัดส่วน','Unnamed: 3':'เนื้อที่เก็บเกี่ยว','Unnamed: 4':'ผลผลิตต่อเนื้อที่เก็บเกี่ยว(กก)'}, inplace=True)\n",
        "pee_2"
      ],
      "execution_count": 152,
      "outputs": [
        {
          "output_type": "stream",
          "text": [
            "/usr/local/lib/python3.6/dist-packages/pandas/core/frame.py:4308: SettingWithCopyWarning: \n",
            "A value is trying to be set on a copy of a slice from a DataFrame\n",
            "\n",
            "See the caveats in the documentation: https://pandas.pydata.org/pandas-docs/stable/user_guide/indexing.html#returning-a-view-versus-a-copy\n",
            "  errors=errors,\n"
          ],
          "name": "stderr"
        },
        {
          "output_type": "execute_result",
          "data": {
            "text/html": [
              "<div>\n",
              "<style scoped>\n",
              "    .dataframe tbody tr th:only-of-type {\n",
              "        vertical-align: middle;\n",
              "    }\n",
              "\n",
              "    .dataframe tbody tr th {\n",
              "        vertical-align: top;\n",
              "    }\n",
              "\n",
              "    .dataframe thead th {\n",
              "        text-align: right;\n",
              "    }\n",
              "</style>\n",
              "<table border=\"1\" class=\"dataframe\">\n",
              "  <thead>\n",
              "    <tr style=\"text-align: right;\">\n",
              "      <th></th>\n",
              "      <th>จังหวัด</th>\n",
              "      <th>ผลผลิต(ตัน)</th>\n",
              "      <th>สัดส่วน</th>\n",
              "      <th>เนื้อที่เก็บเกี่ยว</th>\n",
              "      <th>ผลผลิตต่อเนื้อที่เก็บเกี่ยว(กก)</th>\n",
              "    </tr>\n",
              "  </thead>\n",
              "  <tbody>\n",
              "    <tr>\n",
              "      <th>2</th>\n",
              "      <td>อุบลราชธานี</td>\n",
              "      <td>1406996</td>\n",
              "      <td>0.0545</td>\n",
              "      <td>3879360</td>\n",
              "      <td>362.69</td>\n",
              "    </tr>\n",
              "    <tr>\n",
              "      <th>3</th>\n",
              "      <td>นครสวรรค์</td>\n",
              "      <td>1359065</td>\n",
              "      <td>0.0527</td>\n",
              "      <td>2273197</td>\n",
              "      <td>597.87</td>\n",
              "    </tr>\n",
              "    <tr>\n",
              "      <th>4</th>\n",
              "      <td>นครราชสีมา</td>\n",
              "      <td>1101661</td>\n",
              "      <td>0.0427</td>\n",
              "      <td>3035540</td>\n",
              "      <td>362.92</td>\n",
              "    </tr>\n",
              "    <tr>\n",
              "      <th>5</th>\n",
              "      <td>สุรินทร์</td>\n",
              "      <td>1070221</td>\n",
              "      <td>0.0415</td>\n",
              "      <td>2862831</td>\n",
              "      <td>373.83</td>\n",
              "    </tr>\n",
              "    <tr>\n",
              "      <th>6</th>\n",
              "      <td>ร้อยเอ็ด</td>\n",
              "      <td>1058807</td>\n",
              "      <td>0.041</td>\n",
              "      <td>2882337</td>\n",
              "      <td>367.34</td>\n",
              "    </tr>\n",
              "    <tr>\n",
              "      <th>...</th>\n",
              "      <td>...</td>\n",
              "      <td>...</td>\n",
              "      <td>...</td>\n",
              "      <td>...</td>\n",
              "      <td>...</td>\n",
              "    </tr>\n",
              "    <tr>\n",
              "      <th>74</th>\n",
              "      <td>ชุมพร</td>\n",
              "      <td>1499</td>\n",
              "      <td>0.0001</td>\n",
              "      <td>3374</td>\n",
              "      <td>444.28</td>\n",
              "    </tr>\n",
              "    <tr>\n",
              "      <th>75</th>\n",
              "      <td>สมุทรสงคราม</td>\n",
              "      <td>1493</td>\n",
              "      <td>0.0001</td>\n",
              "      <td>2094</td>\n",
              "      <td>712.99</td>\n",
              "    </tr>\n",
              "    <tr>\n",
              "      <th>76</th>\n",
              "      <td>พังงา</td>\n",
              "      <td>964</td>\n",
              "      <td>0</td>\n",
              "      <td>2976</td>\n",
              "      <td>323.92</td>\n",
              "    </tr>\n",
              "    <tr>\n",
              "      <th>77</th>\n",
              "      <td>ระนอง</td>\n",
              "      <td>259</td>\n",
              "      <td>0</td>\n",
              "      <td>750</td>\n",
              "      <td>345.33</td>\n",
              "    </tr>\n",
              "    <tr>\n",
              "      <th>78</th>\n",
              "      <td>ภูเก็ต</td>\n",
              "      <td>32</td>\n",
              "      <td>0</td>\n",
              "      <td>62</td>\n",
              "      <td>516.13</td>\n",
              "    </tr>\n",
              "  </tbody>\n",
              "</table>\n",
              "<p>77 rows × 5 columns</p>\n",
              "</div>"
            ],
            "text/plain": [
              "        จังหวัด ผลผลิต(ตัน)  ... เนื้อที่เก็บเกี่ยว ผลผลิตต่อเนื้อที่เก็บเกี่ยว(กก)\n",
              "2   อุบลราชธานี     1406996  ...            3879360                          362.69\n",
              "3     นครสวรรค์     1359065  ...            2273197                          597.87\n",
              "4    นครราชสีมา     1101661  ...            3035540                          362.92\n",
              "5      สุรินทร์     1070221  ...            2862831                          373.83\n",
              "6      ร้อยเอ็ด     1058807  ...            2882337                          367.34\n",
              "..          ...         ...  ...                ...                             ...\n",
              "74        ชุมพร        1499  ...               3374                          444.28\n",
              "75  สมุทรสงคราม        1493  ...               2094                          712.99\n",
              "76        พังงา         964  ...               2976                          323.92\n",
              "77        ระนอง         259  ...                750                          345.33\n",
              "78       ภูเก็ต          32  ...                 62                          516.13\n",
              "\n",
              "[77 rows x 5 columns]"
            ]
          },
          "metadata": {
            "tags": []
          },
          "execution_count": 152
        }
      ]
    },
    {
      "cell_type": "code",
      "metadata": {
        "id": "y-kj7SJoFWX7",
        "colab": {
          "base_uri": "https://localhost:8080/",
          "height": 402
        },
        "outputId": "30c0ae4e-60f3-4a54-c930-456dba3f02eb"
      },
      "source": [
        "pee_2"
      ],
      "execution_count": 153,
      "outputs": [
        {
          "output_type": "execute_result",
          "data": {
            "text/html": [
              "<div>\n",
              "<style scoped>\n",
              "    .dataframe tbody tr th:only-of-type {\n",
              "        vertical-align: middle;\n",
              "    }\n",
              "\n",
              "    .dataframe tbody tr th {\n",
              "        vertical-align: top;\n",
              "    }\n",
              "\n",
              "    .dataframe thead th {\n",
              "        text-align: right;\n",
              "    }\n",
              "</style>\n",
              "<table border=\"1\" class=\"dataframe\">\n",
              "  <thead>\n",
              "    <tr style=\"text-align: right;\">\n",
              "      <th></th>\n",
              "      <th>จังหวัด</th>\n",
              "      <th>ผลผลิต(ตัน)</th>\n",
              "      <th>สัดส่วน</th>\n",
              "      <th>เนื้อที่เก็บเกี่ยว</th>\n",
              "      <th>ผลผลิตต่อเนื้อที่เก็บเกี่ยว(กก)</th>\n",
              "    </tr>\n",
              "  </thead>\n",
              "  <tbody>\n",
              "    <tr>\n",
              "      <th>2</th>\n",
              "      <td>อุบลราชธานี</td>\n",
              "      <td>1406996</td>\n",
              "      <td>0.0545</td>\n",
              "      <td>3879360</td>\n",
              "      <td>362.69</td>\n",
              "    </tr>\n",
              "    <tr>\n",
              "      <th>3</th>\n",
              "      <td>นครสวรรค์</td>\n",
              "      <td>1359065</td>\n",
              "      <td>0.0527</td>\n",
              "      <td>2273197</td>\n",
              "      <td>597.87</td>\n",
              "    </tr>\n",
              "    <tr>\n",
              "      <th>4</th>\n",
              "      <td>นครราชสีมา</td>\n",
              "      <td>1101661</td>\n",
              "      <td>0.0427</td>\n",
              "      <td>3035540</td>\n",
              "      <td>362.92</td>\n",
              "    </tr>\n",
              "    <tr>\n",
              "      <th>5</th>\n",
              "      <td>สุรินทร์</td>\n",
              "      <td>1070221</td>\n",
              "      <td>0.0415</td>\n",
              "      <td>2862831</td>\n",
              "      <td>373.83</td>\n",
              "    </tr>\n",
              "    <tr>\n",
              "      <th>6</th>\n",
              "      <td>ร้อยเอ็ด</td>\n",
              "      <td>1058807</td>\n",
              "      <td>0.041</td>\n",
              "      <td>2882337</td>\n",
              "      <td>367.34</td>\n",
              "    </tr>\n",
              "    <tr>\n",
              "      <th>...</th>\n",
              "      <td>...</td>\n",
              "      <td>...</td>\n",
              "      <td>...</td>\n",
              "      <td>...</td>\n",
              "      <td>...</td>\n",
              "    </tr>\n",
              "    <tr>\n",
              "      <th>74</th>\n",
              "      <td>ชุมพร</td>\n",
              "      <td>1499</td>\n",
              "      <td>0.0001</td>\n",
              "      <td>3374</td>\n",
              "      <td>444.28</td>\n",
              "    </tr>\n",
              "    <tr>\n",
              "      <th>75</th>\n",
              "      <td>สมุทรสงคราม</td>\n",
              "      <td>1493</td>\n",
              "      <td>0.0001</td>\n",
              "      <td>2094</td>\n",
              "      <td>712.99</td>\n",
              "    </tr>\n",
              "    <tr>\n",
              "      <th>76</th>\n",
              "      <td>พังงา</td>\n",
              "      <td>964</td>\n",
              "      <td>0</td>\n",
              "      <td>2976</td>\n",
              "      <td>323.92</td>\n",
              "    </tr>\n",
              "    <tr>\n",
              "      <th>77</th>\n",
              "      <td>ระนอง</td>\n",
              "      <td>259</td>\n",
              "      <td>0</td>\n",
              "      <td>750</td>\n",
              "      <td>345.33</td>\n",
              "    </tr>\n",
              "    <tr>\n",
              "      <th>78</th>\n",
              "      <td>ภูเก็ต</td>\n",
              "      <td>32</td>\n",
              "      <td>0</td>\n",
              "      <td>62</td>\n",
              "      <td>516.13</td>\n",
              "    </tr>\n",
              "  </tbody>\n",
              "</table>\n",
              "<p>77 rows × 5 columns</p>\n",
              "</div>"
            ],
            "text/plain": [
              "        จังหวัด ผลผลิต(ตัน)  ... เนื้อที่เก็บเกี่ยว ผลผลิตต่อเนื้อที่เก็บเกี่ยว(กก)\n",
              "2   อุบลราชธานี     1406996  ...            3879360                          362.69\n",
              "3     นครสวรรค์     1359065  ...            2273197                          597.87\n",
              "4    นครราชสีมา     1101661  ...            3035540                          362.92\n",
              "5      สุรินทร์     1070221  ...            2862831                          373.83\n",
              "6      ร้อยเอ็ด     1058807  ...            2882337                          367.34\n",
              "..          ...         ...  ...                ...                             ...\n",
              "74        ชุมพร        1499  ...               3374                          444.28\n",
              "75  สมุทรสงคราม        1493  ...               2094                          712.99\n",
              "76        พังงา         964  ...               2976                          323.92\n",
              "77        ระนอง         259  ...                750                          345.33\n",
              "78       ภูเก็ต          32  ...                 62                          516.13\n",
              "\n",
              "[77 rows x 5 columns]"
            ]
          },
          "metadata": {
            "tags": []
          },
          "execution_count": 153
        }
      ]
    },
    {
      "cell_type": "code",
      "metadata": {
        "id": "-7_oTOZkGAo8",
        "colab": {
          "base_uri": "https://localhost:8080/",
          "height": 399
        },
        "outputId": "e8ff96c8-dd3b-4a96-d5d0-d9323715f3f1"
      },
      "source": [
        "ret_pee_2 = plt.boxplot(pee_2['ผลผลิตต่อเนื้อที่เก็บเกี่ยว(กก)'],vert=False)\n",
        "ret_pee_2"
      ],
      "execution_count": 154,
      "outputs": [
        {
          "output_type": "execute_result",
          "data": {
            "text/plain": [
              "{'boxes': [<matplotlib.lines.Line2D at 0x7fbb73e47780>],\n",
              " 'caps': [<matplotlib.lines.Line2D at 0x7fbb73e70198>,\n",
              "  <matplotlib.lines.Line2D at 0x7fbb73e70550>],\n",
              " 'fliers': [<matplotlib.lines.Line2D at 0x7fbb73e70c50>],\n",
              " 'means': [],\n",
              " 'medians': [<matplotlib.lines.Line2D at 0x7fbb73e708d0>],\n",
              " 'whiskers': [<matplotlib.lines.Line2D at 0x7fbb73e47a90>,\n",
              "  <matplotlib.lines.Line2D at 0x7fbb73e47e10>]}"
            ]
          },
          "metadata": {
            "tags": []
          },
          "execution_count": 154
        },
        {
          "output_type": "display_data",
          "data": {
            "image/png": "[encoded data removed]",
            "text/plain": [
              "<Figure size 432x288 with 1 Axes>"
            ]
          },
          "metadata": {
            "tags": [],
            "needs_background": "light"
          }
        }
      ]
    },
    {
      "cell_type": "code",
      "metadata": {
        "id": "Zp61nBCUGXOK",
        "colab": {
          "base_uri": "https://localhost:8080/"
        },
        "outputId": "1fac840e-a125-49a8-fb57-c0c7083a4f84"
      },
      "source": [
        "ret_pee_2['whiskers'][0].get_xdata()"
      ],
      "execution_count": 155,
      "outputs": [
        {
          "output_type": "execute_result",
          "data": {
            "text/plain": [
              "array([370.48, 323.92])"
            ]
          },
          "metadata": {
            "tags": []
          },
          "execution_count": 155
        }
      ]
    },
    {
      "cell_type": "code",
      "metadata": {
        "id": "2ZF8fG_hGefi",
        "colab": {
          "base_uri": "https://localhost:8080/"
        },
        "outputId": "796f6a45-f75d-411c-b645-b78a63ae9543"
      },
      "source": [
        "ret_pee_2['whiskers'][1].get_xdata()"
      ],
      "execution_count": 156,
      "outputs": [
        {
          "output_type": "execute_result",
          "data": {
            "text/plain": [
              "array([622.42, 773.27])"
            ]
          },
          "metadata": {
            "tags": []
          },
          "execution_count": 156
        }
      ]
    },
    {
      "cell_type": "code",
      "metadata": {
        "id": "XeDcGnyxGiQS",
        "colab": {
          "base_uri": "https://localhost:8080/"
        },
        "outputId": "3e49bc69-c412-4121-fb50-ba2f4fa4d242"
      },
      "source": [
        "pee_2.min()"
      ],
      "execution_count": 157,
      "outputs": [
        {
          "output_type": "execute_result",
          "data": {
            "text/plain": [
              "จังหวัด                            กระบี่\n",
              "ผลผลิต(ตัน)                            32\n",
              "สัดส่วน                                 0\n",
              "เนื้อที่เก็บเกี่ยว                     62\n",
              "ผลผลิตต่อเนื้อที่เก็บเกี่ยว(กก)    323.92\n",
              "dtype: object"
            ]
          },
          "metadata": {
            "tags": []
          },
          "execution_count": 157
        }
      ]
    },
    {
      "cell_type": "code",
      "metadata": {
        "id": "71k0r72cG77g",
        "colab": {
          "base_uri": "https://localhost:8080/"
        },
        "outputId": "262ccf20-e535-4127-d206-9f48891e45d5"
      },
      "source": [
        "pee_2.max()"
      ],
      "execution_count": 158,
      "outputs": [
        {
          "output_type": "execute_result",
          "data": {
            "text/plain": [
              "จังหวัด                            แม่ฮ่องสอน\n",
              "ผลผลิต(ตัน)                           1406996\n",
              "สัดส่วน                                0.0545\n",
              "เนื้อที่เก็บเกี่ยว                    3879360\n",
              "ผลผลิตต่อเนื้อที่เก็บเกี่ยว(กก)        773.27\n",
              "dtype: object"
            ]
          },
          "metadata": {
            "tags": []
          },
          "execution_count": 158
        }
      ]
    },
    {
      "cell_type": "code",
      "metadata": {
        "id": "ms0z68hXJeK9",
        "colab": {
          "base_uri": "https://localhost:8080/"
        },
        "outputId": "00418712-38f3-4fed-b8a5-22f469906c50"
      },
      "source": [
        "pee_2.columns"
      ],
      "execution_count": 159,
      "outputs": [
        {
          "output_type": "execute_result",
          "data": {
            "text/plain": [
              "Index(['จังหวัด', 'ผลผลิต(ตัน)', 'สัดส่วน', 'เนื้อที่เก็บเกี่ยว',\n",
              "       'ผลผลิตต่อเนื้อที่เก็บเกี่ยว(กก)'],\n",
              "      dtype='object')"
            ]
          },
          "metadata": {
            "tags": []
          },
          "execution_count": 159
        }
      ]
    },
    {
      "cell_type": "code",
      "metadata": {
        "id": "hLQi8p0eJyib",
        "colab": {
          "base_uri": "https://localhost:8080/"
        },
        "outputId": "d99c5956-b0a8-4a4a-ed60-dcf878e36e7e"
      },
      "source": [
        "pee_2['ผลผลิตต่อเนื้อที่เก็บเกี่ยว(กก)'].median()"
      ],
      "execution_count": 160,
      "outputs": [
        {
          "output_type": "execute_result",
          "data": {
            "text/plain": [
              "482.46"
            ]
          },
          "metadata": {
            "tags": []
          },
          "execution_count": 160
        }
      ]
    },
    {
      "cell_type": "markdown",
      "metadata": {
        "id": "Pcxk6frPKUyn"
      },
      "source": [
        "#กลุ่มข้าวนาปี\n",
        "* M = 323.92 - 370.48\n",
        "* N = 370.48 - 482.46\n",
        "* O = 482.46 - 622.42\n",
        "* P = 622.42 - 773.27"
      ]
    },
    {
      "cell_type": "markdown",
      "metadata": {
        "id": "JG6P9n8WWqnH"
      },
      "source": [
        "#เตรียมตารางข้าวนาปี"
      ]
    },
    {
      "cell_type": "code",
      "metadata": {
        "id": "3EYjBhmOWvNG",
        "colab": {
          "base_uri": "https://localhost:8080/",
          "height": 402
        },
        "outputId": "591b33b2-6e7b-496c-c865-09a03d88f4c4"
      },
      "source": [
        "pee_2"
      ],
      "execution_count": 161,
      "outputs": [
        {
          "output_type": "execute_result",
          "data": {
            "text/html": [
              "<div>\n",
              "<style scoped>\n",
              "    .dataframe tbody tr th:only-of-type {\n",
              "        vertical-align: middle;\n",
              "    }\n",
              "\n",
              "    .dataframe tbody tr th {\n",
              "        vertical-align: top;\n",
              "    }\n",
              "\n",
              "    .dataframe thead th {\n",
              "        text-align: right;\n",
              "    }\n",
              "</style>\n",
              "<table border=\"1\" class=\"dataframe\">\n",
              "  <thead>\n",
              "    <tr style=\"text-align: right;\">\n",
              "      <th></th>\n",
              "      <th>จังหวัด</th>\n",
              "      <th>ผลผลิต(ตัน)</th>\n",
              "      <th>สัดส่วน</th>\n",
              "      <th>เนื้อที่เก็บเกี่ยว</th>\n",
              "      <th>ผลผลิตต่อเนื้อที่เก็บเกี่ยว(กก)</th>\n",
              "    </tr>\n",
              "  </thead>\n",
              "  <tbody>\n",
              "    <tr>\n",
              "      <th>2</th>\n",
              "      <td>อุบลราชธานี</td>\n",
              "      <td>1406996</td>\n",
              "      <td>0.0545</td>\n",
              "      <td>3879360</td>\n",
              "      <td>362.69</td>\n",
              "    </tr>\n",
              "    <tr>\n",
              "      <th>3</th>\n",
              "      <td>นครสวรรค์</td>\n",
              "      <td>1359065</td>\n",
              "      <td>0.0527</td>\n",
              "      <td>2273197</td>\n",
              "      <td>597.87</td>\n",
              "    </tr>\n",
              "    <tr>\n",
              "      <th>4</th>\n",
              "      <td>นครราชสีมา</td>\n",
              "      <td>1101661</td>\n",
              "      <td>0.0427</td>\n",
              "      <td>3035540</td>\n",
              "      <td>362.92</td>\n",
              "    </tr>\n",
              "    <tr>\n",
              "      <th>5</th>\n",
              "      <td>สุรินทร์</td>\n",
              "      <td>1070221</td>\n",
              "      <td>0.0415</td>\n",
              "      <td>2862831</td>\n",
              "      <td>373.83</td>\n",
              "    </tr>\n",
              "    <tr>\n",
              "      <th>6</th>\n",
              "      <td>ร้อยเอ็ด</td>\n",
              "      <td>1058807</td>\n",
              "      <td>0.041</td>\n",
              "      <td>2882337</td>\n",
              "      <td>367.34</td>\n",
              "    </tr>\n",
              "    <tr>\n",
              "      <th>...</th>\n",
              "      <td>...</td>\n",
              "      <td>...</td>\n",
              "      <td>...</td>\n",
              "      <td>...</td>\n",
              "      <td>...</td>\n",
              "    </tr>\n",
              "    <tr>\n",
              "      <th>74</th>\n",
              "      <td>ชุมพร</td>\n",
              "      <td>1499</td>\n",
              "      <td>0.0001</td>\n",
              "      <td>3374</td>\n",
              "      <td>444.28</td>\n",
              "    </tr>\n",
              "    <tr>\n",
              "      <th>75</th>\n",
              "      <td>สมุทรสงคราม</td>\n",
              "      <td>1493</td>\n",
              "      <td>0.0001</td>\n",
              "      <td>2094</td>\n",
              "      <td>712.99</td>\n",
              "    </tr>\n",
              "    <tr>\n",
              "      <th>76</th>\n",
              "      <td>พังงา</td>\n",
              "      <td>964</td>\n",
              "      <td>0</td>\n",
              "      <td>2976</td>\n",
              "      <td>323.92</td>\n",
              "    </tr>\n",
              "    <tr>\n",
              "      <th>77</th>\n",
              "      <td>ระนอง</td>\n",
              "      <td>259</td>\n",
              "      <td>0</td>\n",
              "      <td>750</td>\n",
              "      <td>345.33</td>\n",
              "    </tr>\n",
              "    <tr>\n",
              "      <th>78</th>\n",
              "      <td>ภูเก็ต</td>\n",
              "      <td>32</td>\n",
              "      <td>0</td>\n",
              "      <td>62</td>\n",
              "      <td>516.13</td>\n",
              "    </tr>\n",
              "  </tbody>\n",
              "</table>\n",
              "<p>77 rows × 5 columns</p>\n",
              "</div>"
            ],
            "text/plain": [
              "        จังหวัด ผลผลิต(ตัน)  ... เนื้อที่เก็บเกี่ยว ผลผลิตต่อเนื้อที่เก็บเกี่ยว(กก)\n",
              "2   อุบลราชธานี     1406996  ...            3879360                          362.69\n",
              "3     นครสวรรค์     1359065  ...            2273197                          597.87\n",
              "4    นครราชสีมา     1101661  ...            3035540                          362.92\n",
              "5      สุรินทร์     1070221  ...            2862831                          373.83\n",
              "6      ร้อยเอ็ด     1058807  ...            2882337                          367.34\n",
              "..          ...         ...  ...                ...                             ...\n",
              "74        ชุมพร        1499  ...               3374                          444.28\n",
              "75  สมุทรสงคราม        1493  ...               2094                          712.99\n",
              "76        พังงา         964  ...               2976                          323.92\n",
              "77        ระนอง         259  ...                750                          345.33\n",
              "78       ภูเก็ต          32  ...                 62                          516.13\n",
              "\n",
              "[77 rows x 5 columns]"
            ]
          },
          "metadata": {
            "tags": []
          },
          "execution_count": 161
        }
      ]
    },
    {
      "cell_type": "code",
      "metadata": {
        "id": "BTo1oOY9W4lY"
      },
      "source": [
        "#ตัดคอมลัมน์ที่ไม่ใช้\n",
        "pee_3 = pee_2"
      ],
      "execution_count": 162,
      "outputs": []
    },
    {
      "cell_type": "code",
      "metadata": {
        "id": "w4acEdINXA0-",
        "colab": {
          "base_uri": "https://localhost:8080/"
        },
        "outputId": "1c8fb2d3-7fca-4a24-f52b-b947b3326cfc"
      },
      "source": [
        "pee_3.drop(['สัดส่วน','เนื้อที่เก็บเกี่ยว'],axis=1,inplace=True)"
      ],
      "execution_count": 163,
      "outputs": [
        {
          "output_type": "stream",
          "text": [
            "/usr/local/lib/python3.6/dist-packages/pandas/core/frame.py:4174: SettingWithCopyWarning: \n",
            "A value is trying to be set on a copy of a slice from a DataFrame\n",
            "\n",
            "See the caveats in the documentation: https://pandas.pydata.org/pandas-docs/stable/user_guide/indexing.html#returning-a-view-versus-a-copy\n",
            "  errors=errors,\n"
          ],
          "name": "stderr"
        }
      ]
    },
    {
      "cell_type": "code",
      "metadata": {
        "id": "vy_Uac4-XUlA",
        "colab": {
          "base_uri": "https://localhost:8080/",
          "height": 402
        },
        "outputId": "21fe0ad5-332e-4aed-ac03-b1d51896b5a1"
      },
      "source": [
        "pee_3"
      ],
      "execution_count": 164,
      "outputs": [
        {
          "output_type": "execute_result",
          "data": {
            "text/html": [
              "<div>\n",
              "<style scoped>\n",
              "    .dataframe tbody tr th:only-of-type {\n",
              "        vertical-align: middle;\n",
              "    }\n",
              "\n",
              "    .dataframe tbody tr th {\n",
              "        vertical-align: top;\n",
              "    }\n",
              "\n",
              "    .dataframe thead th {\n",
              "        text-align: right;\n",
              "    }\n",
              "</style>\n",
              "<table border=\"1\" class=\"dataframe\">\n",
              "  <thead>\n",
              "    <tr style=\"text-align: right;\">\n",
              "      <th></th>\n",
              "      <th>จังหวัด</th>\n",
              "      <th>ผลผลิต(ตัน)</th>\n",
              "      <th>ผลผลิตต่อเนื้อที่เก็บเกี่ยว(กก)</th>\n",
              "    </tr>\n",
              "  </thead>\n",
              "  <tbody>\n",
              "    <tr>\n",
              "      <th>2</th>\n",
              "      <td>อุบลราชธานี</td>\n",
              "      <td>1406996</td>\n",
              "      <td>362.69</td>\n",
              "    </tr>\n",
              "    <tr>\n",
              "      <th>3</th>\n",
              "      <td>นครสวรรค์</td>\n",
              "      <td>1359065</td>\n",
              "      <td>597.87</td>\n",
              "    </tr>\n",
              "    <tr>\n",
              "      <th>4</th>\n",
              "      <td>นครราชสีมา</td>\n",
              "      <td>1101661</td>\n",
              "      <td>362.92</td>\n",
              "    </tr>\n",
              "    <tr>\n",
              "      <th>5</th>\n",
              "      <td>สุรินทร์</td>\n",
              "      <td>1070221</td>\n",
              "      <td>373.83</td>\n",
              "    </tr>\n",
              "    <tr>\n",
              "      <th>6</th>\n",
              "      <td>ร้อยเอ็ด</td>\n",
              "      <td>1058807</td>\n",
              "      <td>367.34</td>\n",
              "    </tr>\n",
              "    <tr>\n",
              "      <th>...</th>\n",
              "      <td>...</td>\n",
              "      <td>...</td>\n",
              "      <td>...</td>\n",
              "    </tr>\n",
              "    <tr>\n",
              "      <th>74</th>\n",
              "      <td>ชุมพร</td>\n",
              "      <td>1499</td>\n",
              "      <td>444.28</td>\n",
              "    </tr>\n",
              "    <tr>\n",
              "      <th>75</th>\n",
              "      <td>สมุทรสงคราม</td>\n",
              "      <td>1493</td>\n",
              "      <td>712.99</td>\n",
              "    </tr>\n",
              "    <tr>\n",
              "      <th>76</th>\n",
              "      <td>พังงา</td>\n",
              "      <td>964</td>\n",
              "      <td>323.92</td>\n",
              "    </tr>\n",
              "    <tr>\n",
              "      <th>77</th>\n",
              "      <td>ระนอง</td>\n",
              "      <td>259</td>\n",
              "      <td>345.33</td>\n",
              "    </tr>\n",
              "    <tr>\n",
              "      <th>78</th>\n",
              "      <td>ภูเก็ต</td>\n",
              "      <td>32</td>\n",
              "      <td>516.13</td>\n",
              "    </tr>\n",
              "  </tbody>\n",
              "</table>\n",
              "<p>77 rows × 3 columns</p>\n",
              "</div>"
            ],
            "text/plain": [
              "        จังหวัด ผลผลิต(ตัน) ผลผลิตต่อเนื้อที่เก็บเกี่ยว(กก)\n",
              "2   อุบลราชธานี     1406996                          362.69\n",
              "3     นครสวรรค์     1359065                          597.87\n",
              "4    นครราชสีมา     1101661                          362.92\n",
              "5      สุรินทร์     1070221                          373.83\n",
              "6      ร้อยเอ็ด     1058807                          367.34\n",
              "..          ...         ...                             ...\n",
              "74        ชุมพร        1499                          444.28\n",
              "75  สมุทรสงคราม        1493                          712.99\n",
              "76        พังงา         964                          323.92\n",
              "77        ระนอง         259                          345.33\n",
              "78       ภูเก็ต          32                          516.13\n",
              "\n",
              "[77 rows x 3 columns]"
            ]
          },
          "metadata": {
            "tags": []
          },
          "execution_count": 164
        }
      ]
    },
    {
      "cell_type": "code",
      "metadata": {
        "id": "OQ5I_fniJql4",
        "colab": {
          "base_uri": "https://localhost:8080/"
        },
        "outputId": "24655108-2a48-44a1-d8e6-91638cc921f7"
      },
      "source": [
        "index = list(range(1,78))\n",
        "index"
      ],
      "execution_count": 165,
      "outputs": [
        {
          "output_type": "execute_result",
          "data": {
            "text/plain": [
              "[1,\n",
              " 2,\n",
              " 3,\n",
              " 4,\n",
              " 5,\n",
              " 6,\n",
              " 7,\n",
              " 8,\n",
              " 9,\n",
              " 10,\n",
              " 11,\n",
              " 12,\n",
              " 13,\n",
              " 14,\n",
              " 15,\n",
              " 16,\n",
              " 17,\n",
              " 18,\n",
              " 19,\n",
              " 20,\n",
              " 21,\n",
              " 22,\n",
              " 23,\n",
              " 24,\n",
              " 25,\n",
              " 26,\n",
              " 27,\n",
              " 28,\n",
              " 29,\n",
              " 30,\n",
              " 31,\n",
              " 32,\n",
              " 33,\n",
              " 34,\n",
              " 35,\n",
              " 36,\n",
              " 37,\n",
              " 38,\n",
              " 39,\n",
              " 40,\n",
              " 41,\n",
              " 42,\n",
              " 43,\n",
              " 44,\n",
              " 45,\n",
              " 46,\n",
              " 47,\n",
              " 48,\n",
              " 49,\n",
              " 50,\n",
              " 51,\n",
              " 52,\n",
              " 53,\n",
              " 54,\n",
              " 55,\n",
              " 56,\n",
              " 57,\n",
              " 58,\n",
              " 59,\n",
              " 60,\n",
              " 61,\n",
              " 62,\n",
              " 63,\n",
              " 64,\n",
              " 65,\n",
              " 66,\n",
              " 67,\n",
              " 68,\n",
              " 69,\n",
              " 70,\n",
              " 71,\n",
              " 72,\n",
              " 73,\n",
              " 74,\n",
              " 75,\n",
              " 76,\n",
              " 77]"
            ]
          },
          "metadata": {
            "tags": []
          },
          "execution_count": 165
        }
      ]
    },
    {
      "cell_type": "code",
      "metadata": {
        "id": "B2Mc4MMBXc-m",
        "colab": {
          "base_uri": "https://localhost:8080/"
        },
        "outputId": "0c40155b-e088-446c-eec3-d558aed8abe0"
      },
      "source": [
        "#Check Missing value\n",
        "pee_3.isnull().all()"
      ],
      "execution_count": 166,
      "outputs": [
        {
          "output_type": "execute_result",
          "data": {
            "text/plain": [
              "จังหวัด                            False\n",
              "ผลผลิต(ตัน)                        False\n",
              "ผลผลิตต่อเนื้อที่เก็บเกี่ยว(กก)    False\n",
              "dtype: bool"
            ]
          },
          "metadata": {
            "tags": []
          },
          "execution_count": 166
        }
      ]
    },
    {
      "cell_type": "code",
      "metadata": {
        "id": "eJxvNLQIhxNh"
      },
      "source": [
        "#all_pee_cities = set(pee_3['จังหวัด'])\n",
        "#print(len(all_pee_cities))\n",
        "#all_pee_cities"
      ],
      "execution_count": 167,
      "outputs": []
    },
    {
      "cell_type": "code",
      "metadata": {
        "id": "_FMOI7IP3phn",
        "colab": {
          "base_uri": "https://localhost:8080/",
          "height": 502
        },
        "outputId": "5fa64fd4-c585-4f8f-c5a5-745e4e90f44c"
      },
      "source": [
        "pee_3['index']=index\n",
        "pee_3"
      ],
      "execution_count": 168,
      "outputs": [
        {
          "output_type": "stream",
          "text": [
            "/usr/local/lib/python3.6/dist-packages/ipykernel_launcher.py:1: SettingWithCopyWarning: \n",
            "A value is trying to be set on a copy of a slice from a DataFrame.\n",
            "Try using .loc[row_indexer,col_indexer] = value instead\n",
            "\n",
            "See the caveats in the documentation: https://pandas.pydata.org/pandas-docs/stable/user_guide/indexing.html#returning-a-view-versus-a-copy\n",
            "  \"\"\"Entry point for launching an IPython kernel.\n"
          ],
          "name": "stderr"
        },
        {
          "output_type": "execute_result",
          "data": {
            "text/html": [
              "<div>\n",
              "<style scoped>\n",
              "    .dataframe tbody tr th:only-of-type {\n",
              "        vertical-align: middle;\n",
              "    }\n",
              "\n",
              "    .dataframe tbody tr th {\n",
              "        vertical-align: top;\n",
              "    }\n",
              "\n",
              "    .dataframe thead th {\n",
              "        text-align: right;\n",
              "    }\n",
              "</style>\n",
              "<table border=\"1\" class=\"dataframe\">\n",
              "  <thead>\n",
              "    <tr style=\"text-align: right;\">\n",
              "      <th></th>\n",
              "      <th>จังหวัด</th>\n",
              "      <th>ผลผลิต(ตัน)</th>\n",
              "      <th>ผลผลิตต่อเนื้อที่เก็บเกี่ยว(กก)</th>\n",
              "      <th>index</th>\n",
              "    </tr>\n",
              "  </thead>\n",
              "  <tbody>\n",
              "    <tr>\n",
              "      <th>2</th>\n",
              "      <td>อุบลราชธานี</td>\n",
              "      <td>1406996</td>\n",
              "      <td>362.69</td>\n",
              "      <td>1</td>\n",
              "    </tr>\n",
              "    <tr>\n",
              "      <th>3</th>\n",
              "      <td>นครสวรรค์</td>\n",
              "      <td>1359065</td>\n",
              "      <td>597.87</td>\n",
              "      <td>2</td>\n",
              "    </tr>\n",
              "    <tr>\n",
              "      <th>4</th>\n",
              "      <td>นครราชสีมา</td>\n",
              "      <td>1101661</td>\n",
              "      <td>362.92</td>\n",
              "      <td>3</td>\n",
              "    </tr>\n",
              "    <tr>\n",
              "      <th>5</th>\n",
              "      <td>สุรินทร์</td>\n",
              "      <td>1070221</td>\n",
              "      <td>373.83</td>\n",
              "      <td>4</td>\n",
              "    </tr>\n",
              "    <tr>\n",
              "      <th>6</th>\n",
              "      <td>ร้อยเอ็ด</td>\n",
              "      <td>1058807</td>\n",
              "      <td>367.34</td>\n",
              "      <td>5</td>\n",
              "    </tr>\n",
              "    <tr>\n",
              "      <th>...</th>\n",
              "      <td>...</td>\n",
              "      <td>...</td>\n",
              "      <td>...</td>\n",
              "      <td>...</td>\n",
              "    </tr>\n",
              "    <tr>\n",
              "      <th>74</th>\n",
              "      <td>ชุมพร</td>\n",
              "      <td>1499</td>\n",
              "      <td>444.28</td>\n",
              "      <td>73</td>\n",
              "    </tr>\n",
              "    <tr>\n",
              "      <th>75</th>\n",
              "      <td>สมุทรสงคราม</td>\n",
              "      <td>1493</td>\n",
              "      <td>712.99</td>\n",
              "      <td>74</td>\n",
              "    </tr>\n",
              "    <tr>\n",
              "      <th>76</th>\n",
              "      <td>พังงา</td>\n",
              "      <td>964</td>\n",
              "      <td>323.92</td>\n",
              "      <td>75</td>\n",
              "    </tr>\n",
              "    <tr>\n",
              "      <th>77</th>\n",
              "      <td>ระนอง</td>\n",
              "      <td>259</td>\n",
              "      <td>345.33</td>\n",
              "      <td>76</td>\n",
              "    </tr>\n",
              "    <tr>\n",
              "      <th>78</th>\n",
              "      <td>ภูเก็ต</td>\n",
              "      <td>32</td>\n",
              "      <td>516.13</td>\n",
              "      <td>77</td>\n",
              "    </tr>\n",
              "  </tbody>\n",
              "</table>\n",
              "<p>77 rows × 4 columns</p>\n",
              "</div>"
            ],
            "text/plain": [
              "        จังหวัด ผลผลิต(ตัน) ผลผลิตต่อเนื้อที่เก็บเกี่ยว(กก)  index\n",
              "2   อุบลราชธานี     1406996                          362.69      1\n",
              "3     นครสวรรค์     1359065                          597.87      2\n",
              "4    นครราชสีมา     1101661                          362.92      3\n",
              "5      สุรินทร์     1070221                          373.83      4\n",
              "6      ร้อยเอ็ด     1058807                          367.34      5\n",
              "..          ...         ...                             ...    ...\n",
              "74        ชุมพร        1499                          444.28     73\n",
              "75  สมุทรสงคราม        1493                          712.99     74\n",
              "76        พังงา         964                          323.92     75\n",
              "77        ระนอง         259                          345.33     76\n",
              "78       ภูเก็ต          32                          516.13     77\n",
              "\n",
              "[77 rows x 4 columns]"
            ]
          },
          "metadata": {
            "tags": []
          },
          "execution_count": 168
        }
      ]
    },
    {
      "cell_type": "code",
      "metadata": {
        "id": "wLfZJbVdNObq"
      },
      "source": [
        "pee_3.set_index('index',inplace=True)"
      ],
      "execution_count": 169,
      "outputs": []
    },
    {
      "cell_type": "code",
      "metadata": {
        "id": "jdmp-PlYOTNB",
        "colab": {
          "base_uri": "https://localhost:8080/",
          "height": 431
        },
        "outputId": "9e2d9834-de06-4d64-f110-93bdd29cded6"
      },
      "source": [
        "pee_3"
      ],
      "execution_count": 170,
      "outputs": [
        {
          "output_type": "execute_result",
          "data": {
            "text/html": [
              "<div>\n",
              "<style scoped>\n",
              "    .dataframe tbody tr th:only-of-type {\n",
              "        vertical-align: middle;\n",
              "    }\n",
              "\n",
              "    .dataframe tbody tr th {\n",
              "        vertical-align: top;\n",
              "    }\n",
              "\n",
              "    .dataframe thead th {\n",
              "        text-align: right;\n",
              "    }\n",
              "</style>\n",
              "<table border=\"1\" class=\"dataframe\">\n",
              "  <thead>\n",
              "    <tr style=\"text-align: right;\">\n",
              "      <th></th>\n",
              "      <th>จังหวัด</th>\n",
              "      <th>ผลผลิต(ตัน)</th>\n",
              "      <th>ผลผลิตต่อเนื้อที่เก็บเกี่ยว(กก)</th>\n",
              "    </tr>\n",
              "    <tr>\n",
              "      <th>index</th>\n",
              "      <th></th>\n",
              "      <th></th>\n",
              "      <th></th>\n",
              "    </tr>\n",
              "  </thead>\n",
              "  <tbody>\n",
              "    <tr>\n",
              "      <th>1</th>\n",
              "      <td>อุบลราชธานี</td>\n",
              "      <td>1406996</td>\n",
              "      <td>362.69</td>\n",
              "    </tr>\n",
              "    <tr>\n",
              "      <th>2</th>\n",
              "      <td>นครสวรรค์</td>\n",
              "      <td>1359065</td>\n",
              "      <td>597.87</td>\n",
              "    </tr>\n",
              "    <tr>\n",
              "      <th>3</th>\n",
              "      <td>นครราชสีมา</td>\n",
              "      <td>1101661</td>\n",
              "      <td>362.92</td>\n",
              "    </tr>\n",
              "    <tr>\n",
              "      <th>4</th>\n",
              "      <td>สุรินทร์</td>\n",
              "      <td>1070221</td>\n",
              "      <td>373.83</td>\n",
              "    </tr>\n",
              "    <tr>\n",
              "      <th>5</th>\n",
              "      <td>ร้อยเอ็ด</td>\n",
              "      <td>1058807</td>\n",
              "      <td>367.34</td>\n",
              "    </tr>\n",
              "    <tr>\n",
              "      <th>...</th>\n",
              "      <td>...</td>\n",
              "      <td>...</td>\n",
              "      <td>...</td>\n",
              "    </tr>\n",
              "    <tr>\n",
              "      <th>73</th>\n",
              "      <td>ชุมพร</td>\n",
              "      <td>1499</td>\n",
              "      <td>444.28</td>\n",
              "    </tr>\n",
              "    <tr>\n",
              "      <th>74</th>\n",
              "      <td>สมุทรสงคราม</td>\n",
              "      <td>1493</td>\n",
              "      <td>712.99</td>\n",
              "    </tr>\n",
              "    <tr>\n",
              "      <th>75</th>\n",
              "      <td>พังงา</td>\n",
              "      <td>964</td>\n",
              "      <td>323.92</td>\n",
              "    </tr>\n",
              "    <tr>\n",
              "      <th>76</th>\n",
              "      <td>ระนอง</td>\n",
              "      <td>259</td>\n",
              "      <td>345.33</td>\n",
              "    </tr>\n",
              "    <tr>\n",
              "      <th>77</th>\n",
              "      <td>ภูเก็ต</td>\n",
              "      <td>32</td>\n",
              "      <td>516.13</td>\n",
              "    </tr>\n",
              "  </tbody>\n",
              "</table>\n",
              "<p>77 rows × 3 columns</p>\n",
              "</div>"
            ],
            "text/plain": [
              "           จังหวัด ผลผลิต(ตัน) ผลผลิตต่อเนื้อที่เก็บเกี่ยว(กก)\n",
              "index                                                         \n",
              "1      อุบลราชธานี     1406996                          362.69\n",
              "2        นครสวรรค์     1359065                          597.87\n",
              "3       นครราชสีมา     1101661                          362.92\n",
              "4         สุรินทร์     1070221                          373.83\n",
              "5         ร้อยเอ็ด     1058807                          367.34\n",
              "...            ...         ...                             ...\n",
              "73           ชุมพร        1499                          444.28\n",
              "74     สมุทรสงคราม        1493                          712.99\n",
              "75           พังงา         964                          323.92\n",
              "76           ระนอง         259                          345.33\n",
              "77          ภูเก็ต          32                          516.13\n",
              "\n",
              "[77 rows x 3 columns]"
            ]
          },
          "metadata": {
            "tags": []
          },
          "execution_count": 170
        }
      ]
    },
    {
      "cell_type": "code",
      "metadata": {
        "id": "A3PvhnfGV_HZ"
      },
      "source": [
        "#for i in range(1,78):\n",
        "#  if pee_3['ผลผลิตต่อเนื้อที่เก็บเกี่ยว(กก)'][i] < 370.48:\n",
        "#    pee_3['Group_pee']='M'\n",
        "#  else:\n",
        "#    pee_3['Group_pee']='No'\n"
      ],
      "execution_count": 171,
      "outputs": []
    },
    {
      "cell_type": "markdown",
      "metadata": {
        "id": "QYDeDdWWYvXI"
      },
      "source": [
        "#แบ่งกลุ่มข้าวนาปี"
      ]
    },
    {
      "cell_type": "code",
      "metadata": {
        "id": "idOyG1dlc1Y3"
      },
      "source": [
        "pee_4=pee_3"
      ],
      "execution_count": 183,
      "outputs": []
    },
    {
      "cell_type": "code",
      "metadata": {
        "id": "nLPkup5UgUaH",
        "outputId": "323d233f-2193-4dc8-d690-61d35bcea12a",
        "colab": {
          "base_uri": "https://localhost:8080/",
          "height": 431
        }
      },
      "source": [
        "pee_4"
      ],
      "execution_count": 185,
      "outputs": [
        {
          "output_type": "execute_result",
          "data": {
            "text/html": [
              "<div>\n",
              "<style scoped>\n",
              "    .dataframe tbody tr th:only-of-type {\n",
              "        vertical-align: middle;\n",
              "    }\n",
              "\n",
              "    .dataframe tbody tr th {\n",
              "        vertical-align: top;\n",
              "    }\n",
              "\n",
              "    .dataframe thead th {\n",
              "        text-align: right;\n",
              "    }\n",
              "</style>\n",
              "<table border=\"1\" class=\"dataframe\">\n",
              "  <thead>\n",
              "    <tr style=\"text-align: right;\">\n",
              "      <th></th>\n",
              "      <th>จังหวัด</th>\n",
              "      <th>ผลผลิต(ตัน)</th>\n",
              "      <th>ผลผลิตต่อเนื้อที่เก็บเกี่ยว(กก)</th>\n",
              "    </tr>\n",
              "    <tr>\n",
              "      <th>index</th>\n",
              "      <th></th>\n",
              "      <th></th>\n",
              "      <th></th>\n",
              "    </tr>\n",
              "  </thead>\n",
              "  <tbody>\n",
              "    <tr>\n",
              "      <th>1</th>\n",
              "      <td>อุบลราชธานี</td>\n",
              "      <td>1406996</td>\n",
              "      <td>362.69</td>\n",
              "    </tr>\n",
              "    <tr>\n",
              "      <th>2</th>\n",
              "      <td>นครสวรรค์</td>\n",
              "      <td>1359065</td>\n",
              "      <td>597.87</td>\n",
              "    </tr>\n",
              "    <tr>\n",
              "      <th>3</th>\n",
              "      <td>นครราชสีมา</td>\n",
              "      <td>1101661</td>\n",
              "      <td>362.92</td>\n",
              "    </tr>\n",
              "    <tr>\n",
              "      <th>4</th>\n",
              "      <td>สุรินทร์</td>\n",
              "      <td>1070221</td>\n",
              "      <td>373.83</td>\n",
              "    </tr>\n",
              "    <tr>\n",
              "      <th>5</th>\n",
              "      <td>ร้อยเอ็ด</td>\n",
              "      <td>1058807</td>\n",
              "      <td>367.34</td>\n",
              "    </tr>\n",
              "    <tr>\n",
              "      <th>...</th>\n",
              "      <td>...</td>\n",
              "      <td>...</td>\n",
              "      <td>...</td>\n",
              "    </tr>\n",
              "    <tr>\n",
              "      <th>73</th>\n",
              "      <td>ชุมพร</td>\n",
              "      <td>1499</td>\n",
              "      <td>444.28</td>\n",
              "    </tr>\n",
              "    <tr>\n",
              "      <th>74</th>\n",
              "      <td>สมุทรสงคราม</td>\n",
              "      <td>1493</td>\n",
              "      <td>712.99</td>\n",
              "    </tr>\n",
              "    <tr>\n",
              "      <th>75</th>\n",
              "      <td>พังงา</td>\n",
              "      <td>964</td>\n",
              "      <td>323.92</td>\n",
              "    </tr>\n",
              "    <tr>\n",
              "      <th>76</th>\n",
              "      <td>ระนอง</td>\n",
              "      <td>259</td>\n",
              "      <td>345.33</td>\n",
              "    </tr>\n",
              "    <tr>\n",
              "      <th>77</th>\n",
              "      <td>ภูเก็ต</td>\n",
              "      <td>32</td>\n",
              "      <td>516.13</td>\n",
              "    </tr>\n",
              "  </tbody>\n",
              "</table>\n",
              "<p>77 rows × 3 columns</p>\n",
              "</div>"
            ],
            "text/plain": [
              "           จังหวัด ผลผลิต(ตัน) ผลผลิตต่อเนื้อที่เก็บเกี่ยว(กก)\n",
              "index                                                         \n",
              "1      อุบลราชธานี     1406996                          362.69\n",
              "2        นครสวรรค์     1359065                          597.87\n",
              "3       นครราชสีมา     1101661                          362.92\n",
              "4         สุรินทร์     1070221                          373.83\n",
              "5         ร้อยเอ็ด     1058807                          367.34\n",
              "...            ...         ...                             ...\n",
              "73           ชุมพร        1499                          444.28\n",
              "74     สมุทรสงคราม        1493                          712.99\n",
              "75           พังงา         964                          323.92\n",
              "76           ระนอง         259                          345.33\n",
              "77          ภูเก็ต          32                          516.13\n",
              "\n",
              "[77 rows x 3 columns]"
            ]
          },
          "metadata": {
            "tags": []
          },
          "execution_count": 185
        }
      ]
    },
    {
      "cell_type": "code",
      "metadata": {
        "id": "vxJszImahgp1"
      },
      "source": [
        "from pandas.api.types import CategoricalDtype"
      ],
      "execution_count": 187,
      "outputs": []
    },
    {
      "cell_type": "code",
      "metadata": {
        "id": "ScPAMqF3ifSr",
        "outputId": "ea309640-6b18-401f-b926-9c61a83f65db",
        "colab": {
          "base_uri": "https://localhost:8080/",
          "height": 515
        }
      },
      "source": [
        "pee_4.rename(columns={'ผลผลิตต่อเนื้อที่เก็บเกี่ยว(กก)':'pee_product'}, inplace=True)\n",
        "pee_4"
      ],
      "execution_count": 189,
      "outputs": [
        {
          "output_type": "stream",
          "text": [
            "/usr/local/lib/python3.6/dist-packages/pandas/core/frame.py:4308: SettingWithCopyWarning: \n",
            "A value is trying to be set on a copy of a slice from a DataFrame\n",
            "\n",
            "See the caveats in the documentation: https://pandas.pydata.org/pandas-docs/stable/user_guide/indexing.html#returning-a-view-versus-a-copy\n",
            "  errors=errors,\n"
          ],
          "name": "stderr"
        },
        {
          "output_type": "execute_result",
          "data": {
            "text/html": [
              "<div>\n",
              "<style scoped>\n",
              "    .dataframe tbody tr th:only-of-type {\n",
              "        vertical-align: middle;\n",
              "    }\n",
              "\n",
              "    .dataframe tbody tr th {\n",
              "        vertical-align: top;\n",
              "    }\n",
              "\n",
              "    .dataframe thead th {\n",
              "        text-align: right;\n",
              "    }\n",
              "</style>\n",
              "<table border=\"1\" class=\"dataframe\">\n",
              "  <thead>\n",
              "    <tr style=\"text-align: right;\">\n",
              "      <th></th>\n",
              "      <th>จังหวัด</th>\n",
              "      <th>ผลผลิต(ตัน)</th>\n",
              "      <th>pee_product</th>\n",
              "    </tr>\n",
              "    <tr>\n",
              "      <th>index</th>\n",
              "      <th></th>\n",
              "      <th></th>\n",
              "      <th></th>\n",
              "    </tr>\n",
              "  </thead>\n",
              "  <tbody>\n",
              "    <tr>\n",
              "      <th>1</th>\n",
              "      <td>อุบลราชธานี</td>\n",
              "      <td>1406996</td>\n",
              "      <td>362.69</td>\n",
              "    </tr>\n",
              "    <tr>\n",
              "      <th>2</th>\n",
              "      <td>นครสวรรค์</td>\n",
              "      <td>1359065</td>\n",
              "      <td>597.87</td>\n",
              "    </tr>\n",
              "    <tr>\n",
              "      <th>3</th>\n",
              "      <td>นครราชสีมา</td>\n",
              "      <td>1101661</td>\n",
              "      <td>362.92</td>\n",
              "    </tr>\n",
              "    <tr>\n",
              "      <th>4</th>\n",
              "      <td>สุรินทร์</td>\n",
              "      <td>1070221</td>\n",
              "      <td>373.83</td>\n",
              "    </tr>\n",
              "    <tr>\n",
              "      <th>5</th>\n",
              "      <td>ร้อยเอ็ด</td>\n",
              "      <td>1058807</td>\n",
              "      <td>367.34</td>\n",
              "    </tr>\n",
              "    <tr>\n",
              "      <th>...</th>\n",
              "      <td>...</td>\n",
              "      <td>...</td>\n",
              "      <td>...</td>\n",
              "    </tr>\n",
              "    <tr>\n",
              "      <th>73</th>\n",
              "      <td>ชุมพร</td>\n",
              "      <td>1499</td>\n",
              "      <td>444.28</td>\n",
              "    </tr>\n",
              "    <tr>\n",
              "      <th>74</th>\n",
              "      <td>สมุทรสงคราม</td>\n",
              "      <td>1493</td>\n",
              "      <td>712.99</td>\n",
              "    </tr>\n",
              "    <tr>\n",
              "      <th>75</th>\n",
              "      <td>พังงา</td>\n",
              "      <td>964</td>\n",
              "      <td>323.92</td>\n",
              "    </tr>\n",
              "    <tr>\n",
              "      <th>76</th>\n",
              "      <td>ระนอง</td>\n",
              "      <td>259</td>\n",
              "      <td>345.33</td>\n",
              "    </tr>\n",
              "    <tr>\n",
              "      <th>77</th>\n",
              "      <td>ภูเก็ต</td>\n",
              "      <td>32</td>\n",
              "      <td>516.13</td>\n",
              "    </tr>\n",
              "  </tbody>\n",
              "</table>\n",
              "<p>77 rows × 3 columns</p>\n",
              "</div>"
            ],
            "text/plain": [
              "           จังหวัด ผลผลิต(ตัน) pee_product\n",
              "index                                     \n",
              "1      อุบลราชธานี     1406996      362.69\n",
              "2        นครสวรรค์     1359065      597.87\n",
              "3       นครราชสีมา     1101661      362.92\n",
              "4         สุรินทร์     1070221      373.83\n",
              "5         ร้อยเอ็ด     1058807      367.34\n",
              "...            ...         ...         ...\n",
              "73           ชุมพร        1499      444.28\n",
              "74     สมุทรสงคราม        1493      712.99\n",
              "75           พังงา         964      323.92\n",
              "76           ระนอง         259      345.33\n",
              "77          ภูเก็ต          32      516.13\n",
              "\n",
              "[77 rows x 3 columns]"
            ]
          },
          "metadata": {
            "tags": []
          },
          "execution_count": 189
        }
      ]
    },
    {
      "cell_type": "code",
      "metadata": {
        "id": "oE8dRFdzactw",
        "outputId": "a21f00ea-acd9-41a5-fa62-fe1e943e8ead",
        "colab": {
          "base_uri": "https://localhost:8080/",
          "height": 532
        }
      },
      "source": [
        "#pee_product is ผลผลิต(กก)ต่อเนื้อที่เก็บเกี่ยว\n",
        "pee_bucket = ['M','N','O','P']\n",
        "pee_4['group_pee'] = pd.cut(pee_4.pee_product,\n",
        "                            bins=[323.92,370.48,482.46,622.42,773.28],\n",
        "                            labels=pee_bucket,\n",
        "                            right=False).astype(str).astype(CategoricalDtype(pee_bucket,ordered=True))\n",
        "pee_4.sort_values(by='group_pee')"
      ],
      "execution_count": 192,
      "outputs": [
        {
          "output_type": "stream",
          "text": [
            "/usr/local/lib/python3.6/dist-packages/ipykernel_launcher.py:6: SettingWithCopyWarning: \n",
            "A value is trying to be set on a copy of a slice from a DataFrame.\n",
            "Try using .loc[row_indexer,col_indexer] = value instead\n",
            "\n",
            "See the caveats in the documentation: https://pandas.pydata.org/pandas-docs/stable/user_guide/indexing.html#returning-a-view-versus-a-copy\n",
            "  \n"
          ],
          "name": "stderr"
        },
        {
          "output_type": "execute_result",
          "data": {
            "text/html": [
              "<div>\n",
              "<style scoped>\n",
              "    .dataframe tbody tr th:only-of-type {\n",
              "        vertical-align: middle;\n",
              "    }\n",
              "\n",
              "    .dataframe tbody tr th {\n",
              "        vertical-align: top;\n",
              "    }\n",
              "\n",
              "    .dataframe thead th {\n",
              "        text-align: right;\n",
              "    }\n",
              "</style>\n",
              "<table border=\"1\" class=\"dataframe\">\n",
              "  <thead>\n",
              "    <tr style=\"text-align: right;\">\n",
              "      <th></th>\n",
              "      <th>จังหวัด</th>\n",
              "      <th>ผลผลิต(ตัน)</th>\n",
              "      <th>pee_product</th>\n",
              "      <th>group_pee</th>\n",
              "    </tr>\n",
              "    <tr>\n",
              "      <th>index</th>\n",
              "      <th></th>\n",
              "      <th></th>\n",
              "      <th></th>\n",
              "      <th></th>\n",
              "    </tr>\n",
              "  </thead>\n",
              "  <tbody>\n",
              "    <tr>\n",
              "      <th>1</th>\n",
              "      <td>อุบลราชธานี</td>\n",
              "      <td>1406996</td>\n",
              "      <td>362.69</td>\n",
              "      <td>M</td>\n",
              "    </tr>\n",
              "    <tr>\n",
              "      <th>75</th>\n",
              "      <td>พังงา</td>\n",
              "      <td>964</td>\n",
              "      <td>323.92</td>\n",
              "      <td>M</td>\n",
              "    </tr>\n",
              "    <tr>\n",
              "      <th>72</th>\n",
              "      <td>กระบี่</td>\n",
              "      <td>1852</td>\n",
              "      <td>342.08</td>\n",
              "      <td>M</td>\n",
              "    </tr>\n",
              "    <tr>\n",
              "      <th>68</th>\n",
              "      <td>จันทบุรี</td>\n",
              "      <td>4904</td>\n",
              "      <td>363.77</td>\n",
              "      <td>M</td>\n",
              "    </tr>\n",
              "    <tr>\n",
              "      <th>64</th>\n",
              "      <td>ยะลา</td>\n",
              "      <td>7702</td>\n",
              "      <td>359.62</td>\n",
              "      <td>M</td>\n",
              "    </tr>\n",
              "    <tr>\n",
              "      <th>...</th>\n",
              "      <td>...</td>\n",
              "      <td>...</td>\n",
              "      <td>...</td>\n",
              "      <td>...</td>\n",
              "    </tr>\n",
              "    <tr>\n",
              "      <th>36</th>\n",
              "      <td>สิงห์บุรี</td>\n",
              "      <td>227927</td>\n",
              "      <td>708.02</td>\n",
              "      <td>P</td>\n",
              "    </tr>\n",
              "    <tr>\n",
              "      <th>37</th>\n",
              "      <td>ปทุมธานี</td>\n",
              "      <td>227842</td>\n",
              "      <td>729.12</td>\n",
              "      <td>P</td>\n",
              "    </tr>\n",
              "    <tr>\n",
              "      <th>41</th>\n",
              "      <td>สระบุรี</td>\n",
              "      <td>209788</td>\n",
              "      <td>647.73</td>\n",
              "      <td>P</td>\n",
              "    </tr>\n",
              "    <tr>\n",
              "      <th>42</th>\n",
              "      <td>เพชรบุรี</td>\n",
              "      <td>194240</td>\n",
              "      <td>701.42</td>\n",
              "      <td>P</td>\n",
              "    </tr>\n",
              "    <tr>\n",
              "      <th>62</th>\n",
              "      <td>สมุทรปราการ</td>\n",
              "      <td>15845</td>\n",
              "      <td>773.27</td>\n",
              "      <td>P</td>\n",
              "    </tr>\n",
              "  </tbody>\n",
              "</table>\n",
              "<p>77 rows × 4 columns</p>\n",
              "</div>"
            ],
            "text/plain": [
              "           จังหวัด ผลผลิต(ตัน) pee_product group_pee\n",
              "index                                               \n",
              "1      อุบลราชธานี     1406996      362.69         M\n",
              "75           พังงา         964      323.92         M\n",
              "72          กระบี่        1852      342.08         M\n",
              "68        จันทบุรี        4904      363.77         M\n",
              "64            ยะลา        7702      359.62         M\n",
              "...            ...         ...         ...       ...\n",
              "36       สิงห์บุรี      227927      708.02         P\n",
              "37        ปทุมธานี      227842      729.12         P\n",
              "41         สระบุรี      209788      647.73         P\n",
              "42        เพชรบุรี      194240      701.42         P\n",
              "62     สมุทรปราการ       15845      773.27         P\n",
              "\n",
              "[77 rows x 4 columns]"
            ]
          },
          "metadata": {
            "tags": []
          },
          "execution_count": 192
        }
      ]
    },
    {
      "cell_type": "markdown",
      "metadata": {
        "id": "p32h1N4vKfKa"
      },
      "source": [
        "#ตารางข้าวนาปรัง"
      ]
    },
    {
      "cell_type": "code",
      "metadata": {
        "id": "O7Gtop21nkSa",
        "colab": {
          "base_uri": "https://localhost:8080/",
          "height": 0
        },
        "outputId": "881c3150-a529-4e5b-e985-b846d2004331"
      },
      "source": [
        "prang_1"
      ],
      "execution_count": 172,
      "outputs": [
        {
          "output_type": "execute_result",
          "data": {
            "text/html": [
              "<div>\n",
              "<style scoped>\n",
              "    .dataframe tbody tr th:only-of-type {\n",
              "        vertical-align: middle;\n",
              "    }\n",
              "\n",
              "    .dataframe tbody tr th {\n",
              "        vertical-align: top;\n",
              "    }\n",
              "\n",
              "    .dataframe thead th {\n",
              "        text-align: right;\n",
              "    }\n",
              "</style>\n",
              "<table border=\"1\" class=\"dataframe\">\n",
              "  <thead>\n",
              "    <tr style=\"text-align: right;\">\n",
              "      <th></th>\n",
              "      <th>สำนักงานเศรษฐกิจการเกษตร | สินค้าเกษตรข้าวนาปรัง</th>\n",
              "      <th>Unnamed: 1</th>\n",
              "      <th>Unnamed: 2</th>\n",
              "      <th>Unnamed: 3</th>\n",
              "      <th>Unnamed: 4</th>\n",
              "    </tr>\n",
              "  </thead>\n",
              "  <tbody>\n",
              "    <tr>\n",
              "      <th>0</th>\n",
              "      <td>ผลผลิตข้าวนาปรังแยกตามจังหวัด ปี 2562</td>\n",
              "      <td>NaN</td>\n",
              "      <td>NaN</td>\n",
              "      <td>NaN</td>\n",
              "      <td>NaN</td>\n",
              "    </tr>\n",
              "    <tr>\n",
              "      <th>1</th>\n",
              "      <td>จังหวัด</td>\n",
              "      <td>ผลผลิต(ตัน)</td>\n",
              "      <td>สัดส่วน</td>\n",
              "      <td>เนื้อที่เก็บเกี่ยว(ไร่)</td>\n",
              "      <td>ผลผลิตต่อเนื้อที่เก็บเกี่ยว(กก.)</td>\n",
              "    </tr>\n",
              "    <tr>\n",
              "      <th>2</th>\n",
              "      <td>สุพรรณบุรี</td>\n",
              "      <td>599010</td>\n",
              "      <td>0.0835</td>\n",
              "      <td>830766</td>\n",
              "      <td>721.03</td>\n",
              "    </tr>\n",
              "    <tr>\n",
              "      <th>3</th>\n",
              "      <td>นครสวรรค์</td>\n",
              "      <td>525622</td>\n",
              "      <td>0.0733</td>\n",
              "      <td>782660</td>\n",
              "      <td>671.58</td>\n",
              "    </tr>\n",
              "    <tr>\n",
              "      <th>4</th>\n",
              "      <td>อยุธยา</td>\n",
              "      <td>504311</td>\n",
              "      <td>0.0703</td>\n",
              "      <td>716664</td>\n",
              "      <td>703.69</td>\n",
              "    </tr>\n",
              "    <tr>\n",
              "      <th>...</th>\n",
              "      <td>...</td>\n",
              "      <td>...</td>\n",
              "      <td>...</td>\n",
              "      <td>...</td>\n",
              "      <td>...</td>\n",
              "    </tr>\n",
              "    <tr>\n",
              "      <th>67</th>\n",
              "      <td>มุกดาหาร</td>\n",
              "      <td>202</td>\n",
              "      <td>0</td>\n",
              "      <td>423</td>\n",
              "      <td>477.54</td>\n",
              "    </tr>\n",
              "    <tr>\n",
              "      <th>68</th>\n",
              "      <td>เลย</td>\n",
              "      <td>167</td>\n",
              "      <td>0</td>\n",
              "      <td>387</td>\n",
              "      <td>431.52</td>\n",
              "    </tr>\n",
              "    <tr>\n",
              "      <th>69</th>\n",
              "      <td>ยะลา</td>\n",
              "      <td>81</td>\n",
              "      <td>0</td>\n",
              "      <td>180</td>\n",
              "      <td>450</td>\n",
              "    </tr>\n",
              "    <tr>\n",
              "      <th>70</th>\n",
              "      <td>ตรัง</td>\n",
              "      <td>70</td>\n",
              "      <td>0</td>\n",
              "      <td>147</td>\n",
              "      <td>476.19</td>\n",
              "    </tr>\n",
              "    <tr>\n",
              "      <th>71</th>\n",
              "      <td>แม่ฮ่องสอน</td>\n",
              "      <td>70</td>\n",
              "      <td>0</td>\n",
              "      <td>120</td>\n",
              "      <td>583.33</td>\n",
              "    </tr>\n",
              "  </tbody>\n",
              "</table>\n",
              "<p>72 rows × 5 columns</p>\n",
              "</div>"
            ],
            "text/plain": [
              "   สำนักงานเศรษฐกิจการเกษตร | สินค้าเกษตรข้าวนาปรัง  ...                        Unnamed: 4\n",
              "0             ผลผลิตข้าวนาปรังแยกตามจังหวัด ปี 2562  ...                               NaN\n",
              "1                                           จังหวัด  ...  ผลผลิตต่อเนื้อที่เก็บเกี่ยว(กก.)\n",
              "2                                        สุพรรณบุรี  ...                            721.03\n",
              "3                                         นครสวรรค์  ...                            671.58\n",
              "4                                            อยุธยา  ...                            703.69\n",
              "..                                              ...  ...                               ...\n",
              "67                                         มุกดาหาร  ...                            477.54\n",
              "68                                              เลย  ...                            431.52\n",
              "69                                             ยะลา  ...                               450\n",
              "70                                             ตรัง  ...                            476.19\n",
              "71                                       แม่ฮ่องสอน  ...                            583.33\n",
              "\n",
              "[72 rows x 5 columns]"
            ]
          },
          "metadata": {
            "tags": []
          },
          "execution_count": 172
        }
      ]
    },
    {
      "cell_type": "code",
      "metadata": {
        "id": "aiQfEE_MAQLc"
      },
      "source": [
        "#ตัด 2 แถวแรกออก\n",
        "prang_2 = prang_1.iloc[2:,:]"
      ],
      "execution_count": 173,
      "outputs": []
    },
    {
      "cell_type": "code",
      "metadata": {
        "id": "KcpuK3vAb9Nf",
        "colab": {
          "base_uri": "https://localhost:8080/",
          "height": 0
        },
        "outputId": "6eb7babd-82c3-4fdf-ebbf-19cedcfd722d"
      },
      "source": [
        "prang_2"
      ],
      "execution_count": 174,
      "outputs": [
        {
          "output_type": "execute_result",
          "data": {
            "text/html": [
              "<div>\n",
              "<style scoped>\n",
              "    .dataframe tbody tr th:only-of-type {\n",
              "        vertical-align: middle;\n",
              "    }\n",
              "\n",
              "    .dataframe tbody tr th {\n",
              "        vertical-align: top;\n",
              "    }\n",
              "\n",
              "    .dataframe thead th {\n",
              "        text-align: right;\n",
              "    }\n",
              "</style>\n",
              "<table border=\"1\" class=\"dataframe\">\n",
              "  <thead>\n",
              "    <tr style=\"text-align: right;\">\n",
              "      <th></th>\n",
              "      <th>สำนักงานเศรษฐกิจการเกษตร | สินค้าเกษตรข้าวนาปรัง</th>\n",
              "      <th>Unnamed: 1</th>\n",
              "      <th>Unnamed: 2</th>\n",
              "      <th>Unnamed: 3</th>\n",
              "      <th>Unnamed: 4</th>\n",
              "    </tr>\n",
              "  </thead>\n",
              "  <tbody>\n",
              "    <tr>\n",
              "      <th>2</th>\n",
              "      <td>สุพรรณบุรี</td>\n",
              "      <td>599010</td>\n",
              "      <td>0.0835</td>\n",
              "      <td>830766</td>\n",
              "      <td>721.03</td>\n",
              "    </tr>\n",
              "    <tr>\n",
              "      <th>3</th>\n",
              "      <td>นครสวรรค์</td>\n",
              "      <td>525622</td>\n",
              "      <td>0.0733</td>\n",
              "      <td>782660</td>\n",
              "      <td>671.58</td>\n",
              "    </tr>\n",
              "    <tr>\n",
              "      <th>4</th>\n",
              "      <td>อยุธยา</td>\n",
              "      <td>504311</td>\n",
              "      <td>0.0703</td>\n",
              "      <td>716664</td>\n",
              "      <td>703.69</td>\n",
              "    </tr>\n",
              "    <tr>\n",
              "      <th>5</th>\n",
              "      <td>พิษณุโลก</td>\n",
              "      <td>497596</td>\n",
              "      <td>0.0694</td>\n",
              "      <td>763706</td>\n",
              "      <td>651.55</td>\n",
              "    </tr>\n",
              "    <tr>\n",
              "      <th>6</th>\n",
              "      <td>พิจิตร</td>\n",
              "      <td>444055</td>\n",
              "      <td>0.0619</td>\n",
              "      <td>707051</td>\n",
              "      <td>628.04</td>\n",
              "    </tr>\n",
              "    <tr>\n",
              "      <th>...</th>\n",
              "      <td>...</td>\n",
              "      <td>...</td>\n",
              "      <td>...</td>\n",
              "      <td>...</td>\n",
              "      <td>...</td>\n",
              "    </tr>\n",
              "    <tr>\n",
              "      <th>67</th>\n",
              "      <td>มุกดาหาร</td>\n",
              "      <td>202</td>\n",
              "      <td>0</td>\n",
              "      <td>423</td>\n",
              "      <td>477.54</td>\n",
              "    </tr>\n",
              "    <tr>\n",
              "      <th>68</th>\n",
              "      <td>เลย</td>\n",
              "      <td>167</td>\n",
              "      <td>0</td>\n",
              "      <td>387</td>\n",
              "      <td>431.52</td>\n",
              "    </tr>\n",
              "    <tr>\n",
              "      <th>69</th>\n",
              "      <td>ยะลา</td>\n",
              "      <td>81</td>\n",
              "      <td>0</td>\n",
              "      <td>180</td>\n",
              "      <td>450</td>\n",
              "    </tr>\n",
              "    <tr>\n",
              "      <th>70</th>\n",
              "      <td>ตรัง</td>\n",
              "      <td>70</td>\n",
              "      <td>0</td>\n",
              "      <td>147</td>\n",
              "      <td>476.19</td>\n",
              "    </tr>\n",
              "    <tr>\n",
              "      <th>71</th>\n",
              "      <td>แม่ฮ่องสอน</td>\n",
              "      <td>70</td>\n",
              "      <td>0</td>\n",
              "      <td>120</td>\n",
              "      <td>583.33</td>\n",
              "    </tr>\n",
              "  </tbody>\n",
              "</table>\n",
              "<p>70 rows × 5 columns</p>\n",
              "</div>"
            ],
            "text/plain": [
              "   สำนักงานเศรษฐกิจการเกษตร | สินค้าเกษตรข้าวนาปรัง  ... Unnamed: 4\n",
              "2                                        สุพรรณบุรี  ...     721.03\n",
              "3                                         นครสวรรค์  ...     671.58\n",
              "4                                            อยุธยา  ...     703.69\n",
              "5                                          พิษณุโลก  ...     651.55\n",
              "6                                            พิจิตร  ...     628.04\n",
              "..                                              ...  ...        ...\n",
              "67                                         มุกดาหาร  ...     477.54\n",
              "68                                              เลย  ...     431.52\n",
              "69                                             ยะลา  ...        450\n",
              "70                                             ตรัง  ...     476.19\n",
              "71                                       แม่ฮ่องสอน  ...     583.33\n",
              "\n",
              "[70 rows x 5 columns]"
            ]
          },
          "metadata": {
            "tags": []
          },
          "execution_count": 174
        }
      ]
    },
    {
      "cell_type": "code",
      "metadata": {
        "id": "VTznoSkTdA-q",
        "colab": {
          "base_uri": "https://localhost:8080/",
          "height": 0
        },
        "outputId": "9fe62796-993f-42ee-a5cf-3108894c8344"
      },
      "source": [
        "prang_2.rename(columns={'สำนักงานเศรษฐกิจการเกษตร | สินค้าเกษตรข้าวนาปรัง':'จังหวัด','Unnamed: 1':'ผลผลิต_ปรัง(ตัน)','Unnamed: 2':'สัดส่วน_ปรัง','Unnamed: 3':'เนื้อที่_ปรัง','Unnamed: 4':'ผลผลิตต่อเนื้อที่_ปรัง(กก)'}, inplace=True)\n",
        "prang_2"
      ],
      "execution_count": 175,
      "outputs": [
        {
          "output_type": "stream",
          "text": [
            "/usr/local/lib/python3.6/dist-packages/pandas/core/frame.py:4308: SettingWithCopyWarning: \n",
            "A value is trying to be set on a copy of a slice from a DataFrame\n",
            "\n",
            "See the caveats in the documentation: https://pandas.pydata.org/pandas-docs/stable/user_guide/indexing.html#returning-a-view-versus-a-copy\n",
            "  errors=errors,\n"
          ],
          "name": "stderr"
        },
        {
          "output_type": "execute_result",
          "data": {
            "text/html": [
              "<div>\n",
              "<style scoped>\n",
              "    .dataframe tbody tr th:only-of-type {\n",
              "        vertical-align: middle;\n",
              "    }\n",
              "\n",
              "    .dataframe tbody tr th {\n",
              "        vertical-align: top;\n",
              "    }\n",
              "\n",
              "    .dataframe thead th {\n",
              "        text-align: right;\n",
              "    }\n",
              "</style>\n",
              "<table border=\"1\" class=\"dataframe\">\n",
              "  <thead>\n",
              "    <tr style=\"text-align: right;\">\n",
              "      <th></th>\n",
              "      <th>จังหวัด</th>\n",
              "      <th>ผลผลิต_ปรัง(ตัน)</th>\n",
              "      <th>สัดส่วน_ปรัง</th>\n",
              "      <th>เนื้อที่_ปรัง</th>\n",
              "      <th>ผลผลิตต่อเนื้อที่_ปรัง(กก)</th>\n",
              "    </tr>\n",
              "  </thead>\n",
              "  <tbody>\n",
              "    <tr>\n",
              "      <th>2</th>\n",
              "      <td>สุพรรณบุรี</td>\n",
              "      <td>599010</td>\n",
              "      <td>0.0835</td>\n",
              "      <td>830766</td>\n",
              "      <td>721.03</td>\n",
              "    </tr>\n",
              "    <tr>\n",
              "      <th>3</th>\n",
              "      <td>นครสวรรค์</td>\n",
              "      <td>525622</td>\n",
              "      <td>0.0733</td>\n",
              "      <td>782660</td>\n",
              "      <td>671.58</td>\n",
              "    </tr>\n",
              "    <tr>\n",
              "      <th>4</th>\n",
              "      <td>อยุธยา</td>\n",
              "      <td>504311</td>\n",
              "      <td>0.0703</td>\n",
              "      <td>716664</td>\n",
              "      <td>703.69</td>\n",
              "    </tr>\n",
              "    <tr>\n",
              "      <th>5</th>\n",
              "      <td>พิษณุโลก</td>\n",
              "      <td>497596</td>\n",
              "      <td>0.0694</td>\n",
              "      <td>763706</td>\n",
              "      <td>651.55</td>\n",
              "    </tr>\n",
              "    <tr>\n",
              "      <th>6</th>\n",
              "      <td>พิจิตร</td>\n",
              "      <td>444055</td>\n",
              "      <td>0.0619</td>\n",
              "      <td>707051</td>\n",
              "      <td>628.04</td>\n",
              "    </tr>\n",
              "    <tr>\n",
              "      <th>...</th>\n",
              "      <td>...</td>\n",
              "      <td>...</td>\n",
              "      <td>...</td>\n",
              "      <td>...</td>\n",
              "      <td>...</td>\n",
              "    </tr>\n",
              "    <tr>\n",
              "      <th>67</th>\n",
              "      <td>มุกดาหาร</td>\n",
              "      <td>202</td>\n",
              "      <td>0</td>\n",
              "      <td>423</td>\n",
              "      <td>477.54</td>\n",
              "    </tr>\n",
              "    <tr>\n",
              "      <th>68</th>\n",
              "      <td>เลย</td>\n",
              "      <td>167</td>\n",
              "      <td>0</td>\n",
              "      <td>387</td>\n",
              "      <td>431.52</td>\n",
              "    </tr>\n",
              "    <tr>\n",
              "      <th>69</th>\n",
              "      <td>ยะลา</td>\n",
              "      <td>81</td>\n",
              "      <td>0</td>\n",
              "      <td>180</td>\n",
              "      <td>450</td>\n",
              "    </tr>\n",
              "    <tr>\n",
              "      <th>70</th>\n",
              "      <td>ตรัง</td>\n",
              "      <td>70</td>\n",
              "      <td>0</td>\n",
              "      <td>147</td>\n",
              "      <td>476.19</td>\n",
              "    </tr>\n",
              "    <tr>\n",
              "      <th>71</th>\n",
              "      <td>แม่ฮ่องสอน</td>\n",
              "      <td>70</td>\n",
              "      <td>0</td>\n",
              "      <td>120</td>\n",
              "      <td>583.33</td>\n",
              "    </tr>\n",
              "  </tbody>\n",
              "</table>\n",
              "<p>70 rows × 5 columns</p>\n",
              "</div>"
            ],
            "text/plain": [
              "       จังหวัด ผลผลิต_ปรัง(ตัน)  ... เนื้อที่_ปรัง ผลผลิตต่อเนื้อที่_ปรัง(กก)\n",
              "2   สุพรรณบุรี           599010  ...        830766                     721.03\n",
              "3    นครสวรรค์           525622  ...        782660                     671.58\n",
              "4       อยุธยา           504311  ...        716664                     703.69\n",
              "5     พิษณุโลก           497596  ...        763706                     651.55\n",
              "6       พิจิตร           444055  ...        707051                     628.04\n",
              "..         ...              ...  ...           ...                        ...\n",
              "67    มุกดาหาร              202  ...           423                     477.54\n",
              "68         เลย              167  ...           387                     431.52\n",
              "69        ยะลา               81  ...           180                        450\n",
              "70        ตรัง               70  ...           147                     476.19\n",
              "71  แม่ฮ่องสอน               70  ...           120                     583.33\n",
              "\n",
              "[70 rows x 5 columns]"
            ]
          },
          "metadata": {
            "tags": []
          },
          "execution_count": 175
        }
      ]
    },
    {
      "cell_type": "code",
      "metadata": {
        "id": "SOOxEHn6dmBh",
        "colab": {
          "base_uri": "https://localhost:8080/",
          "height": 0
        },
        "outputId": "e66cbdcc-c8a8-40bc-e644-72c5d7934139"
      },
      "source": [
        "ret_prang_2 = plt.boxplot(prang_2['ผลผลิตต่อเนื้อที่_ปรัง(กก)'],vert=False)\n",
        "ret_prang_2"
      ],
      "execution_count": 176,
      "outputs": [
        {
          "output_type": "execute_result",
          "data": {
            "text/plain": [
              "{'boxes': [<matplotlib.lines.Line2D at 0x7fbb73e3e208>],\n",
              " 'caps': [<matplotlib.lines.Line2D at 0x7fbb73e3ec18>,\n",
              "  <matplotlib.lines.Line2D at 0x7fbb73e3ef98>],\n",
              " 'fliers': [<matplotlib.lines.Line2D at 0x7fbb73dc96d8>],\n",
              " 'means': [],\n",
              " 'medians': [<matplotlib.lines.Line2D at 0x7fbb73dc9358>],\n",
              " 'whiskers': [<matplotlib.lines.Line2D at 0x7fbb73e3e518>,\n",
              "  <matplotlib.lines.Line2D at 0x7fbb73e3e898>]}"
            ]
          },
          "metadata": {
            "tags": []
          },
          "execution_count": 176
        },
        {
          "output_type": "display_data",
          "data": {
            "image/png": "[encoded data removed]",
            "text/plain": [
              "<Figure size 432x288 with 1 Axes>"
            ]
          },
          "metadata": {
            "tags": [],
            "needs_background": "light"
          }
        }
      ]
    },
    {
      "cell_type": "code",
      "metadata": {
        "id": "GvH5JT8jd_Kx",
        "colab": {
          "base_uri": "https://localhost:8080/"
        },
        "outputId": "f7b82f6e-5225-4d06-e90c-f946778381f5"
      },
      "source": [
        "ret_prang_2['whiskers'][0].get_xdata()"
      ],
      "execution_count": 177,
      "outputs": [
        {
          "output_type": "execute_result",
          "data": {
            "text/plain": [
              "array([534.7375, 397.83  ])"
            ]
          },
          "metadata": {
            "tags": []
          },
          "execution_count": 177
        }
      ]
    },
    {
      "cell_type": "code",
      "metadata": {
        "id": "4SO8X5IieO9H",
        "colab": {
          "base_uri": "https://localhost:8080/"
        },
        "outputId": "65d55397-5be1-4288-d07f-2335e4791334"
      },
      "source": [
        "ret_prang_2['whiskers'][1].get_xdata()"
      ],
      "execution_count": 178,
      "outputs": [
        {
          "output_type": "execute_result",
          "data": {
            "text/plain": [
              "array([668.585, 755.25 ])"
            ]
          },
          "metadata": {
            "tags": []
          },
          "execution_count": 178
        }
      ]
    },
    {
      "cell_type": "code",
      "metadata": {
        "id": "_uHDI4k6ecK6",
        "colab": {
          "base_uri": "https://localhost:8080/"
        },
        "outputId": "3cac2142-6791-4806-e819-04aece569918"
      },
      "source": [
        "prang_2['ผลผลิตต่อเนื้อที่_ปรัง(กก)'].median()"
      ],
      "execution_count": 179,
      "outputs": [
        {
          "output_type": "execute_result",
          "data": {
            "text/plain": [
              "615.4100000000001"
            ]
          },
          "metadata": {
            "tags": []
          },
          "execution_count": 179
        }
      ]
    },
    {
      "cell_type": "code",
      "metadata": {
        "id": "c-E7YuICejw8",
        "colab": {
          "base_uri": "https://localhost:8080/"
        },
        "outputId": "232c86db-497a-45d9-b8ab-157cf4baa21b"
      },
      "source": [
        "prang_2['ผลผลิตต่อเนื้อที่_ปรัง(กก)'].min()"
      ],
      "execution_count": 180,
      "outputs": [
        {
          "output_type": "execute_result",
          "data": {
            "text/plain": [
              "397.83"
            ]
          },
          "metadata": {
            "tags": []
          },
          "execution_count": 180
        }
      ]
    },
    {
      "cell_type": "code",
      "metadata": {
        "id": "nZBBblBUexvx",
        "colab": {
          "base_uri": "https://localhost:8080/"
        },
        "outputId": "45884480-1abc-4f9e-864d-fb289f9d6fbf"
      },
      "source": [
        "prang_2['ผลผลิตต่อเนื้อที่_ปรัง(กก)'].max()"
      ],
      "execution_count": 181,
      "outputs": [
        {
          "output_type": "execute_result",
          "data": {
            "text/plain": [
              "755.25"
            ]
          },
          "metadata": {
            "tags": []
          },
          "execution_count": 181
        }
      ]
    },
    {
      "cell_type": "markdown",
      "metadata": {
        "id": "bSRKB3AZfF7T"
      },
      "source": [
        "#กลุ่มข้าวนาปรัง\n",
        "* W = 397.83 - 534.7375\n",
        "* X = 534.7375 - 615.410\n",
        "* Y = 615.410 - 668.585\n",
        "* Z = 668.585 - 755.25"
      ]
    },
    {
      "cell_type": "code",
      "metadata": {
        "id": "D77qhcXNe8kF"
      },
      "source": [
        ""
      ],
      "execution_count": 181,
      "outputs": []
    },
    {
      "cell_type": "markdown",
      "metadata": {
        "id": "Paj3UkxbTss5"
      },
      "source": [
        "#เตรียมตารางข้าวนาปรัง"
      ]
    },
    {
      "cell_type": "code",
      "metadata": {
        "id": "KAwJ6P1uTu8x",
        "colab": {
          "base_uri": "https://localhost:8080/",
          "height": 0
        },
        "outputId": "6f129c8b-ed62-4680-b251-9201578c9d9b"
      },
      "source": [
        "prang_2"
      ],
      "execution_count": 182,
      "outputs": [
        {
          "output_type": "execute_result",
          "data": {
            "text/html": [
              "<div>\n",
              "<style scoped>\n",
              "    .dataframe tbody tr th:only-of-type {\n",
              "        vertical-align: middle;\n",
              "    }\n",
              "\n",
              "    .dataframe tbody tr th {\n",
              "        vertical-align: top;\n",
              "    }\n",
              "\n",
              "    .dataframe thead th {\n",
              "        text-align: right;\n",
              "    }\n",
              "</style>\n",
              "<table border=\"1\" class=\"dataframe\">\n",
              "  <thead>\n",
              "    <tr style=\"text-align: right;\">\n",
              "      <th></th>\n",
              "      <th>จังหวัด</th>\n",
              "      <th>ผลผลิต_ปรัง(ตัน)</th>\n",
              "      <th>สัดส่วน_ปรัง</th>\n",
              "      <th>เนื้อที่_ปรัง</th>\n",
              "      <th>ผลผลิตต่อเนื้อที่_ปรัง(กก)</th>\n",
              "    </tr>\n",
              "  </thead>\n",
              "  <tbody>\n",
              "    <tr>\n",
              "      <th>2</th>\n",
              "      <td>สุพรรณบุรี</td>\n",
              "      <td>599010</td>\n",
              "      <td>0.0835</td>\n",
              "      <td>830766</td>\n",
              "      <td>721.03</td>\n",
              "    </tr>\n",
              "    <tr>\n",
              "      <th>3</th>\n",
              "      <td>นครสวรรค์</td>\n",
              "      <td>525622</td>\n",
              "      <td>0.0733</td>\n",
              "      <td>782660</td>\n",
              "      <td>671.58</td>\n",
              "    </tr>\n",
              "    <tr>\n",
              "      <th>4</th>\n",
              "      <td>อยุธยา</td>\n",
              "      <td>504311</td>\n",
              "      <td>0.0703</td>\n",
              "      <td>716664</td>\n",
              "      <td>703.69</td>\n",
              "    </tr>\n",
              "    <tr>\n",
              "      <th>5</th>\n",
              "      <td>พิษณุโลก</td>\n",
              "      <td>497596</td>\n",
              "      <td>0.0694</td>\n",
              "      <td>763706</td>\n",
              "      <td>651.55</td>\n",
              "    </tr>\n",
              "    <tr>\n",
              "      <th>6</th>\n",
              "      <td>พิจิตร</td>\n",
              "      <td>444055</td>\n",
              "      <td>0.0619</td>\n",
              "      <td>707051</td>\n",
              "      <td>628.04</td>\n",
              "    </tr>\n",
              "    <tr>\n",
              "      <th>...</th>\n",
              "      <td>...</td>\n",
              "      <td>...</td>\n",
              "      <td>...</td>\n",
              "      <td>...</td>\n",
              "      <td>...</td>\n",
              "    </tr>\n",
              "    <tr>\n",
              "      <th>67</th>\n",
              "      <td>มุกดาหาร</td>\n",
              "      <td>202</td>\n",
              "      <td>0</td>\n",
              "      <td>423</td>\n",
              "      <td>477.54</td>\n",
              "    </tr>\n",
              "    <tr>\n",
              "      <th>68</th>\n",
              "      <td>เลย</td>\n",
              "      <td>167</td>\n",
              "      <td>0</td>\n",
              "      <td>387</td>\n",
              "      <td>431.52</td>\n",
              "    </tr>\n",
              "    <tr>\n",
              "      <th>69</th>\n",
              "      <td>ยะลา</td>\n",
              "      <td>81</td>\n",
              "      <td>0</td>\n",
              "      <td>180</td>\n",
              "      <td>450</td>\n",
              "    </tr>\n",
              "    <tr>\n",
              "      <th>70</th>\n",
              "      <td>ตรัง</td>\n",
              "      <td>70</td>\n",
              "      <td>0</td>\n",
              "      <td>147</td>\n",
              "      <td>476.19</td>\n",
              "    </tr>\n",
              "    <tr>\n",
              "      <th>71</th>\n",
              "      <td>แม่ฮ่องสอน</td>\n",
              "      <td>70</td>\n",
              "      <td>0</td>\n",
              "      <td>120</td>\n",
              "      <td>583.33</td>\n",
              "    </tr>\n",
              "  </tbody>\n",
              "</table>\n",
              "<p>70 rows × 5 columns</p>\n",
              "</div>"
            ],
            "text/plain": [
              "       จังหวัด ผลผลิต_ปรัง(ตัน)  ... เนื้อที่_ปรัง ผลผลิตต่อเนื้อที่_ปรัง(กก)\n",
              "2   สุพรรณบุรี           599010  ...        830766                     721.03\n",
              "3    นครสวรรค์           525622  ...        782660                     671.58\n",
              "4       อยุธยา           504311  ...        716664                     703.69\n",
              "5     พิษณุโลก           497596  ...        763706                     651.55\n",
              "6       พิจิตร           444055  ...        707051                     628.04\n",
              "..         ...              ...  ...           ...                        ...\n",
              "67    มุกดาหาร              202  ...           423                     477.54\n",
              "68         เลย              167  ...           387                     431.52\n",
              "69        ยะลา               81  ...           180                        450\n",
              "70        ตรัง               70  ...           147                     476.19\n",
              "71  แม่ฮ่องสอน               70  ...           120                     583.33\n",
              "\n",
              "[70 rows x 5 columns]"
            ]
          },
          "metadata": {
            "tags": []
          },
          "execution_count": 182
        }
      ]
    },
    {
      "cell_type": "code",
      "metadata": {
        "id": "14YBFFlXUHx8"
      },
      "source": [
        ""
      ],
      "execution_count": 182,
      "outputs": []
    }
  ]
}