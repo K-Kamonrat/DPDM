{
  "nbformat": 4,
  "nbformat_minor": 0,
  "metadata": {
    "colab": {
      "name": "rice&water.ipynb",
      "provenance": [],
      "include_colab_link": true
    },
    "kernelspec": {
      "name": "python3",
      "display_name": "Python 3"
    }
  },
  "cells": [
    {
      "cell_type": "markdown",
      "metadata": {
        "id": "view-in-github",
        "colab_type": "text"
      },
      "source": [
        "<a href=\"https://colab.research.google.com/github/K-Kamonrat/DPDM/blob/master/rice%26water.ipynb\" target=\"_parent\"><img src=\"https://colab.research.google.com/assets/colab-badge.svg\" alt=\"Open In Colab\"/></a>"
      ]
    },
    {
      "cell_type": "code",
      "metadata": {
        "id": "Qws7_DeuJd2G"
      },
      "source": [
        "import pandas as pd"
      ],
      "execution_count": 2,
      "outputs": []
    },
    {
      "cell_type": "code",
      "metadata": {
        "id": "Vpcyte86nvGi"
      },
      "source": [
        "from matplotlib import pyplot as plt"
      ],
      "execution_count": 3,
      "outputs": []
    },
    {
      "cell_type": "code",
      "metadata": {
        "id": "JHlDWda3JlN7"
      },
      "source": [
        "from google.colab import drive"
      ],
      "execution_count": 4,
      "outputs": []
    },
    {
      "cell_type": "code",
      "metadata": {
        "id": "94vLrEf5J6zF",
        "colab": {
          "base_uri": "https://localhost:8080/"
        },
        "outputId": "7a3e1469-8a58-45f7-a626-883398c25722"
      },
      "source": [
        "drive.mount('/content/drive')"
      ],
      "execution_count": 5,
      "outputs": [
        {
          "output_type": "stream",
          "text": [
            "Mounted at /content/drive\n"
          ],
          "name": "stdout"
        }
      ]
    },
    {
      "cell_type": "code",
      "metadata": {
        "id": "hbrMt6byJ-lE"
      },
      "source": [
        "import os\n",
        "path =  '/content/drive/My Drive/DPDM_Project'"
      ],
      "execution_count": 6,
      "outputs": []
    },
    {
      "cell_type": "code",
      "metadata": {
        "id": "TnF4mABsKK1Z"
      },
      "source": [
        "water = os.path.join(path, 'water.csv')"
      ],
      "execution_count": 7,
      "outputs": []
    },
    {
      "cell_type": "markdown",
      "metadata": {
        "id": "E5_-7JDAbp9S"
      },
      "source": [
        "#น้ำนอกเขตชลประทาน"
      ]
    },
    {
      "cell_type": "code",
      "metadata": {
        "id": "sdsNRWtPKS6x",
        "colab": {
          "base_uri": "https://localhost:8080/",
          "height": 402
        },
        "outputId": "fc89d437-d72a-443d-81a8-182567b21d42"
      },
      "source": [
        "water_df = pd.read_csv(water)\n",
        "water_df"
      ],
      "execution_count": 8,
      "outputs": [
        {
          "output_type": "execute_result",
          "data": {
            "text/html": [
              "<div>\n",
              "<style scoped>\n",
              "    .dataframe tbody tr th:only-of-type {\n",
              "        vertical-align: middle;\n",
              "    }\n",
              "\n",
              "    .dataframe tbody tr th {\n",
              "        vertical-align: top;\n",
              "    }\n",
              "\n",
              "    .dataframe thead th {\n",
              "        text-align: right;\n",
              "    }\n",
              "</style>\n",
              "<table border=\"1\" class=\"dataframe\">\n",
              "  <thead>\n",
              "    <tr style=\"text-align: right;\">\n",
              "      <th></th>\n",
              "      <th>ID</th>\n",
              "      <th>ตำบล</th>\n",
              "      <th>อำเภอ</th>\n",
              "      <th>จังหวัด</th>\n",
              "      <th>พิกัด (X) E</th>\n",
              "      <th>พิกัด (Y) N</th>\n",
              "      <th>ปีงบประมาณ</th>\n",
              "    </tr>\n",
              "  </thead>\n",
              "  <tbody>\n",
              "    <tr>\n",
              "      <th>0</th>\n",
              "      <td>1</td>\n",
              "      <td>เกาะกลาง</td>\n",
              "      <td>เกาะลันตา</td>\n",
              "      <td>กระบี่</td>\n",
              "      <td>505670</td>\n",
              "      <td>858758</td>\n",
              "      <td>2559</td>\n",
              "    </tr>\n",
              "    <tr>\n",
              "      <th>1</th>\n",
              "      <td>2</td>\n",
              "      <td>เกาะกลาง</td>\n",
              "      <td>เกาะลันตา</td>\n",
              "      <td>กระบี่</td>\n",
              "      <td>506333</td>\n",
              "      <td>861539</td>\n",
              "      <td>2559</td>\n",
              "    </tr>\n",
              "    <tr>\n",
              "      <th>2</th>\n",
              "      <td>3</td>\n",
              "      <td>เกาะลันตาน้อย</td>\n",
              "      <td>เกาะลันตา</td>\n",
              "      <td>กระบี่</td>\n",
              "      <td>513081</td>\n",
              "      <td>840391</td>\n",
              "      <td>2559</td>\n",
              "    </tr>\n",
              "    <tr>\n",
              "      <th>3</th>\n",
              "      <td>4</td>\n",
              "      <td>เกาะลันตาน้อย</td>\n",
              "      <td>เกาะลันตา</td>\n",
              "      <td>กระบี่</td>\n",
              "      <td>512434</td>\n",
              "      <td>842817</td>\n",
              "      <td>2559</td>\n",
              "    </tr>\n",
              "    <tr>\n",
              "      <th>4</th>\n",
              "      <td>5</td>\n",
              "      <td>เกาะลันตาน้อย</td>\n",
              "      <td>เกาะลันตา</td>\n",
              "      <td>กระบี่</td>\n",
              "      <td>512451</td>\n",
              "      <td>842706</td>\n",
              "      <td>2559</td>\n",
              "    </tr>\n",
              "    <tr>\n",
              "      <th>...</th>\n",
              "      <td>...</td>\n",
              "      <td>...</td>\n",
              "      <td>...</td>\n",
              "      <td>...</td>\n",
              "      <td>...</td>\n",
              "      <td>...</td>\n",
              "      <td>...</td>\n",
              "    </tr>\n",
              "    <tr>\n",
              "      <th>14426</th>\n",
              "      <td>14427</td>\n",
              "      <td>เหล่าเสือโก้ก</td>\n",
              "      <td>เหล่าเสือโก้ก</td>\n",
              "      <td>อุบลราชธานี</td>\n",
              "      <td>1134830</td>\n",
              "      <td>1709650</td>\n",
              "      <td>2559</td>\n",
              "    </tr>\n",
              "    <tr>\n",
              "      <th>14427</th>\n",
              "      <td>14428</td>\n",
              "      <td>เหล่าเสือโก้ก</td>\n",
              "      <td>เหล่าเสือโก้ก</td>\n",
              "      <td>อุบลราชธานี</td>\n",
              "      <td>1135160</td>\n",
              "      <td>1709614</td>\n",
              "      <td>2559</td>\n",
              "    </tr>\n",
              "    <tr>\n",
              "      <th>14428</th>\n",
              "      <td>14429</td>\n",
              "      <td>เหล่าเสือโก้ก</td>\n",
              "      <td>เหล่าเสือโก้ก</td>\n",
              "      <td>อุบลราชธานี</td>\n",
              "      <td>1134023</td>\n",
              "      <td>1708384</td>\n",
              "      <td>2559</td>\n",
              "    </tr>\n",
              "    <tr>\n",
              "      <th>14429</th>\n",
              "      <td>14430</td>\n",
              "      <td>เหล่าเสือโก้ก</td>\n",
              "      <td>เหล่าเสือโก้ก</td>\n",
              "      <td>อุบลราชธานี</td>\n",
              "      <td>1133663</td>\n",
              "      <td>1710891</td>\n",
              "      <td>2559</td>\n",
              "    </tr>\n",
              "    <tr>\n",
              "      <th>14430</th>\n",
              "      <td>14431</td>\n",
              "      <td>เหล่าเสือโก้ก</td>\n",
              "      <td>เหล่าเสือโก้ก</td>\n",
              "      <td>อุบลราชธานี</td>\n",
              "      <td>1128373</td>\n",
              "      <td>1706009</td>\n",
              "      <td>2559</td>\n",
              "    </tr>\n",
              "  </tbody>\n",
              "</table>\n",
              "<p>14431 rows × 7 columns</p>\n",
              "</div>"
            ],
            "text/plain": [
              "          ID           ตำบล  ... พิกัด (Y) N ปีงบประมาณ\n",
              "0          1       เกาะกลาง  ...      858758       2559\n",
              "1          2       เกาะกลาง  ...      861539       2559\n",
              "2          3  เกาะลันตาน้อย  ...      840391       2559\n",
              "3          4  เกาะลันตาน้อย  ...      842817       2559\n",
              "4          5  เกาะลันตาน้อย  ...      842706       2559\n",
              "...      ...            ...  ...         ...        ...\n",
              "14426  14427  เหล่าเสือโก้ก  ...     1709650       2559\n",
              "14427  14428  เหล่าเสือโก้ก  ...     1709614       2559\n",
              "14428  14429  เหล่าเสือโก้ก  ...     1708384       2559\n",
              "14429  14430  เหล่าเสือโก้ก  ...     1710891       2559\n",
              "14430  14431  เหล่าเสือโก้ก  ...     1706009       2559\n",
              "\n",
              "[14431 rows x 7 columns]"
            ]
          },
          "metadata": {
            "tags": []
          },
          "execution_count": 8
        }
      ]
    },
    {
      "cell_type": "code",
      "metadata": {
        "id": "yEu0YGuIPHMn",
        "colab": {
          "base_uri": "https://localhost:8080/",
          "height": 1000
        },
        "outputId": "1b9e1526-d44a-40c5-a8e5-22ed727baa25"
      },
      "source": [
        "water_number_province =  water_df.groupby('จังหวัด').count()\n",
        "water_number_province"
      ],
      "execution_count": 9,
      "outputs": [
        {
          "output_type": "execute_result",
          "data": {
            "text/html": [
              "<div>\n",
              "<style scoped>\n",
              "    .dataframe tbody tr th:only-of-type {\n",
              "        vertical-align: middle;\n",
              "    }\n",
              "\n",
              "    .dataframe tbody tr th {\n",
              "        vertical-align: top;\n",
              "    }\n",
              "\n",
              "    .dataframe thead th {\n",
              "        text-align: right;\n",
              "    }\n",
              "</style>\n",
              "<table border=\"1\" class=\"dataframe\">\n",
              "  <thead>\n",
              "    <tr style=\"text-align: right;\">\n",
              "      <th></th>\n",
              "      <th>ID</th>\n",
              "      <th>ตำบล</th>\n",
              "      <th>อำเภอ</th>\n",
              "      <th>พิกัด (X) E</th>\n",
              "      <th>พิกัด (Y) N</th>\n",
              "      <th>ปีงบประมาณ</th>\n",
              "    </tr>\n",
              "    <tr>\n",
              "      <th>จังหวัด</th>\n",
              "      <th></th>\n",
              "      <th></th>\n",
              "      <th></th>\n",
              "      <th></th>\n",
              "      <th></th>\n",
              "      <th></th>\n",
              "    </tr>\n",
              "  </thead>\n",
              "  <tbody>\n",
              "    <tr>\n",
              "      <th>กระบี่</th>\n",
              "      <td>28</td>\n",
              "      <td>28</td>\n",
              "      <td>28</td>\n",
              "      <td>28</td>\n",
              "      <td>28</td>\n",
              "      <td>28</td>\n",
              "    </tr>\n",
              "    <tr>\n",
              "      <th>กาญจนบุรี</th>\n",
              "      <td>48</td>\n",
              "      <td>48</td>\n",
              "      <td>48</td>\n",
              "      <td>48</td>\n",
              "      <td>48</td>\n",
              "      <td>48</td>\n",
              "    </tr>\n",
              "    <tr>\n",
              "      <th>กาฬสินธุ์</th>\n",
              "      <td>864</td>\n",
              "      <td>864</td>\n",
              "      <td>864</td>\n",
              "      <td>864</td>\n",
              "      <td>864</td>\n",
              "      <td>864</td>\n",
              "    </tr>\n",
              "    <tr>\n",
              "      <th>กำแพงเพชร</th>\n",
              "      <td>298</td>\n",
              "      <td>298</td>\n",
              "      <td>298</td>\n",
              "      <td>298</td>\n",
              "      <td>298</td>\n",
              "      <td>298</td>\n",
              "    </tr>\n",
              "    <tr>\n",
              "      <th>ขอนแก่น</th>\n",
              "      <td>735</td>\n",
              "      <td>735</td>\n",
              "      <td>735</td>\n",
              "      <td>735</td>\n",
              "      <td>735</td>\n",
              "      <td>735</td>\n",
              "    </tr>\n",
              "    <tr>\n",
              "      <th>จันทบุรี</th>\n",
              "      <td>69</td>\n",
              "      <td>69</td>\n",
              "      <td>69</td>\n",
              "      <td>69</td>\n",
              "      <td>69</td>\n",
              "      <td>69</td>\n",
              "    </tr>\n",
              "    <tr>\n",
              "      <th>ฉะเชิงเทรา</th>\n",
              "      <td>97</td>\n",
              "      <td>97</td>\n",
              "      <td>97</td>\n",
              "      <td>97</td>\n",
              "      <td>97</td>\n",
              "      <td>97</td>\n",
              "    </tr>\n",
              "    <tr>\n",
              "      <th>ชลบุรี</th>\n",
              "      <td>47</td>\n",
              "      <td>47</td>\n",
              "      <td>47</td>\n",
              "      <td>47</td>\n",
              "      <td>47</td>\n",
              "      <td>47</td>\n",
              "    </tr>\n",
              "    <tr>\n",
              "      <th>ชัยนาท</th>\n",
              "      <td>39</td>\n",
              "      <td>39</td>\n",
              "      <td>39</td>\n",
              "      <td>39</td>\n",
              "      <td>39</td>\n",
              "      <td>39</td>\n",
              "    </tr>\n",
              "    <tr>\n",
              "      <th>ชัยภูมิ</th>\n",
              "      <td>979</td>\n",
              "      <td>979</td>\n",
              "      <td>979</td>\n",
              "      <td>979</td>\n",
              "      <td>979</td>\n",
              "      <td>979</td>\n",
              "    </tr>\n",
              "    <tr>\n",
              "      <th>ชุมพร</th>\n",
              "      <td>20</td>\n",
              "      <td>20</td>\n",
              "      <td>20</td>\n",
              "      <td>20</td>\n",
              "      <td>20</td>\n",
              "      <td>20</td>\n",
              "    </tr>\n",
              "    <tr>\n",
              "      <th>ตรัง</th>\n",
              "      <td>20</td>\n",
              "      <td>20</td>\n",
              "      <td>20</td>\n",
              "      <td>20</td>\n",
              "      <td>20</td>\n",
              "      <td>20</td>\n",
              "    </tr>\n",
              "    <tr>\n",
              "      <th>ตราด</th>\n",
              "      <td>13</td>\n",
              "      <td>13</td>\n",
              "      <td>13</td>\n",
              "      <td>13</td>\n",
              "      <td>13</td>\n",
              "      <td>13</td>\n",
              "    </tr>\n",
              "    <tr>\n",
              "      <th>ตาก</th>\n",
              "      <td>123</td>\n",
              "      <td>123</td>\n",
              "      <td>123</td>\n",
              "      <td>123</td>\n",
              "      <td>123</td>\n",
              "      <td>123</td>\n",
              "    </tr>\n",
              "    <tr>\n",
              "      <th>นครพนม</th>\n",
              "      <td>2</td>\n",
              "      <td>2</td>\n",
              "      <td>2</td>\n",
              "      <td>2</td>\n",
              "      <td>2</td>\n",
              "      <td>2</td>\n",
              "    </tr>\n",
              "    <tr>\n",
              "      <th>นครราชสีมา</th>\n",
              "      <td>674</td>\n",
              "      <td>674</td>\n",
              "      <td>674</td>\n",
              "      <td>674</td>\n",
              "      <td>674</td>\n",
              "      <td>674</td>\n",
              "    </tr>\n",
              "    <tr>\n",
              "      <th>นครสวรรค์</th>\n",
              "      <td>249</td>\n",
              "      <td>249</td>\n",
              "      <td>249</td>\n",
              "      <td>249</td>\n",
              "      <td>249</td>\n",
              "      <td>249</td>\n",
              "    </tr>\n",
              "    <tr>\n",
              "      <th>นราธิวาส</th>\n",
              "      <td>19</td>\n",
              "      <td>19</td>\n",
              "      <td>19</td>\n",
              "      <td>19</td>\n",
              "      <td>19</td>\n",
              "      <td>19</td>\n",
              "    </tr>\n",
              "    <tr>\n",
              "      <th>น่าน</th>\n",
              "      <td>50</td>\n",
              "      <td>50</td>\n",
              "      <td>50</td>\n",
              "      <td>50</td>\n",
              "      <td>50</td>\n",
              "      <td>50</td>\n",
              "    </tr>\n",
              "    <tr>\n",
              "      <th>บึงกาฬ</th>\n",
              "      <td>633</td>\n",
              "      <td>633</td>\n",
              "      <td>633</td>\n",
              "      <td>633</td>\n",
              "      <td>633</td>\n",
              "      <td>633</td>\n",
              "    </tr>\n",
              "    <tr>\n",
              "      <th>บุรีรัมย์</th>\n",
              "      <td>476</td>\n",
              "      <td>476</td>\n",
              "      <td>476</td>\n",
              "      <td>476</td>\n",
              "      <td>476</td>\n",
              "      <td>476</td>\n",
              "    </tr>\n",
              "    <tr>\n",
              "      <th>ประจวบคีรีขันธ์</th>\n",
              "      <td>50</td>\n",
              "      <td>50</td>\n",
              "      <td>50</td>\n",
              "      <td>50</td>\n",
              "      <td>50</td>\n",
              "      <td>50</td>\n",
              "    </tr>\n",
              "    <tr>\n",
              "      <th>ปัตตานี</th>\n",
              "      <td>20</td>\n",
              "      <td>20</td>\n",
              "      <td>20</td>\n",
              "      <td>20</td>\n",
              "      <td>20</td>\n",
              "      <td>20</td>\n",
              "    </tr>\n",
              "    <tr>\n",
              "      <th>พะเยา</th>\n",
              "      <td>395</td>\n",
              "      <td>395</td>\n",
              "      <td>395</td>\n",
              "      <td>395</td>\n",
              "      <td>395</td>\n",
              "      <td>395</td>\n",
              "    </tr>\n",
              "    <tr>\n",
              "      <th>พังงา</th>\n",
              "      <td>20</td>\n",
              "      <td>20</td>\n",
              "      <td>20</td>\n",
              "      <td>20</td>\n",
              "      <td>20</td>\n",
              "      <td>20</td>\n",
              "    </tr>\n",
              "    <tr>\n",
              "      <th>พิจิตร</th>\n",
              "      <td>195</td>\n",
              "      <td>195</td>\n",
              "      <td>195</td>\n",
              "      <td>195</td>\n",
              "      <td>195</td>\n",
              "      <td>195</td>\n",
              "    </tr>\n",
              "    <tr>\n",
              "      <th>พิษณุโลก</th>\n",
              "      <td>504</td>\n",
              "      <td>504</td>\n",
              "      <td>504</td>\n",
              "      <td>504</td>\n",
              "      <td>504</td>\n",
              "      <td>504</td>\n",
              "    </tr>\n",
              "    <tr>\n",
              "      <th>มหาสารคาม</th>\n",
              "      <td>115</td>\n",
              "      <td>115</td>\n",
              "      <td>115</td>\n",
              "      <td>115</td>\n",
              "      <td>115</td>\n",
              "      <td>115</td>\n",
              "    </tr>\n",
              "    <tr>\n",
              "      <th>มุกดาหาร</th>\n",
              "      <td>475</td>\n",
              "      <td>475</td>\n",
              "      <td>475</td>\n",
              "      <td>475</td>\n",
              "      <td>475</td>\n",
              "      <td>475</td>\n",
              "    </tr>\n",
              "    <tr>\n",
              "      <th>ยะลา</th>\n",
              "      <td>18</td>\n",
              "      <td>18</td>\n",
              "      <td>18</td>\n",
              "      <td>18</td>\n",
              "      <td>18</td>\n",
              "      <td>18</td>\n",
              "    </tr>\n",
              "    <tr>\n",
              "      <th>ยโสธร</th>\n",
              "      <td>701</td>\n",
              "      <td>701</td>\n",
              "      <td>701</td>\n",
              "      <td>701</td>\n",
              "      <td>701</td>\n",
              "      <td>701</td>\n",
              "    </tr>\n",
              "    <tr>\n",
              "      <th>ระยอง</th>\n",
              "      <td>20</td>\n",
              "      <td>20</td>\n",
              "      <td>20</td>\n",
              "      <td>20</td>\n",
              "      <td>20</td>\n",
              "      <td>20</td>\n",
              "    </tr>\n",
              "    <tr>\n",
              "      <th>ราชบุรี</th>\n",
              "      <td>50</td>\n",
              "      <td>50</td>\n",
              "      <td>50</td>\n",
              "      <td>50</td>\n",
              "      <td>50</td>\n",
              "      <td>50</td>\n",
              "    </tr>\n",
              "    <tr>\n",
              "      <th>ลพบุรี</th>\n",
              "      <td>57</td>\n",
              "      <td>57</td>\n",
              "      <td>57</td>\n",
              "      <td>57</td>\n",
              "      <td>57</td>\n",
              "      <td>57</td>\n",
              "    </tr>\n",
              "    <tr>\n",
              "      <th>ลำปาง</th>\n",
              "      <td>30</td>\n",
              "      <td>30</td>\n",
              "      <td>30</td>\n",
              "      <td>30</td>\n",
              "      <td>30</td>\n",
              "      <td>30</td>\n",
              "    </tr>\n",
              "    <tr>\n",
              "      <th>ลำพูน</th>\n",
              "      <td>51</td>\n",
              "      <td>51</td>\n",
              "      <td>51</td>\n",
              "      <td>51</td>\n",
              "      <td>51</td>\n",
              "      <td>51</td>\n",
              "    </tr>\n",
              "    <tr>\n",
              "      <th>ศรีสะเกษ</th>\n",
              "      <td>123</td>\n",
              "      <td>123</td>\n",
              "      <td>123</td>\n",
              "      <td>123</td>\n",
              "      <td>123</td>\n",
              "      <td>123</td>\n",
              "    </tr>\n",
              "    <tr>\n",
              "      <th>สกลนคร</th>\n",
              "      <td>1148</td>\n",
              "      <td>1148</td>\n",
              "      <td>1148</td>\n",
              "      <td>1148</td>\n",
              "      <td>1148</td>\n",
              "      <td>1148</td>\n",
              "    </tr>\n",
              "    <tr>\n",
              "      <th>สงขลา</th>\n",
              "      <td>20</td>\n",
              "      <td>20</td>\n",
              "      <td>20</td>\n",
              "      <td>20</td>\n",
              "      <td>20</td>\n",
              "      <td>20</td>\n",
              "    </tr>\n",
              "    <tr>\n",
              "      <th>สระบุรี</th>\n",
              "      <td>34</td>\n",
              "      <td>34</td>\n",
              "      <td>34</td>\n",
              "      <td>34</td>\n",
              "      <td>34</td>\n",
              "      <td>34</td>\n",
              "    </tr>\n",
              "    <tr>\n",
              "      <th>สระแก้ว</th>\n",
              "      <td>177</td>\n",
              "      <td>177</td>\n",
              "      <td>177</td>\n",
              "      <td>177</td>\n",
              "      <td>177</td>\n",
              "      <td>177</td>\n",
              "    </tr>\n",
              "    <tr>\n",
              "      <th>สุพรรณบุรี</th>\n",
              "      <td>40</td>\n",
              "      <td>40</td>\n",
              "      <td>40</td>\n",
              "      <td>40</td>\n",
              "      <td>40</td>\n",
              "      <td>40</td>\n",
              "    </tr>\n",
              "    <tr>\n",
              "      <th>สุโขทัย</th>\n",
              "      <td>200</td>\n",
              "      <td>200</td>\n",
              "      <td>200</td>\n",
              "      <td>200</td>\n",
              "      <td>200</td>\n",
              "      <td>200</td>\n",
              "    </tr>\n",
              "    <tr>\n",
              "      <th>หนองคาย</th>\n",
              "      <td>440</td>\n",
              "      <td>440</td>\n",
              "      <td>440</td>\n",
              "      <td>440</td>\n",
              "      <td>440</td>\n",
              "      <td>440</td>\n",
              "    </tr>\n",
              "    <tr>\n",
              "      <th>หนองบัวลำภู</th>\n",
              "      <td>775</td>\n",
              "      <td>775</td>\n",
              "      <td>775</td>\n",
              "      <td>775</td>\n",
              "      <td>775</td>\n",
              "      <td>775</td>\n",
              "    </tr>\n",
              "    <tr>\n",
              "      <th>อำนาจเจริญ</th>\n",
              "      <td>717</td>\n",
              "      <td>717</td>\n",
              "      <td>717</td>\n",
              "      <td>717</td>\n",
              "      <td>717</td>\n",
              "      <td>717</td>\n",
              "    </tr>\n",
              "    <tr>\n",
              "      <th>อุดรธานี</th>\n",
              "      <td>837</td>\n",
              "      <td>837</td>\n",
              "      <td>837</td>\n",
              "      <td>837</td>\n",
              "      <td>837</td>\n",
              "      <td>837</td>\n",
              "    </tr>\n",
              "    <tr>\n",
              "      <th>อุทัยธานี</th>\n",
              "      <td>50</td>\n",
              "      <td>50</td>\n",
              "      <td>50</td>\n",
              "      <td>50</td>\n",
              "      <td>50</td>\n",
              "      <td>50</td>\n",
              "    </tr>\n",
              "    <tr>\n",
              "      <th>อุบลราชธานี</th>\n",
              "      <td>651</td>\n",
              "      <td>651</td>\n",
              "      <td>651</td>\n",
              "      <td>651</td>\n",
              "      <td>651</td>\n",
              "      <td>651</td>\n",
              "    </tr>\n",
              "    <tr>\n",
              "      <th>เชียงราย</th>\n",
              "      <td>150</td>\n",
              "      <td>150</td>\n",
              "      <td>150</td>\n",
              "      <td>150</td>\n",
              "      <td>150</td>\n",
              "      <td>150</td>\n",
              "    </tr>\n",
              "    <tr>\n",
              "      <th>เชียงใหม่</th>\n",
              "      <td>148</td>\n",
              "      <td>148</td>\n",
              "      <td>148</td>\n",
              "      <td>148</td>\n",
              "      <td>148</td>\n",
              "      <td>148</td>\n",
              "    </tr>\n",
              "    <tr>\n",
              "      <th>เพชรบุรี</th>\n",
              "      <td>50</td>\n",
              "      <td>50</td>\n",
              "      <td>50</td>\n",
              "      <td>50</td>\n",
              "      <td>50</td>\n",
              "      <td>50</td>\n",
              "    </tr>\n",
              "    <tr>\n",
              "      <th>เพชรบูรณ์</th>\n",
              "      <td>293</td>\n",
              "      <td>293</td>\n",
              "      <td>293</td>\n",
              "      <td>293</td>\n",
              "      <td>293</td>\n",
              "      <td>293</td>\n",
              "    </tr>\n",
              "    <tr>\n",
              "      <th>เลย</th>\n",
              "      <td>294</td>\n",
              "      <td>294</td>\n",
              "      <td>294</td>\n",
              "      <td>294</td>\n",
              "      <td>294</td>\n",
              "      <td>294</td>\n",
              "    </tr>\n",
              "    <tr>\n",
              "      <th>แพร่</th>\n",
              "      <td>100</td>\n",
              "      <td>100</td>\n",
              "      <td>100</td>\n",
              "      <td>100</td>\n",
              "      <td>100</td>\n",
              "      <td>100</td>\n",
              "    </tr>\n",
              "  </tbody>\n",
              "</table>\n",
              "</div>"
            ],
            "text/plain": [
              "                   ID  ตำบล  อำเภอ  พิกัด (X) E  พิกัด (Y) N  ปีงบประมาณ\n",
              "จังหวัด                                                                 \n",
              "กระบี่             28    28     28           28           28          28\n",
              "กาญจนบุรี          48    48     48           48           48          48\n",
              "กาฬสินธุ์         864   864    864          864          864         864\n",
              "กำแพงเพชร         298   298    298          298          298         298\n",
              "ขอนแก่น           735   735    735          735          735         735\n",
              "จันทบุรี           69    69     69           69           69          69\n",
              "ฉะเชิงเทรา         97    97     97           97           97          97\n",
              "ชลบุรี             47    47     47           47           47          47\n",
              "ชัยนาท             39    39     39           39           39          39\n",
              "ชัยภูมิ           979   979    979          979          979         979\n",
              "ชุมพร              20    20     20           20           20          20\n",
              "ตรัง               20    20     20           20           20          20\n",
              "ตราด               13    13     13           13           13          13\n",
              "ตาก               123   123    123          123          123         123\n",
              "นครพนม              2     2      2            2            2           2\n",
              "นครราชสีมา        674   674    674          674          674         674\n",
              "นครสวรรค์         249   249    249          249          249         249\n",
              "นราธิวาส           19    19     19           19           19          19\n",
              "น่าน               50    50     50           50           50          50\n",
              "บึงกาฬ            633   633    633          633          633         633\n",
              "บุรีรัมย์         476   476    476          476          476         476\n",
              "ประจวบคีรีขันธ์    50    50     50           50           50          50\n",
              "ปัตตานี            20    20     20           20           20          20\n",
              "พะเยา             395   395    395          395          395         395\n",
              "พังงา              20    20     20           20           20          20\n",
              "พิจิตร            195   195    195          195          195         195\n",
              "พิษณุโลก          504   504    504          504          504         504\n",
              "มหาสารคาม         115   115    115          115          115         115\n",
              "มุกดาหาร          475   475    475          475          475         475\n",
              "ยะลา               18    18     18           18           18          18\n",
              "ยโสธร             701   701    701          701          701         701\n",
              "ระยอง              20    20     20           20           20          20\n",
              "ราชบุรี            50    50     50           50           50          50\n",
              "ลพบุรี             57    57     57           57           57          57\n",
              "ลำปาง              30    30     30           30           30          30\n",
              "ลำพูน              51    51     51           51           51          51\n",
              "ศรีสะเกษ          123   123    123          123          123         123\n",
              "สกลนคร           1148  1148   1148         1148         1148        1148\n",
              "สงขลา              20    20     20           20           20          20\n",
              "สระบุรี            34    34     34           34           34          34\n",
              "สระแก้ว           177   177    177          177          177         177\n",
              "สุพรรณบุรี         40    40     40           40           40          40\n",
              "สุโขทัย           200   200    200          200          200         200\n",
              "หนองคาย           440   440    440          440          440         440\n",
              "หนองบัวลำภู       775   775    775          775          775         775\n",
              "อำนาจเจริญ        717   717    717          717          717         717\n",
              "อุดรธานี          837   837    837          837          837         837\n",
              "อุทัยธานี          50    50     50           50           50          50\n",
              "อุบลราชธานี       651   651    651          651          651         651\n",
              "เชียงราย          150   150    150          150          150         150\n",
              "เชียงใหม่         148   148    148          148          148         148\n",
              "เพชรบุรี           50    50     50           50           50          50\n",
              "เพชรบูรณ์         293   293    293          293          293         293\n",
              "เลย               294   294    294          294          294         294\n",
              "แพร่              100   100    100          100          100         100"
            ]
          },
          "metadata": {
            "tags": []
          },
          "execution_count": 9
        }
      ]
    },
    {
      "cell_type": "code",
      "metadata": {
        "id": "AdbIfqP_pu3N",
        "colab": {
          "base_uri": "https://localhost:8080/"
        },
        "outputId": "4ff84307-3da7-401c-ea60-2aed33ca90fc"
      },
      "source": [
        "water_number_province.shape"
      ],
      "execution_count": 10,
      "outputs": [
        {
          "output_type": "execute_result",
          "data": {
            "text/plain": [
              "(55, 6)"
            ]
          },
          "metadata": {
            "tags": []
          },
          "execution_count": 10
        }
      ]
    },
    {
      "cell_type": "code",
      "metadata": {
        "id": "DfquDKv4wVVo",
        "colab": {
          "base_uri": "https://localhost:8080/"
        },
        "outputId": "4a067c7f-1c8e-4d0a-ebfd-d53c2671bafb"
      },
      "source": [
        "water_number_province.sum()"
      ],
      "execution_count": 11,
      "outputs": [
        {
          "output_type": "execute_result",
          "data": {
            "text/plain": [
              "ID             14431\n",
              "ตำบล           14431\n",
              "อำเภอ          14431\n",
              "พิกัด (X) E    14431\n",
              "พิกัด (Y) N    14431\n",
              "ปีงบประมาณ     14431\n",
              "dtype: int64"
            ]
          },
          "metadata": {
            "tags": []
          },
          "execution_count": 11
        }
      ]
    },
    {
      "cell_type": "code",
      "metadata": {
        "id": "N8OMi_tVorm5",
        "colab": {
          "base_uri": "https://localhost:8080/",
          "height": 399
        },
        "outputId": "2428e1ff-ff0a-48e6-fd5b-8b88733554b4"
      },
      "source": [
        "ret_water = plt.boxplot(water_number_province['ID'],vert=False)\n",
        "ret_water"
      ],
      "execution_count": 12,
      "outputs": [
        {
          "output_type": "execute_result",
          "data": {
            "text/plain": [
              "{'boxes': [<matplotlib.lines.Line2D at 0x7ff5fec06780>],\n",
              " 'caps': [<matplotlib.lines.Line2D at 0x7ff5fec1d1d0>,\n",
              "  <matplotlib.lines.Line2D at 0x7ff5fec1d550>],\n",
              " 'fliers': [<matplotlib.lines.Line2D at 0x7ff5fec1dc50>],\n",
              " 'means': [],\n",
              " 'medians': [<matplotlib.lines.Line2D at 0x7ff5fec1d8d0>],\n",
              " 'whiskers': [<matplotlib.lines.Line2D at 0x7ff5fec06a90>,\n",
              "  <matplotlib.lines.Line2D at 0x7ff5fec06e10>]}"
            ]
          },
          "metadata": {
            "tags": []
          },
          "execution_count": 12
        },
        {
          "output_type": "display_data",
          "data": {
            "image/png": "[encoded data removed]",
            "text/plain": [
              "<Figure size 432x288 with 1 Axes>"
            ]
          },
          "metadata": {
            "tags": [],
            "needs_background": "light"
          }
        }
      ]
    },
    {
      "cell_type": "code",
      "metadata": {
        "id": "Ed_LXBittf0W",
        "colab": {
          "base_uri": "https://localhost:8080/"
        },
        "outputId": "e90e0898-028f-48ae-ea0c-ddabfe2b52f6"
      },
      "source": [
        "ret_water['whiskers'][0].get_xdata()"
      ],
      "execution_count": 13,
      "outputs": [
        {
          "output_type": "execute_result",
          "data": {
            "text/plain": [
              "array([39.5,  2. ])"
            ]
          },
          "metadata": {
            "tags": []
          },
          "execution_count": 13
        }
      ]
    },
    {
      "cell_type": "code",
      "metadata": {
        "id": "pLVPfHRxuWx4",
        "colab": {
          "base_uri": "https://localhost:8080/"
        },
        "outputId": "e1ab2215-6e43-4753-bf54-9093a0b92583"
      },
      "source": [
        "ret_water['whiskers'][1].get_xdata()"
      ],
      "execution_count": 14,
      "outputs": [
        {
          "output_type": "execute_result",
          "data": {
            "text/plain": [
              "array([457.5, 979. ])"
            ]
          },
          "metadata": {
            "tags": []
          },
          "execution_count": 14
        }
      ]
    },
    {
      "cell_type": "code",
      "metadata": {
        "id": "DoJaqnHhupRW",
        "colab": {
          "base_uri": "https://localhost:8080/"
        },
        "outputId": "b1f99d7d-8023-41de-9019-8a709b0fa5fc"
      },
      "source": [
        "water_number_province.min()"
      ],
      "execution_count": 15,
      "outputs": [
        {
          "output_type": "execute_result",
          "data": {
            "text/plain": [
              "ID             2\n",
              "ตำบล           2\n",
              "อำเภอ          2\n",
              "พิกัด (X) E    2\n",
              "พิกัด (Y) N    2\n",
              "ปีงบประมาณ     2\n",
              "dtype: int64"
            ]
          },
          "metadata": {
            "tags": []
          },
          "execution_count": 15
        }
      ]
    },
    {
      "cell_type": "code",
      "metadata": {
        "id": "146n1uSSuwRe",
        "colab": {
          "base_uri": "https://localhost:8080/"
        },
        "outputId": "79d41432-1e13-4700-a67d-ceb6ad927cc7"
      },
      "source": [
        "water_number_province.max()"
      ],
      "execution_count": 16,
      "outputs": [
        {
          "output_type": "execute_result",
          "data": {
            "text/plain": [
              "ID             1148\n",
              "ตำบล           1148\n",
              "อำเภอ          1148\n",
              "พิกัด (X) E    1148\n",
              "พิกัด (Y) N    1148\n",
              "ปีงบประมาณ     1148\n",
              "dtype: int64"
            ]
          },
          "metadata": {
            "tags": []
          },
          "execution_count": 16
        }
      ]
    },
    {
      "cell_type": "code",
      "metadata": {
        "id": "anpDUFS3u0Jt",
        "colab": {
          "base_uri": "https://localhost:8080/"
        },
        "outputId": "ce4e6b60-3a6e-463b-c436-d05079c8b820"
      },
      "source": [
        "water_number_province.median()"
      ],
      "execution_count": 17,
      "outputs": [
        {
          "output_type": "execute_result",
          "data": {
            "text/plain": [
              "ID             115.0\n",
              "ตำบล           115.0\n",
              "อำเภอ          115.0\n",
              "พิกัด (X) E    115.0\n",
              "พิกัด (Y) N    115.0\n",
              "ปีงบประมาณ     115.0\n",
              "dtype: float64"
            ]
          },
          "metadata": {
            "tags": []
          },
          "execution_count": 17
        }
      ]
    },
    {
      "cell_type": "markdown",
      "metadata": {
        "id": "qUvAI7p6u5sR"
      },
      "source": [
        "#Water Group\n",
        "* A = 2 -39\n",
        "* B = 40 - 115\n",
        "* C = 116 - 457\n",
        "* D = 458 -1148"
      ]
    },
    {
      "cell_type": "code",
      "metadata": {
        "id": "4V_V3BrTsy-O"
      },
      "source": [
        "#select only column \"จังหวัด\" and \"ID\"\n",
        "water1 = water_number_province.iloc[:,0:1]"
      ],
      "execution_count": 18,
      "outputs": []
    },
    {
      "cell_type": "code",
      "metadata": {
        "id": "Yl2RVbPaupLG",
        "outputId": "1b97c171-5a01-47cd-e834-641dfa1b1067",
        "colab": {
          "base_uri": "https://localhost:8080/",
          "height": 1000
        }
      },
      "source": [
        "water1"
      ],
      "execution_count": 19,
      "outputs": [
        {
          "output_type": "execute_result",
          "data": {
            "text/html": [
              "<div>\n",
              "<style scoped>\n",
              "    .dataframe tbody tr th:only-of-type {\n",
              "        vertical-align: middle;\n",
              "    }\n",
              "\n",
              "    .dataframe tbody tr th {\n",
              "        vertical-align: top;\n",
              "    }\n",
              "\n",
              "    .dataframe thead th {\n",
              "        text-align: right;\n",
              "    }\n",
              "</style>\n",
              "<table border=\"1\" class=\"dataframe\">\n",
              "  <thead>\n",
              "    <tr style=\"text-align: right;\">\n",
              "      <th></th>\n",
              "      <th>ID</th>\n",
              "    </tr>\n",
              "    <tr>\n",
              "      <th>จังหวัด</th>\n",
              "      <th></th>\n",
              "    </tr>\n",
              "  </thead>\n",
              "  <tbody>\n",
              "    <tr>\n",
              "      <th>กระบี่</th>\n",
              "      <td>28</td>\n",
              "    </tr>\n",
              "    <tr>\n",
              "      <th>กาญจนบุรี</th>\n",
              "      <td>48</td>\n",
              "    </tr>\n",
              "    <tr>\n",
              "      <th>กาฬสินธุ์</th>\n",
              "      <td>864</td>\n",
              "    </tr>\n",
              "    <tr>\n",
              "      <th>กำแพงเพชร</th>\n",
              "      <td>298</td>\n",
              "    </tr>\n",
              "    <tr>\n",
              "      <th>ขอนแก่น</th>\n",
              "      <td>735</td>\n",
              "    </tr>\n",
              "    <tr>\n",
              "      <th>จันทบุรี</th>\n",
              "      <td>69</td>\n",
              "    </tr>\n",
              "    <tr>\n",
              "      <th>ฉะเชิงเทรา</th>\n",
              "      <td>97</td>\n",
              "    </tr>\n",
              "    <tr>\n",
              "      <th>ชลบุรี</th>\n",
              "      <td>47</td>\n",
              "    </tr>\n",
              "    <tr>\n",
              "      <th>ชัยนาท</th>\n",
              "      <td>39</td>\n",
              "    </tr>\n",
              "    <tr>\n",
              "      <th>ชัยภูมิ</th>\n",
              "      <td>979</td>\n",
              "    </tr>\n",
              "    <tr>\n",
              "      <th>ชุมพร</th>\n",
              "      <td>20</td>\n",
              "    </tr>\n",
              "    <tr>\n",
              "      <th>ตรัง</th>\n",
              "      <td>20</td>\n",
              "    </tr>\n",
              "    <tr>\n",
              "      <th>ตราด</th>\n",
              "      <td>13</td>\n",
              "    </tr>\n",
              "    <tr>\n",
              "      <th>ตาก</th>\n",
              "      <td>123</td>\n",
              "    </tr>\n",
              "    <tr>\n",
              "      <th>นครพนม</th>\n",
              "      <td>2</td>\n",
              "    </tr>\n",
              "    <tr>\n",
              "      <th>นครราชสีมา</th>\n",
              "      <td>674</td>\n",
              "    </tr>\n",
              "    <tr>\n",
              "      <th>นครสวรรค์</th>\n",
              "      <td>249</td>\n",
              "    </tr>\n",
              "    <tr>\n",
              "      <th>นราธิวาส</th>\n",
              "      <td>19</td>\n",
              "    </tr>\n",
              "    <tr>\n",
              "      <th>น่าน</th>\n",
              "      <td>50</td>\n",
              "    </tr>\n",
              "    <tr>\n",
              "      <th>บึงกาฬ</th>\n",
              "      <td>633</td>\n",
              "    </tr>\n",
              "    <tr>\n",
              "      <th>บุรีรัมย์</th>\n",
              "      <td>476</td>\n",
              "    </tr>\n",
              "    <tr>\n",
              "      <th>ประจวบคีรีขันธ์</th>\n",
              "      <td>50</td>\n",
              "    </tr>\n",
              "    <tr>\n",
              "      <th>ปัตตานี</th>\n",
              "      <td>20</td>\n",
              "    </tr>\n",
              "    <tr>\n",
              "      <th>พะเยา</th>\n",
              "      <td>395</td>\n",
              "    </tr>\n",
              "    <tr>\n",
              "      <th>พังงา</th>\n",
              "      <td>20</td>\n",
              "    </tr>\n",
              "    <tr>\n",
              "      <th>พิจิตร</th>\n",
              "      <td>195</td>\n",
              "    </tr>\n",
              "    <tr>\n",
              "      <th>พิษณุโลก</th>\n",
              "      <td>504</td>\n",
              "    </tr>\n",
              "    <tr>\n",
              "      <th>มหาสารคาม</th>\n",
              "      <td>115</td>\n",
              "    </tr>\n",
              "    <tr>\n",
              "      <th>มุกดาหาร</th>\n",
              "      <td>475</td>\n",
              "    </tr>\n",
              "    <tr>\n",
              "      <th>ยะลา</th>\n",
              "      <td>18</td>\n",
              "    </tr>\n",
              "    <tr>\n",
              "      <th>ยโสธร</th>\n",
              "      <td>701</td>\n",
              "    </tr>\n",
              "    <tr>\n",
              "      <th>ระยอง</th>\n",
              "      <td>20</td>\n",
              "    </tr>\n",
              "    <tr>\n",
              "      <th>ราชบุรี</th>\n",
              "      <td>50</td>\n",
              "    </tr>\n",
              "    <tr>\n",
              "      <th>ลพบุรี</th>\n",
              "      <td>57</td>\n",
              "    </tr>\n",
              "    <tr>\n",
              "      <th>ลำปาง</th>\n",
              "      <td>30</td>\n",
              "    </tr>\n",
              "    <tr>\n",
              "      <th>ลำพูน</th>\n",
              "      <td>51</td>\n",
              "    </tr>\n",
              "    <tr>\n",
              "      <th>ศรีสะเกษ</th>\n",
              "      <td>123</td>\n",
              "    </tr>\n",
              "    <tr>\n",
              "      <th>สกลนคร</th>\n",
              "      <td>1148</td>\n",
              "    </tr>\n",
              "    <tr>\n",
              "      <th>สงขลา</th>\n",
              "      <td>20</td>\n",
              "    </tr>\n",
              "    <tr>\n",
              "      <th>สระบุรี</th>\n",
              "      <td>34</td>\n",
              "    </tr>\n",
              "    <tr>\n",
              "      <th>สระแก้ว</th>\n",
              "      <td>177</td>\n",
              "    </tr>\n",
              "    <tr>\n",
              "      <th>สุพรรณบุรี</th>\n",
              "      <td>40</td>\n",
              "    </tr>\n",
              "    <tr>\n",
              "      <th>สุโขทัย</th>\n",
              "      <td>200</td>\n",
              "    </tr>\n",
              "    <tr>\n",
              "      <th>หนองคาย</th>\n",
              "      <td>440</td>\n",
              "    </tr>\n",
              "    <tr>\n",
              "      <th>หนองบัวลำภู</th>\n",
              "      <td>775</td>\n",
              "    </tr>\n",
              "    <tr>\n",
              "      <th>อำนาจเจริญ</th>\n",
              "      <td>717</td>\n",
              "    </tr>\n",
              "    <tr>\n",
              "      <th>อุดรธานี</th>\n",
              "      <td>837</td>\n",
              "    </tr>\n",
              "    <tr>\n",
              "      <th>อุทัยธานี</th>\n",
              "      <td>50</td>\n",
              "    </tr>\n",
              "    <tr>\n",
              "      <th>อุบลราชธานี</th>\n",
              "      <td>651</td>\n",
              "    </tr>\n",
              "    <tr>\n",
              "      <th>เชียงราย</th>\n",
              "      <td>150</td>\n",
              "    </tr>\n",
              "    <tr>\n",
              "      <th>เชียงใหม่</th>\n",
              "      <td>148</td>\n",
              "    </tr>\n",
              "    <tr>\n",
              "      <th>เพชรบุรี</th>\n",
              "      <td>50</td>\n",
              "    </tr>\n",
              "    <tr>\n",
              "      <th>เพชรบูรณ์</th>\n",
              "      <td>293</td>\n",
              "    </tr>\n",
              "    <tr>\n",
              "      <th>เลย</th>\n",
              "      <td>294</td>\n",
              "    </tr>\n",
              "    <tr>\n",
              "      <th>แพร่</th>\n",
              "      <td>100</td>\n",
              "    </tr>\n",
              "  </tbody>\n",
              "</table>\n",
              "</div>"
            ],
            "text/plain": [
              "                   ID\n",
              "จังหวัด              \n",
              "กระบี่             28\n",
              "กาญจนบุรี          48\n",
              "กาฬสินธุ์         864\n",
              "กำแพงเพชร         298\n",
              "ขอนแก่น           735\n",
              "จันทบุรี           69\n",
              "ฉะเชิงเทรา         97\n",
              "ชลบุรี             47\n",
              "ชัยนาท             39\n",
              "ชัยภูมิ           979\n",
              "ชุมพร              20\n",
              "ตรัง               20\n",
              "ตราด               13\n",
              "ตาก               123\n",
              "นครพนม              2\n",
              "นครราชสีมา        674\n",
              "นครสวรรค์         249\n",
              "นราธิวาส           19\n",
              "น่าน               50\n",
              "บึงกาฬ            633\n",
              "บุรีรัมย์         476\n",
              "ประจวบคีรีขันธ์    50\n",
              "ปัตตานี            20\n",
              "พะเยา             395\n",
              "พังงา              20\n",
              "พิจิตร            195\n",
              "พิษณุโลก          504\n",
              "มหาสารคาม         115\n",
              "มุกดาหาร          475\n",
              "ยะลา               18\n",
              "ยโสธร             701\n",
              "ระยอง              20\n",
              "ราชบุรี            50\n",
              "ลพบุรี             57\n",
              "ลำปาง              30\n",
              "ลำพูน              51\n",
              "ศรีสะเกษ          123\n",
              "สกลนคร           1148\n",
              "สงขลา              20\n",
              "สระบุรี            34\n",
              "สระแก้ว           177\n",
              "สุพรรณบุรี         40\n",
              "สุโขทัย           200\n",
              "หนองคาย           440\n",
              "หนองบัวลำภู       775\n",
              "อำนาจเจริญ        717\n",
              "อุดรธานี          837\n",
              "อุทัยธานี          50\n",
              "อุบลราชธานี       651\n",
              "เชียงราย          150\n",
              "เชียงใหม่         148\n",
              "เพชรบุรี           50\n",
              "เพชรบูรณ์         293\n",
              "เลย               294\n",
              "แพร่              100"
            ]
          },
          "metadata": {
            "tags": []
          },
          "execution_count": 19
        }
      ]
    },
    {
      "cell_type": "code",
      "metadata": {
        "id": "2IXZz9xVKvjO",
        "colab": {
          "base_uri": "https://localhost:8080/"
        },
        "outputId": "28ad624f-8531-4a24-f3fa-dc0e626acb93"
      },
      "source": [
        "water_province = water_df.groupby('จังหวัด')['พิกัด (X) E'].apply(list) #reduced_marketbasket_df = data\n",
        "water_province"
      ],
      "execution_count": 20,
      "outputs": [
        {
          "output_type": "execute_result",
          "data": {
            "text/plain": [
              "จังหวัด\n",
              "กระบี่             [505670, 506333, 513081, 512434, 512451, 50900...\n",
              "กาญจนบุรี          [576560, 576436, 577200, 576421, 577564, 57541...\n",
              "กาฬสินธุ์          [994781, 994743, 998744, 999044, 994711, 99454...\n",
              "กำแพงเพชร          [584110, 583974, 580442, 578640, 580537, 58403...\n",
              "ขอนแก่น            [941894, 944689, 942653, 943287, 943763, 94465...\n",
              "จันทบุรี           [806772, 806053, 806806, 803810, 840014, 85796...\n",
              "ฉะเชิงเทรา         [732420, 731641, 731635, 731008, 730164, 73205...\n",
              "ชลบุรี             [757246, 773766, 758937, 770962, 758795, 76725...\n",
              "ชัยนาท             [596232, 598104, 597668, 598408, 597619, 59754...\n",
              "ชัยภูมิ            [811697, 813512, 809210, 814292, 810713, 80676...\n",
              "ชุมพร              [517313, 523269, 523801, 515842, 512929, 51484...\n",
              "ตรัง               [553590, 557012, 553673, 553768, 546026, 56398...\n",
              "ตราด               [876270, 876358, 864518, 867496, 876428, 87927...\n",
              "ตาก                [501128, 502008, 501438, 502763, 502713, 50166...\n",
              "นครพนม                                            [1055081, 1056396]\n",
              "นครราชสีมา         [817498, 810369, 816244, 811983, 814521, 81312...\n",
              "นครสวรรค์          [643801, 634122, 631827, 632447, 633220, 63354...\n",
              "นราธิวาส           [834269, 834715, 840571, 795100, 794910, 79540...\n",
              "น่าน               [680816, 684863, 683985, 683821, 683578, 69308...\n",
              "บึงกาฬ             [1026967, 1026147, 1027284, 1026834, 1024400, ...\n",
              "บุรีรัมย์          [959697, 959918, 965400, 954022, 951218, 95438...\n",
              "ประจวบคีรีขันธ์    [594634, 594634, 594634, 561874, 570945, 57106...\n",
              "ปัตตานี            [731574, 731602, 772487, 772390, 772041, 77311...\n",
              "พะเยา              [624593, 625195, 621308, 621042, 626618, 62608...\n",
              "พังงา              [440171, 436587, 430506, 430251, 424923, 42964...\n",
              "พิจิตร             [668083, 666972, 665843, 666963, 669201, 67134...\n",
              "พิษณุโลก           [703045, 676392, 678215, 678653, 679948, 67341...\n",
              "มหาสารคาม          [947300, 945759, 945619, 944035, 947790, 94336...\n",
              "มุกดาหาร           [1081006, 1075334, 1067134, 1068098, 1076460, ...\n",
              "ยะลา               [752436, 749715, 752966, 752267, 747634, 74750...\n",
              "ยโสธร              [1072850, 1076871, 1073169, 1077793, 1074008, ...\n",
              "ระยอง              [786579, 781625, 781585, 799739, 799747, 73890...\n",
              "ราชบุรี            [548441, 549517, 554418, 548460, 554304, 54857...\n",
              "ลพบุรี             [681178, 681936, 678850, 683110, 684664, 68452...\n",
              "ลำปาง              [519055, 519318, 519236, 519339, 520175, 51818...\n",
              "ลำพูน              [469540, 470311, 470035, 469945, 470732, 46672...\n",
              "ศรีสะเกษ           [1119661, 1119597, 1119592, 1119765, 1118598, ...\n",
              "สกลนคร             [1013679, 1015055, 1076747, 1069000, 1069343, ...\n",
              "สงขลา              [660331, 660113, 658276, 658332, 658229, 66171...\n",
              "สระบุรี            [717143, 721083, 717120, 720493, 720804, 72046...\n",
              "สระแก้ว            [824510, 820805, 815463, 823008, 818283, 81947...\n",
              "สุพรรณบุรี         [606202, 606034, 606135, 605967, 625457, 62567...\n",
              "สุโขทัย            [548423, 546391, 552846, 540530, 551841, 55295...\n",
              "หนองคาย            [872342, 874588, 874518, 873910, 875897, 87586...\n",
              "หนองบัวลำภู        [845119, 844197, 851903, 848046, 845649, 84767...\n",
              "อำนาจเจริญ         [1108696, 1101395, 1083768, 1109041, 1108028, ...\n",
              "อุดรธานี           [865085, 869633, 866474, 866563, 868554, 86907...\n",
              "อุทัยธานี          [579495, 599406, 583004, 583036, 584610, 58791...\n",
              "อุบลราชธานี        [1145767, 1129279, 1128239, 1150540, 1141908, ...\n",
              "เชียงราย           [623109, 623111, 624386, 622620, 622266, 61898...\n",
              "เชียงใหม่          [487927, 498333, 496928, 496721, 495460, 49615...\n",
              "เพชรบุรี           [577024, 586713, 585160, 583800, 585169, 58506...\n",
              "เพชรบูรณ์          [683437, 684148, 684247, 682635, 681634, 68338...\n",
              "เลย                [795212, 793422, 791834, 794884, 794037, 79491...\n",
              "แพร่               [638140, 637008, 639302, 637010, 637629, 63771...\n",
              "Name: พิกัด (X) E, dtype: object"
            ]
          },
          "metadata": {
            "tags": []
          },
          "execution_count": 20
        }
      ]
    },
    {
      "cell_type": "code",
      "metadata": {
        "id": "T8XNJb4RO8zW",
        "colab": {
          "base_uri": "https://localhost:8080/"
        },
        "outputId": "5d6f7fc9-5104-4f35-c8bb-f6019d17940e"
      },
      "source": [
        "len(water_province)"
      ],
      "execution_count": 21,
      "outputs": [
        {
          "output_type": "execute_result",
          "data": {
            "text/plain": [
              "55"
            ]
          },
          "metadata": {
            "tags": []
          },
          "execution_count": 21
        }
      ]
    },
    {
      "cell_type": "code",
      "metadata": {
        "id": "ojsajKIKsvw_"
      },
      "source": [
        ""
      ],
      "execution_count": 21,
      "outputs": []
    },
    {
      "cell_type": "markdown",
      "metadata": {
        "id": "GK1I_o4eKZ-7"
      },
      "source": [
        "#ตารางข้าวนาปี"
      ]
    },
    {
      "cell_type": "code",
      "metadata": {
        "id": "_Zh47286mtS_"
      },
      "source": [
        "pee = os.path.join(path,'pee.xlsx')\n",
        "pee_1 = pd.read_excel(pee)\n",
        "prang = os.path.join(path,'prang.xlsx')\n",
        "prang_1 = pd.read_excel(prang)"
      ],
      "execution_count": 22,
      "outputs": []
    },
    {
      "cell_type": "code",
      "metadata": {
        "id": "-Id15bPom-gB",
        "colab": {
          "base_uri": "https://localhost:8080/",
          "height": 402
        },
        "outputId": "d31aa8ad-71f8-4419-817c-b16bd3cbe56d"
      },
      "source": [
        "pee_1"
      ],
      "execution_count": 23,
      "outputs": [
        {
          "output_type": "execute_result",
          "data": {
            "text/html": [
              "<div>\n",
              "<style scoped>\n",
              "    .dataframe tbody tr th:only-of-type {\n",
              "        vertical-align: middle;\n",
              "    }\n",
              "\n",
              "    .dataframe tbody tr th {\n",
              "        vertical-align: top;\n",
              "    }\n",
              "\n",
              "    .dataframe thead th {\n",
              "        text-align: right;\n",
              "    }\n",
              "</style>\n",
              "<table border=\"1\" class=\"dataframe\">\n",
              "  <thead>\n",
              "    <tr style=\"text-align: right;\">\n",
              "      <th></th>\n",
              "      <th>สำนักงานเศรษฐกิจการเกษตร | สินค้าเกษตรข้าวนาปี</th>\n",
              "      <th>Unnamed: 1</th>\n",
              "      <th>Unnamed: 2</th>\n",
              "      <th>Unnamed: 3</th>\n",
              "      <th>Unnamed: 4</th>\n",
              "    </tr>\n",
              "  </thead>\n",
              "  <tbody>\n",
              "    <tr>\n",
              "      <th>0</th>\n",
              "      <td>ผลผลิตข้าวนาปีแยกตามจังหวัด ปี 2562</td>\n",
              "      <td>NaN</td>\n",
              "      <td>NaN</td>\n",
              "      <td>NaN</td>\n",
              "      <td>NaN</td>\n",
              "    </tr>\n",
              "    <tr>\n",
              "      <th>1</th>\n",
              "      <td>จังหวัด</td>\n",
              "      <td>ผลผลิต(ตัน)</td>\n",
              "      <td>สัดส่วน</td>\n",
              "      <td>เนื้อที่เก็บเกี่ยว(ไร่)</td>\n",
              "      <td>ผลผลิตต่อเนื้อที่เก็บเกี่ยว(กก.)</td>\n",
              "    </tr>\n",
              "    <tr>\n",
              "      <th>2</th>\n",
              "      <td>อุบลราชธานี</td>\n",
              "      <td>1406996</td>\n",
              "      <td>0.0545</td>\n",
              "      <td>3879360</td>\n",
              "      <td>362.69</td>\n",
              "    </tr>\n",
              "    <tr>\n",
              "      <th>3</th>\n",
              "      <td>นครสวรรค์</td>\n",
              "      <td>1359065</td>\n",
              "      <td>0.0527</td>\n",
              "      <td>2273197</td>\n",
              "      <td>597.87</td>\n",
              "    </tr>\n",
              "    <tr>\n",
              "      <th>4</th>\n",
              "      <td>นครราชสีมา</td>\n",
              "      <td>1101661</td>\n",
              "      <td>0.0427</td>\n",
              "      <td>3035540</td>\n",
              "      <td>362.92</td>\n",
              "    </tr>\n",
              "    <tr>\n",
              "      <th>...</th>\n",
              "      <td>...</td>\n",
              "      <td>...</td>\n",
              "      <td>...</td>\n",
              "      <td>...</td>\n",
              "      <td>...</td>\n",
              "    </tr>\n",
              "    <tr>\n",
              "      <th>74</th>\n",
              "      <td>ชุมพร</td>\n",
              "      <td>1499</td>\n",
              "      <td>0.0001</td>\n",
              "      <td>3374</td>\n",
              "      <td>444.28</td>\n",
              "    </tr>\n",
              "    <tr>\n",
              "      <th>75</th>\n",
              "      <td>สมุทรสงคราม</td>\n",
              "      <td>1493</td>\n",
              "      <td>0.0001</td>\n",
              "      <td>2094</td>\n",
              "      <td>712.99</td>\n",
              "    </tr>\n",
              "    <tr>\n",
              "      <th>76</th>\n",
              "      <td>พังงา</td>\n",
              "      <td>964</td>\n",
              "      <td>0</td>\n",
              "      <td>2976</td>\n",
              "      <td>323.92</td>\n",
              "    </tr>\n",
              "    <tr>\n",
              "      <th>77</th>\n",
              "      <td>ระนอง</td>\n",
              "      <td>259</td>\n",
              "      <td>0</td>\n",
              "      <td>750</td>\n",
              "      <td>345.33</td>\n",
              "    </tr>\n",
              "    <tr>\n",
              "      <th>78</th>\n",
              "      <td>ภูเก็ต</td>\n",
              "      <td>32</td>\n",
              "      <td>0</td>\n",
              "      <td>62</td>\n",
              "      <td>516.13</td>\n",
              "    </tr>\n",
              "  </tbody>\n",
              "</table>\n",
              "<p>79 rows × 5 columns</p>\n",
              "</div>"
            ],
            "text/plain": [
              "   สำนักงานเศรษฐกิจการเกษตร | สินค้าเกษตรข้าวนาปี  ...                        Unnamed: 4\n",
              "0             ผลผลิตข้าวนาปีแยกตามจังหวัด ปี 2562  ...                               NaN\n",
              "1                                         จังหวัด  ...  ผลผลิตต่อเนื้อที่เก็บเกี่ยว(กก.)\n",
              "2                                     อุบลราชธานี  ...                            362.69\n",
              "3                                       นครสวรรค์  ...                            597.87\n",
              "4                                      นครราชสีมา  ...                            362.92\n",
              "..                                            ...  ...                               ...\n",
              "74                                          ชุมพร  ...                            444.28\n",
              "75                                    สมุทรสงคราม  ...                            712.99\n",
              "76                                          พังงา  ...                            323.92\n",
              "77                                          ระนอง  ...                            345.33\n",
              "78                                         ภูเก็ต  ...                            516.13\n",
              "\n",
              "[79 rows x 5 columns]"
            ]
          },
          "metadata": {
            "tags": []
          },
          "execution_count": 23
        }
      ]
    },
    {
      "cell_type": "code",
      "metadata": {
        "id": "eyPdIK_PQhsy",
        "colab": {
          "base_uri": "https://localhost:8080/"
        },
        "outputId": "f212a2ac-f7d0-4422-a863-60efca66cbad"
      },
      "source": [
        "pee_1.index"
      ],
      "execution_count": 24,
      "outputs": [
        {
          "output_type": "execute_result",
          "data": {
            "text/plain": [
              "RangeIndex(start=0, stop=79, step=1)"
            ]
          },
          "metadata": {
            "tags": []
          },
          "execution_count": 24
        }
      ]
    },
    {
      "cell_type": "code",
      "metadata": {
        "id": "uN_0ZyYADFt9"
      },
      "source": [
        "#ตัด 2 แถวแรกออก\n",
        "pee_2 = pee_1.iloc[2:,:]"
      ],
      "execution_count": 25,
      "outputs": []
    },
    {
      "cell_type": "code",
      "metadata": {
        "id": "NO2fyxoHEIQp",
        "colab": {
          "base_uri": "https://localhost:8080/",
          "height": 402
        },
        "outputId": "6a3f8073-7a63-4fe1-b3d4-ac6ae299eff0"
      },
      "source": [
        "pee_2"
      ],
      "execution_count": 26,
      "outputs": [
        {
          "output_type": "execute_result",
          "data": {
            "text/html": [
              "<div>\n",
              "<style scoped>\n",
              "    .dataframe tbody tr th:only-of-type {\n",
              "        vertical-align: middle;\n",
              "    }\n",
              "\n",
              "    .dataframe tbody tr th {\n",
              "        vertical-align: top;\n",
              "    }\n",
              "\n",
              "    .dataframe thead th {\n",
              "        text-align: right;\n",
              "    }\n",
              "</style>\n",
              "<table border=\"1\" class=\"dataframe\">\n",
              "  <thead>\n",
              "    <tr style=\"text-align: right;\">\n",
              "      <th></th>\n",
              "      <th>สำนักงานเศรษฐกิจการเกษตร | สินค้าเกษตรข้าวนาปี</th>\n",
              "      <th>Unnamed: 1</th>\n",
              "      <th>Unnamed: 2</th>\n",
              "      <th>Unnamed: 3</th>\n",
              "      <th>Unnamed: 4</th>\n",
              "    </tr>\n",
              "  </thead>\n",
              "  <tbody>\n",
              "    <tr>\n",
              "      <th>2</th>\n",
              "      <td>อุบลราชธานี</td>\n",
              "      <td>1406996</td>\n",
              "      <td>0.0545</td>\n",
              "      <td>3879360</td>\n",
              "      <td>362.69</td>\n",
              "    </tr>\n",
              "    <tr>\n",
              "      <th>3</th>\n",
              "      <td>นครสวรรค์</td>\n",
              "      <td>1359065</td>\n",
              "      <td>0.0527</td>\n",
              "      <td>2273197</td>\n",
              "      <td>597.87</td>\n",
              "    </tr>\n",
              "    <tr>\n",
              "      <th>4</th>\n",
              "      <td>นครราชสีมา</td>\n",
              "      <td>1101661</td>\n",
              "      <td>0.0427</td>\n",
              "      <td>3035540</td>\n",
              "      <td>362.92</td>\n",
              "    </tr>\n",
              "    <tr>\n",
              "      <th>5</th>\n",
              "      <td>สุรินทร์</td>\n",
              "      <td>1070221</td>\n",
              "      <td>0.0415</td>\n",
              "      <td>2862831</td>\n",
              "      <td>373.83</td>\n",
              "    </tr>\n",
              "    <tr>\n",
              "      <th>6</th>\n",
              "      <td>ร้อยเอ็ด</td>\n",
              "      <td>1058807</td>\n",
              "      <td>0.041</td>\n",
              "      <td>2882337</td>\n",
              "      <td>367.34</td>\n",
              "    </tr>\n",
              "    <tr>\n",
              "      <th>...</th>\n",
              "      <td>...</td>\n",
              "      <td>...</td>\n",
              "      <td>...</td>\n",
              "      <td>...</td>\n",
              "      <td>...</td>\n",
              "    </tr>\n",
              "    <tr>\n",
              "      <th>74</th>\n",
              "      <td>ชุมพร</td>\n",
              "      <td>1499</td>\n",
              "      <td>0.0001</td>\n",
              "      <td>3374</td>\n",
              "      <td>444.28</td>\n",
              "    </tr>\n",
              "    <tr>\n",
              "      <th>75</th>\n",
              "      <td>สมุทรสงคราม</td>\n",
              "      <td>1493</td>\n",
              "      <td>0.0001</td>\n",
              "      <td>2094</td>\n",
              "      <td>712.99</td>\n",
              "    </tr>\n",
              "    <tr>\n",
              "      <th>76</th>\n",
              "      <td>พังงา</td>\n",
              "      <td>964</td>\n",
              "      <td>0</td>\n",
              "      <td>2976</td>\n",
              "      <td>323.92</td>\n",
              "    </tr>\n",
              "    <tr>\n",
              "      <th>77</th>\n",
              "      <td>ระนอง</td>\n",
              "      <td>259</td>\n",
              "      <td>0</td>\n",
              "      <td>750</td>\n",
              "      <td>345.33</td>\n",
              "    </tr>\n",
              "    <tr>\n",
              "      <th>78</th>\n",
              "      <td>ภูเก็ต</td>\n",
              "      <td>32</td>\n",
              "      <td>0</td>\n",
              "      <td>62</td>\n",
              "      <td>516.13</td>\n",
              "    </tr>\n",
              "  </tbody>\n",
              "</table>\n",
              "<p>77 rows × 5 columns</p>\n",
              "</div>"
            ],
            "text/plain": [
              "   สำนักงานเศรษฐกิจการเกษตร | สินค้าเกษตรข้าวนาปี  ... Unnamed: 4\n",
              "2                                     อุบลราชธานี  ...     362.69\n",
              "3                                       นครสวรรค์  ...     597.87\n",
              "4                                      นครราชสีมา  ...     362.92\n",
              "5                                        สุรินทร์  ...     373.83\n",
              "6                                        ร้อยเอ็ด  ...     367.34\n",
              "..                                            ...  ...        ...\n",
              "74                                          ชุมพร  ...     444.28\n",
              "75                                    สมุทรสงคราม  ...     712.99\n",
              "76                                          พังงา  ...     323.92\n",
              "77                                          ระนอง  ...     345.33\n",
              "78                                         ภูเก็ต  ...     516.13\n",
              "\n",
              "[77 rows x 5 columns]"
            ]
          },
          "metadata": {
            "tags": []
          },
          "execution_count": 26
        }
      ]
    },
    {
      "cell_type": "code",
      "metadata": {
        "id": "0Bvv1_gwEPqe",
        "colab": {
          "base_uri": "https://localhost:8080/"
        },
        "outputId": "c5da6f35-5037-406d-959d-880368dd76a6"
      },
      "source": [
        "pee_2.index"
      ],
      "execution_count": 27,
      "outputs": [
        {
          "output_type": "execute_result",
          "data": {
            "text/plain": [
              "RangeIndex(start=2, stop=79, step=1)"
            ]
          },
          "metadata": {
            "tags": []
          },
          "execution_count": 27
        }
      ]
    },
    {
      "cell_type": "code",
      "metadata": {
        "id": "If40oUzhFcOq",
        "colab": {
          "base_uri": "https://localhost:8080/",
          "height": 486
        },
        "outputId": "1f39fc99-8e4f-4e22-f1f0-1e6bc204c8bd"
      },
      "source": [
        "pee_2.rename(columns={'สำนักงานเศรษฐกิจการเกษตร | สินค้าเกษตรข้าวนาปี':'จังหวัด','Unnamed: 1':'ผลผลิต(ตัน)','Unnamed: 2':'สัดส่วน','Unnamed: 3':'เนื้อที่เก็บเกี่ยว','Unnamed: 4':'ผลผลิตต่อเนื้อที่เก็บเกี่ยว(กก)'}, inplace=True)\n",
        "pee_2"
      ],
      "execution_count": 28,
      "outputs": [
        {
          "output_type": "stream",
          "text": [
            "/usr/local/lib/python3.6/dist-packages/pandas/core/frame.py:4308: SettingWithCopyWarning: \n",
            "A value is trying to be set on a copy of a slice from a DataFrame\n",
            "\n",
            "See the caveats in the documentation: https://pandas.pydata.org/pandas-docs/stable/user_guide/indexing.html#returning-a-view-versus-a-copy\n",
            "  errors=errors,\n"
          ],
          "name": "stderr"
        },
        {
          "output_type": "execute_result",
          "data": {
            "text/html": [
              "<div>\n",
              "<style scoped>\n",
              "    .dataframe tbody tr th:only-of-type {\n",
              "        vertical-align: middle;\n",
              "    }\n",
              "\n",
              "    .dataframe tbody tr th {\n",
              "        vertical-align: top;\n",
              "    }\n",
              "\n",
              "    .dataframe thead th {\n",
              "        text-align: right;\n",
              "    }\n",
              "</style>\n",
              "<table border=\"1\" class=\"dataframe\">\n",
              "  <thead>\n",
              "    <tr style=\"text-align: right;\">\n",
              "      <th></th>\n",
              "      <th>จังหวัด</th>\n",
              "      <th>ผลผลิต(ตัน)</th>\n",
              "      <th>สัดส่วน</th>\n",
              "      <th>เนื้อที่เก็บเกี่ยว</th>\n",
              "      <th>ผลผลิตต่อเนื้อที่เก็บเกี่ยว(กก)</th>\n",
              "    </tr>\n",
              "  </thead>\n",
              "  <tbody>\n",
              "    <tr>\n",
              "      <th>2</th>\n",
              "      <td>อุบลราชธานี</td>\n",
              "      <td>1406996</td>\n",
              "      <td>0.0545</td>\n",
              "      <td>3879360</td>\n",
              "      <td>362.69</td>\n",
              "    </tr>\n",
              "    <tr>\n",
              "      <th>3</th>\n",
              "      <td>นครสวรรค์</td>\n",
              "      <td>1359065</td>\n",
              "      <td>0.0527</td>\n",
              "      <td>2273197</td>\n",
              "      <td>597.87</td>\n",
              "    </tr>\n",
              "    <tr>\n",
              "      <th>4</th>\n",
              "      <td>นครราชสีมา</td>\n",
              "      <td>1101661</td>\n",
              "      <td>0.0427</td>\n",
              "      <td>3035540</td>\n",
              "      <td>362.92</td>\n",
              "    </tr>\n",
              "    <tr>\n",
              "      <th>5</th>\n",
              "      <td>สุรินทร์</td>\n",
              "      <td>1070221</td>\n",
              "      <td>0.0415</td>\n",
              "      <td>2862831</td>\n",
              "      <td>373.83</td>\n",
              "    </tr>\n",
              "    <tr>\n",
              "      <th>6</th>\n",
              "      <td>ร้อยเอ็ด</td>\n",
              "      <td>1058807</td>\n",
              "      <td>0.041</td>\n",
              "      <td>2882337</td>\n",
              "      <td>367.34</td>\n",
              "    </tr>\n",
              "    <tr>\n",
              "      <th>...</th>\n",
              "      <td>...</td>\n",
              "      <td>...</td>\n",
              "      <td>...</td>\n",
              "      <td>...</td>\n",
              "      <td>...</td>\n",
              "    </tr>\n",
              "    <tr>\n",
              "      <th>74</th>\n",
              "      <td>ชุมพร</td>\n",
              "      <td>1499</td>\n",
              "      <td>0.0001</td>\n",
              "      <td>3374</td>\n",
              "      <td>444.28</td>\n",
              "    </tr>\n",
              "    <tr>\n",
              "      <th>75</th>\n",
              "      <td>สมุทรสงคราม</td>\n",
              "      <td>1493</td>\n",
              "      <td>0.0001</td>\n",
              "      <td>2094</td>\n",
              "      <td>712.99</td>\n",
              "    </tr>\n",
              "    <tr>\n",
              "      <th>76</th>\n",
              "      <td>พังงา</td>\n",
              "      <td>964</td>\n",
              "      <td>0</td>\n",
              "      <td>2976</td>\n",
              "      <td>323.92</td>\n",
              "    </tr>\n",
              "    <tr>\n",
              "      <th>77</th>\n",
              "      <td>ระนอง</td>\n",
              "      <td>259</td>\n",
              "      <td>0</td>\n",
              "      <td>750</td>\n",
              "      <td>345.33</td>\n",
              "    </tr>\n",
              "    <tr>\n",
              "      <th>78</th>\n",
              "      <td>ภูเก็ต</td>\n",
              "      <td>32</td>\n",
              "      <td>0</td>\n",
              "      <td>62</td>\n",
              "      <td>516.13</td>\n",
              "    </tr>\n",
              "  </tbody>\n",
              "</table>\n",
              "<p>77 rows × 5 columns</p>\n",
              "</div>"
            ],
            "text/plain": [
              "        จังหวัด ผลผลิต(ตัน)  ... เนื้อที่เก็บเกี่ยว ผลผลิตต่อเนื้อที่เก็บเกี่ยว(กก)\n",
              "2   อุบลราชธานี     1406996  ...            3879360                          362.69\n",
              "3     นครสวรรค์     1359065  ...            2273197                          597.87\n",
              "4    นครราชสีมา     1101661  ...            3035540                          362.92\n",
              "5      สุรินทร์     1070221  ...            2862831                          373.83\n",
              "6      ร้อยเอ็ด     1058807  ...            2882337                          367.34\n",
              "..          ...         ...  ...                ...                             ...\n",
              "74        ชุมพร        1499  ...               3374                          444.28\n",
              "75  สมุทรสงคราม        1493  ...               2094                          712.99\n",
              "76        พังงา         964  ...               2976                          323.92\n",
              "77        ระนอง         259  ...                750                          345.33\n",
              "78       ภูเก็ต          32  ...                 62                          516.13\n",
              "\n",
              "[77 rows x 5 columns]"
            ]
          },
          "metadata": {
            "tags": []
          },
          "execution_count": 28
        }
      ]
    },
    {
      "cell_type": "code",
      "metadata": {
        "id": "y-kj7SJoFWX7",
        "colab": {
          "base_uri": "https://localhost:8080/",
          "height": 402
        },
        "outputId": "bbe3bb2a-1b8d-4ec8-940a-9817a006eab1"
      },
      "source": [
        "pee_2"
      ],
      "execution_count": 29,
      "outputs": [
        {
          "output_type": "execute_result",
          "data": {
            "text/html": [
              "<div>\n",
              "<style scoped>\n",
              "    .dataframe tbody tr th:only-of-type {\n",
              "        vertical-align: middle;\n",
              "    }\n",
              "\n",
              "    .dataframe tbody tr th {\n",
              "        vertical-align: top;\n",
              "    }\n",
              "\n",
              "    .dataframe thead th {\n",
              "        text-align: right;\n",
              "    }\n",
              "</style>\n",
              "<table border=\"1\" class=\"dataframe\">\n",
              "  <thead>\n",
              "    <tr style=\"text-align: right;\">\n",
              "      <th></th>\n",
              "      <th>จังหวัด</th>\n",
              "      <th>ผลผลิต(ตัน)</th>\n",
              "      <th>สัดส่วน</th>\n",
              "      <th>เนื้อที่เก็บเกี่ยว</th>\n",
              "      <th>ผลผลิตต่อเนื้อที่เก็บเกี่ยว(กก)</th>\n",
              "    </tr>\n",
              "  </thead>\n",
              "  <tbody>\n",
              "    <tr>\n",
              "      <th>2</th>\n",
              "      <td>อุบลราชธานี</td>\n",
              "      <td>1406996</td>\n",
              "      <td>0.0545</td>\n",
              "      <td>3879360</td>\n",
              "      <td>362.69</td>\n",
              "    </tr>\n",
              "    <tr>\n",
              "      <th>3</th>\n",
              "      <td>นครสวรรค์</td>\n",
              "      <td>1359065</td>\n",
              "      <td>0.0527</td>\n",
              "      <td>2273197</td>\n",
              "      <td>597.87</td>\n",
              "    </tr>\n",
              "    <tr>\n",
              "      <th>4</th>\n",
              "      <td>นครราชสีมา</td>\n",
              "      <td>1101661</td>\n",
              "      <td>0.0427</td>\n",
              "      <td>3035540</td>\n",
              "      <td>362.92</td>\n",
              "    </tr>\n",
              "    <tr>\n",
              "      <th>5</th>\n",
              "      <td>สุรินทร์</td>\n",
              "      <td>1070221</td>\n",
              "      <td>0.0415</td>\n",
              "      <td>2862831</td>\n",
              "      <td>373.83</td>\n",
              "    </tr>\n",
              "    <tr>\n",
              "      <th>6</th>\n",
              "      <td>ร้อยเอ็ด</td>\n",
              "      <td>1058807</td>\n",
              "      <td>0.041</td>\n",
              "      <td>2882337</td>\n",
              "      <td>367.34</td>\n",
              "    </tr>\n",
              "    <tr>\n",
              "      <th>...</th>\n",
              "      <td>...</td>\n",
              "      <td>...</td>\n",
              "      <td>...</td>\n",
              "      <td>...</td>\n",
              "      <td>...</td>\n",
              "    </tr>\n",
              "    <tr>\n",
              "      <th>74</th>\n",
              "      <td>ชุมพร</td>\n",
              "      <td>1499</td>\n",
              "      <td>0.0001</td>\n",
              "      <td>3374</td>\n",
              "      <td>444.28</td>\n",
              "    </tr>\n",
              "    <tr>\n",
              "      <th>75</th>\n",
              "      <td>สมุทรสงคราม</td>\n",
              "      <td>1493</td>\n",
              "      <td>0.0001</td>\n",
              "      <td>2094</td>\n",
              "      <td>712.99</td>\n",
              "    </tr>\n",
              "    <tr>\n",
              "      <th>76</th>\n",
              "      <td>พังงา</td>\n",
              "      <td>964</td>\n",
              "      <td>0</td>\n",
              "      <td>2976</td>\n",
              "      <td>323.92</td>\n",
              "    </tr>\n",
              "    <tr>\n",
              "      <th>77</th>\n",
              "      <td>ระนอง</td>\n",
              "      <td>259</td>\n",
              "      <td>0</td>\n",
              "      <td>750</td>\n",
              "      <td>345.33</td>\n",
              "    </tr>\n",
              "    <tr>\n",
              "      <th>78</th>\n",
              "      <td>ภูเก็ต</td>\n",
              "      <td>32</td>\n",
              "      <td>0</td>\n",
              "      <td>62</td>\n",
              "      <td>516.13</td>\n",
              "    </tr>\n",
              "  </tbody>\n",
              "</table>\n",
              "<p>77 rows × 5 columns</p>\n",
              "</div>"
            ],
            "text/plain": [
              "        จังหวัด ผลผลิต(ตัน)  ... เนื้อที่เก็บเกี่ยว ผลผลิตต่อเนื้อที่เก็บเกี่ยว(กก)\n",
              "2   อุบลราชธานี     1406996  ...            3879360                          362.69\n",
              "3     นครสวรรค์     1359065  ...            2273197                          597.87\n",
              "4    นครราชสีมา     1101661  ...            3035540                          362.92\n",
              "5      สุรินทร์     1070221  ...            2862831                          373.83\n",
              "6      ร้อยเอ็ด     1058807  ...            2882337                          367.34\n",
              "..          ...         ...  ...                ...                             ...\n",
              "74        ชุมพร        1499  ...               3374                          444.28\n",
              "75  สมุทรสงคราม        1493  ...               2094                          712.99\n",
              "76        พังงา         964  ...               2976                          323.92\n",
              "77        ระนอง         259  ...                750                          345.33\n",
              "78       ภูเก็ต          32  ...                 62                          516.13\n",
              "\n",
              "[77 rows x 5 columns]"
            ]
          },
          "metadata": {
            "tags": []
          },
          "execution_count": 29
        }
      ]
    },
    {
      "cell_type": "code",
      "metadata": {
        "id": "-7_oTOZkGAo8",
        "colab": {
          "base_uri": "https://localhost:8080/",
          "height": 399
        },
        "outputId": "905669b4-72e3-483e-8c93-e959e41d0fd1"
      },
      "source": [
        "ret_pee_2 = plt.boxplot(pee_2['ผลผลิตต่อเนื้อที่เก็บเกี่ยว(กก)'],vert=False)\n",
        "ret_pee_2"
      ],
      "execution_count": 30,
      "outputs": [
        {
          "output_type": "execute_result",
          "data": {
            "text/plain": [
              "{'boxes': [<matplotlib.lines.Line2D at 0x7ff6199af860>],\n",
              " 'caps': [<matplotlib.lines.Line2D at 0x7ff5fe60e780>,\n",
              "  <matplotlib.lines.Line2D at 0x7ff5fe61e1d0>],\n",
              " 'fliers': [<matplotlib.lines.Line2D at 0x7ff5fe65a7f0>],\n",
              " 'means': [],\n",
              " 'medians': [<matplotlib.lines.Line2D at 0x7ff5fe65aeb8>],\n",
              " 'whiskers': [<matplotlib.lines.Line2D at 0x7ff5fe60e080>,\n",
              "  <matplotlib.lines.Line2D at 0x7ff5fe60e400>]}"
            ]
          },
          "metadata": {
            "tags": []
          },
          "execution_count": 30
        },
        {
          "output_type": "display_data",
          "data": {
            "image/png": "[encoded data removed]",
            "text/plain": [
              "<Figure size 432x288 with 1 Axes>"
            ]
          },
          "metadata": {
            "tags": [],
            "needs_background": "light"
          }
        }
      ]
    },
    {
      "cell_type": "code",
      "metadata": {
        "id": "Zp61nBCUGXOK",
        "colab": {
          "base_uri": "https://localhost:8080/"
        },
        "outputId": "db2a6024-0a7f-4dd7-fbb6-b5e74b7eb8f6"
      },
      "source": [
        "ret_pee_2['whiskers'][0].get_xdata()"
      ],
      "execution_count": 31,
      "outputs": [
        {
          "output_type": "execute_result",
          "data": {
            "text/plain": [
              "array([370.48, 323.92])"
            ]
          },
          "metadata": {
            "tags": []
          },
          "execution_count": 31
        }
      ]
    },
    {
      "cell_type": "code",
      "metadata": {
        "id": "2ZF8fG_hGefi",
        "colab": {
          "base_uri": "https://localhost:8080/"
        },
        "outputId": "b5ff6eaa-b1a5-40e5-f7b1-975982761a2a"
      },
      "source": [
        "ret_pee_2['whiskers'][1].get_xdata()"
      ],
      "execution_count": 32,
      "outputs": [
        {
          "output_type": "execute_result",
          "data": {
            "text/plain": [
              "array([622.42, 773.27])"
            ]
          },
          "metadata": {
            "tags": []
          },
          "execution_count": 32
        }
      ]
    },
    {
      "cell_type": "code",
      "metadata": {
        "id": "XeDcGnyxGiQS",
        "colab": {
          "base_uri": "https://localhost:8080/"
        },
        "outputId": "e87a2c79-0e3c-4944-d7b6-6f7eb7b4ed37"
      },
      "source": [
        "pee_2.min()"
      ],
      "execution_count": 33,
      "outputs": [
        {
          "output_type": "execute_result",
          "data": {
            "text/plain": [
              "จังหวัด                            กระบี่\n",
              "ผลผลิต(ตัน)                            32\n",
              "สัดส่วน                                 0\n",
              "เนื้อที่เก็บเกี่ยว                     62\n",
              "ผลผลิตต่อเนื้อที่เก็บเกี่ยว(กก)    323.92\n",
              "dtype: object"
            ]
          },
          "metadata": {
            "tags": []
          },
          "execution_count": 33
        }
      ]
    },
    {
      "cell_type": "code",
      "metadata": {
        "id": "71k0r72cG77g",
        "colab": {
          "base_uri": "https://localhost:8080/"
        },
        "outputId": "deb42097-1823-46f5-928d-127cd69ed8a0"
      },
      "source": [
        "pee_2.max()"
      ],
      "execution_count": 34,
      "outputs": [
        {
          "output_type": "execute_result",
          "data": {
            "text/plain": [
              "จังหวัด                            แม่ฮ่องสอน\n",
              "ผลผลิต(ตัน)                           1406996\n",
              "สัดส่วน                                0.0545\n",
              "เนื้อที่เก็บเกี่ยว                    3879360\n",
              "ผลผลิตต่อเนื้อที่เก็บเกี่ยว(กก)        773.27\n",
              "dtype: object"
            ]
          },
          "metadata": {
            "tags": []
          },
          "execution_count": 34
        }
      ]
    },
    {
      "cell_type": "code",
      "metadata": {
        "id": "ms0z68hXJeK9",
        "colab": {
          "base_uri": "https://localhost:8080/"
        },
        "outputId": "098382dc-2837-4c87-e7f6-d646a617be38"
      },
      "source": [
        "pee_2.columns"
      ],
      "execution_count": 35,
      "outputs": [
        {
          "output_type": "execute_result",
          "data": {
            "text/plain": [
              "Index(['จังหวัด', 'ผลผลิต(ตัน)', 'สัดส่วน', 'เนื้อที่เก็บเกี่ยว',\n",
              "       'ผลผลิตต่อเนื้อที่เก็บเกี่ยว(กก)'],\n",
              "      dtype='object')"
            ]
          },
          "metadata": {
            "tags": []
          },
          "execution_count": 35
        }
      ]
    },
    {
      "cell_type": "code",
      "metadata": {
        "id": "hLQi8p0eJyib",
        "colab": {
          "base_uri": "https://localhost:8080/"
        },
        "outputId": "02cf9759-1dea-4e9b-e444-c75f7e03fa5b"
      },
      "source": [
        "pee_2['ผลผลิตต่อเนื้อที่เก็บเกี่ยว(กก)'].median()"
      ],
      "execution_count": 36,
      "outputs": [
        {
          "output_type": "execute_result",
          "data": {
            "text/plain": [
              "482.46"
            ]
          },
          "metadata": {
            "tags": []
          },
          "execution_count": 36
        }
      ]
    },
    {
      "cell_type": "markdown",
      "metadata": {
        "id": "4tkRuIbsR-xg"
      },
      "source": [
        "#เตรียมตารางข้าวนาปี"
      ]
    },
    {
      "cell_type": "markdown",
      "metadata": {
        "id": "Pcxk6frPKUyn"
      },
      "source": [
        "#กลุ่มข้าวนาปี\n",
        "* M = 323.92 - 370.48\n",
        "* N = 370.48 - 482.46\n",
        "* O = 482.46 - 622.42\n",
        "* P = 622.42 - 773.27"
      ]
    },
    {
      "cell_type": "markdown",
      "metadata": {
        "id": "4RuO8EFZvJLs"
      },
      "source": [
        "##เตรียมตารางข้าวนาปี"
      ]
    },
    {
      "cell_type": "code",
      "metadata": {
        "id": "Ov6_igV6SDZ3",
        "outputId": "326effd4-3c66-4ab3-ca3f-0b9c52454c24",
        "colab": {
          "base_uri": "https://localhost:8080/",
          "height": 402
        }
      },
      "source": [
        "pee_2"
      ],
      "execution_count": 53,
      "outputs": [
        {
          "output_type": "execute_result",
          "data": {
            "text/html": [
              "<div>\n",
              "<style scoped>\n",
              "    .dataframe tbody tr th:only-of-type {\n",
              "        vertical-align: middle;\n",
              "    }\n",
              "\n",
              "    .dataframe tbody tr th {\n",
              "        vertical-align: top;\n",
              "    }\n",
              "\n",
              "    .dataframe thead th {\n",
              "        text-align: right;\n",
              "    }\n",
              "</style>\n",
              "<table border=\"1\" class=\"dataframe\">\n",
              "  <thead>\n",
              "    <tr style=\"text-align: right;\">\n",
              "      <th></th>\n",
              "      <th>จังหวัด</th>\n",
              "      <th>ผลผลิต(ตัน)</th>\n",
              "      <th>ผลผลิตต่อเนื้อที่เก็บเกี่ยว(กก)</th>\n",
              "    </tr>\n",
              "  </thead>\n",
              "  <tbody>\n",
              "    <tr>\n",
              "      <th>2</th>\n",
              "      <td>อุบลราชธานี</td>\n",
              "      <td>1406996</td>\n",
              "      <td>362.69</td>\n",
              "    </tr>\n",
              "    <tr>\n",
              "      <th>3</th>\n",
              "      <td>นครสวรรค์</td>\n",
              "      <td>1359065</td>\n",
              "      <td>597.87</td>\n",
              "    </tr>\n",
              "    <tr>\n",
              "      <th>4</th>\n",
              "      <td>นครราชสีมา</td>\n",
              "      <td>1101661</td>\n",
              "      <td>362.92</td>\n",
              "    </tr>\n",
              "    <tr>\n",
              "      <th>5</th>\n",
              "      <td>สุรินทร์</td>\n",
              "      <td>1070221</td>\n",
              "      <td>373.83</td>\n",
              "    </tr>\n",
              "    <tr>\n",
              "      <th>6</th>\n",
              "      <td>ร้อยเอ็ด</td>\n",
              "      <td>1058807</td>\n",
              "      <td>367.34</td>\n",
              "    </tr>\n",
              "    <tr>\n",
              "      <th>...</th>\n",
              "      <td>...</td>\n",
              "      <td>...</td>\n",
              "      <td>...</td>\n",
              "    </tr>\n",
              "    <tr>\n",
              "      <th>74</th>\n",
              "      <td>ชุมพร</td>\n",
              "      <td>1499</td>\n",
              "      <td>444.28</td>\n",
              "    </tr>\n",
              "    <tr>\n",
              "      <th>75</th>\n",
              "      <td>สมุทรสงคราม</td>\n",
              "      <td>1493</td>\n",
              "      <td>712.99</td>\n",
              "    </tr>\n",
              "    <tr>\n",
              "      <th>76</th>\n",
              "      <td>พังงา</td>\n",
              "      <td>964</td>\n",
              "      <td>323.92</td>\n",
              "    </tr>\n",
              "    <tr>\n",
              "      <th>77</th>\n",
              "      <td>ระนอง</td>\n",
              "      <td>259</td>\n",
              "      <td>345.33</td>\n",
              "    </tr>\n",
              "    <tr>\n",
              "      <th>78</th>\n",
              "      <td>ภูเก็ต</td>\n",
              "      <td>32</td>\n",
              "      <td>516.13</td>\n",
              "    </tr>\n",
              "  </tbody>\n",
              "</table>\n",
              "<p>77 rows × 3 columns</p>\n",
              "</div>"
            ],
            "text/plain": [
              "        จังหวัด ผลผลิต(ตัน) ผลผลิตต่อเนื้อที่เก็บเกี่ยว(กก)\n",
              "2   อุบลราชธานี     1406996                          362.69\n",
              "3     นครสวรรค์     1359065                          597.87\n",
              "4    นครราชสีมา     1101661                          362.92\n",
              "5      สุรินทร์     1070221                          373.83\n",
              "6      ร้อยเอ็ด     1058807                          367.34\n",
              "..          ...         ...                             ...\n",
              "74        ชุมพร        1499                          444.28\n",
              "75  สมุทรสงคราม        1493                          712.99\n",
              "76        พังงา         964                          323.92\n",
              "77        ระนอง         259                          345.33\n",
              "78       ภูเก็ต          32                          516.13\n",
              "\n",
              "[77 rows x 3 columns]"
            ]
          },
          "metadata": {
            "tags": []
          },
          "execution_count": 53
        }
      ]
    },
    {
      "cell_type": "code",
      "metadata": {
        "id": "dqU7XIFZSPhK",
        "outputId": "c53ce66a-d8a6-4119-c37b-fcddc2dd7cd6",
        "colab": {
          "base_uri": "https://localhost:8080/"
        }
      },
      "source": [
        "#Check missing value\n",
        "pee_2.isnull().all()"
      ],
      "execution_count": 57,
      "outputs": [
        {
          "output_type": "execute_result",
          "data": {
            "text/plain": [
              "จังหวัด                            False\n",
              "ผลผลิต(ตัน)                        False\n",
              "ผลผลิตต่อเนื้อที่เก็บเกี่ยว(กก)    False\n",
              "dtype: bool"
            ]
          },
          "metadata": {
            "tags": []
          },
          "execution_count": 57
        }
      ]
    },
    {
      "cell_type": "markdown",
      "metadata": {
        "id": "p32h1N4vKfKa"
      },
      "source": [
        "#ตารางข้าวนาปรัง"
      ]
    },
    {
      "cell_type": "code",
      "metadata": {
        "id": "O7Gtop21nkSa",
        "colab": {
          "base_uri": "https://localhost:8080/",
          "height": 402
        },
        "outputId": "db7183d0-f94a-408d-8bb2-58190a82d749"
      },
      "source": [
        "prang_1"
      ],
      "execution_count": 58,
      "outputs": [
        {
          "output_type": "execute_result",
          "data": {
            "text/html": [
              "<div>\n",
              "<style scoped>\n",
              "    .dataframe tbody tr th:only-of-type {\n",
              "        vertical-align: middle;\n",
              "    }\n",
              "\n",
              "    .dataframe tbody tr th {\n",
              "        vertical-align: top;\n",
              "    }\n",
              "\n",
              "    .dataframe thead th {\n",
              "        text-align: right;\n",
              "    }\n",
              "</style>\n",
              "<table border=\"1\" class=\"dataframe\">\n",
              "  <thead>\n",
              "    <tr style=\"text-align: right;\">\n",
              "      <th></th>\n",
              "      <th>สำนักงานเศรษฐกิจการเกษตร | สินค้าเกษตรข้าวนาปรัง</th>\n",
              "      <th>Unnamed: 1</th>\n",
              "      <th>Unnamed: 2</th>\n",
              "      <th>Unnamed: 3</th>\n",
              "      <th>Unnamed: 4</th>\n",
              "    </tr>\n",
              "  </thead>\n",
              "  <tbody>\n",
              "    <tr>\n",
              "      <th>0</th>\n",
              "      <td>ผลผลิตข้าวนาปรังแยกตามจังหวัด ปี 2562</td>\n",
              "      <td>NaN</td>\n",
              "      <td>NaN</td>\n",
              "      <td>NaN</td>\n",
              "      <td>NaN</td>\n",
              "    </tr>\n",
              "    <tr>\n",
              "      <th>1</th>\n",
              "      <td>จังหวัด</td>\n",
              "      <td>ผลผลิต(ตัน)</td>\n",
              "      <td>สัดส่วน</td>\n",
              "      <td>เนื้อที่เก็บเกี่ยว(ไร่)</td>\n",
              "      <td>ผลผลิตต่อเนื้อที่เก็บเกี่ยว(กก.)</td>\n",
              "    </tr>\n",
              "    <tr>\n",
              "      <th>2</th>\n",
              "      <td>สุพรรณบุรี</td>\n",
              "      <td>599010</td>\n",
              "      <td>0.0835</td>\n",
              "      <td>830766</td>\n",
              "      <td>721.03</td>\n",
              "    </tr>\n",
              "    <tr>\n",
              "      <th>3</th>\n",
              "      <td>นครสวรรค์</td>\n",
              "      <td>525622</td>\n",
              "      <td>0.0733</td>\n",
              "      <td>782660</td>\n",
              "      <td>671.58</td>\n",
              "    </tr>\n",
              "    <tr>\n",
              "      <th>4</th>\n",
              "      <td>อยุธยา</td>\n",
              "      <td>504311</td>\n",
              "      <td>0.0703</td>\n",
              "      <td>716664</td>\n",
              "      <td>703.69</td>\n",
              "    </tr>\n",
              "    <tr>\n",
              "      <th>...</th>\n",
              "      <td>...</td>\n",
              "      <td>...</td>\n",
              "      <td>...</td>\n",
              "      <td>...</td>\n",
              "      <td>...</td>\n",
              "    </tr>\n",
              "    <tr>\n",
              "      <th>67</th>\n",
              "      <td>มุกดาหาร</td>\n",
              "      <td>202</td>\n",
              "      <td>0</td>\n",
              "      <td>423</td>\n",
              "      <td>477.54</td>\n",
              "    </tr>\n",
              "    <tr>\n",
              "      <th>68</th>\n",
              "      <td>เลย</td>\n",
              "      <td>167</td>\n",
              "      <td>0</td>\n",
              "      <td>387</td>\n",
              "      <td>431.52</td>\n",
              "    </tr>\n",
              "    <tr>\n",
              "      <th>69</th>\n",
              "      <td>ยะลา</td>\n",
              "      <td>81</td>\n",
              "      <td>0</td>\n",
              "      <td>180</td>\n",
              "      <td>450</td>\n",
              "    </tr>\n",
              "    <tr>\n",
              "      <th>70</th>\n",
              "      <td>ตรัง</td>\n",
              "      <td>70</td>\n",
              "      <td>0</td>\n",
              "      <td>147</td>\n",
              "      <td>476.19</td>\n",
              "    </tr>\n",
              "    <tr>\n",
              "      <th>71</th>\n",
              "      <td>แม่ฮ่องสอน</td>\n",
              "      <td>70</td>\n",
              "      <td>0</td>\n",
              "      <td>120</td>\n",
              "      <td>583.33</td>\n",
              "    </tr>\n",
              "  </tbody>\n",
              "</table>\n",
              "<p>72 rows × 5 columns</p>\n",
              "</div>"
            ],
            "text/plain": [
              "   สำนักงานเศรษฐกิจการเกษตร | สินค้าเกษตรข้าวนาปรัง  ...                        Unnamed: 4\n",
              "0             ผลผลิตข้าวนาปรังแยกตามจังหวัด ปี 2562  ...                               NaN\n",
              "1                                           จังหวัด  ...  ผลผลิตต่อเนื้อที่เก็บเกี่ยว(กก.)\n",
              "2                                        สุพรรณบุรี  ...                            721.03\n",
              "3                                         นครสวรรค์  ...                            671.58\n",
              "4                                            อยุธยา  ...                            703.69\n",
              "..                                              ...  ...                               ...\n",
              "67                                         มุกดาหาร  ...                            477.54\n",
              "68                                              เลย  ...                            431.52\n",
              "69                                             ยะลา  ...                               450\n",
              "70                                             ตรัง  ...                            476.19\n",
              "71                                       แม่ฮ่องสอน  ...                            583.33\n",
              "\n",
              "[72 rows x 5 columns]"
            ]
          },
          "metadata": {
            "tags": []
          },
          "execution_count": 58
        }
      ]
    },
    {
      "cell_type": "code",
      "metadata": {
        "id": "aiQfEE_MAQLc"
      },
      "source": [
        "#ตัด 2 แถวแรกออก\n",
        "prang_2 = prang_1.iloc[2:,:]"
      ],
      "execution_count": 59,
      "outputs": []
    },
    {
      "cell_type": "code",
      "metadata": {
        "id": "KcpuK3vAb9Nf",
        "colab": {
          "base_uri": "https://localhost:8080/",
          "height": 402
        },
        "outputId": "6bbb029b-3f57-4e43-896c-149ea9997b6f"
      },
      "source": [
        "prang_2"
      ],
      "execution_count": 60,
      "outputs": [
        {
          "output_type": "execute_result",
          "data": {
            "text/html": [
              "<div>\n",
              "<style scoped>\n",
              "    .dataframe tbody tr th:only-of-type {\n",
              "        vertical-align: middle;\n",
              "    }\n",
              "\n",
              "    .dataframe tbody tr th {\n",
              "        vertical-align: top;\n",
              "    }\n",
              "\n",
              "    .dataframe thead th {\n",
              "        text-align: right;\n",
              "    }\n",
              "</style>\n",
              "<table border=\"1\" class=\"dataframe\">\n",
              "  <thead>\n",
              "    <tr style=\"text-align: right;\">\n",
              "      <th></th>\n",
              "      <th>สำนักงานเศรษฐกิจการเกษตร | สินค้าเกษตรข้าวนาปรัง</th>\n",
              "      <th>Unnamed: 1</th>\n",
              "      <th>Unnamed: 2</th>\n",
              "      <th>Unnamed: 3</th>\n",
              "      <th>Unnamed: 4</th>\n",
              "    </tr>\n",
              "  </thead>\n",
              "  <tbody>\n",
              "    <tr>\n",
              "      <th>2</th>\n",
              "      <td>สุพรรณบุรี</td>\n",
              "      <td>599010</td>\n",
              "      <td>0.0835</td>\n",
              "      <td>830766</td>\n",
              "      <td>721.03</td>\n",
              "    </tr>\n",
              "    <tr>\n",
              "      <th>3</th>\n",
              "      <td>นครสวรรค์</td>\n",
              "      <td>525622</td>\n",
              "      <td>0.0733</td>\n",
              "      <td>782660</td>\n",
              "      <td>671.58</td>\n",
              "    </tr>\n",
              "    <tr>\n",
              "      <th>4</th>\n",
              "      <td>อยุธยา</td>\n",
              "      <td>504311</td>\n",
              "      <td>0.0703</td>\n",
              "      <td>716664</td>\n",
              "      <td>703.69</td>\n",
              "    </tr>\n",
              "    <tr>\n",
              "      <th>5</th>\n",
              "      <td>พิษณุโลก</td>\n",
              "      <td>497596</td>\n",
              "      <td>0.0694</td>\n",
              "      <td>763706</td>\n",
              "      <td>651.55</td>\n",
              "    </tr>\n",
              "    <tr>\n",
              "      <th>6</th>\n",
              "      <td>พิจิตร</td>\n",
              "      <td>444055</td>\n",
              "      <td>0.0619</td>\n",
              "      <td>707051</td>\n",
              "      <td>628.04</td>\n",
              "    </tr>\n",
              "    <tr>\n",
              "      <th>...</th>\n",
              "      <td>...</td>\n",
              "      <td>...</td>\n",
              "      <td>...</td>\n",
              "      <td>...</td>\n",
              "      <td>...</td>\n",
              "    </tr>\n",
              "    <tr>\n",
              "      <th>67</th>\n",
              "      <td>มุกดาหาร</td>\n",
              "      <td>202</td>\n",
              "      <td>0</td>\n",
              "      <td>423</td>\n",
              "      <td>477.54</td>\n",
              "    </tr>\n",
              "    <tr>\n",
              "      <th>68</th>\n",
              "      <td>เลย</td>\n",
              "      <td>167</td>\n",
              "      <td>0</td>\n",
              "      <td>387</td>\n",
              "      <td>431.52</td>\n",
              "    </tr>\n",
              "    <tr>\n",
              "      <th>69</th>\n",
              "      <td>ยะลา</td>\n",
              "      <td>81</td>\n",
              "      <td>0</td>\n",
              "      <td>180</td>\n",
              "      <td>450</td>\n",
              "    </tr>\n",
              "    <tr>\n",
              "      <th>70</th>\n",
              "      <td>ตรัง</td>\n",
              "      <td>70</td>\n",
              "      <td>0</td>\n",
              "      <td>147</td>\n",
              "      <td>476.19</td>\n",
              "    </tr>\n",
              "    <tr>\n",
              "      <th>71</th>\n",
              "      <td>แม่ฮ่องสอน</td>\n",
              "      <td>70</td>\n",
              "      <td>0</td>\n",
              "      <td>120</td>\n",
              "      <td>583.33</td>\n",
              "    </tr>\n",
              "  </tbody>\n",
              "</table>\n",
              "<p>70 rows × 5 columns</p>\n",
              "</div>"
            ],
            "text/plain": [
              "   สำนักงานเศรษฐกิจการเกษตร | สินค้าเกษตรข้าวนาปรัง  ... Unnamed: 4\n",
              "2                                        สุพรรณบุรี  ...     721.03\n",
              "3                                         นครสวรรค์  ...     671.58\n",
              "4                                            อยุธยา  ...     703.69\n",
              "5                                          พิษณุโลก  ...     651.55\n",
              "6                                            พิจิตร  ...     628.04\n",
              "..                                              ...  ...        ...\n",
              "67                                         มุกดาหาร  ...     477.54\n",
              "68                                              เลย  ...     431.52\n",
              "69                                             ยะลา  ...        450\n",
              "70                                             ตรัง  ...     476.19\n",
              "71                                       แม่ฮ่องสอน  ...     583.33\n",
              "\n",
              "[70 rows x 5 columns]"
            ]
          },
          "metadata": {
            "tags": []
          },
          "execution_count": 60
        }
      ]
    },
    {
      "cell_type": "code",
      "metadata": {
        "id": "VTznoSkTdA-q",
        "colab": {
          "base_uri": "https://localhost:8080/",
          "height": 486
        },
        "outputId": "e961ee0b-f367-4eca-8289-a6f605750dae"
      },
      "source": [
        "prang_2.rename(columns={'สำนักงานเศรษฐกิจการเกษตร | สินค้าเกษตรข้าวนาปรัง':'จังหวัด','Unnamed: 1':'ผลผลิต_ปรัง(ตัน)','Unnamed: 2':'สัดส่วน_ปรัง','Unnamed: 3':'เนื้อที่_ปรัง','Unnamed: 4':'ผลผลิตต่อเนื้อที่_ปรัง(กก)'}, inplace=True)\n",
        "prang_2"
      ],
      "execution_count": 61,
      "outputs": [
        {
          "output_type": "stream",
          "text": [
            "/usr/local/lib/python3.6/dist-packages/pandas/core/frame.py:4308: SettingWithCopyWarning: \n",
            "A value is trying to be set on a copy of a slice from a DataFrame\n",
            "\n",
            "See the caveats in the documentation: https://pandas.pydata.org/pandas-docs/stable/user_guide/indexing.html#returning-a-view-versus-a-copy\n",
            "  errors=errors,\n"
          ],
          "name": "stderr"
        },
        {
          "output_type": "execute_result",
          "data": {
            "text/html": [
              "<div>\n",
              "<style scoped>\n",
              "    .dataframe tbody tr th:only-of-type {\n",
              "        vertical-align: middle;\n",
              "    }\n",
              "\n",
              "    .dataframe tbody tr th {\n",
              "        vertical-align: top;\n",
              "    }\n",
              "\n",
              "    .dataframe thead th {\n",
              "        text-align: right;\n",
              "    }\n",
              "</style>\n",
              "<table border=\"1\" class=\"dataframe\">\n",
              "  <thead>\n",
              "    <tr style=\"text-align: right;\">\n",
              "      <th></th>\n",
              "      <th>จังหวัด</th>\n",
              "      <th>ผลผลิต_ปรัง(ตัน)</th>\n",
              "      <th>สัดส่วน_ปรัง</th>\n",
              "      <th>เนื้อที่_ปรัง</th>\n",
              "      <th>ผลผลิตต่อเนื้อที่_ปรัง(กก)</th>\n",
              "    </tr>\n",
              "  </thead>\n",
              "  <tbody>\n",
              "    <tr>\n",
              "      <th>2</th>\n",
              "      <td>สุพรรณบุรี</td>\n",
              "      <td>599010</td>\n",
              "      <td>0.0835</td>\n",
              "      <td>830766</td>\n",
              "      <td>721.03</td>\n",
              "    </tr>\n",
              "    <tr>\n",
              "      <th>3</th>\n",
              "      <td>นครสวรรค์</td>\n",
              "      <td>525622</td>\n",
              "      <td>0.0733</td>\n",
              "      <td>782660</td>\n",
              "      <td>671.58</td>\n",
              "    </tr>\n",
              "    <tr>\n",
              "      <th>4</th>\n",
              "      <td>อยุธยา</td>\n",
              "      <td>504311</td>\n",
              "      <td>0.0703</td>\n",
              "      <td>716664</td>\n",
              "      <td>703.69</td>\n",
              "    </tr>\n",
              "    <tr>\n",
              "      <th>5</th>\n",
              "      <td>พิษณุโลก</td>\n",
              "      <td>497596</td>\n",
              "      <td>0.0694</td>\n",
              "      <td>763706</td>\n",
              "      <td>651.55</td>\n",
              "    </tr>\n",
              "    <tr>\n",
              "      <th>6</th>\n",
              "      <td>พิจิตร</td>\n",
              "      <td>444055</td>\n",
              "      <td>0.0619</td>\n",
              "      <td>707051</td>\n",
              "      <td>628.04</td>\n",
              "    </tr>\n",
              "    <tr>\n",
              "      <th>...</th>\n",
              "      <td>...</td>\n",
              "      <td>...</td>\n",
              "      <td>...</td>\n",
              "      <td>...</td>\n",
              "      <td>...</td>\n",
              "    </tr>\n",
              "    <tr>\n",
              "      <th>67</th>\n",
              "      <td>มุกดาหาร</td>\n",
              "      <td>202</td>\n",
              "      <td>0</td>\n",
              "      <td>423</td>\n",
              "      <td>477.54</td>\n",
              "    </tr>\n",
              "    <tr>\n",
              "      <th>68</th>\n",
              "      <td>เลย</td>\n",
              "      <td>167</td>\n",
              "      <td>0</td>\n",
              "      <td>387</td>\n",
              "      <td>431.52</td>\n",
              "    </tr>\n",
              "    <tr>\n",
              "      <th>69</th>\n",
              "      <td>ยะลา</td>\n",
              "      <td>81</td>\n",
              "      <td>0</td>\n",
              "      <td>180</td>\n",
              "      <td>450</td>\n",
              "    </tr>\n",
              "    <tr>\n",
              "      <th>70</th>\n",
              "      <td>ตรัง</td>\n",
              "      <td>70</td>\n",
              "      <td>0</td>\n",
              "      <td>147</td>\n",
              "      <td>476.19</td>\n",
              "    </tr>\n",
              "    <tr>\n",
              "      <th>71</th>\n",
              "      <td>แม่ฮ่องสอน</td>\n",
              "      <td>70</td>\n",
              "      <td>0</td>\n",
              "      <td>120</td>\n",
              "      <td>583.33</td>\n",
              "    </tr>\n",
              "  </tbody>\n",
              "</table>\n",
              "<p>70 rows × 5 columns</p>\n",
              "</div>"
            ],
            "text/plain": [
              "       จังหวัด ผลผลิต_ปรัง(ตัน)  ... เนื้อที่_ปรัง ผลผลิตต่อเนื้อที่_ปรัง(กก)\n",
              "2   สุพรรณบุรี           599010  ...        830766                     721.03\n",
              "3    นครสวรรค์           525622  ...        782660                     671.58\n",
              "4       อยุธยา           504311  ...        716664                     703.69\n",
              "5     พิษณุโลก           497596  ...        763706                     651.55\n",
              "6       พิจิตร           444055  ...        707051                     628.04\n",
              "..         ...              ...  ...           ...                        ...\n",
              "67    มุกดาหาร              202  ...           423                     477.54\n",
              "68         เลย              167  ...           387                     431.52\n",
              "69        ยะลา               81  ...           180                        450\n",
              "70        ตรัง               70  ...           147                     476.19\n",
              "71  แม่ฮ่องสอน               70  ...           120                     583.33\n",
              "\n",
              "[70 rows x 5 columns]"
            ]
          },
          "metadata": {
            "tags": []
          },
          "execution_count": 61
        }
      ]
    },
    {
      "cell_type": "code",
      "metadata": {
        "id": "SOOxEHn6dmBh",
        "colab": {
          "base_uri": "https://localhost:8080/",
          "height": 399
        },
        "outputId": "f038e260-edd4-4edc-9c00-1fd7042c8c48"
      },
      "source": [
        "ret_prang_2 = plt.boxplot(prang_2['ผลผลิตต่อเนื้อที่_ปรัง(กก)'],vert=False)\n",
        "ret_prang_2"
      ],
      "execution_count": 62,
      "outputs": [
        {
          "output_type": "execute_result",
          "data": {
            "text/plain": [
              "{'boxes': [<matplotlib.lines.Line2D at 0x7ff5fe291198>],\n",
              " 'caps': [<matplotlib.lines.Line2D at 0x7ff5fe291ba8>,\n",
              "  <matplotlib.lines.Line2D at 0x7ff5fe291f28>],\n",
              " 'fliers': [<matplotlib.lines.Line2D at 0x7ff5fe29d668>],\n",
              " 'means': [],\n",
              " 'medians': [<matplotlib.lines.Line2D at 0x7ff5fe29d2e8>],\n",
              " 'whiskers': [<matplotlib.lines.Line2D at 0x7ff5fe2914a8>,\n",
              "  <matplotlib.lines.Line2D at 0x7ff5fe291828>]}"
            ]
          },
          "metadata": {
            "tags": []
          },
          "execution_count": 62
        },
        {
          "output_type": "display_data",
          "data": {
            "image/png": "[encoded data removed]",
            "text/plain": [
              "<Figure size 432x288 with 1 Axes>"
            ]
          },
          "metadata": {
            "tags": [],
            "needs_background": "light"
          }
        }
      ]
    },
    {
      "cell_type": "code",
      "metadata": {
        "id": "GvH5JT8jd_Kx",
        "colab": {
          "base_uri": "https://localhost:8080/"
        },
        "outputId": "48628b66-e3dc-4236-b918-ecb8025f588a"
      },
      "source": [
        "ret_prang_2['whiskers'][0].get_xdata()"
      ],
      "execution_count": 63,
      "outputs": [
        {
          "output_type": "execute_result",
          "data": {
            "text/plain": [
              "array([534.7375, 397.83  ])"
            ]
          },
          "metadata": {
            "tags": []
          },
          "execution_count": 63
        }
      ]
    },
    {
      "cell_type": "code",
      "metadata": {
        "id": "4SO8X5IieO9H",
        "colab": {
          "base_uri": "https://localhost:8080/"
        },
        "outputId": "77c28f3d-7508-4f48-9be6-ac035163477b"
      },
      "source": [
        "ret_prang_2['whiskers'][1].get_xdata()"
      ],
      "execution_count": 64,
      "outputs": [
        {
          "output_type": "execute_result",
          "data": {
            "text/plain": [
              "array([668.585, 755.25 ])"
            ]
          },
          "metadata": {
            "tags": []
          },
          "execution_count": 64
        }
      ]
    },
    {
      "cell_type": "code",
      "metadata": {
        "id": "_uHDI4k6ecK6",
        "colab": {
          "base_uri": "https://localhost:8080/"
        },
        "outputId": "4e9388c2-7cf5-462d-f3ea-e50da6f1d3fd"
      },
      "source": [
        "prang_2['ผลผลิตต่อเนื้อที่_ปรัง(กก)'].median()"
      ],
      "execution_count": 65,
      "outputs": [
        {
          "output_type": "execute_result",
          "data": {
            "text/plain": [
              "615.4100000000001"
            ]
          },
          "metadata": {
            "tags": []
          },
          "execution_count": 65
        }
      ]
    },
    {
      "cell_type": "code",
      "metadata": {
        "id": "c-E7YuICejw8",
        "colab": {
          "base_uri": "https://localhost:8080/"
        },
        "outputId": "a6f0755c-c731-4355-98f5-3f7f95cbdfc4"
      },
      "source": [
        "prang_2['ผลผลิตต่อเนื้อที่_ปรัง(กก)'].min()"
      ],
      "execution_count": 66,
      "outputs": [
        {
          "output_type": "execute_result",
          "data": {
            "text/plain": [
              "397.83"
            ]
          },
          "metadata": {
            "tags": []
          },
          "execution_count": 66
        }
      ]
    },
    {
      "cell_type": "code",
      "metadata": {
        "id": "nZBBblBUexvx",
        "colab": {
          "base_uri": "https://localhost:8080/"
        },
        "outputId": "574b60d8-5074-4432-e4b9-f5f90a8640e0"
      },
      "source": [
        "prang_2['ผลผลิตต่อเนื้อที่_ปรัง(กก)'].max()"
      ],
      "execution_count": 67,
      "outputs": [
        {
          "output_type": "execute_result",
          "data": {
            "text/plain": [
              "755.25"
            ]
          },
          "metadata": {
            "tags": []
          },
          "execution_count": 67
        }
      ]
    },
    {
      "cell_type": "markdown",
      "metadata": {
        "id": "bSRKB3AZfF7T"
      },
      "source": [
        "#กลุ่มข้าวนาปรัง\n",
        "* W = 397.83 - 534.7375\n",
        "* X = 534.7375 - 615.410\n",
        "* Y = 615.410 - 668.585\n",
        "* Z = 668.585 - 755.25"
      ]
    },
    {
      "cell_type": "code",
      "metadata": {
        "id": "D77qhcXNe8kF"
      },
      "source": [
        ""
      ],
      "execution_count": 47,
      "outputs": []
    },
    {
      "cell_type": "markdown",
      "metadata": {
        "id": "Paj3UkxbTss5"
      },
      "source": [
        "#เตรียมตารางข้าวนาปรัง"
      ]
    },
    {
      "cell_type": "code",
      "metadata": {
        "id": "KAwJ6P1uTu8x",
        "outputId": "7d2598b8-3191-4678-ff98-cf15b27524cf",
        "colab": {
          "base_uri": "https://localhost:8080/",
          "height": 402
        }
      },
      "source": [
        "prang_2"
      ],
      "execution_count": 68,
      "outputs": [
        {
          "output_type": "execute_result",
          "data": {
            "text/html": [
              "<div>\n",
              "<style scoped>\n",
              "    .dataframe tbody tr th:only-of-type {\n",
              "        vertical-align: middle;\n",
              "    }\n",
              "\n",
              "    .dataframe tbody tr th {\n",
              "        vertical-align: top;\n",
              "    }\n",
              "\n",
              "    .dataframe thead th {\n",
              "        text-align: right;\n",
              "    }\n",
              "</style>\n",
              "<table border=\"1\" class=\"dataframe\">\n",
              "  <thead>\n",
              "    <tr style=\"text-align: right;\">\n",
              "      <th></th>\n",
              "      <th>จังหวัด</th>\n",
              "      <th>ผลผลิต_ปรัง(ตัน)</th>\n",
              "      <th>สัดส่วน_ปรัง</th>\n",
              "      <th>เนื้อที่_ปรัง</th>\n",
              "      <th>ผลผลิตต่อเนื้อที่_ปรัง(กก)</th>\n",
              "    </tr>\n",
              "  </thead>\n",
              "  <tbody>\n",
              "    <tr>\n",
              "      <th>2</th>\n",
              "      <td>สุพรรณบุรี</td>\n",
              "      <td>599010</td>\n",
              "      <td>0.0835</td>\n",
              "      <td>830766</td>\n",
              "      <td>721.03</td>\n",
              "    </tr>\n",
              "    <tr>\n",
              "      <th>3</th>\n",
              "      <td>นครสวรรค์</td>\n",
              "      <td>525622</td>\n",
              "      <td>0.0733</td>\n",
              "      <td>782660</td>\n",
              "      <td>671.58</td>\n",
              "    </tr>\n",
              "    <tr>\n",
              "      <th>4</th>\n",
              "      <td>อยุธยา</td>\n",
              "      <td>504311</td>\n",
              "      <td>0.0703</td>\n",
              "      <td>716664</td>\n",
              "      <td>703.69</td>\n",
              "    </tr>\n",
              "    <tr>\n",
              "      <th>5</th>\n",
              "      <td>พิษณุโลก</td>\n",
              "      <td>497596</td>\n",
              "      <td>0.0694</td>\n",
              "      <td>763706</td>\n",
              "      <td>651.55</td>\n",
              "    </tr>\n",
              "    <tr>\n",
              "      <th>6</th>\n",
              "      <td>พิจิตร</td>\n",
              "      <td>444055</td>\n",
              "      <td>0.0619</td>\n",
              "      <td>707051</td>\n",
              "      <td>628.04</td>\n",
              "    </tr>\n",
              "    <tr>\n",
              "      <th>...</th>\n",
              "      <td>...</td>\n",
              "      <td>...</td>\n",
              "      <td>...</td>\n",
              "      <td>...</td>\n",
              "      <td>...</td>\n",
              "    </tr>\n",
              "    <tr>\n",
              "      <th>67</th>\n",
              "      <td>มุกดาหาร</td>\n",
              "      <td>202</td>\n",
              "      <td>0</td>\n",
              "      <td>423</td>\n",
              "      <td>477.54</td>\n",
              "    </tr>\n",
              "    <tr>\n",
              "      <th>68</th>\n",
              "      <td>เลย</td>\n",
              "      <td>167</td>\n",
              "      <td>0</td>\n",
              "      <td>387</td>\n",
              "      <td>431.52</td>\n",
              "    </tr>\n",
              "    <tr>\n",
              "      <th>69</th>\n",
              "      <td>ยะลา</td>\n",
              "      <td>81</td>\n",
              "      <td>0</td>\n",
              "      <td>180</td>\n",
              "      <td>450</td>\n",
              "    </tr>\n",
              "    <tr>\n",
              "      <th>70</th>\n",
              "      <td>ตรัง</td>\n",
              "      <td>70</td>\n",
              "      <td>0</td>\n",
              "      <td>147</td>\n",
              "      <td>476.19</td>\n",
              "    </tr>\n",
              "    <tr>\n",
              "      <th>71</th>\n",
              "      <td>แม่ฮ่องสอน</td>\n",
              "      <td>70</td>\n",
              "      <td>0</td>\n",
              "      <td>120</td>\n",
              "      <td>583.33</td>\n",
              "    </tr>\n",
              "  </tbody>\n",
              "</table>\n",
              "<p>70 rows × 5 columns</p>\n",
              "</div>"
            ],
            "text/plain": [
              "       จังหวัด ผลผลิต_ปรัง(ตัน)  ... เนื้อที่_ปรัง ผลผลิตต่อเนื้อที่_ปรัง(กก)\n",
              "2   สุพรรณบุรี           599010  ...        830766                     721.03\n",
              "3    นครสวรรค์           525622  ...        782660                     671.58\n",
              "4       อยุธยา           504311  ...        716664                     703.69\n",
              "5     พิษณุโลก           497596  ...        763706                     651.55\n",
              "6       พิจิตร           444055  ...        707051                     628.04\n",
              "..         ...              ...  ...           ...                        ...\n",
              "67    มุกดาหาร              202  ...           423                     477.54\n",
              "68         เลย              167  ...           387                     431.52\n",
              "69        ยะลา               81  ...           180                        450\n",
              "70        ตรัง               70  ...           147                     476.19\n",
              "71  แม่ฮ่องสอน               70  ...           120                     583.33\n",
              "\n",
              "[70 rows x 5 columns]"
            ]
          },
          "metadata": {
            "tags": []
          },
          "execution_count": 68
        }
      ]
    },
    {
      "cell_type": "code",
      "metadata": {
        "id": "14YBFFlXUHx8"
      },
      "source": [
        ""
      ],
      "execution_count": null,
      "outputs": []
    }
  ]
}