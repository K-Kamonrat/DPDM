{
  "nbformat": 4,
  "nbformat_minor": 0,
  "metadata": {
    "colab": {
      "name": "rice&water.ipynb",
      "provenance": [],
      "authorship_tag": "ABX9TyNO+n7Z5iLAtA0/8q1gE9HB",
      "include_colab_link": true
    },
    "kernelspec": {
      "name": "python3",
      "display_name": "Python 3"
    }
  },
  "cells": [
    {
      "cell_type": "markdown",
      "metadata": {
        "id": "view-in-github",
        "colab_type": "text"
      },
      "source": [
        "<a href=\"https://colab.research.google.com/github/K-Kamonrat/DPDM/blob/master/rice%26water.ipynb\" target=\"_parent\"><img src=\"https://colab.research.google.com/assets/colab-badge.svg\" alt=\"Open In Colab\"/></a>"
      ]
    },
    {
      "cell_type": "code",
      "metadata": {
        "id": "Qws7_DeuJd2G"
      },
      "source": [
        "import pandas as pd"
      ],
      "execution_count": 1,
      "outputs": []
    },
    {
      "cell_type": "code",
      "metadata": {
        "id": "JHlDWda3JlN7"
      },
      "source": [
        "from google.colab import drive"
      ],
      "execution_count": 2,
      "outputs": []
    },
    {
      "cell_type": "code",
      "metadata": {
        "id": "94vLrEf5J6zF",
        "outputId": "ce4dcc2d-f764-4ffc-b791-06f110c74aca",
        "colab": {
          "base_uri": "https://localhost:8080/"
        }
      },
      "source": [
        "drive.mount('/content/drive')"
      ],
      "execution_count": 3,
      "outputs": [
        {
          "output_type": "stream",
          "text": [
            "Mounted at /content/drive\n"
          ],
          "name": "stdout"
        }
      ]
    },
    {
      "cell_type": "code",
      "metadata": {
        "id": "hbrMt6byJ-lE"
      },
      "source": [
        "import os\n",
        "path =  '/content/drive/My Drive/DPDM_Project'"
      ],
      "execution_count": 14,
      "outputs": []
    },
    {
      "cell_type": "code",
      "metadata": {
        "id": "TnF4mABsKK1Z"
      },
      "source": [
        "water = os.path.join(path, 'water.csv')"
      ],
      "execution_count": 5,
      "outputs": []
    },
    {
      "cell_type": "code",
      "metadata": {
        "id": "sdsNRWtPKS6x",
        "outputId": "553138ed-5021-4605-e378-e56c97e99d00",
        "colab": {
          "base_uri": "https://localhost:8080/",
          "height": 402
        }
      },
      "source": [
        "water_df = pd.read_csv(water)\n",
        "water_df"
      ],
      "execution_count": 6,
      "outputs": [
        {
          "output_type": "execute_result",
          "data": {
            "text/html": [
              "<div>\n",
              "<style scoped>\n",
              "    .dataframe tbody tr th:only-of-type {\n",
              "        vertical-align: middle;\n",
              "    }\n",
              "\n",
              "    .dataframe tbody tr th {\n",
              "        vertical-align: top;\n",
              "    }\n",
              "\n",
              "    .dataframe thead th {\n",
              "        text-align: right;\n",
              "    }\n",
              "</style>\n",
              "<table border=\"1\" class=\"dataframe\">\n",
              "  <thead>\n",
              "    <tr style=\"text-align: right;\">\n",
              "      <th></th>\n",
              "      <th>ID</th>\n",
              "      <th>ตำบล</th>\n",
              "      <th>อำเภอ</th>\n",
              "      <th>จังหวัด</th>\n",
              "      <th>พิกัด (X) E</th>\n",
              "      <th>พิกัด (Y) N</th>\n",
              "      <th>ปีงบประมาณ</th>\n",
              "    </tr>\n",
              "  </thead>\n",
              "  <tbody>\n",
              "    <tr>\n",
              "      <th>0</th>\n",
              "      <td>1</td>\n",
              "      <td>เกาะกลาง</td>\n",
              "      <td>เกาะลันตา</td>\n",
              "      <td>กระบี่</td>\n",
              "      <td>505670</td>\n",
              "      <td>858758</td>\n",
              "      <td>2559</td>\n",
              "    </tr>\n",
              "    <tr>\n",
              "      <th>1</th>\n",
              "      <td>2</td>\n",
              "      <td>เกาะกลาง</td>\n",
              "      <td>เกาะลันตา</td>\n",
              "      <td>กระบี่</td>\n",
              "      <td>506333</td>\n",
              "      <td>861539</td>\n",
              "      <td>2559</td>\n",
              "    </tr>\n",
              "    <tr>\n",
              "      <th>2</th>\n",
              "      <td>3</td>\n",
              "      <td>เกาะลันตาน้อย</td>\n",
              "      <td>เกาะลันตา</td>\n",
              "      <td>กระบี่</td>\n",
              "      <td>513081</td>\n",
              "      <td>840391</td>\n",
              "      <td>2559</td>\n",
              "    </tr>\n",
              "    <tr>\n",
              "      <th>3</th>\n",
              "      <td>4</td>\n",
              "      <td>เกาะลันตาน้อย</td>\n",
              "      <td>เกาะลันตา</td>\n",
              "      <td>กระบี่</td>\n",
              "      <td>512434</td>\n",
              "      <td>842817</td>\n",
              "      <td>2559</td>\n",
              "    </tr>\n",
              "    <tr>\n",
              "      <th>4</th>\n",
              "      <td>5</td>\n",
              "      <td>เกาะลันตาน้อย</td>\n",
              "      <td>เกาะลันตา</td>\n",
              "      <td>กระบี่</td>\n",
              "      <td>512451</td>\n",
              "      <td>842706</td>\n",
              "      <td>2559</td>\n",
              "    </tr>\n",
              "    <tr>\n",
              "      <th>...</th>\n",
              "      <td>...</td>\n",
              "      <td>...</td>\n",
              "      <td>...</td>\n",
              "      <td>...</td>\n",
              "      <td>...</td>\n",
              "      <td>...</td>\n",
              "      <td>...</td>\n",
              "    </tr>\n",
              "    <tr>\n",
              "      <th>14426</th>\n",
              "      <td>14427</td>\n",
              "      <td>เหล่าเสือโก้ก</td>\n",
              "      <td>เหล่าเสือโก้ก</td>\n",
              "      <td>อุบลราชธานี</td>\n",
              "      <td>1134830</td>\n",
              "      <td>1709650</td>\n",
              "      <td>2559</td>\n",
              "    </tr>\n",
              "    <tr>\n",
              "      <th>14427</th>\n",
              "      <td>14428</td>\n",
              "      <td>เหล่าเสือโก้ก</td>\n",
              "      <td>เหล่าเสือโก้ก</td>\n",
              "      <td>อุบลราชธานี</td>\n",
              "      <td>1135160</td>\n",
              "      <td>1709614</td>\n",
              "      <td>2559</td>\n",
              "    </tr>\n",
              "    <tr>\n",
              "      <th>14428</th>\n",
              "      <td>14429</td>\n",
              "      <td>เหล่าเสือโก้ก</td>\n",
              "      <td>เหล่าเสือโก้ก</td>\n",
              "      <td>อุบลราชธานี</td>\n",
              "      <td>1134023</td>\n",
              "      <td>1708384</td>\n",
              "      <td>2559</td>\n",
              "    </tr>\n",
              "    <tr>\n",
              "      <th>14429</th>\n",
              "      <td>14430</td>\n",
              "      <td>เหล่าเสือโก้ก</td>\n",
              "      <td>เหล่าเสือโก้ก</td>\n",
              "      <td>อุบลราชธานี</td>\n",
              "      <td>1133663</td>\n",
              "      <td>1710891</td>\n",
              "      <td>2559</td>\n",
              "    </tr>\n",
              "    <tr>\n",
              "      <th>14430</th>\n",
              "      <td>14431</td>\n",
              "      <td>เหล่าเสือโก้ก</td>\n",
              "      <td>เหล่าเสือโก้ก</td>\n",
              "      <td>อุบลราชธานี</td>\n",
              "      <td>1128373</td>\n",
              "      <td>1706009</td>\n",
              "      <td>2559</td>\n",
              "    </tr>\n",
              "  </tbody>\n",
              "</table>\n",
              "<p>14431 rows × 7 columns</p>\n",
              "</div>"
            ],
            "text/plain": [
              "          ID           ตำบล  ... พิกัด (Y) N ปีงบประมาณ\n",
              "0          1       เกาะกลาง  ...      858758       2559\n",
              "1          2       เกาะกลาง  ...      861539       2559\n",
              "2          3  เกาะลันตาน้อย  ...      840391       2559\n",
              "3          4  เกาะลันตาน้อย  ...      842817       2559\n",
              "4          5  เกาะลันตาน้อย  ...      842706       2559\n",
              "...      ...            ...  ...         ...        ...\n",
              "14426  14427  เหล่าเสือโก้ก  ...     1709650       2559\n",
              "14427  14428  เหล่าเสือโก้ก  ...     1709614       2559\n",
              "14428  14429  เหล่าเสือโก้ก  ...     1708384       2559\n",
              "14429  14430  เหล่าเสือโก้ก  ...     1710891       2559\n",
              "14430  14431  เหล่าเสือโก้ก  ...     1706009       2559\n",
              "\n",
              "[14431 rows x 7 columns]"
            ]
          },
          "metadata": {
            "tags": []
          },
          "execution_count": 6
        }
      ]
    },
    {
      "cell_type": "code",
      "metadata": {
        "id": "yEu0YGuIPHMn"
      },
      "source": [
        "#water_province =  water_df.groupby('จังหวัด').count()\n",
        "#water_province"
      ],
      "execution_count": 7,
      "outputs": []
    },
    {
      "cell_type": "code",
      "metadata": {
        "id": "2IXZz9xVKvjO",
        "outputId": "25296436-7ec2-4906-8dac-795b1c9e7c67",
        "colab": {
          "base_uri": "https://localhost:8080/"
        }
      },
      "source": [
        "water_province = water_df.groupby('จังหวัด')['พิกัด (X) E'].apply(list) #reduced_marketbasket_df = data\n",
        "water_province"
      ],
      "execution_count": 8,
      "outputs": [
        {
          "output_type": "execute_result",
          "data": {
            "text/plain": [
              "จังหวัด\n",
              "กระบี่             [505670, 506333, 513081, 512434, 512451, 50900...\n",
              "กาญจนบุรี          [576560, 576436, 577200, 576421, 577564, 57541...\n",
              "กาฬสินธุ์          [994781, 994743, 998744, 999044, 994711, 99454...\n",
              "กำแพงเพชร          [584110, 583974, 580442, 578640, 580537, 58403...\n",
              "ขอนแก่น            [941894, 944689, 942653, 943287, 943763, 94465...\n",
              "จันทบุรี           [806772, 806053, 806806, 803810, 840014, 85796...\n",
              "ฉะเชิงเทรา         [732420, 731641, 731635, 731008, 730164, 73205...\n",
              "ชลบุรี             [757246, 773766, 758937, 770962, 758795, 76725...\n",
              "ชัยนาท             [596232, 598104, 597668, 598408, 597619, 59754...\n",
              "ชัยภูมิ            [811697, 813512, 809210, 814292, 810713, 80676...\n",
              "ชุมพร              [517313, 523269, 523801, 515842, 512929, 51484...\n",
              "ตรัง               [553590, 557012, 553673, 553768, 546026, 56398...\n",
              "ตราด               [876270, 876358, 864518, 867496, 876428, 87927...\n",
              "ตาก                [501128, 502008, 501438, 502763, 502713, 50166...\n",
              "นครพนม                                            [1055081, 1056396]\n",
              "นครราชสีมา         [817498, 810369, 816244, 811983, 814521, 81312...\n",
              "นครสวรรค์          [643801, 634122, 631827, 632447, 633220, 63354...\n",
              "นราธิวาส           [834269, 834715, 840571, 795100, 794910, 79540...\n",
              "น่าน               [680816, 684863, 683985, 683821, 683578, 69308...\n",
              "บึงกาฬ             [1026967, 1026147, 1027284, 1026834, 1024400, ...\n",
              "บุรีรัมย์          [959697, 959918, 965400, 954022, 951218, 95438...\n",
              "ประจวบคีรีขันธ์    [594634, 594634, 594634, 561874, 570945, 57106...\n",
              "ปัตตานี            [731574, 731602, 772487, 772390, 772041, 77311...\n",
              "พะเยา              [624593, 625195, 621308, 621042, 626618, 62608...\n",
              "พังงา              [440171, 436587, 430506, 430251, 424923, 42964...\n",
              "พิจิตร             [668083, 666972, 665843, 666963, 669201, 67134...\n",
              "พิษณุโลก           [703045, 676392, 678215, 678653, 679948, 67341...\n",
              "มหาสารคาม          [947300, 945759, 945619, 944035, 947790, 94336...\n",
              "มุกดาหาร           [1081006, 1075334, 1067134, 1068098, 1076460, ...\n",
              "ยะลา               [752436, 749715, 752966, 752267, 747634, 74750...\n",
              "ยโสธร              [1072850, 1076871, 1073169, 1077793, 1074008, ...\n",
              "ระยอง              [786579, 781625, 781585, 799739, 799747, 73890...\n",
              "ราชบุรี            [548441, 549517, 554418, 548460, 554304, 54857...\n",
              "ลพบุรี             [681178, 681936, 678850, 683110, 684664, 68452...\n",
              "ลำปาง              [519055, 519318, 519236, 519339, 520175, 51818...\n",
              "ลำพูน              [469540, 470311, 470035, 469945, 470732, 46672...\n",
              "ศรีสะเกษ           [1119661, 1119597, 1119592, 1119765, 1118598, ...\n",
              "สกลนคร             [1013679, 1015055, 1076747, 1069000, 1069343, ...\n",
              "สงขลา              [660331, 660113, 658276, 658332, 658229, 66171...\n",
              "สระบุรี            [717143, 721083, 717120, 720493, 720804, 72046...\n",
              "สระแก้ว            [824510, 820805, 815463, 823008, 818283, 81947...\n",
              "สุพรรณบุรี         [606202, 606034, 606135, 605967, 625457, 62567...\n",
              "สุโขทัย            [548423, 546391, 552846, 540530, 551841, 55295...\n",
              "หนองคาย            [872342, 874588, 874518, 873910, 875897, 87586...\n",
              "หนองบัวลำภู        [845119, 844197, 851903, 848046, 845649, 84767...\n",
              "อำนาจเจริญ         [1108696, 1101395, 1083768, 1109041, 1108028, ...\n",
              "อุดรธานี           [865085, 869633, 866474, 866563, 868554, 86907...\n",
              "อุทัยธานี          [579495, 599406, 583004, 583036, 584610, 58791...\n",
              "อุบลราชธานี        [1145767, 1129279, 1128239, 1150540, 1141908, ...\n",
              "เชียงราย           [623109, 623111, 624386, 622620, 622266, 61898...\n",
              "เชียงใหม่          [487927, 498333, 496928, 496721, 495460, 49615...\n",
              "เพชรบุรี           [577024, 586713, 585160, 583800, 585169, 58506...\n",
              "เพชรบูรณ์          [683437, 684148, 684247, 682635, 681634, 68338...\n",
              "เลย                [795212, 793422, 791834, 794884, 794037, 79491...\n",
              "แพร่               [638140, 637008, 639302, 637010, 637629, 63771...\n",
              "Name: พิกัด (X) E, dtype: object"
            ]
          },
          "metadata": {
            "tags": []
          },
          "execution_count": 8
        }
      ]
    },
    {
      "cell_type": "code",
      "metadata": {
        "id": "T8XNJb4RO8zW",
        "outputId": "9340e3c7-ecb4-4b48-a44d-9a37bbc98711",
        "colab": {
          "base_uri": "https://localhost:8080/"
        }
      },
      "source": [
        "len(water_province)"
      ],
      "execution_count": 11,
      "outputs": [
        {
          "output_type": "execute_result",
          "data": {
            "text/plain": [
              "55"
            ]
          },
          "metadata": {
            "tags": []
          },
          "execution_count": 11
        }
      ]
    },
    {
      "cell_type": "code",
      "metadata": {
        "id": "_Zh47286mtS_"
      },
      "source": [
        "pee = os.path.join(path,'pee.xlsx')\n",
        "pee_1 = pd.read_excel(pee)\n",
        "prang = os.path.join(path,'prang.xlsx')\n",
        "prang_1 = pd.read_excel(prang)"
      ],
      "execution_count": 25,
      "outputs": []
    },
    {
      "cell_type": "code",
      "metadata": {
        "id": "-Id15bPom-gB",
        "outputId": "b3f8b0d9-8cf8-4df8-81b7-6892a72f68f8",
        "colab": {
          "base_uri": "https://localhost:8080/",
          "height": 402
        }
      },
      "source": [
        "pee_1"
      ],
      "execution_count": 24,
      "outputs": [
        {
          "output_type": "execute_result",
          "data": {
            "text/html": [
              "<div>\n",
              "<style scoped>\n",
              "    .dataframe tbody tr th:only-of-type {\n",
              "        vertical-align: middle;\n",
              "    }\n",
              "\n",
              "    .dataframe tbody tr th {\n",
              "        vertical-align: top;\n",
              "    }\n",
              "\n",
              "    .dataframe thead th {\n",
              "        text-align: right;\n",
              "    }\n",
              "</style>\n",
              "<table border=\"1\" class=\"dataframe\">\n",
              "  <thead>\n",
              "    <tr style=\"text-align: right;\">\n",
              "      <th></th>\n",
              "      <th>สำนักงานเศรษฐกิจการเกษตร | สินค้าเกษตรข้าวนาปี</th>\n",
              "      <th>Unnamed: 1</th>\n",
              "      <th>Unnamed: 2</th>\n",
              "      <th>Unnamed: 3</th>\n",
              "      <th>Unnamed: 4</th>\n",
              "    </tr>\n",
              "  </thead>\n",
              "  <tbody>\n",
              "    <tr>\n",
              "      <th>0</th>\n",
              "      <td>ผลผลิตข้าวนาปีแยกตามจังหวัด ปี 2562</td>\n",
              "      <td>NaN</td>\n",
              "      <td>NaN</td>\n",
              "      <td>NaN</td>\n",
              "      <td>NaN</td>\n",
              "    </tr>\n",
              "    <tr>\n",
              "      <th>1</th>\n",
              "      <td>จังหวัด</td>\n",
              "      <td>ผลผลิต(ตัน)</td>\n",
              "      <td>สัดส่วน</td>\n",
              "      <td>เนื้อที่เก็บเกี่ยว(ไร่)</td>\n",
              "      <td>ผลผลิตต่อเนื้อที่เก็บเกี่ยว(กก.)</td>\n",
              "    </tr>\n",
              "    <tr>\n",
              "      <th>2</th>\n",
              "      <td>อุบลราชธานี</td>\n",
              "      <td>1406996</td>\n",
              "      <td>0.0545</td>\n",
              "      <td>3879360</td>\n",
              "      <td>362.69</td>\n",
              "    </tr>\n",
              "    <tr>\n",
              "      <th>3</th>\n",
              "      <td>นครสวรรค์</td>\n",
              "      <td>1359065</td>\n",
              "      <td>0.0527</td>\n",
              "      <td>2273197</td>\n",
              "      <td>597.87</td>\n",
              "    </tr>\n",
              "    <tr>\n",
              "      <th>4</th>\n",
              "      <td>นครราชสีมา</td>\n",
              "      <td>1101661</td>\n",
              "      <td>0.0427</td>\n",
              "      <td>3035540</td>\n",
              "      <td>362.92</td>\n",
              "    </tr>\n",
              "    <tr>\n",
              "      <th>...</th>\n",
              "      <td>...</td>\n",
              "      <td>...</td>\n",
              "      <td>...</td>\n",
              "      <td>...</td>\n",
              "      <td>...</td>\n",
              "    </tr>\n",
              "    <tr>\n",
              "      <th>74</th>\n",
              "      <td>ชุมพร</td>\n",
              "      <td>1499</td>\n",
              "      <td>0.0001</td>\n",
              "      <td>3374</td>\n",
              "      <td>444.28</td>\n",
              "    </tr>\n",
              "    <tr>\n",
              "      <th>75</th>\n",
              "      <td>สมุทรสงคราม</td>\n",
              "      <td>1493</td>\n",
              "      <td>0.0001</td>\n",
              "      <td>2094</td>\n",
              "      <td>712.99</td>\n",
              "    </tr>\n",
              "    <tr>\n",
              "      <th>76</th>\n",
              "      <td>พังงา</td>\n",
              "      <td>964</td>\n",
              "      <td>0</td>\n",
              "      <td>2976</td>\n",
              "      <td>323.92</td>\n",
              "    </tr>\n",
              "    <tr>\n",
              "      <th>77</th>\n",
              "      <td>ระนอง</td>\n",
              "      <td>259</td>\n",
              "      <td>0</td>\n",
              "      <td>750</td>\n",
              "      <td>345.33</td>\n",
              "    </tr>\n",
              "    <tr>\n",
              "      <th>78</th>\n",
              "      <td>ภูเก็ต</td>\n",
              "      <td>32</td>\n",
              "      <td>0</td>\n",
              "      <td>62</td>\n",
              "      <td>516.13</td>\n",
              "    </tr>\n",
              "  </tbody>\n",
              "</table>\n",
              "<p>79 rows × 5 columns</p>\n",
              "</div>"
            ],
            "text/plain": [
              "   สำนักงานเศรษฐกิจการเกษตร | สินค้าเกษตรข้าวนาปี  ...                        Unnamed: 4\n",
              "0             ผลผลิตข้าวนาปีแยกตามจังหวัด ปี 2562  ...                               NaN\n",
              "1                                         จังหวัด  ...  ผลผลิตต่อเนื้อที่เก็บเกี่ยว(กก.)\n",
              "2                                     อุบลราชธานี  ...                            362.69\n",
              "3                                       นครสวรรค์  ...                            597.87\n",
              "4                                      นครราชสีมา  ...                            362.92\n",
              "..                                            ...  ...                               ...\n",
              "74                                          ชุมพร  ...                            444.28\n",
              "75                                    สมุทรสงคราม  ...                            712.99\n",
              "76                                          พังงา  ...                            323.92\n",
              "77                                          ระนอง  ...                            345.33\n",
              "78                                         ภูเก็ต  ...                            516.13\n",
              "\n",
              "[79 rows x 5 columns]"
            ]
          },
          "metadata": {
            "tags": []
          },
          "execution_count": 24
        }
      ]
    },
    {
      "cell_type": "code",
      "metadata": {
        "id": "O7Gtop21nkSa",
        "outputId": "f784161e-5b9c-499d-915c-6f8fe6e388c3",
        "colab": {
          "base_uri": "https://localhost:8080/",
          "height": 402
        }
      },
      "source": [
        "prang_1"
      ],
      "execution_count": 26,
      "outputs": [
        {
          "output_type": "execute_result",
          "data": {
            "text/html": [
              "<div>\n",
              "<style scoped>\n",
              "    .dataframe tbody tr th:only-of-type {\n",
              "        vertical-align: middle;\n",
              "    }\n",
              "\n",
              "    .dataframe tbody tr th {\n",
              "        vertical-align: top;\n",
              "    }\n",
              "\n",
              "    .dataframe thead th {\n",
              "        text-align: right;\n",
              "    }\n",
              "</style>\n",
              "<table border=\"1\" class=\"dataframe\">\n",
              "  <thead>\n",
              "    <tr style=\"text-align: right;\">\n",
              "      <th></th>\n",
              "      <th>สำนักงานเศรษฐกิจการเกษตร | สินค้าเกษตรข้าวนาปรัง</th>\n",
              "      <th>Unnamed: 1</th>\n",
              "      <th>Unnamed: 2</th>\n",
              "      <th>Unnamed: 3</th>\n",
              "      <th>Unnamed: 4</th>\n",
              "    </tr>\n",
              "  </thead>\n",
              "  <tbody>\n",
              "    <tr>\n",
              "      <th>0</th>\n",
              "      <td>ผลผลิตข้าวนาปรังแยกตามจังหวัด ปี 2562</td>\n",
              "      <td>NaN</td>\n",
              "      <td>NaN</td>\n",
              "      <td>NaN</td>\n",
              "      <td>NaN</td>\n",
              "    </tr>\n",
              "    <tr>\n",
              "      <th>1</th>\n",
              "      <td>จังหวัด</td>\n",
              "      <td>ผลผลิต(ตัน)</td>\n",
              "      <td>สัดส่วน</td>\n",
              "      <td>เนื้อที่เก็บเกี่ยว(ไร่)</td>\n",
              "      <td>ผลผลิตต่อเนื้อที่เก็บเกี่ยว(กก.)</td>\n",
              "    </tr>\n",
              "    <tr>\n",
              "      <th>2</th>\n",
              "      <td>สุพรรณบุรี</td>\n",
              "      <td>599010</td>\n",
              "      <td>0.0835</td>\n",
              "      <td>830766</td>\n",
              "      <td>721.03</td>\n",
              "    </tr>\n",
              "    <tr>\n",
              "      <th>3</th>\n",
              "      <td>นครสวรรค์</td>\n",
              "      <td>525622</td>\n",
              "      <td>0.0733</td>\n",
              "      <td>782660</td>\n",
              "      <td>671.58</td>\n",
              "    </tr>\n",
              "    <tr>\n",
              "      <th>4</th>\n",
              "      <td>อยุธยา</td>\n",
              "      <td>504311</td>\n",
              "      <td>0.0703</td>\n",
              "      <td>716664</td>\n",
              "      <td>703.69</td>\n",
              "    </tr>\n",
              "    <tr>\n",
              "      <th>...</th>\n",
              "      <td>...</td>\n",
              "      <td>...</td>\n",
              "      <td>...</td>\n",
              "      <td>...</td>\n",
              "      <td>...</td>\n",
              "    </tr>\n",
              "    <tr>\n",
              "      <th>67</th>\n",
              "      <td>มุกดาหาร</td>\n",
              "      <td>202</td>\n",
              "      <td>0</td>\n",
              "      <td>423</td>\n",
              "      <td>477.54</td>\n",
              "    </tr>\n",
              "    <tr>\n",
              "      <th>68</th>\n",
              "      <td>เลย</td>\n",
              "      <td>167</td>\n",
              "      <td>0</td>\n",
              "      <td>387</td>\n",
              "      <td>431.52</td>\n",
              "    </tr>\n",
              "    <tr>\n",
              "      <th>69</th>\n",
              "      <td>ยะลา</td>\n",
              "      <td>81</td>\n",
              "      <td>0</td>\n",
              "      <td>180</td>\n",
              "      <td>450</td>\n",
              "    </tr>\n",
              "    <tr>\n",
              "      <th>70</th>\n",
              "      <td>ตรัง</td>\n",
              "      <td>70</td>\n",
              "      <td>0</td>\n",
              "      <td>147</td>\n",
              "      <td>476.19</td>\n",
              "    </tr>\n",
              "    <tr>\n",
              "      <th>71</th>\n",
              "      <td>แม่ฮ่องสอน</td>\n",
              "      <td>70</td>\n",
              "      <td>0</td>\n",
              "      <td>120</td>\n",
              "      <td>583.33</td>\n",
              "    </tr>\n",
              "  </tbody>\n",
              "</table>\n",
              "<p>72 rows × 5 columns</p>\n",
              "</div>"
            ],
            "text/plain": [
              "   สำนักงานเศรษฐกิจการเกษตร | สินค้าเกษตรข้าวนาปรัง  ...                        Unnamed: 4\n",
              "0             ผลผลิตข้าวนาปรังแยกตามจังหวัด ปี 2562  ...                               NaN\n",
              "1                                           จังหวัด  ...  ผลผลิตต่อเนื้อที่เก็บเกี่ยว(กก.)\n",
              "2                                        สุพรรณบุรี  ...                            721.03\n",
              "3                                         นครสวรรค์  ...                            671.58\n",
              "4                                            อยุธยา  ...                            703.69\n",
              "..                                              ...  ...                               ...\n",
              "67                                         มุกดาหาร  ...                            477.54\n",
              "68                                              เลย  ...                            431.52\n",
              "69                                             ยะลา  ...                               450\n",
              "70                                             ตรัง  ...                            476.19\n",
              "71                                       แม่ฮ่องสอน  ...                            583.33\n",
              "\n",
              "[72 rows x 5 columns]"
            ]
          },
          "metadata": {
            "tags": []
          },
          "execution_count": 26
        }
      ]
    },
    {
      "cell_type": "code",
      "metadata": {
        "id": "sOUXBIZeo0Dy"
      },
      "source": [
        ""
      ],
      "execution_count": null,
      "outputs": []
    }
  ]
}